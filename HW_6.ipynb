{
  "nbformat": 4,
  "nbformat_minor": 0,
  "metadata": {
    "kernelspec": {
      "display_name": "Python 3",
      "language": "python",
      "name": "python3"
    },
    "language_info": {
      "codemirror_mode": {
        "name": "ipython",
        "version": 3
      },
      "file_extension": ".py",
      "mimetype": "text/x-python",
      "name": "python",
      "nbconvert_exporter": "python",
      "pygments_lexer": "ipython3",
      "version": "3.6.7"
    },
    "colab": {
      "name": "HW-6.ipynb",
      "provenance": [],
      "collapsed_sections": [],
      "include_colab_link": true
    }
  },
  "cells": [
    {
      "cell_type": "markdown",
      "metadata": {
        "id": "view-in-github",
        "colab_type": "text"
      },
      "source": [
        "<a href=\"https://colab.research.google.com/github/amitshakarchy/big-data-analysis/blob/main/HW_6.ipynb\" target=\"_parent\"><img src=\"https://colab.research.google.com/assets/colab-badge.svg\" alt=\"Open In Colab\"/></a>"
      ]
    },
    {
      "cell_type": "markdown",
      "metadata": {
        "id": "Lk4SYi285zN3"
      },
      "source": [
        "Name: Amit Shakarchy\n",
        "\n",
        "Github link: https://github.com/amitshakarchy/big-data-analysis"
      ]
    },
    {
      "cell_type": "markdown",
      "metadata": {
        "id": "ATxpf1JpbCyE"
      },
      "source": [
        "# Homework Assignment  6"
      ]
    },
    {
      "cell_type": "markdown",
      "metadata": {
        "id": "T6nDeYS6bCyF"
      },
      "source": [
        "**Question 1:** Construct a sentiment classifier using 80% of the reviews in the [Amazon Fine Food Reviews dataset](https://www.kaggle.com/snap/amazon-fine-food-reviews).\n",
        "The classifier needs to predict if a product got a one-star or a five-star review. \n",
        "Evaluate the classifier using the rest of the data (30pt). \n"
      ]
    },
    {
      "cell_type": "code",
      "metadata": {
        "id": "cIoqk24KbCyG",
        "colab": {
          "base_uri": "https://localhost:8080/"
        },
        "outputId": "e54a614e-8f14-468a-fd66-997145123ab8"
      },
      "source": [
        "#setting up Kaggle & TuriCreate package s\n",
        "import json\n",
        "import os\n",
        "\n",
        "!mkdir /root/.kaggle/\n",
        "# Installing the Kaggle package\n",
        "\n",
        "#Important Note: complete this with your own key - after running this for the first time remmember to **remove** your API_KEY\n",
        "api_token = {\"username\":\"aamitshakarchy\",\"key\":\"004ade6e43f08b393cf10784d7e16ab0\"}\n",
        "\n",
        "# creating kaggle.json file with the personal API-Key details \n",
        "# You can also put this file on your Google Drive\n",
        "\n",
        "with open('/root/.kaggle/kaggle.json', 'w') as file:\n",
        "  json.dump(api_token, file)\n",
        "!chmod 600 /root/.kaggle/kaggle.json"
      ],
      "execution_count": 39,
      "outputs": [
        {
          "output_type": "stream",
          "name": "stdout",
          "text": [
            "mkdir: cannot create directory ‘/root/.kaggle/’: File exists\n"
          ]
        }
      ]
    },
    {
      "cell_type": "code",
      "metadata": {
        "colab": {
          "base_uri": "https://localhost:8080/"
        },
        "id": "sOE87o0ZRZFj",
        "outputId": "e86b0e22-82c4-44e7-9af7-c55d2f671122"
      },
      "source": [
        "!kaggle datasets list -s 'amazon fine food reviews'"
      ],
      "execution_count": null,
      "outputs": [
        {
          "output_type": "stream",
          "name": "stdout",
          "text": [
            "Warning: Looks like you're using an outdated API Version, please consider updating (server 1.5.12 / client 1.5.4)\n",
            "ref                                                            title                                              size  lastUpdated          downloadCount  \n",
            "-------------------------------------------------------------  ------------------------------------------------  -----  -------------------  -------------  \n",
            "snap/amazon-fine-food-reviews                                  Amazon Fine Food Reviews                          242MB  2017-05-01 18:51:31         109412  \n",
            "ajaysh/amazon-fine-food-reviews                                Amazon Fine Food Reviews                          128MB  2018-05-15 10:01:32            269  \n",
            "rickyjli/chinese-fine-art                                      Chinese Fine Art                                  323MB  2020-05-02 03:00:40            477  \n",
            "synergystud/a-fine-windy-day-hackerearth-ml-challenge          A Fine Windy Day                                    6MB  2021-04-28 14:47:56            266  \n",
            "abhinandan103/amazon-fine-food-review                          amazon fine food review                           115MB  2018-08-08 12:29:12            218  \n",
            "riblidezso/jigsaw-mlm-finetuned-xlm-r-large                    jigsaw mlm finetuned xlm r large                    3GB  2020-06-06 19:30:19             85  \n",
            "julian3833/sartorius-resnet-34-classifier-finetuned            sartorius-resnet-34-classifier-finetuned           75MB  2021-10-24 21:12:55             29  \n",
            "sauravmaheshkar/chaiifinetunedbaselinemodels                   chaii-finetuned-baseline-models                    12GB  2021-08-30 05:57:57              9  \n",
            "omduggineni/gpt2simple-all-models-not-finetuned                gpt-2-simple (all models, not finetuned)           10GB  2020-08-14 03:46:30              7  \n",
            "andreibuliga1/gdpr-fines-20182020-updated-23012021             GDPR Fines 2018-2020 Updated 23.01.2021            70KB  2021-01-25 20:07:32             68  \n",
            "vered1986/context-lexinf                                       Fine-grained Context-sensitive Lexical Inference    1MB  2017-08-12 10:12:46            200  \n",
            "eljailarisuhonen/gdpr-fines-in-eu-20182019-120-rows-8-columns  GDPR fines in EU 2018-2019 (120 rows, 8 columns)    4KB  2019-12-10 07:25:43            111  \n",
            "jionie/bertlargewholewordmaskingfinetunedsquad                 bert-large-whole-word-masking-finetuned-squad       2GB  2020-04-02 18:06:21             55  \n",
            "hemannt/amazon-fine-food                                       Amazon Fine Food                                  118MB  2021-07-15 10:40:56              1  \n",
            "kianwee/agricultural-raw-material-prices-19902020              Agricultural Raw Material prices (1990-2020)       23KB  2020-05-27 04:51:29           1738  \n",
            "jessicali9530/stanford-dogs-dataset                            Stanford Dogs Dataset                             750MB  2019-11-13 06:20:35          21542  \n",
            "datafan07/finetuned-model1                                     finetuned_model1                                    1GB  2021-05-10 00:21:25             39  \n",
            "kkhandekar/hourly-fidas-measurement                            Fine Dust Measurement [2018-2019]                 343KB  2020-10-01 00:30:51             19  \n",
            "fmominsfdc/logistic-regression-on-amazon-fine-food-review      Logistic Regression on Amazon Fine Food Review    713KB  2020-04-03 18:42:58             24  \n",
            "slothkong/10-monkey-species                                    10 Monkey Species                                 547MB  2018-06-28 01:38:58          18010  \n"
          ]
        }
      ]
    },
    {
      "cell_type": "code",
      "metadata": {
        "colab": {
          "base_uri": "https://localhost:8080/"
        },
        "id": "LmDP0O6rRgSe",
        "outputId": "e65d40a6-a46e-4410-e7c4-e29d767bb3cf"
      },
      "source": [
        "!mkdir ./datasets\n",
        "!mkdir ./datasets/FoodReviews\n",
        "\n",
        "# download the dataset from Kaggle and unzip it\n",
        "!kaggle datasets download snap/amazon-fine-food-reviews -p ./datasets/FoodReviews\n",
        "!unzip ./datasets/FoodReviews/*.zip  -d ./datasets/FoodReviews/"
      ],
      "execution_count": 40,
      "outputs": [
        {
          "output_type": "stream",
          "name": "stdout",
          "text": [
            "mkdir: cannot create directory ‘./datasets’: File exists\n",
            "mkdir: cannot create directory ‘./datasets/FoodReviews’: File exists\n",
            "amazon-fine-food-reviews.zip: Skipping, found more recently modified local copy (use --force to force download)\n",
            "Archive:  ./datasets/FoodReviews/amazon-fine-food-reviews.zip\n",
            "replace ./datasets/FoodReviews/Reviews.csv? [y]es, [n]o, [A]ll, [N]one, [r]ename: n\n",
            "replace ./datasets/FoodReviews/database.sqlite? [y]es, [n]o, [A]ll, [N]one, [r]ename: n\n",
            "replace ./datasets/FoodReviews/hashes.txt? [y]es, [n]o, [A]ll, [N]one, [r]ename: n\n"
          ]
        }
      ]
    },
    {
      "cell_type": "code",
      "metadata": {
        "colab": {
          "base_uri": "https://localhost:8080/",
          "height": 1000
        },
        "id": "ijVe5tHwTLNj",
        "outputId": "ca3e876e-0a8c-4058-f1aa-6a6b9d5f451f"
      },
      "source": [
        "!pip install kaggle \n",
        "!pip install gensim\n",
        "!pip install pyLDAvis\n",
        "!pip install spaCy\n",
        "!pip install afinn"
      ],
      "execution_count": 41,
      "outputs": [
        {
          "output_type": "stream",
          "name": "stdout",
          "text": [
            "Requirement already satisfied: kaggle in /usr/local/lib/python3.7/dist-packages (1.5.12)\n",
            "Requirement already satisfied: certifi in /usr/local/lib/python3.7/dist-packages (from kaggle) (2021.10.8)\n",
            "Requirement already satisfied: urllib3 in /usr/local/lib/python3.7/dist-packages (from kaggle) (1.24.3)\n",
            "Requirement already satisfied: python-slugify in /usr/local/lib/python3.7/dist-packages (from kaggle) (5.0.2)\n",
            "Requirement already satisfied: python-dateutil in /usr/local/lib/python3.7/dist-packages (from kaggle) (2.8.2)\n",
            "Requirement already satisfied: requests in /usr/local/lib/python3.7/dist-packages (from kaggle) (2.23.0)\n",
            "Requirement already satisfied: tqdm in /usr/local/lib/python3.7/dist-packages (from kaggle) (4.62.3)\n",
            "Requirement already satisfied: six>=1.10 in /usr/local/lib/python3.7/dist-packages (from kaggle) (1.15.0)\n",
            "Requirement already satisfied: text-unidecode>=1.3 in /usr/local/lib/python3.7/dist-packages (from python-slugify->kaggle) (1.3)\n",
            "Requirement already satisfied: idna<3,>=2.5 in /usr/local/lib/python3.7/dist-packages (from requests->kaggle) (2.10)\n",
            "Requirement already satisfied: chardet<4,>=3.0.2 in /usr/local/lib/python3.7/dist-packages (from requests->kaggle) (3.0.4)\n",
            "Requirement already satisfied: gensim in /usr/local/lib/python3.7/dist-packages (3.6.0)\n",
            "Requirement already satisfied: scipy>=0.18.1 in /usr/local/lib/python3.7/dist-packages (from gensim) (1.4.1)\n",
            "Requirement already satisfied: six>=1.5.0 in /usr/local/lib/python3.7/dist-packages (from gensim) (1.15.0)\n",
            "Requirement already satisfied: numpy>=1.11.3 in /usr/local/lib/python3.7/dist-packages (from gensim) (1.18.5)\n",
            "Requirement already satisfied: smart-open>=1.2.1 in /usr/local/lib/python3.7/dist-packages (from gensim) (5.2.1)\n",
            "Requirement already satisfied: pyLDAvis in /usr/local/lib/python3.7/dist-packages (3.3.1)\n",
            "Collecting numpy>=1.20.0\n",
            "  Using cached numpy-1.21.4-cp37-cp37m-manylinux_2_12_x86_64.manylinux2010_x86_64.whl (15.7 MB)\n",
            "Requirement already satisfied: jinja2 in /usr/local/lib/python3.7/dist-packages (from pyLDAvis) (2.11.3)\n",
            "Requirement already satisfied: pandas>=1.2.0 in /usr/local/lib/python3.7/dist-packages (from pyLDAvis) (1.3.4)\n",
            "Requirement already satisfied: joblib in /usr/local/lib/python3.7/dist-packages (from pyLDAvis) (1.1.0)\n",
            "Requirement already satisfied: sklearn in /usr/local/lib/python3.7/dist-packages (from pyLDAvis) (0.0)\n",
            "Requirement already satisfied: numexpr in /usr/local/lib/python3.7/dist-packages (from pyLDAvis) (2.7.3)\n",
            "Requirement already satisfied: setuptools in /usr/local/lib/python3.7/dist-packages (from pyLDAvis) (57.4.0)\n",
            "Requirement already satisfied: funcy in /usr/local/lib/python3.7/dist-packages (from pyLDAvis) (1.16)\n",
            "Requirement already satisfied: future in /usr/local/lib/python3.7/dist-packages (from pyLDAvis) (0.16.0)\n",
            "Requirement already satisfied: gensim in /usr/local/lib/python3.7/dist-packages (from pyLDAvis) (3.6.0)\n",
            "Requirement already satisfied: scikit-learn in /usr/local/lib/python3.7/dist-packages (from pyLDAvis) (1.0.1)\n",
            "Requirement already satisfied: scipy in /usr/local/lib/python3.7/dist-packages (from pyLDAvis) (1.4.1)\n",
            "Requirement already satisfied: python-dateutil>=2.7.3 in /usr/local/lib/python3.7/dist-packages (from pandas>=1.2.0->pyLDAvis) (2.8.2)\n",
            "Requirement already satisfied: pytz>=2017.3 in /usr/local/lib/python3.7/dist-packages (from pandas>=1.2.0->pyLDAvis) (2018.9)\n",
            "Requirement already satisfied: six>=1.5 in /usr/local/lib/python3.7/dist-packages (from python-dateutil>=2.7.3->pandas>=1.2.0->pyLDAvis) (1.15.0)\n",
            "Requirement already satisfied: smart-open>=1.2.1 in /usr/local/lib/python3.7/dist-packages (from gensim->pyLDAvis) (5.2.1)\n",
            "Requirement already satisfied: MarkupSafe>=0.23 in /usr/local/lib/python3.7/dist-packages (from jinja2->pyLDAvis) (2.0.1)\n",
            "Requirement already satisfied: threadpoolctl>=2.0.0 in /usr/local/lib/python3.7/dist-packages (from scikit-learn->pyLDAvis) (3.0.0)\n",
            "Installing collected packages: numpy\n",
            "  Attempting uninstall: numpy\n",
            "    Found existing installation: numpy 1.18.5\n",
            "    Uninstalling numpy-1.18.5:\n",
            "      Successfully uninstalled numpy-1.18.5\n",
            "\u001b[31mERROR: pip's dependency resolver does not currently take into account all the packages that are installed. This behaviour is the source of the following dependency conflicts.\n",
            "yellowbrick 1.3.post1 requires numpy<1.20,>=1.16.0, but you have numpy 1.21.4 which is incompatible.\n",
            "tensorflow 2.0.4 requires numpy<1.19.0,>=1.16.0, but you have numpy 1.21.4 which is incompatible.\n",
            "tensorflow-probability 0.15.0 requires gast>=0.3.2, but you have gast 0.2.2 which is incompatible.\n",
            "librosa 0.8.1 requires resampy>=0.2.2, but you have resampy 0.2.1 which is incompatible.\n",
            "google-colab 1.0.0 requires pandas~=1.1.0; python_version >= \"3.0\", but you have pandas 1.3.4 which is incompatible.\n",
            "datascience 0.10.6 requires folium==0.2.1, but you have folium 0.8.3 which is incompatible.\n",
            "albumentations 0.1.12 requires imgaug<0.2.7,>=0.2.5, but you have imgaug 0.2.9 which is incompatible.\u001b[0m\n",
            "Successfully installed numpy-1.21.4\n"
          ]
        },
        {
          "output_type": "display_data",
          "data": {
            "application/vnd.colab-display-data+json": {
              "pip_warning": {
                "packages": [
                  "numpy"
                ]
              }
            }
          },
          "metadata": {}
        },
        {
          "output_type": "stream",
          "name": "stdout",
          "text": [
            "Requirement already satisfied: spaCy in /usr/local/lib/python3.7/dist-packages (2.2.4)\n",
            "Requirement already satisfied: srsly<1.1.0,>=1.0.2 in /usr/local/lib/python3.7/dist-packages (from spaCy) (1.0.5)\n",
            "Requirement already satisfied: numpy>=1.15.0 in /usr/local/lib/python3.7/dist-packages (from spaCy) (1.21.4)\n",
            "Requirement already satisfied: setuptools in /usr/local/lib/python3.7/dist-packages (from spaCy) (57.4.0)\n",
            "Requirement already satisfied: plac<1.2.0,>=0.9.6 in /usr/local/lib/python3.7/dist-packages (from spaCy) (1.1.3)\n",
            "Requirement already satisfied: thinc==7.4.0 in /usr/local/lib/python3.7/dist-packages (from spaCy) (7.4.0)\n",
            "Requirement already satisfied: tqdm<5.0.0,>=4.38.0 in /usr/local/lib/python3.7/dist-packages (from spaCy) (4.62.3)\n",
            "Requirement already satisfied: wasabi<1.1.0,>=0.4.0 in /usr/local/lib/python3.7/dist-packages (from spaCy) (0.8.2)\n",
            "Requirement already satisfied: murmurhash<1.1.0,>=0.28.0 in /usr/local/lib/python3.7/dist-packages (from spaCy) (1.0.6)\n",
            "Requirement already satisfied: requests<3.0.0,>=2.13.0 in /usr/local/lib/python3.7/dist-packages (from spaCy) (2.23.0)\n",
            "Requirement already satisfied: cymem<2.1.0,>=2.0.2 in /usr/local/lib/python3.7/dist-packages (from spaCy) (2.0.6)\n",
            "Requirement already satisfied: blis<0.5.0,>=0.4.0 in /usr/local/lib/python3.7/dist-packages (from spaCy) (0.4.1)\n",
            "Requirement already satisfied: catalogue<1.1.0,>=0.0.7 in /usr/local/lib/python3.7/dist-packages (from spaCy) (1.0.0)\n",
            "Requirement already satisfied: preshed<3.1.0,>=3.0.2 in /usr/local/lib/python3.7/dist-packages (from spaCy) (3.0.6)\n",
            "Requirement already satisfied: importlib-metadata>=0.20 in /usr/local/lib/python3.7/dist-packages (from catalogue<1.1.0,>=0.0.7->spaCy) (4.8.2)\n",
            "Requirement already satisfied: typing-extensions>=3.6.4 in /usr/local/lib/python3.7/dist-packages (from importlib-metadata>=0.20->catalogue<1.1.0,>=0.0.7->spaCy) (3.10.0.2)\n",
            "Requirement already satisfied: zipp>=0.5 in /usr/local/lib/python3.7/dist-packages (from importlib-metadata>=0.20->catalogue<1.1.0,>=0.0.7->spaCy) (3.6.0)\n",
            "Requirement already satisfied: urllib3!=1.25.0,!=1.25.1,<1.26,>=1.21.1 in /usr/local/lib/python3.7/dist-packages (from requests<3.0.0,>=2.13.0->spaCy) (1.24.3)\n",
            "Requirement already satisfied: certifi>=2017.4.17 in /usr/local/lib/python3.7/dist-packages (from requests<3.0.0,>=2.13.0->spaCy) (2021.10.8)\n",
            "Requirement already satisfied: idna<3,>=2.5 in /usr/local/lib/python3.7/dist-packages (from requests<3.0.0,>=2.13.0->spaCy) (2.10)\n",
            "Requirement already satisfied: chardet<4,>=3.0.2 in /usr/local/lib/python3.7/dist-packages (from requests<3.0.0,>=2.13.0->spaCy) (3.0.4)\n",
            "Requirement already satisfied: afinn in /usr/local/lib/python3.7/dist-packages (0.1)\n"
          ]
        }
      ]
    },
    {
      "cell_type": "code",
      "metadata": {
        "colab": {
          "base_uri": "https://localhost:8080/",
          "height": 1000
        },
        "id": "drVsethyR3or",
        "outputId": "6825c125-8626-4171-9465-c8682b67ad9e"
      },
      "source": [
        "!pip install turicreate\n",
        "import turicreate as tc"
      ],
      "execution_count": 42,
      "outputs": [
        {
          "output_type": "stream",
          "name": "stdout",
          "text": [
            "Requirement already satisfied: turicreate in /usr/local/lib/python3.7/dist-packages (6.4.1)\n",
            "Requirement already satisfied: requests>=2.9.1 in /usr/local/lib/python3.7/dist-packages (from turicreate) (2.23.0)\n",
            "Requirement already satisfied: numba<0.51.0 in /usr/local/lib/python3.7/dist-packages (from turicreate) (0.50.1)\n",
            "Requirement already satisfied: pillow>=5.2.0 in /usr/local/lib/python3.7/dist-packages (from turicreate) (7.1.2)\n",
            "Requirement already satisfied: numpy in /usr/local/lib/python3.7/dist-packages (from turicreate) (1.21.4)\n",
            "Requirement already satisfied: six>=1.10.0 in /usr/local/lib/python3.7/dist-packages (from turicreate) (1.15.0)\n",
            "Requirement already satisfied: resampy==0.2.1 in /usr/local/lib/python3.7/dist-packages (from turicreate) (0.2.1)\n",
            "Requirement already satisfied: tensorflow<2.1.0,>=2.0.0 in /usr/local/lib/python3.7/dist-packages (from turicreate) (2.0.4)\n",
            "Requirement already satisfied: coremltools==3.3 in /usr/local/lib/python3.7/dist-packages (from turicreate) (3.3)\n",
            "Requirement already satisfied: pandas>=0.23.2 in /usr/local/lib/python3.7/dist-packages (from turicreate) (1.3.4)\n",
            "Requirement already satisfied: prettytable==0.7.2 in /usr/local/lib/python3.7/dist-packages (from turicreate) (0.7.2)\n",
            "Requirement already satisfied: scipy>=1.1.0 in /usr/local/lib/python3.7/dist-packages (from turicreate) (1.4.1)\n",
            "Requirement already satisfied: decorator>=4.0.9 in /usr/local/lib/python3.7/dist-packages (from turicreate) (4.4.2)\n",
            "Requirement already satisfied: protobuf>=3.1.0 in /usr/local/lib/python3.7/dist-packages (from coremltools==3.3->turicreate) (3.17.3)\n",
            "Requirement already satisfied: setuptools in /usr/local/lib/python3.7/dist-packages (from numba<0.51.0->turicreate) (57.4.0)\n",
            "Requirement already satisfied: llvmlite<0.34,>=0.33.0.dev0 in /usr/local/lib/python3.7/dist-packages (from numba<0.51.0->turicreate) (0.33.0)\n",
            "Requirement already satisfied: pytz>=2017.3 in /usr/local/lib/python3.7/dist-packages (from pandas>=0.23.2->turicreate) (2018.9)\n",
            "Requirement already satisfied: python-dateutil>=2.7.3 in /usr/local/lib/python3.7/dist-packages (from pandas>=0.23.2->turicreate) (2.8.2)\n",
            "Requirement already satisfied: chardet<4,>=3.0.2 in /usr/local/lib/python3.7/dist-packages (from requests>=2.9.1->turicreate) (3.0.4)\n",
            "Requirement already satisfied: idna<3,>=2.5 in /usr/local/lib/python3.7/dist-packages (from requests>=2.9.1->turicreate) (2.10)\n",
            "Requirement already satisfied: certifi>=2017.4.17 in /usr/local/lib/python3.7/dist-packages (from requests>=2.9.1->turicreate) (2021.10.8)\n",
            "Requirement already satisfied: urllib3!=1.25.0,!=1.25.1,<1.26,>=1.21.1 in /usr/local/lib/python3.7/dist-packages (from requests>=2.9.1->turicreate) (1.24.3)\n",
            "Requirement already satisfied: tensorflow-estimator<2.1.0,>=2.0.0 in /usr/local/lib/python3.7/dist-packages (from tensorflow<2.1.0,>=2.0.0->turicreate) (2.0.1)\n",
            "Requirement already satisfied: astor>=0.6.0 in /usr/local/lib/python3.7/dist-packages (from tensorflow<2.1.0,>=2.0.0->turicreate) (0.8.1)\n",
            "Requirement already satisfied: termcolor>=1.1.0 in /usr/local/lib/python3.7/dist-packages (from tensorflow<2.1.0,>=2.0.0->turicreate) (1.1.0)\n",
            "Requirement already satisfied: wrapt>=1.11.1 in /usr/local/lib/python3.7/dist-packages (from tensorflow<2.1.0,>=2.0.0->turicreate) (1.13.3)\n",
            "Collecting numpy\n",
            "  Using cached numpy-1.18.5-cp37-cp37m-manylinux1_x86_64.whl (20.1 MB)\n",
            "Requirement already satisfied: h5py<=2.10.0 in /usr/local/lib/python3.7/dist-packages (from tensorflow<2.1.0,>=2.0.0->turicreate) (2.10.0)\n",
            "Requirement already satisfied: keras-preprocessing>=1.0.5 in /usr/local/lib/python3.7/dist-packages (from tensorflow<2.1.0,>=2.0.0->turicreate) (1.1.2)\n",
            "Requirement already satisfied: absl-py>=0.7.0 in /usr/local/lib/python3.7/dist-packages (from tensorflow<2.1.0,>=2.0.0->turicreate) (0.12.0)\n",
            "Requirement already satisfied: opt-einsum>=2.3.2 in /usr/local/lib/python3.7/dist-packages (from tensorflow<2.1.0,>=2.0.0->turicreate) (3.3.0)\n",
            "Requirement already satisfied: grpcio>=1.8.6 in /usr/local/lib/python3.7/dist-packages (from tensorflow<2.1.0,>=2.0.0->turicreate) (1.42.0)\n",
            "Requirement already satisfied: google-pasta>=0.1.6 in /usr/local/lib/python3.7/dist-packages (from tensorflow<2.1.0,>=2.0.0->turicreate) (0.2.0)\n",
            "Requirement already satisfied: tensorboard<2.1.0,>=2.0.0 in /usr/local/lib/python3.7/dist-packages (from tensorflow<2.1.0,>=2.0.0->turicreate) (2.0.2)\n",
            "Requirement already satisfied: gast==0.2.2 in /usr/local/lib/python3.7/dist-packages (from tensorflow<2.1.0,>=2.0.0->turicreate) (0.2.2)\n",
            "Requirement already satisfied: wheel>=0.26 in /usr/local/lib/python3.7/dist-packages (from tensorflow<2.1.0,>=2.0.0->turicreate) (0.37.0)\n",
            "Requirement already satisfied: keras-applications>=1.0.8 in /usr/local/lib/python3.7/dist-packages (from tensorflow<2.1.0,>=2.0.0->turicreate) (1.0.8)\n",
            "Requirement already satisfied: google-auth<2,>=1.6.3 in /usr/local/lib/python3.7/dist-packages (from tensorboard<2.1.0,>=2.0.0->tensorflow<2.1.0,>=2.0.0->turicreate) (1.35.0)\n",
            "Requirement already satisfied: markdown>=2.6.8 in /usr/local/lib/python3.7/dist-packages (from tensorboard<2.1.0,>=2.0.0->tensorflow<2.1.0,>=2.0.0->turicreate) (3.3.6)\n",
            "Requirement already satisfied: werkzeug>=0.11.15 in /usr/local/lib/python3.7/dist-packages (from tensorboard<2.1.0,>=2.0.0->tensorflow<2.1.0,>=2.0.0->turicreate) (1.0.1)\n",
            "Requirement already satisfied: google-auth-oauthlib<0.5,>=0.4.1 in /usr/local/lib/python3.7/dist-packages (from tensorboard<2.1.0,>=2.0.0->tensorflow<2.1.0,>=2.0.0->turicreate) (0.4.6)\n",
            "Requirement already satisfied: cachetools<5.0,>=2.0.0 in /usr/local/lib/python3.7/dist-packages (from google-auth<2,>=1.6.3->tensorboard<2.1.0,>=2.0.0->tensorflow<2.1.0,>=2.0.0->turicreate) (4.2.4)\n",
            "Requirement already satisfied: pyasn1-modules>=0.2.1 in /usr/local/lib/python3.7/dist-packages (from google-auth<2,>=1.6.3->tensorboard<2.1.0,>=2.0.0->tensorflow<2.1.0,>=2.0.0->turicreate) (0.2.8)\n",
            "Requirement already satisfied: rsa<5,>=3.1.4 in /usr/local/lib/python3.7/dist-packages (from google-auth<2,>=1.6.3->tensorboard<2.1.0,>=2.0.0->tensorflow<2.1.0,>=2.0.0->turicreate) (4.8)\n",
            "Requirement already satisfied: requests-oauthlib>=0.7.0 in /usr/local/lib/python3.7/dist-packages (from google-auth-oauthlib<0.5,>=0.4.1->tensorboard<2.1.0,>=2.0.0->tensorflow<2.1.0,>=2.0.0->turicreate) (1.3.0)\n",
            "Requirement already satisfied: importlib-metadata>=4.4 in /usr/local/lib/python3.7/dist-packages (from markdown>=2.6.8->tensorboard<2.1.0,>=2.0.0->tensorflow<2.1.0,>=2.0.0->turicreate) (4.8.2)\n",
            "Requirement already satisfied: zipp>=0.5 in /usr/local/lib/python3.7/dist-packages (from importlib-metadata>=4.4->markdown>=2.6.8->tensorboard<2.1.0,>=2.0.0->tensorflow<2.1.0,>=2.0.0->turicreate) (3.6.0)\n",
            "Requirement already satisfied: typing-extensions>=3.6.4 in /usr/local/lib/python3.7/dist-packages (from importlib-metadata>=4.4->markdown>=2.6.8->tensorboard<2.1.0,>=2.0.0->tensorflow<2.1.0,>=2.0.0->turicreate) (3.10.0.2)\n",
            "Requirement already satisfied: pyasn1<0.5.0,>=0.4.6 in /usr/local/lib/python3.7/dist-packages (from pyasn1-modules>=0.2.1->google-auth<2,>=1.6.3->tensorboard<2.1.0,>=2.0.0->tensorflow<2.1.0,>=2.0.0->turicreate) (0.4.8)\n",
            "Requirement already satisfied: oauthlib>=3.0.0 in /usr/local/lib/python3.7/dist-packages (from requests-oauthlib>=0.7.0->google-auth-oauthlib<0.5,>=0.4.1->tensorboard<2.1.0,>=2.0.0->tensorflow<2.1.0,>=2.0.0->turicreate) (3.1.1)\n",
            "Installing collected packages: numpy\n",
            "  Attempting uninstall: numpy\n",
            "    Found existing installation: numpy 1.21.4\n",
            "    Uninstalling numpy-1.21.4:\n",
            "      Successfully uninstalled numpy-1.21.4\n",
            "\u001b[31mERROR: pip's dependency resolver does not currently take into account all the packages that are installed. This behaviour is the source of the following dependency conflicts.\n",
            "tensorflow-probability 0.15.0 requires gast>=0.3.2, but you have gast 0.2.2 which is incompatible.\n",
            "pyldavis 3.3.1 requires numpy>=1.20.0, but you have numpy 1.18.5 which is incompatible.\n",
            "librosa 0.8.1 requires resampy>=0.2.2, but you have resampy 0.2.1 which is incompatible.\n",
            "google-colab 1.0.0 requires pandas~=1.1.0; python_version >= \"3.0\", but you have pandas 1.3.4 which is incompatible.\n",
            "datascience 0.10.6 requires folium==0.2.1, but you have folium 0.8.3 which is incompatible.\n",
            "albumentations 0.1.12 requires imgaug<0.2.7,>=0.2.5, but you have imgaug 0.2.9 which is incompatible.\u001b[0m\n",
            "Successfully installed numpy-1.18.5\n"
          ]
        },
        {
          "output_type": "display_data",
          "data": {
            "application/vnd.colab-display-data+json": {
              "pip_warning": {
                "packages": [
                  "numpy"
                ]
              }
            }
          },
          "metadata": {}
        }
      ]
    },
    {
      "cell_type": "code",
      "metadata": {
        "colab": {
          "base_uri": "https://localhost:8080/",
          "height": 1000
        },
        "id": "nwMSh2aLSIFX",
        "outputId": "0af10ae5-1ca6-47b0-8c28-508b1e2a2ca2"
      },
      "source": [
        "import turicreate as tc\n",
        "\n",
        "sf = tc.SFrame.read_csv(\"./datasets/FoodReviews/Reviews.csv\")\n",
        "sf"
      ],
      "execution_count": null,
      "outputs": [
        {
          "output_type": "display_data",
          "data": {
            "text/html": [
              "<pre>Unexpected characters after last column. \"B000GW46D4\"\n",
              "Parse failed at token ending at: \n",
              "\tmyself that tastes much better than this.\"\n",
              "35360,B000GW46D4,\u001b[1;31m^\u001b[0mA1DPWQR4WSPXTM,Japri,0,0,2,1331424000,Very unsat\n",
              "Successfully parsed 10 tokens: \n",
              "\t0: 35359\n",
              "\t1: B000GW46D4\n",
              "\t2: A2Y4S4CNGKF21S\n",
              "\t3: H. Swanson\n",
              "\t4: 0\n",
              "\t5: 0\n",
              "\t6: 2\n",
              "\t7: 1332374400\n",
              "\t8: Very dry,  ... rumbly :\",\n",
              "\t9: to the poi ... is.\"\n",
              "35360</pre>"
            ],
            "text/plain": [
              "Unexpected characters after last column. \"B000GW46D4\"\n",
              "Parse failed at token ending at: \n",
              "\tmyself that tastes much better than this.\"\n",
              "35360,B000GW46D4,\u001b[1;31m^\u001b[0mA1DPWQR4WSPXTM,Japri,0,0,2,1331424000,Very unsat\n",
              "Successfully parsed 10 tokens: \n",
              "\t0: 35359\n",
              "\t1: B000GW46D4\n",
              "\t2: A2Y4S4CNGKF21S\n",
              "\t3: H. Swanson\n",
              "\t4: 0\n",
              "\t5: 0\n",
              "\t6: 2\n",
              "\t7: 1332374400\n",
              "\t8: Very dry,  ... rumbly :\",\n",
              "\t9: to the poi ... is.\"\n",
              "35360"
            ]
          },
          "metadata": {}
        },
        {
          "output_type": "display_data",
          "data": {
            "text/html": [
              "<pre>Unexpected characters after last column. \"one of only a very few\"\n",
              "Parse failed at token ending at: \n",
              "\thile. This is a very rare hot sauce, one of only a very few,\u001b[1;31m^\u001b[0m where the actual chile is the major ingredient.\n",
              "Successfully parsed 10 tokens: \n",
              "\t0: 74275\n",
              "\t1: B005B3HKPO\n",
              "\t2: A3OC6M21K4UAQ\n",
              "\t3: tw\n",
              "\t4: 2\n",
              "\t5: 5\n",
              "\t6: 2\n",
              "\t7: 1328486400\n",
              "\t8: whats with ... is smell??\n",
              "\t9: ummm can s ... mmended!.,</pre>"
            ],
            "text/plain": [
              "Unexpected characters after last column. \"one of only a very few\"\n",
              "Parse failed at token ending at: \n",
              "\thile. This is a very rare hot sauce, one of only a very few,\u001b[1;31m^\u001b[0m where the actual chile is the major ingredient.\n",
              "Successfully parsed 10 tokens: \n",
              "\t0: 74275\n",
              "\t1: B005B3HKPO\n",
              "\t2: A3OC6M21K4UAQ\n",
              "\t3: tw\n",
              "\t4: 2\n",
              "\t5: 5\n",
              "\t6: 2\n",
              "\t7: 1328486400\n",
              "\t8: whats with ... is smell??\n",
              "\t9: ummm can s ... mmended!.,"
            ]
          },
          "metadata": {}
        },
        {
          "output_type": "display_data",
          "data": {
            "text/html": [
              "<pre>Unexpected characters after last column. \"B000PMJLJO\"\n",
              "Parse failed at token ending at: \n",
              "\tmyself that tastes much better than this.\"\n",
              "88623,B000PMJLJO,\u001b[1;31m^\u001b[0mA1DPWQR4WSPXTM,Japri,0,0,2,1331424000,Very unsat\n",
              "Successfully parsed 10 tokens: \n",
              "\t0: 88622\n",
              "\t1: B000PMJLJO\n",
              "\t2: A2Y4S4CNGKF21S\n",
              "\t3: H. Swanson\n",
              "\t4: 0\n",
              "\t5: 0\n",
              "\t6: 2\n",
              "\t7: 1332374400\n",
              "\t8: Very dry,  ... rumbly :\",\n",
              "\t9: to the poi ... is.\"\n",
              "88623</pre>"
            ],
            "text/plain": [
              "Unexpected characters after last column. \"B000PMJLJO\"\n",
              "Parse failed at token ending at: \n",
              "\tmyself that tastes much better than this.\"\n",
              "88623,B000PMJLJO,\u001b[1;31m^\u001b[0mA1DPWQR4WSPXTM,Japri,0,0,2,1331424000,Very unsat\n",
              "Successfully parsed 10 tokens: \n",
              "\t0: 88622\n",
              "\t1: B000PMJLJO\n",
              "\t2: A2Y4S4CNGKF21S\n",
              "\t3: H. Swanson\n",
              "\t4: 0\n",
              "\t5: 0\n",
              "\t6: 2\n",
              "\t7: 1332374400\n",
              "\t8: Very dry,  ... rumbly :\",\n",
              "\t9: to the poi ... is.\"\n",
              "88623"
            ]
          },
          "metadata": {}
        },
        {
          "output_type": "display_data",
          "data": {
            "text/html": [
              "<pre>3 lines failed to parse correctly</pre>"
            ],
            "text/plain": [
              "3 lines failed to parse correctly"
            ]
          },
          "metadata": {}
        },
        {
          "output_type": "display_data",
          "data": {
            "text/html": [
              "<pre>Finished parsing file /content/datasets/FoodReviews/Reviews.csv</pre>"
            ],
            "text/plain": [
              "Finished parsing file /content/datasets/FoodReviews/Reviews.csv"
            ]
          },
          "metadata": {}
        },
        {
          "output_type": "display_data",
          "data": {
            "text/html": [
              "<pre>Parsing completed. Parsed 100 lines in 1.31667 secs.</pre>"
            ],
            "text/plain": [
              "Parsing completed. Parsed 100 lines in 1.31667 secs."
            ]
          },
          "metadata": {}
        },
        {
          "output_type": "stream",
          "name": "stdout",
          "text": [
            "------------------------------------------------------\n",
            "Inferred types from first 100 line(s) of file as \n",
            "column_type_hints=[int,str,str,str,int,int,int,int,str,str]\n",
            "If parsing fails due to incorrect types, you can correct\n",
            "the inferred type list above and pass it to read_csv in\n",
            "the column_type_hints argument\n",
            "------------------------------------------------------\n"
          ]
        },
        {
          "output_type": "display_data",
          "data": {
            "text/html": [
              "<pre>Unexpected characters after last column. \"B000GW46D4\"\n",
              "Parse failed at token ending at: \n",
              "\tmyself that tastes much better than this.\"\n",
              "35360,B000GW46D4,\u001b[1;31m^\u001b[0mA1DPWQR4WSPXTM,Japri,0,0,2,1331424000,Very unsat\n",
              "Successfully parsed 10 tokens: \n",
              "\t0: 35359\n",
              "\t1: B000GW46D4\n",
              "\t2: A2Y4S4CNGKF21S\n",
              "\t3: H. Swanson\n",
              "\t4: 0\n",
              "\t5: 0\n",
              "\t6: 2\n",
              "\t7: 1332374400\n",
              "\t8: \"Very dry, ... edibly dry\n",
              "\t9: to the poi ... is.\"\n",
              "35360</pre>"
            ],
            "text/plain": [
              "Unexpected characters after last column. \"B000GW46D4\"\n",
              "Parse failed at token ending at: \n",
              "\tmyself that tastes much better than this.\"\n",
              "35360,B000GW46D4,\u001b[1;31m^\u001b[0mA1DPWQR4WSPXTM,Japri,0,0,2,1331424000,Very unsat\n",
              "Successfully parsed 10 tokens: \n",
              "\t0: 35359\n",
              "\t1: B000GW46D4\n",
              "\t2: A2Y4S4CNGKF21S\n",
              "\t3: H. Swanson\n",
              "\t4: 0\n",
              "\t5: 0\n",
              "\t6: 2\n",
              "\t7: 1332374400\n",
              "\t8: \"Very dry, ... edibly dry\n",
              "\t9: to the poi ... is.\"\n",
              "35360"
            ]
          },
          "metadata": {}
        },
        {
          "output_type": "display_data",
          "data": {
            "text/html": [
              "<pre>Unexpected characters after last column. \"one of only a very few\"\n",
              "Parse failed at token ending at: \n",
              "\thile. This is a very rare hot sauce, one of only a very few,\u001b[1;31m^\u001b[0m where the actual chile is the major ingredient.\n",
              "Successfully parsed 10 tokens: \n",
              "\t0: 74275\n",
              "\t1: B005B3HKPO\n",
              "\t2: A3OC6M21K4UAQ\n",
              "\t3: tw\n",
              "\t4: 2\n",
              "\t5: 5\n",
              "\t6: 2\n",
              "\t7: 1328486400\n",
              "\t8: whats with ... is smell??\n",
              "\t9: \"ummm can  ...  hot sauce</pre>"
            ],
            "text/plain": [
              "Unexpected characters after last column. \"one of only a very few\"\n",
              "Parse failed at token ending at: \n",
              "\thile. This is a very rare hot sauce, one of only a very few,\u001b[1;31m^\u001b[0m where the actual chile is the major ingredient.\n",
              "Successfully parsed 10 tokens: \n",
              "\t0: 74275\n",
              "\t1: B005B3HKPO\n",
              "\t2: A3OC6M21K4UAQ\n",
              "\t3: tw\n",
              "\t4: 2\n",
              "\t5: 5\n",
              "\t6: 2\n",
              "\t7: 1328486400\n",
              "\t8: whats with ... is smell??\n",
              "\t9: \"ummm can  ...  hot sauce"
            ]
          },
          "metadata": {}
        },
        {
          "output_type": "display_data",
          "data": {
            "text/html": [
              "<pre>Unexpected characters after last column. \"B000PMJLJO\"\n",
              "Parse failed at token ending at: \n",
              "\tmyself that tastes much better than this.\"\n",
              "88623,B000PMJLJO,\u001b[1;31m^\u001b[0mA1DPWQR4WSPXTM,Japri,0,0,2,1331424000,Very unsat\n",
              "Successfully parsed 10 tokens: \n",
              "\t0: 88622\n",
              "\t1: B000PMJLJO\n",
              "\t2: A2Y4S4CNGKF21S\n",
              "\t3: H. Swanson\n",
              "\t4: 0\n",
              "\t5: 0\n",
              "\t6: 2\n",
              "\t7: 1332374400\n",
              "\t8: \"Very dry, ... edibly dry\n",
              "\t9: to the poi ... is.\"\n",
              "88623</pre>"
            ],
            "text/plain": [
              "Unexpected characters after last column. \"B000PMJLJO\"\n",
              "Parse failed at token ending at: \n",
              "\tmyself that tastes much better than this.\"\n",
              "88623,B000PMJLJO,\u001b[1;31m^\u001b[0mA1DPWQR4WSPXTM,Japri,0,0,2,1331424000,Very unsat\n",
              "Successfully parsed 10 tokens: \n",
              "\t0: 88622\n",
              "\t1: B000PMJLJO\n",
              "\t2: A2Y4S4CNGKF21S\n",
              "\t3: H. Swanson\n",
              "\t4: 0\n",
              "\t5: 0\n",
              "\t6: 2\n",
              "\t7: 1332374400\n",
              "\t8: \"Very dry, ... edibly dry\n",
              "\t9: to the poi ... is.\"\n",
              "88623"
            ]
          },
          "metadata": {}
        },
        {
          "output_type": "display_data",
          "data": {
            "text/html": [
              "<pre>Unexpected characters after last column. \"but that awful after taste has no place in my afternoons.  Fog Chaser is flavorful but smooth. If you have had difficulty finding a good coffee for the new machines\"\n",
              "Parse failed at token ending at: \n",
              "\te had difficulty finding a good coffee for the new machines,\u001b[1;31m^\u001b[0m do give this one a try.\"\n",
              "181216,B007Y59HVM,#oc-\n",
              "Successfully parsed 10 tokens: \n",
              "\t0: 181213\n",
              "\t1: B007Y59HVM\n",
              "\t2: #oc-R3W5DW4JKJT228\n",
              "\t3: Mamaw\n",
              "\t4: 0\n",
              "\t5: 2\n",
              "\t6: 1\n",
              "\t7: 1346112000\n",
              "\t8: Disappointed\n",
              "\t9: \"I regret  ... he morning</pre>"
            ],
            "text/plain": [
              "Unexpected characters after last column. \"but that awful after taste has no place in my afternoons.  Fog Chaser is flavorful but smooth. If you have had difficulty finding a good coffee for the new machines\"\n",
              "Parse failed at token ending at: \n",
              "\te had difficulty finding a good coffee for the new machines,\u001b[1;31m^\u001b[0m do give this one a try.\"\n",
              "181216,B007Y59HVM,#oc-\n",
              "Successfully parsed 10 tokens: \n",
              "\t0: 181213\n",
              "\t1: B007Y59HVM\n",
              "\t2: #oc-R3W5DW4JKJT228\n",
              "\t3: Mamaw\n",
              "\t4: 0\n",
              "\t5: 2\n",
              "\t6: 1\n",
              "\t7: 1346112000\n",
              "\t8: Disappointed\n",
              "\t9: \"I regret  ... he morning"
            ]
          },
          "metadata": {}
        },
        {
          "output_type": "display_data",
          "data": {
            "text/html": [
              "<pre>Read 71440 lines. Lines per second: 44587.9</pre>"
            ],
            "text/plain": [
              "Read 71440 lines. Lines per second: 44587.9"
            ]
          },
          "metadata": {}
        },
        {
          "output_type": "display_data",
          "data": {
            "text/html": [
              "<pre>Unexpected characters after last column. \"0\"\n",
              "Parse failed at token ending at: \n",
              "\t />\\\"\n",
              "190510,B0012UEHFQ,A2788LGTSGCFA6,\"Mom of 3 \"\"sue\"\"\",0,\u001b[1;31m^\u001b[0m0,5,1329436800,She Loves Them!,I have a crazy do\n",
              "Successfully parsed 10 tokens: \n",
              "\t0: 190509\n",
              "\t1: B0012UEHFQ\n",
              "\t2: A3CR0UBHFX0NE7\n",
              "\t3: Sharee Lee Peterson\n",
              "\t4: 0\n",
              "\t5: 0\n",
              "\t6: 1\n",
              "\t7: 1330300800\n",
              "\t8: Poor Substitute\n",
              "\t9: I had prev ... of 3 \"sue\"</pre>"
            ],
            "text/plain": [
              "Unexpected characters after last column. \"0\"\n",
              "Parse failed at token ending at: \n",
              "\t />\\\"\n",
              "190510,B0012UEHFQ,A2788LGTSGCFA6,\"Mom of 3 \"\"sue\"\"\",0,\u001b[1;31m^\u001b[0m0,5,1329436800,She Loves Them!,I have a crazy do\n",
              "Successfully parsed 10 tokens: \n",
              "\t0: 190509\n",
              "\t1: B0012UEHFQ\n",
              "\t2: A3CR0UBHFX0NE7\n",
              "\t3: Sharee Lee Peterson\n",
              "\t4: 0\n",
              "\t5: 0\n",
              "\t6: 1\n",
              "\t7: 1330300800\n",
              "\t8: Poor Substitute\n",
              "\t9: I had prev ... of 3 \"sue\""
            ]
          },
          "metadata": {}
        },
        {
          "output_type": "display_data",
          "data": {
            "text/html": [
              "<pre>Unexpected characters after last column. \"B000GW46DE\"\n",
              "Parse failed at token ending at: \n",
              "\tyself that tastes much better than this.\"\n",
              "201283,B000GW46DE,\u001b[1;31m^\u001b[0mA1DPWQR4WSPXTM,Japri,0,0,2,1331424000,Very unsat\n",
              "Successfully parsed 10 tokens: \n",
              "\t0: 201282\n",
              "\t1: B000GW46DE\n",
              "\t2: A2Y4S4CNGKF21S\n",
              "\t3: H. Swanson\n",
              "\t4: 0\n",
              "\t5: 0\n",
              "\t6: 2\n",
              "\t7: 1332374400\n",
              "\t8: \"Very dry, ... edibly dry\n",
              "\t9: to the poi ... s.\"\n",
              "201283</pre>"
            ],
            "text/plain": [
              "Unexpected characters after last column. \"B000GW46DE\"\n",
              "Parse failed at token ending at: \n",
              "\tyself that tastes much better than this.\"\n",
              "201283,B000GW46DE,\u001b[1;31m^\u001b[0mA1DPWQR4WSPXTM,Japri,0,0,2,1331424000,Very unsat\n",
              "Successfully parsed 10 tokens: \n",
              "\t0: 201282\n",
              "\t1: B000GW46DE\n",
              "\t2: A2Y4S4CNGKF21S\n",
              "\t3: H. Swanson\n",
              "\t4: 0\n",
              "\t5: 0\n",
              "\t6: 2\n",
              "\t7: 1332374400\n",
              "\t8: \"Very dry, ... edibly dry\n",
              "\t9: to the poi ... s.\"\n",
              "201283"
            ]
          },
          "metadata": {}
        },
        {
          "output_type": "display_data",
          "data": {
            "text/html": [
              "<pre>Unexpected characters after last column. \"B000PMC7GI\"\n",
              "Parse failed at token ending at: \n",
              "\tyself that tastes much better than this.\"\n",
              "353089,B000PMC7GI,\u001b[1;31m^\u001b[0mA1DPWQR4WSPXTM,Japri,0,0,2,1331424000,Very unsat\n",
              "Successfully parsed 10 tokens: \n",
              "\t0: 353088\n",
              "\t1: B000PMC7GI\n",
              "\t2: A2Y4S4CNGKF21S\n",
              "\t3: H. Swanson\n",
              "\t4: 0\n",
              "\t5: 0\n",
              "\t6: 2\n",
              "\t7: 1332374400\n",
              "\t8: \"Very dry, ... edibly dry\n",
              "\t9: to the poi ... s.\"\n",
              "353089</pre>"
            ],
            "text/plain": [
              "Unexpected characters after last column. \"B000PMC7GI\"\n",
              "Parse failed at token ending at: \n",
              "\tyself that tastes much better than this.\"\n",
              "353089,B000PMC7GI,\u001b[1;31m^\u001b[0mA1DPWQR4WSPXTM,Japri,0,0,2,1331424000,Very unsat\n",
              "Successfully parsed 10 tokens: \n",
              "\t0: 353088\n",
              "\t1: B000PMC7GI\n",
              "\t2: A2Y4S4CNGKF21S\n",
              "\t3: H. Swanson\n",
              "\t4: 0\n",
              "\t5: 0\n",
              "\t6: 2\n",
              "\t7: 1332374400\n",
              "\t8: \"Very dry, ... edibly dry\n",
              "\t9: to the poi ... s.\"\n",
              "353089"
            ]
          },
          "metadata": {}
        },
        {
          "output_type": "display_data",
          "data": {
            "text/html": [
              "<pre>Unexpected characters after last column. \"give it a try.  After drinking half of a bottle\"\n",
              "Parse failed at token ending at: \n",
              "\tou haven't, give it a try.  After drinking half of a bottle,\u001b[1;31m^\u001b[0m you will know it's good stuff.\"\n",
              "434576,B001SB1B\n",
              "Successfully parsed 10 tokens: \n",
              "\t0: 434574\n",
              "\t1: B002DHMX3A\n",
              "\t2: A2XNJJ9TF70P4J\n",
              "\t3: Angie\n",
              "\t4: 1\n",
              "\t5: 1\n",
              "\t6: 1\n",
              "\t7: 1307232000\n",
              "\t8: How did th ... s this up?\n",
              "\t9: \"The cerea ... ou haven't</pre>"
            ],
            "text/plain": [
              "Unexpected characters after last column. \"give it a try.  After drinking half of a bottle\"\n",
              "Parse failed at token ending at: \n",
              "\tou haven't, give it a try.  After drinking half of a bottle,\u001b[1;31m^\u001b[0m you will know it's good stuff.\"\n",
              "434576,B001SB1B\n",
              "Successfully parsed 10 tokens: \n",
              "\t0: 434574\n",
              "\t1: B002DHMX3A\n",
              "\t2: A2XNJJ9TF70P4J\n",
              "\t3: Angie\n",
              "\t4: 1\n",
              "\t5: 1\n",
              "\t6: 1\n",
              "\t7: 1307232000\n",
              "\t8: How did th ... s this up?\n",
              "\t9: \"The cerea ... ou haven't"
            ]
          },
          "metadata": {}
        },
        {
          "output_type": "display_data",
          "data": {
            "text/html": [
              "<pre>8 lines failed to parse correctly</pre>"
            ],
            "text/plain": [
              "8 lines failed to parse correctly"
            ]
          },
          "metadata": {}
        },
        {
          "output_type": "display_data",
          "data": {
            "text/html": [
              "<pre>Finished parsing file /content/datasets/FoodReviews/Reviews.csv</pre>"
            ],
            "text/plain": [
              "Finished parsing file /content/datasets/FoodReviews/Reviews.csv"
            ]
          },
          "metadata": {}
        },
        {
          "output_type": "display_data",
          "data": {
            "text/html": [
              "<pre>Parsing completed. Parsed 260995 lines in 4.06465 secs.</pre>"
            ],
            "text/plain": [
              "Parsing completed. Parsed 260995 lines in 4.06465 secs."
            ]
          },
          "metadata": {}
        },
        {
          "output_type": "execute_result",
          "data": {
            "text/html": [
              "<div style=\"max-height:1000px;max-width:1500px;overflow:auto;\"><table frame=\"box\" rules=\"cols\">\n",
              "    <tr>\n",
              "        <th style=\"padding-left: 1em; padding-right: 1em; text-align: center\">Id</th>\n",
              "        <th style=\"padding-left: 1em; padding-right: 1em; text-align: center\">ProductId</th>\n",
              "        <th style=\"padding-left: 1em; padding-right: 1em; text-align: center\">UserId</th>\n",
              "        <th style=\"padding-left: 1em; padding-right: 1em; text-align: center\">ProfileName</th>\n",
              "        <th style=\"padding-left: 1em; padding-right: 1em; text-align: center\">HelpfulnessNumerator</th>\n",
              "        <th style=\"padding-left: 1em; padding-right: 1em; text-align: center\">HelpfulnessDenominator</th>\n",
              "        <th style=\"padding-left: 1em; padding-right: 1em; text-align: center\">Score</th>\n",
              "    </tr>\n",
              "    <tr>\n",
              "        <td style=\"padding-left: 1em; padding-right: 1em; text-align: center; vertical-align: top\">1</td>\n",
              "        <td style=\"padding-left: 1em; padding-right: 1em; text-align: center; vertical-align: top\">B001E4KFG0</td>\n",
              "        <td style=\"padding-left: 1em; padding-right: 1em; text-align: center; vertical-align: top\">A3SGXH7AUHU8GW</td>\n",
              "        <td style=\"padding-left: 1em; padding-right: 1em; text-align: center; vertical-align: top\">delmartian</td>\n",
              "        <td style=\"padding-left: 1em; padding-right: 1em; text-align: center; vertical-align: top\">1</td>\n",
              "        <td style=\"padding-left: 1em; padding-right: 1em; text-align: center; vertical-align: top\">1</td>\n",
              "        <td style=\"padding-left: 1em; padding-right: 1em; text-align: center; vertical-align: top\">5</td>\n",
              "    </tr>\n",
              "    <tr>\n",
              "        <td style=\"padding-left: 1em; padding-right: 1em; text-align: center; vertical-align: top\">2</td>\n",
              "        <td style=\"padding-left: 1em; padding-right: 1em; text-align: center; vertical-align: top\">B00813GRG4</td>\n",
              "        <td style=\"padding-left: 1em; padding-right: 1em; text-align: center; vertical-align: top\">A1D87F6ZCVE5NK</td>\n",
              "        <td style=\"padding-left: 1em; padding-right: 1em; text-align: center; vertical-align: top\">dll pa</td>\n",
              "        <td style=\"padding-left: 1em; padding-right: 1em; text-align: center; vertical-align: top\">0</td>\n",
              "        <td style=\"padding-left: 1em; padding-right: 1em; text-align: center; vertical-align: top\">0</td>\n",
              "        <td style=\"padding-left: 1em; padding-right: 1em; text-align: center; vertical-align: top\">1</td>\n",
              "    </tr>\n",
              "    <tr>\n",
              "        <td style=\"padding-left: 1em; padding-right: 1em; text-align: center; vertical-align: top\">3</td>\n",
              "        <td style=\"padding-left: 1em; padding-right: 1em; text-align: center; vertical-align: top\">B000LQOCH0</td>\n",
              "        <td style=\"padding-left: 1em; padding-right: 1em; text-align: center; vertical-align: top\">ABXLMWJIXXAIN</td>\n",
              "        <td style=\"padding-left: 1em; padding-right: 1em; text-align: center; vertical-align: top\">Natalia Corres &quot;Natalia<br>Corres&quot; ...</td>\n",
              "        <td style=\"padding-left: 1em; padding-right: 1em; text-align: center; vertical-align: top\">1</td>\n",
              "        <td style=\"padding-left: 1em; padding-right: 1em; text-align: center; vertical-align: top\">1</td>\n",
              "        <td style=\"padding-left: 1em; padding-right: 1em; text-align: center; vertical-align: top\">4</td>\n",
              "    </tr>\n",
              "    <tr>\n",
              "        <td style=\"padding-left: 1em; padding-right: 1em; text-align: center; vertical-align: top\">4</td>\n",
              "        <td style=\"padding-left: 1em; padding-right: 1em; text-align: center; vertical-align: top\">B000UA0QIQ</td>\n",
              "        <td style=\"padding-left: 1em; padding-right: 1em; text-align: center; vertical-align: top\">A395BORC6FGVXV</td>\n",
              "        <td style=\"padding-left: 1em; padding-right: 1em; text-align: center; vertical-align: top\">Karl</td>\n",
              "        <td style=\"padding-left: 1em; padding-right: 1em; text-align: center; vertical-align: top\">3</td>\n",
              "        <td style=\"padding-left: 1em; padding-right: 1em; text-align: center; vertical-align: top\">3</td>\n",
              "        <td style=\"padding-left: 1em; padding-right: 1em; text-align: center; vertical-align: top\">2</td>\n",
              "    </tr>\n",
              "    <tr>\n",
              "        <td style=\"padding-left: 1em; padding-right: 1em; text-align: center; vertical-align: top\">5</td>\n",
              "        <td style=\"padding-left: 1em; padding-right: 1em; text-align: center; vertical-align: top\">B006K2ZZ7K</td>\n",
              "        <td style=\"padding-left: 1em; padding-right: 1em; text-align: center; vertical-align: top\">A1UQRSCLF8GW1T</td>\n",
              "        <td style=\"padding-left: 1em; padding-right: 1em; text-align: center; vertical-align: top\">Michael D. Bigham &quot;M.<br>Wassir&quot; ...</td>\n",
              "        <td style=\"padding-left: 1em; padding-right: 1em; text-align: center; vertical-align: top\">0</td>\n",
              "        <td style=\"padding-left: 1em; padding-right: 1em; text-align: center; vertical-align: top\">0</td>\n",
              "        <td style=\"padding-left: 1em; padding-right: 1em; text-align: center; vertical-align: top\">5</td>\n",
              "    </tr>\n",
              "    <tr>\n",
              "        <td style=\"padding-left: 1em; padding-right: 1em; text-align: center; vertical-align: top\">6</td>\n",
              "        <td style=\"padding-left: 1em; padding-right: 1em; text-align: center; vertical-align: top\">B006K2ZZ7K</td>\n",
              "        <td style=\"padding-left: 1em; padding-right: 1em; text-align: center; vertical-align: top\">ADT0SRK1MGOEU</td>\n",
              "        <td style=\"padding-left: 1em; padding-right: 1em; text-align: center; vertical-align: top\">Twoapennything</td>\n",
              "        <td style=\"padding-left: 1em; padding-right: 1em; text-align: center; vertical-align: top\">0</td>\n",
              "        <td style=\"padding-left: 1em; padding-right: 1em; text-align: center; vertical-align: top\">0</td>\n",
              "        <td style=\"padding-left: 1em; padding-right: 1em; text-align: center; vertical-align: top\">4</td>\n",
              "    </tr>\n",
              "    <tr>\n",
              "        <td style=\"padding-left: 1em; padding-right: 1em; text-align: center; vertical-align: top\">7</td>\n",
              "        <td style=\"padding-left: 1em; padding-right: 1em; text-align: center; vertical-align: top\">B006K2ZZ7K</td>\n",
              "        <td style=\"padding-left: 1em; padding-right: 1em; text-align: center; vertical-align: top\">A1SP2KVKFXXRU1</td>\n",
              "        <td style=\"padding-left: 1em; padding-right: 1em; text-align: center; vertical-align: top\">David C. Sullivan</td>\n",
              "        <td style=\"padding-left: 1em; padding-right: 1em; text-align: center; vertical-align: top\">0</td>\n",
              "        <td style=\"padding-left: 1em; padding-right: 1em; text-align: center; vertical-align: top\">0</td>\n",
              "        <td style=\"padding-left: 1em; padding-right: 1em; text-align: center; vertical-align: top\">5</td>\n",
              "    </tr>\n",
              "    <tr>\n",
              "        <td style=\"padding-left: 1em; padding-right: 1em; text-align: center; vertical-align: top\">8</td>\n",
              "        <td style=\"padding-left: 1em; padding-right: 1em; text-align: center; vertical-align: top\">B006K2ZZ7K</td>\n",
              "        <td style=\"padding-left: 1em; padding-right: 1em; text-align: center; vertical-align: top\">A3JRGQVEQN31IQ</td>\n",
              "        <td style=\"padding-left: 1em; padding-right: 1em; text-align: center; vertical-align: top\">Pamela G. Williams</td>\n",
              "        <td style=\"padding-left: 1em; padding-right: 1em; text-align: center; vertical-align: top\">0</td>\n",
              "        <td style=\"padding-left: 1em; padding-right: 1em; text-align: center; vertical-align: top\">0</td>\n",
              "        <td style=\"padding-left: 1em; padding-right: 1em; text-align: center; vertical-align: top\">5</td>\n",
              "    </tr>\n",
              "    <tr>\n",
              "        <td style=\"padding-left: 1em; padding-right: 1em; text-align: center; vertical-align: top\">9</td>\n",
              "        <td style=\"padding-left: 1em; padding-right: 1em; text-align: center; vertical-align: top\">B000E7L2R4</td>\n",
              "        <td style=\"padding-left: 1em; padding-right: 1em; text-align: center; vertical-align: top\">A1MZYO9TZK0BBI</td>\n",
              "        <td style=\"padding-left: 1em; padding-right: 1em; text-align: center; vertical-align: top\">R. James</td>\n",
              "        <td style=\"padding-left: 1em; padding-right: 1em; text-align: center; vertical-align: top\">1</td>\n",
              "        <td style=\"padding-left: 1em; padding-right: 1em; text-align: center; vertical-align: top\">1</td>\n",
              "        <td style=\"padding-left: 1em; padding-right: 1em; text-align: center; vertical-align: top\">5</td>\n",
              "    </tr>\n",
              "    <tr>\n",
              "        <td style=\"padding-left: 1em; padding-right: 1em; text-align: center; vertical-align: top\">10</td>\n",
              "        <td style=\"padding-left: 1em; padding-right: 1em; text-align: center; vertical-align: top\">B00171APVA</td>\n",
              "        <td style=\"padding-left: 1em; padding-right: 1em; text-align: center; vertical-align: top\">A21BT40VZCCYT4</td>\n",
              "        <td style=\"padding-left: 1em; padding-right: 1em; text-align: center; vertical-align: top\">Carol A. Reed</td>\n",
              "        <td style=\"padding-left: 1em; padding-right: 1em; text-align: center; vertical-align: top\">0</td>\n",
              "        <td style=\"padding-left: 1em; padding-right: 1em; text-align: center; vertical-align: top\">0</td>\n",
              "        <td style=\"padding-left: 1em; padding-right: 1em; text-align: center; vertical-align: top\">5</td>\n",
              "    </tr>\n",
              "</table>\n",
              "<table frame=\"box\" rules=\"cols\">\n",
              "    <tr>\n",
              "        <th style=\"padding-left: 1em; padding-right: 1em; text-align: center\">Time</th>\n",
              "        <th style=\"padding-left: 1em; padding-right: 1em; text-align: center\">Summary</th>\n",
              "        <th style=\"padding-left: 1em; padding-right: 1em; text-align: center\">Text</th>\n",
              "    </tr>\n",
              "    <tr>\n",
              "        <td style=\"padding-left: 1em; padding-right: 1em; text-align: center; vertical-align: top\">1303862400</td>\n",
              "        <td style=\"padding-left: 1em; padding-right: 1em; text-align: center; vertical-align: top\">Good Quality Dog Food</td>\n",
              "        <td style=\"padding-left: 1em; padding-right: 1em; text-align: center; vertical-align: top\">I have bought several of<br>the Vitality canned dog ...</td>\n",
              "    </tr>\n",
              "    <tr>\n",
              "        <td style=\"padding-left: 1em; padding-right: 1em; text-align: center; vertical-align: top\">1346976000</td>\n",
              "        <td style=\"padding-left: 1em; padding-right: 1em; text-align: center; vertical-align: top\">Not as Advertised</td>\n",
              "        <td style=\"padding-left: 1em; padding-right: 1em; text-align: center; vertical-align: top\">Product arrived labeled<br>as Jumbo Salted ...</td>\n",
              "    </tr>\n",
              "    <tr>\n",
              "        <td style=\"padding-left: 1em; padding-right: 1em; text-align: center; vertical-align: top\">1219017600</td>\n",
              "        <td style=\"padding-left: 1em; padding-right: 1em; text-align: center; vertical-align: top\">&quot;Delight&quot; says it all</td>\n",
              "        <td style=\"padding-left: 1em; padding-right: 1em; text-align: center; vertical-align: top\">This is a confection that<br>has been around a few ...</td>\n",
              "    </tr>\n",
              "    <tr>\n",
              "        <td style=\"padding-left: 1em; padding-right: 1em; text-align: center; vertical-align: top\">1307923200</td>\n",
              "        <td style=\"padding-left: 1em; padding-right: 1em; text-align: center; vertical-align: top\">Cough Medicine</td>\n",
              "        <td style=\"padding-left: 1em; padding-right: 1em; text-align: center; vertical-align: top\">If you are looking for<br>the secret ingredient in ...</td>\n",
              "    </tr>\n",
              "    <tr>\n",
              "        <td style=\"padding-left: 1em; padding-right: 1em; text-align: center; vertical-align: top\">1350777600</td>\n",
              "        <td style=\"padding-left: 1em; padding-right: 1em; text-align: center; vertical-align: top\">Great taffy</td>\n",
              "        <td style=\"padding-left: 1em; padding-right: 1em; text-align: center; vertical-align: top\">Great taffy at a great<br>price.  There was a wide ...</td>\n",
              "    </tr>\n",
              "    <tr>\n",
              "        <td style=\"padding-left: 1em; padding-right: 1em; text-align: center; vertical-align: top\">1342051200</td>\n",
              "        <td style=\"padding-left: 1em; padding-right: 1em; text-align: center; vertical-align: top\">Nice Taffy</td>\n",
              "        <td style=\"padding-left: 1em; padding-right: 1em; text-align: center; vertical-align: top\">I got a wild hair for<br>taffy and ordered this ...</td>\n",
              "    </tr>\n",
              "    <tr>\n",
              "        <td style=\"padding-left: 1em; padding-right: 1em; text-align: center; vertical-align: top\">1340150400</td>\n",
              "        <td style=\"padding-left: 1em; padding-right: 1em; text-align: center; vertical-align: top\">Great!  Just as good as<br>the expensive brands! ...</td>\n",
              "        <td style=\"padding-left: 1em; padding-right: 1em; text-align: center; vertical-align: top\">This saltwater taffy had<br>great flavors and was ...</td>\n",
              "    </tr>\n",
              "    <tr>\n",
              "        <td style=\"padding-left: 1em; padding-right: 1em; text-align: center; vertical-align: top\">1336003200</td>\n",
              "        <td style=\"padding-left: 1em; padding-right: 1em; text-align: center; vertical-align: top\">Wonderful, tasty taffy</td>\n",
              "        <td style=\"padding-left: 1em; padding-right: 1em; text-align: center; vertical-align: top\">This taffy is so good.<br>It is very soft and ...</td>\n",
              "    </tr>\n",
              "    <tr>\n",
              "        <td style=\"padding-left: 1em; padding-right: 1em; text-align: center; vertical-align: top\">1322006400</td>\n",
              "        <td style=\"padding-left: 1em; padding-right: 1em; text-align: center; vertical-align: top\">Yay Barley</td>\n",
              "        <td style=\"padding-left: 1em; padding-right: 1em; text-align: center; vertical-align: top\">Right now I&#x27;m mostly just<br>sprouting this so my  ...</td>\n",
              "    </tr>\n",
              "    <tr>\n",
              "        <td style=\"padding-left: 1em; padding-right: 1em; text-align: center; vertical-align: top\">1351209600</td>\n",
              "        <td style=\"padding-left: 1em; padding-right: 1em; text-align: center; vertical-align: top\">Healthy Dog Food</td>\n",
              "        <td style=\"padding-left: 1em; padding-right: 1em; text-align: center; vertical-align: top\">This is a very healthy<br>dog food. Good for their ...</td>\n",
              "    </tr>\n",
              "</table>\n",
              "[260995 rows x 10 columns]<br/>Note: Only the head of the SFrame is printed.<br/>You can use print_rows(num_rows=m, num_columns=n) to print more rows and columns.\n",
              "</div>"
            ],
            "text/plain": [
              "Columns:\n",
              "\tId\tint\n",
              "\tProductId\tstr\n",
              "\tUserId\tstr\n",
              "\tProfileName\tstr\n",
              "\tHelpfulnessNumerator\tint\n",
              "\tHelpfulnessDenominator\tint\n",
              "\tScore\tint\n",
              "\tTime\tint\n",
              "\tSummary\tstr\n",
              "\tText\tstr\n",
              "\n",
              "Rows: 260995\n",
              "\n",
              "Data:\n",
              "+----+------------+----------------+-------------------------------+----------------------+\n",
              "| Id | ProductId  |     UserId     |          ProfileName          | HelpfulnessNumerator |\n",
              "+----+------------+----------------+-------------------------------+----------------------+\n",
              "| 1  | B001E4KFG0 | A3SGXH7AUHU8GW |           delmartian          |          1           |\n",
              "| 2  | B00813GRG4 | A1D87F6ZCVE5NK |             dll pa            |          0           |\n",
              "| 3  | B000LQOCH0 | ABXLMWJIXXAIN  | Natalia Corres \"Natalia Co... |          1           |\n",
              "| 4  | B000UA0QIQ | A395BORC6FGVXV |              Karl             |          3           |\n",
              "| 5  | B006K2ZZ7K | A1UQRSCLF8GW1T | Michael D. Bigham \"M. Wassir\" |          0           |\n",
              "| 6  | B006K2ZZ7K | ADT0SRK1MGOEU  |         Twoapennything        |          0           |\n",
              "| 7  | B006K2ZZ7K | A1SP2KVKFXXRU1 |       David C. Sullivan       |          0           |\n",
              "| 8  | B006K2ZZ7K | A3JRGQVEQN31IQ |       Pamela G. Williams      |          0           |\n",
              "| 9  | B000E7L2R4 | A1MZYO9TZK0BBI |            R. James           |          1           |\n",
              "| 10 | B00171APVA | A21BT40VZCCYT4 |         Carol A. Reed         |          0           |\n",
              "+----+------------+----------------+-------------------------------+----------------------+\n",
              "+------------------------+-------+------------+-------------------------------+\n",
              "| HelpfulnessDenominator | Score |    Time    |            Summary            |\n",
              "+------------------------+-------+------------+-------------------------------+\n",
              "|           1            |   5   | 1303862400 |     Good Quality Dog Food     |\n",
              "|           0            |   1   | 1346976000 |       Not as Advertised       |\n",
              "|           1            |   4   | 1219017600 |     \"Delight\" says it all     |\n",
              "|           3            |   2   | 1307923200 |         Cough Medicine        |\n",
              "|           0            |   5   | 1350777600 |          Great taffy          |\n",
              "|           0            |   4   | 1342051200 |           Nice Taffy          |\n",
              "|           0            |   5   | 1340150400 | Great!  Just as good as th... |\n",
              "|           0            |   5   | 1336003200 |     Wonderful, tasty taffy    |\n",
              "|           1            |   5   | 1322006400 |           Yay Barley          |\n",
              "|           0            |   5   | 1351209600 |        Healthy Dog Food       |\n",
              "+------------------------+-------+------------+-------------------------------+\n",
              "+-------------------------------+\n",
              "|              Text             |\n",
              "+-------------------------------+\n",
              "| I have bought several of t... |\n",
              "| Product arrived labeled as... |\n",
              "| This is a confection that ... |\n",
              "| If you are looking for the... |\n",
              "| Great taffy at a great pri... |\n",
              "| I got a wild hair for taff... |\n",
              "| This saltwater taffy had g... |\n",
              "| This taffy is so good.  It... |\n",
              "| Right now I'm mostly just ... |\n",
              "| This is a very healthy dog... |\n",
              "+-------------------------------+\n",
              "[260995 rows x 10 columns]\n",
              "Note: Only the head of the SFrame is printed.\n",
              "You can use print_rows(num_rows=m, num_columns=n) to print more rows and columns."
            ]
          },
          "metadata": {},
          "execution_count": 7
        }
      ]
    },
    {
      "cell_type": "code",
      "metadata": {
        "colab": {
          "base_uri": "https://localhost:8080/",
          "height": 458
        },
        "id": "eVInJn8dSf0S",
        "outputId": "58fdf8fe-f660-4e9b-c480-6a4952000809"
      },
      "source": [
        "cls_sf = sf['ProductId', 'Score', 'Summary', 'Text']\n",
        "cls_sf"
      ],
      "execution_count": null,
      "outputs": [
        {
          "output_type": "execute_result",
          "data": {
            "text/html": [
              "<div style=\"max-height:1000px;max-width:1500px;overflow:auto;\"><table frame=\"box\" rules=\"cols\">\n",
              "    <tr>\n",
              "        <th style=\"padding-left: 1em; padding-right: 1em; text-align: center\">ProductId</th>\n",
              "        <th style=\"padding-left: 1em; padding-right: 1em; text-align: center\">Score</th>\n",
              "        <th style=\"padding-left: 1em; padding-right: 1em; text-align: center\">Summary</th>\n",
              "        <th style=\"padding-left: 1em; padding-right: 1em; text-align: center\">Text</th>\n",
              "    </tr>\n",
              "    <tr>\n",
              "        <td style=\"padding-left: 1em; padding-right: 1em; text-align: center; vertical-align: top\">B001E4KFG0</td>\n",
              "        <td style=\"padding-left: 1em; padding-right: 1em; text-align: center; vertical-align: top\">5</td>\n",
              "        <td style=\"padding-left: 1em; padding-right: 1em; text-align: center; vertical-align: top\">Good Quality Dog Food</td>\n",
              "        <td style=\"padding-left: 1em; padding-right: 1em; text-align: center; vertical-align: top\">I have bought several of<br>the Vitality canned dog ...</td>\n",
              "    </tr>\n",
              "    <tr>\n",
              "        <td style=\"padding-left: 1em; padding-right: 1em; text-align: center; vertical-align: top\">B00813GRG4</td>\n",
              "        <td style=\"padding-left: 1em; padding-right: 1em; text-align: center; vertical-align: top\">1</td>\n",
              "        <td style=\"padding-left: 1em; padding-right: 1em; text-align: center; vertical-align: top\">Not as Advertised</td>\n",
              "        <td style=\"padding-left: 1em; padding-right: 1em; text-align: center; vertical-align: top\">Product arrived labeled<br>as Jumbo Salted ...</td>\n",
              "    </tr>\n",
              "    <tr>\n",
              "        <td style=\"padding-left: 1em; padding-right: 1em; text-align: center; vertical-align: top\">B000LQOCH0</td>\n",
              "        <td style=\"padding-left: 1em; padding-right: 1em; text-align: center; vertical-align: top\">4</td>\n",
              "        <td style=\"padding-left: 1em; padding-right: 1em; text-align: center; vertical-align: top\">&quot;Delight&quot; says it all</td>\n",
              "        <td style=\"padding-left: 1em; padding-right: 1em; text-align: center; vertical-align: top\">This is a confection that<br>has been around a few ...</td>\n",
              "    </tr>\n",
              "    <tr>\n",
              "        <td style=\"padding-left: 1em; padding-right: 1em; text-align: center; vertical-align: top\">B000UA0QIQ</td>\n",
              "        <td style=\"padding-left: 1em; padding-right: 1em; text-align: center; vertical-align: top\">2</td>\n",
              "        <td style=\"padding-left: 1em; padding-right: 1em; text-align: center; vertical-align: top\">Cough Medicine</td>\n",
              "        <td style=\"padding-left: 1em; padding-right: 1em; text-align: center; vertical-align: top\">If you are looking for<br>the secret ingredient in ...</td>\n",
              "    </tr>\n",
              "    <tr>\n",
              "        <td style=\"padding-left: 1em; padding-right: 1em; text-align: center; vertical-align: top\">B006K2ZZ7K</td>\n",
              "        <td style=\"padding-left: 1em; padding-right: 1em; text-align: center; vertical-align: top\">5</td>\n",
              "        <td style=\"padding-left: 1em; padding-right: 1em; text-align: center; vertical-align: top\">Great taffy</td>\n",
              "        <td style=\"padding-left: 1em; padding-right: 1em; text-align: center; vertical-align: top\">Great taffy at a great<br>price.  There was a wide ...</td>\n",
              "    </tr>\n",
              "    <tr>\n",
              "        <td style=\"padding-left: 1em; padding-right: 1em; text-align: center; vertical-align: top\">B006K2ZZ7K</td>\n",
              "        <td style=\"padding-left: 1em; padding-right: 1em; text-align: center; vertical-align: top\">4</td>\n",
              "        <td style=\"padding-left: 1em; padding-right: 1em; text-align: center; vertical-align: top\">Nice Taffy</td>\n",
              "        <td style=\"padding-left: 1em; padding-right: 1em; text-align: center; vertical-align: top\">I got a wild hair for<br>taffy and ordered this ...</td>\n",
              "    </tr>\n",
              "    <tr>\n",
              "        <td style=\"padding-left: 1em; padding-right: 1em; text-align: center; vertical-align: top\">B006K2ZZ7K</td>\n",
              "        <td style=\"padding-left: 1em; padding-right: 1em; text-align: center; vertical-align: top\">5</td>\n",
              "        <td style=\"padding-left: 1em; padding-right: 1em; text-align: center; vertical-align: top\">Great!  Just as good as<br>the expensive brands! ...</td>\n",
              "        <td style=\"padding-left: 1em; padding-right: 1em; text-align: center; vertical-align: top\">This saltwater taffy had<br>great flavors and was ...</td>\n",
              "    </tr>\n",
              "    <tr>\n",
              "        <td style=\"padding-left: 1em; padding-right: 1em; text-align: center; vertical-align: top\">B006K2ZZ7K</td>\n",
              "        <td style=\"padding-left: 1em; padding-right: 1em; text-align: center; vertical-align: top\">5</td>\n",
              "        <td style=\"padding-left: 1em; padding-right: 1em; text-align: center; vertical-align: top\">Wonderful, tasty taffy</td>\n",
              "        <td style=\"padding-left: 1em; padding-right: 1em; text-align: center; vertical-align: top\">This taffy is so good.<br>It is very soft and ...</td>\n",
              "    </tr>\n",
              "    <tr>\n",
              "        <td style=\"padding-left: 1em; padding-right: 1em; text-align: center; vertical-align: top\">B000E7L2R4</td>\n",
              "        <td style=\"padding-left: 1em; padding-right: 1em; text-align: center; vertical-align: top\">5</td>\n",
              "        <td style=\"padding-left: 1em; padding-right: 1em; text-align: center; vertical-align: top\">Yay Barley</td>\n",
              "        <td style=\"padding-left: 1em; padding-right: 1em; text-align: center; vertical-align: top\">Right now I&#x27;m mostly just<br>sprouting this so my  ...</td>\n",
              "    </tr>\n",
              "    <tr>\n",
              "        <td style=\"padding-left: 1em; padding-right: 1em; text-align: center; vertical-align: top\">B00171APVA</td>\n",
              "        <td style=\"padding-left: 1em; padding-right: 1em; text-align: center; vertical-align: top\">5</td>\n",
              "        <td style=\"padding-left: 1em; padding-right: 1em; text-align: center; vertical-align: top\">Healthy Dog Food</td>\n",
              "        <td style=\"padding-left: 1em; padding-right: 1em; text-align: center; vertical-align: top\">This is a very healthy<br>dog food. Good for their ...</td>\n",
              "    </tr>\n",
              "</table>\n",
              "[260995 rows x 4 columns]<br/>Note: Only the head of the SFrame is printed.<br/>You can use print_rows(num_rows=m, num_columns=n) to print more rows and columns.\n",
              "</div>"
            ],
            "text/plain": [
              "Columns:\n",
              "\tProductId\tstr\n",
              "\tScore\tint\n",
              "\tSummary\tstr\n",
              "\tText\tstr\n",
              "\n",
              "Rows: 260995\n",
              "\n",
              "Data:\n",
              "+------------+-------+-------------------------------+\n",
              "| ProductId  | Score |            Summary            |\n",
              "+------------+-------+-------------------------------+\n",
              "| B001E4KFG0 |   5   |     Good Quality Dog Food     |\n",
              "| B00813GRG4 |   1   |       Not as Advertised       |\n",
              "| B000LQOCH0 |   4   |     \"Delight\" says it all     |\n",
              "| B000UA0QIQ |   2   |         Cough Medicine        |\n",
              "| B006K2ZZ7K |   5   |          Great taffy          |\n",
              "| B006K2ZZ7K |   4   |           Nice Taffy          |\n",
              "| B006K2ZZ7K |   5   | Great!  Just as good as th... |\n",
              "| B006K2ZZ7K |   5   |     Wonderful, tasty taffy    |\n",
              "| B000E7L2R4 |   5   |           Yay Barley          |\n",
              "| B00171APVA |   5   |        Healthy Dog Food       |\n",
              "+------------+-------+-------------------------------+\n",
              "+-------------------------------+\n",
              "|              Text             |\n",
              "+-------------------------------+\n",
              "| I have bought several of t... |\n",
              "| Product arrived labeled as... |\n",
              "| This is a confection that ... |\n",
              "| If you are looking for the... |\n",
              "| Great taffy at a great pri... |\n",
              "| I got a wild hair for taff... |\n",
              "| This saltwater taffy had g... |\n",
              "| This taffy is so good.  It... |\n",
              "| Right now I'm mostly just ... |\n",
              "| This is a very healthy dog... |\n",
              "+-------------------------------+\n",
              "[260995 rows x 4 columns]\n",
              "Note: Only the head of the SFrame is printed.\n",
              "You can use print_rows(num_rows=m, num_columns=n) to print more rows and columns."
            ]
          },
          "metadata": {},
          "execution_count": 8
        }
      ]
    },
    {
      "cell_type": "code",
      "metadata": {
        "colab": {
          "base_uri": "https://localhost:8080/",
          "height": 458
        },
        "id": "wSdpTYjXTAPV",
        "outputId": "4dbee9a6-3ed5-498a-c537-67c4e678c2c6"
      },
      "source": [
        "# score has to be 1 or 5:\n",
        "cls_sf = cls_sf[cls_sf['Score'] != 3]\n",
        "def score2sentiment(score):\n",
        "    if score >= 4:\n",
        "        return \"FiveStar\"\n",
        "    else:\n",
        "        return \"OneStar\"\n",
        "\n",
        "cls_sf['sentiment'] = cls_sf['Score'].apply(lambda score: score2sentiment(score))\n",
        "cls_sf"
      ],
      "execution_count": null,
      "outputs": [
        {
          "output_type": "execute_result",
          "data": {
            "text/html": [
              "<div style=\"max-height:1000px;max-width:1500px;overflow:auto;\"><table frame=\"box\" rules=\"cols\">\n",
              "    <tr>\n",
              "        <th style=\"padding-left: 1em; padding-right: 1em; text-align: center\">ProductId</th>\n",
              "        <th style=\"padding-left: 1em; padding-right: 1em; text-align: center\">Score</th>\n",
              "        <th style=\"padding-left: 1em; padding-right: 1em; text-align: center\">Summary</th>\n",
              "        <th style=\"padding-left: 1em; padding-right: 1em; text-align: center\">Text</th>\n",
              "        <th style=\"padding-left: 1em; padding-right: 1em; text-align: center\">sentiment</th>\n",
              "    </tr>\n",
              "    <tr>\n",
              "        <td style=\"padding-left: 1em; padding-right: 1em; text-align: center; vertical-align: top\">B001E4KFG0</td>\n",
              "        <td style=\"padding-left: 1em; padding-right: 1em; text-align: center; vertical-align: top\">5</td>\n",
              "        <td style=\"padding-left: 1em; padding-right: 1em; text-align: center; vertical-align: top\">Good Quality Dog Food</td>\n",
              "        <td style=\"padding-left: 1em; padding-right: 1em; text-align: center; vertical-align: top\">I have bought several of<br>the Vitality canned dog ...</td>\n",
              "        <td style=\"padding-left: 1em; padding-right: 1em; text-align: center; vertical-align: top\">FiveStar</td>\n",
              "    </tr>\n",
              "    <tr>\n",
              "        <td style=\"padding-left: 1em; padding-right: 1em; text-align: center; vertical-align: top\">B00813GRG4</td>\n",
              "        <td style=\"padding-left: 1em; padding-right: 1em; text-align: center; vertical-align: top\">1</td>\n",
              "        <td style=\"padding-left: 1em; padding-right: 1em; text-align: center; vertical-align: top\">Not as Advertised</td>\n",
              "        <td style=\"padding-left: 1em; padding-right: 1em; text-align: center; vertical-align: top\">Product arrived labeled<br>as Jumbo Salted ...</td>\n",
              "        <td style=\"padding-left: 1em; padding-right: 1em; text-align: center; vertical-align: top\">OneStar</td>\n",
              "    </tr>\n",
              "    <tr>\n",
              "        <td style=\"padding-left: 1em; padding-right: 1em; text-align: center; vertical-align: top\">B000LQOCH0</td>\n",
              "        <td style=\"padding-left: 1em; padding-right: 1em; text-align: center; vertical-align: top\">4</td>\n",
              "        <td style=\"padding-left: 1em; padding-right: 1em; text-align: center; vertical-align: top\">&quot;Delight&quot; says it all</td>\n",
              "        <td style=\"padding-left: 1em; padding-right: 1em; text-align: center; vertical-align: top\">This is a confection that<br>has been around a few ...</td>\n",
              "        <td style=\"padding-left: 1em; padding-right: 1em; text-align: center; vertical-align: top\">FiveStar</td>\n",
              "    </tr>\n",
              "    <tr>\n",
              "        <td style=\"padding-left: 1em; padding-right: 1em; text-align: center; vertical-align: top\">B000UA0QIQ</td>\n",
              "        <td style=\"padding-left: 1em; padding-right: 1em; text-align: center; vertical-align: top\">2</td>\n",
              "        <td style=\"padding-left: 1em; padding-right: 1em; text-align: center; vertical-align: top\">Cough Medicine</td>\n",
              "        <td style=\"padding-left: 1em; padding-right: 1em; text-align: center; vertical-align: top\">If you are looking for<br>the secret ingredient in ...</td>\n",
              "        <td style=\"padding-left: 1em; padding-right: 1em; text-align: center; vertical-align: top\">OneStar</td>\n",
              "    </tr>\n",
              "    <tr>\n",
              "        <td style=\"padding-left: 1em; padding-right: 1em; text-align: center; vertical-align: top\">B006K2ZZ7K</td>\n",
              "        <td style=\"padding-left: 1em; padding-right: 1em; text-align: center; vertical-align: top\">5</td>\n",
              "        <td style=\"padding-left: 1em; padding-right: 1em; text-align: center; vertical-align: top\">Great taffy</td>\n",
              "        <td style=\"padding-left: 1em; padding-right: 1em; text-align: center; vertical-align: top\">Great taffy at a great<br>price.  There was a wide ...</td>\n",
              "        <td style=\"padding-left: 1em; padding-right: 1em; text-align: center; vertical-align: top\">FiveStar</td>\n",
              "    </tr>\n",
              "    <tr>\n",
              "        <td style=\"padding-left: 1em; padding-right: 1em; text-align: center; vertical-align: top\">B006K2ZZ7K</td>\n",
              "        <td style=\"padding-left: 1em; padding-right: 1em; text-align: center; vertical-align: top\">4</td>\n",
              "        <td style=\"padding-left: 1em; padding-right: 1em; text-align: center; vertical-align: top\">Nice Taffy</td>\n",
              "        <td style=\"padding-left: 1em; padding-right: 1em; text-align: center; vertical-align: top\">I got a wild hair for<br>taffy and ordered this ...</td>\n",
              "        <td style=\"padding-left: 1em; padding-right: 1em; text-align: center; vertical-align: top\">FiveStar</td>\n",
              "    </tr>\n",
              "    <tr>\n",
              "        <td style=\"padding-left: 1em; padding-right: 1em; text-align: center; vertical-align: top\">B006K2ZZ7K</td>\n",
              "        <td style=\"padding-left: 1em; padding-right: 1em; text-align: center; vertical-align: top\">5</td>\n",
              "        <td style=\"padding-left: 1em; padding-right: 1em; text-align: center; vertical-align: top\">Great!  Just as good as<br>the expensive brands! ...</td>\n",
              "        <td style=\"padding-left: 1em; padding-right: 1em; text-align: center; vertical-align: top\">This saltwater taffy had<br>great flavors and was ...</td>\n",
              "        <td style=\"padding-left: 1em; padding-right: 1em; text-align: center; vertical-align: top\">FiveStar</td>\n",
              "    </tr>\n",
              "    <tr>\n",
              "        <td style=\"padding-left: 1em; padding-right: 1em; text-align: center; vertical-align: top\">B006K2ZZ7K</td>\n",
              "        <td style=\"padding-left: 1em; padding-right: 1em; text-align: center; vertical-align: top\">5</td>\n",
              "        <td style=\"padding-left: 1em; padding-right: 1em; text-align: center; vertical-align: top\">Wonderful, tasty taffy</td>\n",
              "        <td style=\"padding-left: 1em; padding-right: 1em; text-align: center; vertical-align: top\">This taffy is so good.<br>It is very soft and ...</td>\n",
              "        <td style=\"padding-left: 1em; padding-right: 1em; text-align: center; vertical-align: top\">FiveStar</td>\n",
              "    </tr>\n",
              "    <tr>\n",
              "        <td style=\"padding-left: 1em; padding-right: 1em; text-align: center; vertical-align: top\">B000E7L2R4</td>\n",
              "        <td style=\"padding-left: 1em; padding-right: 1em; text-align: center; vertical-align: top\">5</td>\n",
              "        <td style=\"padding-left: 1em; padding-right: 1em; text-align: center; vertical-align: top\">Yay Barley</td>\n",
              "        <td style=\"padding-left: 1em; padding-right: 1em; text-align: center; vertical-align: top\">Right now I&#x27;m mostly just<br>sprouting this so my  ...</td>\n",
              "        <td style=\"padding-left: 1em; padding-right: 1em; text-align: center; vertical-align: top\">FiveStar</td>\n",
              "    </tr>\n",
              "    <tr>\n",
              "        <td style=\"padding-left: 1em; padding-right: 1em; text-align: center; vertical-align: top\">B00171APVA</td>\n",
              "        <td style=\"padding-left: 1em; padding-right: 1em; text-align: center; vertical-align: top\">5</td>\n",
              "        <td style=\"padding-left: 1em; padding-right: 1em; text-align: center; vertical-align: top\">Healthy Dog Food</td>\n",
              "        <td style=\"padding-left: 1em; padding-right: 1em; text-align: center; vertical-align: top\">This is a very healthy<br>dog food. Good for their ...</td>\n",
              "        <td style=\"padding-left: 1em; padding-right: 1em; text-align: center; vertical-align: top\">FiveStar</td>\n",
              "    </tr>\n",
              "</table>\n",
              "[241433 rows x 5 columns]<br/>Note: Only the head of the SFrame is printed.<br/>You can use print_rows(num_rows=m, num_columns=n) to print more rows and columns.\n",
              "</div>"
            ],
            "text/plain": [
              "Columns:\n",
              "\tProductId\tstr\n",
              "\tScore\tint\n",
              "\tSummary\tstr\n",
              "\tText\tstr\n",
              "\tsentiment\tstr\n",
              "\n",
              "Rows: 241433\n",
              "\n",
              "Data:\n",
              "+------------+-------+-------------------------------+\n",
              "| ProductId  | Score |            Summary            |\n",
              "+------------+-------+-------------------------------+\n",
              "| B001E4KFG0 |   5   |     Good Quality Dog Food     |\n",
              "| B00813GRG4 |   1   |       Not as Advertised       |\n",
              "| B000LQOCH0 |   4   |     \"Delight\" says it all     |\n",
              "| B000UA0QIQ |   2   |         Cough Medicine        |\n",
              "| B006K2ZZ7K |   5   |          Great taffy          |\n",
              "| B006K2ZZ7K |   4   |           Nice Taffy          |\n",
              "| B006K2ZZ7K |   5   | Great!  Just as good as th... |\n",
              "| B006K2ZZ7K |   5   |     Wonderful, tasty taffy    |\n",
              "| B000E7L2R4 |   5   |           Yay Barley          |\n",
              "| B00171APVA |   5   |        Healthy Dog Food       |\n",
              "+------------+-------+-------------------------------+\n",
              "+-------------------------------+-----------+\n",
              "|              Text             | sentiment |\n",
              "+-------------------------------+-----------+\n",
              "| I have bought several of t... |  FiveStar |\n",
              "| Product arrived labeled as... |  OneStar  |\n",
              "| This is a confection that ... |  FiveStar |\n",
              "| If you are looking for the... |  OneStar  |\n",
              "| Great taffy at a great pri... |  FiveStar |\n",
              "| I got a wild hair for taff... |  FiveStar |\n",
              "| This saltwater taffy had g... |  FiveStar |\n",
              "| This taffy is so good.  It... |  FiveStar |\n",
              "| Right now I'm mostly just ... |  FiveStar |\n",
              "| This is a very healthy dog... |  FiveStar |\n",
              "+-------------------------------+-----------+\n",
              "[241433 rows x 5 columns]\n",
              "Note: Only the head of the SFrame is printed.\n",
              "You can use print_rows(num_rows=m, num_columns=n) to print more rows and columns."
            ]
          },
          "metadata": {},
          "execution_count": 9
        }
      ]
    },
    {
      "cell_type": "code",
      "metadata": {
        "colab": {
          "base_uri": "https://localhost:8080/",
          "height": 846
        },
        "id": "J8Jac1tbVVyz",
        "outputId": "52f4dcd0-6d21-47f3-ba32-2b7198e60210"
      },
      "source": [
        "cls_sf['words_1grams'] = tc.text_analytics.count_ngrams(cls_sf['Text'], n=1, method='word')\n",
        "cls_sf['words_2grams'] = tc.text_analytics.count_ngrams(cls_sf['Text'], n=2, method='word')\n",
        "cls_sf"
      ],
      "execution_count": null,
      "outputs": [
        {
          "output_type": "execute_result",
          "data": {
            "text/html": [
              "<div style=\"max-height:1000px;max-width:1500px;overflow:auto;\"><table frame=\"box\" rules=\"cols\">\n",
              "    <tr>\n",
              "        <th style=\"padding-left: 1em; padding-right: 1em; text-align: center\">ProductId</th>\n",
              "        <th style=\"padding-left: 1em; padding-right: 1em; text-align: center\">Score</th>\n",
              "        <th style=\"padding-left: 1em; padding-right: 1em; text-align: center\">Summary</th>\n",
              "        <th style=\"padding-left: 1em; padding-right: 1em; text-align: center\">Text</th>\n",
              "        <th style=\"padding-left: 1em; padding-right: 1em; text-align: center\">sentiment</th>\n",
              "        <th style=\"padding-left: 1em; padding-right: 1em; text-align: center\">words_1grams</th>\n",
              "    </tr>\n",
              "    <tr>\n",
              "        <td style=\"padding-left: 1em; padding-right: 1em; text-align: center; vertical-align: top\">B001E4KFG0</td>\n",
              "        <td style=\"padding-left: 1em; padding-right: 1em; text-align: center; vertical-align: top\">5</td>\n",
              "        <td style=\"padding-left: 1em; padding-right: 1em; text-align: center; vertical-align: top\">Good Quality Dog Food</td>\n",
              "        <td style=\"padding-left: 1em; padding-right: 1em; text-align: center; vertical-align: top\">I have bought several of<br>the Vitality canned dog ...</td>\n",
              "        <td style=\"padding-left: 1em; padding-right: 1em; text-align: center; vertical-align: top\">FiveStar</td>\n",
              "        <td style=\"padding-left: 1em; padding-right: 1em; text-align: center; vertical-align: top\">{&#x27;most&#x27;: 1, &#x27;this&#x27;: 1,<br>&#x27;appreciates&#x27;: 1, ...</td>\n",
              "    </tr>\n",
              "    <tr>\n",
              "        <td style=\"padding-left: 1em; padding-right: 1em; text-align: center; vertical-align: top\">B00813GRG4</td>\n",
              "        <td style=\"padding-left: 1em; padding-right: 1em; text-align: center; vertical-align: top\">1</td>\n",
              "        <td style=\"padding-left: 1em; padding-right: 1em; text-align: center; vertical-align: top\">Not as Advertised</td>\n",
              "        <td style=\"padding-left: 1em; padding-right: 1em; text-align: center; vertical-align: top\">Product arrived labeled<br>as Jumbo Salted ...</td>\n",
              "        <td style=\"padding-left: 1em; padding-right: 1em; text-align: center; vertical-align: top\">OneStar</td>\n",
              "        <td style=\"padding-left: 1em; padding-right: 1em; text-align: center; vertical-align: top\">{&#x27;to&#x27;: 1, &#x27;intended&#x27;: 1,<br>&#x27;salted&#x27;: 1, &#x27;as&#x27;: 2, ...</td>\n",
              "    </tr>\n",
              "    <tr>\n",
              "        <td style=\"padding-left: 1em; padding-right: 1em; text-align: center; vertical-align: top\">B000LQOCH0</td>\n",
              "        <td style=\"padding-left: 1em; padding-right: 1em; text-align: center; vertical-align: top\">4</td>\n",
              "        <td style=\"padding-left: 1em; padding-right: 1em; text-align: center; vertical-align: top\">&quot;Delight&quot; says it all</td>\n",
              "        <td style=\"padding-left: 1em; padding-right: 1em; text-align: center; vertical-align: top\">This is a confection that<br>has been around a few ...</td>\n",
              "        <td style=\"padding-left: 1em; padding-right: 1em; text-align: center; vertical-align: top\">FiveStar</td>\n",
              "        <td style=\"padding-left: 1em; padding-right: 1em; text-align: center; vertical-align: top\">{&#x27;sisters&#x27;: 1, &#x27;brother&#x27;:<br>1, &#x27;out&#x27;: 1, &#x27;selling&#x27;: ...</td>\n",
              "    </tr>\n",
              "    <tr>\n",
              "        <td style=\"padding-left: 1em; padding-right: 1em; text-align: center; vertical-align: top\">B000UA0QIQ</td>\n",
              "        <td style=\"padding-left: 1em; padding-right: 1em; text-align: center; vertical-align: top\">2</td>\n",
              "        <td style=\"padding-left: 1em; padding-right: 1em; text-align: center; vertical-align: top\">Cough Medicine</td>\n",
              "        <td style=\"padding-left: 1em; padding-right: 1em; text-align: center; vertical-align: top\">If you are looking for<br>the secret ingredient in ...</td>\n",
              "        <td style=\"padding-left: 1em; padding-right: 1em; text-align: center; vertical-align: top\">OneStar</td>\n",
              "        <td style=\"padding-left: 1em; padding-right: 1em; text-align: center; vertical-align: top\">{&#x27;medicinal&#x27;: 1,<br>&#x27;flavor&#x27;: 1, &#x27;soda&#x27;: 1, ...</td>\n",
              "    </tr>\n",
              "    <tr>\n",
              "        <td style=\"padding-left: 1em; padding-right: 1em; text-align: center; vertical-align: top\">B006K2ZZ7K</td>\n",
              "        <td style=\"padding-left: 1em; padding-right: 1em; text-align: center; vertical-align: top\">5</td>\n",
              "        <td style=\"padding-left: 1em; padding-right: 1em; text-align: center; vertical-align: top\">Great taffy</td>\n",
              "        <td style=\"padding-left: 1em; padding-right: 1em; text-align: center; vertical-align: top\">Great taffy at a great<br>price.  There was a wide ...</td>\n",
              "        <td style=\"padding-left: 1em; padding-right: 1em; text-align: center; vertical-align: top\">FiveStar</td>\n",
              "        <td style=\"padding-left: 1em; padding-right: 1em; text-align: center; vertical-align: top\">{&#x27;deal&#x27;: 1, &#x27;lover&#x27;: 1,<br>&#x27;this&#x27;: 1, &#x27;your&#x27;: 1, ...</td>\n",
              "    </tr>\n",
              "    <tr>\n",
              "        <td style=\"padding-left: 1em; padding-right: 1em; text-align: center; vertical-align: top\">B006K2ZZ7K</td>\n",
              "        <td style=\"padding-left: 1em; padding-right: 1em; text-align: center; vertical-align: top\">4</td>\n",
              "        <td style=\"padding-left: 1em; padding-right: 1em; text-align: center; vertical-align: top\">Nice Taffy</td>\n",
              "        <td style=\"padding-left: 1em; padding-right: 1em; text-align: center; vertical-align: top\">I got a wild hair for<br>taffy and ordered this ...</td>\n",
              "        <td style=\"padding-left: 1em; padding-right: 1em; text-align: center; vertical-align: top\">FiveStar</td>\n",
              "        <td style=\"padding-left: 1em; padding-right: 1em; text-align: center; vertical-align: top\">{&#x27;treat&#x27;: 1,<br>&#x27;delightful&#x27;: 1, &#x27;it&#x27; ...</td>\n",
              "    </tr>\n",
              "    <tr>\n",
              "        <td style=\"padding-left: 1em; padding-right: 1em; text-align: center; vertical-align: top\">B006K2ZZ7K</td>\n",
              "        <td style=\"padding-left: 1em; padding-right: 1em; text-align: center; vertical-align: top\">5</td>\n",
              "        <td style=\"padding-left: 1em; padding-right: 1em; text-align: center; vertical-align: top\">Great!  Just as good as<br>the expensive brands! ...</td>\n",
              "        <td style=\"padding-left: 1em; padding-right: 1em; text-align: center; vertical-align: top\">This saltwater taffy had<br>great flavors and was ...</td>\n",
              "        <td style=\"padding-left: 1em; padding-right: 1em; text-align: center; vertical-align: top\">FiveStar</td>\n",
              "        <td style=\"padding-left: 1em; padding-right: 1em; text-align: center; vertical-align: top\">{&#x27;everyone&#x27;: 1, &#x27;themed&#x27;:<br>1, &#x27;at&#x27;: 1, &#x27;served&#x27;: 1, ...</td>\n",
              "    </tr>\n",
              "    <tr>\n",
              "        <td style=\"padding-left: 1em; padding-right: 1em; text-align: center; vertical-align: top\">B006K2ZZ7K</td>\n",
              "        <td style=\"padding-left: 1em; padding-right: 1em; text-align: center; vertical-align: top\">5</td>\n",
              "        <td style=\"padding-left: 1em; padding-right: 1em; text-align: center; vertical-align: top\">Wonderful, tasty taffy</td>\n",
              "        <td style=\"padding-left: 1em; padding-right: 1em; text-align: center; vertical-align: top\">This taffy is so good.<br>It is very soft and ...</td>\n",
              "        <td style=\"padding-left: 1em; padding-right: 1em; text-align: center; vertical-align: top\">FiveStar</td>\n",
              "        <td style=\"padding-left: 1em; padding-right: 1em; text-align: center; vertical-align: top\">{&#x27;recommend&#x27;: 1, &#x27;would&#x27;:<br>1, &#x27;i&#x27;: 1, &#x27;amazing&#x27;: 1, ...</td>\n",
              "    </tr>\n",
              "    <tr>\n",
              "        <td style=\"padding-left: 1em; padding-right: 1em; text-align: center; vertical-align: top\">B000E7L2R4</td>\n",
              "        <td style=\"padding-left: 1em; padding-right: 1em; text-align: center; vertical-align: top\">5</td>\n",
              "        <td style=\"padding-left: 1em; padding-right: 1em; text-align: center; vertical-align: top\">Yay Barley</td>\n",
              "        <td style=\"padding-left: 1em; padding-right: 1em; text-align: center; vertical-align: top\">Right now I&#x27;m mostly just<br>sprouting this so my  ...</td>\n",
              "        <td style=\"padding-left: 1em; padding-right: 1em; text-align: center; vertical-align: top\">FiveStar</td>\n",
              "        <td style=\"padding-left: 1em; padding-right: 1em; text-align: center; vertical-align: top\">{&#x27;too&#x27;: 1, &#x27;rye&#x27;: 1,<br>&#x27;my&#x27;: 1, &#x27;just&#x27;: 1, ...</td>\n",
              "    </tr>\n",
              "    <tr>\n",
              "        <td style=\"padding-left: 1em; padding-right: 1em; text-align: center; vertical-align: top\">B00171APVA</td>\n",
              "        <td style=\"padding-left: 1em; padding-right: 1em; text-align: center; vertical-align: top\">5</td>\n",
              "        <td style=\"padding-left: 1em; padding-right: 1em; text-align: center; vertical-align: top\">Healthy Dog Food</td>\n",
              "        <td style=\"padding-left: 1em; padding-right: 1em; text-align: center; vertical-align: top\">This is a very healthy<br>dog food. Good for their ...</td>\n",
              "        <td style=\"padding-left: 1em; padding-right: 1em; text-align: center; vertical-align: top\">FiveStar</td>\n",
              "        <td style=\"padding-left: 1em; padding-right: 1em; text-align: center; vertical-align: top\">{&#x27;feeding&#x27;: 1, &#x27;at&#x27;: 1,<br>&#x27;her&#x27;: 1, &#x27;required&#x27;: 1, ...</td>\n",
              "    </tr>\n",
              "</table>\n",
              "<table frame=\"box\" rules=\"cols\">\n",
              "    <tr>\n",
              "        <th style=\"padding-left: 1em; padding-right: 1em; text-align: center\">words_2grams</th>\n",
              "    </tr>\n",
              "    <tr>\n",
              "        <td style=\"padding-left: 1em; padding-right: 1em; text-align: center; vertical-align: top\">{&#x27;more like&#x27;: 1, &#x27;food<br>products&#x27;: 1, &#x27;a stew&#x27;: ...</td>\n",
              "    </tr>\n",
              "    <tr>\n",
              "        <td style=\"padding-left: 1em; padding-right: 1em; text-align: center; vertical-align: top\">{&#x27;the product&#x27;: 1,<br>&#x27;represent the&#x27;: 1, &#x27;to ...</td>\n",
              "    </tr>\n",
              "    <tr>\n",
              "        <td style=\"padding-left: 1em; padding-right: 1em; text-align: center; vertical-align: top\">{&#x27;to the&#x27;: 1, &#x27;brother<br>and&#x27;: 1, &#x27;out his&#x27;: 1, ...</td>\n",
              "    </tr>\n",
              "    <tr>\n",
              "        <td style=\"padding-left: 1em; padding-right: 1em; text-align: center; vertical-align: top\">{&#x27;is very&#x27;: 1, &#x27;soda<br>the&#x27;: 1, &#x27;cherry soda&#x27;: ...</td>\n",
              "    </tr>\n",
              "    <tr>\n",
              "        <td style=\"padding-left: 1em; padding-right: 1em; text-align: center; vertical-align: top\">{&#x27;lover this&#x27;: 1, &#x27;a<br>wide&#x27;: 1, &#x27;a deal&#x27;: 1, ...</td>\n",
              "    </tr>\n",
              "    <tr>\n",
              "        <td style=\"padding-left: 1em; padding-right: 1em; text-align: center; vertical-align: top\">{&#x27;delightful treat&#x27;: 1,<br>&#x27;recommend this&#x27;: 1, ...</td>\n",
              "    </tr>\n",
              "    <tr>\n",
              "        <td style=\"padding-left: 1em; padding-right: 1em; text-align: center; vertical-align: top\">{&#x27;loved it&#x27;: 1, &#x27;everyone<br>loved&#x27;: 1, &#x27;and ...</td>\n",
              "    </tr>\n",
              "    <tr>\n",
              "        <td style=\"padding-left: 1em; padding-right: 1em; text-align: center; vertical-align: top\">{&#x27;and chewy&#x27;: 1, &#x27;very<br>satisfying&#x27;: 1, &#x27;this ...</td>\n",
              "    </tr>\n",
              "    <tr>\n",
              "        <td style=\"padding-left: 1em; padding-right: 1em; text-align: center; vertical-align: top\">{&#x27;rye too&#x27;: 1, &#x27;and rye&#x27;:<br>1, &#x27;with wheatgrass&#x27;: 1, ...</td>\n",
              "    </tr>\n",
              "    <tr>\n",
              "        <td style=\"padding-left: 1em; padding-right: 1em; text-align: center; vertical-align: top\">{&#x27;every feeding&#x27;: 1,<br>&#x27;their digestion&#x27;: 1, ...</td>\n",
              "    </tr>\n",
              "</table>\n",
              "[241433 rows x 7 columns]<br/>Note: Only the head of the SFrame is printed.<br/>You can use print_rows(num_rows=m, num_columns=n) to print more rows and columns.\n",
              "</div>"
            ],
            "text/plain": [
              "Columns:\n",
              "\tProductId\tstr\n",
              "\tScore\tint\n",
              "\tSummary\tstr\n",
              "\tText\tstr\n",
              "\tsentiment\tstr\n",
              "\twords_1grams\tdict\n",
              "\twords_2grams\tdict\n",
              "\n",
              "Rows: 241433\n",
              "\n",
              "Data:\n",
              "+------------+-------+-------------------------------+\n",
              "| ProductId  | Score |            Summary            |\n",
              "+------------+-------+-------------------------------+\n",
              "| B001E4KFG0 |   5   |     Good Quality Dog Food     |\n",
              "| B00813GRG4 |   1   |       Not as Advertised       |\n",
              "| B000LQOCH0 |   4   |     \"Delight\" says it all     |\n",
              "| B000UA0QIQ |   2   |         Cough Medicine        |\n",
              "| B006K2ZZ7K |   5   |          Great taffy          |\n",
              "| B006K2ZZ7K |   4   |           Nice Taffy          |\n",
              "| B006K2ZZ7K |   5   | Great!  Just as good as th... |\n",
              "| B006K2ZZ7K |   5   |     Wonderful, tasty taffy    |\n",
              "| B000E7L2R4 |   5   |           Yay Barley          |\n",
              "| B00171APVA |   5   |        Healthy Dog Food       |\n",
              "+------------+-------+-------------------------------+\n",
              "+-------------------------------+-----------+-------------------------------+\n",
              "|              Text             | sentiment |          words_1grams         |\n",
              "+-------------------------------+-----------+-------------------------------+\n",
              "| I have bought several of t... |  FiveStar | {'most': 1, 'this': 1, 'ap... |\n",
              "| Product arrived labeled as... |  OneStar  | {'to': 1, 'intended': 1, '... |\n",
              "| This is a confection that ... |  FiveStar | {'sisters': 1, 'brother': ... |\n",
              "| If you are looking for the... |  OneStar  | {'medicinal': 1, 'flavor':... |\n",
              "| Great taffy at a great pri... |  FiveStar | {'deal': 1, 'lover': 1, 't... |\n",
              "| I got a wild hair for taff... |  FiveStar | {'treat': 1, 'delightful':... |\n",
              "| This saltwater taffy had g... |  FiveStar | {'everyone': 1, 'themed': ... |\n",
              "| This taffy is so good.  It... |  FiveStar | {'recommend': 1, 'would': ... |\n",
              "| Right now I'm mostly just ... |  FiveStar | {'too': 1, 'rye': 1, 'my':... |\n",
              "| This is a very healthy dog... |  FiveStar | {'feeding': 1, 'at': 1, 'h... |\n",
              "+-------------------------------+-----------+-------------------------------+\n",
              "+-------------------------------+\n",
              "|          words_2grams         |\n",
              "+-------------------------------+\n",
              "| {'more like': 1, 'food pro... |\n",
              "| {'the product': 1, 'repres... |\n",
              "| {'to the': 1, 'brother and... |\n",
              "| {'is very': 1, 'soda the':... |\n",
              "| {'lover this': 1, 'a wide'... |\n",
              "| {'delightful treat': 1, 'r... |\n",
              "| {'loved it': 1, 'everyone ... |\n",
              "| {'and chewy': 1, 'very sat... |\n",
              "| {'rye too': 1, 'and rye': ... |\n",
              "| {'every feeding': 1, 'thei... |\n",
              "+-------------------------------+\n",
              "[241433 rows x 7 columns]\n",
              "Note: Only the head of the SFrame is printed.\n",
              "You can use print_rows(num_rows=m, num_columns=n) to print more rows and columns."
            ]
          },
          "metadata": {},
          "execution_count": 10
        }
      ]
    },
    {
      "cell_type": "code",
      "metadata": {
        "colab": {
          "base_uri": "https://localhost:8080/",
          "height": 998
        },
        "id": "gKo2JOkPVhei",
        "outputId": "cd49788d-d9ac-4e93-b1a8-68bd732d56f9"
      },
      "source": [
        "train, test = cls_sf.random_split(0.8)\n",
        "cls = tc.classifier.create(train,features=['words_1grams', 'words_2grams'], target=\"sentiment\")"
      ],
      "execution_count": null,
      "outputs": [
        {
          "output_type": "stream",
          "name": "stdout",
          "text": [
            "PROGRESS: Creating a validation set from 5 percent of training data. This may take a while.\n",
            "          You can set ``validation_set=None`` to disable validation tracking.\n",
            "\n",
            "PROGRESS: The following methods are available for this type of problem.\n",
            "PROGRESS: LogisticClassifier, SVMClassifier\n",
            "PROGRESS: The returned model will be chosen according to validation accuracy.\n"
          ]
        },
        {
          "output_type": "display_data",
          "data": {
            "text/html": [
              "<pre>Logistic regression:</pre>"
            ],
            "text/plain": [
              "Logistic regression:"
            ]
          },
          "metadata": {}
        },
        {
          "output_type": "display_data",
          "data": {
            "text/html": [
              "<pre>--------------------------------------------------------</pre>"
            ],
            "text/plain": [
              "--------------------------------------------------------"
            ]
          },
          "metadata": {}
        },
        {
          "output_type": "display_data",
          "data": {
            "text/html": [
              "<pre>Number of examples          : 183501</pre>"
            ],
            "text/plain": [
              "Number of examples          : 183501"
            ]
          },
          "metadata": {}
        },
        {
          "output_type": "display_data",
          "data": {
            "text/html": [
              "<pre>Number of classes           : 2</pre>"
            ],
            "text/plain": [
              "Number of classes           : 2"
            ]
          },
          "metadata": {}
        },
        {
          "output_type": "display_data",
          "data": {
            "text/html": [
              "<pre>Number of feature columns   : 2</pre>"
            ],
            "text/plain": [
              "Number of feature columns   : 2"
            ]
          },
          "metadata": {}
        },
        {
          "output_type": "display_data",
          "data": {
            "text/html": [
              "<pre>Number of unpacked features : 1527925</pre>"
            ],
            "text/plain": [
              "Number of unpacked features : 1527925"
            ]
          },
          "metadata": {}
        },
        {
          "output_type": "display_data",
          "data": {
            "text/html": [
              "<pre>Number of coefficients      : 1527926</pre>"
            ],
            "text/plain": [
              "Number of coefficients      : 1527926"
            ]
          },
          "metadata": {}
        },
        {
          "output_type": "display_data",
          "data": {
            "text/html": [
              "<pre>Starting L-BFGS</pre>"
            ],
            "text/plain": [
              "Starting L-BFGS"
            ]
          },
          "metadata": {}
        },
        {
          "output_type": "display_data",
          "data": {
            "text/html": [
              "<pre>--------------------------------------------------------</pre>"
            ],
            "text/plain": [
              "--------------------------------------------------------"
            ]
          },
          "metadata": {}
        },
        {
          "output_type": "display_data",
          "data": {
            "text/html": [
              "<pre>+-----------+----------+-----------+--------------+-------------------+---------------------+</pre>"
            ],
            "text/plain": [
              "+-----------+----------+-----------+--------------+-------------------+---------------------+"
            ]
          },
          "metadata": {}
        },
        {
          "output_type": "display_data",
          "data": {
            "text/html": [
              "<pre>| Iteration | Passes   | Step size | Elapsed Time | Training Accuracy | Validation Accuracy |</pre>"
            ],
            "text/plain": [
              "| Iteration | Passes   | Step size | Elapsed Time | Training Accuracy | Validation Accuracy |"
            ]
          },
          "metadata": {}
        },
        {
          "output_type": "display_data",
          "data": {
            "text/html": [
              "<pre>+-----------+----------+-----------+--------------+-------------------+---------------------+</pre>"
            ],
            "text/plain": [
              "+-----------+----------+-----------+--------------+-------------------+---------------------+"
            ]
          },
          "metadata": {}
        },
        {
          "output_type": "display_data",
          "data": {
            "text/html": [
              "<pre>| 0         | 5        | 0.080399  | 8.176726     | 0.846301          | 0.853489            |</pre>"
            ],
            "text/plain": [
              "| 0         | 5        | 0.080399  | 8.176726     | 0.846301          | 0.853489            |"
            ]
          },
          "metadata": {}
        },
        {
          "output_type": "display_data",
          "data": {
            "text/html": [
              "<pre>| 1         | 9        | 1.688385  | 14.449693    | 0.923085          | 0.879478            |</pre>"
            ],
            "text/plain": [
              "| 1         | 9        | 1.688385  | 14.449693    | 0.923085          | 0.879478            |"
            ]
          },
          "metadata": {}
        },
        {
          "output_type": "display_data",
          "data": {
            "text/html": [
              "<pre>| 2         | 10       | 1.688385  | 16.695663    | 0.995493          | 0.944295            |</pre>"
            ],
            "text/plain": [
              "| 2         | 10       | 1.688385  | 16.695663    | 0.995493          | 0.944295            |"
            ]
          },
          "metadata": {}
        },
        {
          "output_type": "display_data",
          "data": {
            "text/html": [
              "<pre>| 3         | 11       | 1.688385  | 18.929943    | 0.998000          | 0.947608            |</pre>"
            ],
            "text/plain": [
              "| 3         | 11       | 1.688385  | 18.929943    | 0.998000          | 0.947608            |"
            ]
          },
          "metadata": {}
        },
        {
          "output_type": "display_data",
          "data": {
            "text/html": [
              "<pre>| 4         | 13       | 1.688385  | 22.542287    | 0.999243          | 0.951025            |</pre>"
            ],
            "text/plain": [
              "| 4         | 13       | 1.688385  | 22.542287    | 0.999243          | 0.951025            |"
            ]
          },
          "metadata": {}
        },
        {
          "output_type": "display_data",
          "data": {
            "text/html": [
              "<pre>| 6         | 15       | 1.688385  | 27.044113    | 0.999864          | 0.953924            |</pre>"
            ],
            "text/plain": [
              "| 6         | 15       | 1.688385  | 27.044113    | 0.999864          | 0.953924            |"
            ]
          },
          "metadata": {}
        },
        {
          "output_type": "display_data",
          "data": {
            "text/html": [
              "<pre>| 7         | 16       | 1.688385  | 29.331646    | 0.999924          | 0.954131            |</pre>"
            ],
            "text/plain": [
              "| 7         | 16       | 1.688385  | 29.331646    | 0.999924          | 0.954131            |"
            ]
          },
          "metadata": {}
        },
        {
          "output_type": "display_data",
          "data": {
            "text/html": [
              "<pre>| 8         | 17       | 1.688385  | 31.675256    | 0.999929          | 0.954545            |</pre>"
            ],
            "text/plain": [
              "| 8         | 17       | 1.688385  | 31.675256    | 0.999929          | 0.954545            |"
            ]
          },
          "metadata": {}
        },
        {
          "output_type": "display_data",
          "data": {
            "text/html": [
              "<pre>| 9         | 19       | 0.600941  | 35.407840    | 0.999929          | 0.954545            |</pre>"
            ],
            "text/plain": [
              "| 9         | 19       | 0.600941  | 35.407840    | 0.999929          | 0.954545            |"
            ]
          },
          "metadata": {}
        },
        {
          "output_type": "display_data",
          "data": {
            "text/html": [
              "<pre>+-----------+----------+-----------+--------------+-------------------+---------------------+</pre>"
            ],
            "text/plain": [
              "+-----------+----------+-----------+--------------+-------------------+---------------------+"
            ]
          },
          "metadata": {}
        },
        {
          "output_type": "display_data",
          "data": {
            "text/html": [
              "<pre>SVM:</pre>"
            ],
            "text/plain": [
              "SVM:"
            ]
          },
          "metadata": {}
        },
        {
          "output_type": "display_data",
          "data": {
            "text/html": [
              "<pre>--------------------------------------------------------</pre>"
            ],
            "text/plain": [
              "--------------------------------------------------------"
            ]
          },
          "metadata": {}
        },
        {
          "output_type": "display_data",
          "data": {
            "text/html": [
              "<pre>Number of examples          : 183501</pre>"
            ],
            "text/plain": [
              "Number of examples          : 183501"
            ]
          },
          "metadata": {}
        },
        {
          "output_type": "display_data",
          "data": {
            "text/html": [
              "<pre>Number of classes           : 2</pre>"
            ],
            "text/plain": [
              "Number of classes           : 2"
            ]
          },
          "metadata": {}
        },
        {
          "output_type": "display_data",
          "data": {
            "text/html": [
              "<pre>Number of feature columns   : 2</pre>"
            ],
            "text/plain": [
              "Number of feature columns   : 2"
            ]
          },
          "metadata": {}
        },
        {
          "output_type": "display_data",
          "data": {
            "text/html": [
              "<pre>Number of unpacked features : 1527925</pre>"
            ],
            "text/plain": [
              "Number of unpacked features : 1527925"
            ]
          },
          "metadata": {}
        },
        {
          "output_type": "display_data",
          "data": {
            "text/html": [
              "<pre>Number of coefficients    : 1527926</pre>"
            ],
            "text/plain": [
              "Number of coefficients    : 1527926"
            ]
          },
          "metadata": {}
        },
        {
          "output_type": "display_data",
          "data": {
            "text/html": [
              "<pre>Starting L-BFGS</pre>"
            ],
            "text/plain": [
              "Starting L-BFGS"
            ]
          },
          "metadata": {}
        },
        {
          "output_type": "display_data",
          "data": {
            "text/html": [
              "<pre>--------------------------------------------------------</pre>"
            ],
            "text/plain": [
              "--------------------------------------------------------"
            ]
          },
          "metadata": {}
        },
        {
          "output_type": "display_data",
          "data": {
            "text/html": [
              "<pre>+-----------+----------+-----------+--------------+-------------------+---------------------+</pre>"
            ],
            "text/plain": [
              "+-----------+----------+-----------+--------------+-------------------+---------------------+"
            ]
          },
          "metadata": {}
        },
        {
          "output_type": "display_data",
          "data": {
            "text/html": [
              "<pre>| Iteration | Passes   | Step size | Elapsed Time | Training Accuracy | Validation Accuracy |</pre>"
            ],
            "text/plain": [
              "| Iteration | Passes   | Step size | Elapsed Time | Training Accuracy | Validation Accuracy |"
            ]
          },
          "metadata": {}
        },
        {
          "output_type": "display_data",
          "data": {
            "text/html": [
              "<pre>+-----------+----------+-----------+--------------+-------------------+---------------------+</pre>"
            ],
            "text/plain": [
              "+-----------+----------+-----------+--------------+-------------------+---------------------+"
            ]
          },
          "metadata": {}
        },
        {
          "output_type": "display_data",
          "data": {
            "text/html": [
              "<pre>| 0         | 5        | 0.082360  | 6.361217     | 0.846301          | 0.853489            |</pre>"
            ],
            "text/plain": [
              "| 0         | 5        | 0.082360  | 6.361217     | 0.846301          | 0.853489            |"
            ]
          },
          "metadata": {}
        },
        {
          "output_type": "display_data",
          "data": {
            "text/html": [
              "<pre>| 1         | 11       | 4.365101  | 14.705441    | 0.992594          | 0.946987            |</pre>"
            ],
            "text/plain": [
              "| 1         | 11       | 4.365101  | 14.705441    | 0.992594          | 0.946987            |"
            ]
          },
          "metadata": {}
        },
        {
          "output_type": "display_data",
          "data": {
            "text/html": [
              "<pre>| 2         | 16       | 3.808463  | 21.937583    | 0.998550          | 0.952785            |</pre>"
            ],
            "text/plain": [
              "| 2         | 16       | 3.808463  | 21.937583    | 0.998550          | 0.952785            |"
            ]
          },
          "metadata": {}
        },
        {
          "output_type": "display_data",
          "data": {
            "text/html": [
              "<pre>| 3         | 17       | 3.808463  | 24.180351    | 0.999428          | 0.945434            |</pre>"
            ],
            "text/plain": [
              "| 3         | 17       | 3.808463  | 24.180351    | 0.999428          | 0.945434            |"
            ]
          },
          "metadata": {}
        },
        {
          "output_type": "display_data",
          "data": {
            "text/html": [
              "<pre>| 4         | 19       | 1.409204  | 27.600659    | 0.999575          | 0.951750            |</pre>"
            ],
            "text/plain": [
              "| 4         | 19       | 1.409204  | 27.600659    | 0.999575          | 0.951750            |"
            ]
          },
          "metadata": {}
        },
        {
          "output_type": "display_data",
          "data": {
            "text/html": [
              "<pre>| 6         | 22       | 1.074861  | 33.171618    | 0.999869          | 0.952268            |</pre>"
            ],
            "text/plain": [
              "| 6         | 22       | 1.074861  | 33.171618    | 0.999869          | 0.952268            |"
            ]
          },
          "metadata": {}
        },
        {
          "output_type": "display_data",
          "data": {
            "text/html": [
              "<pre>| 7         | 23       | 1.074861  | 35.420085    | 0.999902          | 0.952060            |</pre>"
            ],
            "text/plain": [
              "| 7         | 23       | 1.074861  | 35.420085    | 0.999902          | 0.952060            |"
            ]
          },
          "metadata": {}
        },
        {
          "output_type": "display_data",
          "data": {
            "text/html": [
              "<pre>| 8         | 29       | 3.017247  | 43.725931    | 0.999929          | 0.952060            |</pre>"
            ],
            "text/plain": [
              "| 8         | 29       | 3.017247  | 43.725931    | 0.999929          | 0.952060            |"
            ]
          },
          "metadata": {}
        },
        {
          "output_type": "display_data",
          "data": {
            "text/html": [
              "<pre>| 9         | 35       | 1.479031  | 52.068078    | 0.999929          | 0.952371            |</pre>"
            ],
            "text/plain": [
              "| 9         | 35       | 1.479031  | 52.068078    | 0.999929          | 0.952371            |"
            ]
          },
          "metadata": {}
        },
        {
          "output_type": "display_data",
          "data": {
            "text/html": [
              "<pre>+-----------+----------+-----------+--------------+-------------------+---------------------+</pre>"
            ],
            "text/plain": [
              "+-----------+----------+-----------+--------------+-------------------+---------------------+"
            ]
          },
          "metadata": {}
        },
        {
          "output_type": "stream",
          "name": "stdout",
          "text": [
            "PROGRESS: Model selection based on validation accuracy:\n",
            "PROGRESS: ---------------------------------------------\n",
            "PROGRESS: LogisticClassifier              : 0.9545454545454546\n",
            "PROGRESS: SVMClassifier                   : 0.9523710913232554\n",
            "PROGRESS: ---------------------------------------------\n",
            "PROGRESS: Selecting LogisticClassifier based on validation set performance.\n"
          ]
        }
      ]
    },
    {
      "cell_type": "code",
      "metadata": {
        "colab": {
          "base_uri": "https://localhost:8080/"
        },
        "id": "Jff3NJ_vVtWy",
        "outputId": "e6cacbdf-d6b5-4764-eba6-156b06bb2fef"
      },
      "source": [
        "cls.evaluate(test)"
      ],
      "execution_count": null,
      "outputs": [
        {
          "output_type": "execute_result",
          "data": {
            "text/plain": [
              "{'accuracy': 0.9528524671665907,\n",
              " 'auc': 0.9694873899117246,\n",
              " 'confusion_matrix': Columns:\n",
              " \ttarget_label\tstr\n",
              " \tpredicted_label\tstr\n",
              " \tcount\tint\n",
              " \n",
              " Rows: 4\n",
              " \n",
              " Data:\n",
              " +--------------+-----------------+-------+\n",
              " | target_label | predicted_label | count |\n",
              " +--------------+-----------------+-------+\n",
              " |   FiveStar   |     OneStar     |  524  |\n",
              " |   OneStar    |     OneStar     |  5636 |\n",
              " |   FiveStar   |     FiveStar    | 40362 |\n",
              " |   OneStar    |     FiveStar    |  1752 |\n",
              " +--------------+-----------------+-------+\n",
              " [4 rows x 3 columns],\n",
              " 'f1_score': 0.8320047239444937,\n",
              " 'log_loss': 0.15308071346350913,\n",
              " 'precision': 0.9149350649350649,\n",
              " 'recall': 0.7628586897671901,\n",
              " 'roc_curve': Columns:\n",
              " \tthreshold\tfloat\n",
              " \tfpr\tfloat\n",
              " \ttpr\tfloat\n",
              " \tp\tint\n",
              " \tn\tint\n",
              " \n",
              " Rows: 1001\n",
              " \n",
              " Data:\n",
              " +-----------+---------------------+--------------------+------+-------+\n",
              " | threshold |         fpr         |        tpr         |  p   |   n   |\n",
              " +-----------+---------------------+--------------------+------+-------+\n",
              " |    0.0    |         1.0         |        1.0         | 7388 | 40886 |\n",
              " |   0.001   | 0.42254072298586315 | 0.9817271250676773 | 7388 | 40886 |\n",
              " |   0.002   | 0.34620652546103803 | 0.9788846778559827 | 7388 | 40886 |\n",
              " |   0.003   |  0.3073912830797828 | 0.9761775852734164 | 7388 | 40886 |\n",
              " |   0.004   | 0.27923983759722154 | 0.9729290741743367 | 7388 | 40886 |\n",
              " |   0.005   |  0.2571540380570366 | 0.9707634001082837 | 7388 | 40886 |\n",
              " |   0.006   | 0.24020447096805753 | 0.9685977260422306 | 7388 | 40886 |\n",
              " |   0.007   | 0.22621435210096366 | 0.9668381158635625 | 7388 | 40886 |\n",
              " |   0.008   | 0.21508584845668444 | 0.9645370871683812 | 7388 | 40886 |\n",
              " |   0.009   |  0.2049356748031111 | 0.9625067677314564 | 7388 | 40886 |\n",
              " +-----------+---------------------+--------------------+------+-------+\n",
              " [1001 rows x 5 columns]\n",
              " Note: Only the head of the SFrame is printed.\n",
              " You can use print_rows(num_rows=m, num_columns=n) to print more rows and columns.}"
            ]
          },
          "metadata": {},
          "execution_count": 15
        }
      ]
    },
    {
      "cell_type": "markdown",
      "metadata": {
        "id": "chKUklQQbCyL"
      },
      "source": [
        "**Question 2:** Construct a sentiment classifier using features from the [TextBlob package](https://textblob.readthedocs.io/en/dev/index.html),\n",
        "    and from the [affin package](https://pypi.org/project/afinn/). Compare the two classifiers results and visualize it (however you want) (20pt)"
      ]
    },
    {
      "cell_type": "code",
      "metadata": {
        "id": "3Woj8LD9fZAl"
      },
      "source": [
        "train, test = cls_sf[:100000].random_split(0.8) # dataset is too big to run on colab. Results can be relatively bad, Sorry for that :("
      ],
      "execution_count": null,
      "outputs": []
    },
    {
      "cell_type": "code",
      "metadata": {
        "id": "nfxAhdI7bCyM",
        "colab": {
          "base_uri": "https://localhost:8080/",
          "height": 846
        },
        "outputId": "79bc58ac-10b1-458e-f6b2-28cd978aacf2"
      },
      "source": [
        "from afinn import Afinn\n",
        "afinn = Afinn()\n",
        "\n",
        "train['afinn_score'] = train['Text'].apply(lambda t: afinn.score(t))\n",
        "test['afinn_score'] = test['Text'].apply(lambda t: afinn.score(t))\n",
        "train"
      ],
      "execution_count": null,
      "outputs": [
        {
          "output_type": "execute_result",
          "data": {
            "text/html": [
              "<div style=\"max-height:1000px;max-width:1500px;overflow:auto;\"><table frame=\"box\" rules=\"cols\">\n",
              "    <tr>\n",
              "        <th style=\"padding-left: 1em; padding-right: 1em; text-align: center\">ProductId</th>\n",
              "        <th style=\"padding-left: 1em; padding-right: 1em; text-align: center\">Score</th>\n",
              "        <th style=\"padding-left: 1em; padding-right: 1em; text-align: center\">Summary</th>\n",
              "        <th style=\"padding-left: 1em; padding-right: 1em; text-align: center\">Text</th>\n",
              "        <th style=\"padding-left: 1em; padding-right: 1em; text-align: center\">sentiment</th>\n",
              "        <th style=\"padding-left: 1em; padding-right: 1em; text-align: center\">words_1grams</th>\n",
              "    </tr>\n",
              "    <tr>\n",
              "        <td style=\"padding-left: 1em; padding-right: 1em; text-align: center; vertical-align: top\">B001E4KFG0</td>\n",
              "        <td style=\"padding-left: 1em; padding-right: 1em; text-align: center; vertical-align: top\">5</td>\n",
              "        <td style=\"padding-left: 1em; padding-right: 1em; text-align: center; vertical-align: top\">Good Quality Dog Food</td>\n",
              "        <td style=\"padding-left: 1em; padding-right: 1em; text-align: center; vertical-align: top\">I have bought several of<br>the Vitality canned dog ...</td>\n",
              "        <td style=\"padding-left: 1em; padding-right: 1em; text-align: center; vertical-align: top\">FiveStar</td>\n",
              "        <td style=\"padding-left: 1em; padding-right: 1em; text-align: center; vertical-align: top\">{&#x27;most&#x27;: 1, &#x27;this&#x27;: 1,<br>&#x27;appreciates&#x27;: 1, ...</td>\n",
              "    </tr>\n",
              "    <tr>\n",
              "        <td style=\"padding-left: 1em; padding-right: 1em; text-align: center; vertical-align: top\">B00813GRG4</td>\n",
              "        <td style=\"padding-left: 1em; padding-right: 1em; text-align: center; vertical-align: top\">1</td>\n",
              "        <td style=\"padding-left: 1em; padding-right: 1em; text-align: center; vertical-align: top\">Not as Advertised</td>\n",
              "        <td style=\"padding-left: 1em; padding-right: 1em; text-align: center; vertical-align: top\">Product arrived labeled<br>as Jumbo Salted ...</td>\n",
              "        <td style=\"padding-left: 1em; padding-right: 1em; text-align: center; vertical-align: top\">OneStar</td>\n",
              "        <td style=\"padding-left: 1em; padding-right: 1em; text-align: center; vertical-align: top\">{&#x27;to&#x27;: 1, &#x27;intended&#x27;: 1,<br>&#x27;salted&#x27;: 1, &#x27;as&#x27;: 2, ...</td>\n",
              "    </tr>\n",
              "    <tr>\n",
              "        <td style=\"padding-left: 1em; padding-right: 1em; text-align: center; vertical-align: top\">B000LQOCH0</td>\n",
              "        <td style=\"padding-left: 1em; padding-right: 1em; text-align: center; vertical-align: top\">4</td>\n",
              "        <td style=\"padding-left: 1em; padding-right: 1em; text-align: center; vertical-align: top\">&quot;Delight&quot; says it all</td>\n",
              "        <td style=\"padding-left: 1em; padding-right: 1em; text-align: center; vertical-align: top\">This is a confection that<br>has been around a few ...</td>\n",
              "        <td style=\"padding-left: 1em; padding-right: 1em; text-align: center; vertical-align: top\">FiveStar</td>\n",
              "        <td style=\"padding-left: 1em; padding-right: 1em; text-align: center; vertical-align: top\">{&#x27;sisters&#x27;: 1, &#x27;brother&#x27;:<br>1, &#x27;out&#x27;: 1, &#x27;selling&#x27;: ...</td>\n",
              "    </tr>\n",
              "    <tr>\n",
              "        <td style=\"padding-left: 1em; padding-right: 1em; text-align: center; vertical-align: top\">B000UA0QIQ</td>\n",
              "        <td style=\"padding-left: 1em; padding-right: 1em; text-align: center; vertical-align: top\">2</td>\n",
              "        <td style=\"padding-left: 1em; padding-right: 1em; text-align: center; vertical-align: top\">Cough Medicine</td>\n",
              "        <td style=\"padding-left: 1em; padding-right: 1em; text-align: center; vertical-align: top\">If you are looking for<br>the secret ingredient in ...</td>\n",
              "        <td style=\"padding-left: 1em; padding-right: 1em; text-align: center; vertical-align: top\">OneStar</td>\n",
              "        <td style=\"padding-left: 1em; padding-right: 1em; text-align: center; vertical-align: top\">{&#x27;medicinal&#x27;: 1,<br>&#x27;flavor&#x27;: 1, &#x27;soda&#x27;: 1, ...</td>\n",
              "    </tr>\n",
              "    <tr>\n",
              "        <td style=\"padding-left: 1em; padding-right: 1em; text-align: center; vertical-align: top\">B006K2ZZ7K</td>\n",
              "        <td style=\"padding-left: 1em; padding-right: 1em; text-align: center; vertical-align: top\">5</td>\n",
              "        <td style=\"padding-left: 1em; padding-right: 1em; text-align: center; vertical-align: top\">Great taffy</td>\n",
              "        <td style=\"padding-left: 1em; padding-right: 1em; text-align: center; vertical-align: top\">Great taffy at a great<br>price.  There was a wide ...</td>\n",
              "        <td style=\"padding-left: 1em; padding-right: 1em; text-align: center; vertical-align: top\">FiveStar</td>\n",
              "        <td style=\"padding-left: 1em; padding-right: 1em; text-align: center; vertical-align: top\">{&#x27;deal&#x27;: 1, &#x27;lover&#x27;: 1,<br>&#x27;this&#x27;: 1, &#x27;your&#x27;: 1, ...</td>\n",
              "    </tr>\n",
              "    <tr>\n",
              "        <td style=\"padding-left: 1em; padding-right: 1em; text-align: center; vertical-align: top\">B006K2ZZ7K</td>\n",
              "        <td style=\"padding-left: 1em; padding-right: 1em; text-align: center; vertical-align: top\">4</td>\n",
              "        <td style=\"padding-left: 1em; padding-right: 1em; text-align: center; vertical-align: top\">Nice Taffy</td>\n",
              "        <td style=\"padding-left: 1em; padding-right: 1em; text-align: center; vertical-align: top\">I got a wild hair for<br>taffy and ordered this ...</td>\n",
              "        <td style=\"padding-left: 1em; padding-right: 1em; text-align: center; vertical-align: top\">FiveStar</td>\n",
              "        <td style=\"padding-left: 1em; padding-right: 1em; text-align: center; vertical-align: top\">{&#x27;treat&#x27;: 1,<br>&#x27;delightful&#x27;: 1, &#x27;it&#x27; ...</td>\n",
              "    </tr>\n",
              "    <tr>\n",
              "        <td style=\"padding-left: 1em; padding-right: 1em; text-align: center; vertical-align: top\">B006K2ZZ7K</td>\n",
              "        <td style=\"padding-left: 1em; padding-right: 1em; text-align: center; vertical-align: top\">5</td>\n",
              "        <td style=\"padding-left: 1em; padding-right: 1em; text-align: center; vertical-align: top\">Great!  Just as good as<br>the expensive brands! ...</td>\n",
              "        <td style=\"padding-left: 1em; padding-right: 1em; text-align: center; vertical-align: top\">This saltwater taffy had<br>great flavors and was ...</td>\n",
              "        <td style=\"padding-left: 1em; padding-right: 1em; text-align: center; vertical-align: top\">FiveStar</td>\n",
              "        <td style=\"padding-left: 1em; padding-right: 1em; text-align: center; vertical-align: top\">{&#x27;everyone&#x27;: 1, &#x27;themed&#x27;:<br>1, &#x27;at&#x27;: 1, &#x27;served&#x27;: 1, ...</td>\n",
              "    </tr>\n",
              "    <tr>\n",
              "        <td style=\"padding-left: 1em; padding-right: 1em; text-align: center; vertical-align: top\">B006K2ZZ7K</td>\n",
              "        <td style=\"padding-left: 1em; padding-right: 1em; text-align: center; vertical-align: top\">5</td>\n",
              "        <td style=\"padding-left: 1em; padding-right: 1em; text-align: center; vertical-align: top\">Wonderful, tasty taffy</td>\n",
              "        <td style=\"padding-left: 1em; padding-right: 1em; text-align: center; vertical-align: top\">This taffy is so good.<br>It is very soft and ...</td>\n",
              "        <td style=\"padding-left: 1em; padding-right: 1em; text-align: center; vertical-align: top\">FiveStar</td>\n",
              "        <td style=\"padding-left: 1em; padding-right: 1em; text-align: center; vertical-align: top\">{&#x27;recommend&#x27;: 1, &#x27;would&#x27;:<br>1, &#x27;i&#x27;: 1, &#x27;amazing&#x27;: 1, ...</td>\n",
              "    </tr>\n",
              "    <tr>\n",
              "        <td style=\"padding-left: 1em; padding-right: 1em; text-align: center; vertical-align: top\">B000E7L2R4</td>\n",
              "        <td style=\"padding-left: 1em; padding-right: 1em; text-align: center; vertical-align: top\">5</td>\n",
              "        <td style=\"padding-left: 1em; padding-right: 1em; text-align: center; vertical-align: top\">Yay Barley</td>\n",
              "        <td style=\"padding-left: 1em; padding-right: 1em; text-align: center; vertical-align: top\">Right now I&#x27;m mostly just<br>sprouting this so my  ...</td>\n",
              "        <td style=\"padding-left: 1em; padding-right: 1em; text-align: center; vertical-align: top\">FiveStar</td>\n",
              "        <td style=\"padding-left: 1em; padding-right: 1em; text-align: center; vertical-align: top\">{&#x27;too&#x27;: 1, &#x27;rye&#x27;: 1,<br>&#x27;my&#x27;: 1, &#x27;just&#x27;: 1, ...</td>\n",
              "    </tr>\n",
              "    <tr>\n",
              "        <td style=\"padding-left: 1em; padding-right: 1em; text-align: center; vertical-align: top\">B00171APVA</td>\n",
              "        <td style=\"padding-left: 1em; padding-right: 1em; text-align: center; vertical-align: top\">5</td>\n",
              "        <td style=\"padding-left: 1em; padding-right: 1em; text-align: center; vertical-align: top\">Healthy Dog Food</td>\n",
              "        <td style=\"padding-left: 1em; padding-right: 1em; text-align: center; vertical-align: top\">This is a very healthy<br>dog food. Good for their ...</td>\n",
              "        <td style=\"padding-left: 1em; padding-right: 1em; text-align: center; vertical-align: top\">FiveStar</td>\n",
              "        <td style=\"padding-left: 1em; padding-right: 1em; text-align: center; vertical-align: top\">{&#x27;feeding&#x27;: 1, &#x27;at&#x27;: 1,<br>&#x27;her&#x27;: 1, &#x27;required&#x27;: 1, ...</td>\n",
              "    </tr>\n",
              "</table>\n",
              "<table frame=\"box\" rules=\"cols\">\n",
              "    <tr>\n",
              "        <th style=\"padding-left: 1em; padding-right: 1em; text-align: center\">words_2grams</th>\n",
              "        <th style=\"padding-left: 1em; padding-right: 1em; text-align: center\">afinn_score</th>\n",
              "    </tr>\n",
              "    <tr>\n",
              "        <td style=\"padding-left: 1em; padding-right: 1em; text-align: center; vertical-align: top\">{&#x27;more like&#x27;: 1, &#x27;food<br>products&#x27;: 1, &#x27;a stew&#x27;: ...</td>\n",
              "        <td style=\"padding-left: 1em; padding-right: 1em; text-align: center; vertical-align: top\">16.0</td>\n",
              "    </tr>\n",
              "    <tr>\n",
              "        <td style=\"padding-left: 1em; padding-right: 1em; text-align: center; vertical-align: top\">{&#x27;the product&#x27;: 1,<br>&#x27;represent the&#x27;: 1, &#x27;to ...</td>\n",
              "        <td style=\"padding-left: 1em; padding-right: 1em; text-align: center; vertical-align: top\">-2.0</td>\n",
              "    </tr>\n",
              "    <tr>\n",
              "        <td style=\"padding-left: 1em; padding-right: 1em; text-align: center; vertical-align: top\">{&#x27;to the&#x27;: 1, &#x27;brother<br>and&#x27;: 1, &#x27;out his&#x27;: 1, ...</td>\n",
              "        <td style=\"padding-left: 1em; padding-right: 1em; text-align: center; vertical-align: top\">3.0</td>\n",
              "    </tr>\n",
              "    <tr>\n",
              "        <td style=\"padding-left: 1em; padding-right: 1em; text-align: center; vertical-align: top\">{&#x27;is very&#x27;: 1, &#x27;soda<br>the&#x27;: 1, &#x27;cherry soda&#x27;: ...</td>\n",
              "        <td style=\"padding-left: 1em; padding-right: 1em; text-align: center; vertical-align: top\">3.0</td>\n",
              "    </tr>\n",
              "    <tr>\n",
              "        <td style=\"padding-left: 1em; padding-right: 1em; text-align: center; vertical-align: top\">{&#x27;lover this&#x27;: 1, &#x27;a<br>wide&#x27;: 1, &#x27;a deal&#x27;: 1, ...</td>\n",
              "        <td style=\"padding-left: 1em; padding-right: 1em; text-align: center; vertical-align: top\">9.0</td>\n",
              "    </tr>\n",
              "    <tr>\n",
              "        <td style=\"padding-left: 1em; padding-right: 1em; text-align: center; vertical-align: top\">{&#x27;delightful treat&#x27;: 1,<br>&#x27;recommend this&#x27;: 1, ...</td>\n",
              "        <td style=\"padding-left: 1em; padding-right: 1em; text-align: center; vertical-align: top\">7.0</td>\n",
              "    </tr>\n",
              "    <tr>\n",
              "        <td style=\"padding-left: 1em; padding-right: 1em; text-align: center; vertical-align: top\">{&#x27;loved it&#x27;: 1, &#x27;everyone<br>loved&#x27;: 1, &#x27;and ...</td>\n",
              "        <td style=\"padding-left: 1em; padding-right: 1em; text-align: center; vertical-align: top\">6.0</td>\n",
              "    </tr>\n",
              "    <tr>\n",
              "        <td style=\"padding-left: 1em; padding-right: 1em; text-align: center; vertical-align: top\">{&#x27;and chewy&#x27;: 1, &#x27;very<br>satisfying&#x27;: 1, &#x27;this ...</td>\n",
              "        <td style=\"padding-left: 1em; padding-right: 1em; text-align: center; vertical-align: top\">9.0</td>\n",
              "    </tr>\n",
              "    <tr>\n",
              "        <td style=\"padding-left: 1em; padding-right: 1em; text-align: center; vertical-align: top\">{&#x27;rye too&#x27;: 1, &#x27;and rye&#x27;:<br>1, &#x27;with wheatgrass&#x27;: 1, ...</td>\n",
              "        <td style=\"padding-left: 1em; padding-right: 1em; text-align: center; vertical-align: top\">3.0</td>\n",
              "    </tr>\n",
              "    <tr>\n",
              "        <td style=\"padding-left: 1em; padding-right: 1em; text-align: center; vertical-align: top\">{&#x27;every feeding&#x27;: 1,<br>&#x27;their digestion&#x27;: 1, ...</td>\n",
              "        <td style=\"padding-left: 1em; padding-right: 1em; text-align: center; vertical-align: top\">8.0</td>\n",
              "    </tr>\n",
              "</table>\n",
              "[80042 rows x 8 columns]<br/>Note: Only the head of the SFrame is printed.<br/>You can use print_rows(num_rows=m, num_columns=n) to print more rows and columns.\n",
              "</div>"
            ],
            "text/plain": [
              "Columns:\n",
              "\tProductId\tstr\n",
              "\tScore\tint\n",
              "\tSummary\tstr\n",
              "\tText\tstr\n",
              "\tsentiment\tstr\n",
              "\twords_1grams\tdict\n",
              "\twords_2grams\tdict\n",
              "\tafinn_score\tfloat\n",
              "\n",
              "Rows: 80042\n",
              "\n",
              "Data:\n",
              "+------------+-------+-------------------------------+\n",
              "| ProductId  | Score |            Summary            |\n",
              "+------------+-------+-------------------------------+\n",
              "| B001E4KFG0 |   5   |     Good Quality Dog Food     |\n",
              "| B00813GRG4 |   1   |       Not as Advertised       |\n",
              "| B000LQOCH0 |   4   |     \"Delight\" says it all     |\n",
              "| B000UA0QIQ |   2   |         Cough Medicine        |\n",
              "| B006K2ZZ7K |   5   |          Great taffy          |\n",
              "| B006K2ZZ7K |   4   |           Nice Taffy          |\n",
              "| B006K2ZZ7K |   5   | Great!  Just as good as th... |\n",
              "| B006K2ZZ7K |   5   |     Wonderful, tasty taffy    |\n",
              "| B000E7L2R4 |   5   |           Yay Barley          |\n",
              "| B00171APVA |   5   |        Healthy Dog Food       |\n",
              "+------------+-------+-------------------------------+\n",
              "+-------------------------------+-----------+-------------------------------+\n",
              "|              Text             | sentiment |          words_1grams         |\n",
              "+-------------------------------+-----------+-------------------------------+\n",
              "| I have bought several of t... |  FiveStar | {'most': 1, 'this': 1, 'ap... |\n",
              "| Product arrived labeled as... |  OneStar  | {'to': 1, 'intended': 1, '... |\n",
              "| This is a confection that ... |  FiveStar | {'sisters': 1, 'brother': ... |\n",
              "| If you are looking for the... |  OneStar  | {'medicinal': 1, 'flavor':... |\n",
              "| Great taffy at a great pri... |  FiveStar | {'deal': 1, 'lover': 1, 't... |\n",
              "| I got a wild hair for taff... |  FiveStar | {'treat': 1, 'delightful':... |\n",
              "| This saltwater taffy had g... |  FiveStar | {'everyone': 1, 'themed': ... |\n",
              "| This taffy is so good.  It... |  FiveStar | {'recommend': 1, 'would': ... |\n",
              "| Right now I'm mostly just ... |  FiveStar | {'too': 1, 'rye': 1, 'my':... |\n",
              "| This is a very healthy dog... |  FiveStar | {'feeding': 1, 'at': 1, 'h... |\n",
              "+-------------------------------+-----------+-------------------------------+\n",
              "+-------------------------------+-------------+\n",
              "|          words_2grams         | afinn_score |\n",
              "+-------------------------------+-------------+\n",
              "| {'more like': 1, 'food pro... |     16.0    |\n",
              "| {'the product': 1, 'repres... |     -2.0    |\n",
              "| {'to the': 1, 'brother and... |     3.0     |\n",
              "| {'is very': 1, 'soda the':... |     3.0     |\n",
              "| {'lover this': 1, 'a wide'... |     9.0     |\n",
              "| {'delightful treat': 1, 'r... |     7.0     |\n",
              "| {'loved it': 1, 'everyone ... |     6.0     |\n",
              "| {'and chewy': 1, 'very sat... |     9.0     |\n",
              "| {'rye too': 1, 'and rye': ... |     3.0     |\n",
              "| {'every feeding': 1, 'thei... |     8.0     |\n",
              "+-------------------------------+-------------+\n",
              "[80042 rows x 8 columns]\n",
              "Note: Only the head of the SFrame is printed.\n",
              "You can use print_rows(num_rows=m, num_columns=n) to print more rows and columns."
            ]
          },
          "metadata": {},
          "execution_count": 12
        }
      ]
    },
    {
      "cell_type": "code",
      "metadata": {
        "colab": {
          "base_uri": "https://localhost:8080/",
          "height": 349
        },
        "id": "GWWDG0ULaoN3",
        "outputId": "8de80b3c-a718-4f7a-d368-aa332c62b386"
      },
      "source": [
        "cls = tc.boosted_trees_classifier.create(train,features=['afinn_score', 'words_1grams', 'words_2grams'], target=\"sentiment\")"
      ],
      "execution_count": null,
      "outputs": [
        {
          "output_type": "stream",
          "name": "stdout",
          "text": [
            "PROGRESS: Creating a validation set from 5 percent of training data. This may take a while.\n",
            "          You can set ``validation_set=None`` to disable validation tracking.\n",
            "\n"
          ]
        },
        {
          "output_type": "display_data",
          "data": {
            "text/html": [
              "<pre>Boosted trees classifier:</pre>"
            ],
            "text/plain": [
              "Boosted trees classifier:"
            ]
          },
          "metadata": {}
        },
        {
          "output_type": "display_data",
          "data": {
            "text/html": [
              "<pre>--------------------------------------------------------</pre>"
            ],
            "text/plain": [
              "--------------------------------------------------------"
            ]
          },
          "metadata": {}
        },
        {
          "output_type": "display_data",
          "data": {
            "text/html": [
              "<pre>Number of examples          : 76039</pre>"
            ],
            "text/plain": [
              "Number of examples          : 76039"
            ]
          },
          "metadata": {}
        },
        {
          "output_type": "display_data",
          "data": {
            "text/html": [
              "<pre>Number of classes           : 2</pre>"
            ],
            "text/plain": [
              "Number of classes           : 2"
            ]
          },
          "metadata": {}
        },
        {
          "output_type": "display_data",
          "data": {
            "text/html": [
              "<pre>Number of feature columns   : 3</pre>"
            ],
            "text/plain": [
              "Number of feature columns   : 3"
            ]
          },
          "metadata": {}
        },
        {
          "output_type": "display_data",
          "data": {
            "text/html": [
              "<pre>Number of unpacked features : 923250</pre>"
            ],
            "text/plain": [
              "Number of unpacked features : 923250"
            ]
          },
          "metadata": {}
        },
        {
          "output_type": "display_data",
          "data": {
            "text/html": [
              "<pre>+-----------+--------------+-------------------+---------------------+-------------------+---------------------+</pre>"
            ],
            "text/plain": [
              "+-----------+--------------+-------------------+---------------------+-------------------+---------------------+"
            ]
          },
          "metadata": {}
        },
        {
          "output_type": "display_data",
          "data": {
            "text/html": [
              "<pre>| Iteration | Elapsed Time | Training Accuracy | Validation Accuracy | Training Log Loss | Validation Log Loss |</pre>"
            ],
            "text/plain": [
              "| Iteration | Elapsed Time | Training Accuracy | Validation Accuracy | Training Log Loss | Validation Log Loss |"
            ]
          },
          "metadata": {}
        },
        {
          "output_type": "display_data",
          "data": {
            "text/html": [
              "<pre>+-----------+--------------+-------------------+---------------------+-------------------+---------------------+</pre>"
            ],
            "text/plain": [
              "+-----------+--------------+-------------------+---------------------+-------------------+---------------------+"
            ]
          },
          "metadata": {}
        },
        {
          "output_type": "display_data",
          "data": {
            "text/html": [
              "<pre>| 1         | 2.753117     | 0.871855          | 0.860605            | 0.536042          | 0.541032            |</pre>"
            ],
            "text/plain": [
              "| 1         | 2.753117     | 0.871855          | 0.860605            | 0.536042          | 0.541032            |"
            ]
          },
          "metadata": {}
        },
        {
          "output_type": "display_data",
          "data": {
            "text/html": [
              "<pre>| 2         | 5.493733     | 0.876208          | 0.863602            | 0.448333          | 0.458333            |</pre>"
            ],
            "text/plain": [
              "| 2         | 5.493733     | 0.876208          | 0.863602            | 0.448333          | 0.458333            |"
            ]
          },
          "metadata": {}
        },
        {
          "output_type": "display_data",
          "data": {
            "text/html": [
              "<pre>| 3         | 8.061060     | 0.880233          | 0.867350            | 0.393861          | 0.406739            |</pre>"
            ],
            "text/plain": [
              "| 3         | 8.061060     | 0.880233          | 0.867350            | 0.393861          | 0.406739            |"
            ]
          },
          "metadata": {}
        },
        {
          "output_type": "display_data",
          "data": {
            "text/html": [
              "<pre>| 4         | 10.704676    | 0.882429          | 0.867100            | 0.358234          | 0.374460            |</pre>"
            ],
            "text/plain": [
              "| 4         | 10.704676    | 0.882429          | 0.867100            | 0.358234          | 0.374460            |"
            ]
          },
          "metadata": {}
        },
        {
          "output_type": "display_data",
          "data": {
            "text/html": [
              "<pre>| 5         | 13.359081    | 0.883823          | 0.870847            | 0.332801          | 0.352144            |</pre>"
            ],
            "text/plain": [
              "| 5         | 13.359081    | 0.883823          | 0.870847            | 0.332801          | 0.352144            |"
            ]
          },
          "metadata": {}
        },
        {
          "output_type": "display_data",
          "data": {
            "text/html": [
              "<pre>| 10        | 26.628079    | 0.893528          | 0.876093            | 0.276234          | 0.304244            |</pre>"
            ],
            "text/plain": [
              "| 10        | 26.628079    | 0.893528          | 0.876093            | 0.276234          | 0.304244            |"
            ]
          },
          "metadata": {}
        },
        {
          "output_type": "display_data",
          "data": {
            "text/html": [
              "<pre>+-----------+--------------+-------------------+---------------------+-------------------+---------------------+</pre>"
            ],
            "text/plain": [
              "+-----------+--------------+-------------------+---------------------+-------------------+---------------------+"
            ]
          },
          "metadata": {}
        }
      ]
    },
    {
      "cell_type": "code",
      "metadata": {
        "colab": {
          "base_uri": "https://localhost:8080/"
        },
        "id": "dPgqnpa5avi7",
        "outputId": "1a24fa72-d49b-43f5-d8b0-fcd0236a3d21"
      },
      "source": [
        "affin_eval = cls.evaluate(test)\n",
        "affin_eval"
      ],
      "execution_count": null,
      "outputs": [
        {
          "output_type": "execute_result",
          "data": {
            "text/plain": [
              "{'accuracy': 0.8844072552359956,\n",
              " 'auc': 0.887019437078338,\n",
              " 'confusion_matrix': Columns:\n",
              " \ttarget_label\tstr\n",
              " \tpredicted_label\tstr\n",
              " \tcount\tint\n",
              " \n",
              " Rows: 4\n",
              " \n",
              " Data:\n",
              " +--------------+-----------------+-------+\n",
              " | target_label | predicted_label | count |\n",
              " +--------------+-----------------+-------+\n",
              " |   OneStar    |     FiveStar    |  1992 |\n",
              " |   FiveStar   |     OneStar     |  315  |\n",
              " |   OneStar    |     OneStar     |  1158 |\n",
              " |   FiveStar   |     FiveStar    | 16493 |\n",
              " +--------------+-----------------+-------+\n",
              " [4 rows x 3 columns],\n",
              " 'f1_score': 0.500973393900065,\n",
              " 'log_loss': 0.2934916841324498,\n",
              " 'precision': 0.7861507128309573,\n",
              " 'recall': 0.3676190476190476,\n",
              " 'roc_curve': Columns:\n",
              " \tthreshold\tfloat\n",
              " \tfpr\tfloat\n",
              " \ttpr\tfloat\n",
              " \tp\tint\n",
              " \tn\tint\n",
              " \n",
              " Rows: 1001\n",
              " \n",
              " Data:\n",
              " +-----------+-----+-----+------+-------+\n",
              " | threshold | fpr | tpr |  p   |   n   |\n",
              " +-----------+-----+-----+------+-------+\n",
              " |    0.0    | 1.0 | 1.0 | 3150 | 16808 |\n",
              " |   0.001   | 1.0 | 1.0 | 3150 | 16808 |\n",
              " |   0.002   | 1.0 | 1.0 | 3150 | 16808 |\n",
              " |   0.003   | 1.0 | 1.0 | 3150 | 16808 |\n",
              " |   0.004   | 1.0 | 1.0 | 3150 | 16808 |\n",
              " |   0.005   | 1.0 | 1.0 | 3150 | 16808 |\n",
              " |   0.006   | 1.0 | 1.0 | 3150 | 16808 |\n",
              " |   0.007   | 1.0 | 1.0 | 3150 | 16808 |\n",
              " |   0.008   | 1.0 | 1.0 | 3150 | 16808 |\n",
              " |   0.009   | 1.0 | 1.0 | 3150 | 16808 |\n",
              " +-----------+-----+-----+------+-------+\n",
              " [1001 rows x 5 columns]\n",
              " Note: Only the head of the SFrame is printed.\n",
              " You can use print_rows(num_rows=m, num_columns=n) to print more rows and columns.}"
            ]
          },
          "metadata": {},
          "execution_count": 14
        }
      ]
    },
    {
      "cell_type": "code",
      "metadata": {
        "colab": {
          "base_uri": "https://localhost:8080/"
        },
        "id": "ysL5rKs2bF65",
        "outputId": "d7f066f3-4325-4ac4-eeea-9617c36660db"
      },
      "source": [
        "! pip install -U textblob\n",
        "! python -m textblob.download_corpora"
      ],
      "execution_count": null,
      "outputs": [
        {
          "output_type": "stream",
          "name": "stdout",
          "text": [
            "Requirement already satisfied: textblob in /usr/local/lib/python3.7/dist-packages (0.15.3)\n",
            "Collecting textblob\n",
            "  Downloading textblob-0.17.1-py2.py3-none-any.whl (636 kB)\n",
            "\u001b[K     |████████████████████████████████| 636 kB 5.5 MB/s \n",
            "\u001b[?25hRequirement already satisfied: nltk>=3.1 in /usr/local/lib/python3.7/dist-packages (from textblob) (3.2.5)\n",
            "Requirement already satisfied: six in /usr/local/lib/python3.7/dist-packages (from nltk>=3.1->textblob) (1.15.0)\n",
            "Installing collected packages: textblob\n",
            "  Attempting uninstall: textblob\n",
            "    Found existing installation: textblob 0.15.3\n",
            "    Uninstalling textblob-0.15.3:\n",
            "      Successfully uninstalled textblob-0.15.3\n",
            "Successfully installed textblob-0.17.1\n",
            "[nltk_data] Downloading package brown to /root/nltk_data...\n",
            "[nltk_data]   Unzipping corpora/brown.zip.\n",
            "[nltk_data] Downloading package punkt to /root/nltk_data...\n",
            "[nltk_data]   Unzipping tokenizers/punkt.zip.\n",
            "[nltk_data] Downloading package wordnet to /root/nltk_data...\n",
            "[nltk_data]   Unzipping corpora/wordnet.zip.\n",
            "[nltk_data] Downloading package averaged_perceptron_tagger to\n",
            "[nltk_data]     /root/nltk_data...\n",
            "[nltk_data]   Unzipping taggers/averaged_perceptron_tagger.zip.\n",
            "[nltk_data] Downloading package conll2000 to /root/nltk_data...\n",
            "[nltk_data]   Unzipping corpora/conll2000.zip.\n",
            "[nltk_data] Downloading package movie_reviews to /root/nltk_data...\n",
            "[nltk_data]   Unzipping corpora/movie_reviews.zip.\n",
            "Finished.\n"
          ]
        }
      ]
    },
    {
      "cell_type": "code",
      "metadata": {
        "id": "D3e0ZAZubHYX"
      },
      "source": [
        "from textblob import TextBlob\n",
        "\n",
        "train['blob_score'] = train['Text'].apply(lambda t: TextBlob(t).sentences[0].polarity)\n",
        "test['blob_score'] = test['Text'].apply(lambda t: TextBlob(t).sentences[0].polarity)"
      ],
      "execution_count": null,
      "outputs": []
    },
    {
      "cell_type": "code",
      "metadata": {
        "colab": {
          "base_uri": "https://localhost:8080/",
          "height": 349
        },
        "id": "13N04aXJb7ZN",
        "outputId": "2d206354-c1fd-4032-d81d-4d188c08d6d0"
      },
      "source": [
        "cls = tc.boosted_trees_classifier.create(train[:],features=['blob_score', 'words_1grams', 'words_2grams'], target=\"sentiment\")"
      ],
      "execution_count": null,
      "outputs": [
        {
          "output_type": "stream",
          "name": "stdout",
          "text": [
            "PROGRESS: Creating a validation set from 5 percent of training data. This may take a while.\n",
            "          You can set ``validation_set=None`` to disable validation tracking.\n",
            "\n"
          ]
        },
        {
          "output_type": "display_data",
          "data": {
            "text/html": [
              "<pre>Boosted trees classifier:</pre>"
            ],
            "text/plain": [
              "Boosted trees classifier:"
            ]
          },
          "metadata": {}
        },
        {
          "output_type": "display_data",
          "data": {
            "text/html": [
              "<pre>--------------------------------------------------------</pre>"
            ],
            "text/plain": [
              "--------------------------------------------------------"
            ]
          },
          "metadata": {}
        },
        {
          "output_type": "display_data",
          "data": {
            "text/html": [
              "<pre>Number of examples          : 76039</pre>"
            ],
            "text/plain": [
              "Number of examples          : 76039"
            ]
          },
          "metadata": {}
        },
        {
          "output_type": "display_data",
          "data": {
            "text/html": [
              "<pre>Number of classes           : 2</pre>"
            ],
            "text/plain": [
              "Number of classes           : 2"
            ]
          },
          "metadata": {}
        },
        {
          "output_type": "display_data",
          "data": {
            "text/html": [
              "<pre>Number of feature columns   : 3</pre>"
            ],
            "text/plain": [
              "Number of feature columns   : 3"
            ]
          },
          "metadata": {}
        },
        {
          "output_type": "display_data",
          "data": {
            "text/html": [
              "<pre>Number of unpacked features : 923583</pre>"
            ],
            "text/plain": [
              "Number of unpacked features : 923583"
            ]
          },
          "metadata": {}
        },
        {
          "output_type": "display_data",
          "data": {
            "text/html": [
              "<pre>+-----------+--------------+-------------------+---------------------+-------------------+---------------------+</pre>"
            ],
            "text/plain": [
              "+-----------+--------------+-------------------+---------------------+-------------------+---------------------+"
            ]
          },
          "metadata": {}
        },
        {
          "output_type": "display_data",
          "data": {
            "text/html": [
              "<pre>| Iteration | Elapsed Time | Training Accuracy | Validation Accuracy | Training Log Loss | Validation Log Loss |</pre>"
            ],
            "text/plain": [
              "| Iteration | Elapsed Time | Training Accuracy | Validation Accuracy | Training Log Loss | Validation Log Loss |"
            ]
          },
          "metadata": {}
        },
        {
          "output_type": "display_data",
          "data": {
            "text/html": [
              "<pre>+-----------+--------------+-------------------+---------------------+-------------------+---------------------+</pre>"
            ],
            "text/plain": [
              "+-----------+--------------+-------------------+---------------------+-------------------+---------------------+"
            ]
          },
          "metadata": {}
        },
        {
          "output_type": "display_data",
          "data": {
            "text/html": [
              "<pre>| 1         | 2.707361     | 0.856153          | 0.859355            | 0.551522          | 0.551054            |</pre>"
            ],
            "text/plain": [
              "| 1         | 2.707361     | 0.856153          | 0.859355            | 0.551522          | 0.551054            |"
            ]
          },
          "metadata": {}
        },
        {
          "output_type": "display_data",
          "data": {
            "text/html": [
              "<pre>| 2         | 5.396050     | 0.865451          | 0.867100            | 0.473346          | 0.472646            |</pre>"
            ],
            "text/plain": [
              "| 2         | 5.396050     | 0.865451          | 0.867100            | 0.473346          | 0.472646            |"
            ]
          },
          "metadata": {}
        },
        {
          "output_type": "display_data",
          "data": {
            "text/html": [
              "<pre>| 3         | 8.064013     | 0.864464          | 0.868349            | 0.424212          | 0.423670            |</pre>"
            ],
            "text/plain": [
              "| 3         | 8.064013     | 0.864464          | 0.868349            | 0.424212          | 0.423670            |"
            ]
          },
          "metadata": {}
        },
        {
          "output_type": "display_data",
          "data": {
            "text/html": [
              "<pre>| 4         | 10.703114    | 0.864451          | 0.867849            | 0.390919          | 0.389858            |</pre>"
            ],
            "text/plain": [
              "| 4         | 10.703114    | 0.864451          | 0.867849            | 0.390919          | 0.389858            |"
            ]
          },
          "metadata": {}
        },
        {
          "output_type": "display_data",
          "data": {
            "text/html": [
              "<pre>| 5         | 13.439203    | 0.865451          | 0.868599            | 0.367457          | 0.367917            |</pre>"
            ],
            "text/plain": [
              "| 5         | 13.439203    | 0.865451          | 0.868599            | 0.367457          | 0.367917            |"
            ]
          },
          "metadata": {}
        },
        {
          "output_type": "display_data",
          "data": {
            "text/html": [
              "<pre>| 10        | 26.445969    | 0.877721          | 0.882338            | 0.308081          | 0.311507            |</pre>"
            ],
            "text/plain": [
              "| 10        | 26.445969    | 0.877721          | 0.882338            | 0.308081          | 0.311507            |"
            ]
          },
          "metadata": {}
        },
        {
          "output_type": "display_data",
          "data": {
            "text/html": [
              "<pre>+-----------+--------------+-------------------+---------------------+-------------------+---------------------+</pre>"
            ],
            "text/plain": [
              "+-----------+--------------+-------------------+---------------------+-------------------+---------------------+"
            ]
          },
          "metadata": {}
        }
      ]
    },
    {
      "cell_type": "code",
      "metadata": {
        "colab": {
          "base_uri": "https://localhost:8080/"
        },
        "id": "nla9dOzub-wy",
        "outputId": "d5107909-dbeb-4f64-d3ea-925d64f3a6dc"
      },
      "source": [
        "textblob_eval = cls.evaluate(test)\n",
        "textblob_eval"
      ],
      "execution_count": null,
      "outputs": [
        {
          "output_type": "execute_result",
          "data": {
            "text/plain": [
              "{'accuracy': 0.8732337909610182,\n",
              " 'auc': 0.8636379501824526,\n",
              " 'confusion_matrix': Columns:\n",
              " \ttarget_label\tstr\n",
              " \tpredicted_label\tstr\n",
              " \tcount\tint\n",
              " \n",
              " Rows: 4\n",
              " \n",
              " Data:\n",
              " +--------------+-----------------+-------+\n",
              " | target_label | predicted_label | count |\n",
              " +--------------+-----------------+-------+\n",
              " |   FiveStar   |     OneStar     |   83  |\n",
              " |   OneStar    |     FiveStar    |  2447 |\n",
              " |   OneStar    |     OneStar     |  703  |\n",
              " |   FiveStar   |     FiveStar    | 16725 |\n",
              " +--------------+-----------------+-------+\n",
              " [4 rows x 3 columns],\n",
              " 'f1_score': 0.35721544715447157,\n",
              " 'log_loss': 0.3204299175682551,\n",
              " 'precision': 0.8944020356234097,\n",
              " 'recall': 0.22317460317460316,\n",
              " 'roc_curve': Columns:\n",
              " \tthreshold\tfloat\n",
              " \tfpr\tfloat\n",
              " \ttpr\tfloat\n",
              " \tp\tint\n",
              " \tn\tint\n",
              " \n",
              " Rows: 1001\n",
              " \n",
              " Data:\n",
              " +-----------+-----+-----+------+-------+\n",
              " | threshold | fpr | tpr |  p   |   n   |\n",
              " +-----------+-----+-----+------+-------+\n",
              " |    0.0    | 1.0 | 1.0 | 3150 | 16808 |\n",
              " |   0.001   | 1.0 | 1.0 | 3150 | 16808 |\n",
              " |   0.002   | 1.0 | 1.0 | 3150 | 16808 |\n",
              " |   0.003   | 1.0 | 1.0 | 3150 | 16808 |\n",
              " |   0.004   | 1.0 | 1.0 | 3150 | 16808 |\n",
              " |   0.005   | 1.0 | 1.0 | 3150 | 16808 |\n",
              " |   0.006   | 1.0 | 1.0 | 3150 | 16808 |\n",
              " |   0.007   | 1.0 | 1.0 | 3150 | 16808 |\n",
              " |   0.008   | 1.0 | 1.0 | 3150 | 16808 |\n",
              " |   0.009   | 1.0 | 1.0 | 3150 | 16808 |\n",
              " +-----------+-----+-----+------+-------+\n",
              " [1001 rows x 5 columns]\n",
              " Note: Only the head of the SFrame is printed.\n",
              " You can use print_rows(num_rows=m, num_columns=n) to print more rows and columns.}"
            ]
          },
          "metadata": {},
          "execution_count": 18
        }
      ]
    },
    {
      "cell_type": "code",
      "metadata": {
        "colab": {
          "base_uri": "https://localhost:8080/",
          "height": 284
        },
        "id": "ovBf0mjNcHHG",
        "outputId": "11876b86-e3b8-4911-88ce-6505dd2dbe99"
      },
      "source": [
        "# Compare the two classifiers results and visualize it (however you want) \n",
        "import pandas as pd\n",
        "auc_scores = pd.DataFrame()\n",
        "auc_scores['textblob'] = [textblob_eval['auc']]\n",
        "auc_scores['affin'] = [affin_eval['auc']]\n",
        "\n",
        "import seaborn as sns\n",
        "import matplotlib.pyplot as plt\n",
        "\n",
        "sns.set_theme(style=\"whitegrid\")\n",
        "ax = sns.barplot(data=auc_scores,\n",
        "                 linewidth=2.5, facecolor=(1, 1, 1, 0),\n",
        "                 errcolor=\".2\", edgecolor=\".2\")\n",
        "ax.set_xticklabels(ax.get_xticklabels(), rotation=0)\n",
        "plt.title(\"Two classifiers' auc\")\n",
        "for p in ax.patches:\n",
        "             ax.annotate(\"%f\" % p.get_height(), (p.get_x() + p.get_width() / 2., p.get_height()),\n",
        "                 ha='center', va='center', fontsize=10, color='black', xytext=(0, 5),\n",
        "                 textcoords='offset points')\n"
      ],
      "execution_count": null,
      "outputs": [
        {
          "output_type": "display_data",
          "data": {
            "image/png": "[encoded data removed]",
            "text/plain": [
              "<Figure size 432x288 with 1 Axes>"
            ]
          },
          "metadata": {}
        }
      ]
    },
    {
      "cell_type": "markdown",
      "metadata": {
        "id": "GklKQldybCyP"
      },
      "source": [
        "**Question 3:**  Select a different reviews dataset and create a sentiment classifier which utilizes word embeddings (25pt).\n",
        "Evaluate this classifier (5pt). Try to improve your classifier by adding additional features (20pt)"
      ]
    },
    {
      "cell_type": "code",
      "metadata": {
        "id": "MgS9j6eRbCyQ",
        "colab": {
          "base_uri": "https://localhost:8080/"
        },
        "outputId": "9573ee48-9b44-429a-b1f0-c54761959d80"
      },
      "source": [
        "!mkdir ./datasets/100k-courseras-course-reviews-dataset\n",
        "\n",
        "# download the dataset from Kaggle and unzip it\n",
        "!kaggle datasets download septa97/100k-courseras-course-reviews-dataset -f reviews.csv  -p ./datasets/100k-courseras-course-reviews-dataset\n",
        "!unzip ./datasets/100k-courseras-course-reviews-dataset/*.zip  -d ./datasets/100k-courseras-course-reviews-dataset/"
      ],
      "execution_count": 43,
      "outputs": [
        {
          "output_type": "stream",
          "name": "stdout",
          "text": [
            "mkdir: cannot create directory ‘./datasets/100k-courseras-course-reviews-dataset’: File exists\n",
            "reviews.csv.zip: Skipping, found more recently modified local copy (use --force to force download)\n",
            "Archive:  ./datasets/100k-courseras-course-reviews-dataset/reviews.csv.zip\n",
            "replace ./datasets/100k-courseras-course-reviews-dataset/reviews.csv? [y]es, [n]o, [A]ll, [N]one, [r]ename: y\n",
            "  inflating: ./datasets/100k-courseras-course-reviews-dataset/reviews.csv  \n"
          ]
        }
      ]
    },
    {
      "cell_type": "code",
      "metadata": {
        "colab": {
          "base_uri": "https://localhost:8080/",
          "height": 636
        },
        "id": "k7nV6APvo1OM",
        "outputId": "bf94635d-9ac9-4931-d5c6-38650c8acec7"
      },
      "source": [
        "import turicreate as tc\n",
        "sf = tc.SFrame.read_csv(\"./datasets/100k-courseras-course-reviews-dataset/reviews.csv\")\n",
        "sf"
      ],
      "execution_count": 3,
      "outputs": [
        {
          "output_type": "display_data",
          "data": {
            "text/html": [
              "<pre>Finished parsing file /content/datasets/100k-courseras-course-reviews-dataset/reviews.csv</pre>"
            ],
            "text/plain": [
              "Finished parsing file /content/datasets/100k-courseras-course-reviews-dataset/reviews.csv"
            ]
          },
          "metadata": {}
        },
        {
          "output_type": "display_data",
          "data": {
            "text/html": [
              "<pre>Parsing completed. Parsed 100 lines in 0.513677 secs.</pre>"
            ],
            "text/plain": [
              "Parsing completed. Parsed 100 lines in 0.513677 secs."
            ]
          },
          "metadata": {}
        },
        {
          "output_type": "stream",
          "name": "stdout",
          "text": [
            "------------------------------------------------------\n",
            "Inferred types from first 100 line(s) of file as \n",
            "column_type_hints=[int,str,int]\n",
            "If parsing fails due to incorrect types, you can correct\n",
            "the inferred type list above and pass it to read_csv in\n",
            "the column_type_hints argument\n",
            "------------------------------------------------------\n"
          ]
        },
        {
          "output_type": "display_data",
          "data": {
            "text/html": [
              "<pre>Finished parsing file /content/datasets/100k-courseras-course-reviews-dataset/reviews.csv</pre>"
            ],
            "text/plain": [
              "Finished parsing file /content/datasets/100k-courseras-course-reviews-dataset/reviews.csv"
            ]
          },
          "metadata": {}
        },
        {
          "output_type": "display_data",
          "data": {
            "text/html": [
              "<pre>Parsing completed. Parsed 107018 lines in 0.368464 secs.</pre>"
            ],
            "text/plain": [
              "Parsing completed. Parsed 107018 lines in 0.368464 secs."
            ]
          },
          "metadata": {}
        },
        {
          "output_type": "execute_result",
          "data": {
            "text/html": [
              "<div style=\"max-height:1000px;max-width:1500px;overflow:auto;\"><table frame=\"box\" rules=\"cols\">\n",
              "    <tr>\n",
              "        <th style=\"padding-left: 1em; padding-right: 1em; text-align: center\">Id</th>\n",
              "        <th style=\"padding-left: 1em; padding-right: 1em; text-align: center\">Review</th>\n",
              "        <th style=\"padding-left: 1em; padding-right: 1em; text-align: center\">Label</th>\n",
              "    </tr>\n",
              "    <tr>\n",
              "        <td style=\"padding-left: 1em; padding-right: 1em; text-align: center; vertical-align: top\">0</td>\n",
              "        <td style=\"padding-left: 1em; padding-right: 1em; text-align: center; vertical-align: top\">good and interesting</td>\n",
              "        <td style=\"padding-left: 1em; padding-right: 1em; text-align: center; vertical-align: top\">5</td>\n",
              "    </tr>\n",
              "    <tr>\n",
              "        <td style=\"padding-left: 1em; padding-right: 1em; text-align: center; vertical-align: top\">1</td>\n",
              "        <td style=\"padding-left: 1em; padding-right: 1em; text-align: center; vertical-align: top\">This class is very<br>helpful to me. Curren ...</td>\n",
              "        <td style=\"padding-left: 1em; padding-right: 1em; text-align: center; vertical-align: top\">5</td>\n",
              "    </tr>\n",
              "    <tr>\n",
              "        <td style=\"padding-left: 1em; padding-right: 1em; text-align: center; vertical-align: top\">2</td>\n",
              "        <td style=\"padding-left: 1em; padding-right: 1em; text-align: center; vertical-align: top\">like!Prof and TAs are<br>helpful and the ...</td>\n",
              "        <td style=\"padding-left: 1em; padding-right: 1em; text-align: center; vertical-align: top\">5</td>\n",
              "    </tr>\n",
              "    <tr>\n",
              "        <td style=\"padding-left: 1em; padding-right: 1em; text-align: center; vertical-align: top\">3</td>\n",
              "        <td style=\"padding-left: 1em; padding-right: 1em; text-align: center; vertical-align: top\">Easy to follow and<br>includes a lot basic and ...</td>\n",
              "        <td style=\"padding-left: 1em; padding-right: 1em; text-align: center; vertical-align: top\">5</td>\n",
              "    </tr>\n",
              "    <tr>\n",
              "        <td style=\"padding-left: 1em; padding-right: 1em; text-align: center; vertical-align: top\">4</td>\n",
              "        <td style=\"padding-left: 1em; padding-right: 1em; text-align: center; vertical-align: top\">Really nice teacher!I<br>could got the point ...</td>\n",
              "        <td style=\"padding-left: 1em; padding-right: 1em; text-align: center; vertical-align: top\">4</td>\n",
              "    </tr>\n",
              "    <tr>\n",
              "        <td style=\"padding-left: 1em; padding-right: 1em; text-align: center; vertical-align: top\">5</td>\n",
              "        <td style=\"padding-left: 1em; padding-right: 1em; text-align: center; vertical-align: top\">Great course - I<br>recommend it for all, ...</td>\n",
              "        <td style=\"padding-left: 1em; padding-right: 1em; text-align: center; vertical-align: top\">5</td>\n",
              "    </tr>\n",
              "    <tr>\n",
              "        <td style=\"padding-left: 1em; padding-right: 1em; text-align: center; vertical-align: top\">6</td>\n",
              "        <td style=\"padding-left: 1em; padding-right: 1em; text-align: center; vertical-align: top\">One of the most useful<br>course on IT Management! ...</td>\n",
              "        <td style=\"padding-left: 1em; padding-right: 1em; text-align: center; vertical-align: top\">5</td>\n",
              "    </tr>\n",
              "    <tr>\n",
              "        <td style=\"padding-left: 1em; padding-right: 1em; text-align: center; vertical-align: top\">7</td>\n",
              "        <td style=\"padding-left: 1em; padding-right: 1em; text-align: center; vertical-align: top\">I was disappointed<br>because the name is ...</td>\n",
              "        <td style=\"padding-left: 1em; padding-right: 1em; text-align: center; vertical-align: top\">3</td>\n",
              "    </tr>\n",
              "    <tr>\n",
              "        <td style=\"padding-left: 1em; padding-right: 1em; text-align: center; vertical-align: top\">8</td>\n",
              "        <td style=\"padding-left: 1em; padding-right: 1em; text-align: center; vertical-align: top\">Super content. I&#x27;ll<br>definitely re-do the ...</td>\n",
              "        <td style=\"padding-left: 1em; padding-right: 1em; text-align: center; vertical-align: top\">5</td>\n",
              "    </tr>\n",
              "    <tr>\n",
              "        <td style=\"padding-left: 1em; padding-right: 1em; text-align: center; vertical-align: top\">9</td>\n",
              "        <td style=\"padding-left: 1em; padding-right: 1em; text-align: center; vertical-align: top\">One of the excellent<br>courses at Coursera for ...</td>\n",
              "        <td style=\"padding-left: 1em; padding-right: 1em; text-align: center; vertical-align: top\">5</td>\n",
              "    </tr>\n",
              "</table>\n",
              "[107018 rows x 3 columns]<br/>Note: Only the head of the SFrame is printed.<br/>You can use print_rows(num_rows=m, num_columns=n) to print more rows and columns.\n",
              "</div>"
            ],
            "text/plain": [
              "Columns:\n",
              "\tId\tint\n",
              "\tReview\tstr\n",
              "\tLabel\tint\n",
              "\n",
              "Rows: 107018\n",
              "\n",
              "Data:\n",
              "+----+-------------------------------+-------+\n",
              "| Id |             Review            | Label |\n",
              "+----+-------------------------------+-------+\n",
              "| 0  |      good and interesting     |   5   |\n",
              "| 1  | This class is very helpful... |   5   |\n",
              "| 2  | like!Prof and TAs are help... |   5   |\n",
              "| 3  | Easy to follow and include... |   5   |\n",
              "| 4  | Really nice teacher!I coul... |   4   |\n",
              "| 5  | Great course - I recommend... |   5   |\n",
              "| 6  | One of the most useful cou... |   5   |\n",
              "| 7  | I was disappointed because... |   3   |\n",
              "| 8  | Super content. I'll defini... |   5   |\n",
              "| 9  | One of the excellent cours... |   5   |\n",
              "+----+-------------------------------+-------+\n",
              "[107018 rows x 3 columns]\n",
              "Note: Only the head of the SFrame is printed.\n",
              "You can use print_rows(num_rows=m, num_columns=n) to print more rows and columns."
            ]
          },
          "metadata": {},
          "execution_count": 3
        }
      ]
    },
    {
      "cell_type": "code",
      "metadata": {
        "colab": {
          "base_uri": "https://localhost:8080/",
          "height": 440
        },
        "id": "ScIgFWDwxh0g",
        "outputId": "191fcb12-302b-4b67-a1d3-8078b28379b7"
      },
      "source": [
        "sf = sf[sf['Label'] != 3]\n",
        "def label2sentiment(label):\n",
        "    if label >= 4:\n",
        "        return \"Positive\"\n",
        "    else:\n",
        "        return \"Negative\"\n",
        "\n",
        "sf['sentiment'] = sf['Label'].apply(lambda label: label2sentiment(label))\n",
        "sf"
      ],
      "execution_count": 4,
      "outputs": [
        {
          "output_type": "execute_result",
          "data": {
            "text/html": [
              "<div style=\"max-height:1000px;max-width:1500px;overflow:auto;\"><table frame=\"box\" rules=\"cols\">\n",
              "    <tr>\n",
              "        <th style=\"padding-left: 1em; padding-right: 1em; text-align: center\">Id</th>\n",
              "        <th style=\"padding-left: 1em; padding-right: 1em; text-align: center\">Review</th>\n",
              "        <th style=\"padding-left: 1em; padding-right: 1em; text-align: center\">Label</th>\n",
              "        <th style=\"padding-left: 1em; padding-right: 1em; text-align: center\">sentiment</th>\n",
              "    </tr>\n",
              "    <tr>\n",
              "        <td style=\"padding-left: 1em; padding-right: 1em; text-align: center; vertical-align: top\">0</td>\n",
              "        <td style=\"padding-left: 1em; padding-right: 1em; text-align: center; vertical-align: top\">good and interesting</td>\n",
              "        <td style=\"padding-left: 1em; padding-right: 1em; text-align: center; vertical-align: top\">5</td>\n",
              "        <td style=\"padding-left: 1em; padding-right: 1em; text-align: center; vertical-align: top\">Positive</td>\n",
              "    </tr>\n",
              "    <tr>\n",
              "        <td style=\"padding-left: 1em; padding-right: 1em; text-align: center; vertical-align: top\">1</td>\n",
              "        <td style=\"padding-left: 1em; padding-right: 1em; text-align: center; vertical-align: top\">This class is very<br>helpful to me. Curren ...</td>\n",
              "        <td style=\"padding-left: 1em; padding-right: 1em; text-align: center; vertical-align: top\">5</td>\n",
              "        <td style=\"padding-left: 1em; padding-right: 1em; text-align: center; vertical-align: top\">Positive</td>\n",
              "    </tr>\n",
              "    <tr>\n",
              "        <td style=\"padding-left: 1em; padding-right: 1em; text-align: center; vertical-align: top\">2</td>\n",
              "        <td style=\"padding-left: 1em; padding-right: 1em; text-align: center; vertical-align: top\">like!Prof and TAs are<br>helpful and the ...</td>\n",
              "        <td style=\"padding-left: 1em; padding-right: 1em; text-align: center; vertical-align: top\">5</td>\n",
              "        <td style=\"padding-left: 1em; padding-right: 1em; text-align: center; vertical-align: top\">Positive</td>\n",
              "    </tr>\n",
              "    <tr>\n",
              "        <td style=\"padding-left: 1em; padding-right: 1em; text-align: center; vertical-align: top\">3</td>\n",
              "        <td style=\"padding-left: 1em; padding-right: 1em; text-align: center; vertical-align: top\">Easy to follow and<br>includes a lot basic and ...</td>\n",
              "        <td style=\"padding-left: 1em; padding-right: 1em; text-align: center; vertical-align: top\">5</td>\n",
              "        <td style=\"padding-left: 1em; padding-right: 1em; text-align: center; vertical-align: top\">Positive</td>\n",
              "    </tr>\n",
              "    <tr>\n",
              "        <td style=\"padding-left: 1em; padding-right: 1em; text-align: center; vertical-align: top\">4</td>\n",
              "        <td style=\"padding-left: 1em; padding-right: 1em; text-align: center; vertical-align: top\">Really nice teacher!I<br>could got the point ...</td>\n",
              "        <td style=\"padding-left: 1em; padding-right: 1em; text-align: center; vertical-align: top\">4</td>\n",
              "        <td style=\"padding-left: 1em; padding-right: 1em; text-align: center; vertical-align: top\">Positive</td>\n",
              "    </tr>\n",
              "    <tr>\n",
              "        <td style=\"padding-left: 1em; padding-right: 1em; text-align: center; vertical-align: top\">5</td>\n",
              "        <td style=\"padding-left: 1em; padding-right: 1em; text-align: center; vertical-align: top\">Great course - I<br>recommend it for all, ...</td>\n",
              "        <td style=\"padding-left: 1em; padding-right: 1em; text-align: center; vertical-align: top\">5</td>\n",
              "        <td style=\"padding-left: 1em; padding-right: 1em; text-align: center; vertical-align: top\">Positive</td>\n",
              "    </tr>\n",
              "    <tr>\n",
              "        <td style=\"padding-left: 1em; padding-right: 1em; text-align: center; vertical-align: top\">6</td>\n",
              "        <td style=\"padding-left: 1em; padding-right: 1em; text-align: center; vertical-align: top\">One of the most useful<br>course on IT Management! ...</td>\n",
              "        <td style=\"padding-left: 1em; padding-right: 1em; text-align: center; vertical-align: top\">5</td>\n",
              "        <td style=\"padding-left: 1em; padding-right: 1em; text-align: center; vertical-align: top\">Positive</td>\n",
              "    </tr>\n",
              "    <tr>\n",
              "        <td style=\"padding-left: 1em; padding-right: 1em; text-align: center; vertical-align: top\">8</td>\n",
              "        <td style=\"padding-left: 1em; padding-right: 1em; text-align: center; vertical-align: top\">Super content. I&#x27;ll<br>definitely re-do the ...</td>\n",
              "        <td style=\"padding-left: 1em; padding-right: 1em; text-align: center; vertical-align: top\">5</td>\n",
              "        <td style=\"padding-left: 1em; padding-right: 1em; text-align: center; vertical-align: top\">Positive</td>\n",
              "    </tr>\n",
              "    <tr>\n",
              "        <td style=\"padding-left: 1em; padding-right: 1em; text-align: center; vertical-align: top\">9</td>\n",
              "        <td style=\"padding-left: 1em; padding-right: 1em; text-align: center; vertical-align: top\">One of the excellent<br>courses at Coursera for ...</td>\n",
              "        <td style=\"padding-left: 1em; padding-right: 1em; text-align: center; vertical-align: top\">5</td>\n",
              "        <td style=\"padding-left: 1em; padding-right: 1em; text-align: center; vertical-align: top\">Positive</td>\n",
              "    </tr>\n",
              "    <tr>\n",
              "        <td style=\"padding-left: 1em; padding-right: 1em; text-align: center; vertical-align: top\">10</td>\n",
              "        <td style=\"padding-left: 1em; padding-right: 1em; text-align: center; vertical-align: top\">Is there any reason why<br>you should not apply the ...</td>\n",
              "        <td style=\"padding-left: 1em; padding-right: 1em; text-align: center; vertical-align: top\">5</td>\n",
              "        <td style=\"padding-left: 1em; padding-right: 1em; text-align: center; vertical-align: top\">Positive</td>\n",
              "    </tr>\n",
              "</table>\n",
              "[101947 rows x 4 columns]<br/>Note: Only the head of the SFrame is printed.<br/>You can use print_rows(num_rows=m, num_columns=n) to print more rows and columns.\n",
              "</div>"
            ],
            "text/plain": [
              "Columns:\n",
              "\tId\tint\n",
              "\tReview\tstr\n",
              "\tLabel\tint\n",
              "\tsentiment\tstr\n",
              "\n",
              "Rows: 101947\n",
              "\n",
              "Data:\n",
              "+----+-------------------------------+-------+-----------+\n",
              "| Id |             Review            | Label | sentiment |\n",
              "+----+-------------------------------+-------+-----------+\n",
              "| 0  |      good and interesting     |   5   |  Positive |\n",
              "| 1  | This class is very helpful... |   5   |  Positive |\n",
              "| 2  | like!Prof and TAs are help... |   5   |  Positive |\n",
              "| 3  | Easy to follow and include... |   5   |  Positive |\n",
              "| 4  | Really nice teacher!I coul... |   4   |  Positive |\n",
              "| 5  | Great course - I recommend... |   5   |  Positive |\n",
              "| 6  | One of the most useful cou... |   5   |  Positive |\n",
              "| 8  | Super content. I'll defini... |   5   |  Positive |\n",
              "| 9  | One of the excellent cours... |   5   |  Positive |\n",
              "| 10 | Is there any reason why yo... |   5   |  Positive |\n",
              "+----+-------------------------------+-------+-----------+\n",
              "[101947 rows x 4 columns]\n",
              "Note: Only the head of the SFrame is printed.\n",
              "You can use print_rows(num_rows=m, num_columns=n) to print more rows and columns."
            ]
          },
          "metadata": {},
          "execution_count": 4
        }
      ]
    },
    {
      "cell_type": "code",
      "metadata": {
        "id": "ibDcIOLy2vNb"
      },
      "source": [
        "import spacy\n",
        "#!python -m spacy download en_core_web_lg # Important! you need to restart runtime after install\n",
        "nlp = spacy.load('en_core_web_lg')"
      ],
      "execution_count": null,
      "outputs": []
    },
    {
      "cell_type": "code",
      "metadata": {
        "colab": {
          "base_uri": "https://localhost:8080/",
          "height": 475
        },
        "id": "f5ACCXAXx1qu",
        "outputId": "b5805efd-9f15-4eca-ca23-27a23a7a09c1"
      },
      "source": [
        "from tqdm import tqdm\n",
        "l = []\n",
        "for i in tqdm(range(len(sf))):\n",
        "    text = sf[i][\"Review\"]\n",
        "    l.append(nlp(text).vector)\n",
        "sf['vector'] = l \n",
        "sf"
      ],
      "execution_count": 5,
      "outputs": [
        {
          "output_type": "stream",
          "name": "stderr",
          "text": [
            "100%|██████████| 101947/101947 [24:21<00:00, 69.74it/s]\n"
          ]
        },
        {
          "output_type": "execute_result",
          "data": {
            "text/html": [
              "<div style=\"max-height:1000px;max-width:1500px;overflow:auto;\"><table frame=\"box\" rules=\"cols\">\n",
              "    <tr>\n",
              "        <th style=\"padding-left: 1em; padding-right: 1em; text-align: center\">Id</th>\n",
              "        <th style=\"padding-left: 1em; padding-right: 1em; text-align: center\">Review</th>\n",
              "        <th style=\"padding-left: 1em; padding-right: 1em; text-align: center\">Label</th>\n",
              "        <th style=\"padding-left: 1em; padding-right: 1em; text-align: center\">sentiment</th>\n",
              "        <th style=\"padding-left: 1em; padding-right: 1em; text-align: center\">vector</th>\n",
              "    </tr>\n",
              "    <tr>\n",
              "        <td style=\"padding-left: 1em; padding-right: 1em; text-align: center; vertical-align: top\">0</td>\n",
              "        <td style=\"padding-left: 1em; padding-right: 1em; text-align: center; vertical-align: top\">good and interesting</td>\n",
              "        <td style=\"padding-left: 1em; padding-right: 1em; text-align: center; vertical-align: top\">5</td>\n",
              "        <td style=\"padding-left: 1em; padding-right: 1em; text-align: center; vertical-align: top\">Positive</td>\n",
              "        <td style=\"padding-left: 1em; padding-right: 1em; text-align: center; vertical-align: top\">[-2.32115671e-01<br>2.32182667e-01 ...</td>\n",
              "    </tr>\n",
              "    <tr>\n",
              "        <td style=\"padding-left: 1em; padding-right: 1em; text-align: center; vertical-align: top\">1</td>\n",
              "        <td style=\"padding-left: 1em; padding-right: 1em; text-align: center; vertical-align: top\">This class is very<br>helpful to me. Curren ...</td>\n",
              "        <td style=\"padding-left: 1em; padding-right: 1em; text-align: center; vertical-align: top\">5</td>\n",
              "        <td style=\"padding-left: 1em; padding-right: 1em; text-align: center; vertical-align: top\">Positive</td>\n",
              "        <td style=\"padding-left: 1em; padding-right: 1em; text-align: center; vertical-align: top\">[-5.86119713e-04<br>2.56630570e-01 ...</td>\n",
              "    </tr>\n",
              "    <tr>\n",
              "        <td style=\"padding-left: 1em; padding-right: 1em; text-align: center; vertical-align: top\">2</td>\n",
              "        <td style=\"padding-left: 1em; padding-right: 1em; text-align: center; vertical-align: top\">like!Prof and TAs are<br>helpful and the ...</td>\n",
              "        <td style=\"padding-left: 1em; padding-right: 1em; text-align: center; vertical-align: top\">5</td>\n",
              "        <td style=\"padding-left: 1em; padding-right: 1em; text-align: center; vertical-align: top\">Positive</td>\n",
              "        <td style=\"padding-left: 1em; padding-right: 1em; text-align: center; vertical-align: top\">[-9.35494304e-02<br>8.32590014e-02 ...</td>\n",
              "    </tr>\n",
              "    <tr>\n",
              "        <td style=\"padding-left: 1em; padding-right: 1em; text-align: center; vertical-align: top\">3</td>\n",
              "        <td style=\"padding-left: 1em; padding-right: 1em; text-align: center; vertical-align: top\">Easy to follow and<br>includes a lot basic and ...</td>\n",
              "        <td style=\"padding-left: 1em; padding-right: 1em; text-align: center; vertical-align: top\">5</td>\n",
              "        <td style=\"padding-left: 1em; padding-right: 1em; text-align: center; vertical-align: top\">Positive</td>\n",
              "        <td style=\"padding-left: 1em; padding-right: 1em; text-align: center; vertical-align: top\">[-6.36644140e-02<br>8.63443241e-02 ...</td>\n",
              "    </tr>\n",
              "    <tr>\n",
              "        <td style=\"padding-left: 1em; padding-right: 1em; text-align: center; vertical-align: top\">4</td>\n",
              "        <td style=\"padding-left: 1em; padding-right: 1em; text-align: center; vertical-align: top\">Really nice teacher!I<br>could got the point ...</td>\n",
              "        <td style=\"padding-left: 1em; padding-right: 1em; text-align: center; vertical-align: top\">4</td>\n",
              "        <td style=\"padding-left: 1em; padding-right: 1em; text-align: center; vertical-align: top\">Positive</td>\n",
              "        <td style=\"padding-left: 1em; padding-right: 1em; text-align: center; vertical-align: top\">[-1.85936373e-02<br>1.59248367e-01 ...</td>\n",
              "    </tr>\n",
              "    <tr>\n",
              "        <td style=\"padding-left: 1em; padding-right: 1em; text-align: center; vertical-align: top\">5</td>\n",
              "        <td style=\"padding-left: 1em; padding-right: 1em; text-align: center; vertical-align: top\">Great course - I<br>recommend it for all, ...</td>\n",
              "        <td style=\"padding-left: 1em; padding-right: 1em; text-align: center; vertical-align: top\">5</td>\n",
              "        <td style=\"padding-left: 1em; padding-right: 1em; text-align: center; vertical-align: top\">Positive</td>\n",
              "        <td style=\"padding-left: 1em; padding-right: 1em; text-align: center; vertical-align: top\">[-1.13400117e-01<br>2.60630727e-01 ...</td>\n",
              "    </tr>\n",
              "    <tr>\n",
              "        <td style=\"padding-left: 1em; padding-right: 1em; text-align: center; vertical-align: top\">6</td>\n",
              "        <td style=\"padding-left: 1em; padding-right: 1em; text-align: center; vertical-align: top\">One of the most useful<br>course on IT Management! ...</td>\n",
              "        <td style=\"padding-left: 1em; padding-right: 1em; text-align: center; vertical-align: top\">5</td>\n",
              "        <td style=\"padding-left: 1em; padding-right: 1em; text-align: center; vertical-align: top\">Positive</td>\n",
              "        <td style=\"padding-left: 1em; padding-right: 1em; text-align: center; vertical-align: top\">[-1.04022004e-01<br>1.77965701e-01 ...</td>\n",
              "    </tr>\n",
              "    <tr>\n",
              "        <td style=\"padding-left: 1em; padding-right: 1em; text-align: center; vertical-align: top\">8</td>\n",
              "        <td style=\"padding-left: 1em; padding-right: 1em; text-align: center; vertical-align: top\">Super content. I&#x27;ll<br>definitely re-do the ...</td>\n",
              "        <td style=\"padding-left: 1em; padding-right: 1em; text-align: center; vertical-align: top\">5</td>\n",
              "        <td style=\"padding-left: 1em; padding-right: 1em; text-align: center; vertical-align: top\">Positive</td>\n",
              "        <td style=\"padding-left: 1em; padding-right: 1em; text-align: center; vertical-align: top\">[-4.58760001e-02<br>1.45201743e-01 ...</td>\n",
              "    </tr>\n",
              "    <tr>\n",
              "        <td style=\"padding-left: 1em; padding-right: 1em; text-align: center; vertical-align: top\">9</td>\n",
              "        <td style=\"padding-left: 1em; padding-right: 1em; text-align: center; vertical-align: top\">One of the excellent<br>courses at Coursera for ...</td>\n",
              "        <td style=\"padding-left: 1em; padding-right: 1em; text-align: center; vertical-align: top\">5</td>\n",
              "        <td style=\"padding-left: 1em; padding-right: 1em; text-align: center; vertical-align: top\">Positive</td>\n",
              "        <td style=\"padding-left: 1em; padding-right: 1em; text-align: center; vertical-align: top\">[-8.29980001e-02<br>1.16817139e-01 ...</td>\n",
              "    </tr>\n",
              "    <tr>\n",
              "        <td style=\"padding-left: 1em; padding-right: 1em; text-align: center; vertical-align: top\">10</td>\n",
              "        <td style=\"padding-left: 1em; padding-right: 1em; text-align: center; vertical-align: top\">Is there any reason why<br>you should not apply the ...</td>\n",
              "        <td style=\"padding-left: 1em; padding-right: 1em; text-align: center; vertical-align: top\">5</td>\n",
              "        <td style=\"padding-left: 1em; padding-right: 1em; text-align: center; vertical-align: top\">Positive</td>\n",
              "        <td style=\"padding-left: 1em; padding-right: 1em; text-align: center; vertical-align: top\">[-9.43170190e-02<br>1.65416613e-01 ...</td>\n",
              "    </tr>\n",
              "</table>\n",
              "[101947 rows x 5 columns]<br/>Note: Only the head of the SFrame is printed.<br/>You can use print_rows(num_rows=m, num_columns=n) to print more rows and columns.\n",
              "</div>"
            ],
            "text/plain": [
              "Columns:\n",
              "\tId\tint\n",
              "\tReview\tstr\n",
              "\tLabel\tint\n",
              "\tsentiment\tstr\n",
              "\tvector\tndarray\n",
              "\n",
              "Rows: 101947\n",
              "\n",
              "Data:\n",
              "+----+-------------------------------+-------+-----------+\n",
              "| Id |             Review            | Label | sentiment |\n",
              "+----+-------------------------------+-------+-----------+\n",
              "| 0  |      good and interesting     |   5   |  Positive |\n",
              "| 1  | This class is very helpful... |   5   |  Positive |\n",
              "| 2  | like!Prof and TAs are help... |   5   |  Positive |\n",
              "| 3  | Easy to follow and include... |   5   |  Positive |\n",
              "| 4  | Really nice teacher!I coul... |   4   |  Positive |\n",
              "| 5  | Great course - I recommend... |   5   |  Positive |\n",
              "| 6  | One of the most useful cou... |   5   |  Positive |\n",
              "| 8  | Super content. I'll defini... |   5   |  Positive |\n",
              "| 9  | One of the excellent cours... |   5   |  Positive |\n",
              "| 10 | Is there any reason why yo... |   5   |  Positive |\n",
              "+----+-------------------------------+-------+-----------+\n",
              "+-------------------------------+\n",
              "|             vector            |\n",
              "+-------------------------------+\n",
              "| [-2.32115671e-01  2.321826... |\n",
              "| [-5.86119713e-04  2.566305... |\n",
              "| [-9.35494304e-02  8.325900... |\n",
              "| [-6.36644140e-02  8.634432... |\n",
              "| [-1.85936373e-02  1.592483... |\n",
              "| [-1.13400117e-01  2.606307... |\n",
              "| [-1.04022004e-01  1.779657... |\n",
              "| [-4.58760001e-02  1.452017... |\n",
              "| [-8.29980001e-02  1.168171... |\n",
              "| [-9.43170190e-02  1.654166... |\n",
              "+-------------------------------+\n",
              "[101947 rows x 5 columns]\n",
              "Note: Only the head of the SFrame is printed.\n",
              "You can use print_rows(num_rows=m, num_columns=n) to print more rows and columns."
            ]
          },
          "metadata": {},
          "execution_count": 5
        }
      ]
    },
    {
      "cell_type": "code",
      "metadata": {
        "colab": {
          "base_uri": "https://localhost:8080/",
          "height": 661
        },
        "id": "zG09-q_cyAnO",
        "outputId": "5f8c2cc4-13d5-4629-d4b4-ed7b263d5a0f"
      },
      "source": [
        "# run a classifier on the vectors (with no improvements)\n",
        "train, test  = sf[:100000].random_split(0.8) # use a portion of the data so colab won't get stuck\n",
        "cls1 = tc.random_forest_classifier.create(train,features=['vector'], target=\"sentiment\", max_iterations=100)"
      ],
      "execution_count": 6,
      "outputs": [
        {
          "output_type": "stream",
          "name": "stdout",
          "text": [
            "PROGRESS: Creating a validation set from 5 percent of training data. This may take a while.\n",
            "          You can set ``validation_set=None`` to disable validation tracking.\n",
            "\n"
          ]
        },
        {
          "output_type": "display_data",
          "data": {
            "text/html": [
              "<pre>Random forest classifier:</pre>"
            ],
            "text/plain": [
              "Random forest classifier:"
            ]
          },
          "metadata": {}
        },
        {
          "output_type": "display_data",
          "data": {
            "text/html": [
              "<pre>--------------------------------------------------------</pre>"
            ],
            "text/plain": [
              "--------------------------------------------------------"
            ]
          },
          "metadata": {}
        },
        {
          "output_type": "display_data",
          "data": {
            "text/html": [
              "<pre>Number of examples          : 75843</pre>"
            ],
            "text/plain": [
              "Number of examples          : 75843"
            ]
          },
          "metadata": {}
        },
        {
          "output_type": "display_data",
          "data": {
            "text/html": [
              "<pre>Number of classes           : 2</pre>"
            ],
            "text/plain": [
              "Number of classes           : 2"
            ]
          },
          "metadata": {}
        },
        {
          "output_type": "display_data",
          "data": {
            "text/html": [
              "<pre>Number of feature columns   : 1</pre>"
            ],
            "text/plain": [
              "Number of feature columns   : 1"
            ]
          },
          "metadata": {}
        },
        {
          "output_type": "display_data",
          "data": {
            "text/html": [
              "<pre>Number of unpacked features : 300</pre>"
            ],
            "text/plain": [
              "Number of unpacked features : 300"
            ]
          },
          "metadata": {}
        },
        {
          "output_type": "display_data",
          "data": {
            "text/html": [
              "<pre>+-----------+--------------+-------------------+---------------------+-------------------+---------------------+</pre>"
            ],
            "text/plain": [
              "+-----------+--------------+-------------------+---------------------+-------------------+---------------------+"
            ]
          },
          "metadata": {}
        },
        {
          "output_type": "display_data",
          "data": {
            "text/html": [
              "<pre>| Iteration | Elapsed Time | Training Accuracy | Validation Accuracy | Training Log Loss | Validation Log Loss |</pre>"
            ],
            "text/plain": [
              "| Iteration | Elapsed Time | Training Accuracy | Validation Accuracy | Training Log Loss | Validation Log Loss |"
            ]
          },
          "metadata": {}
        },
        {
          "output_type": "display_data",
          "data": {
            "text/html": [
              "<pre>+-----------+--------------+-------------------+---------------------+-------------------+---------------------+</pre>"
            ],
            "text/plain": [
              "+-----------+--------------+-------------------+---------------------+-------------------+---------------------+"
            ]
          },
          "metadata": {}
        },
        {
          "output_type": "display_data",
          "data": {
            "text/html": [
              "<pre>| 1         | 1.480315     | 0.955316          | 0.956413            | 0.208922          | 0.209315            |</pre>"
            ],
            "text/plain": [
              "| 1         | 1.480315     | 0.955316          | 0.956413            | 0.208922          | 0.209315            |"
            ]
          },
          "metadata": {}
        },
        {
          "output_type": "display_data",
          "data": {
            "text/html": [
              "<pre>| 2         | 2.989276     | 0.956159          | 0.957665            | 0.206552          | 0.208178            |</pre>"
            ],
            "text/plain": [
              "| 2         | 2.989276     | 0.956159          | 0.957665            | 0.206552          | 0.208178            |"
            ]
          },
          "metadata": {}
        },
        {
          "output_type": "display_data",
          "data": {
            "text/html": [
              "<pre>| 3         | 4.559173     | 0.955025          | 0.957415            | 0.206651          | 0.208154            |</pre>"
            ],
            "text/plain": [
              "| 3         | 4.559173     | 0.955025          | 0.957415            | 0.206651          | 0.208154            |"
            ]
          },
          "metadata": {}
        },
        {
          "output_type": "display_data",
          "data": {
            "text/html": [
              "<pre>| 4         | 6.051479     | 0.954604          | 0.956914            | 0.205904          | 0.206894            |</pre>"
            ],
            "text/plain": [
              "| 4         | 6.051479     | 0.954604          | 0.956914            | 0.205904          | 0.206894            |"
            ]
          },
          "metadata": {}
        },
        {
          "output_type": "display_data",
          "data": {
            "text/html": [
              "<pre>| 5         | 7.508579     | 0.954683          | 0.957164            | 0.205442          | 0.206401            |</pre>"
            ],
            "text/plain": [
              "| 5         | 7.508579     | 0.954683          | 0.957164            | 0.205442          | 0.206401            |"
            ]
          },
          "metadata": {}
        },
        {
          "output_type": "display_data",
          "data": {
            "text/html": [
              "<pre>| 10        | 14.773646    | 0.955065          | 0.957665            | 0.204801          | 0.205370            |</pre>"
            ],
            "text/plain": [
              "| 10        | 14.773646    | 0.955065          | 0.957665            | 0.204801          | 0.205370            |"
            ]
          },
          "metadata": {}
        },
        {
          "output_type": "display_data",
          "data": {
            "text/html": [
              "<pre>| 15        | 22.004238    | 0.955091          | 0.957916            | 0.204582          | 0.205372            |</pre>"
            ],
            "text/plain": [
              "| 15        | 22.004238    | 0.955091          | 0.957916            | 0.204582          | 0.205372            |"
            ]
          },
          "metadata": {}
        },
        {
          "output_type": "display_data",
          "data": {
            "text/html": [
              "<pre>| 20        | 29.236710    | 0.954960          | 0.958166            | 0.204530          | 0.205272            |</pre>"
            ],
            "text/plain": [
              "| 20        | 29.236710    | 0.954960          | 0.958166            | 0.204530          | 0.205272            |"
            ]
          },
          "metadata": {}
        },
        {
          "output_type": "display_data",
          "data": {
            "text/html": [
              "<pre>| 25        | 36.566541    | 0.954828          | 0.958166            | 0.204448          | 0.205231            |</pre>"
            ],
            "text/plain": [
              "| 25        | 36.566541    | 0.954828          | 0.958166            | 0.204448          | 0.205231            |"
            ]
          },
          "metadata": {}
        },
        {
          "output_type": "display_data",
          "data": {
            "text/html": [
              "<pre>| 30        | 43.859736    | 0.954670          | 0.958166            | 0.204437          | 0.205332            |</pre>"
            ],
            "text/plain": [
              "| 30        | 43.859736    | 0.954670          | 0.958166            | 0.204437          | 0.205332            |"
            ]
          },
          "metadata": {}
        },
        {
          "output_type": "display_data",
          "data": {
            "text/html": [
              "<pre>| 35        | 51.197075    | 0.954722          | 0.958166            | 0.204463          | 0.205353            |</pre>"
            ],
            "text/plain": [
              "| 35        | 51.197075    | 0.954722          | 0.958166            | 0.204463          | 0.205353            |"
            ]
          },
          "metadata": {}
        },
        {
          "output_type": "display_data",
          "data": {
            "text/html": [
              "<pre>| 40        | 58.404424    | 0.954749          | 0.958166            | 0.204461          | 0.205370            |</pre>"
            ],
            "text/plain": [
              "| 40        | 58.404424    | 0.954749          | 0.958166            | 0.204461          | 0.205370            |"
            ]
          },
          "metadata": {}
        },
        {
          "output_type": "display_data",
          "data": {
            "text/html": [
              "<pre>| 45        | 65.683389    | 0.954775          | 0.958166            | 0.204450          | 0.205361            |</pre>"
            ],
            "text/plain": [
              "| 45        | 65.683389    | 0.954775          | 0.958166            | 0.204450          | 0.205361            |"
            ]
          },
          "metadata": {}
        },
        {
          "output_type": "display_data",
          "data": {
            "text/html": [
              "<pre>| 50        | 72.996151    | 0.954841          | 0.957916            | 0.204374          | 0.205351            |</pre>"
            ],
            "text/plain": [
              "| 50        | 72.996151    | 0.954841          | 0.957916            | 0.204374          | 0.205351            |"
            ]
          },
          "metadata": {}
        },
        {
          "output_type": "display_data",
          "data": {
            "text/html": [
              "<pre>| 55        | 80.233743    | 0.954828          | 0.957916            | 0.204351          | 0.205427            |</pre>"
            ],
            "text/plain": [
              "| 55        | 80.233743    | 0.954828          | 0.957916            | 0.204351          | 0.205427            |"
            ]
          },
          "metadata": {}
        },
        {
          "output_type": "display_data",
          "data": {
            "text/html": [
              "<pre>| 60        | 87.614490    | 0.954801          | 0.957916            | 0.204352          | 0.205442            |</pre>"
            ],
            "text/plain": [
              "| 60        | 87.614490    | 0.954801          | 0.957916            | 0.204352          | 0.205442            |"
            ]
          },
          "metadata": {}
        },
        {
          "output_type": "display_data",
          "data": {
            "text/html": [
              "<pre>| 65        | 94.975869    | 0.954801          | 0.958166            | 0.204377          | 0.205408            |</pre>"
            ],
            "text/plain": [
              "| 65        | 94.975869    | 0.954801          | 0.958166            | 0.204377          | 0.205408            |"
            ]
          },
          "metadata": {}
        },
        {
          "output_type": "display_data",
          "data": {
            "text/html": [
              "<pre>| 70        | 102.352992   | 0.954880          | 0.957916            | 0.204335          | 0.205381            |</pre>"
            ],
            "text/plain": [
              "| 70        | 102.352992   | 0.954880          | 0.957916            | 0.204335          | 0.205381            |"
            ]
          },
          "metadata": {}
        },
        {
          "output_type": "display_data",
          "data": {
            "text/html": [
              "<pre>| 75        | 109.539880   | 0.954907          | 0.957916            | 0.204339          | 0.205362            |</pre>"
            ],
            "text/plain": [
              "| 75        | 109.539880   | 0.954907          | 0.957916            | 0.204339          | 0.205362            |"
            ]
          },
          "metadata": {}
        },
        {
          "output_type": "display_data",
          "data": {
            "text/html": [
              "<pre>| 80        | 116.843837   | 0.954828          | 0.957916            | 0.204315          | 0.205327            |</pre>"
            ],
            "text/plain": [
              "| 80        | 116.843837   | 0.954828          | 0.957916            | 0.204315          | 0.205327            |"
            ]
          },
          "metadata": {}
        },
        {
          "output_type": "display_data",
          "data": {
            "text/html": [
              "<pre>| 85        | 124.063652   | 0.954907          | 0.957916            | 0.204307          | 0.205224            |</pre>"
            ],
            "text/plain": [
              "| 85        | 124.063652   | 0.954907          | 0.957916            | 0.204307          | 0.205224            |"
            ]
          },
          "metadata": {}
        },
        {
          "output_type": "display_data",
          "data": {
            "text/html": [
              "<pre>| 90        | 131.516129   | 0.954854          | 0.957916            | 0.204318          | 0.205286            |</pre>"
            ],
            "text/plain": [
              "| 90        | 131.516129   | 0.954854          | 0.957916            | 0.204318          | 0.205286            |"
            ]
          },
          "metadata": {}
        },
        {
          "output_type": "display_data",
          "data": {
            "text/html": [
              "<pre>| 95        | 138.784866   | 0.954933          | 0.957916            | 0.204325          | 0.205343            |</pre>"
            ],
            "text/plain": [
              "| 95        | 138.784866   | 0.954933          | 0.957916            | 0.204325          | 0.205343            |"
            ]
          },
          "metadata": {}
        },
        {
          "output_type": "display_data",
          "data": {
            "text/html": [
              "<pre>| 100       | 146.336728   | 0.954880          | 0.957916            | 0.204329          | 0.205376            |</pre>"
            ],
            "text/plain": [
              "| 100       | 146.336728   | 0.954880          | 0.957916            | 0.204329          | 0.205376            |"
            ]
          },
          "metadata": {}
        },
        {
          "output_type": "display_data",
          "data": {
            "text/html": [
              "<pre>+-----------+--------------+-------------------+---------------------+-------------------+---------------------+</pre>"
            ],
            "text/plain": [
              "+-----------+--------------+-------------------+---------------------+-------------------+---------------------+"
            ]
          },
          "metadata": {}
        }
      ]
    },
    {
      "cell_type": "code",
      "metadata": {
        "id": "hxyynz_nyaaU"
      },
      "source": [
        "cls1_eval = cls1.evaluate(test)"
      ],
      "execution_count": 8,
      "outputs": []
    },
    {
      "cell_type": "code",
      "metadata": {
        "id": "Z0Walts-yeZ3"
      },
      "source": [
        "sf['words_1grams'] = tc.text_analytics.count_ngrams(sf['Review'], n=1, method='word')\n",
        "sf['words_2grams'] = tc.text_analytics.count_ngrams(sf['Review'], n=2, method='word')"
      ],
      "execution_count": 14,
      "outputs": []
    },
    {
      "cell_type": "code",
      "metadata": {
        "colab": {
          "base_uri": "https://localhost:8080/",
          "height": 661
        },
        "id": "hCdXwbmyykcK",
        "outputId": "a8a03dda-03f5-4408-a9ca-f0edef1bfd0f"
      },
      "source": [
        "# improvements- 1grams and 2grams as features\n",
        "train, test  = sf[:100000].random_split(0.8) # use a portion of the data so colab won't get stuck\n",
        "cls2 = tc.random_forest_classifier.create(train,features=['vector','words_1grams', 'words_2grams'], target=\"sentiment\", max_iterations=100)"
      ],
      "execution_count": 15,
      "outputs": [
        {
          "output_type": "stream",
          "name": "stdout",
          "text": [
            "PROGRESS: Creating a validation set from 5 percent of training data. This may take a while.\n",
            "          You can set ``validation_set=None`` to disable validation tracking.\n",
            "\n"
          ]
        },
        {
          "output_type": "display_data",
          "data": {
            "text/html": [
              "<pre>Random forest classifier:</pre>"
            ],
            "text/plain": [
              "Random forest classifier:"
            ]
          },
          "metadata": {}
        },
        {
          "output_type": "display_data",
          "data": {
            "text/html": [
              "<pre>--------------------------------------------------------</pre>"
            ],
            "text/plain": [
              "--------------------------------------------------------"
            ]
          },
          "metadata": {}
        },
        {
          "output_type": "display_data",
          "data": {
            "text/html": [
              "<pre>Number of examples          : 76017</pre>"
            ],
            "text/plain": [
              "Number of examples          : 76017"
            ]
          },
          "metadata": {}
        },
        {
          "output_type": "display_data",
          "data": {
            "text/html": [
              "<pre>Number of classes           : 2</pre>"
            ],
            "text/plain": [
              "Number of classes           : 2"
            ]
          },
          "metadata": {}
        },
        {
          "output_type": "display_data",
          "data": {
            "text/html": [
              "<pre>Number of feature columns   : 3</pre>"
            ],
            "text/plain": [
              "Number of feature columns   : 3"
            ]
          },
          "metadata": {}
        },
        {
          "output_type": "display_data",
          "data": {
            "text/html": [
              "<pre>Number of unpacked features : 382875</pre>"
            ],
            "text/plain": [
              "Number of unpacked features : 382875"
            ]
          },
          "metadata": {}
        },
        {
          "output_type": "display_data",
          "data": {
            "text/html": [
              "<pre>+-----------+--------------+-------------------+---------------------+-------------------+---------------------+</pre>"
            ],
            "text/plain": [
              "+-----------+--------------+-------------------+---------------------+-------------------+---------------------+"
            ]
          },
          "metadata": {}
        },
        {
          "output_type": "display_data",
          "data": {
            "text/html": [
              "<pre>| Iteration | Elapsed Time | Training Accuracy | Validation Accuracy | Training Log Loss | Validation Log Loss |</pre>"
            ],
            "text/plain": [
              "| Iteration | Elapsed Time | Training Accuracy | Validation Accuracy | Training Log Loss | Validation Log Loss |"
            ]
          },
          "metadata": {}
        },
        {
          "output_type": "display_data",
          "data": {
            "text/html": [
              "<pre>+-----------+--------------+-------------------+---------------------+-------------------+---------------------+</pre>"
            ],
            "text/plain": [
              "+-----------+--------------+-------------------+---------------------+-------------------+---------------------+"
            ]
          },
          "metadata": {}
        },
        {
          "output_type": "display_data",
          "data": {
            "text/html": [
              "<pre>| 1         | 3.523792     | 0.958943          | 0.956011            | 0.204041          | 0.203379            |</pre>"
            ],
            "text/plain": [
              "| 1         | 3.523792     | 0.958943          | 0.956011            | 0.204041          | 0.203379            |"
            ]
          },
          "metadata": {}
        },
        {
          "output_type": "display_data",
          "data": {
            "text/html": [
              "<pre>| 2         | 6.106787     | 0.958325          | 0.960760            | 0.202331          | 0.201510            |</pre>"
            ],
            "text/plain": [
              "| 2         | 6.106787     | 0.958325          | 0.960760            | 0.202331          | 0.201510            |"
            ]
          },
          "metadata": {}
        },
        {
          "output_type": "display_data",
          "data": {
            "text/html": [
              "<pre>| 3         | 8.784696     | 0.959509          | 0.960760            | 0.201322          | 0.201161            |</pre>"
            ],
            "text/plain": [
              "| 3         | 8.784696     | 0.959509          | 0.960760            | 0.201322          | 0.201161            |"
            ]
          },
          "metadata": {}
        },
        {
          "output_type": "display_data",
          "data": {
            "text/html": [
              "<pre>| 4         | 11.564185    | 0.959141          | 0.961010            | 0.200550          | 0.200480            |</pre>"
            ],
            "text/plain": [
              "| 4         | 11.564185    | 0.959141          | 0.961010            | 0.200550          | 0.200480            |"
            ]
          },
          "metadata": {}
        },
        {
          "output_type": "display_data",
          "data": {
            "text/html": [
              "<pre>| 5         | 14.128670    | 0.959654          | 0.962009            | 0.200924          | 0.200112            |</pre>"
            ],
            "text/plain": [
              "| 5         | 14.128670    | 0.959654          | 0.962009            | 0.200924          | 0.200112            |"
            ]
          },
          "metadata": {}
        },
        {
          "output_type": "display_data",
          "data": {
            "text/html": [
              "<pre>| 10        | 27.414742    | 0.959391          | 0.962759            | 0.199811          | 0.198616            |</pre>"
            ],
            "text/plain": [
              "| 10        | 27.414742    | 0.959391          | 0.962759            | 0.199811          | 0.198616            |"
            ]
          },
          "metadata": {}
        },
        {
          "output_type": "display_data",
          "data": {
            "text/html": [
              "<pre>| 15        | 40.895605    | 0.959549          | 0.962009            | 0.199342          | 0.197616            |</pre>"
            ],
            "text/plain": [
              "| 15        | 40.895605    | 0.959549          | 0.962009            | 0.199342          | 0.197616            |"
            ]
          },
          "metadata": {}
        },
        {
          "output_type": "display_data",
          "data": {
            "text/html": [
              "<pre>| 20        | 54.088408    | 0.959391          | 0.962009            | 0.199236          | 0.197695            |</pre>"
            ],
            "text/plain": [
              "| 20        | 54.088408    | 0.959391          | 0.962009            | 0.199236          | 0.197695            |"
            ]
          },
          "metadata": {}
        },
        {
          "output_type": "display_data",
          "data": {
            "text/html": [
              "<pre>| 25        | 67.364661    | 0.959391          | 0.961760            | 0.199041          | 0.197682            |</pre>"
            ],
            "text/plain": [
              "| 25        | 67.364661    | 0.959391          | 0.961760            | 0.199041          | 0.197682            |"
            ]
          },
          "metadata": {}
        },
        {
          "output_type": "display_data",
          "data": {
            "text/html": [
              "<pre>| 30        | 80.755825    | 0.959180          | 0.961010            | 0.199061          | 0.197785            |</pre>"
            ],
            "text/plain": [
              "| 30        | 80.755825    | 0.959180          | 0.961010            | 0.199061          | 0.197785            |"
            ]
          },
          "metadata": {}
        },
        {
          "output_type": "display_data",
          "data": {
            "text/html": [
              "<pre>| 35        | 94.258872    | 0.959430          | 0.961260            | 0.198915          | 0.197608            |</pre>"
            ],
            "text/plain": [
              "| 35        | 94.258872    | 0.959430          | 0.961260            | 0.198915          | 0.197608            |"
            ]
          },
          "metadata": {}
        },
        {
          "output_type": "display_data",
          "data": {
            "text/html": [
              "<pre>| 40        | 107.196881   | 0.959364          | 0.961510            | 0.198924          | 0.197642            |</pre>"
            ],
            "text/plain": [
              "| 40        | 107.196881   | 0.959364          | 0.961510            | 0.198924          | 0.197642            |"
            ]
          },
          "metadata": {}
        },
        {
          "output_type": "display_data",
          "data": {
            "text/html": [
              "<pre>| 45        | 120.130431   | 0.959417          | 0.962009            | 0.198957          | 0.197642            |</pre>"
            ],
            "text/plain": [
              "| 45        | 120.130431   | 0.959417          | 0.962009            | 0.198957          | 0.197642            |"
            ]
          },
          "metadata": {}
        },
        {
          "output_type": "display_data",
          "data": {
            "text/html": [
              "<pre>| 50        | 133.214395   | 0.959706          | 0.962259            | 0.198868          | 0.197725            |</pre>"
            ],
            "text/plain": [
              "| 50        | 133.214395   | 0.959706          | 0.962259            | 0.198868          | 0.197725            |"
            ]
          },
          "metadata": {}
        },
        {
          "output_type": "display_data",
          "data": {
            "text/html": [
              "<pre>| 55        | 146.339707   | 0.959864          | 0.962259            | 0.198821          | 0.197799            |</pre>"
            ],
            "text/plain": [
              "| 55        | 146.339707   | 0.959864          | 0.962259            | 0.198821          | 0.197799            |"
            ]
          },
          "metadata": {}
        },
        {
          "output_type": "display_data",
          "data": {
            "text/html": [
              "<pre>| 60        | 159.597324   | 0.959746          | 0.961760            | 0.198806          | 0.197822            |</pre>"
            ],
            "text/plain": [
              "| 60        | 159.597324   | 0.959746          | 0.961760            | 0.198806          | 0.197822            |"
            ]
          },
          "metadata": {}
        },
        {
          "output_type": "display_data",
          "data": {
            "text/html": [
              "<pre>| 65        | 172.541151   | 0.959483          | 0.961510            | 0.198849          | 0.197736            |</pre>"
            ],
            "text/plain": [
              "| 65        | 172.541151   | 0.959483          | 0.961510            | 0.198849          | 0.197736            |"
            ]
          },
          "metadata": {}
        },
        {
          "output_type": "display_data",
          "data": {
            "text/html": [
              "<pre>| 70        | 185.283033   | 0.959259          | 0.961510            | 0.198916          | 0.197766            |</pre>"
            ],
            "text/plain": [
              "| 70        | 185.283033   | 0.959259          | 0.961510            | 0.198916          | 0.197766            |"
            ]
          },
          "metadata": {}
        },
        {
          "output_type": "display_data",
          "data": {
            "text/html": [
              "<pre>| 75        | 198.005172   | 0.959088          | 0.962009            | 0.198914          | 0.197786            |</pre>"
            ],
            "text/plain": [
              "| 75        | 198.005172   | 0.959088          | 0.962009            | 0.198914          | 0.197786            |"
            ]
          },
          "metadata": {}
        },
        {
          "output_type": "display_data",
          "data": {
            "text/html": [
              "<pre>| 80        | 210.886696   | 0.959022          | 0.961760            | 0.198939          | 0.197773            |</pre>"
            ],
            "text/plain": [
              "| 80        | 210.886696   | 0.959022          | 0.961760            | 0.198939          | 0.197773            |"
            ]
          },
          "metadata": {}
        },
        {
          "output_type": "display_data",
          "data": {
            "text/html": [
              "<pre>| 85        | 224.216839   | 0.958957          | 0.961260            | 0.198906          | 0.197803            |</pre>"
            ],
            "text/plain": [
              "| 85        | 224.216839   | 0.958957          | 0.961260            | 0.198906          | 0.197803            |"
            ]
          },
          "metadata": {}
        },
        {
          "output_type": "display_data",
          "data": {
            "text/html": [
              "<pre>| 90        | 237.391130   | 0.958970          | 0.961510            | 0.198938          | 0.197789            |</pre>"
            ],
            "text/plain": [
              "| 90        | 237.391130   | 0.958970          | 0.961510            | 0.198938          | 0.197789            |"
            ]
          },
          "metadata": {}
        },
        {
          "output_type": "display_data",
          "data": {
            "text/html": [
              "<pre>| 95        | 250.579107   | 0.958943          | 0.961760            | 0.198924          | 0.197798            |</pre>"
            ],
            "text/plain": [
              "| 95        | 250.579107   | 0.958943          | 0.961760            | 0.198924          | 0.197798            |"
            ]
          },
          "metadata": {}
        },
        {
          "output_type": "display_data",
          "data": {
            "text/html": [
              "<pre>| 100       | 263.483350   | 0.958930          | 0.961510            | 0.198949          | 0.197803            |</pre>"
            ],
            "text/plain": [
              "| 100       | 263.483350   | 0.958930          | 0.961510            | 0.198949          | 0.197803            |"
            ]
          },
          "metadata": {}
        },
        {
          "output_type": "display_data",
          "data": {
            "text/html": [
              "<pre>+-----------+--------------+-------------------+---------------------+-------------------+---------------------+</pre>"
            ],
            "text/plain": [
              "+-----------+--------------+-------------------+---------------------+-------------------+---------------------+"
            ]
          },
          "metadata": {}
        }
      ]
    },
    {
      "cell_type": "code",
      "metadata": {
        "id": "VqsZwj353HDL"
      },
      "source": [
        "cls2_eval = cls2.evaluate(test)"
      ],
      "execution_count": 16,
      "outputs": []
    },
    {
      "cell_type": "code",
      "metadata": {
        "colab": {
          "base_uri": "https://localhost:8080/",
          "height": 285
        },
        "id": "k55NEdu43C0k",
        "outputId": "7a2ecb9f-cb98-4924-b912-45972c0e000f"
      },
      "source": [
        "import pandas as pd\n",
        "auc_scores = pd.DataFrame()\n",
        "auc_scores['cls1_eval'] = [cls1_eval['auc']]\n",
        "auc_scores['cls2_eval'] = [cls2_eval['auc']]\n",
        "\n",
        "import seaborn as sns\n",
        "import matplotlib.pyplot as plt\n",
        "\n",
        "sns.set_theme(style=\"whitegrid\")\n",
        "ax = sns.barplot(data=auc_scores,\n",
        "                 linewidth=2.5, facecolor=(1, 1, 1, 0),\n",
        "                 errcolor=\".2\", edgecolor=\".2\")\n",
        "ax.set_xticklabels(ax.get_xticklabels(), rotation=0)\n",
        "plt.title(\"Two classifiers' auc\")\n",
        "for p in ax.patches:\n",
        "             ax.annotate(\"%f\" % p.get_height(), (p.get_x() + p.get_width() / 2., p.get_height()),\n",
        "                 ha='center', va='center', fontsize=10, color='black', xytext=(0, 5),\n",
        "                 textcoords='offset points')"
      ],
      "execution_count": 17,
      "outputs": [
        {
          "output_type": "display_data",
          "data": {
            "image/png": "[encoded data removed]",
            "text/plain": [
              "<Figure size 432x288 with 1 Axes>"
            ]
          },
          "metadata": {}
        }
      ]
    }
  ]
}