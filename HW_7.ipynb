{
  "nbformat": 4,
  "nbformat_minor": 0,
  "metadata": {
    "kernelspec": {
      "display_name": "Python 3",
      "language": "python",
      "name": "python3"
    },
    "language_info": {
      "codemirror_mode": {
        "name": "ipython",
        "version": 3
      },
      "file_extension": ".py",
      "mimetype": "text/x-python",
      "name": "python",
      "nbconvert_exporter": "python",
      "pygments_lexer": "ipython3",
      "version": "3.6.7"
    },
    "colab": {
      "name": "HW_7.ipynb",
      "provenance": [],
      "collapsed_sections": [],
      "include_colab_link": true
    }
  },
  "cells": [
    {
      "cell_type": "markdown",
      "metadata": {
        "id": "view-in-github",
        "colab_type": "text"
      },
      "source": [
        "<a href=\"https://colab.research.google.com/github/amitshakarchy/big-data-analysis/blob/main/HW_7.ipynb\" target=\"_parent\"><img src=\"https://colab.research.google.com/assets/colab-badge.svg\" alt=\"Open In Colab\"/></a>"
      ]
    },
    {
      "cell_type": "markdown",
      "source": [
        "Name: Amit Shakarchy\n",
        "\n",
        "Github link: https://github.com/amitshakarchy/big-data-analysis"
      ],
      "metadata": {
        "id": "n8WFSA7keYLB"
      }
    },
    {
      "cell_type": "markdown",
      "metadata": {
        "id": "vpM6SFPqDMEe"
      },
      "source": [
        "# Homework Assignment 7"
      ]
    },
    {
      "cell_type": "code",
      "metadata": {
        "id": "n5T-SMZHDMEg",
        "colab": {
          "base_uri": "https://localhost:8080/",
          "height": 1000
        },
        "outputId": "07debdc9-9636-4d3f-85e5-a98fff62b1d4"
      },
      "source": [
        "!pip install turicreate\n",
        "!pip install kaggle \n",
        "!pip install gensim\n",
        "!pip install pyLDAvis\n",
        "!pip install spaCy\n",
        "!pip install afinn\n",
        "!pip install nltk\n",
        "!pip install plotly_express\n",
        "\n",
        "import nltk\n",
        "nltk.download('stopwords')\n",
        "nltk.download('punkt')\n",
        "\n",
        "!python -m spacy download en_core_web_lg # Important! you need to restart runtime after install"
      ],
      "execution_count": 1,
      "outputs": [
        {
          "output_type": "stream",
          "name": "stdout",
          "text": [
            "Collecting turicreate\n",
            "  Downloading turicreate-6.4.1-cp37-cp37m-manylinux1_x86_64.whl (92.0 MB)\n",
            "\u001b[K     |████████████████████████████████| 92.0 MB 1.3 MB/s \n",
            "\u001b[?25hCollecting resampy==0.2.1\n",
            "  Downloading resampy-0.2.1.tar.gz (322 kB)\n",
            "\u001b[K     |████████████████████████████████| 322 kB 42.4 MB/s \n",
            "\u001b[?25hCollecting tensorflow<2.1.0,>=2.0.0\n",
            "  Downloading tensorflow-2.0.4-cp37-cp37m-manylinux2010_x86_64.whl (86.4 MB)\n",
            "\u001b[K     |████████████████████████████████| 86.4 MB 79 kB/s \n",
            "\u001b[?25hRequirement already satisfied: pandas>=0.23.2 in /usr/local/lib/python3.7/dist-packages (from turicreate) (1.1.5)\n",
            "Requirement already satisfied: pillow>=5.2.0 in /usr/local/lib/python3.7/dist-packages (from turicreate) (7.1.2)\n",
            "Collecting coremltools==3.3\n",
            "  Downloading coremltools-3.3-cp37-none-manylinux1_x86_64.whl (3.5 MB)\n",
            "\u001b[K     |████████████████████████████████| 3.5 MB 54.6 MB/s \n",
            "\u001b[?25hRequirement already satisfied: scipy>=1.1.0 in /usr/local/lib/python3.7/dist-packages (from turicreate) (1.4.1)\n",
            "Collecting numba<0.51.0\n",
            "  Downloading numba-0.50.1-cp37-cp37m-manylinux2014_x86_64.whl (3.6 MB)\n",
            "\u001b[K     |████████████████████████████████| 3.6 MB 29.5 MB/s \n",
            "\u001b[?25hRequirement already satisfied: numpy in /usr/local/lib/python3.7/dist-packages (from turicreate) (1.19.5)\n",
            "Requirement already satisfied: six>=1.10.0 in /usr/local/lib/python3.7/dist-packages (from turicreate) (1.15.0)\n",
            "Requirement already satisfied: decorator>=4.0.9 in /usr/local/lib/python3.7/dist-packages (from turicreate) (4.4.2)\n",
            "Collecting prettytable==0.7.2\n",
            "  Downloading prettytable-0.7.2.zip (28 kB)\n",
            "Requirement already satisfied: requests>=2.9.1 in /usr/local/lib/python3.7/dist-packages (from turicreate) (2.23.0)\n",
            "Requirement already satisfied: protobuf>=3.1.0 in /usr/local/lib/python3.7/dist-packages (from coremltools==3.3->turicreate) (3.17.3)\n",
            "Collecting llvmlite<0.34,>=0.33.0.dev0\n",
            "  Downloading llvmlite-0.33.0-cp37-cp37m-manylinux1_x86_64.whl (18.3 MB)\n",
            "\u001b[K     |████████████████████████████████| 18.3 MB 448 kB/s \n",
            "\u001b[?25hRequirement already satisfied: setuptools in /usr/local/lib/python3.7/dist-packages (from numba<0.51.0->turicreate) (57.4.0)\n",
            "Requirement already satisfied: pytz>=2017.2 in /usr/local/lib/python3.7/dist-packages (from pandas>=0.23.2->turicreate) (2018.9)\n",
            "Requirement already satisfied: python-dateutil>=2.7.3 in /usr/local/lib/python3.7/dist-packages (from pandas>=0.23.2->turicreate) (2.8.2)\n",
            "Requirement already satisfied: chardet<4,>=3.0.2 in /usr/local/lib/python3.7/dist-packages (from requests>=2.9.1->turicreate) (3.0.4)\n",
            "Requirement already satisfied: urllib3!=1.25.0,!=1.25.1,<1.26,>=1.21.1 in /usr/local/lib/python3.7/dist-packages (from requests>=2.9.1->turicreate) (1.24.3)\n",
            "Requirement already satisfied: certifi>=2017.4.17 in /usr/local/lib/python3.7/dist-packages (from requests>=2.9.1->turicreate) (2021.10.8)\n",
            "Requirement already satisfied: idna<3,>=2.5 in /usr/local/lib/python3.7/dist-packages (from requests>=2.9.1->turicreate) (2.10)\n",
            "Requirement already satisfied: astor>=0.6.0 in /usr/local/lib/python3.7/dist-packages (from tensorflow<2.1.0,>=2.0.0->turicreate) (0.8.1)\n",
            "Requirement already satisfied: opt-einsum>=2.3.2 in /usr/local/lib/python3.7/dist-packages (from tensorflow<2.1.0,>=2.0.0->turicreate) (3.3.0)\n",
            "Requirement already satisfied: wheel>=0.26 in /usr/local/lib/python3.7/dist-packages (from tensorflow<2.1.0,>=2.0.0->turicreate) (0.37.0)\n",
            "Collecting tensorboard<2.1.0,>=2.0.0\n",
            "  Downloading tensorboard-2.0.2-py3-none-any.whl (3.8 MB)\n",
            "\u001b[K     |████████████████████████████████| 3.8 MB 31.8 MB/s \n",
            "\u001b[?25hCollecting gast==0.2.2\n",
            "  Downloading gast-0.2.2.tar.gz (10 kB)\n",
            "Collecting tensorflow-estimator<2.1.0,>=2.0.0\n",
            "  Downloading tensorflow_estimator-2.0.1-py2.py3-none-any.whl (449 kB)\n",
            "\u001b[K     |████████████████████████████████| 449 kB 66.2 MB/s \n",
            "\u001b[?25hRequirement already satisfied: keras-preprocessing>=1.0.5 in /usr/local/lib/python3.7/dist-packages (from tensorflow<2.1.0,>=2.0.0->turicreate) (1.1.2)\n",
            "Requirement already satisfied: absl-py>=0.7.0 in /usr/local/lib/python3.7/dist-packages (from tensorflow<2.1.0,>=2.0.0->turicreate) (0.12.0)\n",
            "Requirement already satisfied: wrapt>=1.11.1 in /usr/local/lib/python3.7/dist-packages (from tensorflow<2.1.0,>=2.0.0->turicreate) (1.13.3)\n",
            "Collecting numpy\n",
            "  Downloading numpy-1.18.5-cp37-cp37m-manylinux1_x86_64.whl (20.1 MB)\n",
            "\u001b[K     |████████████████████████████████| 20.1 MB 8.7 MB/s \n",
            "\u001b[?25hCollecting h5py<=2.10.0\n",
            "  Downloading h5py-2.10.0-cp37-cp37m-manylinux1_x86_64.whl (2.9 MB)\n",
            "\u001b[K     |████████████████████████████████| 2.9 MB 52.8 MB/s \n",
            "\u001b[?25hRequirement already satisfied: grpcio>=1.8.6 in /usr/local/lib/python3.7/dist-packages (from tensorflow<2.1.0,>=2.0.0->turicreate) (1.42.0)\n",
            "Requirement already satisfied: google-pasta>=0.1.6 in /usr/local/lib/python3.7/dist-packages (from tensorflow<2.1.0,>=2.0.0->turicreate) (0.2.0)\n",
            "Collecting keras-applications>=1.0.8\n",
            "  Downloading Keras_Applications-1.0.8-py3-none-any.whl (50 kB)\n",
            "\u001b[K     |████████████████████████████████| 50 kB 7.0 MB/s \n",
            "\u001b[?25hRequirement already satisfied: termcolor>=1.1.0 in /usr/local/lib/python3.7/dist-packages (from tensorflow<2.1.0,>=2.0.0->turicreate) (1.1.0)\n",
            "Requirement already satisfied: google-auth-oauthlib<0.5,>=0.4.1 in /usr/local/lib/python3.7/dist-packages (from tensorboard<2.1.0,>=2.0.0->tensorflow<2.1.0,>=2.0.0->turicreate) (0.4.6)\n",
            "Requirement already satisfied: google-auth<2,>=1.6.3 in /usr/local/lib/python3.7/dist-packages (from tensorboard<2.1.0,>=2.0.0->tensorflow<2.1.0,>=2.0.0->turicreate) (1.35.0)\n",
            "Requirement already satisfied: markdown>=2.6.8 in /usr/local/lib/python3.7/dist-packages (from tensorboard<2.1.0,>=2.0.0->tensorflow<2.1.0,>=2.0.0->turicreate) (3.3.6)\n",
            "Requirement already satisfied: werkzeug>=0.11.15 in /usr/local/lib/python3.7/dist-packages (from tensorboard<2.1.0,>=2.0.0->tensorflow<2.1.0,>=2.0.0->turicreate) (1.0.1)\n",
            "Requirement already satisfied: pyasn1-modules>=0.2.1 in /usr/local/lib/python3.7/dist-packages (from google-auth<2,>=1.6.3->tensorboard<2.1.0,>=2.0.0->tensorflow<2.1.0,>=2.0.0->turicreate) (0.2.8)\n",
            "Requirement already satisfied: rsa<5,>=3.1.4 in /usr/local/lib/python3.7/dist-packages (from google-auth<2,>=1.6.3->tensorboard<2.1.0,>=2.0.0->tensorflow<2.1.0,>=2.0.0->turicreate) (4.8)\n",
            "Requirement already satisfied: cachetools<5.0,>=2.0.0 in /usr/local/lib/python3.7/dist-packages (from google-auth<2,>=1.6.3->tensorboard<2.1.0,>=2.0.0->tensorflow<2.1.0,>=2.0.0->turicreate) (4.2.4)\n",
            "Requirement already satisfied: requests-oauthlib>=0.7.0 in /usr/local/lib/python3.7/dist-packages (from google-auth-oauthlib<0.5,>=0.4.1->tensorboard<2.1.0,>=2.0.0->tensorflow<2.1.0,>=2.0.0->turicreate) (1.3.0)\n",
            "Requirement already satisfied: importlib-metadata>=4.4 in /usr/local/lib/python3.7/dist-packages (from markdown>=2.6.8->tensorboard<2.1.0,>=2.0.0->tensorflow<2.1.0,>=2.0.0->turicreate) (4.8.2)\n",
            "Requirement already satisfied: typing-extensions>=3.6.4 in /usr/local/lib/python3.7/dist-packages (from importlib-metadata>=4.4->markdown>=2.6.8->tensorboard<2.1.0,>=2.0.0->tensorflow<2.1.0,>=2.0.0->turicreate) (3.10.0.2)\n",
            "Requirement already satisfied: zipp>=0.5 in /usr/local/lib/python3.7/dist-packages (from importlib-metadata>=4.4->markdown>=2.6.8->tensorboard<2.1.0,>=2.0.0->tensorflow<2.1.0,>=2.0.0->turicreate) (3.6.0)\n",
            "Requirement already satisfied: pyasn1<0.5.0,>=0.4.6 in /usr/local/lib/python3.7/dist-packages (from pyasn1-modules>=0.2.1->google-auth<2,>=1.6.3->tensorboard<2.1.0,>=2.0.0->tensorflow<2.1.0,>=2.0.0->turicreate) (0.4.8)\n",
            "Requirement already satisfied: oauthlib>=3.0.0 in /usr/local/lib/python3.7/dist-packages (from requests-oauthlib>=0.7.0->google-auth-oauthlib<0.5,>=0.4.1->tensorboard<2.1.0,>=2.0.0->tensorflow<2.1.0,>=2.0.0->turicreate) (3.1.1)\n",
            "Building wheels for collected packages: prettytable, resampy, gast\n",
            "  Building wheel for prettytable (setup.py) ... \u001b[?25l\u001b[?25hdone\n",
            "  Created wheel for prettytable: filename=prettytable-0.7.2-py3-none-any.whl size=13714 sha256=5f4eefb106b82219a69b7cf053162825b92878e8549d371c8ed3ccb631ee8d38\n",
            "  Stored in directory: /root/.cache/pip/wheels/b2/7f/f6/f180315b584f00445045ff1699b550fa895d09471337ce21c6\n",
            "  Building wheel for resampy (setup.py) ... \u001b[?25l\u001b[?25hdone\n",
            "  Created wheel for resampy: filename=resampy-0.2.1-py3-none-any.whl size=320860 sha256=52ef27bd33145fbfa6cef1125b6b96dcced18b2bff7cf18d22d8fd61ec3742fa\n",
            "  Stored in directory: /root/.cache/pip/wheels/71/74/53/d5ceb7c5ee7a168c7d106041863e71ac3273f4a4677743a284\n",
            "  Building wheel for gast (setup.py) ... \u001b[?25l\u001b[?25hdone\n",
            "  Created wheel for gast: filename=gast-0.2.2-py3-none-any.whl size=7554 sha256=72c9774a8795e61de6ad194a26041c16631def87539006d37a06fd3f06e5cdda\n",
            "  Stored in directory: /root/.cache/pip/wheels/21/7f/02/420f32a803f7d0967b48dd823da3f558c5166991bfd204eef3\n",
            "Successfully built prettytable resampy gast\n",
            "Installing collected packages: numpy, llvmlite, h5py, tensorflow-estimator, tensorboard, numba, keras-applications, gast, tensorflow, resampy, prettytable, coremltools, turicreate\n",
            "  Attempting uninstall: numpy\n",
            "    Found existing installation: numpy 1.19.5\n",
            "    Uninstalling numpy-1.19.5:\n",
            "      Successfully uninstalled numpy-1.19.5\n",
            "  Attempting uninstall: llvmlite\n",
            "    Found existing installation: llvmlite 0.34.0\n",
            "    Uninstalling llvmlite-0.34.0:\n",
            "      Successfully uninstalled llvmlite-0.34.0\n",
            "  Attempting uninstall: h5py\n",
            "    Found existing installation: h5py 3.1.0\n",
            "    Uninstalling h5py-3.1.0:\n",
            "      Successfully uninstalled h5py-3.1.0\n",
            "  Attempting uninstall: tensorflow-estimator\n",
            "    Found existing installation: tensorflow-estimator 2.7.0\n",
            "    Uninstalling tensorflow-estimator-2.7.0:\n",
            "      Successfully uninstalled tensorflow-estimator-2.7.0\n",
            "  Attempting uninstall: tensorboard\n",
            "    Found existing installation: tensorboard 2.7.0\n",
            "    Uninstalling tensorboard-2.7.0:\n",
            "      Successfully uninstalled tensorboard-2.7.0\n",
            "  Attempting uninstall: numba\n",
            "    Found existing installation: numba 0.51.2\n",
            "    Uninstalling numba-0.51.2:\n",
            "      Successfully uninstalled numba-0.51.2\n",
            "  Attempting uninstall: gast\n",
            "    Found existing installation: gast 0.4.0\n",
            "    Uninstalling gast-0.4.0:\n",
            "      Successfully uninstalled gast-0.4.0\n",
            "  Attempting uninstall: tensorflow\n",
            "    Found existing installation: tensorflow 2.7.0\n",
            "    Uninstalling tensorflow-2.7.0:\n",
            "      Successfully uninstalled tensorflow-2.7.0\n",
            "  Attempting uninstall: resampy\n",
            "    Found existing installation: resampy 0.2.2\n",
            "    Uninstalling resampy-0.2.2:\n",
            "      Successfully uninstalled resampy-0.2.2\n",
            "  Attempting uninstall: prettytable\n",
            "    Found existing installation: prettytable 2.4.0\n",
            "    Uninstalling prettytable-2.4.0:\n",
            "      Successfully uninstalled prettytable-2.4.0\n",
            "\u001b[31mERROR: pip's dependency resolver does not currently take into account all the packages that are installed. This behaviour is the source of the following dependency conflicts.\n",
            "tensorflow-probability 0.15.0 requires gast>=0.3.2, but you have gast 0.2.2 which is incompatible.\n",
            "librosa 0.8.1 requires resampy>=0.2.2, but you have resampy 0.2.1 which is incompatible.\n",
            "datascience 0.10.6 requires folium==0.2.1, but you have folium 0.8.3 which is incompatible.\n",
            "albumentations 0.1.12 requires imgaug<0.2.7,>=0.2.5, but you have imgaug 0.2.9 which is incompatible.\u001b[0m\n",
            "Successfully installed coremltools-3.3 gast-0.2.2 h5py-2.10.0 keras-applications-1.0.8 llvmlite-0.33.0 numba-0.50.1 numpy-1.18.5 prettytable-0.7.2 resampy-0.2.1 tensorboard-2.0.2 tensorflow-2.0.4 tensorflow-estimator-2.0.1 turicreate-6.4.1\n"
          ]
        },
        {
          "output_type": "display_data",
          "data": {
            "application/vnd.colab-display-data+json": {
              "pip_warning": {
                "packages": [
                  "numpy"
                ]
              }
            }
          },
          "metadata": {}
        },
        {
          "output_type": "stream",
          "name": "stdout",
          "text": [
            "Requirement already satisfied: kaggle in /usr/local/lib/python3.7/dist-packages (1.5.12)\n",
            "Requirement already satisfied: certifi in /usr/local/lib/python3.7/dist-packages (from kaggle) (2021.10.8)\n",
            "Requirement already satisfied: tqdm in /usr/local/lib/python3.7/dist-packages (from kaggle) (4.62.3)\n",
            "Requirement already satisfied: requests in /usr/local/lib/python3.7/dist-packages (from kaggle) (2.23.0)\n",
            "Requirement already satisfied: six>=1.10 in /usr/local/lib/python3.7/dist-packages (from kaggle) (1.15.0)\n",
            "Requirement already satisfied: python-slugify in /usr/local/lib/python3.7/dist-packages (from kaggle) (5.0.2)\n",
            "Requirement already satisfied: python-dateutil in /usr/local/lib/python3.7/dist-packages (from kaggle) (2.8.2)\n",
            "Requirement already satisfied: urllib3 in /usr/local/lib/python3.7/dist-packages (from kaggle) (1.24.3)\n",
            "Requirement already satisfied: text-unidecode>=1.3 in /usr/local/lib/python3.7/dist-packages (from python-slugify->kaggle) (1.3)\n",
            "Requirement already satisfied: idna<3,>=2.5 in /usr/local/lib/python3.7/dist-packages (from requests->kaggle) (2.10)\n",
            "Requirement already satisfied: chardet<4,>=3.0.2 in /usr/local/lib/python3.7/dist-packages (from requests->kaggle) (3.0.4)\n",
            "Requirement already satisfied: gensim in /usr/local/lib/python3.7/dist-packages (3.6.0)\n",
            "Requirement already satisfied: scipy>=0.18.1 in /usr/local/lib/python3.7/dist-packages (from gensim) (1.4.1)\n",
            "Requirement already satisfied: numpy>=1.11.3 in /usr/local/lib/python3.7/dist-packages (from gensim) (1.18.5)\n",
            "Requirement already satisfied: smart-open>=1.2.1 in /usr/local/lib/python3.7/dist-packages (from gensim) (5.2.1)\n",
            "Requirement already satisfied: six>=1.5.0 in /usr/local/lib/python3.7/dist-packages (from gensim) (1.15.0)\n",
            "Collecting pyLDAvis\n",
            "  Downloading pyLDAvis-3.3.1.tar.gz (1.7 MB)\n",
            "\u001b[K     |████████████████████████████████| 1.7 MB 31.9 MB/s \n",
            "\u001b[?25h  Installing build dependencies ... \u001b[?25l\u001b[?25hdone\n",
            "  Getting requirements to build wheel ... \u001b[?25l\u001b[?25hdone\n",
            "  Installing backend dependencies ... \u001b[?25l\u001b[?25hdone\n",
            "    Preparing wheel metadata ... \u001b[?25l\u001b[?25hdone\n",
            "Requirement already satisfied: joblib in /usr/local/lib/python3.7/dist-packages (from pyLDAvis) (1.1.0)\n",
            "Collecting numpy>=1.20.0\n",
            "  Downloading numpy-1.21.4-cp37-cp37m-manylinux_2_12_x86_64.manylinux2010_x86_64.whl (15.7 MB)\n",
            "\u001b[K     |████████████████████████████████| 15.7 MB 45.0 MB/s \n",
            "\u001b[?25hRequirement already satisfied: sklearn in /usr/local/lib/python3.7/dist-packages (from pyLDAvis) (0.0)\n",
            "Requirement already satisfied: scipy in /usr/local/lib/python3.7/dist-packages (from pyLDAvis) (1.4.1)\n",
            "Requirement already satisfied: setuptools in /usr/local/lib/python3.7/dist-packages (from pyLDAvis) (57.4.0)\n",
            "Requirement already satisfied: future in /usr/local/lib/python3.7/dist-packages (from pyLDAvis) (0.16.0)\n",
            "Requirement already satisfied: numexpr in /usr/local/lib/python3.7/dist-packages (from pyLDAvis) (2.7.3)\n",
            "Collecting funcy\n",
            "  Downloading funcy-1.16-py2.py3-none-any.whl (32 kB)\n",
            "Requirement already satisfied: scikit-learn in /usr/local/lib/python3.7/dist-packages (from pyLDAvis) (1.0.1)\n",
            "Collecting pandas>=1.2.0\n",
            "  Downloading pandas-1.3.4-cp37-cp37m-manylinux_2_17_x86_64.manylinux2014_x86_64.whl (11.3 MB)\n",
            "\u001b[K     |████████████████████████████████| 11.3 MB 33.3 MB/s \n",
            "\u001b[?25hRequirement already satisfied: gensim in /usr/local/lib/python3.7/dist-packages (from pyLDAvis) (3.6.0)\n",
            "Requirement already satisfied: jinja2 in /usr/local/lib/python3.7/dist-packages (from pyLDAvis) (2.11.3)\n",
            "Requirement already satisfied: python-dateutil>=2.7.3 in /usr/local/lib/python3.7/dist-packages (from pandas>=1.2.0->pyLDAvis) (2.8.2)\n",
            "Requirement already satisfied: pytz>=2017.3 in /usr/local/lib/python3.7/dist-packages (from pandas>=1.2.0->pyLDAvis) (2018.9)\n",
            "Requirement already satisfied: six>=1.5 in /usr/local/lib/python3.7/dist-packages (from python-dateutil>=2.7.3->pandas>=1.2.0->pyLDAvis) (1.15.0)\n",
            "Requirement already satisfied: smart-open>=1.2.1 in /usr/local/lib/python3.7/dist-packages (from gensim->pyLDAvis) (5.2.1)\n",
            "Requirement already satisfied: MarkupSafe>=0.23 in /usr/local/lib/python3.7/dist-packages (from jinja2->pyLDAvis) (2.0.1)\n",
            "Requirement already satisfied: threadpoolctl>=2.0.0 in /usr/local/lib/python3.7/dist-packages (from scikit-learn->pyLDAvis) (3.0.0)\n",
            "Building wheels for collected packages: pyLDAvis\n",
            "  Building wheel for pyLDAvis (PEP 517) ... \u001b[?25l\u001b[?25hdone\n",
            "  Created wheel for pyLDAvis: filename=pyLDAvis-3.3.1-py2.py3-none-any.whl size=136897 sha256=932dd0e7bc27e81151f7e8bbcfea74f6c86693d22478eb52250bc43b034519b2\n",
            "  Stored in directory: /root/.cache/pip/wheels/c9/21/f6/17bcf2667e8a68532ba2fbf6d5c72fdf4c7f7d9abfa4852d2f\n",
            "Successfully built pyLDAvis\n",
            "Installing collected packages: numpy, pandas, funcy, pyLDAvis\n",
            "  Attempting uninstall: numpy\n",
            "    Found existing installation: numpy 1.18.5\n",
            "    Uninstalling numpy-1.18.5:\n",
            "      Successfully uninstalled numpy-1.18.5\n",
            "  Attempting uninstall: pandas\n",
            "    Found existing installation: pandas 1.1.5\n",
            "    Uninstalling pandas-1.1.5:\n",
            "      Successfully uninstalled pandas-1.1.5\n",
            "\u001b[31mERROR: pip's dependency resolver does not currently take into account all the packages that are installed. This behaviour is the source of the following dependency conflicts.\n",
            "yellowbrick 1.3.post1 requires numpy<1.20,>=1.16.0, but you have numpy 1.21.4 which is incompatible.\n",
            "tensorflow 2.0.4 requires numpy<1.19.0,>=1.16.0, but you have numpy 1.21.4 which is incompatible.\n",
            "tensorflow-probability 0.15.0 requires gast>=0.3.2, but you have gast 0.2.2 which is incompatible.\n",
            "librosa 0.8.1 requires resampy>=0.2.2, but you have resampy 0.2.1 which is incompatible.\n",
            "google-colab 1.0.0 requires pandas~=1.1.0; python_version >= \"3.0\", but you have pandas 1.3.4 which is incompatible.\n",
            "datascience 0.10.6 requires folium==0.2.1, but you have folium 0.8.3 which is incompatible.\n",
            "albumentations 0.1.12 requires imgaug<0.2.7,>=0.2.5, but you have imgaug 0.2.9 which is incompatible.\u001b[0m\n",
            "Successfully installed funcy-1.16 numpy-1.21.4 pandas-1.3.4 pyLDAvis-3.3.1\n"
          ]
        },
        {
          "output_type": "display_data",
          "data": {
            "application/vnd.colab-display-data+json": {
              "pip_warning": {
                "packages": [
                  "numpy",
                  "pandas"
                ]
              }
            }
          },
          "metadata": {}
        },
        {
          "output_type": "stream",
          "name": "stdout",
          "text": [
            "Requirement already satisfied: spaCy in /usr/local/lib/python3.7/dist-packages (2.2.4)\n",
            "Requirement already satisfied: murmurhash<1.1.0,>=0.28.0 in /usr/local/lib/python3.7/dist-packages (from spaCy) (1.0.6)\n",
            "Requirement already satisfied: srsly<1.1.0,>=1.0.2 in /usr/local/lib/python3.7/dist-packages (from spaCy) (1.0.5)\n",
            "Requirement already satisfied: blis<0.5.0,>=0.4.0 in /usr/local/lib/python3.7/dist-packages (from spaCy) (0.4.1)\n",
            "Requirement already satisfied: numpy>=1.15.0 in /usr/local/lib/python3.7/dist-packages (from spaCy) (1.21.4)\n",
            "Requirement already satisfied: requests<3.0.0,>=2.13.0 in /usr/local/lib/python3.7/dist-packages (from spaCy) (2.23.0)\n",
            "Requirement already satisfied: plac<1.2.0,>=0.9.6 in /usr/local/lib/python3.7/dist-packages (from spaCy) (1.1.3)\n",
            "Requirement already satisfied: thinc==7.4.0 in /usr/local/lib/python3.7/dist-packages (from spaCy) (7.4.0)\n",
            "Requirement already satisfied: catalogue<1.1.0,>=0.0.7 in /usr/local/lib/python3.7/dist-packages (from spaCy) (1.0.0)\n",
            "Requirement already satisfied: wasabi<1.1.0,>=0.4.0 in /usr/local/lib/python3.7/dist-packages (from spaCy) (0.8.2)\n",
            "Requirement already satisfied: setuptools in /usr/local/lib/python3.7/dist-packages (from spaCy) (57.4.0)\n",
            "Requirement already satisfied: tqdm<5.0.0,>=4.38.0 in /usr/local/lib/python3.7/dist-packages (from spaCy) (4.62.3)\n",
            "Requirement already satisfied: preshed<3.1.0,>=3.0.2 in /usr/local/lib/python3.7/dist-packages (from spaCy) (3.0.6)\n",
            "Requirement already satisfied: cymem<2.1.0,>=2.0.2 in /usr/local/lib/python3.7/dist-packages (from spaCy) (2.0.6)\n",
            "Requirement already satisfied: importlib-metadata>=0.20 in /usr/local/lib/python3.7/dist-packages (from catalogue<1.1.0,>=0.0.7->spaCy) (4.8.2)\n",
            "Requirement already satisfied: typing-extensions>=3.6.4 in /usr/local/lib/python3.7/dist-packages (from importlib-metadata>=0.20->catalogue<1.1.0,>=0.0.7->spaCy) (3.10.0.2)\n",
            "Requirement already satisfied: zipp>=0.5 in /usr/local/lib/python3.7/dist-packages (from importlib-metadata>=0.20->catalogue<1.1.0,>=0.0.7->spaCy) (3.6.0)\n",
            "Requirement already satisfied: idna<3,>=2.5 in /usr/local/lib/python3.7/dist-packages (from requests<3.0.0,>=2.13.0->spaCy) (2.10)\n",
            "Requirement already satisfied: urllib3!=1.25.0,!=1.25.1,<1.26,>=1.21.1 in /usr/local/lib/python3.7/dist-packages (from requests<3.0.0,>=2.13.0->spaCy) (1.24.3)\n",
            "Requirement already satisfied: chardet<4,>=3.0.2 in /usr/local/lib/python3.7/dist-packages (from requests<3.0.0,>=2.13.0->spaCy) (3.0.4)\n",
            "Requirement already satisfied: certifi>=2017.4.17 in /usr/local/lib/python3.7/dist-packages (from requests<3.0.0,>=2.13.0->spaCy) (2021.10.8)\n",
            "Collecting afinn\n",
            "  Downloading afinn-0.1.tar.gz (52 kB)\n",
            "\u001b[K     |████████████████████████████████| 52 kB 1.4 MB/s \n",
            "\u001b[?25hBuilding wheels for collected packages: afinn\n",
            "  Building wheel for afinn (setup.py) ... \u001b[?25l\u001b[?25hdone\n",
            "  Created wheel for afinn: filename=afinn-0.1-py3-none-any.whl size=53448 sha256=7b8d12cdb56b7bf0d2c3bbffa05dc82bc6e9631cf6a42dc63413dac1f097db70\n",
            "  Stored in directory: /root/.cache/pip/wheels/9d/16/3a/9f0953027434eab5dadf3f33ab3298fa95afa8292fcf7aba75\n",
            "Successfully built afinn\n",
            "Installing collected packages: afinn\n",
            "Successfully installed afinn-0.1\n",
            "Requirement already satisfied: nltk in /usr/local/lib/python3.7/dist-packages (3.2.5)\n",
            "Requirement already satisfied: six in /usr/local/lib/python3.7/dist-packages (from nltk) (1.15.0)\n",
            "Collecting plotly_express\n",
            "  Downloading plotly_express-0.4.1-py2.py3-none-any.whl (2.9 kB)\n",
            "Requirement already satisfied: numpy>=1.11 in /usr/local/lib/python3.7/dist-packages (from plotly_express) (1.21.4)\n",
            "Requirement already satisfied: plotly>=4.1.0 in /usr/local/lib/python3.7/dist-packages (from plotly_express) (4.4.1)\n",
            "Requirement already satisfied: patsy>=0.5 in /usr/local/lib/python3.7/dist-packages (from plotly_express) (0.5.2)\n",
            "Requirement already satisfied: statsmodels>=0.9.0 in /usr/local/lib/python3.7/dist-packages (from plotly_express) (0.10.2)\n",
            "Requirement already satisfied: scipy>=0.18 in /usr/local/lib/python3.7/dist-packages (from plotly_express) (1.4.1)\n",
            "Requirement already satisfied: pandas>=0.20.0 in /usr/local/lib/python3.7/dist-packages (from plotly_express) (1.3.4)\n",
            "Requirement already satisfied: python-dateutil>=2.7.3 in /usr/local/lib/python3.7/dist-packages (from pandas>=0.20.0->plotly_express) (2.8.2)\n",
            "Requirement already satisfied: pytz>=2017.3 in /usr/local/lib/python3.7/dist-packages (from pandas>=0.20.0->plotly_express) (2018.9)\n",
            "Requirement already satisfied: six in /usr/local/lib/python3.7/dist-packages (from patsy>=0.5->plotly_express) (1.15.0)\n",
            "Requirement already satisfied: retrying>=1.3.3 in /usr/local/lib/python3.7/dist-packages (from plotly>=4.1.0->plotly_express) (1.3.3)\n",
            "Installing collected packages: plotly-express\n",
            "Successfully installed plotly-express-0.4.1\n",
            "[nltk_data] Downloading package stopwords to /root/nltk_data...\n",
            "[nltk_data]   Unzipping corpora/stopwords.zip.\n",
            "[nltk_data] Downloading package punkt to /root/nltk_data...\n",
            "[nltk_data]   Unzipping tokenizers/punkt.zip.\n",
            "Collecting en_core_web_lg==2.2.5\n",
            "  Downloading https://github.com/explosion/spacy-models/releases/download/en_core_web_lg-2.2.5/en_core_web_lg-2.2.5.tar.gz (827.9 MB)\n",
            "\u001b[K     |████████████████████████████████| 827.9 MB 1.3 MB/s \n",
            "\u001b[?25hRequirement already satisfied: spacy>=2.2.2 in /usr/local/lib/python3.7/dist-packages (from en_core_web_lg==2.2.5) (2.2.4)\n",
            "Requirement already satisfied: thinc==7.4.0 in /usr/local/lib/python3.7/dist-packages (from spacy>=2.2.2->en_core_web_lg==2.2.5) (7.4.0)\n",
            "Requirement already satisfied: tqdm<5.0.0,>=4.38.0 in /usr/local/lib/python3.7/dist-packages (from spacy>=2.2.2->en_core_web_lg==2.2.5) (4.62.3)\n",
            "Requirement already satisfied: preshed<3.1.0,>=3.0.2 in /usr/local/lib/python3.7/dist-packages (from spacy>=2.2.2->en_core_web_lg==2.2.5) (3.0.6)\n",
            "Requirement already satisfied: setuptools in /usr/local/lib/python3.7/dist-packages (from spacy>=2.2.2->en_core_web_lg==2.2.5) (57.4.0)\n",
            "Requirement already satisfied: cymem<2.1.0,>=2.0.2 in /usr/local/lib/python3.7/dist-packages (from spacy>=2.2.2->en_core_web_lg==2.2.5) (2.0.6)\n",
            "Requirement already satisfied: catalogue<1.1.0,>=0.0.7 in /usr/local/lib/python3.7/dist-packages (from spacy>=2.2.2->en_core_web_lg==2.2.5) (1.0.0)\n",
            "Requirement already satisfied: srsly<1.1.0,>=1.0.2 in /usr/local/lib/python3.7/dist-packages (from spacy>=2.2.2->en_core_web_lg==2.2.5) (1.0.5)\n",
            "Requirement already satisfied: blis<0.5.0,>=0.4.0 in /usr/local/lib/python3.7/dist-packages (from spacy>=2.2.2->en_core_web_lg==2.2.5) (0.4.1)\n",
            "Requirement already satisfied: numpy>=1.15.0 in /usr/local/lib/python3.7/dist-packages (from spacy>=2.2.2->en_core_web_lg==2.2.5) (1.21.4)\n",
            "Requirement already satisfied: wasabi<1.1.0,>=0.4.0 in /usr/local/lib/python3.7/dist-packages (from spacy>=2.2.2->en_core_web_lg==2.2.5) (0.8.2)\n",
            "Requirement already satisfied: requests<3.0.0,>=2.13.0 in /usr/local/lib/python3.7/dist-packages (from spacy>=2.2.2->en_core_web_lg==2.2.5) (2.23.0)\n",
            "Requirement already satisfied: murmurhash<1.1.0,>=0.28.0 in /usr/local/lib/python3.7/dist-packages (from spacy>=2.2.2->en_core_web_lg==2.2.5) (1.0.6)\n",
            "Requirement already satisfied: plac<1.2.0,>=0.9.6 in /usr/local/lib/python3.7/dist-packages (from spacy>=2.2.2->en_core_web_lg==2.2.5) (1.1.3)\n",
            "Requirement already satisfied: importlib-metadata>=0.20 in /usr/local/lib/python3.7/dist-packages (from catalogue<1.1.0,>=0.0.7->spacy>=2.2.2->en_core_web_lg==2.2.5) (4.8.2)\n",
            "Requirement already satisfied: typing-extensions>=3.6.4 in /usr/local/lib/python3.7/dist-packages (from importlib-metadata>=0.20->catalogue<1.1.0,>=0.0.7->spacy>=2.2.2->en_core_web_lg==2.2.5) (3.10.0.2)\n",
            "Requirement already satisfied: zipp>=0.5 in /usr/local/lib/python3.7/dist-packages (from importlib-metadata>=0.20->catalogue<1.1.0,>=0.0.7->spacy>=2.2.2->en_core_web_lg==2.2.5) (3.6.0)\n",
            "Requirement already satisfied: chardet<4,>=3.0.2 in /usr/local/lib/python3.7/dist-packages (from requests<3.0.0,>=2.13.0->spacy>=2.2.2->en_core_web_lg==2.2.5) (3.0.4)\n",
            "Requirement already satisfied: idna<3,>=2.5 in /usr/local/lib/python3.7/dist-packages (from requests<3.0.0,>=2.13.0->spacy>=2.2.2->en_core_web_lg==2.2.5) (2.10)\n",
            "Requirement already satisfied: certifi>=2017.4.17 in /usr/local/lib/python3.7/dist-packages (from requests<3.0.0,>=2.13.0->spacy>=2.2.2->en_core_web_lg==2.2.5) (2021.10.8)\n",
            "Requirement already satisfied: urllib3!=1.25.0,!=1.25.1,<1.26,>=1.21.1 in /usr/local/lib/python3.7/dist-packages (from requests<3.0.0,>=2.13.0->spacy>=2.2.2->en_core_web_lg==2.2.5) (1.24.3)\n",
            "Building wheels for collected packages: en-core-web-lg\n",
            "  Building wheel for en-core-web-lg (setup.py) ... \u001b[?25l\u001b[?25hdone\n",
            "  Created wheel for en-core-web-lg: filename=en_core_web_lg-2.2.5-py3-none-any.whl size=829180942 sha256=290c76a9847f19466916ffe176ed954c6bc35df8d016a178658b95f1f6828189\n",
            "  Stored in directory: /tmp/pip-ephem-wheel-cache-u0gv1xow/wheels/11/95/ba/2c36cc368c0bd339b44a791c2c1881a1fb714b78c29a4cb8f5\n",
            "Successfully built en-core-web-lg\n",
            "Installing collected packages: en-core-web-lg\n",
            "Successfully installed en-core-web-lg-2.2.5\n",
            "\u001b[38;5;2m✔ Download and installation successful\u001b[0m\n",
            "You can now load the model via spacy.load('en_core_web_lg')\n"
          ]
        }
      ]
    },
    {
      "cell_type": "code",
      "source": [
        "#setting up Kaggle & TuriCreate package s\n",
        "import json\n",
        "import os\n",
        "\n",
        "!mkdir /root/.kaggle/\n",
        "# Installing the Kaggle package\n",
        "\n",
        "#Important Note: complete this with your own key - after running this for the first time remmember to **remove** your API_KEY\n",
        "api_token = {\"username\":\"aamitshakarchy\",\"key\":\"004ade6e43f08b393cf10784d7e16ab0\"}\n",
        "\n",
        "# creating kaggle.json file with the personal API-Key details \n",
        "# You can also put this file on your Google Drive\n",
        "\n",
        "with open('/root/.kaggle/kaggle.json', 'w') as file:\n",
        "  json.dump(api_token, file)\n",
        "!chmod 600 /root/.kaggle/kaggle.json"
      ],
      "metadata": {
        "id": "MF3pm-snfFCk"
      },
      "execution_count": 1,
      "outputs": []
    },
    {
      "cell_type": "markdown",
      "metadata": {
        "id": "Fdve57NuDMEf"
      },
      "source": [
        "**Question 1:** Select two books and construct networks of people and locations, i.e. each link is between a a person and a location (20pt). Visualize the network using Cytoscape or Gephi (20pt).\n"
      ]
    },
    {
      "cell_type": "code",
      "source": [
        "!kaggle datasets list -s \"harry potter\""
      ],
      "metadata": {
        "colab": {
          "base_uri": "https://localhost:8080/"
        },
        "id": "8J3FONCahH72",
        "outputId": "e4ca35b1-084a-45f1-ba6c-654df180a630"
      },
      "execution_count": 2,
      "outputs": [
        {
          "output_type": "stream",
          "name": "stdout",
          "text": [
            "Warning: Looks like you're using an outdated API Version, please consider updating (server 1.5.12 / client 1.5.4)\n",
            "ref                                                          title                                             size  lastUpdated          downloadCount  \n",
            "-----------------------------------------------------------  -----------------------------------------------  -----  -------------------  -------------  \n",
            "gulsahdemiryurek/harry-potter-dataset                        Harry Potter Dataset                              95KB  2021-05-14 21:30:31           6024  \n",
            "juliasays/harry-potter-spells                                Harry Potter Spells                               766B  2020-06-22 13:36:53            175  \n",
            "eward96/harry-potter-and-the-philosophers-stone-script       Harry Potter and the Philosopher's Stone script   25KB  2020-06-17 12:04:00            315  \n",
            "nehatiwari03/harry-potter-fanfiction-data                    Harry Potter fanfiction data                      86MB  2020-01-25 01:37:25            246  \n",
            "kornflex/harry-potter-movies-dataset                         Harry Potter Movies Dataset                      227KB  2021-11-17 01:27:37            353  \n",
            "ihelon/lego-minifigures-classification                       LEGO Minifigures                                  27MB  2021-07-15 19:14:08           3273  \n",
            "santiviquez/hp1txt                                           Harry Potter Book 1                              162KB  2020-05-04 20:30:33            162  \n",
            "gantlaborde/riddikulus                                       Riddikulus - Hogwarts Houses                     101MB  2021-01-07 14:30:54             40  \n",
            "eward96/harry-potter-and-the-chamber-of-secrets-script       Harry Potter and the Chamber of Secrets script    29KB  2020-06-21 11:57:19             81  \n",
            "zez000/characters-in-harry-potter-books                      Characters in Harry Potter Books                 321KB  2020-11-20 14:53:46             81  \n",
            "muhammadmdurrani/severus-snape                               Severus Snape                                     64MB  2020-12-16 20:55:20              6  \n",
            "samuelcortinhas/popularity-of-cambridge-university-colleges  Popularity of Cambridge University Colleges        5KB  2021-11-17 10:37:35            230  \n",
            "electroclashh/harry-potter-dataset                           Harry Potter Dataset                              19KB  2021-11-15 20:20:08              6  \n",
            "mchavoshi/harry-potter-book1-farsi                           harry_potter_book1_farsi                         225KB  2019-09-25 08:24:51             45  \n",
            "nishantrajadhyaksha/harry-potter-final-data                  Harry_Potter_data                                102KB  2021-11-04 09:27:26              2  \n",
            "umdogqualquer/harry-potter-pt                                Harry Potter PT                                   32KB  2021-09-28 16:44:31              5  \n",
            "randikaweerasinghe/harry-potter-sorcerers-stone              Harry Potter Sorcerers Stone                     168KB  2021-09-01 04:31:22              8  \n",
            "maleeq/harry-potter-1-3                                      Harry potter 1 - 3                                49KB  2021-09-08 04:36:18             20  \n",
            "zafuzzy/fattycsv                                             Fatty.csv                                        193KB  2021-09-26 11:57:50             12  \n",
            "yamqwe/multifactor-general-knowledge-test                    General Knowledge Quiz - Multifactor questions!    4MB  2021-10-31 13:05:27           1852  \n"
          ]
        }
      ]
    },
    {
      "cell_type": "code",
      "source": [
        "!mkdir ./datasets\n",
        "!mkdir ./datasets/HP_dataset\n",
        "\n",
        "!kaggle datasets download zez000/characters-in-harry-potter-books -p ./datasets/HP_dataset\n",
        "!unzip ./datasets/HP_dataset/*.zip  -d ./datasets/HP_dataset/"
      ],
      "metadata": {
        "colab": {
          "base_uri": "https://localhost:8080/"
        },
        "id": "uqaJYtIIhQSw",
        "outputId": "d0e66ed0-8687-45c4-b216-d3f6ab350166"
      },
      "execution_count": 3,
      "outputs": [
        {
          "output_type": "stream",
          "name": "stdout",
          "text": [
            "Downloading characters-in-harry-potter-books.zip to ./datasets/HP_dataset\n",
            "\r  0% 0.00/321k [00:00<?, ?B/s]\n",
            "\r100% 321k/321k [00:00<00:00, 22.8MB/s]\n",
            "Archive:  ./datasets/HP_dataset/characters-in-harry-potter-books.zip\n",
            "  inflating: ./datasets/HP_dataset/HPCharactersData.csv  \n",
            "  inflating: ./datasets/HP_dataset/HPCharactersDataRaw.json  \n"
          ]
        }
      ]
    },
    {
      "cell_type": "code",
      "source": [
        "!unzip ./datasets/HP_dataset/characters-in-harry-potter-books.zip  -d ./datasets/HP_dataset/\n",
        "!ls ./datasets/HP_dataset"
      ],
      "metadata": {
        "colab": {
          "base_uri": "https://localhost:8080/"
        },
        "id": "Thp0RU_thgRI",
        "outputId": "af528e47-d4f0-40c2-8474-092bdded6321"
      },
      "execution_count": 4,
      "outputs": [
        {
          "output_type": "stream",
          "name": "stdout",
          "text": [
            "Archive:  ./datasets/HP_dataset/characters-in-harry-potter-books.zip\n",
            "replace ./datasets/HP_dataset/HPCharactersData.csv? [y]es, [n]o, [A]ll, [N]one, [r]ename: y\n",
            "  inflating: ./datasets/HP_dataset/HPCharactersData.csv  \n",
            "replace ./datasets/HP_dataset/HPCharactersDataRaw.json? [y]es, [n]o, [A]ll, [N]one, [r]ename: y\n",
            "  inflating: ./datasets/HP_dataset/HPCharactersDataRaw.json  \n",
            "characters-in-harry-potter-books.zip  HPCharactersDataRaw.json\n",
            "HPCharactersData.csv\n"
          ]
        }
      ]
    },
    {
      "cell_type": "code",
      "source": [
        "import turicreate as tc\n",
        "\n",
        "sf = tc.SFrame.read_csv(\"./datasets/HP_dataset/HPCharactersData.csv\")\n",
        "sf"
      ],
      "metadata": {
        "colab": {
          "base_uri": "https://localhost:8080/",
          "height": 921
        },
        "id": "s9lEhs1qh_ko",
        "outputId": "28d54492-6dbd-42d7-ee13-8b399d4e8a6a"
      },
      "execution_count": 5,
      "outputs": [
        {
          "output_type": "display_data",
          "data": {
            "text/html": [
              "<pre>Read 100 lines. Lines per second: 2088.25</pre>"
            ],
            "text/plain": [
              "Read 100 lines. Lines per second: 2088.25"
            ]
          },
          "metadata": {}
        },
        {
          "output_type": "display_data",
          "data": {
            "text/html": [
              "<pre>Finished parsing file /content/datasets/HP_dataset/HPCharactersData.csv</pre>"
            ],
            "text/plain": [
              "Finished parsing file /content/datasets/HP_dataset/HPCharactersData.csv"
            ]
          },
          "metadata": {}
        },
        {
          "output_type": "display_data",
          "data": {
            "text/html": [
              "<pre>Parsing completed. Parsed 100 lines in 0.050516 secs.</pre>"
            ],
            "text/plain": [
              "Parsing completed. Parsed 100 lines in 0.050516 secs."
            ]
          },
          "metadata": {}
        },
        {
          "output_type": "stream",
          "name": "stdout",
          "text": [
            "------------------------------------------------------\n",
            "Inferred types from first 100 line(s) of file as \n",
            "column_type_hints=[str,str,str,str,str,str,str,str]\n",
            "If parsing fails due to incorrect types, you can correct\n",
            "the inferred type list above and pass it to read_csv in\n",
            "the column_type_hints argument\n",
            "------------------------------------------------------\n"
          ]
        },
        {
          "output_type": "display_data",
          "data": {
            "text/html": [
              "<pre>Finished parsing file /content/datasets/HP_dataset/HPCharactersData.csv</pre>"
            ],
            "text/plain": [
              "Finished parsing file /content/datasets/HP_dataset/HPCharactersData.csv"
            ]
          },
          "metadata": {}
        },
        {
          "output_type": "display_data",
          "data": {
            "text/html": [
              "<pre>Parsing completed. Parsed 1281 lines in 0.019984 secs.</pre>"
            ],
            "text/plain": [
              "Parsing completed. Parsed 1281 lines in 0.019984 secs."
            ]
          },
          "metadata": {}
        },
        {
          "output_type": "execute_result",
          "data": {
            "text/html": [
              "<div style=\"max-height:1000px;max-width:1500px;overflow:auto;\"><table frame=\"box\" rules=\"cols\">\n",
              "    <tr>\n",
              "        <th style=\"padding-left: 1em; padding-right: 1em; text-align: center\">Name</th>\n",
              "        <th style=\"padding-left: 1em; padding-right: 1em; text-align: center\">Link</th>\n",
              "        <th style=\"padding-left: 1em; padding-right: 1em; text-align: center\">Descr</th>\n",
              "        <th style=\"padding-left: 1em; padding-right: 1em; text-align: center\">Gender</th>\n",
              "        <th style=\"padding-left: 1em; padding-right: 1em; text-align: center\">Species/Race</th>\n",
              "    </tr>\n",
              "    <tr>\n",
              "        <td style=\"padding-left: 1em; padding-right: 1em; text-align: center; vertical-align: top\">Mrs. Abbott</td>\n",
              "        <td style=\"padding-left: 1em; padding-right: 1em; text-align: center; vertical-align: top\">https://www.hp-lexicon.or<br>g/character/abbott- ...</td>\n",
              "        <td style=\"padding-left: 1em; padding-right: 1em; text-align: center; vertical-align: top\">Mrs. Abbott was the<br>mother of Hannah Abbott, ...</td>\n",
              "        <td style=\"padding-left: 1em; padding-right: 1em; text-align: center; vertical-align: top\">Female</td>\n",
              "        <td style=\"padding-left: 1em; padding-right: 1em; text-align: center; vertical-align: top\">witch</td>\n",
              "    </tr>\n",
              "    <tr>\n",
              "        <td style=\"padding-left: 1em; padding-right: 1em; text-align: center; vertical-align: top\">Hannah Abbott</td>\n",
              "        <td style=\"padding-left: 1em; padding-right: 1em; text-align: center; vertical-align: top\">https://www.hp-lexicon.or<br>g/character/abbott- ...</td>\n",
              "        <td style=\"padding-left: 1em; padding-right: 1em; text-align: center; vertical-align: top\">Hannah Abbott is a<br>Hufflepuff student in ...</td>\n",
              "        <td style=\"padding-left: 1em; padding-right: 1em; text-align: center; vertical-align: top\">Female</td>\n",
              "        <td style=\"padding-left: 1em; padding-right: 1em; text-align: center; vertical-align: top\">witch</td>\n",
              "    </tr>\n",
              "    <tr>\n",
              "        <td style=\"padding-left: 1em; padding-right: 1em; text-align: center; vertical-align: top\">Abel Treetops</td>\n",
              "        <td style=\"padding-left: 1em; padding-right: 1em; text-align: center; vertical-align: top\">https://www.hp-lexicon.or<br>g/character/abel- ...</td>\n",
              "        <td style=\"padding-left: 1em; padding-right: 1em; text-align: center; vertical-align: top\">Abel Treetops was a<br>wizard from Cincinnati ...</td>\n",
              "        <td style=\"padding-left: 1em; padding-right: 1em; text-align: center; vertical-align: top\">Male</td>\n",
              "        <td style=\"padding-left: 1em; padding-right: 1em; text-align: center; vertical-align: top\">wizard</td>\n",
              "    </tr>\n",
              "    <tr>\n",
              "        <td style=\"padding-left: 1em; padding-right: 1em; text-align: center; vertical-align: top\">Euan Abercrombie</td>\n",
              "        <td style=\"padding-left: 1em; padding-right: 1em; text-align: center; vertical-align: top\">https://www.hp-lexicon.or<br>g/character/abercrombie- ...</td>\n",
              "        <td style=\"padding-left: 1em; padding-right: 1em; text-align: center; vertical-align: top\">Euan Abercrombie was a<br>small boy with prominent ...</td>\n",
              "        <td style=\"padding-left: 1em; padding-right: 1em; text-align: center; vertical-align: top\">Male</td>\n",
              "        <td style=\"padding-left: 1em; padding-right: 1em; text-align: center; vertical-align: top\">wizard</td>\n",
              "    </tr>\n",
              "    <tr>\n",
              "        <td style=\"padding-left: 1em; padding-right: 1em; text-align: center; vertical-align: top\">Aberforth Dumbledore</td>\n",
              "        <td style=\"padding-left: 1em; padding-right: 1em; text-align: center; vertical-align: top\">https://www.hp-lexicon.or<br>g/character/dumbledore- ...</td>\n",
              "        <td style=\"padding-left: 1em; padding-right: 1em; text-align: center; vertical-align: top\">Aberforth Dumbledore was<br>a tall, thin, grumpy- ...</td>\n",
              "        <td style=\"padding-left: 1em; padding-right: 1em; text-align: center; vertical-align: top\">Male</td>\n",
              "        <td style=\"padding-left: 1em; padding-right: 1em; text-align: center; vertical-align: top\">wizard</td>\n",
              "    </tr>\n",
              "    <tr>\n",
              "        <td style=\"padding-left: 1em; padding-right: 1em; text-align: center; vertical-align: top\">Abernathy</td>\n",
              "        <td style=\"padding-left: 1em; padding-right: 1em; text-align: center; vertical-align: top\">https://www.hp-lexicon.or<br>g/character/abernathy/ ...</td>\n",
              "        <td style=\"padding-left: 1em; padding-right: 1em; text-align: center; vertical-align: top\">Abernathy\\xa0was Tina<br>Goldstein’s pompous boss ...</td>\n",
              "        <td style=\"padding-left: 1em; padding-right: 1em; text-align: center; vertical-align: top\">Male</td>\n",
              "        <td style=\"padding-left: 1em; padding-right: 1em; text-align: center; vertical-align: top\">wizard</td>\n",
              "    </tr>\n",
              "    <tr>\n",
              "        <td style=\"padding-left: 1em; padding-right: 1em; text-align: center; vertical-align: top\">Abraham Peasegood</td>\n",
              "        <td style=\"padding-left: 1em; padding-right: 1em; text-align: center; vertical-align: top\">https://www.hp-lexicon.or<br>g/character/abraham- ...</td>\n",
              "        <td style=\"padding-left: 1em; padding-right: 1em; text-align: center; vertical-align: top\">Abraham Peasegood was an<br>American wizard who ...</td>\n",
              "        <td style=\"padding-left: 1em; padding-right: 1em; text-align: center; vertical-align: top\">Male</td>\n",
              "        <td style=\"padding-left: 1em; padding-right: 1em; text-align: center; vertical-align: top\">wizard</td>\n",
              "    </tr>\n",
              "    <tr>\n",
              "        <td style=\"padding-left: 1em; padding-right: 1em; text-align: center; vertical-align: top\">Abraham Potter</td>\n",
              "        <td style=\"padding-left: 1em; padding-right: 1em; text-align: center; vertical-align: top\">https://www.hp-lexicon.or<br>g/character/potter- ...</td>\n",
              "        <td style=\"padding-left: 1em; padding-right: 1em; text-align: center; vertical-align: top\">Abraham Potter was one of<br>MACUSA’s original twelve ...</td>\n",
              "        <td style=\"padding-left: 1em; padding-right: 1em; text-align: center; vertical-align: top\">Male</td>\n",
              "        <td style=\"padding-left: 1em; padding-right: 1em; text-align: center; vertical-align: top\">wizard</td>\n",
              "    </tr>\n",
              "    <tr>\n",
              "        <td style=\"padding-left: 1em; padding-right: 1em; text-align: center; vertical-align: top\">Abraxas Malfoy</td>\n",
              "        <td style=\"padding-left: 1em; padding-right: 1em; text-align: center; vertical-align: top\">https://www.hp-lexicon.or<br>g/character/malfoy- ...</td>\n",
              "        <td style=\"padding-left: 1em; padding-right: 1em; text-align: center; vertical-align: top\">Abraxas Malfoy was a<br>wizard who was believed ...</td>\n",
              "        <td style=\"padding-left: 1em; padding-right: 1em; text-align: center; vertical-align: top\">Male</td>\n",
              "        <td style=\"padding-left: 1em; padding-right: 1em; text-align: center; vertical-align: top\">wizard</td>\n",
              "    </tr>\n",
              "    <tr>\n",
              "        <td style=\"padding-left: 1em; padding-right: 1em; text-align: center; vertical-align: top\">Achilles Tolliver</td>\n",
              "        <td style=\"padding-left: 1em; padding-right: 1em; text-align: center; vertical-align: top\">https://www.hp-lexicon.or<br>g/character/achilles- ...</td>\n",
              "        <td style=\"padding-left: 1em; padding-right: 1em; text-align: center; vertical-align: top\">Achilles Tolliver was an<br>Auror whom Tina Golds ...</td>\n",
              "        <td style=\"padding-left: 1em; padding-right: 1em; text-align: center; vertical-align: top\">Male</td>\n",
              "        <td style=\"padding-left: 1em; padding-right: 1em; text-align: center; vertical-align: top\">wizard</td>\n",
              "    </tr>\n",
              "</table>\n",
              "<table frame=\"box\" rules=\"cols\">\n",
              "    <tr>\n",
              "        <th style=\"padding-left: 1em; padding-right: 1em; text-align: center\">Blood</th>\n",
              "        <th style=\"padding-left: 1em; padding-right: 1em; text-align: center\">School</th>\n",
              "        <th style=\"padding-left: 1em; padding-right: 1em; text-align: center\">Profession</th>\n",
              "    </tr>\n",
              "    <tr>\n",
              "        <td style=\"padding-left: 1em; padding-right: 1em; text-align: center; vertical-align: top\">Muggle-born</td>\n",
              "        <td style=\"padding-left: 1em; padding-right: 1em; text-align: center; vertical-align: top\">Unknown</td>\n",
              "        <td style=\"padding-left: 1em; padding-right: 1em; text-align: center; vertical-align: top\">Unknown</td>\n",
              "    </tr>\n",
              "    <tr>\n",
              "        <td style=\"padding-left: 1em; padding-right: 1em; text-align: center; vertical-align: top\">Half-blood</td>\n",
              "        <td style=\"padding-left: 1em; padding-right: 1em; text-align: center; vertical-align: top\">Hogwarts - Hufflepuff</td>\n",
              "        <td style=\"padding-left: 1em; padding-right: 1em; text-align: center; vertical-align: top\">Landlady of the Leaky<br>Cauldron ...</td>\n",
              "    </tr>\n",
              "    <tr>\n",
              "        <td style=\"padding-left: 1em; padding-right: 1em; text-align: center; vertical-align: top\">Unknown</td>\n",
              "        <td style=\"padding-left: 1em; padding-right: 1em; text-align: center; vertical-align: top\">Unknown</td>\n",
              "        <td style=\"padding-left: 1em; padding-right: 1em; text-align: center; vertical-align: top\">Unknown</td>\n",
              "    </tr>\n",
              "    <tr>\n",
              "        <td style=\"padding-left: 1em; padding-right: 1em; text-align: center; vertical-align: top\">Unknown</td>\n",
              "        <td style=\"padding-left: 1em; padding-right: 1em; text-align: center; vertical-align: top\">Hogwarts - Gryffindor</td>\n",
              "        <td style=\"padding-left: 1em; padding-right: 1em; text-align: center; vertical-align: top\">Unknown</td>\n",
              "    </tr>\n",
              "    <tr>\n",
              "        <td style=\"padding-left: 1em; padding-right: 1em; text-align: center; vertical-align: top\">Half-blood</td>\n",
              "        <td style=\"padding-left: 1em; padding-right: 1em; text-align: center; vertical-align: top\">Hogwarts - Student</td>\n",
              "        <td style=\"padding-left: 1em; padding-right: 1em; text-align: center; vertical-align: top\">Barman</td>\n",
              "    </tr>\n",
              "    <tr>\n",
              "        <td style=\"padding-left: 1em; padding-right: 1em; text-align: center; vertical-align: top\">Unknown</td>\n",
              "        <td style=\"padding-left: 1em; padding-right: 1em; text-align: center; vertical-align: top\">Unknown</td>\n",
              "        <td style=\"padding-left: 1em; padding-right: 1em; text-align: center; vertical-align: top\">MACUSA employee, then<br>servant of Grindelwald ...</td>\n",
              "    </tr>\n",
              "    <tr>\n",
              "        <td style=\"padding-left: 1em; padding-right: 1em; text-align: center; vertical-align: top\">Unknown</td>\n",
              "        <td style=\"padding-left: 1em; padding-right: 1em; text-align: center; vertical-align: top\">Unknown</td>\n",
              "        <td style=\"padding-left: 1em; padding-right: 1em; text-align: center; vertical-align: top\">Unknown</td>\n",
              "    </tr>\n",
              "    <tr>\n",
              "        <td style=\"padding-left: 1em; padding-right: 1em; text-align: center; vertical-align: top\">Unknown</td>\n",
              "        <td style=\"padding-left: 1em; padding-right: 1em; text-align: center; vertical-align: top\">Unknown</td>\n",
              "        <td style=\"padding-left: 1em; padding-right: 1em; text-align: center; vertical-align: top\">Auror</td>\n",
              "    </tr>\n",
              "    <tr>\n",
              "        <td style=\"padding-left: 1em; padding-right: 1em; text-align: center; vertical-align: top\">Pure blood</td>\n",
              "        <td style=\"padding-left: 1em; padding-right: 1em; text-align: center; vertical-align: top\">Unknown</td>\n",
              "        <td style=\"padding-left: 1em; padding-right: 1em; text-align: center; vertical-align: top\">Unknown</td>\n",
              "    </tr>\n",
              "    <tr>\n",
              "        <td style=\"padding-left: 1em; padding-right: 1em; text-align: center; vertical-align: top\">Unknown</td>\n",
              "        <td style=\"padding-left: 1em; padding-right: 1em; text-align: center; vertical-align: top\">Unknown</td>\n",
              "        <td style=\"padding-left: 1em; padding-right: 1em; text-align: center; vertical-align: top\">Auror</td>\n",
              "    </tr>\n",
              "</table>\n",
              "[1281 rows x 8 columns]<br/>Note: Only the head of the SFrame is printed.<br/>You can use print_rows(num_rows=m, num_columns=n) to print more rows and columns.\n",
              "</div>"
            ],
            "text/plain": [
              "Columns:\n",
              "\tName\tstr\n",
              "\tLink\tstr\n",
              "\tDescr\tstr\n",
              "\tGender\tstr\n",
              "\tSpecies/Race\tstr\n",
              "\tBlood\tstr\n",
              "\tSchool\tstr\n",
              "\tProfession\tstr\n",
              "\n",
              "Rows: 1281\n",
              "\n",
              "Data:\n",
              "+----------------------+-------------------------------+\n",
              "|         Name         |              Link             |\n",
              "+----------------------+-------------------------------+\n",
              "|     Mrs. Abbott      | https://www.hp-lexicon.org... |\n",
              "|    Hannah Abbott     | https://www.hp-lexicon.org... |\n",
              "|    Abel Treetops     | https://www.hp-lexicon.org... |\n",
              "|   Euan Abercrombie   | https://www.hp-lexicon.org... |\n",
              "| Aberforth Dumbledore | https://www.hp-lexicon.org... |\n",
              "|      Abernathy       | https://www.hp-lexicon.org... |\n",
              "|  Abraham Peasegood   | https://www.hp-lexicon.org... |\n",
              "|    Abraham Potter    | https://www.hp-lexicon.org... |\n",
              "|    Abraxas Malfoy    | https://www.hp-lexicon.org... |\n",
              "|  Achilles Tolliver   | https://www.hp-lexicon.org... |\n",
              "+----------------------+-------------------------------+\n",
              "+-------------------------------+--------+--------------+-------------+\n",
              "|             Descr             | Gender | Species/Race |    Blood    |\n",
              "+-------------------------------+--------+--------------+-------------+\n",
              "| Mrs. Abbott was the mother... | Female |    witch     | Muggle-born |\n",
              "| Hannah Abbott is a Hufflep... | Female |    witch     |  Half-blood |\n",
              "| Abel Treetops was a wizard... |  Male  |    wizard    |   Unknown   |\n",
              "| Euan Abercrombie was a sma... |  Male  |    wizard    |   Unknown   |\n",
              "| Aberforth Dumbledore was a... |  Male  |    wizard    |  Half-blood |\n",
              "| Abernathy\\xa0was Tina Gold... |  Male  |    wizard    |   Unknown   |\n",
              "| Abraham Peasegood was an A... |  Male  |    wizard    |   Unknown   |\n",
              "| Abraham Potter was one of ... |  Male  |    wizard    |   Unknown   |\n",
              "| Abraxas Malfoy was a wizar... |  Male  |    wizard    |  Pure blood |\n",
              "| Achilles Tolliver was an A... |  Male  |    wizard    |   Unknown   |\n",
              "+-------------------------------+--------+--------------+-------------+\n",
              "+-----------------------+--------------------------------+\n",
              "|         School        |           Profession           |\n",
              "+-----------------------+--------------------------------+\n",
              "|        Unknown        |            Unknown             |\n",
              "| Hogwarts - Hufflepuff | Landlady of the Leaky Cauldron |\n",
              "|        Unknown        |            Unknown             |\n",
              "| Hogwarts - Gryffindor |            Unknown             |\n",
              "|   Hogwarts - Student  |             Barman             |\n",
              "|        Unknown        | MACUSA employee, then serv...  |\n",
              "|        Unknown        |            Unknown             |\n",
              "|        Unknown        |             Auror              |\n",
              "|        Unknown        |            Unknown             |\n",
              "|        Unknown        |             Auror              |\n",
              "+-----------------------+--------------------------------+\n",
              "[1281 rows x 8 columns]\n",
              "Note: Only the head of the SFrame is printed.\n",
              "You can use print_rows(num_rows=m, num_columns=n) to print more rows and columns."
            ]
          },
          "metadata": {},
          "execution_count": 5
        }
      ]
    },
    {
      "cell_type": "code",
      "source": [
        "l_name = list(sf[\"Name\"])\n",
        "l_school = list(sf[\"School\"])"
      ],
      "metadata": {
        "id": "MgLcQxAAiPj1"
      },
      "execution_count": 6,
      "outputs": []
    },
    {
      "cell_type": "code",
      "source": [
        "import networkx as nx\n",
        "\n",
        "g = nx.Graph()\n",
        "edge_list = list(zip(l_name,l_school))\n",
        "print(len(edge_list),edge_list)"
      ],
      "metadata": {
        "colab": {
          "base_uri": "https://localhost:8080/"
        },
        "id": "7pO0wr0ZiXcX",
        "outputId": "0a9e0d21-a05d-4f3e-b25f-be437479a5aa"
      },
      "execution_count": 7,
      "outputs": [
        {
          "output_type": "stream",
          "name": "stdout",
          "text": [
            "1281 [('Mrs. Abbott', 'Unknown'), ('Hannah Abbott', 'Hogwarts - Hufflepuff'), ('Abel Treetops', 'Unknown'), ('Euan Abercrombie', 'Hogwarts - Gryffindor'), ('Aberforth Dumbledore', 'Hogwarts - Student'), ('Abernathy', 'Unknown'), ('Abraham Peasegood', 'Unknown'), ('Abraham Potter', 'Unknown'), ('Abraxas Malfoy', 'Unknown'), ('Achilles Tolliver', 'Unknown'), ('Stewart Ackerley', 'Hogwarts - Ravenclaw'), ('Adalbert Waffling', 'Unknown'), ('Adrian Pucey', 'Hogwarts - Slytherin'), ('Adrian Tutley', 'Unknown'), ('three African wizards', 'Unknown'), ('Agatha Chubb', 'Unknown'), ('Agatha Timms', 'Unknown'), ('Agilbert Fontaine', 'Unknown'), ('Agnes', 'Unknown'), ('Cornelius Agrippa', 'Unknown'), ('Aidan Kiely', 'Unknown'), ('Aidan Lynch', 'Unknown'), ('Alasdair Maddock', 'Unknown'), ('Alastor Gumboil', 'Unknown'), ('Mad-Eye Moody', 'Hogwarts - Staff'), ('Albanian peasant', 'Unknown'), ('Alberic Grunnion', 'Unknown'), ('Alberta Toothill', 'Unknown'), ('Albert Boot', 'Unknown'), ('Albert Jorkins', 'Unknown'), ('Albert Runcorn', 'Unknown'), ('Albert Tillyman', 'Unknown'), ('Albus Dumbledore', 'Hogwarts - Staff\\\\Hogwarts - Gryffindor'), ('Albus Potter', 'Hogwarts - Slytherin'), ('Alderton', 'Unknown'), ('Arkie Alderton', 'Unknown'), ('Alecto Carrow', 'Hogwarts - Staff'), ('Alfred Cattermole', 'Unknown'), ('Alguff the Awful', 'Unknown'), ('Ali Bashir', 'Unknown'), ('Alice Longbottom', 'Unknown'), ('Alicia Spinnet', 'Hogwarts - Gryffindor'), ('Aliko Okoye', 'Unknown'), ('Raul Almeida', 'Unknown'), ('Almerick Sawbridge', 'Unknown'), ('Alejandra Alonso', 'Unknown'), ('Alphard Black', 'Hogwarts - Slytherin'), ('Altheda', 'Unknown'), ('Amarillo Lestoat', 'Unknown'), ('Amata', 'Unknown'), ('Ambrosius Flume', 'Unknown'), ('Amelia Susan Bones', 'Unknown'), ('Amos Diggory', 'Unknown'), ('Amy Benson', 'Unknown'), ('Amycus Carrow', 'Hogwarts - Staff'), ('P.C. Anderson', 'Unknown'), ('Andorran Minister for Magic', 'Unknown'), ('Andrew Kirke', 'Hogwarts - Gryffindor'), ('Andromeda Tonks', 'Hogwarts - Slytherin'), ('Andros the Invincible', 'Unknown'), ('Angelina Johnson', 'Hogwarts - Gryffindor'), ('Angelus Peel', 'Unknown'), ('Angus Buchanan', 'Unknown'), ('Angus Campbell', 'Unknown'), ('Angus Fleet', 'Unknown'), ('Angus McMangus', 'Unknown'), ('Annis Black', 'Unknown'), ('Anonymous', 'Unknown'), ('Anthony Goldstein', 'Hogwarts - Ravenclaw'), ('Antioch Peverell', 'Unknown'), ('Antonin Dolohov', 'Unknown'), ('Antonio', 'Unknown'), ('Apolline Delacour', 'Unknown'), ('Apollyon Pringle', 'Hogwarts - Staff'), ('Mrs. Figg', 'Unknown'), ('Aragog', 'Unknown'), ('Araminta Meliflua', 'Unknown'), ('Archer Evermonde', 'Unknown'), ('Archibald Alderton', 'Unknown'), ('Archie', 'Unknown'), ('Archie Aymslowe', 'Unknown'), ('Arcturus Black (1884)', 'Hogwarts - Slytherin'), ('Arcturus Black (1901)', 'Hogwarts - Slytherin'), ('Arcus', 'Unknown'), ('Argus Filch', 'Hogwarts - Staff'), ('Argus Pyrites', 'Unknown'), ('Ariana Dumbledore', 'Unknown'), ('Aristotle Twelvetrees', 'Unknown'), ('Arkie Philpott', 'Unknown'), ('Armand Malfoy', 'Unknown'), ('Armando Dippet', 'Hogwarts - Staff'), ('Armenian warlock', 'Unknown'), ('Arnold', 'Unknown'), ('Arnold Guzman', 'Unknown'), ('Arnie Peasegood', 'Unknown'), ('Arnulf Moe', 'Unknown'), ('Arsenia Gonzales', 'Unknown'), ('Arsenius Jigger', 'Unknown'), ('Artemisia Lufkin', 'Hogwarts - Hufflepuff'), ('Artemius Lawson', 'Unknown'), (\"Arthur's contact at the Floo Regulation Panel\", 'Unknown'), ('Arthur Weasley', 'Hogwarts - Gryffindor'), ('Arturo Cephalopos', 'Unknown'), ('Asha', 'Unknown'), ('Astoria Greengrass', 'Unknown'), ('Over-Attentive Wizard', 'Unknown'), ('Bertram Aubrey', 'Hogwarts - Student'), ('Audrey Weasley', 'Unknown'), ('Augusta \"Gran\" Longbottom', 'Unknown'), ('Augustus Pye', 'Unknown'), ('Augustus Rookwood', 'Unknown'), ('Augustus Worme', 'Unknown'), ('Auntie Muriel', 'Unknown'), ('Aunt Marge Dursley', 'Unknown'), ('Aurelius Dumbledore', 'Unknown'), ('Aurora Sinistra', 'Hogwarts - Staff'), ('Avery', 'Hogwarts - Slytherin'), ('Babajide Akingbade', 'Uagadou'), ('Babayaga', 'Unknown'), ('Babbitty Rabbitty', 'Unknown'), ('Bagman Sr.', 'Unknown'), ('Ludo Bagman', 'Unknown'), ('Otto Bagman', 'Unknown'), ('Millicent Bagnold', 'Hogwarts - Ravenclaw'), ('Bathilda Bagshot', 'Unknown'), ('Kquewanda Bailey', 'Unknown'), ('Ballyfumble Stranger', 'Unknown'), ('Bandon Banshee', 'Unknown'), ('Bane', 'Unknown'), ('Heathcote Barbary', 'Unknown'), ('José Barboza', 'Unknown'), ('Bartholomew Barebone', 'Unknown'), ('Chastity Barebone', 'Unknown'), ('Credence Barebone', 'Unknown'), ('Barebone Family', 'Unknown'), ('Mary Lou Barebone', 'Unknown'), ('Modesty Barebone', 'Unknown'), ('Lucas Bargeworthy', 'Unknown'), ('Barker', 'Unknown'), ('Barnabas the Barmy', 'Unknown'), ('Barnabas Cuffe', 'Unknown'), ('Barnabas Deverill', 'Unknown'), ('Barnabus Finkley', 'Unknown'), ('Barnaby Snell', 'Unknown'), ('Cousin Barny', 'Unknown'), ('Barny the Fruitbat', 'Unknown'), ('Barry Ryan', 'Unknown'), ('Barty Crouch Jr.', 'Hogwarts - Staff'), ('Barty Crouch Sr.', 'Unknown'), ('Baruffio', 'Unknown'), ('Basil', 'Unknown'), ('Basil Flack', 'Unknown'), ('Basil Horton', 'Unknown'), ('Bathsheda Babbling', 'Hogwarts - Staff'), ('Charlie Baverstock', 'Unknown'), ('Beatrix Bloxam', 'Unknown'), ('Beaumont Marjoribanks', 'Unknown'), ('Beedle the Bard', 'Unknown'), ('Herbert Beery', 'Hogwarts - Staff'), ('Mr. Belby', 'Unknown'), ('Humphrey Belcher', 'Unknown'), ('Katie Bell', 'Hogwarts - Gryffindor'), ('Brother Benedict', 'Unknown'), ('Benedita Dourado', 'Castelobruxo'), ('Benjy Fenwick', 'Unknown'), ('Benjy Williams', 'Unknown'), ('Bernadette', 'Unknown'), ('Bernie Pillsworth', 'Unknown'), ('Bertha Jorkins', 'Hogwarts - Student'), (\"Bertha Jorkins' second cousin\", 'Unknown'), ('Berthilde Roche', 'Unknown'), ('Bertie Bott', 'Unknown'), ('Bertie Higgs', 'Unknown'), ('Bertrand de Pensées-Profondes', 'Unknown'), ('BF', 'Unknown'), ('Bill Weasley', 'Hogwarts - Gryffindor'), ('Billy Stubbs', 'Unknown'), ('Mr. Bingley', 'Unknown'), ('Binky', 'Unknown'), ('Professor Binns', 'Hogwarts - Staff'), ('Brevis Birch', 'Unknown'), ('Dennis Bishop', 'Unknown'), ('Bellatrix Lestrange', 'Hogwarts - Slytherin'), ('Belvina Black', 'Hogwarts - Slytherin'), ('Callidora Black', 'Hogwarts - Slytherin'), ('Cassiopeia Black', 'Hogwarts - Slytherin'), ('Charis Black', 'Hogwarts - Slytherin'), ('Cygnus Black', 'Hogwarts - Slytherin'), ('Cygnus Black (1889)', 'Hogwarts - Slytherin'), ('Iola Black', 'Unknown'), ('Marius Black', 'Unknown'), ('Orion Black', 'Hogwarts - Slytherin'), ('Phineas Black', 'Unknown'), ('Pollux Black', 'Hogwarts - Slytherin'), ('Dorea Black Potter', 'Hogwarts - Slytherin'), ('Regulus Black', 'Hogwarts - Slytherin'), ('Sirius Black', 'Hogwarts - Gryffindor'), ('Cedrella Black Weasley', 'Hogwarts - Slytherin'), ('Blagdon Blay', 'Unknown'), ('Blaise Zabini', 'Hogwarts - Slytherin'), (\"Blaise Zabini's mother\", 'Unknown'), ('Susan Blancheflower', 'Unknown'), ('Balfour Blane', 'Unknown'), ('Blenheim Stalk', 'Unknown'), ('Barnabus Blenkinsop', 'Unknown'), ('Timothy Blenkinsop', 'Unknown'), ('Bletchley', 'Unknown'), ('Miles Bletchley', 'Hogwarts - Slytherin'), ('Jean-Baptiste Bloncourt', 'Unknown'), ('The Bloody Baron', 'Hogwarts - Slytherin'), ('Blodwyn Bludd', 'Unknown'), ('Bludgeoning Boggart of Old London Town', 'Unknown'), ('Bob, Bill, and Barnaby Ollerton', 'Unknown'), ('Melinda Bobbin', 'Hogwarts - Student'), ('Bob Hitchens', 'Unknown'), ('Bob Ogden', 'Unknown'), ('Broderick Bode', 'Unknown'), ('Old Boggle of Canterbury', 'Unknown'), ('Bogomil Levski', 'Unknown'), ('Bogrod', 'Unknown'), ('Sylvian Boigny', 'Unknown'), ('Bole', 'Hogwarts - Slytherin'), ('Hector Bolobolo', 'Unknown'), ('Bonawentura Wójcik', 'Unknown'), ('Mr. and Mrs. Bones', 'Unknown'), ('Susan Bones', 'Hogwarts - Hufflepuff'), ('Madame Bonhabille', 'Unknown'), ('Brother Boniface', 'Unknown'), ('Mr. Boot', 'Unknown'), ('Mrs. Boot', 'Unknown'), ('Chadwick Boot', 'Unknown'), ('Gladys Boothby', 'Unknown'), ('Webster Boot', 'Ilvermorny - Wampus'), ('Libatius Borage', 'Castelobruxo'), ('Mr. Borgin', 'Unknown'), ('Borgin', 'Unknown'), ('Boris the Bewildered', 'Unknown'), ('Boris Vulchanov', 'Unknown'), ('Craig Bowker Jr.', 'Hogwarts - Slytherin'), ('Bowman Wright', 'Unknown'), ('Bozo', 'Unknown'), ('Bradley', 'Hogwarts - Ravenclaw'), ('Barberus Bragge', 'Unknown'), ('Bragging Young Wizard', 'Unknown'), ('Betty Braithwaite', 'Unknown'), ('Bran the Bloodthirsty', 'Unknown'), ('Rudolf Brand', 'Unknown'), ('Maximus Brankovitch III', 'Unknown'), ('Brian Gadwilde', 'Unknown'), ('Bridget Wenlock', 'Hogwarts - Hufflepuff'), (\"Bridget Wenlock's cousin\", 'Unknown'), ('Cormac O’Brien', 'Unknown'), ('Karl and Kevin Broadmoor', 'Unknown'), ('Brodrig the Boss-Eyed', 'Unknown'), ('Lavender Brown', 'Hogwarts - Gryffindor'), ('Bruno Schmidt', 'Unknown'), ('Brutus Malfoy', 'Unknown'), ('Brutus Scrimgeour', 'Unknown'), ('Bruno Bruunhart', 'Unknown'), ('Buckbeak', 'Unknown'), ('Buckley Cooper', 'Unknown'), ('Zygmunt Budge', 'Hogwarts - Student'), ('K. Bundy', 'Hogwarts - Student'), ('Bungy the Budgie', 'Unknown'), ('Bunty', 'Unknown'), ('Charity Burbage', 'Hogwarts - Staff'), ('Burdock Muldoon', 'Unknown'), ('Caractacus Burke', 'Unknown'), ('Cadmus Peverell', 'Unknown'), ('Cadwallader', 'Hogwarts - Hufflepuff'), ('Calchas', 'Unknown'), ('Lennox Campbell', 'Unknown'), ('Cantankerus Nott', 'Unknown'), ('S. Capper', 'Hogwarts - Student'), ('Caradoc Dearborn', 'Unknown'), ('Carlos Lopez', 'Unknown'), ('Carlotta Pinkstone', 'Unknown'), ('Eddie Carmichael', 'Hogwarts - Ravenclaw'), ('Rancorous Carpe', 'Hogwarts - Staff'), ('Carrow', 'Unknown'), ('Caspar Crouch', 'Unknown'), ('Cassandra Trelawney', 'Unknown'), ('Cassandra Vablatsky', 'Unknown'), ('Catriona McCormack', 'Unknown'), ('Reginald Cattermole', 'Unknown'), ('Catullus Spangle', 'Unknown'), ('Cecilia', 'Unknown'), ('Cecily', 'Unknown'), ('Cedric Diggory', 'Hogwarts - Hufflepuff'), ('Celestina Warbeck', 'Hogwarts - Gryffindor'), ('Chambers', 'Hogwarts - Ravenclaw'), ('Cho Chang', 'Hogwarts - Ravenclaw'), ('Polly Chapman', 'Hogwarts - Student'), ('Charity Wilkinson', 'Unknown'), ('Charlie Weasley', 'Hogwarts - Gryffindor'), ('Charlus Potter', 'Unknown'), ('Chauncey Oldridge', 'Unknown'), ('Glenda Chittock', 'Unknown'), ('Herbert Chorley', 'Unknown'), ('The Chosen One', 'Unknown'), ('Winston Churchill', 'Unknown'), ('Ciceron Harkiss', 'Unknown'), ('Circe', 'Unknown'), ('Elfrida Clagg', 'Unknown'), ('Clairvius Hyppolite', 'Unknown'), ('Clarisse Tremblay', 'Unknown'), ('Ptolemy', 'Unknown'), ('Penelope Clearwater', 'Hogwarts - Ravenclaw'), ('Cliodna', 'Unknown'), ('Carlos Clodoaldo', 'Unknown'), ('Edgar Cloggs', 'Hogwarts - Student'), ('João Coelho', 'Castelobruxo'), ('Mrs. Cole', 'Unknown'), ('Colin Creevey', 'Hogwarts - Gryffindor'), ('Colonel Fubster', 'Unknown'), ('Magenta Comstock', 'Unknown'), ('Connolly', 'Unknown'), ('cook at the Riddle House', 'Unknown'), ('Howland Coopey', 'Unknown'), ('Ritchie Coote', 'Hogwarts - Gryffindor'), ('Corban Yaxley', 'Hogwarts - Slytherin'), ('Cordelia Misericordia', 'Unknown'), ('Cormack McLeod', 'Unknown'), ('Cormac McLaggen', 'Hogwarts - Gryffindor'), ('Cornelius Fudge', 'Unknown'), ('Michael Corner', 'Hogwarts - Ravenclaw'), ('Corvinus Gaunt', 'Hogwarts - Slytherin'), ('Corvus Lestrange Jr.', 'Unknown'), ('Corvus Lestrange Sr.', 'Unknown'), ('Gregory Cotton', 'Unknown'), ('Count Vlad Drakul', 'Unknown'), ('second cousin, the accountant', 'Unknown'), ('Crabbe Sr.', 'Unknown'), ('Ellen Cracknell', 'Unknown'), ('Elfrida Cragg', 'Unknown'), ('Mr. Creevey', 'Unknown'), ('Mrs. Cresswell', 'Unknown'), ('Dirk Cresswell', 'Hogwarts - Student'), ('Cresswell sons', 'Unknown'), ('Venusia Crickerly', 'Unknown'), ('Delfina Crimp', 'Unknown'), ('Professor Saul Croaker', 'Unknown'), ('Doris Crockford', 'Unknown'), ('Crispin Cronk', 'Unknown'), ('Glinda Crook', 'Unknown'), ('Crookshanks', 'Unknown'), ('Mrs. Crouch', 'Unknown'), ('Maximillian Crowdy', 'Unknown'), ('Cuthbert Mockridge', 'Unknown'), ('Cyclops', 'Unknown'), ('Cyprian Youdle', 'Unknown'), ('Dagbert Pips', 'Unknown'), ('Hector Dagworth-Granger', 'Unknown'), ('Dangerous Dai Llewellyn', 'Unknown'), ('Daisy Dodderidge', 'Unknown'), ('Daisy Hookum', 'Unknown'), ('Daisy Pennifold', 'Unknown'), ('Damocles Belby', 'Hogwarts - Student'), ('Damocles Rowle', 'Unknown'), ('Daphne Greengrass', 'Hogwarts - Student'), ('Darius Smackhammer', 'Unknown'), ('Dark Lord', 'Unknown'), ('Darren Floyd', 'Unknown'), (\"Darren O'Hare\", 'Unknown'), ('Davey Gudgeon', 'Hogwarts - Student'), ('Roger Davies', 'Hogwarts - Ravenclaw'), ('John Dawlish', 'Unknown'), ('Dean Thomas', 'Hogwarts - Gryffindor'), ('Death', 'Unknown'), ('Dedalus Diggle', 'Unknown'), ('Fleur Delacour', 'Beauxbatons - Student'), ('Sir Patrick Delaney-Podmore', 'Unknown'), ('Lisette de Lapin', 'Unknown'), ('Delphi', 'Unknown'), ('Demelza Robins', 'Hogwarts - Gryffindor'), ('Demetrius J. Prod', 'Unknown'), ('Nearly-Headless Nick', 'Hogwarts - Gryffindor'), ('Dempster Wiggleswade', 'Unknown'), ('Dennis', 'Unknown'), ('Dennis Creevey', 'Hogwarts - Gryffindor'), ('Dennis Moon', 'Unknown'), ('Derek', 'Hogwarts - Student'), ('Derrick', 'Hogwarts - Slytherin'), ('Dilys Derwent', 'Hogwarts - Staff'), ('Derwent Shimpling', 'Unknown'), ('Philbert Deverill', 'Unknown'), ('Devlin Whitehorn', 'Unknown'), ('Dexter Fortescue', 'Hogwarts - Staff'), ('Diadema (Goshawk?)', 'Unknown'), ('Fernando Diaz', 'Unknown'), ('Mrs. Diggory', 'Unknown'), ('Delphini Diggory', 'Unknown'), ('Eldritch Diggory', 'Unknown'), ('Dimitrov', 'Unknown'), ('Harold Dingle', 'Hogwarts - Student'), ('Emma Dobbs', 'Hogwarts - Student'), ('Dobby', 'Unknown'), ('Dodgy Dirk', 'Unknown'), ('Elphias Doge', 'Hogwarts - Student'), ('Dolores Umbridge', 'Hogwarts - Staff\\\\Hogwarts - Slytherin'), ('Dominique Weasley', 'Unknown'), ('Donaghan Tremlett', 'Unknown'), ('Dorcas Meadowes', 'Unknown'), ('Dorcus Twelvetrees', 'Unknown'), ('Dorcas Wellbeloved', 'Unknown'), ('Doris Purkiss', 'Unknown'), ('Ragmar Dorkins', 'Unknown'), ('J. Dorny', 'Hogwarts - Student'), ('Dot', 'Unknown'), ('Dougal', 'Unknown'), ('Dougal McBride', 'Unknown'), ('Dougal McGregor', 'Unknown'), ('Distractible Douglas', 'Hogwarts - Student'), ('Draco Malfoy', 'Hogwarts - Slytherin'), ('Dimitar Draganov', 'Unknown'), ('Dragomir Despard', 'Unknown'), ('Dragomir Gorgovitch', 'Unknown'), ('Filibuster', 'Unknown'), ('Dr. Ubbly', 'Unknown'), ('Druella Rosier', 'Unknown'), ('Dugald McPhail', 'Unknown'), ('Irma Dugard', 'Unknown'), ('Matilda Dukelow', 'Unknown'), ('Kendra Dumbledore', 'Unknown'), ('Percival Dumbledore', 'Unknown'), ('Dunbar Oglethorpe', 'Unknown'), ('B. Dunstan', 'Hogwarts - Student'), ('Priscilla Dupont', 'Unknown'), ('Dudley Dursley', 'Unknown'), ('Petunia Dursley', 'Unknown'), ('Vernon Dursley', 'Unknown'), ('Dylan Marwood', 'Unknown'), ('Dymphna Furmage', 'Unknown'), ('Dzou Yen', 'Unknown'), ('Eargit the Ugly', 'Unknown'), ('Earl of Paunchley', 'Unknown'), (\"Lorcan d'Eath\", 'Unknown'), ('Heinrich Eberstadt', 'Unknown'), ('Edgar Bones', 'Unknown'), ('Edgar Stroulger', 'Unknown'), ('Marietta Edgecombe', 'Hogwarts - Ravenclaw'), ('Edmund Gaddlegate', 'Unknown'), ('Teddy Lupin', 'Hogwarts - Hufflepuff'), ('Ted Tonks', 'Unknown'), ('Egbert the Egregious', 'Unknown'), ('Eglantine Puffett', 'Hogwarts - Hufflepuff'), ('Egmont Elvert Hobday', 'Unknown'), ('Eileen Prince Snape', 'Unknown'), ('Ekrizdis', 'Unknown'), ('Eldon Elsrickle', 'Unknown'), ('Eldred Worple', 'Unknown'), ('Eleanor Branstone', 'Unknown'), ('Elfric the Eager', 'Unknown'), ('Eliana', 'Unknown'), ('Elias Grimstone', 'Unknown'), ('Elias Story', 'Unknown'), ('Elizabeth McGilliguddy', 'Unknown'), ('Elizabeth Smudgling', 'Unknown'), ('Queen Elizabeth I', 'Unknown'), ('Elveira Elkins', 'Unknown'), ('Elladora Black (1850)', 'Unknown'), ('Elladora Black (aunt of Sirius)', 'Unknown'), ('Elladora Guffy', 'Unknown'), ('Elladora Ketteridge', 'Unknown'), ('Ellerby', 'Unknown'), ('Ellie Cattermole', 'Unknown'), ('Elliot Smethwyck', 'Unknown'), ('Elodie Dembélé', 'Unknown'), ('Eloise Midgen/Eloise Midgeon', 'Hogwarts - Student'), ('Elphinstone Urquart', 'Unknown'), ('Elsie', 'Unknown'), ('Elsie Prod', 'Unknown'), ('Emeric the Evil', 'Unknown'), ('Emeric Switch', 'Unknown'), ('Emily Rappaport', 'Unknown'), ('Emmeline Vance', 'Unknown'), ('Enid Smeek', 'Unknown'), ('Samuel Equiano', 'Unknown'), ('Erica Stainwright', 'Unknown'), ('Eric Munch', 'Unknown'), ('Eric Whalley', 'Unknown'), ('Ernie Macmillan', 'Hogwarts - Hufflepuff'), ('Ernie Prang', 'Unknown'), ('Errol', 'Unknown'), ('Mrs. Esposito', 'Unknown'), ('Ethelbald Mordaunt', 'Unknown'), ('Ethelred the Ever-Ready', 'Unknown'), ('Eugenia Jenkins', 'Unknown'), ('Eulalie Hicks', 'Unknown'), ('Eunice Murray', 'Unknown'), ('Euphemia Potter', 'Unknown'), ('Euphemia Rowle', 'Unknown'), ('Eupraxia Mole', 'Hogwarts - Staff'), ('Eurig Cadwallader', 'Unknown'), ('Evangeline Orpington', 'Unknown'), ('Evan Rosier', 'Unknown'), ('Mr. Evans', 'Unknown'), ('Mrs. Evans', 'Unknown'), ('Everard', 'Hogwarts - Staff'), ('Fabian Prewett', 'Unknown'), ('Fabius Watkins', 'Unknown'), ('Falco Aesalon', 'Unknown'), ('Perpetua Fancourt', 'Hogwarts - Ravenclaw'), ('Fang', 'Unknown'), ('Faris \"Spout-hole\" Spavin', 'Unknown'), ('Gemma Farley', 'Hogwarts - Slytherin'), ('The Fat Friar', 'Hogwarts - Hufflepuff'), ('The Fat Lady', 'Unknown'), ('Franziska Faust', 'Unknown'), ('Miss S. Fawcett', 'Hogwarts - Ravenclaw'), ('Fawkes', 'Unknown'), ('Hector Fawley', 'Unknown'), ('Felix Summerbee', 'Unknown'), ('Fenrir Greyback', 'Unknown'), ('Mervyn Fenwick', 'Unknown'), ('Ferdinand Jägendorf', 'Unknown'), ('Fergus', 'Unknown'), ('Fifi LaFolle', 'Unknown'), ('Finbar Quigley', 'Unknown'), ('Mr Finch-Fletchley', 'Unknown'), ('Mrs. Finch-Fletchley', 'Unknown'), ('Fingal the Fearless', 'Unknown'), ('Finn', 'Unknown'), ('Mrs. Finnigan', 'Unknown'), ('Mr. Finnigan', 'Unknown'), ('Seamus Finnigan', 'Hogwarts - Gryffindor'), ('Firenze', 'Hogwarts - Staff'), ('Wilhelm Fischer', 'Unknown'), (\"O'Flaherty\", 'Unknown'), (\"Ortiz O'Flaherty\", 'Unknown'), ('Nicolas Flamel', 'Beauxbatons - Student'), ('Perenelle Flamel', 'Unknown'), ('Flavius Belby', 'Unknown'), ('Fleamont Potter', 'Hogwarts - Gryffindor'), ('Fleetwood', 'Unknown'), ('Hedley Fleetwood', 'Unknown'), ('Able Fleming', 'Unknown'), ('Mundungus Fletcher', 'Unknown'), ('Laurentia Fletwock', 'Unknown'), ('Josephina Flint', 'Unknown'), ('Marcus Flint', 'Hogwarts - Slytherin'), ('Filius Flitwick', 'Hogwarts - Staff\\\\Hogwarts - Ravenclaw'), ('Florean Fortescue', 'Unknown'), ('Florence', 'Unknown'), ('Gonçalo Flores', 'Unknown'), ('Fluffy', 'Unknown'), ('Flurry', 'Unknown'), ('Theodard Fontaine', 'Unknown'), ('Frank', 'Unknown'), ('Frank Bryce', 'Unknown'), ('Frank Longbottom', 'Unknown'), ('Fred Weasley (II)', 'Unknown'), ('Fred Weasley', 'Hogwarts - Gryffindor'), ('Otmar Frick', 'Unknown'), ('Fridwulfa', 'Unknown'), ('Mrs Fudge', 'Unknown'), ('Rufus Fudge', 'Unknown'), ('Fulbert the Fearful', 'Unknown'), ('Gabrielle Delacour', 'Unknown'), ('Gabriel Truman', 'Unknown'), ('Galatea Merrythought', 'Hogwarts - Staff'), ('Ottaline Gambol', 'Unknown'), ('Ulick Gamp', 'Unknown'), ('Garrick Ollivander', 'Hogwarts - Ravenclaw'), ('Garvin Lünger', 'Unknown'), ('Gaspard Shingleton', 'Unknown'), ('Marvolo Gaunt', 'Unknown'), ('Merope Gaunt', 'Unknown'), ('Morfin Gaunt', 'Unknown'), ('Gawain Robards', 'Unknown'), ('Geoffrey Hooper', 'Hogwarts - Gryffindor'), ('George Weasley', 'Hogwarts - Gryffindor'), ('Georgina Smyth', 'Unknown'), ('Georgios Xenakis', 'Unknown'), ('Georgi Zdravko', 'Unknown'), ('Geraint Ollivander', 'Unknown'), ('Gerbold Octavius Ollivander', 'Unknown'), ('Gerda Curd', 'Unknown'), ('Gertie Keddle', 'Unknown'), ('Gervaise Ollivander', 'Unknown'), ('Ghosts of gloomy nuns', 'Unknown'), ('Gibbon', 'Unknown'), ('Gideon Crumb', 'Unknown'), ('Gideon Flatworthy', 'Unknown'), ('Gideon Prewett', 'Unknown'), ('Gifford Ollerton', 'Unknown'), ('Gilbert Wimple', 'Unknown'), ('Gilderoy Lockhart', 'Hogwarts - Staff\\\\Hogwarts - Ravenclaw'), ('Ginny Weasley', 'Hogwarts - Gryffindor'), ('Glanmore Peakes', 'Unknown'), ('Glover Hipworth', 'Unknown'), ('Gnarlak', 'Unknown'), ('Godelot', 'Unknown'), ('Queenie Goldstein', 'Ilvermorny - Puckwidgie'), ('Golgomath', 'Unknown'), ('Goliath', 'Unknown'), ('Golpalott', 'Unknown'), ('Gondoline Oliphant', 'Unknown'), ('Goodwin Kneen', 'Unknown'), ('Gordon', 'Unknown'), ('Hesphaestus Gore', 'Unknown'), ('Gormlaith Gaunt', 'Hogwarts - Student'), ('Gornuk', 'Unknown'), ('Miranda Goshawk (1921-)', 'Unknown'), ('Romilda (Goshawk?)', 'Unknown'), ('Tangwystl (Goshawk?)', 'Unknown'), ('Goyle Sr.', 'Unknown'), ('Graham Pritchard', 'Hogwarts - Slytherin'), ('Mr. Granger', 'Unknown'), ('Mrs. Granger', 'Unknown'), ('Hermione Granger', 'Hogwarts - Gryffindor'), ('Hugo Granger-Weasley', 'Unknown'), ('Rose Granger-Weasley', 'Hogwarts - Gryffindor'), ('Granville Jorkins', 'Unknown'), ('Gondulphus Graves', 'Unknown'), ('Merton Graves', 'Unknown'), ('Percival Graves', 'Unknown'), ('Grawp', 'Unknown'), ('Great Auntie Enid', 'Unknown'), ('The Great Humberto', 'Unknown'), ('Great Uncle Algie', 'Unknown'), ('Greek chappie', 'Unknown'), ('Gregorovitch', 'Unknown'), ('Gregory Goyle', 'Hogwarts - Slytherin'), ('Gregory the Smarmy', 'Unknown'), ('Greta Catchlove', 'Unknown'), ('The Grey Lady', 'Hogwarts - Ravenclaw'), ('Glynnis Griffiths', 'Unknown'), ('Wilda Griffiths', 'Unknown'), ('Grimmson', 'Unknown'), ('Robert Grimsditch', 'Unknown'), ('Grimwold Jorkins', 'Unknown'), ('Gellert Grindelwald', 'Durmstrang - Student'), ('Gringott', 'Unknown'), ('Griphook', 'Unknown'), ('Griselda Harmonia Jorkins', 'Unknown'), ('Griselda Marchbanks', 'Unknown'), ('Grizel Hurtz', 'Unknown'), ('Grogan Stump', 'Hogwarts - Hufflepuff'), (\"group of witches from the Salem Witches' Institute\", 'Unknown'), ('Stoyanka Grozda', 'Unknown'), ('Wilhelmina Grubbly-Plank', 'Hogwarts - Staff'), ('grubby-looking wizard', 'Unknown'), ('Grugwyn Rufford', 'Unknown'), ('Godric Gryffindor', 'Hogwarts - Staff'), ('Malodora Grymm', 'Unknown'), ('Galvin Gudgeon', 'Unknown'), ('Gladys Gudgeon', 'Unknown'), ('Zamira Gulch', 'Unknown'), ('Gulliver Pokeby', 'Unknown'), ('Gunhilda of Gorsemoor', 'Unknown'), ('Gunhilda Kneen', 'Unknown'), ('Gurg', 'Unknown'), ('Guthrie Lochrin', 'Unknown'), ('Gwendolyn Morgan', 'Unknown'), ('Gwenog', 'Unknown'), ('Gwenog Jones', 'Hogwarts - Student'), (\"Hagrid's father\", 'Unknown'), ('Hambledon Quince', 'Unknown'), ('Hamish MacFarlan', 'Unknown'), ('Hankerton Humble', 'Hogwarts - Staff'), ('Hannah Cockleford', 'Unknown'), ('Hans the Augurey', 'Unknown'), ('Hardwin, son of Linfred of Stinchcombe', 'Unknown'), ('Harfang Longbottom', 'Unknown'), ('Harfang Munter', 'Durmstrang - Staff'), ('Harold Minchum', 'Unknown'), ('Harold Skively', 'Unknown'), ('Harper', 'Hogwarts - Slytherin'), ('Harry Potter', 'Hogwarts - Gryffindor'), ('Harvey Ridgebit', 'Unknown'), ('Hassan Mostafa', 'Unknown'), ('Havelock Sweeting', 'Unknown'), ('Hector Lamont', 'Unknown'), ('Hedwig', 'Unknown'), ('Helena Ravenclaw', 'Hogwarts - Ravenclaw'), ('Heliotrope Willis', 'Unknown'), ('Helixa Hyslop', 'Unknown'), ('Helmut Weiss', 'Unknown'), ('Hengist of Upper Barnton', 'Unknown'), ('Hengist of Woodcroft', 'Hogwarts - Hufflepuff'), ('Henry', 'Unknown'), ('King Henry VI', 'Unknown'), ('Henry Shaw Jr.', 'Unknown'), ('Henry Shaw', 'Unknown'), ('Hepzibah Smith', 'Unknown'), ('Herbert Burke', 'Unknown'), ('Helbert Spleen', 'Unknown'), ('Hereward', 'Unknown'), ('Herman Junker', 'Unknown'), ('Herman Wintringham', 'Unknown'), ('Hermes', 'Unknown'), ('Herpo the Foul', 'Unknown'), ('Hesper Gamp', 'Unknown'), ('Hesper Starkey', 'Unknown'), ('Hestia Jones', 'Unknown'), ('Hetty Bayliss', 'Unknown'), ('Shanice Higgins', 'Unknown'), ('Hippocrates Smethwyck', 'Unknown'), ('Hilliard Hobday', 'Unknown'), ('Violetta Hobday', 'Unknown'), ('Hodrod the Horny-Handed', 'Unknown'), ('Hokey', 'Unknown'), ('Honest Willy Wagstaff', 'Unknown'), ('Masaki Hongo', 'Mahoutokouro'), ('Honoria', 'Unknown'), ('Honoria Nutcombe', 'Unknown'), ('Madam Hooch', 'Hogwarts - Staff'), ('Mafalda Hopkirk', 'Unknown'), ('Hoppy', 'Unknown'), ('Kevin Hopwood', 'Unknown'), ('Horace Slughorn', 'Hogwarts - Staff\\\\Hogwarts - Slytherin'), ('Olive Hornby', 'Hogwarts - Student'), ('Hortensia Milliphutt', 'Unknown'), ('Hope Howell Lupin', 'Unknown'), ('Helga Hufflepuff', 'Hogwarts - Staff'), ('Royston Idlewind', 'Unknown'), ('Idris Oakby', 'Unknown'), ('Iefan Rice', 'Unknown'), ('Ignatia Wildsmith', 'Hogwarts - Ravenclaw'), ('Ignatius Prewett', 'Unknown'), ('Ignatius Tuft', 'Unknown'), ('Ignotus Peverell', 'Unknown'), ('Igor Karkaroff', 'Durmstrang - Staff'), ('Illyius', 'Unknown'), ('Ingolfr the Iambic', 'Unknown'), ('Inigo Imago', 'Unknown'), ('Iolanthe Peverell', 'Unknown'), ('Irene Kneedander', 'Unknown'), ('Irish Leprechauns', 'Unknown'), ('Irma Crabbe', 'Unknown'), ('Irma Pince', 'Hogwarts - Staff'), ('Irving Warble', 'Unknown'), ('Isadora Rose', 'Unknown'), ('Isobel McGonagall', 'Hogwarts - Student'), ('Isobel Ross', 'Unknown'), ('Isolt Sayre', 'Unknown'), ('Ivanova', 'Unknown'), ('Ivan Popa', 'Unknown'), ('Ivor Dillonsby', 'Unknown'), ('Jack Sloper', 'Hogwarts - Gryffindor'), ('Josiah Jackson', 'Unknown'), ('Jacob Kowalski', 'Unknown'), ('Jacques Miskine', 'Unknown'), ('James Potter', 'Hogwarts - Gryffindor'), ('James Sirius Potter', 'Hogwarts - Gryffindor'), ('James Steward', 'Unknown'), ('Janus Thickey', 'Unknown'), ('Jarleth Hobart', 'Unknown'), ('Mary Jauncey', 'Unknown'), ('Jazz singer', 'Unknown'), ('Karl Jenkins', 'Hogwarts - Student'), ('Jackie Jernigan', 'Unknown'), ('Leonard Jewkes', 'Unknown'), ('Jim McGuffin', 'Unknown'), ('Jimmy Peakes', 'Hogwarts - Gryffindor'), ('Jocunda Sykes', 'Unknown'), ('Joey Jenkins', 'Unknown'), ('Johannes Jonker', 'Unknown'), ('Sylvian Jolicoeur', 'Unknown'), ('Mr. Jordan', 'Unknown'), ('Lee Jordan', 'Hogwarts - Gryffindor'), ('Primrose Jorkins', 'Unknown'), ('Stamford Jorkins', 'Unknown'), ('Joscelind Wadcock', 'Unknown'), ('Josefina Calderon', 'Unknown'), ('Josef Wronski', 'Unknown'), ('Joseph Snuka', 'Unknown'), ('Joshua Sankara', 'Unknown'), ('Josiah Plunkett', 'Unknown'), ('Jugson', 'Unknown'), ('Justin Finch-Fletchley', 'Hogwarts - Hufflepuff'), ('Justus Pilliwickle', 'Unknown'), ('Laurena Kama', 'Unknown'), ('Karkus', 'Unknown'), ('Karl Wang', 'Unknown'), ('Roland Kegg', 'Unknown'), ('Kenneth Towler', 'Hogwarts - Student'), ('Kennilworthy Whisp', 'Unknown'), ('Silvanus Kettleburn', 'Hogwarts - Staff\\\\Hogwarts - Hufflepuff'), ('Kevin', 'Unknown'), ('Kevin Entwhistle', 'Unknown'), (\"Kevin's parents\", 'Unknown'), ('Kevin Whitby', 'Unknown'), ('King Arthur', 'Unknown'), ('King George III', 'Unknown'), ('Kingsley Shacklebolt', 'Unknown'), ('King William I', 'Unknown'), ('Kirley Duke', 'Unknown'), ('Porteus Knatchbull', 'Unknown'), ('Quentin Kowalski', 'Unknown'), ('Krafft', 'Unknown'), ('Krall', 'Unknown'), ('Kreacher', 'Hogwarts - Staff'), ('Sigrid Kristoffersen', 'Unknown'), ('Mr. Krum', 'Unknown'), ('Mrs. Krum', 'Unknown'), ('Viktor Krum', 'Durmstrang - Student'), ('Kimiko Kurosawa', 'Mahoutokouro'), ('Lachlan the Lanky', 'Unknown'), ('Ladislaw Zamojski', 'Unknown'), ('Lady Carmilla Sanguina', 'Unknown'), ('Lady Grieve', 'Unknown'), ('Stubby Lamont', 'Unknown'), ('Lancelot', 'Unknown'), ('Landislaw Zamojski', 'Unknown'), ('Langdon Shaw', 'Unknown'), ('Laura Madley', 'Unknown'), ('Laverne de Montmorency', 'Hogwarts - Ravenclaw'), ('Nobby Leach', 'Unknown'), ('Leanne', 'Hogwarts - Student'), ('Lenelle Paraison', 'Unknown'), ('Leonard Spencer-Moon', 'Unknown'), ('Leopoldina Smethwyk', 'Unknown'), ('Leta Lestrange', 'Hogwarts - Slytherin'), ('Radolphus Lestrange', 'Unknown'), ('Leticia Somnolens', 'Unknown'), ('Levina Monkstanley', 'Unknown'), ('Levski', 'Unknown'), ('Lilith Molesby', 'Unknown'), ('Lily Moon', 'Unknown'), ('Lily Potter', 'Hogwarts - Gryffindor'), ('Lily Luna Potter', 'Hogwarts - Gryffindor'), ('Linfred of Stinchcombe', 'Unknown'), ('Lisa Turpin', 'Unknown'), ('Sue Li', 'Hogwarts - Student'), ('Livius', 'Unknown'), ('Neville Longbottom', 'Hogwarts - Staff\\\\Hogwarts - Gryffindor'), ('Lorcan McLaird', 'Unknown'), ('Lorcan Scamander', 'Unknown'), ('Lord North', 'Unknown'), ('Lord Palmerston', 'Unknown'), ('Lord Stoddard Withers', 'Unknown'), ('Lord Voldemort', 'Hogwarts - Slytherin'), ('Louis Weasley', 'Unknown'), ('Luna Lovegood', 'Hogwarts - Ravenclaw'), ('Loxias', 'Unknown'), ('Lucas Picquery', 'Unknown'), ('Luciano Volpi', 'Unknown'), ('Lucius Malfoy', 'Hogwarts - Slytherin'), ('Lucius Malfoy (I)', 'Unknown'), ('Luc Millefeuille', 'Beauxbatons - Student'), ('Lucretia Black', 'Unknown'), ('Lucy Weasley', 'Unknown'), ('Lars Lundekvam', 'Unknown'), ('Remus Lupin', 'Hogwarts - Staff\\\\Hogwarts - Gryffindor'), ('Lyall Lupin', 'Unknown'), ('Lycoris Black', 'Unknown'), ('Lysander Scamander', 'Unknown'), ('Lysandra Yaxley', 'Unknown'), ('Morag Macdougal', 'Hogwarts - Ravenclaw'), ('Macduff', 'Unknown'), ('Mungo MacDuff', 'Unknown'), ('MacFusty clan', 'Unknown'), ('Walden Macnair', 'Unknown'), ('Torquil MacTavish', 'Unknown'), ('Madam Edgecombe', 'Unknown'), ('Madam Eloise Mintumble', 'Unknown'), ('Madam Marsh', 'Unknown'), ('Madam Z. Nettles', 'Unknown'), ('Madam Primpernelle', 'Unknown'), ('Madam Puddifoot', 'Unknown'), ('Madam Rosmerta', 'Unknown'), ('Madam Ya Zhou', 'Unknown'), ('Queen Maeve', 'Unknown'), ('Mafalda', 'Unknown'), ('Magnus \"Dent Head\" Macdonald', 'Unknown'), ('Magorian', 'Unknown'), ('maid at the Riddle House', 'Unknown'), ('Maisie Cattermole', 'Unknown'), ('Malcolm', 'Unknown'), ('Malcolm Baddock', 'Hogwarts - Slytherin'), ('Malcolm McGonagall', 'Unknown'), ('Malécrit', 'Unknown'), ('Narcissa Malfoy', 'Hogwarts - Slytherin'), ('Nicholas Malfoy', 'Unknown'), ('Scorpius Malfoy', 'Hogwarts - Slytherin'), ('Septimus Malfoy', 'Unknown'), ('Madam Malkin', 'Unknown'), ('Mallory Twiddle', 'Unknown'), ('Roger Malone', 'Hogwarts - Student'), ('Mandy Brocklehurst', 'Hogwarts - Ravenclaw'), ('Marcus Belby', 'Hogwarts - Ravenclaw'), ('Marius', 'Unknown'), ('Mark Evans', 'Unknown'), ('Marlene McKinnon', 'Unknown'), ('Marlow', 'Unknown'), ('Martha, mother of James Steward', 'Unknown'), (\"Martha Sayre Steward's husband\", 'Unknown'), ('Martha Steward', 'Unknown'), ('Martin Miggs', 'Unknown'), ('Mary Dorkins', 'Unknown'), ('Mary Elizabeth Cattermole', 'Unknown'), ('Mary MacDonald', 'Unknown'), ('Mr. and Mrs. Mason', 'Unknown'), ('Mauler', 'Unknown'), ('Olympe Maxime', 'Beauxbatons - Staff'), ('McClaggan', 'Hogwarts - Gryffindor'), ('McClivert Clan', 'Unknown'), ('Meaghan McCormack', 'Unknown'), ('Natalie McDonald', 'Hogwarts - Gryffindor'), ('Minerva McGonagall', 'Hogwarts - Staff\\\\Hogwarts - Gryffindor'), ('Robert McGonagall, The Reverend', 'Unknown'), ('Quintia McQuoid', 'Unknown'), ('Tarquin McTavish', 'Unknown'), ('Megan Jones', 'Unknown'), ('Melania Macmillan', 'Unknown'), ('Melusine', 'Unknown'), ('Mercy Ojukwu', 'Unknown'), ('Mercy Wardwell', 'Unknown'), ('Merlin', 'Hogwarts - Slytherin'), ('Merwyn the Malicious', 'Unknown'), ('Mentor Metaxas', 'Unknown'), ('Millicent Bulstrode', 'Hogwarts - Slytherin'), ('Milly', 'Unknown'), ('Minette Lestrange', 'Unknown'), ('Mirabella Plunkett', 'Unknown'), ('Miranda Goshawk (fl. 1800)', 'Unknown'), ('Miriam Strout', 'Unknown'), ('Mnemone Radford', 'Unknown'), ('Modesty Rabnott', 'Unknown'), ('Molly Weasley (II)', 'Unknown'), ('Molly Weasley', 'Unknown'), ('Momolou Wotorson', 'Unknown'), ('Monica Wilkins', 'Unknown'), ('Monsieur Delacour', 'Unknown'), ('Mr. and Mrs. Montague', 'Unknown'), ('Montague', 'Hogwarts - Slytherin'), ('Montague Knightly', 'Unknown'), ('Montgomery sisters', 'Unknown'), ('Regulus Moonshine', 'Unknown'), ('Mopsus (Divination professor)', 'Unknown'), ('Mopsus (Greek soothsayer)', 'Unknown'), ('Mopsy Fleabert', 'Unknown'), ('Moran', 'Unknown'), ('Morgan', 'Unknown'), ('Morgana / Morgan le Fay', 'Unknown'), ('Valmai Morgan', 'Unknown'), ('Morholt', 'Unknown'), ('Morrigan', 'Unknown'), ('Mortlake', 'Unknown'), ('Mosag', 'Unknown'), ('Old Mother Hubbard', 'Unknown'), ('Mulciber', 'Hogwarts - Slytherin'), ('Mullet', 'Unknown'), ('Zacharias Mumps', 'Unknown'), ('Mungo Bonham', 'Unknown'), ('Murcus', 'Unknown'), ('Musidora Barkwith', 'Unknown'), ('Mustafa Kama', 'Unknown'), ('Mylor Sylvanus', 'Unknown'), ('Myron Otherhaus', 'Unknown'), ('Myron Wagtail', 'Unknown'), ('Myrtle Warren', 'Hogwarts - Ravenclaw'), ('Moaning Myrtle', 'Hogwarts - Ravenclaw'), ('Nagel', 'Unknown'), ('Nagini', 'Unknown'), ('Nagnok', 'Unknown'), ('Narinder Singh', 'Unknown'), ('Niko Nenad', 'Unknown'), ('Nerida Vulchanova', 'Durmstrang - Staff'), (\"Neville's Grandad\", 'Unknown'), ('Newt Scamander', 'Hogwarts - Hufflepuff'), (\"Newt Scamander's mother\", 'Unknown'), ('Ngapo Ponika', 'Unknown'), ('Phineas Nigellus Black', 'Hogwarts - Staff\\\\Hogwarts - Slytherin'), ('Nikola Vassileva', 'Unknown'), ('Norbert/Norberta', 'Unknown'), ('Noriko Sato', 'Mahoutokouro'), ('Mrs. Norris', 'Unknown'), ('Norvel Twonk', 'Unknown'), ('Nott', 'Unknown'), ('Theodore Nott', 'Hogwarts - Slytherin'), ('Günther the Violent', 'Unknown'), ('Nugent Potts', 'Unknown'), ('Nymphadora Tonks', 'Hogwarts - Hufflepuff'), ('Oakden Hobday', 'Unknown'), ('Otto Obermeier', 'Unknown'), ('Mr. Oblansk (or Obalonsk)', 'Unknown'), ('Octavius Pepper', 'Unknown'), ('Winkus Oddpick', 'Unknown'), ('Oddvar Spillum', 'Unknown'), ('Odo the Hero', 'Unknown'), ('Ogden', 'Unknown'), ('Tiberius Ogden', 'Unknown'), ('Ogg', 'Hogwarts - Staff'), ('Olaf', 'Unknown'), (\"Olive Hornby's brother\", 'Unknown'), ('Oliver Rivers', 'Hogwarts - Student'), ('Oliver Wood', 'Hogwarts - Gryffindor'), (\"Oliver Wood's parents\", 'Unknown'), ('through the Omnioculars', 'Unknown'), ('Oona', 'Unknown'), ('Orabella Nuttley', 'Unknown'), ('Orford Umbridge', 'Unknown'), ('Orla Quirke', 'Hogwarts - Ravenclaw'), ('Orsino Thruston', 'Unknown'), ('Unctuous Osbert', 'Unknown'), ('Oswald Beamish', 'Unknown'), ('Owen Cauldwell', 'Unknown'), ('Pandora Lovegood', 'Unknown'), ('Panju Weasley', 'Hogwarts - Gryffindor'), ('Pansy Parkinson', 'Hogwarts - Slytherin'), ('Paracelsus', 'Unknown'), ('Perseus Parkinson', 'Unknown'), ('Walter Parkin', 'Unknown'), ('Mr. and Mrs. Patil', 'Unknown'), ('Padma Patil', 'Hogwarts - Ravenclaw'), ('Parvati Patil', 'Hogwarts - Gryffindor'), ('Patricia Stimpson', 'Unknown'), ('Patrick', 'Unknown'), ('patrons at the Hanged Man', 'Unknown'), ('Randolph Pauncefoot', 'Unknown'), ('Mr. Paws', 'Unknown'), ('Mr. Payne', 'Unknown'), ('Peeves', 'Unknown'), ('Miss Pennyfeather', 'Unknown'), ('Phoebus Penrose', 'Unknown'), ('Percy Weasley', 'Hogwarts - Gryffindor'), ('Perkins', 'Unknown'), ('Sally-Anne Perks', 'Hogwarts - Student'), ('Petrova Porskoff', 'Unknown'), ('Peter Pettigrew', 'Hogwarts - Gryffindor'), ('Thorsten Pfeffer', 'Unknown'), ('Phineas Fletcher', 'Unknown'), ('Phyllida Spore', 'Unknown'), ('Pickett', 'Unknown'), ('Pierre Bonaccord', 'Unknown'), ('Piers Polkiss', 'Unknown'), ('Pigwidgeon', 'Unknown'), ('Pinky', 'Unknown'), ('Pius Thicknesse', 'Unknown'), ('platform guard', 'Unknown'), ('Yardley Platt', 'Unknown'), ('Samuel Plunkett', 'Unknown'), ('Royden Poke', 'Unknown'), ('Poliakoff', 'Durmstrang - Student'), ('Mrs. Polkiss', 'Unknown'), ('Pomona Sprout', 'Hogwarts - Staff\\\\Hogwarts - Hufflepuff'), ('Poppy', 'Unknown'), ('Poppy Pomfrey', 'Hogwarts - Staff'), ('Quong Po', 'Unknown'), ('Tina Goldstein', 'Ilvermorny - Thunderbird'), ('Portkey Tout', 'Unknown'), ('Henry \"Harry\" Potter', 'Unknown'), ('Mrs. Potter nee Fleamont', 'Unknown'), ('Prendergast', 'Hogwarts - Staff'), ('Mr. Prentice', 'Unknown'), ('Pringle', 'Unknown'), ('D.J. Prod', 'Unknown'), ('Mrs. Prod', 'Unknown'), ('Professor Mordicus Egg', 'Unknown'), ('Quirinus Quirrell', 'Hogwarts - Ravenclaw'), ('Professor Tofty', 'Unknown'), ('Professor Vector', 'Hogwarts - Staff'), ('Proudfoot', 'Unknown'), ('Prudence', 'Unknown'), ('Quintia Qarase', 'Unknown'), ('Samuel G. Quahog', 'Unknown'), ('Queenie Greengrass', 'Hogwarts - Slytherin'), ('Queen Victoria', 'Unknown'), ('Quentin Trimble', 'Unknown'), ('Quigley', 'Unknown'), ('Quintius Umfraville', 'Unknown'), ('Quintus Harcourt', 'Unknown'), ('Rabastan Lestrange', 'Hogwarts - Slytherin'), ('Urquhart Rackharrow', 'Unknown'), ('Raczidian', 'Unknown'), ('Radolphus Pittiman', 'Unknown'), ('Radulf', 'Unknown'), ('Rafael Santos', 'Unknown'), ('Ragnok the Pigeon-Toed', 'Unknown'), ('Ragnuk the First', 'Unknown'), ('Ralston Potter', 'Unknown'), ('Randolph Keitch', 'Unknown'), ('Randolph Spudmore', 'Unknown'), ('Rapier', 'Unknown'), ('Xavier Rastrick', 'Unknown'), ('Rowena Ravenclaw', 'Hogwarts - Staff'), ('Rawya Zaghloul', 'Unknown'), ('Receptionist', 'Unknown'), ('Red', 'Unknown'), ('Regulus Black (1906)', 'Unknown'), ('Mr. and Mrs. Riddle', 'Unknown'), ('Tom Marvolo Riddle', 'Hogwarts - Slytherin'), ('Rionach Sayre', 'Unknown'), ('Rionach Steward', 'Unknown'), ('Ripper', 'Unknown'), ('Rita Skeeter', 'Unknown'), ('River', 'Unknown'), ('Robert Hilliard', 'Unknown'), ('Robert McGonagall, Jr.', 'Unknown'), ('Mrs. Roberts', 'Unknown'), ('Mr. Roberts', 'Unknown'), ('two Roberts children', 'Unknown'), ('Roddy Pontner', 'Unknown'), ('Rodent', 'Unknown'), ('Roderick Plumpton', 'Unknown'), ('Rodolphus Lestrange', 'Hogwarts - Slytherin'), ('Rolf Scamander', 'Unknown'), ('Romilda Vane', 'Hogwarts - Gryffindor'), ('Romulus', 'Unknown'), ('Ron Weasley', 'Hogwarts - Gryffindor'), ('Ronan', 'Unknown'), ('Roonil Wazlib', 'Unknown'), ('Rosalind Antigone Bungs', 'Unknown'), ('Rose Zeller', 'Unknown'), ('Rowle', 'Unknown'), ('Thorfinn Rowle', 'Unknown'), ('J. K. Rowling', 'Unknown'), ('Roxanne Weasley', 'Unknown'), ('Royal', 'Unknown'), ('Rubeus Hagrid', 'Hogwarts - Staff\\\\Hogwarts - Gryffindor'), ('Ruby', 'Unknown'), ('Rudolph Spielman', 'Unknown'), ('Rufus Scrimgeour', 'Unknown'), ('Runcorn', 'Unknown'), (\"Rupert 'Axebanger' Brookstanton\", 'Unknown'), ('Rutherford Poke', 'Unknown'), ('Ryuichi Yamaguchi', 'Mahoutokouro'), ('Sacharissa Tugwood', 'Unknown'), ('Sally Smith', 'Hogwarts - Student'), ('Sam', 'Unknown'), ('Samson Wiblin', 'Unknown'), ('Sanguini', 'Unknown'), ('Selina Sapworthy', 'Unknown'), ('Savage', 'Unknown'), ('Sayre Family', 'Unknown'), ('Scabbers', 'Unknown'), ('Scabior', 'Unknown'), ('Theseus Scamander', 'Unknown'), ('Scarpin', 'Unknown'), ('Scrivenshaft', 'Unknown'), ('Selwyn', 'Unknown'), ('Septimus Weasley', 'Unknown'), ('Seraphina Picquery', 'Ilvermorny - Horned Serpent'), ('Sgt. Fisher', 'Unknown'), ('Shikoba Wolfe', 'Unknown'), ('Shintaro Shingo', 'Mahoutokouro'), ('Sidney Todd', 'Unknown'), ('Tony Silva', 'Unknown'), ('Silvio Astolfi', 'Unknown'), ('Sir Cadogan', 'Hogwarts - Gryffindor'), ('Sir Herbert Varney', 'Unknown'), ('Sirius Black (1845)', 'Unknown'), ('Sirius Black (1877)', 'Unknown'), ('Sir Luckless', 'Unknown'), ('Skender', 'Unknown'), ('Mrs. Skowers', 'Unknown'), ('Wilbert Slinkhard', 'Unknown'), ('Salazar Slytherin', 'Hogwarts - Staff'), ('Slytherin fifth-year', 'Unknown'), ('Zacharias Smith', 'Hogwarts - Hufflepuff'), ('Severus Snape', 'Hogwarts - Staff\\\\Hogwarts - Slytherin'), ('Tobias Snape', 'Unknown'), ('Snatchers', 'Unknown'), ('Snickerton', 'Unknown'), ('Snowy', 'Unknown'), ('Sophie Roper', 'Unknown'), ('Sorting Hat', 'Hogwarts - Gryffindor'), ('Sparky', 'Unknown'), ('Able Spudmore', 'Unknown'), ('Stan Shunpike', 'Unknown'), ('Stebbins', 'Hogwarts - Hufflepuff'), ('Stebbins (Auror)', 'Unknown'), ('Stephen Cornfoot', 'Hogwarts - Ravenclaw'), ('St. Mungo', 'Unknown'), ('Stubby Boardman', 'Unknown'), ('students', 'Unknown'), ('Sturgis Podmore', 'Unknown'), ('Sudanese Obscurial', 'Unknown'), ('Su Li', 'Hogwarts - Ravenclaw'), ('Summerby', 'Unknown'), ('Mr. Summers', 'Unknown'), ('Summers', 'Unknown'), ('Sybill Trelawney', 'Hogwarts - Staff'), ('Symposia Rawle', 'Unknown'), ('Syna Hyslop', 'Unknown'), ('Tatting', 'Unknown'), ('Ted', 'Unknown'), ('Tenebrus', 'Unknown'), ('Terence Higgs', 'Unknown'), ('Terry Boot', 'Hogwarts - Ravenclaw'), ('Tertius', 'Unknown'), ('Theophilus Abbott', 'Unknown'), ('Thiago Quintana', 'Unknown'), ('Mr. and Mrs. Thomas', 'Unknown'), ('Thornton Harkaway', 'Unknown'), ('Thaddeus Thurkell', 'Unknown'), ('Mr. Tibbles', 'Unknown'), ('Tiberius', 'Unknown'), ('Violet Tillyman', 'Unknown'), ('Tilly Toke', 'Unknown'), ('tiny old wizard in violet cloak', 'Unknown'), ('title', 'Unknown'), ('Titus', 'Unknown'), ('Todoroki', 'Mahoutokouro'), ('Tom', 'Unknown'), ('Tom (Bowtruckle)', 'Unknown'), ('Tom Riddle Sr.', 'Unknown'), ('Tilden Toots', 'Unknown'), ('Tracey Davis', 'Unknown'), ('Travers', 'Unknown'), ('Torquil Travers', 'Unknown'), ('Trevor', 'Unknown'), ('Trocar', 'Hogwarts - Staff'), ('Troy', 'Unknown'), ('Tuft Family', 'Unknown'), ('Tufty', 'Unknown'), ('twenty Ministry wizards', 'Unknown'), ('Twilfitt', 'Unknown'), ('Wilkie Twycross', 'Unknown'), ('Ugga', 'Unknown'), ('Ug the Unreliable', 'Unknown'), (\"Dolores Umbridge's brother\", 'Unknown'), ('Uncle Bilius', 'Unknown'), ('Uncle Nobby', 'Unknown'), ('Muggle tramp', 'Unknown'), ('two unnamed Muggles in London', 'Unknown'), ('unnamed witch in Bath', 'Unknown'), ('Urg the Unclean', 'Unknown'), ('Uric the Oddball', 'Hogwarts - Ravenclaw'), ('Urquhart', 'Hogwarts - Slytherin'), ('Ursula Flint', 'Unknown'), ('Vaisey', 'Hogwarts - Slytherin'), ('Valentina Vázquez', 'Unknown'), ('vampire now unable to eat anything but lettuce', 'Unknown'), ('Vargot', 'Unknown'), ('Verity', 'Unknown'), ('Vernon Dudley', 'Unknown'), ('Veronica Smethley', 'Unknown'), ('Vicky Frobisher', 'Hogwarts - Gryffindor'), ('Victoire Weasley', 'Hogwarts - Student'), ('Vincent Duc de Trefle-Picques', 'Beauxbatons - Student'), ('Vincent Crabbe', 'Hogwarts - Slytherin'), ('Vinda Rosier', 'Unknown'), ('Violet', 'Unknown'), ('Violetta Beauvais', 'Unknown'), ('Violetta Bulstrode', 'Unknown'), ('Vindictus Viridian', 'Unknown'), ('Volkov', 'Unknown'), ('Vulchanov', 'Unknown'), ('Wailing Widow', 'Unknown'), ('Yoshi Wakahisa', 'Mahoutokouro'), ('Wakanda', 'Unknown'), ('Walburga Black', 'Hogwarts - Slytherin'), ('Wand-shine Elf', 'Unknown'), ('Warrington', 'Hogwarts - Slytherin'), ('Warty Harris', 'Unknown'), ('Wayne Hopkins', 'Unknown'), ('Weatherby', 'Unknown'), (\"Webster Boot's wife\", 'Unknown'), ('Wendelin the Weird', 'Unknown'), ('Wendell Wilkins', 'Unknown'), ('Willi Wenzel', 'Unknown'), ('Wilhelm Wigworthy', 'Unknown'), ('Wilfred Elphick', 'Unknown'), ('Wilfred the Wistful', 'Unknown'), ('Wilhelmina Tuft', 'Unknown'), ('Wilkes', 'Unknown'), ('William', 'Unknown'), ('William Sayre', 'Unknown'), ('Williamson', 'Unknown'), ('Willy Widdershins', 'Unknown'), ('Winky', 'Unknown'), ('Witherwings', 'Unknown'), ('wizard with a walrus moustache', 'Unknown'), ('Wladyslaw Wolfke', 'Unknown'), ('Wool Woman', 'Unknown'), ('World Cup Mediwizards', 'Unknown'), ('Wormtail', 'Hogwarts - Gryffindor'), ('Wyvern of Wye', 'Unknown'), ('Xenophilius Lovegood', 'Unknown'), ('Yann Fredericks', 'Hogwarts - Student'), ('yeti with a head-cold', 'Unknown'), ('Young Red-Haired Witch', 'Unknown'), ('Yusuf Kama', 'Unknown'), ('Yvonne', 'Unknown'), (\"Zacharias Smith's father\", 'Unknown'), ('Zograf', 'Unknown'), ('Zonko', 'Unknown')]\n"
          ]
        }
      ]
    },
    {
      "cell_type": "code",
      "source": [
        "# remove all unknown places\n",
        "for tup in edge_list:\n",
        "  if  'own' in str(tup[1]) or str(tup[1]) == '':\n",
        "    edge_list.remove(tup)\n",
        "\n",
        "print(len(edge_list),edge_list)"
      ],
      "metadata": {
        "colab": {
          "base_uri": "https://localhost:8080/"
        },
        "id": "ru_qrGlsiD28",
        "outputId": "6aa44194-8541-4c83-9db6-33048b7a4139"
      },
      "execution_count": 8,
      "outputs": [
        {
          "output_type": "stream",
          "name": "stdout",
          "text": [
            "706 [('Hannah Abbott', 'Hogwarts - Hufflepuff'), ('Euan Abercrombie', 'Hogwarts - Gryffindor'), ('Aberforth Dumbledore', 'Hogwarts - Student'), ('Abraham Peasegood', 'Unknown'), ('Abraxas Malfoy', 'Unknown'), ('Stewart Ackerley', 'Hogwarts - Ravenclaw'), ('Adrian Pucey', 'Hogwarts - Slytherin'), ('three African wizards', 'Unknown'), ('Agatha Timms', 'Unknown'), ('Agnes', 'Unknown'), ('Aidan Kiely', 'Unknown'), ('Alasdair Maddock', 'Unknown'), ('Mad-Eye Moody', 'Hogwarts - Staff'), ('Alberic Grunnion', 'Unknown'), ('Albert Boot', 'Unknown'), ('Albert Runcorn', 'Unknown'), ('Albus Dumbledore', 'Hogwarts - Staff\\\\Hogwarts - Gryffindor'), ('Albus Potter', 'Hogwarts - Slytherin'), ('Arkie Alderton', 'Unknown'), ('Alecto Carrow', 'Hogwarts - Staff'), ('Alguff the Awful', 'Unknown'), ('Alice Longbottom', 'Unknown'), ('Alicia Spinnet', 'Hogwarts - Gryffindor'), ('Raul Almeida', 'Unknown'), ('Alejandra Alonso', 'Unknown'), ('Alphard Black', 'Hogwarts - Slytherin'), ('Amarillo Lestoat', 'Unknown'), ('Ambrosius Flume', 'Unknown'), ('Amos Diggory', 'Unknown'), ('Amycus Carrow', 'Hogwarts - Staff'), ('Andorran Minister for Magic', 'Unknown'), ('Andrew Kirke', 'Hogwarts - Gryffindor'), ('Andromeda Tonks', 'Hogwarts - Slytherin'), ('Angelina Johnson', 'Hogwarts - Gryffindor'), ('Angus Buchanan', 'Unknown'), ('Angus Fleet', 'Unknown'), ('Annis Black', 'Unknown'), ('Anthony Goldstein', 'Hogwarts - Ravenclaw'), ('Antonin Dolohov', 'Unknown'), ('Apolline Delacour', 'Unknown'), ('Apollyon Pringle', 'Hogwarts - Staff'), ('Aragog', 'Unknown'), ('Archer Evermonde', 'Unknown'), ('Archie', 'Unknown'), ('Arcturus Black (1884)', 'Hogwarts - Slytherin'), ('Arcturus Black (1901)', 'Hogwarts - Slytherin'), ('Argus Filch', 'Hogwarts - Staff'), ('Ariana Dumbledore', 'Unknown'), ('Arkie Philpott', 'Unknown'), ('Armando Dippet', 'Hogwarts - Staff'), ('Arnold', 'Unknown'), ('Arnie Peasegood', 'Unknown'), ('Arsenia Gonzales', 'Unknown'), ('Artemisia Lufkin', 'Hogwarts - Hufflepuff'), (\"Arthur's contact at the Floo Regulation Panel\", 'Unknown'), ('Arthur Weasley', 'Hogwarts - Gryffindor'), ('Asha', 'Unknown'), ('Over-Attentive Wizard', 'Unknown'), ('Bertram Aubrey', 'Hogwarts - Student'), ('Augusta \"Gran\" Longbottom', 'Unknown'), ('Augustus Rookwood', 'Unknown'), ('Auntie Muriel', 'Unknown'), ('Aurelius Dumbledore', 'Unknown'), ('Aurora Sinistra', 'Hogwarts - Staff'), ('Avery', 'Hogwarts - Slytherin'), ('Babajide Akingbade', 'Uagadou'), ('Babbitty Rabbitty', 'Unknown'), ('Ludo Bagman', 'Unknown'), ('Millicent Bagnold', 'Hogwarts - Ravenclaw'), ('Kquewanda Bailey', 'Unknown'), ('Bandon Banshee', 'Unknown'), ('Heathcote Barbary', 'Unknown'), ('Bartholomew Barebone', 'Unknown'), ('Credence Barebone', 'Unknown'), ('Mary Lou Barebone', 'Unknown'), ('Lucas Bargeworthy', 'Unknown'), ('Barnabas the Barmy', 'Unknown'), ('Barnabas Deverill', 'Unknown'), ('Barnaby Snell', 'Unknown'), ('Barny the Fruitbat', 'Unknown'), ('Barty Crouch Jr.', 'Hogwarts - Staff'), ('Baruffio', 'Unknown'), ('Basil Flack', 'Unknown'), ('Bathsheda Babbling', 'Hogwarts - Staff'), ('Beatrix Bloxam', 'Unknown'), ('Beedle the Bard', 'Unknown'), ('Herbert Beery', 'Hogwarts - Staff'), ('Humphrey Belcher', 'Unknown'), ('Katie Bell', 'Hogwarts - Gryffindor'), ('Benedita Dourado', 'Castelobruxo'), ('Benjy Williams', 'Unknown'), ('Bernie Pillsworth', 'Unknown'), ('Bertha Jorkins', 'Hogwarts - Student'), ('Berthilde Roche', 'Unknown'), ('Bertie Higgs', 'Unknown'), ('BF', 'Unknown'), ('Bill Weasley', 'Hogwarts - Gryffindor'), ('Mr. Bingley', 'Unknown'), ('Professor Binns', 'Hogwarts - Staff'), ('Dennis Bishop', 'Unknown'), ('Bellatrix Lestrange', 'Hogwarts - Slytherin'), ('Belvina Black', 'Hogwarts - Slytherin'), ('Callidora Black', 'Hogwarts - Slytherin'), ('Cassiopeia Black', 'Hogwarts - Slytherin'), ('Charis Black', 'Hogwarts - Slytherin'), ('Cygnus Black', 'Hogwarts - Slytherin'), ('Cygnus Black (1889)', 'Hogwarts - Slytherin'), ('Marius Black', 'Unknown'), ('Orion Black', 'Hogwarts - Slytherin'), ('Pollux Black', 'Hogwarts - Slytherin'), ('Dorea Black Potter', 'Hogwarts - Slytherin'), ('Regulus Black', 'Hogwarts - Slytherin'), ('Sirius Black', 'Hogwarts - Gryffindor'), ('Cedrella Black Weasley', 'Hogwarts - Slytherin'), ('Blaise Zabini', 'Hogwarts - Slytherin'), ('Susan Blancheflower', 'Unknown'), ('Blenheim Stalk', 'Unknown'), ('Timothy Blenkinsop', 'Unknown'), ('Miles Bletchley', 'Hogwarts - Slytherin'), ('The Bloody Baron', 'Hogwarts - Slytherin'), ('Bludgeoning Boggart of Old London Town', 'Unknown'), ('Melinda Bobbin', 'Hogwarts - Student'), ('Bob Ogden', 'Unknown'), ('Old Boggle of Canterbury', 'Unknown'), ('Bogrod', 'Unknown'), ('Bole', 'Hogwarts - Slytherin'), ('Bonawentura Wójcik', 'Unknown'), ('Susan Bones', 'Hogwarts - Hufflepuff'), ('Brother Boniface', 'Unknown'), ('Mrs. Boot', 'Unknown'), ('Gladys Boothby', 'Unknown'), ('Webster Boot', 'Ilvermorny - Wampus'), ('Libatius Borage', 'Castelobruxo'), ('Borgin', 'Unknown'), ('Boris Vulchanov', 'Unknown'), ('Craig Bowker Jr.', 'Hogwarts - Slytherin'), ('Bozo', 'Unknown'), ('Bradley', 'Hogwarts - Ravenclaw'), ('Bragging Young Wizard', 'Unknown'), ('Bran the Bloodthirsty', 'Unknown'), ('Maximus Brankovitch III', 'Unknown'), ('Bridget Wenlock', 'Hogwarts - Hufflepuff'), ('Cormac O’Brien', 'Unknown'), ('Brodrig the Boss-Eyed', 'Unknown'), ('Lavender Brown', 'Hogwarts - Gryffindor'), ('Brutus Malfoy', 'Unknown'), ('Bruno Bruunhart', 'Unknown'), ('Buckley Cooper', 'Unknown'), ('Zygmunt Budge', 'Hogwarts - Student'), ('K. Bundy', 'Hogwarts - Student'), ('Bunty', 'Unknown'), ('Charity Burbage', 'Hogwarts - Staff'), ('Caractacus Burke', 'Unknown'), ('Cadwallader', 'Hogwarts - Hufflepuff'), ('Lennox Campbell', 'Unknown'), ('S. Capper', 'Hogwarts - Student'), ('Carlos Lopez', 'Unknown'), ('Eddie Carmichael', 'Hogwarts - Ravenclaw'), ('Rancorous Carpe', 'Hogwarts - Staff'), ('Caspar Crouch', 'Unknown'), ('Cassandra Vablatsky', 'Unknown'), ('Reginald Cattermole', 'Unknown'), ('Cecilia', 'Unknown'), ('Cedric Diggory', 'Hogwarts - Hufflepuff'), ('Celestina Warbeck', 'Hogwarts - Gryffindor'), ('Chambers', 'Hogwarts - Ravenclaw'), ('Cho Chang', 'Hogwarts - Ravenclaw'), ('Polly Chapman', 'Hogwarts - Student'), ('Charlie Weasley', 'Hogwarts - Gryffindor'), ('Chauncey Oldridge', 'Unknown'), ('Herbert Chorley', 'Unknown'), ('Winston Churchill', 'Unknown'), ('Circe', 'Unknown'), ('Clairvius Hyppolite', 'Unknown'), ('Ptolemy', 'Unknown'), ('Penelope Clearwater', 'Hogwarts - Ravenclaw'), ('Carlos Clodoaldo', 'Unknown'), ('Edgar Cloggs', 'Hogwarts - Student'), ('João Coelho', 'Castelobruxo'), ('Colin Creevey', 'Hogwarts - Gryffindor'), ('Magenta Comstock', 'Unknown'), ('cook at the Riddle House', 'Unknown'), ('Ritchie Coote', 'Hogwarts - Gryffindor'), ('Corban Yaxley', 'Hogwarts - Slytherin'), ('Cormack McLeod', 'Unknown'), ('Cormac McLaggen', 'Hogwarts - Gryffindor'), ('Michael Corner', 'Hogwarts - Ravenclaw'), ('Corvinus Gaunt', 'Hogwarts - Slytherin'), ('Corvus Lestrange Sr.', 'Unknown'), ('Count Vlad Drakul', 'Unknown'), ('Crabbe Sr.', 'Unknown'), ('Elfrida Cragg', 'Unknown'), ('Mrs. Cresswell', 'Unknown'), ('Dirk Cresswell', 'Hogwarts - Student'), ('Venusia Crickerly', 'Unknown'), ('Professor Saul Croaker', 'Unknown'), ('Crispin Cronk', 'Unknown'), ('Crookshanks', 'Unknown'), ('Maximillian Crowdy', 'Unknown'), ('Cyclops', 'Unknown'), ('Dagbert Pips', 'Unknown'), ('Dangerous Dai Llewellyn', 'Unknown'), ('Daisy Hookum', 'Unknown'), ('Damocles Belby', 'Hogwarts - Student'), ('Daphne Greengrass', 'Hogwarts - Student'), ('Dark Lord', 'Unknown'), (\"Darren O'Hare\", 'Unknown'), ('Davey Gudgeon', 'Hogwarts - Student'), ('Roger Davies', 'Hogwarts - Ravenclaw'), ('Dean Thomas', 'Hogwarts - Gryffindor'), ('Dedalus Diggle', 'Unknown'), ('Fleur Delacour', 'Beauxbatons - Student'), ('Lisette de Lapin', 'Unknown'), ('Demelza Robins', 'Hogwarts - Gryffindor'), ('Nearly-Headless Nick', 'Hogwarts - Gryffindor'), ('Dennis', 'Unknown'), ('Dennis Creevey', 'Hogwarts - Gryffindor'), ('Derek', 'Hogwarts - Student'), ('Derrick', 'Hogwarts - Slytherin'), ('Dilys Derwent', 'Hogwarts - Staff'), ('Philbert Deverill', 'Unknown'), ('Dexter Fortescue', 'Hogwarts - Staff'), ('Fernando Diaz', 'Unknown'), ('Delphini Diggory', 'Unknown'), ('Dimitrov', 'Unknown'), ('Harold Dingle', 'Hogwarts - Student'), ('Emma Dobbs', 'Hogwarts - Student'), ('Dodgy Dirk', 'Unknown'), ('Elphias Doge', 'Hogwarts - Student'), ('Dolores Umbridge', 'Hogwarts - Staff\\\\Hogwarts - Slytherin'), ('Donaghan Tremlett', 'Unknown'), ('Dorcus Twelvetrees', 'Unknown'), ('Doris Purkiss', 'Unknown'), ('J. Dorny', 'Hogwarts - Student'), ('Dougal', 'Unknown'), ('Dougal McGregor', 'Unknown'), ('Distractible Douglas', 'Hogwarts - Student'), ('Draco Malfoy', 'Hogwarts - Slytherin'), ('Dragomir Despard', 'Unknown'), ('Filibuster', 'Unknown'), ('Druella Rosier', 'Unknown'), ('Irma Dugard', 'Unknown'), ('Kendra Dumbledore', 'Unknown'), ('Dunbar Oglethorpe', 'Unknown'), ('B. Dunstan', 'Hogwarts - Student'), ('Dudley Dursley', 'Unknown'), ('Vernon Dursley', 'Unknown'), ('Dymphna Furmage', 'Unknown'), ('Eargit the Ugly', 'Unknown'), (\"Lorcan d'Eath\", 'Unknown'), ('Edgar Bones', 'Unknown'), ('Marietta Edgecombe', 'Hogwarts - Ravenclaw'), ('Teddy Lupin', 'Hogwarts - Hufflepuff'), ('Egbert the Egregious', 'Unknown'), ('Eglantine Puffett', 'Hogwarts - Hufflepuff'), ('Eileen Prince Snape', 'Unknown'), ('Eldon Elsrickle', 'Unknown'), ('Eleanor Branstone', 'Unknown'), ('Eliana', 'Unknown'), ('Elias Story', 'Unknown'), ('Elizabeth Smudgling', 'Unknown'), ('Elveira Elkins', 'Unknown'), ('Elladora Black (aunt of Sirius)', 'Unknown'), ('Elladora Ketteridge', 'Unknown'), ('Ellie Cattermole', 'Unknown'), ('Elodie Dembélé', 'Unknown'), ('Eloise Midgen/Eloise Midgeon', 'Hogwarts - Student'), ('Elsie', 'Unknown'), ('Emeric the Evil', 'Unknown'), ('Emily Rappaport', 'Unknown'), ('Enid Smeek', 'Unknown'), ('Erica Stainwright', 'Unknown'), ('Eric Whalley', 'Unknown'), ('Ernie Macmillan', 'Hogwarts - Hufflepuff'), ('Errol', 'Unknown'), ('Ethelbald Mordaunt', 'Unknown'), ('Eugenia Jenkins', 'Unknown'), ('Eunice Murray', 'Unknown'), ('Euphemia Rowle', 'Unknown'), ('Eupraxia Mole', 'Hogwarts - Staff'), ('Evangeline Orpington', 'Unknown'), ('Mr. Evans', 'Unknown'), ('Everard', 'Hogwarts - Staff'), ('Fabius Watkins', 'Unknown'), ('Perpetua Fancourt', 'Hogwarts - Ravenclaw'), ('Faris \"Spout-hole\" Spavin', 'Unknown'), ('Gemma Farley', 'Hogwarts - Slytherin'), ('The Fat Friar', 'Hogwarts - Hufflepuff'), ('Franziska Faust', 'Unknown'), ('Miss S. Fawcett', 'Hogwarts - Ravenclaw'), ('Hector Fawley', 'Unknown'), ('Fenrir Greyback', 'Unknown'), ('Ferdinand Jägendorf', 'Unknown'), ('Fifi LaFolle', 'Unknown'), ('Mr Finch-Fletchley', 'Unknown'), ('Fingal the Fearless', 'Unknown'), ('Mrs. Finnigan', 'Unknown'), ('Seamus Finnigan', 'Hogwarts - Gryffindor'), ('Firenze', 'Hogwarts - Staff'), (\"O'Flaherty\", 'Unknown'), ('Nicolas Flamel', 'Beauxbatons - Student'), ('Flavius Belby', 'Unknown'), ('Fleamont Potter', 'Hogwarts - Gryffindor'), ('Hedley Fleetwood', 'Unknown'), ('Mundungus Fletcher', 'Unknown'), ('Josephina Flint', 'Unknown'), ('Marcus Flint', 'Hogwarts - Slytherin'), ('Filius Flitwick', 'Hogwarts - Staff\\\\Hogwarts - Ravenclaw'), ('Florence', 'Unknown'), ('Fluffy', 'Unknown'), ('Theodard Fontaine', 'Unknown'), ('Frank Bryce', 'Unknown'), ('Fred Weasley (II)', 'Unknown'), ('Fred Weasley', 'Hogwarts - Gryffindor'), ('Fridwulfa', 'Unknown'), ('Rufus Fudge', 'Unknown'), ('Gabrielle Delacour', 'Unknown'), ('Galatea Merrythought', 'Hogwarts - Staff'), ('Ulick Gamp', 'Unknown'), ('Garrick Ollivander', 'Hogwarts - Ravenclaw'), ('Gaspard Shingleton', 'Unknown'), ('Merope Gaunt', 'Unknown'), ('Gawain Robards', 'Unknown'), ('Geoffrey Hooper', 'Hogwarts - Gryffindor'), ('George Weasley', 'Hogwarts - Gryffindor'), ('Georgios Xenakis', 'Unknown'), ('Geraint Ollivander', 'Unknown'), ('Gerda Curd', 'Unknown'), ('Gervaise Ollivander', 'Unknown'), ('Gibbon', 'Unknown'), ('Gideon Flatworthy', 'Unknown'), ('Gifford Ollerton', 'Unknown'), ('Gilderoy Lockhart', 'Hogwarts - Staff\\\\Hogwarts - Ravenclaw'), ('Ginny Weasley', 'Hogwarts - Gryffindor'), ('Glover Hipworth', 'Unknown'), ('Godelot', 'Unknown'), ('Queenie Goldstein', 'Ilvermorny - Puckwidgie'), ('Goliath', 'Unknown'), ('Gondoline Oliphant', 'Unknown'), ('Gordon', 'Unknown'), ('Gormlaith Gaunt', 'Hogwarts - Student'), ('Miranda Goshawk (1921-)', 'Unknown'), ('Tangwystl (Goshawk?)', 'Unknown'), ('Graham Pritchard', 'Hogwarts - Slytherin'), ('Mrs. Granger', 'Unknown'), ('Hermione Granger', 'Hogwarts - Gryffindor'), ('Rose Granger-Weasley', 'Hogwarts - Gryffindor'), ('Gondulphus Graves', 'Unknown'), ('Percival Graves', 'Unknown'), ('Great Auntie Enid', 'Unknown'), ('Great Uncle Algie', 'Unknown'), ('Gregorovitch', 'Unknown'), ('Gregory Goyle', 'Hogwarts - Slytherin'), ('Greta Catchlove', 'Unknown'), ('The Grey Lady', 'Hogwarts - Ravenclaw'), ('Wilda Griffiths', 'Unknown'), ('Robert Grimsditch', 'Unknown'), ('Gellert Grindelwald', 'Durmstrang - Student'), ('Griphook', 'Unknown'), ('Griselda Marchbanks', 'Unknown'), ('Grogan Stump', 'Hogwarts - Hufflepuff'), ('Stoyanka Grozda', 'Unknown'), ('Wilhelmina Grubbly-Plank', 'Hogwarts - Staff'), ('Grugwyn Rufford', 'Unknown'), ('Godric Gryffindor', 'Hogwarts - Staff'), ('Galvin Gudgeon', 'Unknown'), ('Zamira Gulch', 'Unknown'), ('Gunhilda of Gorsemoor', 'Unknown'), ('Gurg', 'Unknown'), ('Gwendolyn Morgan', 'Unknown'), ('Gwenog Jones', 'Hogwarts - Student'), ('Hambledon Quince', 'Unknown'), ('Hankerton Humble', 'Hogwarts - Staff'), ('Hans the Augurey', 'Unknown'), ('Harfang Longbottom', 'Unknown'), ('Harfang Munter', 'Durmstrang - Staff'), ('Harold Skively', 'Unknown'), ('Harper', 'Hogwarts - Slytherin'), ('Harry Potter', 'Hogwarts - Gryffindor'), ('Hassan Mostafa', 'Unknown'), ('Hector Lamont', 'Unknown'), ('Helena Ravenclaw', 'Hogwarts - Ravenclaw'), ('Helixa Hyslop', 'Unknown'), ('Hengist of Upper Barnton', 'Unknown'), ('Hengist of Woodcroft', 'Hogwarts - Hufflepuff'), ('King Henry VI', 'Unknown'), ('Henry Shaw', 'Unknown'), ('Herbert Burke', 'Unknown'), ('Hereward', 'Unknown'), ('Herman Wintringham', 'Unknown'), ('Herpo the Foul', 'Unknown'), ('Hesper Starkey', 'Unknown'), ('Hetty Bayliss', 'Unknown'), ('Hippocrates Smethwyck', 'Unknown'), ('Violetta Hobday', 'Unknown'), ('Hokey', 'Unknown'), ('Masaki Hongo', 'Mahoutokouro'), ('Honoria Nutcombe', 'Unknown'), ('Madam Hooch', 'Hogwarts - Staff'), ('Hoppy', 'Unknown'), ('Horace Slughorn', 'Hogwarts - Staff\\\\Hogwarts - Slytherin'), ('Olive Hornby', 'Hogwarts - Student'), ('Hope Howell Lupin', 'Unknown'), ('Helga Hufflepuff', 'Hogwarts - Staff'), ('Idris Oakby', 'Unknown'), ('Ignatia Wildsmith', 'Hogwarts - Ravenclaw'), ('Ignatius Tuft', 'Unknown'), ('Igor Karkaroff', 'Durmstrang - Staff'), ('Ingolfr the Iambic', 'Unknown'), ('Iolanthe Peverell', 'Unknown'), ('Irish Leprechauns', 'Unknown'), ('Irma Pince', 'Hogwarts - Staff'), ('Isadora Rose', 'Unknown'), ('Isobel McGonagall', 'Hogwarts - Student'), ('Isolt Sayre', 'Unknown'), ('Ivan Popa', 'Unknown'), ('Jack Sloper', 'Hogwarts - Gryffindor'), ('Jacob Kowalski', 'Unknown'), ('James Potter', 'Hogwarts - Gryffindor'), ('James Sirius Potter', 'Hogwarts - Gryffindor'), ('Janus Thickey', 'Unknown'), ('Mary Jauncey', 'Unknown'), ('Karl Jenkins', 'Hogwarts - Student'), ('Leonard Jewkes', 'Unknown'), ('Jimmy Peakes', 'Hogwarts - Gryffindor'), ('Joey Jenkins', 'Unknown'), ('Sylvian Jolicoeur', 'Unknown'), ('Lee Jordan', 'Hogwarts - Gryffindor'), ('Stamford Jorkins', 'Unknown'), ('Josefina Calderon', 'Unknown'), ('Joseph Snuka', 'Unknown'), ('Josiah Plunkett', 'Unknown'), ('Justin Finch-Fletchley', 'Hogwarts - Hufflepuff'), ('Laurena Kama', 'Unknown'), ('Karl Wang', 'Unknown'), ('Kenneth Towler', 'Hogwarts - Student'), ('Silvanus Kettleburn', 'Hogwarts - Staff\\\\Hogwarts - Hufflepuff'), ('Kevin Entwhistle', 'Unknown'), ('Kevin Whitby', 'Unknown'), ('King George III', 'Unknown'), ('King William I', 'Unknown'), ('Porteus Knatchbull', 'Unknown'), ('Krafft', 'Unknown'), ('Kreacher', 'Hogwarts - Staff'), ('Mr. Krum', 'Unknown'), ('Viktor Krum', 'Durmstrang - Student'), ('Kimiko Kurosawa', 'Mahoutokouro'), ('Ladislaw Zamojski', 'Unknown'), ('Lady Grieve', 'Unknown'), ('Lancelot', 'Unknown'), ('Langdon Shaw', 'Unknown'), ('Laverne de Montmorency', 'Hogwarts - Ravenclaw'), ('Leanne', 'Hogwarts - Student'), ('Leonard Spencer-Moon', 'Unknown'), ('Leta Lestrange', 'Hogwarts - Slytherin'), ('Leticia Somnolens', 'Unknown'), ('Levski', 'Unknown'), ('Lily Moon', 'Unknown'), ('Lily Potter', 'Hogwarts - Gryffindor'), ('Lily Luna Potter', 'Hogwarts - Gryffindor'), ('Lisa Turpin', 'Unknown'), ('Sue Li', 'Hogwarts - Student'), ('Neville Longbottom', 'Hogwarts - Staff\\\\Hogwarts - Gryffindor'), ('Lorcan Scamander', 'Unknown'), ('Lord Palmerston', 'Unknown'), ('Lord Voldemort', 'Hogwarts - Slytherin'), ('Luna Lovegood', 'Hogwarts - Ravenclaw'), ('Lucas Picquery', 'Unknown'), ('Lucius Malfoy', 'Hogwarts - Slytherin'), ('Luc Millefeuille', 'Beauxbatons - Student'), ('Lucy Weasley', 'Unknown'), ('Remus Lupin', 'Hogwarts - Staff\\\\Hogwarts - Gryffindor'), ('Lycoris Black', 'Unknown'), ('Lysandra Yaxley', 'Unknown'), ('Morag Macdougal', 'Hogwarts - Ravenclaw'), ('Mungo MacDuff', 'Unknown'), ('Walden Macnair', 'Unknown'), ('Madam Edgecombe', 'Unknown'), ('Madam Marsh', 'Unknown'), ('Madam Primpernelle', 'Unknown'), ('Madam Rosmerta', 'Unknown'), ('Queen Maeve', 'Unknown'), ('Magnus \"Dent Head\" Macdonald', 'Unknown'), ('maid at the Riddle House', 'Unknown'), ('Malcolm', 'Unknown'), ('Malcolm Baddock', 'Hogwarts - Slytherin'), ('Malécrit', 'Unknown'), ('Narcissa Malfoy', 'Hogwarts - Slytherin'), ('Scorpius Malfoy', 'Hogwarts - Slytherin'), ('Madam Malkin', 'Unknown'), ('Roger Malone', 'Hogwarts - Student'), ('Mandy Brocklehurst', 'Hogwarts - Ravenclaw'), ('Marcus Belby', 'Hogwarts - Ravenclaw'), ('Mark Evans', 'Unknown'), ('Marlow', 'Unknown'), (\"Martha Sayre Steward's husband\", 'Unknown'), ('Martin Miggs', 'Unknown'), ('Mary Elizabeth Cattermole', 'Unknown'), ('Mr. and Mrs. Mason', 'Unknown'), ('Olympe Maxime', 'Beauxbatons - Staff'), ('McClaggan', 'Hogwarts - Gryffindor'), ('Meaghan McCormack', 'Unknown'), ('Natalie McDonald', 'Hogwarts - Gryffindor'), ('Minerva McGonagall', 'Hogwarts - Staff\\\\Hogwarts - Gryffindor'), ('Quintia McQuoid', 'Unknown'), ('Megan Jones', 'Unknown'), ('Melusine', 'Unknown'), ('Mercy Wardwell', 'Unknown'), ('Merlin', 'Hogwarts - Slytherin'), ('Mentor Metaxas', 'Unknown'), ('Millicent Bulstrode', 'Hogwarts - Slytherin'), ('Minette Lestrange', 'Unknown'), ('Miranda Goshawk (fl. 1800)', 'Unknown'), ('Mnemone Radford', 'Unknown'), ('Molly Weasley (II)', 'Unknown'), ('Momolou Wotorson', 'Unknown'), ('Monsieur Delacour', 'Unknown'), ('Montague', 'Hogwarts - Slytherin'), ('Montgomery sisters', 'Unknown'), ('Mopsus (Divination professor)', 'Unknown'), ('Mopsy Fleabert', 'Unknown'), ('Morgan', 'Unknown'), ('Valmai Morgan', 'Unknown'), ('Morrigan', 'Unknown'), ('Mosag', 'Unknown'), ('Mulciber', 'Hogwarts - Slytherin'), ('Zacharias Mumps', 'Unknown'), ('Murcus', 'Unknown'), ('Mustafa Kama', 'Unknown'), ('Myron Otherhaus', 'Unknown'), ('Myrtle Warren', 'Hogwarts - Ravenclaw'), ('Moaning Myrtle', 'Hogwarts - Ravenclaw'), ('Nagini', 'Unknown'), ('Narinder Singh', 'Unknown'), ('Nerida Vulchanova', 'Durmstrang - Staff'), ('Newt Scamander', 'Hogwarts - Hufflepuff'), ('Ngapo Ponika', 'Unknown'), ('Phineas Nigellus Black', 'Hogwarts - Staff\\\\Hogwarts - Slytherin'), ('Norbert/Norberta', 'Unknown'), ('Noriko Sato', 'Mahoutokouro'), ('Norvel Twonk', 'Unknown'), ('Theodore Nott', 'Hogwarts - Slytherin'), ('Nugent Potts', 'Unknown'), ('Nymphadora Tonks', 'Hogwarts - Hufflepuff'), ('Otto Obermeier', 'Unknown'), ('Octavius Pepper', 'Unknown'), ('Oddvar Spillum', 'Unknown'), ('Ogden', 'Unknown'), ('Ogg', 'Hogwarts - Staff'), (\"Olive Hornby's brother\", 'Unknown'), ('Oliver Rivers', 'Hogwarts - Student'), ('Oliver Wood', 'Hogwarts - Gryffindor'), ('through the Omnioculars', 'Unknown'), ('Orabella Nuttley', 'Unknown'), ('Orla Quirke', 'Hogwarts - Ravenclaw'), ('Unctuous Osbert', 'Unknown'), ('Owen Cauldwell', 'Unknown'), ('Panju Weasley', 'Hogwarts - Gryffindor'), ('Pansy Parkinson', 'Hogwarts - Slytherin'), ('Perseus Parkinson', 'Unknown'), ('Mr. and Mrs. Patil', 'Unknown'), ('Padma Patil', 'Hogwarts - Ravenclaw'), ('Parvati Patil', 'Hogwarts - Gryffindor'), ('Patrick', 'Unknown'), ('Randolph Pauncefoot', 'Unknown'), ('Mr. Payne', 'Unknown'), ('Miss Pennyfeather', 'Unknown'), ('Percy Weasley', 'Hogwarts - Gryffindor'), ('Sally-Anne Perks', 'Hogwarts - Student'), ('Peter Pettigrew', 'Hogwarts - Gryffindor'), ('Phineas Fletcher', 'Unknown'), ('Pickett', 'Unknown'), ('Piers Polkiss', 'Unknown'), ('Pinky', 'Unknown'), ('platform guard', 'Unknown'), ('Samuel Plunkett', 'Unknown'), ('Poliakoff', 'Durmstrang - Student'), ('Pomona Sprout', 'Hogwarts - Staff\\\\Hogwarts - Hufflepuff'), ('Poppy Pomfrey', 'Hogwarts - Staff'), ('Tina Goldstein', 'Ilvermorny - Thunderbird'), ('Henry \"Harry\" Potter', 'Unknown'), ('Prendergast', 'Hogwarts - Staff'), ('Pringle', 'Unknown'), ('Mrs. Prod', 'Unknown'), ('Quirinus Quirrell', 'Hogwarts - Ravenclaw'), ('Professor Vector', 'Hogwarts - Staff'), ('Prudence', 'Unknown'), ('Samuel G. Quahog', 'Unknown'), ('Queenie Greengrass', 'Hogwarts - Slytherin'), ('Quentin Trimble', 'Unknown'), ('Quintius Umfraville', 'Unknown'), ('Rabastan Lestrange', 'Hogwarts - Slytherin'), ('Raczidian', 'Unknown'), ('Radulf', 'Unknown'), ('Ragnok the Pigeon-Toed', 'Unknown'), ('Ralston Potter', 'Unknown'), ('Randolph Spudmore', 'Unknown'), ('Xavier Rastrick', 'Unknown'), ('Rowena Ravenclaw', 'Hogwarts - Staff'), ('Receptionist', 'Unknown'), ('Regulus Black (1906)', 'Unknown'), ('Tom Marvolo Riddle', 'Hogwarts - Slytherin'), ('Rionach Steward', 'Unknown'), ('Rita Skeeter', 'Unknown'), ('Robert Hilliard', 'Unknown'), ('Mrs. Roberts', 'Unknown'), ('two Roberts children', 'Unknown'), ('Rodent', 'Unknown'), ('Rodolphus Lestrange', 'Hogwarts - Slytherin'), ('Romilda Vane', 'Hogwarts - Gryffindor'), ('Ron Weasley', 'Hogwarts - Gryffindor'), ('Roonil Wazlib', 'Unknown'), ('Rose Zeller', 'Unknown'), ('Thorfinn Rowle', 'Unknown'), ('Roxanne Weasley', 'Unknown'), ('Rubeus Hagrid', 'Hogwarts - Staff\\\\Hogwarts - Gryffindor'), ('Rudolph Spielman', 'Unknown'), ('Runcorn', 'Unknown'), ('Rutherford Poke', 'Unknown'), ('Ryuichi Yamaguchi', 'Mahoutokouro'), ('Sally Smith', 'Hogwarts - Student'), ('Samson Wiblin', 'Unknown'), ('Selina Sapworthy', 'Unknown'), ('Sayre Family', 'Unknown'), ('Scabior', 'Unknown'), ('Scarpin', 'Unknown'), ('Selwyn', 'Unknown'), ('Seraphina Picquery', 'Ilvermorny - Horned Serpent'), ('Shikoba Wolfe', 'Unknown'), ('Shintaro Shingo', 'Mahoutokouro'), ('Tony Silva', 'Unknown'), ('Sir Cadogan', 'Hogwarts - Gryffindor'), ('Sirius Black (1845)', 'Unknown'), ('Sir Luckless', 'Unknown'), ('Mrs. Skowers', 'Unknown'), ('Salazar Slytherin', 'Hogwarts - Staff'), ('Zacharias Smith', 'Hogwarts - Hufflepuff'), ('Severus Snape', 'Hogwarts - Staff\\\\Hogwarts - Slytherin'), ('Snatchers', 'Unknown'), ('Snowy', 'Unknown'), ('Sorting Hat', 'Hogwarts - Gryffindor'), ('Able Spudmore', 'Unknown'), ('Stebbins', 'Hogwarts - Hufflepuff'), ('Stephen Cornfoot', 'Hogwarts - Ravenclaw'), ('Stubby Boardman', 'Unknown'), ('Sturgis Podmore', 'Unknown'), ('Su Li', 'Hogwarts - Ravenclaw'), ('Mr. Summers', 'Unknown'), ('Sybill Trelawney', 'Hogwarts - Staff'), ('Syna Hyslop', 'Unknown'), ('Ted', 'Unknown'), ('Terence Higgs', 'Unknown'), ('Terry Boot', 'Hogwarts - Ravenclaw'), ('Theophilus Abbott', 'Unknown'), ('Mr. and Mrs. Thomas', 'Unknown'), ('Thaddeus Thurkell', 'Unknown'), ('Tiberius', 'Unknown'), ('Tilly Toke', 'Unknown'), ('title', 'Unknown'), ('Todoroki', 'Mahoutokouro'), ('Tom (Bowtruckle)', 'Unknown'), ('Tilden Toots', 'Unknown'), ('Travers', 'Unknown'), ('Trevor', 'Unknown'), ('Trocar', 'Hogwarts - Staff'), ('Tuft Family', 'Unknown'), ('twenty Ministry wizards', 'Unknown'), ('Wilkie Twycross', 'Unknown'), ('Ug the Unreliable', 'Unknown'), ('Uncle Bilius', 'Unknown'), ('Muggle tramp', 'Unknown'), ('unnamed witch in Bath', 'Unknown'), ('Uric the Oddball', 'Hogwarts - Ravenclaw'), ('Urquhart', 'Hogwarts - Slytherin'), ('Vaisey', 'Hogwarts - Slytherin'), ('vampire now unable to eat anything but lettuce', 'Unknown'), ('Verity', 'Unknown'), ('Veronica Smethley', 'Unknown'), ('Vicky Frobisher', 'Hogwarts - Gryffindor'), ('Victoire Weasley', 'Hogwarts - Student'), ('Vincent Duc de Trefle-Picques', 'Beauxbatons - Student'), ('Vincent Crabbe', 'Hogwarts - Slytherin'), ('Violet', 'Unknown'), ('Violetta Bulstrode', 'Unknown'), ('Volkov', 'Unknown'), ('Wailing Widow', 'Unknown'), ('Yoshi Wakahisa', 'Mahoutokouro'), ('Walburga Black', 'Hogwarts - Slytherin'), ('Warrington', 'Hogwarts - Slytherin'), ('Wayne Hopkins', 'Unknown'), (\"Webster Boot's wife\", 'Unknown'), ('Wendell Wilkins', 'Unknown'), ('Wilhelm Wigworthy', 'Unknown'), ('Wilfred the Wistful', 'Unknown'), ('Wilkes', 'Unknown'), ('William Sayre', 'Unknown'), ('Willy Widdershins', 'Unknown'), ('Witherwings', 'Unknown'), ('Wladyslaw Wolfke', 'Unknown'), ('World Cup Mediwizards', 'Unknown'), ('Wormtail', 'Hogwarts - Gryffindor'), ('Xenophilius Lovegood', 'Unknown'), ('Yann Fredericks', 'Hogwarts - Student'), ('Young Red-Haired Witch', 'Unknown'), ('Yvonne', 'Unknown'), ('Zograf', 'Unknown')]\n"
          ]
        }
      ]
    },
    {
      "cell_type": "code",
      "source": [
        "g.add_edges_from(edge_list)\n",
        "\n",
        "print(nx.info(g))\n",
        "nx.write_gml(g, \"harry_potter.gml\")"
      ],
      "metadata": {
        "colab": {
          "base_uri": "https://localhost:8080/"
        },
        "id": "mnz6cwWuilZ9",
        "outputId": "2b2403f0-e94d-4277-dddb-c9dd34cfd46b"
      },
      "execution_count": 10,
      "outputs": [
        {
          "output_type": "stream",
          "name": "stdout",
          "text": [
            "Graph with 728 nodes and 706 edges\n"
          ]
        }
      ]
    },
    {
      "cell_type": "markdown",
      "source": [
        "![harry_potter.gml.png](data:image/png;base64,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)"
      ],
      "metadata": {
        "id": "OrddEMfijQ2-"
      }
    },
    {
      "cell_type": "code",
      "source": [
        "# second book: \n",
        "!kaggle datasets list -s \"game of thrones\""
      ],
      "metadata": {
        "colab": {
          "base_uri": "https://localhost:8080/"
        },
        "id": "72lGkx6xkrMM",
        "outputId": "ddade66b-362f-487f-b326-dc9c6be231d1"
      },
      "execution_count": 13,
      "outputs": [
        {
          "output_type": "stream",
          "name": "stdout",
          "text": [
            "Warning: Looks like you're using an outdated API Version, please consider updating (server 1.5.12 / client 1.5.4)\n",
            "ref                                                            title                                              size  lastUpdated          downloadCount  \n",
            "-------------------------------------------------------------  ------------------------------------------------  -----  -------------------  -------------  \n",
            "mylesoneill/game-of-thrones                                    Game of Thrones                                    66KB  2016-05-20 01:32:31          34795  \n",
            "gunnvant/game-of-thrones-srt                                   Game of Thrones Subtitles                         739KB  2018-02-20 10:22:36          44134  \n",
            "rezaghari/game-of-thrones                                      Game of Thrones                                    25KB  2020-05-02 16:34:34            300  \n",
            "bakar31/game-of-thronesgot                                     Game of Thrones                                     2KB  2021-06-13 11:48:28            233  \n",
            "prashant111/game-of-thrones                                    Game of Thrones                                    68KB  2020-03-13 05:57:38            196  \n",
            "albenft/game-of-thrones-script-all-seasons                     Game of Thrones Script All Seasons                691KB  2019-11-19 14:09:59           1178  \n",
            "dasbootstrapping/game-of-thrones-episode-data                  Game of Thrones Episode Data                        8KB  2020-01-03 21:33:24           1160  \n",
            "anderfj/game-of-thrones-series-scripts-breakdowns              Game of Thrones: series scripts breakdowns        701KB  2019-06-03 15:04:07           1020  \n",
            "monogenea/game-of-thrones-twitter                              Game of Thrones S8 (Twitter)                      194MB  2019-06-13 17:41:58            816  \n",
            "olistbr/brazilian-ecommerce                                    Brazilian E-Commerce Public Dataset by Olist       43MB  2021-10-01 19:08:27         100551  \n",
            "abhijithchandradas/game-of-thrones-imdb-dataset                Game of Thrones IMDB dataset                        7KB  2021-05-23 22:08:40            214  \n",
            "khulasasndh/game-of-thrones-books                              Game Of Thrones books                               4MB  2019-02-11 05:45:04            424  \n",
            "dalmacyali1905/game-of-thrones-classification-decision-tree    Game of Thrones - Classification (Decision) Tree   47KB  2021-06-05 00:26:11            164  \n",
            "muhammedfathi/game-of-thrones-book-files                       Game of thrones book files                          4MB  2018-10-14 12:40:38            618  \n",
            "justinross/game-of-thrones-episode-ratings                     Game of Thrones Episode Ratings                    848B  2020-01-22 04:32:49             85  \n",
            "aronighosh/game-of-thrones-character-recognition               Game of Thrones                                     3MB  2020-07-11 09:01:08             16  \n",
            "furkanerhan/game-of-thrones-character-basics                   Game of Thrones Character Basics                    1KB  2021-02-25 09:27:02             22  \n",
            "nikhilkhetan/game-of-thrones                                   Game of Thrones (Reddit)                          339KB  2021-09-13 11:08:28             16  \n",
            "prateekarma/game-of-thrones-books-for-nlp                      Game Of Thrones Books for NLP                       4MB  2020-05-22 05:36:04             47  \n",
            "kushagrakinjawadekar/game-of-thrones-character-classification  Game of thrones character classification          115MB  2020-09-12 17:26:57             28  \n"
          ]
        }
      ]
    },
    {
      "cell_type": "code",
      "source": [
        "!mkdir ./datasets\n",
        "!mkdir ./datasets/got\n",
        "\n",
        "!kaggle datasets download mylesoneill/game-of-thrones -p ./datasets/got\n",
        "!unzip ./datasets/got/*.zip  -d ./datasets/got/"
      ],
      "metadata": {
        "colab": {
          "base_uri": "https://localhost:8080/"
        },
        "id": "GzRpdE0ml5e-",
        "outputId": "9e575131-1e84-460b-80dc-8f564349cda7"
      },
      "execution_count": 14,
      "outputs": [
        {
          "output_type": "stream",
          "name": "stdout",
          "text": [
            "mkdir: cannot create directory ‘./datasets’: File exists\n",
            "Downloading game-of-thrones.zip to ./datasets/got\n",
            "  0% 0.00/66.1k [00:00<?, ?B/s]\n",
            "100% 66.1k/66.1k [00:00<00:00, 4.55MB/s]\n",
            "Archive:  ./datasets/got/game-of-thrones.zip\n",
            "  inflating: ./datasets/got/battles.csv  \n",
            "  inflating: ./datasets/got/character-deaths.csv  \n",
            "  inflating: ./datasets/got/character-predictions.csv  \n"
          ]
        }
      ]
    },
    {
      "cell_type": "code",
      "source": [
        "import pandas as pd\n",
        "CSV_PATH = \"/content/datasets/got/character-deaths.csv\"\n",
        "df = pd.read_csv(CSV_PATH)\n",
        "df"
      ],
      "metadata": {
        "colab": {
          "base_uri": "https://localhost:8080/",
          "height": 492
        },
        "id": "CwyykwJtmKHd",
        "outputId": "82822586-cabf-46af-fbc4-01760210ea52"
      },
      "execution_count": 15,
      "outputs": [
        {
          "output_type": "execute_result",
          "data": {
            "text/html": [
              "<div>\n",
              "<style scoped>\n",
              "    .dataframe tbody tr th:only-of-type {\n",
              "        vertical-align: middle;\n",
              "    }\n",
              "\n",
              "    .dataframe tbody tr th {\n",
              "        vertical-align: top;\n",
              "    }\n",
              "\n",
              "    .dataframe thead th {\n",
              "        text-align: right;\n",
              "    }\n",
              "</style>\n",
              "<table border=\"1\" class=\"dataframe\">\n",
              "  <thead>\n",
              "    <tr style=\"text-align: right;\">\n",
              "      <th></th>\n",
              "      <th>Name</th>\n",
              "      <th>Allegiances</th>\n",
              "      <th>Death Year</th>\n",
              "      <th>Book of Death</th>\n",
              "      <th>Death Chapter</th>\n",
              "      <th>Book Intro Chapter</th>\n",
              "      <th>Gender</th>\n",
              "      <th>Nobility</th>\n",
              "      <th>GoT</th>\n",
              "      <th>CoK</th>\n",
              "      <th>SoS</th>\n",
              "      <th>FfC</th>\n",
              "      <th>DwD</th>\n",
              "    </tr>\n",
              "  </thead>\n",
              "  <tbody>\n",
              "    <tr>\n",
              "      <th>0</th>\n",
              "      <td>Addam Marbrand</td>\n",
              "      <td>Lannister</td>\n",
              "      <td>NaN</td>\n",
              "      <td>NaN</td>\n",
              "      <td>NaN</td>\n",
              "      <td>56.0</td>\n",
              "      <td>1</td>\n",
              "      <td>1</td>\n",
              "      <td>1</td>\n",
              "      <td>1</td>\n",
              "      <td>1</td>\n",
              "      <td>1</td>\n",
              "      <td>0</td>\n",
              "    </tr>\n",
              "    <tr>\n",
              "      <th>1</th>\n",
              "      <td>Aegon Frey (Jinglebell)</td>\n",
              "      <td>None</td>\n",
              "      <td>299.0</td>\n",
              "      <td>3.0</td>\n",
              "      <td>51.0</td>\n",
              "      <td>49.0</td>\n",
              "      <td>1</td>\n",
              "      <td>1</td>\n",
              "      <td>0</td>\n",
              "      <td>0</td>\n",
              "      <td>1</td>\n",
              "      <td>0</td>\n",
              "      <td>0</td>\n",
              "    </tr>\n",
              "    <tr>\n",
              "      <th>2</th>\n",
              "      <td>Aegon Targaryen</td>\n",
              "      <td>House Targaryen</td>\n",
              "      <td>NaN</td>\n",
              "      <td>NaN</td>\n",
              "      <td>NaN</td>\n",
              "      <td>5.0</td>\n",
              "      <td>1</td>\n",
              "      <td>1</td>\n",
              "      <td>0</td>\n",
              "      <td>0</td>\n",
              "      <td>0</td>\n",
              "      <td>0</td>\n",
              "      <td>1</td>\n",
              "    </tr>\n",
              "    <tr>\n",
              "      <th>3</th>\n",
              "      <td>Adrack Humble</td>\n",
              "      <td>House Greyjoy</td>\n",
              "      <td>300.0</td>\n",
              "      <td>5.0</td>\n",
              "      <td>20.0</td>\n",
              "      <td>20.0</td>\n",
              "      <td>1</td>\n",
              "      <td>1</td>\n",
              "      <td>0</td>\n",
              "      <td>0</td>\n",
              "      <td>0</td>\n",
              "      <td>0</td>\n",
              "      <td>1</td>\n",
              "    </tr>\n",
              "    <tr>\n",
              "      <th>4</th>\n",
              "      <td>Aemon Costayne</td>\n",
              "      <td>Lannister</td>\n",
              "      <td>NaN</td>\n",
              "      <td>NaN</td>\n",
              "      <td>NaN</td>\n",
              "      <td>NaN</td>\n",
              "      <td>1</td>\n",
              "      <td>1</td>\n",
              "      <td>0</td>\n",
              "      <td>0</td>\n",
              "      <td>1</td>\n",
              "      <td>0</td>\n",
              "      <td>0</td>\n",
              "    </tr>\n",
              "    <tr>\n",
              "      <th>...</th>\n",
              "      <td>...</td>\n",
              "      <td>...</td>\n",
              "      <td>...</td>\n",
              "      <td>...</td>\n",
              "      <td>...</td>\n",
              "      <td>...</td>\n",
              "      <td>...</td>\n",
              "      <td>...</td>\n",
              "      <td>...</td>\n",
              "      <td>...</td>\n",
              "      <td>...</td>\n",
              "      <td>...</td>\n",
              "      <td>...</td>\n",
              "    </tr>\n",
              "    <tr>\n",
              "      <th>912</th>\n",
              "      <td>Zollo</td>\n",
              "      <td>None</td>\n",
              "      <td>NaN</td>\n",
              "      <td>NaN</td>\n",
              "      <td>NaN</td>\n",
              "      <td>21.0</td>\n",
              "      <td>1</td>\n",
              "      <td>0</td>\n",
              "      <td>0</td>\n",
              "      <td>0</td>\n",
              "      <td>1</td>\n",
              "      <td>0</td>\n",
              "      <td>0</td>\n",
              "    </tr>\n",
              "    <tr>\n",
              "      <th>913</th>\n",
              "      <td>Yurkhaz zo Yunzak</td>\n",
              "      <td>None</td>\n",
              "      <td>300.0</td>\n",
              "      <td>5.0</td>\n",
              "      <td>59.0</td>\n",
              "      <td>47.0</td>\n",
              "      <td>1</td>\n",
              "      <td>0</td>\n",
              "      <td>0</td>\n",
              "      <td>0</td>\n",
              "      <td>0</td>\n",
              "      <td>0</td>\n",
              "      <td>1</td>\n",
              "    </tr>\n",
              "    <tr>\n",
              "      <th>914</th>\n",
              "      <td>Yezzan Zo Qaggaz</td>\n",
              "      <td>None</td>\n",
              "      <td>300.0</td>\n",
              "      <td>5.0</td>\n",
              "      <td>57.0</td>\n",
              "      <td>25.0</td>\n",
              "      <td>1</td>\n",
              "      <td>1</td>\n",
              "      <td>0</td>\n",
              "      <td>0</td>\n",
              "      <td>0</td>\n",
              "      <td>0</td>\n",
              "      <td>1</td>\n",
              "    </tr>\n",
              "    <tr>\n",
              "      <th>915</th>\n",
              "      <td>Torwynd the Tame</td>\n",
              "      <td>Wildling</td>\n",
              "      <td>300.0</td>\n",
              "      <td>5.0</td>\n",
              "      <td>73.0</td>\n",
              "      <td>73.0</td>\n",
              "      <td>1</td>\n",
              "      <td>0</td>\n",
              "      <td>0</td>\n",
              "      <td>0</td>\n",
              "      <td>1</td>\n",
              "      <td>0</td>\n",
              "      <td>0</td>\n",
              "    </tr>\n",
              "    <tr>\n",
              "      <th>916</th>\n",
              "      <td>Talbert Serry</td>\n",
              "      <td>Tyrell</td>\n",
              "      <td>300.0</td>\n",
              "      <td>4.0</td>\n",
              "      <td>29.0</td>\n",
              "      <td>29.0</td>\n",
              "      <td>1</td>\n",
              "      <td>1</td>\n",
              "      <td>0</td>\n",
              "      <td>0</td>\n",
              "      <td>0</td>\n",
              "      <td>1</td>\n",
              "      <td>0</td>\n",
              "    </tr>\n",
              "  </tbody>\n",
              "</table>\n",
              "<p>917 rows × 13 columns</p>\n",
              "</div>"
            ],
            "text/plain": [
              "                        Name      Allegiances  Death Year  ...  SoS  FfC  DwD\n",
              "0             Addam Marbrand        Lannister         NaN  ...    1    1    0\n",
              "1    Aegon Frey (Jinglebell)             None       299.0  ...    1    0    0\n",
              "2            Aegon Targaryen  House Targaryen         NaN  ...    0    0    1\n",
              "3              Adrack Humble    House Greyjoy       300.0  ...    0    0    1\n",
              "4             Aemon Costayne        Lannister         NaN  ...    1    0    0\n",
              "..                       ...              ...         ...  ...  ...  ...  ...\n",
              "912                    Zollo             None         NaN  ...    1    0    0\n",
              "913        Yurkhaz zo Yunzak             None       300.0  ...    0    0    1\n",
              "914         Yezzan Zo Qaggaz             None       300.0  ...    0    0    1\n",
              "915         Torwynd the Tame         Wildling       300.0  ...    1    0    0\n",
              "916            Talbert Serry           Tyrell       300.0  ...    0    1    0\n",
              "\n",
              "[917 rows x 13 columns]"
            ]
          },
          "metadata": {},
          "execution_count": 15
        }
      ]
    },
    {
      "cell_type": "code",
      "source": [
        "l_name = list(df[\"Name\"])\n",
        "l_school = list(df[\"Allegiances\"])"
      ],
      "metadata": {
        "id": "ZGlnY1iJmT5l"
      },
      "execution_count": 17,
      "outputs": []
    },
    {
      "cell_type": "code",
      "source": [
        "g = nx.Graph()\n",
        "edge_list = list(zip(l_name,l_school))\n",
        "print(len(edge_list),edge_list)"
      ],
      "metadata": {
        "colab": {
          "base_uri": "https://localhost:8080/"
        },
        "id": "Czm0fvwWmfXN",
        "outputId": "716b78c9-ee4e-4b91-8bc6-9eaa70441698"
      },
      "execution_count": 18,
      "outputs": [
        {
          "output_type": "stream",
          "name": "stdout",
          "text": [
            "917 [('Addam Marbrand', 'Lannister'), ('Aegon Frey (Jinglebell)', 'None'), ('Aegon Targaryen', 'House Targaryen'), ('Adrack Humble', 'House Greyjoy'), ('Aemon Costayne', 'Lannister'), ('Aemon Estermont', 'Baratheon'), ('Aemon Targaryen (son of Maekar I)', \"Night's Watch\"), ('Aenys Frey', 'None'), ('Aeron Greyjoy', 'House Greyjoy'), ('Aethan', \"Night's Watch\"), ('Aggar', 'House Greyjoy'), ('Aggo', 'House Targaryen'), ('Alan of Rosby', \"Night's Watch\"), ('Alayaya', 'None'), ('Albar Royce', 'Arryn'), ('Albett', \"Night's Watch\"), ('Alebelly', 'House Stark'), ('Alerie Hightower', 'House Tyrell'), ('Alesander Staedmon', 'Baratheon'), ('Alester Florent', 'Baratheon'), ('Alia of Braavos', 'None'), ('Alla Tyrell', 'House Tyrell'), ('Allard Seaworth', 'Baratheon'), ('Alliser Thorne', \"Night's Watch\"), ('Alyn', 'House Stark'), ('Alyn Ambrose', 'Tyrell'), ('Alyn Estermont', 'Baratheon'), ('Alyn Stackspear', 'Lannister'), ('Alys Karstark', 'Stark'), ('Alysane Mormont', 'Stark'), ('Alyx Frey', 'None'), ('Ambrode', 'Greyjoy'), ('Amory Lorch', 'House Lannister'), ('Andar Royce', 'Arryn'), ('Andrew Estermont', 'Baratheon'), ('Andrey Dalt', 'Martell'), ('Andrik', 'Greyjoy'), ('Anguy', 'None'), ('Antario Jast', 'Lannister'), ('Anvil Ryn', 'None'), ('Anya Waynwood', 'Arryn'), ('Archibald Yronwood', 'Martell'), ('Ardrian Celtigar', 'Baratheon'), ('Areo Hotah', 'House Martell'), ('Arianne Martell', 'House Martell'), ('Arneld', 'Lannister'), ('Arnolf Karstark', 'Stark'), ('Aron Santagar', 'Lannister'), ('Arron', \"Night's Watch\"), ('Arron Qorgyle', 'Martell'), ('Arryk (Guard)', 'House Tyrell'), ('Arson', 'Wildling'), ('Arthor Karstark', 'Stark'), ('Arwyn Frey', 'None'), ('Arwyn Oakheart', 'Tyrell'), ('Arya Stark', 'Stark'), ('Arys Oakheart', 'Lannister'), ('Asha Greyjoy', 'House Greyjoy'), ('Aurane Waters', 'Lannister'), ('Axell Florent', 'Baratheon'), ('Azzak', 'None'), ('Ballabar', 'Lannister'), ('Balon Swann', 'Lannister'), ('Bannen', \"Night's Watch\"), ('Barbrey Dustin', 'Stark'), ('Barra', 'None'), ('Barristan Selmy', 'Targaryen'), ('Barsena', 'None'), ('Barth (brewer)', 'House Stark'), ('Bass', \"Night's Watch\"), ('Bayard Norcross', 'Tyrell'), ('Bearded Ben', \"Night's Watch\"), ('Becca', 'House Arryn'), ('Becca the Baker', 'None'), ('Bedwyck', \"Night's Watch\"), ('Belaquo', 'None'), ('Bella', 'None'), ('Bellegere Otherys (courtesan)', 'None'), ('Bellonara Otherys', 'None'), ('Belwas', 'House Targaryen'), ('Ben', 'None'), ('Ben Bones', 'None'), ('Ben Plumm', 'None'), ('Benedar Belmore', 'Arryn'), ('Benfred Tallhart', 'Stark'), ('Benfrey Frey', 'None'), ('Benjen Stark', \"Night's Watch\"), ('Bennet', 'None'), ('Beric Dondarrion', 'None'), ('Bessa (Winterfell)', 'Stark'), ('Beth Cassel', 'Stark'), ('Bhakaz zo Loraq', 'None'), ('Big Boil', 'Wildling'), ('Big Walder Frey', 'None'), ('Biter', 'None'), ('Black Bernarr', \"Night's Watch\"), ('Black Walder Frey', 'None'), ('Blane', \"Night's Watch\"), ('Bloodbeard', 'None'), ('Blue Bard', 'House Tyrell'), ('Bonifer Hasty', 'Lannister'), ('Borcas', \"Night's Watch\"), ('Boremund Harlaw', 'Greyjoy'), ('Boros Blount', 'Baratheon'), ('Borroq', 'Wildling'), ('Bowen Marsh', \"Night's Watch\"), ('Bran Stark', 'House Stark'), ('Brandon Norrey', 'Stark'), ('Brenett', 'None'), ('Brienne of Tarth', 'Stark'), ('Bronn', 'Lannister'), ('Brown Bernarr', \"Night's Watch\"), ('Brusco', 'None'), ('Bryan Fossoway', 'Baratheon'), ('Bryce Caron', 'Baratheon'), ('Bryen', 'None'), ('Bryen Farring', 'Baratheon'), ('Brynden Rivers', 'House Targaryen'), ('Brynden Tully', 'House Tully'), ('Burton Crakehall', 'Lannister'), ('Butterbumps', 'House Tyrell'), ('Byam Flint', \"Night's Watch\"), ('Byan Votyris', 'None'), ('Byron', 'Arryn'), ('Cadwyn', 'House Lannister'), ('Caleotte', 'House Martell'), ('Catelyn Tully', 'House Stark'), ('Cayn', 'House Stark'), ('Cellador', \"Night's Watch\"), ('Cersei Frey', 'None'), ('Cersei Lannister', 'House Lannister'), ('Chataya', 'None'), ('Chayle', 'Stark'), ('Chella', 'Lannister'), ('Chett', \"Night's Watch\"), ('Chiggen', 'Lannister'), ('Chiswyck', 'None'), ('Clayton Suggs', 'Baratheon'), ('Clement Piper', 'Tully'), ('Cleos Frey', 'None'), ('Cley Cerwyn', 'Stark'), ('Clubfoot Karl', \"Night's Watch\"), ('Clydas', \"Night's Watch\"), ('Cohollo', 'None'), ('Coldhands', 'None'), ('Colemon', 'House Arryn'), ('Colen of Greenpools', 'House Baratheon'), ('Conn', 'Lannister'), ('Conwy', \"Night's Watch\"), ('Corliss Penny', 'Baratheon'), ('Cortnay Penrose', 'Baratheon'), ('Cotter Pyke', \"Night's Watch\"), ('Cragorn', 'House Greyjoy'), ('Craster', 'None'), ('Cregan Karstark', 'Stark'), ('Creighton Longbough', 'None'), ('Cressen', 'Baratheon'), ('Cuger', \"Night's Watch\"), ('Cutjack', 'None'), ('Daario Naharis', 'Targaryen'), ('Dacey Mormont', 'Stark'), ('Daemon Sand', 'Martell'), ('Daenerys Targaryen', 'House Targaryen'), ('Dagon Codd', 'Greyjoy'), ('Dagmer', 'House Greyjoy'), ('Dalbridge', \"Night's Watch\"), ('Dale Seaworth', 'Baratheon'), ('Dalla', 'Wildling'), ('Dalla (Dragonstone)', 'Baratheon'), ('Damon Dance-for-Me', 'None'), ('Damon Vypren', 'None'), ('Dancy', 'None'), ('Danwell Frey', 'None'), ('Dareon', \"Night's Watch\"), ('Daryn Hornwood', 'Stark'), ('Daven Lannister', 'House Lannister'), ('Davos Seaworth', 'Baratheon'), ('Del', 'Wildling'), ('Delp', 'House Tully'), ('Denys Drumm', 'Greyjoy'), ('Denys Mallister', \"Night's Watch\"), ('Dermot', 'Baratheon'), ('Desmond', 'House Stark'), ('Desmond Grell', 'Tully'), ('Devan Seaworth', 'Baratheon'), ('Deziel Dalt', 'Martell'), ('Dhazzar', 'None'), ('Dick Crabb', 'None'), ('Dick Follard', \"Night's Watch\"), ('Dickon Manwoody', 'Martell'), ('Dirk', \"Night's Watch\"), ('Dobber', 'None'), ('Donal Noye', \"Night's Watch\"), ('Donella Hornwood', 'Stark'), ('Donnel Drumm', 'Greyjoy'), ('Donnel Haigh', 'None'), ('Donnel Hill', \"Night's Watch\"), ('Donnel Locke', 'Stark'), ('Donnel Waynwood', 'Tully'), ('Donnis', 'House Stark'), ('Dontos Hollard', 'None'), ('Donyse', 'None'), ('Doran Martell', 'Martell'), ('Doreah', 'House Targaryen'), ('Dornish Dilly', \"Night's Watch\"), ('Draqaz', 'None'), ('Drennan', 'House Greyjoy'), ('Drogo', 'Targaryen'), ('Dudley', 'Stark'), ('Dunsen', 'None'), ('Dunstan Drumm', 'Greyjoy'), ('Duram Bar Emmon', 'Baratheon'), ('Dykk Harlaw', 'Greyjoy'), ('Dywen', \"Night's Watch\"), ('Easy', \"Night's Watch\"), ('Ebben', \"Night's Watch\"), ('Eddard Karstark', 'Stark'), ('Eddard Stark', 'House Stark'), ('Eddison Tollett', \"Night's Watch\"), ('Edmure Tully', 'House Tully'), ('Edric Dayne', 'None'), ('Edric Storm', 'House Baratheon'), ('Edwyn Frey', 'None'), ('Eggon', 'None'), ('Elder Brother', 'None'), ('Eldred Codd', 'Greyjoy'), ('Eleyna Westerling', 'Stark'), ('Elinor Tyrell', 'Tyrell'), ('Ellaria Sand', 'Martell'), ('Elmar Frey', 'None'), ('Elyas Willum', 'Baratheon'), ('Emmon Cuy', 'Baratheon'), ('Emmon Frey', 'Lannister'), ('Emmond', 'Greyjoy'), ('Emrick', \"Night's Watch\"), ('Endehar', 'Greyjoy'), ('Elwood', 'House Tully'), ('Endrew Tarth', \"Night's Watch\"), ('Enger', 'House Tully'), ('Eon Hunter', 'Arryn'), ('Erik Ironmaker', 'Greyjoy'), ('Ermesande Hayford', 'None'), ('Eroeh', 'Targaryen'), ('Erreck', 'None'), ('Erryk (Guard)', 'House Tyrell'), ('Esgred', 'Greyjoy'), ('Ezzara', 'Targaryen'), ('Falia Flowers', 'Greyjoy'), ('Falyse Stokeworth', 'Lannister'), ('Farlen', 'House Stark'), ('Fat Walda Frey', 'None'), ('Flement Brax', 'Lannister'), ('Fletcher Will', 'None'), ('Fogo', 'None'), ('Forley Prester', 'Lannister'), ('Fornio', \"Night's Watch\"), ('Frenken', 'Lannister'), ('Frenya', 'Wildling'), ('Frynne', 'Martell'), ('Gage', 'House Stark'), ('Galazza Galare', 'None'), ('Galbart Glover', 'Stark'), ('Gared', \"Night's Watch\"), ('Garin (Orphan)', 'Martell'), ('Gariss', 'House Stark'), ('Garlan Tyrell', 'House Tyrell'), ('Garrett Paege', 'Lannister'), ('Garse Goodbrook', 'None'), ('Garth Greyfeather', \"Night's Watch\"), ('Garth of Greenaway', \"Night's Watch\"), ('Garth of Oldtown', \"Night's Watch\"), ('Gawen Westerling', 'Stark'), ('Gelmarr', 'House Greyjoy'), ('Gendry', 'None'), ('Genna Lannister', 'Lannister'), ('Gerald Gower', 'Baratheon'), ('Gerold Dayne', 'Martell'), ('Gerren', 'None'), ('Gerris Drinkwater', 'Martell'), ('Gevin Harlaw', 'Greyjoy'), ('Ghael', 'None'), ('Ghost of High Heart', 'None'), ('Gillam', 'None'), ('Gilly', 'Wildling'), ('Gilwood Hunter', 'Arryn'), ('Gladden Wylde', 'Stark'), ('Glendon Hewett', \"Night's Watch\"), ('Goady', \"Night's Watch\"), ('Godric Borrell', 'None'), ('Godry Farring', 'Baratheon'), ('Godwyn', 'House Lannister'), ('Goghor', 'None'), ('Gormond Goodbrother', 'Greyjoy'), ('Gorold Goodbrother', 'Greyjoy'), ('Gran Goodbrother', 'Greyjoy'), ('Grazdan', 'None'), ('Grazdan mo Eraz', 'None'), ('Grazdan mo Ullhor', 'None'), ('Grazdan zo Galare', 'None'), ('Grazdar zo Galare', 'None'), ('Gregor Clegane', 'Lannister'), ('Grenn', \"Night's Watch\"), ('Grey Worm', 'Targaryen'), ('Greydon Goodbrother', 'Greyjoy'), ('Grigg', 'Wildling'), ('Grisel', 'None'), ('Groleo', 'House Targaryen'), ('Grubbs', \"Night's Watch\"), ('Grunt', 'None'), ('Gueren', \"Night's Watch\"), ('Guncer Sunglass', 'Baratheon'), ('Guyard Morrigen', 'Baratheon'), ('Gwin Goodbrother', 'Greyjoy'), ('Gylbert Farwynd', 'Greyjoy'), ('Gyles Farwynd', 'Greyjoy'), ('Gyles Grafton', 'Arryn'), ('Gyles Rosby', 'Lannister'), ('Gynir', 'House Greyjoy'), ('Gysella Goodbrother', 'Greyjoy'), ('Haggo', 'None'), ('Hairy Hal', \"Night's Watch\"), ('Hake', \"Night's Watch\"), ('Halder', \"Night's Watch\"), ('Haldon', 'House Targaryen'), ('Hali', 'Wildling'), ('Hallis Mollen', 'Stark'), ('Hallyne', 'Lannister'), ('Halys Hornwood', 'Stark'), ('Hamish the Harper', 'None'), (\"Hareth (Mole's Town)\", \"Night's Watch\"), ('Harghaz', 'None'), ('Harma', 'Wildling'), ('Harmund Sharp', 'Greyjoy'), ('Harmune', \"Night's Watch\"), ('Harra', 'None'), ('Harrag Sharp', 'Greyjoy'), ('Harras Harlaw', 'Greyjoy'), ('Harwood Fell', 'House Baratheon'), ('Hazzea', 'None'), ('Harrion Karstark', 'Stark'), ('Harry Strickland', 'None'), ('Harwin', 'Stark'), ('Harwood Stout', 'Stark'), ('Harys Haigh', 'None'), ('Harys Swyft', 'Lannister'), ('Helman Tallhart', 'Stark'), ('Henly (Maester)', 'None'), ('Heward', 'House Stark'), ('High Sparrow', 'None'), ('Hobb', \"Night's Watch\"), ('Hobber Redwyne', 'Tyrell'), ('Hod', 'None'), ('Hodor', 'House Stark'), ('Holger', 'None'), ('Holly', 'Wildling'), ('Hop-Robin', \"Night's Watch\"), ('Horas Redwyne', 'Tyrell'), ('Horton Redfort', 'Arryn'), ('Hosteen Frey', 'None'), ('Hoster Tully', 'House Tully'), ('Hot Pie', 'None'), ('Hother Umber', 'Stark'), ('Howd Wanderer', 'Wildling'), ('Hubard Rambton', 'Baratheon'), ('Hugh', 'House Arryn'), ('Hugo Vance', 'Tully'), ('Hullen', 'House Stark'), ('Humfrey Swyft', 'Lannister'), ('Husband', 'None'), ('Hyle Hunt', 'None'), ('Iggo', 'None'), ('Illyrio Mopatis', 'House Targaryen'), ('Ilyn Payne', 'Lannister'), ('Imry Florent', 'Baratheon'), ('Iron Emmett', \"Night's Watch\"), ('Irri', 'House Targaryen'), ('Ithoke', 'None'), ('Jacelyn Bywater', 'Lannister'), ('Jack Bulwer', \"Night's Watch\"), ('Jack-Be-Lucky', 'None'), ('Jacks', 'House Stark'), ('Jaggot', 'None'), ('Jaime Lannister', 'Lannister'), ('Jalabhar Xho', 'None'), ('Janna Tyrell', 'Tyrell'), ('Janos Slynt', 'None'), (\"Jaqen H'ghar\", 'None'), ('Jared Frey', 'None'), ('Jaremy Rykker', \"Night's Watch\"), ('Jarl', 'Wildling'), ('Jarman Buckwell', \"Night's Watch\"), ('Jason Mallister', 'Stark'), ('Jate', 'House Lannister'), ('Jate Blackberry', 'House Baratheon'), ('Jeor Mormont', \"Night's Watch\"), ('Jeren', \"Night's Watch\"), ('Jeyne Poole', 'Stark'), ('Jeyne Westerling', 'Stark'), ('Jhaqo', 'None'), ('Jhezane', 'None'), ('Jhiqui', 'House Targaryen'), ('Jhogo', 'House Targaryen'), ('Jocelyn Swyft', 'Lannister'), ('Jodge', 'House Lannister'), ('Jojen Reed', 'Stark'), ('Jommy', 'House Baratheon'), ('Jon Bettley', 'Lannister'), ('Jon Connington', 'Targaryen'), ('Jon Fossoway', 'Baratheon'), ('Jon Snow', \"Night's Watch\"), ('Jon Umber (Greatjon)', 'Stark'), ('Joffrey Baratheon', 'House Lannister'), ('Jon Umber (Smalljon)', 'Stark'), ('Jonelle Cerwyn', 'Stark'), ('Jonos Bracken', 'Tully'), ('Jorah Mormont', 'Targaryen'), ('Jory Cassel', 'Stark'), ('Joseran', 'Greyjoy'), ('Joseth', 'House Stark'), ('Josmyn Peckledon', 'Lannister'), ('Joss', 'None'), ('Joss Stilwood', 'Lannister'), ('Josua Willum', 'Baratheon'), ('Jothos Slynt', 'Lannister'), ('Joyeuse Erenford', 'None'), ('Justin Massey', 'Baratheon'), ('Jyck', 'House Lannister'), ('Jynessa Blackmont', 'Martell'), ('Karyl Vance', 'Tully'), ('Kedge Whiteye', \"Night's Watch\"), ('Kella', 'None'), ('Kennos of Kayce', 'Lannister'), ('Ketter', \"Night's Watch\"), ('Kenned', 'House Greyjoy'), ('Kerwin', 'House Tyrell'), ('Kevan Lannister', 'House Lannister'), ('Kezmya', 'None'), ('Khorane Sathmantes', 'None'), ('Khrazz', 'None'), ('Kindly man', 'None'), ('Kojja Mo', 'None'), ('Koss', \"Night's Watch\"), ('Kraznys mo Nakloz', 'None'), ('Kromm', 'House Greyjoy'), ('Kurleket', 'None'), ('Kurz', \"Night's Watch\"), ('Kyle (Banners)', 'None'), ('Kyra', 'House Stark'), ('Lady of the Leaves', 'None'), ('Lambert Turnberry', 'Lannister'), ('Lamprey', 'Baratheon'), ('Lancel Lannister', 'Lannister'), ('Lanna (Happy Port)', 'None'), ('Lark', \"Night's Watch\"), ('Larra Blackmont', 'Martell'), ('Larraq', 'Targaryen'), ('Leathers', \"Night's Watch\"), ('Left Hand Lew', \"Night's Watch\"), ('Lem', 'None'), ('Lennocks', 'None'), ('Lenwood Tawney', 'Greyjoy'), ('Leo Lefford', 'Lannister'), ('Leo Tyrell', 'Tyrell'), ('Leobald Tallhart', 'Stark'), ('Leona Woolfield', 'Stark'), ('Leonette Fossoway', 'Tyrell'), ('Lew', 'House Stark'), ('Lewis Lanster', 'None'), ('Lewys Lydden', 'Lannister'), ('Lewys Piper', 'Lannister'), ('Lharys', 'Stark'), ('Little Walder Frey', 'None'), ('Lollys Stokeworth', 'Lannister'), ('Lommy', \"Night's Watch\"), ('Loras Tyrell', 'Tyrell'), ('Lorcas', 'None'), ('Lord of Bones', 'Wildling'), ('Lorent Caswell', 'Baratheon'), ('Lorren', 'Greyjoy'), ('Lothar Frey', 'None'), ('Lothor Brune', 'None'), ('Lucan', 'None'), ('Lucas Blackwood', 'Tully'), ('Lucas Codd', 'Greyjoy'), ('Lucias Vypren', 'None'), ('Luco Prestayn', 'None'), ('Luke of Longtown', \"Night's Watch\"), ('Luton', 'None'), ('Luwin', 'House Stark'), ('Lyle Crakehall', 'Lannister'), ('Lyman Darry', 'Tully'), ('Lymond Goodbrook', 'Tully'), ('Lymond Lychester', 'Tully'), ('Lyn Corbray', 'Arryn'), ('Lyonel', 'None'), ('Lysa Tully', 'House Arryn'), ('Lysono Maar', 'None'), ('Mace Tyrell', 'House Tyrell'), ('Mad Huntsman', 'None'), ('Maege Mormont', 'Stark'), ('Maerie (Goodwife)', 'None'), ('Maerie (Whore)', 'None'), ('Mag Mar Tun Doh Weg', 'Wildling'), ('Mago', 'None'), ('Mallador Locke', \"Night's Watch\"), ('Malliard', 'Lannister'), ('Mallor', 'House Lannister'), ('Mance Rayder', 'Wildling'), ('Mandon Moore', 'Baratheon'), ('Maric Seaworth', 'House Baratheon'), ('Marei', 'None'), ('Margaery Tyrell', 'House Tyrell'), ('Marillion', 'Arryn'), ('Maris', 'Wildling'), ('Marissa Frey', 'None'), ('Mariya Darry', 'None'), ('Mark Mullendore', 'Tully'), ('Marlon Manderly', 'Stark'), ('Maron Volmark', 'Greyjoy'), ('Marq Piper', 'Tully'), ('Martyn Rivers', 'None'), ('Marwyn', 'None'), ('Marwyn Belmore', 'Arryn'), ('Masha Heddle', 'Tully'), ('Maslyn', \"Night's Watch\"), ('Mathis Rowan', 'Lannister'), ('Mathos Mallarawan', 'None'), ('Matrice', 'Baratheon'), ('Matthos Seaworth', 'Baratheon'), ('Matthar', \"Night's Watch\"), ('Mawney', \"Night's Watch\"), ('Mebble', 'None'), ('Medger Cerwyn', 'Stark'), ('Meera Reed', 'Stark'), ('Megga Tyrell', 'House Tyrell'), ('Meha', 'Wildling'), ('Mela', 'House Arryn'), ('Meldred Merlyn', 'Greyjoy'), ('Meliana', 'Stark'), ('Melisandre', 'Baratheon'), ('Mellei', 'House Martell'), ('Melly', 'None'), ('Meredyth Crane', 'Tyrell'), ('Meribald', 'None'), ('Merlon Crakehall', 'Lannister'), ('Mero', 'None'), ('Merrett Frey', 'None'), ('Meryn Trant', 'Lannister'), ('Mezzara', 'None'), ('Mikken', 'House Stark'), ('Miklaz', 'None'), ('Mirri Maz Duur', 'None'), ('Missandei', 'House Targaryen'), ('Mohor', 'None'), ('Mollander', 'None'), ('Monford Velaryon', 'Baratheon'), ('Monster', 'Wildling'), ('Moon Boy', 'Baratheon'), ('Moqorro', 'Greyjoy'), ('Mord', 'House Arryn'), ('Mordane', 'House Stark'), ('Moreo Tumitis', 'None'), ('Morgarth', 'None'), ('Morna White Mask', 'Wildling'), ('Moro', 'None'), ('Morra', 'House Martell'), ('Morrec', 'House Lannister'), ('Morros Slynt', 'Lannister'), ('Mors Manwoody', 'Martell'), ('Mors Umber', 'Stark'), ('Morton Waynwood', 'Arryn'), ('Mudge (miller)', 'None'), ('Mully', \"Night's Watch\"), ('Munciter', 'Lannister'), ('Murch', \"Night's Watch\"), ('Murch (Winterfell)', 'House Stark'), ('Mossador', 'House Targaryen'), ('Murenmure', 'Greyjoy'), ('Muttering Bill', \"Night's Watch\"), ('Mya Stone', 'Arryn'), ('Mycah', 'Stark'), ('Myles', 'House Martell'), ('Myles Manwoody', 'Martell'), ('Myranda Royce', 'Arryn'), ('Myrcella Baratheon', 'Lannister'), ('Myria Jordayne', 'Martell'), ('Myrtle', 'Wildling'), ('Nage', 'None'), ('Myles', 'House Tully'), ('Nan', 'House Stark'), ('Narbert', 'None'), ('Nestor Royce', 'Arryn'), ('Nolla', 'None'), ('Norjen', 'Greyjoy'), ('Nurse', 'None'), ('Notch', 'None'), ('Nute', 'House Greyjoy'), ('Nymella Toland', 'Martell'), ('Nymeria Sand', 'House Martell'), ('Obara Sand', 'House Martell'), ('Oberyn Martell', 'House Martell'), ('Ogo', 'None'), ('Old Henly', \"Night's Watch\"), ('Olenna Redwyne', 'Tyrell'), ('Ollo Lophand', \"Night's Watch\"), ('Olyvar Frey', 'None'), ('Ondrew Locke', 'Stark'), ('Oppo', 'None'), ('Orell', 'Wildling'), ('Orphan Oss', \"Night's Watch\"), ('Orton Merryweather', 'Lannister'), ('Osfryd Kettleblack', 'Lannister'), ('Osha', 'House Stark'), ('Osmund Kettleblack', 'Lannister'), ('Osney Kettleblack', 'Lannister'), ('Ossy', 'Arryn'), ('Oswell Kettleblack', 'None'), ('Othell Yarwyck', \"Night's Watch\"), ('Ottyn Wythers', \"Night's Watch\"), ('Owen', \"Night's Watch\"), ('Owen Norrey', 'Tully'), ('Oznak zo Pahl', 'None'), ('Palla', 'House Stark'), ('Parmen Crane', 'Baratheon'), ('Patchface', 'Baratheon'), ('Pate (novice)', 'None'), ('Pate (Lancewood)', 'None'), (\"Pate (Night's Watch)\", \"Night's Watch\"), ('Pate (Old)', 'None'), (\"Patrek of King's Mountain\", 'Baratheon'), ('Patrek Mallister', 'Tully'), ('Paxter Redwyne', 'Tyrell'), ('Pello', 'None'), ('Penny', 'None'), ('Perros Blackmont', 'Martell'), ('Perwyn Frey', 'None'), ('Petyr Baelish', 'None'), ('Petyr Frey', 'None'), ('Philip Foote', 'Lannister'), ('Pia', 'None'), ('Podrick Payne', 'Lannister'), ('Polliver', 'None'), ('Pono', 'None'), ('Porridge', 'Baratheon'), ('Porther', 'House Stark'), ('Poul Pemford', 'House Tully'), ('Poxy Tym', 'House Stark'), ('Praed', 'None'), ('Prendahl na Ghezn', 'None'), ('Preston Greenfield', 'Baratheon'), ('Pyat Pree', 'None'), ('Pycelle', 'House Lannister'), ('Pyg', 'None'), ('Pylos', 'Baratheon'), ('Pypar', \"Night's Watch\"), ('Qarl Shepherd', 'Greyjoy'), ('Qarl the Maid', 'Greyjoy'), ('Qezza', 'None'), ('Qhorin Halfhand', \"Night's Watch\"), ('Qotho', 'None'), ('Quaithe', 'None'), ('Quaro', 'Targaryen'), ('Quellon Humble', 'Greyjoy'), ('Quent', 'House Stark'), ('Quenten Banefort', 'Lannister'), ('Quentyn Martell', 'Martell'), ('Quhuru Mo', 'None'), ('Qyburn', 'Lannister'), ('Quort', 'Wildling'), ('Qyle', \"Night's Watch\"), ('Rafford', 'None'), ('Ragnor Pyke', 'House Greyjoy'), ('Ragwyle', 'Wildling'), ('Rakharo', 'House Targaryen'), ('Ralf Kenning', 'Greyjoy'), ('Ralf Stonehouse', 'Greyjoy'), ('Ralf the Limper', 'Greyjoy'), ('Ramsay Snow', 'None'), ('Randa', 'None'), ('Randyll Tarly', 'Tyrell'), ('Rast', \"Night's Watch\"), ('Ravella Swann', 'Tully'), ('Raymar Royce', 'Arryn'), ('Raymun Darry', 'Targaryen'), ('Raymund Frey', 'None'), ('Raynald Westerling', 'Stark'), ('Red Alyn', \"Night's Watch\"), ('Red Rolfe', 'House Greyjoy'), ('Reek', 'None'), ('Renly Baratheon', 'House Baratheon'), ('Reysen', \"Night's Watch\"), ('Reznak mo Reznak', 'None'), ('Rhaegar Frey', 'None'), ('Rhogoro', 'None'), ('Ricasso', 'House Martell'), ('Richard Horpe', 'Baratheon'), ('Rickard Karstark', 'Stark'), ('Rickard Ryswell', 'Stark'), ('Rickon Stark', 'House Stark'), ('Rigney', 'None'), ('Robar Royce', 'Baratheon'), ('Robb Stark', 'House Stark'), ('Robert Baratheon', 'House Baratheon'), ('Robert Arryn', 'House Arryn'), ('Robett Glover', 'Stark'), ('Robin Flint', 'Stark'), ('Robin Moreland', 'Lannister'), ('Robin Ryger', 'Tully'), ('Rodrik Cassel', 'Stark'), ('Rodrik Harlaw', 'Greyjoy'), ('Rodrik Ryswell', 'None'), ('Roger Hogg', 'Lannister'), ('Roger Ryswell', 'Stark'), ('Roland Crakehall (Lord)', 'Lannister'), ('Rolder', 'House Lannister'), ('Rolfe', 'Greyjoy'), ('Rollam Westerling', 'Stark'), ('Rolfe the Dwarf', 'House Greyjoy'), ('Rolley', \"Night's Watch\"), ('Rolly Duckfield', 'Targaryen'), ('Rolph Spicer', 'Lannister'), ('Romny Weaver', 'Greyjoy'), ('Ronald Storm', 'None'), ('Ronnel Harclay', \"Night's Watch\"), ('Ronnet Connington', 'Baratheon'), ('Roose Bolton', 'Stark'), ('Roose Ryswell', 'None'), ('Rorge', 'None'), ('Roslin Frey', 'None'), ('Rowan', 'Wildling'), ('Rudge', \"Night's Watch\"), ('Rusty Flowers', \"Night's Watch\"), ('Ryger Rivers', 'None'), ('Ryk', 'Wildling'), ('Rupert Brax', 'House Lannister'), ('Ryman Frey', 'None'), ('Rymolf Stormdrunk', 'House Greyjoy'), ('Ryon Allyrion', 'Martell'), ('Salladhor Saan', 'Baratheon'), ('Sallor', 'None'), ('Samwell Tarly', \"Night's Watch\"), ('Sandor Clegane', 'None'), ('Sawane Botley', 'Greyjoy'), ('Sansa Stark', 'Stark'), ('Sarella Sand', 'House Martell'), ('Sarra Frey', 'None'), ('Satin', \"Night's Watch\"), ('Sawwood', \"Night's Watch\"), ('Sedgekins', 'None'), ('Selyse Florent', 'Baratheon'), ('Senelle', 'House Lannister'), ('Serra Frey', 'None'), ('Shadrich', 'None'), ('Shae', 'Lannister'), ('Shagga', 'Lannister'), ('Shagwell', 'None'), ('Sharna', 'None'), ('Shireen Baratheon', 'Baratheon'), ('Shirei Frey', 'None'), ('Shyra Errol', 'Baratheon'), ('Sigfry Stonetree', 'Greyjoy'), ('Skahaz mo Kandaq', 'None'), ('Skinner', 'None'), ('Small Paul', \"Night's Watch\"), ('Softfoot', \"Night's Watch\"), ('Sour Alyn', 'None'), ('Spare Boot', \"Night's Watch\"), ('Spotted Cat', 'None'), ('Spotted Pate of Maidenpool', \"Night's Watch\"), ('Squint', 'House Greyjoy'), ('Squirrel', 'Wildling'), ('Stalwart Shield', 'Targaryen'), ('Steelskin', 'None'), ('Steffon Swyft', 'Lannister'), ('Stevron Frey', 'Stark'), ('Stiv', 'Wildling'), ('Stone Thumbs', 'Wildling'), ('Stonesnake', \"Night's Watch\"), ('Stygg', 'House Greyjoy'), ('Styr', 'Wildling'), ('Sybassion', 'None'), ('Sybell Spicer', 'Lannister'), ('Sybelle Glover', 'Stark'), ('Sylva Santagar', 'Martell'), ('Symon Silver Tongue', 'Lannister'), ('Symon Stripeback', 'Targaryen'), ('Symond Frey', 'None'), ('Symond Templeton', 'Arryn'), ('Syrio Forel', 'House Stark'), ('Taena of Myr', 'Lannister'), ('Tal Toraq', 'Targaryen'), ('Tallad', 'Lannister'), ('Tanda Stokeworth', 'Lannister'), ('Tanton Fossoway', 'Baratheon'), ('Ternesio Terys', 'None'), ('Terrance Lynderly', 'Arryn'), ('The Red Lamb', 'House Targaryen'), ('Theo Frey', 'None'), ('Theodan Wells', 'Stark'), ('Theomore Lannister', 'None'), ('Theon Greyjoy', 'House Greyjoy'), ('Thistle', 'Wildling'), ('Thoren Smallwood', \"Night's Watch\"), ('Thoros', 'None'), ('Three Toes', 'None'), ('Three-Tooth', 'Greyjoy'), ('Tickler', 'Lannister'), ('Tim Tangletongue', \"Night's Watch\"), ('Timeon', 'None'), ('Timett', 'Lannister'), ('Timon', 'Baratheon'), ('Tion Frey', 'Lannister'), ('Tobho Mott', 'None'), ('Todder', \"Night's Watch\"), ('Todric', 'Greyjoy'), ('Tom of Sevenstreams', 'None'), ('Tomard', 'House Stark'), ('Tormund', 'Wildling'), ('Torrek', 'None'), ('Torrhen Karstark', 'Stark'), ('Tothmure', 'Lannister'), ('Tregar', 'House Lannister'), ('Tremond Gargalen', 'Martell'), ('Tristifer Botley', 'Greyjoy'), ('Triston Sunderland', 'Lannister'), ('Tuffleberry', 'None'), ('Tumberjon', \"Night's Watch\"), ('Tumco Lho', 'Targaryen'), ('Tybero Istarion', 'None'), ('Tycho Nestoris', 'None'), ('Tyene Sand', 'House Martell'), ('Tymor', 'House Greyjoy'), ('Tyrek Lannister', 'House Lannister'), ('Tyrion Lannister', 'Lannister'), ('Tyta Frey', 'None'), ('Tytos Blackwood', 'Tully'), ('Tytos Brax', 'Lannister'), ('Tytos Frey', 'None'), ('Tywin Lannister', 'House Lannister'), ('Ulf son of Umar', 'Lannister'), ('Ulf the Ill', 'House Greyjoy'), ('Ulmer', \"Night's Watch\"), ('Ulwyck Uller', 'Martell'), ('Umar', 'None'), ('Umfred', 'None'), ('Unella', 'None'), ('Urreg', \"Night's Watch\"), ('Urswyck', 'None'), ('Utherydes Wayn', 'Tully'), ('Utt', 'None'), ('Val', 'Wildling'), ('Varamyr', 'Wildling'), ('Vardis Egen', 'Arryn'), ('Vargo Hoat', 'None'), ('Varys', 'Targaryen'), ('Vayon Poole', 'Stark'), ('Victarion Greyjoy', 'House Greyjoy'), ('Viserys Targaryen', 'House Targaryen'), ('Vylarr', 'House Lannister'), ('Vyman', 'Tully'), ('Waif', 'None'), ('Walda Rivers (daughter of Aemon)', 'None'), ('Walder Frey', 'None'), ('Walder Rivers', 'None'), ('Wallen', 'Wildling'), ('Walton', 'None'), ('Wat (orphan)', 'None'), ('Wat (sailor)', 'None'), ('Watt', \"Night's Watch\"), ('Watty', 'None'), ('Waymar Royce', \"Night's Watch\"), ('Wayn (guard)', 'House Stark'), ('Weasel', 'None'), ('Weeper', 'Wildling'), ('Weese', 'Lannister'), ('Wendel Manderly', 'Stark'), ('Wendello Qar Deeth', 'None'), ('Werlag', 'House Greyjoy'), ('Wex Pyke', 'Stark'), ('Whalen Frey', 'None'), ('Wilbert', 'Stark'), ('Will', \"Night's Watch\"), ('Will (orphan)', 'None'), ('Willam Wells', 'Martell'), ('Willem Lannister', 'House Lannister'), ('William Mooton', 'Tully'), ('Willis Wode', 'Arryn'), ('Willit', 'Lannister'), ('Willow Witch-eye', 'Wildling'), ('Willum', 'Tully'), ('Woth', \"Night's Watch\"), ('Wulfe', 'House Greyjoy'), ('Wun Weg Wun Dar Wun', 'Wildling'), ('Wyl (guard)', 'House Stark'), ('Wyl the Whittler', 'None'), ('Wylis Manderly', 'Stark'), ('Wylla Manderly', 'Stark'), ('Wyman Manderly', 'Stark'), ('Wynafryd Manderly', 'Stark'), ('Wynton Stout', \"Night's Watch\"), ('Xaro Xhoan Daxos', 'None'), ('Xhondo', 'None'), ('Yandry', 'House Targaryen'), ('Yellow Dick', 'None'), ('Ygon Farwynd', 'Greyjoy'), ('Ygritte', 'Wildling'), ('Yohn Farwynd', 'Greyjoy'), ('Yohn Royce', 'Arryn'), ('Yoren', \"Night's Watch\"), ('Young Henly', \"Night's Watch\"), ('Ysilla', 'House Targaryen'), ('Zei', 'Stark'), ('Zollo', 'None'), ('Yurkhaz zo Yunzak', 'None'), ('Yezzan Zo Qaggaz', 'None'), ('Torwynd the Tame', 'Wildling'), ('Talbert Serry', 'Tyrell')]\n"
          ]
        }
      ]
    },
    {
      "cell_type": "code",
      "source": [
        "g.add_edges_from(edge_list)\n",
        "\n",
        "print(nx.info(g))\n",
        "nx.write_gml(g, \"got.gml\")"
      ],
      "metadata": {
        "colab": {
          "base_uri": "https://localhost:8080/"
        },
        "id": "ZiBTpN7CmieU",
        "outputId": "d7853b8d-5847-4e1a-b0b1-157e121823f4"
      },
      "execution_count": 20,
      "outputs": [
        {
          "output_type": "stream",
          "name": "stdout",
          "text": [
            "Graph with 937 nodes and 917 edges\n"
          ]
        }
      ]
    },
    {
      "cell_type": "markdown",
      "source": [
        "![got.gml.png](data:image/png;base64,iVBORw0KGgoAAAANSUhEUgAAA9wAAAH1CAYAAAAEbPbKAACAAElEQVR4Xuy993dcx5Woe/+V9+Nbd7313pp1wwSPxx7bdzxjezy2ZY1GliVLsizJkqxEK1AiJVKJVGCmGERKzDnnCOaInHMgQAAEATCAAQQpqV5/1b0PqqtPR6JJkNrfWnv16dOnT58+oap2rP9mFEVRFEVRFEVRFEUZcf6bv0JRFEVRFEVRFEVRlNtHFW5FURRFURRFURRFyQOqcCuKoiiKoiiKoihKHlCFW1EURVEURVEURVHygCrciqIoiqIoiqIoipIHVOFWFEVRFEVRFEVRlDygCreiKIqiKIqiKIqi5AFVuBVFURRFURRFURQlD6jCrSiKoiiKoiiKoih5QBVuRVEURVEURVEURckDqnAriqIoiqIoiqIoSh5QhVtRFEVRFEVRFEVR8oAq3IqiKIqiKIqiKIqSB1ThVhRFURRFURRFUZQ8oAq3oiiKoiiKoiiKouQBVbgVRVEURVEURVEUJQ+owq0oiqIoiqIoiqIoeUAVbkVRFEVRFEVRFEXJA6pwK4qiKIqiKIqiKEoeUIVbURRFURRFURRFUfKAKtyKoiiKoiiKoiiKkgdU4VYURVEURVEURVGUPKAKt6IoiqIoiqIoiqLkAVW4FUVRFEVRFEVRFCUPqMKtKIqiKIqiKIqiKHlAFW5FURRFURRFURRFyQOqcCuKoiiKoiiKoihKHlCFW1EURVEURVEURVHygCrciqIoiqIoiqIoipIHVOFWFEVRFEVRFEVRlDygCreiKIqiKIqiKIqi5AFVuBVFURRFURRFURQlD6jCrSiKoiiKoiiKoih5QBVuRVEURVEURVEURckDqnAriqIoiqIoiqIoSh5QhVtRFEVRFEVRFEVR8oAq3IqiKIqiKIqiKIqSB1ThVhRFURRFURRFUZQ8oAq3oiiKoiiKoiiKouQBVbgVRVEURVEURVEUJQ+owq0oiqIoiqIoiqIoeUAVbkVRFEVRFEVRFEXJA6pwK4qiKIqiKIqiKEoeUIVbURRFURRFURRFUfKAKtyKoiiKoiiKoiiKkgdU4VYURVEURVEURVGUPKAKt6IoiqIoiqIoiqLkAVW4FUVRFEVRFEVRFCUPqMKtKIqiKIqiKIqiKHlAFW5FURRFURRFURRFyQOqcCuKoiiKoiiKoihKHlCFW1EURVEURVEURVHygCrciqIoiqIoiqIoipIHVOFWFEVRFEVRFEVRlDygCreiKIqiKIqiKIqi5AFVuBVFURRFURRFURQlD6jCrSiKoiiKoiiKoih5QBVuRVEURVEURVEURckDqnAriqIoiqIoiqIoSh5QhVtRFEVRFEVRFEVR8oAq3IqiKIqiKIqiKIqSB1ThVhRFURRFURRFUZQ8oAq3oiiKoiiKoiiKouQBVbgVRVEURVEURVEUJQ+owq0oiqIoiqIoiqIoeUAVbkVRFEVRFEVRFEXJA6pwK4qiKIqiKIqiKEoeUIVbURRFURRFURRFUfKAKtyKoiiKoiiKoiiKkgdU4VYURVEURVEURVGUPKAKt6IoiqIoiqIoiqLkAVW4FUVRFEVRFEVRFCUPqMKtKIqiKIqiKIqiKHlAFW5FURRFURRFURRFyQOqcCuKoiiKoiiKoihKHlCFW1EURVEURVEURVHygCrciqIoiqIoiqIoipIHVOFWFEVRFEVRFEVRlDygCreiKIqiKIqiKIqi5AFVuBVFURRFURRFURQlD6jCrSiKoiiKoiiKoih5QBVuRVEURVEURVEURckDqnAriqIoiqIoiqIoSh5QhVtRFEVRFEVRFEVR8oAq3IqiKIqiKIqiKIqSB1ThVkYFF4e+NZX9t7KSq7e+9Xej3Of03/gm4T5IJVUXbpnrep/cE3Rdy+7a1lz82tz8xt+Lkk96B7O7Rjx/g1/r83c30D41/wx9861th/zzmErOXddGS1G+i6jCrYwKljcOmsll17KSbWeG/N0o9zmL6rO/T2ZXXzcrm25kJM2Xv/Z/UrlDTK24nnDt0snBrlvm+Lmb5mgWgmKv5Mb82uyv0ZeRZ3Z7+1BG0qjP34ihfWr+OdlzM+EcppOPIzK35npKWVA3aDqvajulKPcTqnAro4LFOShSG1tv+LtR7nO+qM3+PslGVkUGqb5Hwpe2AVUK8sHH5YnXI518lUO7saRh0P9pJUMwXvnncyRlsV6btPQNfmPOXPk6rXyRg3FE+9TsONKdvcKdqaDMK4py/6AKt3LXcENI53oDude2VpoPTl8wk0oGrLBuUulV8+7hrmAbHRzcPzQ1NZlvvvnG3Lx5074it27dsp+dOnXKDAwM2OU5FZfttf+w6JIVe1+UXDEfFUfXv3Oow75nmXUsv7mrzr7/65Zy8+jU1Wbc/jbzYeHFyPsKu4+PIvfX+ANnzISj3QmDnmRCaLsycvT09ESu1yV7zbgecg25nuMK2qLXic9i13nise5IW9BpvsxBqUBJV4bJVIE7WFZr3tlVba/FuANtcc8dz9br26qC68Q1s59HruU7B9sj0mHe3tcSrON5Q9iedeP2t5rJpVfM55VXEwxcyQRv+HctAHro62/NJzkYpuQZkvPtPmfyrCFTKtJ7X13Z0f7d9Ig3Njaac+fOmUNnB+35k3aKc/ja1orIcqtd5rPxsfXuMyF9F9fhr5vLzIRj5+xnE46es8JnmyLjG/+eF9FUKUW591CFW7lr0Ln7A4N08saOmmBZFe77h2XLlplXX3/TvPzBVLNg9wnz6qSZ5pWPptsQ4K/2FZonxoyzy3//wBP22v/kmbfMT559yy7/28sfmP94c4pd/tGf3jC/GjvNLrOO5RdWHLHvH3jnc/N//c0/mL9/6Gnz3//5F+afHn/Z7ueZL/eYF1efMK+sL0q435JJt+bhjSgbN26MXIux9po99MFCe005zy+vKzSPTl1lfvx09DO5zv/81Ovm8dkbzDtbS+3gdcLRrjjlIbWSfs18/bVGKcCFG98m3NvJhOfnj/O22Wfmwffm22dLrof7Gev+z3Pj7TXk2Xp0ykr7/t9f/zRY98e5W83La0/bdTyfvxk3M+H3MpGO71jYLTnW/jnIROQZkvP9L8+/Y55euMdej999vCRh+0xlZtV1/xC/E+zcudO88cYbZtamAvsc0E5xj3NOnpi9yfzwiVftMp/9y/Pv2mWuwa/fnmnbN54T1v3H2Kn2ufmoOOpUyEYW1F1PSMnwZXfHkLk0pIq5oowGVOFW7gp0AX4Hkq2own1/se/sUMI1FiG6gVe8AfLeesW87d6JKFT+On8/Iu5+ETzczy09aN4/1WcVtw+KLtr1ori5+1GFOz3fRB7ys1cz854ik8uGr4Uv7nWS94/P2mC+jAw6Gbz+8IkxVpEQRT2Zkv7nJQXmwb9+aA4fPuwf7ncSooz8c51O/GuRyWf+s5psu2yl5TuU3kEU0MAQz0msTSqKtkm0TS+uOm4+ONVvl4kmYL3rubbvnXOOR1aW3WsTjSob9sKK5xavLREJYtSybWjkdXrFFf8wvxN8+21UiQ0LKc/k3g7rf/Ilp85raLqijAZU4VZyYkXTYEJ4WTppuzI8OKK7wqs4/kB7MDCQEGDWv3PobLTjj62TDp6O33Yk5dfM7o4bCYN2pCkyCCvuvZkQhpVKNC83vzA+Ke27lVDAyhXyNyXM1N4PsdDTOCU4MiD0BxQjKf/20vvmjZ211jOBgsY667UbOzVuO1W400MxM//8jqQQIbOicTDpoNVfL+81pDxKdXW1OVndFLSznBsJe0XRCg0TT2EUGQlx234UwfdP9gbHhlL5+o5q+55IBdZ9lxRuooDGvP6m/d94qn8Q86JKJM+7R7psO/V3Dz1t1z+zcHfC+U0tV81buxuCKATaPfHc4rX9y4qj9nd+PmaSGbOx1G730uK9/mHeNyysy74+xEiIGDZk7MO6909HjSn+tmHGEAlt5/mhDz3RfcPU1dXZ/0Sqlkb3KMrdQRVuJWvwXPkNfyZy2rG0onA/PGmR+fHTbw6HAEcGC3TirH91Y4kNdWOd28E/OmVVwn5HQsiLu6U6VN7A0+mf8zDBaynhdoTe/frtGYES/Jvxs8w//eHl4F5gUPh59XBIY2VlpfOLxg7GfaUe2dnYHyxvO3Mj4Rh8scYeT3lThTs9BzqzV7inVyaGqLa1tQU5/D4Yy+aFGPfmVCfPRcUrpRizadMms3jt5riUDAkFR9FKFibOdp/N+8qsXr06bn/+80fF/1UhMwEsqb2SsA5jG/uVtp8+4V//MtGGncuxPTFro3n0s5X2PZEKrPsuKdyQLqTcb6dEKvqj9TCgu7vb9Pb2OnuNsu9sfFvo7ivZfqdVXksweIcJuef3GrnkymNkFIaGhkxtba1dbrgU3hftaOizrzOqhvdBH2jTNWLjIdb9j1/+PngOXPGNIYiEtvP8kDbw2uSZ5uWXX7bH8fHHH2t0j6LcJVThVrIGhdv3QrvhZzT2L605Zd7aF/WeYJ3l1Ve4/c7D79Sx0Prr8in34qDgXiEaMpx4zsMkm2ueSuFOhrsdc9XOqMqu8NankYHYssZERUKEeVnvd67c/NbmBqaSXe03zSsbiq3nbTLtRKxIE6+cR7wy4wqi4aysQ8IU7s7OTtPf3++vTgoDXfHofFehoJg/uA+TnR3J0zhEwp5HnmeKRrnk8vwJzE3s/0Ymcj8q3NciSjVFsfwoLKSs71bkGUk8D6mE9qr9yjfBc9nUed60dPclPK+7O7I3kGUquzruneJqJ0+eNNevXzcfl14Joq38EH4Z59CGvb23OVocMDL+OdxxzXqRJeS8oqLC23s88iyETbeXicEj3WfIKa12riijAlW4laxB4XY9EVhe3fAzGvmHJy82f5ixzn7+vYf/bPMrXYUblsa8GtnKX1Yes4N4FHneu2FUYfL8skPmjR21QXiWWyHU3W7rmRtadCRPhCncXEeMNmKw8T/PRG5X4Q6DAZNsk8u0U5vb7u/aArUXE69lOvng9EXz0xcmBpEJrKN9+Oc/RcP2/zB9rZUpEeXAVzKOt10wR5p7g/dES6SCXNerV6/6q0PJxHDgSmwcPeqZVpk4gB8pQYELq9Kf7rkSwraj4jLPsv9bqYSCXRjM7jfod/z/mk6WNUbTJMrLy729RVnVnD6SxxdqpJSdvxH37CFzarK7TsiWe6hNnDx5so2q+fVb08zfPviUPX5C+P/5j6/ZZYn2YJk27H//5gnbpjH+eXLMODNlypTAs52pwk21dz8SJyxSxz+vmYgq3IoyOlCFW8masJBy38rqv0d8hTsZ7oCM5T2eF4ZOjmk0CLPiPYN46QDDBG88HaaErv/j71+wr35ebjLRoiO3T5jCzXX87XvzbcXcHz8z1q4jV9vdhnl/GWgQukiIny8oFnZgEpGPs8wvnRL5Lp5AX6mqbDpjzvYP2GU3j09qDgxP/1JpX/FyuMab+13hLuq9lXAuM5HXtsTqL4yA+ANTV6aUDVhlrKBrKMGj68qq5uyNKYRIj3bIzX57Z3VgYBy7u8Hen2E52XxuDZYH2sze9hsJz0LdmS7Teq4/bt0NJxKIvoCoDs77jLJLCdciTGZHtuvJICWjtbXVXLx40V9930P74d936WRRrC7BmTNnzKVLl7w9Gpt24X8nneyMKIENDQ3W2+viGiEDo2ksQuXNnbV2vTu1H3IvKdxCpiHl7ljnWHe8J7+lpcVcuZK8sFyY8Uk4f/68Df93od1yHQKbW65Z8R0FIijyfSHGMUVR7jyqcCtZg5fnsww7I1dKeofzyFIhnRBhWQwefYVbJEypz0bCvs/8zL63VS3EmTEUGX0TTu17KJGDneHX0M7Ry9zZIdcC6Yx5Mxmo+5/daSGq4/uPvRgYdx768EubW/6zVz6Ky6/7LincFLLieXGjRtyiP/45vNeF+3C0Q272kzPXBtM9UfcC42JYTjafY7Bkmq8J81bE7ac4R8NKJoJH1lcOfCkoTUwLwBM+tSK7tgCPPCHr9wq+wo2h5K+borMzjI+0lxOPR+dsdrcRhZvonKqqqmBfKMzNzc1mbtXV4Hl8Y2eNVYiD4lqRV4R22BpjYsryjrZBU1JSEuxLcBVujKbUWMHDi/z9Q8/Y9UyFJfnHyL2ocGebapSNEEIOqRRuPpPQ9GRwfdJtoyjK6EAVbsXcjIxFfM9GKhm4+a1VhHylSuRAfXfCOhQxficTpBOiUBJejlw8alQw9j0rhGf521EFl4EGeVi8/+2EuUHRLhFVuDMD67t/ftPJx2XD18kPn1vSMGgH2MB76gLgAZcQdNeLQiXz906cD95TxXjCsW4zbn9LoPzlSwFMZixIJuQp8wzdq7jPI4Ws+P8SeokiZwvdOYW4RPznn/DXJbuPm/dP9Npr+d7xnuAayTzaLMu1k3m0uZ4fFEanbGOaODxsYyKvRBx8cLo/ab4l2/Ib7OO1bVVRz+7+Vvv8jz94xh7Dc0sOmPExxUMMB3z37X0tdt3EnckHyKMJ2j93uqdM8kE3V3TE7WNPimn6EPFussx55lxRMVmum+ToW+9n7HN+275y7lOkASHLaxK9272DueV6E8lyr+Ar3BhK/uYXD9vlX7013fz0L9HUDHcbUbjBDStfsGCB2bt3r3l4/PTgeaS6OcqxGFx+P2Wl+ekLE2xINH0fn2Gsef6DGWbs2LHBvoRM0mxk+kaR0aZwk4qAB9838riysW3IrGm+Eci2M0NxheCO1baZ5os3zM6O7CMSEEilcKcLRyeSgfQZRVHuDVThVsyCHKa/KDyf3FudrqNIh3RCXV1dodVUhWx+h47p8uVosSZfpIiTiD8gVYU7Mw50Za9wu0WywrwpAgo3dQHe3tcchKAzMJSBJ5XM/+X58UHaAFWM39xdbx4YPztQ/nwFEBFDCwoAioIoA/52Iy3p8pBHM7kYwBBf4eb5XVFQaAf3XEumYZNrJPNosyzXTubR5np+/7GX7Gd4bHnPVEi/nTjX/H//9p9J8y25N37y7Nt2Hw99uNB+Typh/9/f/1dbFf97v3vOeu1QPMRwwHfZp1VGZsRX5h6toHD75z+d+NXbUbhRmhGeDZRpjB5si9eVWQN++ORfg/PMucKbLgZLzqMod3wus01I3Q+uixvmjuGDWht8l7mk51dfSUgD8I0AKHbU8xCDCM+ujZjxnuHRpHBTQMw/9+lkUmniOldchRsPN55ul0xDyqXvw1izrvaCuXDhQtx+AOXZ/146OXZudPWhuUZvDDmnlem1ysrKzMJdx+wc6BNjBkMMemM2lUYNvRjxnGktxdCHQJjCTUX5j7OMIJwR6Uf94p1hsrr5xn1Z90BR7gVU4Vas0uM34OkE5SoZ2SjCYUgnRDjc4GD4nLl0doSbZwodI92M/z8yEVW4M8NXuPE4MrBgACIDYt/LTHioeBRW1/SbjU1XEjwNyNSK4cFgqhB0VyaFrPPlV29Pt68oAz/60xtWaZBQXJEtZ24EA/4DHdfMnpZLwXty5Px9oqCgCMR5Wj2jzr2scOdSNI02hnxfF/Jz9zWcj/PEuuJfY/992Gcf5Wgs8fftv5d190JIOaCY+oNtESJHqI0wo/KamRV5FcGL5z5zX9QNmjd3N9gw5idnb7TKtMxNL+HpD06YF3qe/HW+/OmLHXH7kaKbFKBiPQYUKa6XSvguxycGEZ5d9uN7gEeTwr20MXsDdzrhWgWe2UgbuiaiLLvXMpfw6DVlnf6hh1JUVHTPhTX7CrfU45CIGJuPvqsu4ZyQNuWCIf+LnUftZ6RlkLqBQe/hyUuCApEyrSWGJjH0cZ8S+bezvDUhGnBNDrUlshHab0VR7jyqcH9HYE7UzzLwesh0X+SJ8T4IBfQGsnNqBhMGciILyvvNisbo5xQZynbqFlG4w6y/QjrvtwtFX+rr6+2yX3SEeZiTKXmIFh3JHF/hJsf5h0+OsQMQGRD7XuZPy7MfCI6khCkHvgLoDtb9nDmm2/G//8e5W+18wfznf3j4z3adrzzcywo3pKvufayk0hzuvmn2dUblUJICZsvKzt31eyAbcT2J9yoHc4hEEQl7XkZCZL+3s3++6z+7IqNJ4f5sf3XghRePqHhDpSaCLcQYS5lhm8Wlw8WzKMJFfzYrByWacPXangFzuqnThkUfrWkNQqSXRPps9mkFg0yaInjkIRe2dCdMD3cv4CvcUo9DIi9or3/09JsJ589XuGFdSXjqRipJdp/6Mqk0OvaS+8CddnXsnoaE7d3pWl9aczJh3IZQCNQfs/my9cy9M42botwrqML9HeFET2aDLJnuSxQFCRX0vX7ZCLlPmYLnuqamxi6nUrgzKSgisC37DYPfunFjdOWX3av4CrcvYYORT8quxuVju2Hd7uBhwpEu897JXruPWVVX45S2HQ199nVr63WzpLLPbGi9Yae0OR255/EYFNR12dfi8zft7/nHkE6Yq5j97229bLbW9tjl4xFhvtwwhTvsf/oyGhXujhR1GcKk4dLXCV5roeV8NMc6W2lyFCP3+d9b0ZLw+8Xd18yx1v7gPVMY7axsN0siSvGXzqAS49/SuqsJg8oVEUGBpoBX4+Vb5mBFo2kbuBWXp+mL1BS4l/l821Fb34Dz/dbeJvsqzx3LMu2iqxBKKHk6mV42EFyPgw3nguVMQ5rjJfocSZ6+X/k6G2kfRc/bs599ZZ6csyWa6hLziIo3VGoiEEkgKTP0wR+uOxS3D/K0qcSPgj7xWLSImtt2SiSRnDuWWb+/c8hOmUf1bHCfMf+cZSKry84mGNvCZLTVrPAV7kyFGgL+f9vbktuUlpnIGztq7JSqpG+46TGkV4XNsuJO1ypedn+bTMUNn1cU5fZRhfs7gqtwuzlFySytftGTpNvFcvBsJ59kQETekD9w9QUFhMF7ssGATzZh64STh0GeW7LPlOypvnDLVgT2r38q+eBwe1Coh8EBXmEGGBh4ZPDAMvm0klP7+uKdcb/r3gth94ysw0BTWlmdMGA6XlmfcFyZyPqIUp9LPiZyfnB0jWZQJClg5x9nOkHpDiOsuNXzyw5F2pG2QClAkUPcbY5H2ilpE07Ut5uGvmt2GWWYV/YrnD171vT39wfvmTv38uXLwXsBb+C1a9EiRclgX4hL80B4xf1kwrm4m2oF3jf/3g6T5z6cZX7y53H2fP/vB56wCh5F78SoynzoeNDsID+mEP74qdfM4apmWySK69B6+aY52dCR0I4XVkbnHwb3WaRtIJpoReX5IHpoS+t1s6n5alzY81v7ms3bBa3m5fWF5tmv9trjIWxcajaQ+vH6tmobkv7o1JXmi/K+tEaS0Vah3A0pz8Q4h6xviTcK37x500wtG7CK1b++9L5tM6XtlBx5OXecM5a5vpvabthnSq6dPFcIff5rkXMrinvgeY8p79wTFKa0/XzIMaYTjJSjBWZM8Y9vpIT867qLw/ckUQQHyhvMR3uqzHsno4U9ue6SYiVjpmS53v7+kUzvmzCR68m+X9lQbF7fXm2Xpdih/O71m+Ftu6IouaEK93cEV+GWnCJbbOjBPyU0yNmI5OCJhV6KVuUiBZ1DdgDd2RnNHQtTngSULBR0FHV/gOVKWXuvKWnrCd67ik5tbW3CHKNKerqvfZO2wqsvEtLpKzZ4osMGD66Bh0Ge+9m0sstxHu715R3B8oaKqMfF5XRlnV3XeeGKqW7pSFBAjpTVWU/R2F31NmSPyvUyEJLBCcoi1bRtResDZ+y617fXJBy3K3hP3XuRWgDkya5ric+VTSakM8i0aPkGD5R//JkI188PE0f84lYIEQs/fGKMVQpoL1DkEH+7kZDPq6/b6QuhtLTUvmJU8JVkpLRn0Owoi/egZxoR5Mvd8qTyV3PJ03UlzKgqzyY5+ENDQ0H0EbjVsAW3zfbb776+PpsKJNTV1cVFFy1uiM9dDTse/7PV9QPB92lj/GubSu5WmDltgP9/0klYiO+08nBlLJmkOp8I/fgzX+0NcuF5Nl3lHa/qz175wE755RvKMhHqBvhRJr6QgnYnjJG0d7s7EttcX5bU5DazhTvPPM8JToTnpiw233/0xaB4oKRYiRc6Wa63v+/blf/8YIF9Zd+PTVttDWz8lhQ7fOSTZfb9/oOHnTOmKMrtogr3d4RkA0gZUBFC6H+GRL2K79vlJz/fYt7JoaPNVObVDpq1dRfNhsYB68nyB2wC1n2UZTxK/j7SCdbnwa+/jXo7YwNxJTtIEfDPazr5InJtRcE9VVFrui5etcu5DD7TyVynvgC1BvzPw4RBDpWtCdmj6BKePXewibLIez77x9//xa779fhZCftxZXljfL5vLsWSCI+/E4jC7UasiMcDowMGByrxflicv/DJkRaqond3d1sBDAH+NiMt2darGCkwPvrHMpIiswnQZpb13bLPFrU6fIXJXecuo9wSaeAq2L7CvrOhz8yuvBI3TaA/VaAI282qGLDHAhgB/WPORO6G9/vqrW8TDMO+1PdetdNOyXv6LB9Cyv3/MxKSLBdexgp4wj+KtA0yTSMFMa1xsmQgaDMwYAbe8JJo5Xh/f8mkJHZNRwN7TlfZkHxJe+J/JPzvSPvongOMtq7CzdSmOBLml/XFGZfDDM2+zDp+xl5/uRf2ldTG3Sc4Kba33zD7Iq+S7uTL2pbwPta/xv7xaEi5oowsqnB/R8h1Kh9fcgklQ6gCimfQzdf1t3GFjkQ8kyJSsOTMmTN2DsqqC7n9p2WNN8zCigtmWf21YEA4msLdRjt4W1zFDE+vDDYk11OmQ/Grkmci8yPK+Yer95m5ByrN5NLhVAU3tJEBj5t3OtLiDz7CZFLJ1eFcycj5+OumaBrGB4UX7ADMV7ipDu1+n+dBnglew/7LnVa43YiVnzwb9XhgdMDgwPIjny5LOMaRFM67O1WUHcDuj87lLCGY4yLnlm1ZJ2Gw7oBfrsnBzhtmXVl7MPBc3hg+8EwlHI/sO+w+pHCRrMPrN1oUbvfekuO2CpD3POJVFm/e4pLOYHld/aU4Tx8huECBrAVV4dMrppIFdddt9ImrCLiRKVZKq+L+E+k+t24lKl+kDTD1lQuRBf5vZiIjXUuBPiqqBGUuFBdMVKeNOdLUY7bVnU9QoERWNw+aWRVXzOxKqucPWlnaEO3PqFnwRUTBY/kDal/E2pYJh7viwphRjN/eH1UWJ6eZeswXmaaRUHaZ2k+8pBgnH5+1MYh6w1DJepRR9xly+xF5zorOJ3rzc6E7ovT65yyd9Hne9XkrN5pnF+0L0p74H+7/pp1kmkpZZhuMtq7CTeoa9+uGyP3uG44oTOcbldxidUy/ioOB70enNk1MmYGOjg47LgqjtC/7cRLpRbdG9tFQlO88qnDfx2C9z2U+1mzlQKwC8a6mC0HHNdULd3vk0+VWAaPjIiQtl2Ie/BeqI0vO7vbCWttZEwL8QdFF++oO1j8sjBZuogiQFN/iPZ26v2/C3QSME/6gKJUQ+uvmlt7voHCLYkaeJ55eGWzI/Mf2Gr/0vvngdH/CuU4na5tvWE/aa6+9Zn791rS44kF87g54nltyMO67MqATZdwtJCTbfFg0XHkfJUmmhMlWnvx8c3BMnI+/+cXDdvkfH3nBHls6hZt5igmv9ud8duVOK9yu+B4QZFJI0TnJAxy7uz4iDaHhpr43dOrRNjN+R5X97M2ddXb+ZXJzX1xzIm6qKK49c2U/vTA6mOd8/z8/+g/7PT6TMNjowPfduEr4YedTqvwGA/zigWDwTzvx1t7m4XQCFPjiaJ4svyXKgxQr4j58esFOq2zwm4TgjhaF2723JPeZ0FF/loDT54cNjeS507ZSDLC4ptGc7R9ISL8oq28x7++sMBibxh/sMDINm5wvmRc7W+UN2VQzPOsE8z83Nzfb33TTV7a2DcYZBpBV1X1mTcsN8/7pC8MGktg1ZdmvM+K2CW2XhkLnms4V8v79/5WJhPUfufTdYjgeGBiwbSjRHY9/usROecjnP3vlI3v/yrNBkTbmoee+xoD0+KwN5qnIMzVtf5UNuz9Q3x0Xhn+q47LZV3PWzKyKN0pKW5HOUIky6kYOybPOOnnOXnx3kncmcoNiif7vpxNSZFyY3cUarFJ4psO8967CDURzhNWdIYrPj+Tzt0PZJp2DGTLCIFWD9IxkEB1xsuem2VJzzhzqHEwwMoRJjU4dpigjjirc9xFYMt1BLdM/+B1BJiJWclewlruVftkG2dA6FAzGiqobTP/1W3b586rwjtd6sLyCbNkIoYPSIU2cMd921lidf/nGFPvqDtZ/O2Gu/Q4DzR8//aZVDnn/9IJdCfudURUtzoRkMn2aL3gpviugcPv/35dk1xhP6fgD7XZZ5jt1lWEEhRuw2n9anngfxQ14vIH9o1NXRQZzU4MCQm4RNtnm/VP9wQAPJQmlHuMMSt+Eo93mo5O9ZnnDdRsBgaLIcib5sZNixyJK6Zya63GDGIw6/nei30v8jyJ3SuHGm4FHxf/9TETyAJmnGQnLyyYFhOmMXHaUNQefh50Df53/3hfuOXebdyPXUpQvUcC4P1iHwoES+osxkwMFGiUVoyAeK4xFDP7933CPQ15dw0S+FO50FeQrknix0p0zV+GGwtaenIrn/TxyHsUAwrzY75/si/scpfe1rRWBsROllygQdxvmH5b/s7W40b7mkr6CPDBupn3lOrtKHcfoFhd7f8pMc/z48bhzcDtQZV+KXwUREU4bxz06zpvyi/VhecsvrzoWbOsaCQLvcGRf4yPKnkR18BntjICShzDfupwX7tV09wSClx6Dh+9RLSwstK9+vv1IykiFlL+/5VRgaPfn1nYjQMYdaAvO77rmeCNpV46pCp97nuyZ5ZetMC5y188qu2iOVUSnLAXxhgukvhHpcai6zRzouJagGLPOjeIRORaRi0PRuAmiRJgrHcVcUZS7hyrc9xEUafIb/lxEFO7Oa8ODAJRcLLE03lRM9b8z4hLzVNARuutdhTtVSHmqQcXvP1uesC5TIXxa5kqVY+M4D3Wpwp2JUHn8J39+2y7j7cg12iFbCfPW+iL3DFMYMcihoJ4MfhgEugMlGThNL71oX+ckUaZvV+6Uwp0pyWpBpBMGgWtK2uIGhSsqeswnWVa1z1QmRQbX7xzsCLxpvmdXJEwBifNYlUdzid1rn0yoUyCD3JFmamV+7i8UbteDfeJc8jb1dgSll6muHvpgoX2PQRTF19/OFRRXNwyeV9pcjGISVSEFDrnWbPP6jmh6C9eQKZX8ffoy0iHlKNxS/ArlHkMf/1naOBT/f/rDy8PRErH7MkzhfmLmOvPDJ8fEGQncSB/2hZHILb7lKtz0k7RjfmRNJsK0WX6NE4xmeM4Br2mQR1xWb6vW+3nouXr7JS//dnlu6pJgiix/bm03AuTB9+bbVwxwM/YmFgIk5959Ro6VVJqOvsvB+56BQZv+xr3k/5dMZHdFa/BbFBR1FePGxkabPje9LPvaGUTetZ7rN0eLKwJHiC9EsyiKcmdQhfs+wlW4ZS5VsY77jXEmwuBawDtVXV1tQ5eY49bfdqRl7J5GO1iRnDCRtgvXbScEWJ9z8UbfjhA+LXOlMpUO6zjOkVK4GchQ4dkPW08lI/XbPkNfJ3bQSOWFW2ZZLMLBFXJk3aiIJbVXzDTHuxImyTzhqYRiQXifibqYlQdF96u6azZa40RZdehApbPnvM2nw3vENHaAouXuQ+a/ZeCPUueGMrspDUSh+NEkriSbdutuwaByQeSY8dZQtMpXOpN58dMJz7JbRItBJjmJGPkYEh6pHJ6+CGFqo63HSuxySW9uBqCZlekV6fWNV5KGct5Jsp1uD9nXGa9MUwHa3yadSPqFKL0SoSIeW7mvMxHX6OUbOcIExRWFUyIQeKU/QNmWqApb4DCibP7dQ0/bbYhiQvEct6nIPDtzTcL1dIX7GGVqJEHhTvafRcL+e5jCzTUP2zZBnG2+qh/Oyaf46FdFHXb6tY1tQ3Gyurzb7D58IiFt4GR5jT0nvb29NsKo/co39r6hvaXuid8+EQHkz3Hv1kNhOjhSzfa0XErwwoYJoc9hBeJyIZMilf75JYzfv0984b45Gekb3FQEFOW6tk7rNX+btJSSaM0Ht6aE+xn9gnjV6cfkmi0rPxfXty8t6zbzT7SYSYUXbOQUxiY5ZiJJXOP/cNRENE0m02fzbhQOVJTvIqpw30e4CrfMpYpVl0EKCjjhaWGhaTTM0jiLF4Hlo53xU2ZhLUdQuCXv1W/kWUcn8P7p/uB3WEdH5XYqzM3tN/y+hHmfppcPpPQ44XmckuV0KXhSJhzrjnaSkr/pnId0wnGOlNJbezE3rwCDpZGEXPlsjRkMEN1cRCoSLyyJFlHLRkQp5RrgwZJ7SGRzW9Tru3v3btN+adDmeK6u6bdz+lLsiYEm99n6hst2eWXtJZubt7j8vB1slvffsh4JBpcFjfFTjmUin5VdMcfqO0x5R1+gAFZfjPcMytzBKARMvYeHhfUS1irbcb3vJjcig1sGpv5zlErwmDEob29vNw0NDXH741zw/NuK5rG2xg4Gi4a9lGERIijyeOQIoRRQtjGuDQ4OJuQ5MnWghAJXtGV/jyEFFU32+8kMS/Xt3dbw4q7bcmbITjnmn5NUQmj07XD+/Hnz7sFoUT3bJso5jbW3VJCfeOycXSZsm1BtPj/cORinFCzNwdPJAD+ufsKkReb7j70YeGzlvt7SFp3qjueP9v2ziuwNL5NKo885xy6FESce74kL4UeSzajhCvc1Rps7ja9wZyoYqvz7xt9mpGXL/sO2IJfAsyfRY+Ld3hcyvV86mVU1PG4gQqitrS14fyfJROHOVdoi7Rz/DcOEUBxpK/Cc/+/fPBHUfLDRB07KinxGv8BnjD38facTqU3zq7emBcZ/t1aDTZOJPK/ybKaTfKXBKIoSjyrc9wBMb4Ol2M/b8yVZWCsNMgr43/72qbj8NRlE/X7KSvPQh1/aZfIX2Y7lVz+aHnccePUY+C6ouWa3l7A5t5Hne3QCFDliUCa5swzIBPaRa25UprKwZiDOcr6zsd9WfN3betns6ogfROBJ+d4jz9v/IgVl+C++dz2VjEQO98mTJ01p95VgwCw5ZtLB8up6lkQxZZvea7f/+y5UePX/YybCXNOuJ7Lp0k2ztajOlJ27ZmoiSqlI/aWvrVfYrzPw9Be7zK/enhm9Fm9G8/K5V91tROEuLi4OisVQ8ImcQ0IeZYDHgIh5fxkUkYso6xmIoyiizG0tz8wLcDviG41cudsKd67PIQNOQBl0i/xwzbleKEVuHv0PnnjVfo9rGhYhsqg+Wln5q6pLcd4zoiQWR57l2WXR0P25tddtqOSmqq4gd3Fd+VnzRe2wosKUUbMrrphlDYnz/s4v7bXFlBaU9NhwSoqNMeWV//9GUjAI3Q5bt241L8bCiWUec7c4HF5naavIoed883725oLAKIECNaewK6LAnourXi6GViIyJhyNRkShyFP4jm1Qetne/0++XB2K3g+SekQOqVsoD+8otRCkerYYh8dHfp+CZm/ubrD9EOs4dimMKHMGZysyo8WdhrneMe75910ymVedvG1IJUvqo/c2z4e0oXhPpU/gVQxbXD83Z1yKGm7aeyju2DGgYaDBwEX4OCw5Vmu9sa6B3k75dbzH7sftg8SoNqN8wHrHT58+bdvluwXpEr4RwxcMHTw/MvUX/5U8b54H/qP8Z16ZgUOik6T9Y156KvfD5aFolJPb3ouRyH3PK4Yx6cNZJ7N7sJ7rZddjYMMZsj86SwPvOefuFGT+fpG4SJLYdXMjHu06rlXkOx+VXjGrmoajIlIJaQaKouSOKtz3AFSMlAb0diTVwF8aaTd/0Q0p77/xrWkbuGXztZi2wv/+u4fPJqxz9+sr3FBU32oa+6/HKWgHKxrtnJO8yrp3dlbZ6seuR4xOUYrT4E13P0N2tg139OSd85sSGho2Z6vrRfHXieCV9zshBAUgLCQwWyZPnmz2V0SrbzPopHI1r1L8jVdRPqU4mFjR3/1wZCq7Cq7CLdERLI/ZVGo7bTzPyYqeZSoYiXKpO0BIOYNNFLG5xT3B4JUBPspUQVWr/Q9c84MN57LKE8azRt4o9xfVe+V+Cqu8PRIyGhRud2ogniP5zzI4d4tAiaImA07AmEExJTxkPK/+f0wnYWG3IyHZXPdMJMgpjvz/QNmIDcjdAlYyYJaiYFtbriZEAmSLH1Lut01h79183pUrI8rszlLz079MDNoV2g438uIHj78aGB0pfCfbsL1/Llz5tOyqaTnTYX9HFG5woxJYpmI2BhpSBzpj+a6uQuK++utEVjYOR0qJrKg8byNc5L0b0nwh0m9lUvDQFSIYRiqsORkYQJibuax3yN5DElkl7YykpMhnrHMVvu37CmyNCYyGRe0X7LofPP6KNcZwzTBiiWGL3HnWiSE5rKhhWons59mv9tll7pWfvfKh3Q/7ZN+uUe2BNz8zy5cv9/9yANfedxakEpwN+TKg0P4RtUGuN/c7Bl5xSPzk2bcDoxavvx43yzoueH+wcyg4vr3VHeZIc68pPp95fYsnZm8yf1lx1DorxmwsDWb3kPVS1JPnU2ZpkCKf7hRk/n59sTMoRJ5nN+KRtItnvtybsG0mkqfLoCjfCVThvgegUfcbvkyESqPi4f04h8En3koh20GLL+QlB/8nNhBraWkJcmAFQtaxrruDtT9M/jLS2c0MvDh0PLaATKw4zf/45e+Dzx75ZJn9/NF3pgX/fWNlp9la22N2N1+078mL9Qew6YTBe9jULSONhJQnG3CGCdu0dI9sBVJX4ZboCJa/97vnbOfPwESKnlGh2D+mTIQ5RlGU/fW3K/PL+u0zs7O81SyujA5GMxU8a//64kR7fz0wYU4w8AkbpNrQ6dMXgjxt12NILiX/DW8ehgHfs4Wsab5hvSJ3EwacMjUQgzi/OJMdVDtFoMQAtLol3vhEnuii4rNmVVNu7YQoHLz6hjWKY/nbj4SIYiy/6Roa+FymE+S6si0pAj/9ywR7HjgvbpSQW8BKpniTomCPvDzObNy40T/1WUHxPN875wqzLEyvHJZpFVfNtjM34qJ8UCTlv4e1K36bw+uyhkGzu7DKGlv3FFXb18NVzdaw0nJpyBpGuYcl/x7Dghg2fYUbwYOKJ5WUBLy7RCNw/NQDkGURKUhoPZFELZRdstPXAQbgHWeiU4SRSuIr4SK55K0j/rROIw0GELyjb38yy95DUvRM2hnuJ3kG5R5DKaO9ZfnFV141Y8aMMV9//bXZVdKQcPz5MmKJhN0/IjMq4vt0n2xTlRD6inzgRvik+k+5yoraAWv0pT863HTebCtpsv1SRd9Nu25ReXxKUybHwCwCbj9C5Mi8kvPmy9rEbcPS8ty50G2bh4Er1vZJ/+WmqbiGWOxQVFJXFCV7VOG+B/AVbhrDd2MhUBLG5Q4URcjDFQjhFeVz/5no9CEia0vP2HDrI91D5st68jkHzeeRAc5X1cOKQi5TxWw/M2QOlDfYKW1ch4EMxCiK5E87cqSw1NS0nrU5tpI3SU6Y/Y9JOiPbYXif+e9d4f/YHL/Y/nuvDsX9nkjj2R5T3dJhl/Pt8RBGSw63H1Ke7HziiZGKwa6ixDLKKO9RWNzpwOy9Glm3uWXQFPfeNAe7hqzsbh0wa8o6zKqSM8E6Clu5v4eSy7zNMqAMu+/TSixXFI/lB7FwfZFk/zNMUFT/I6J0SZ626zGsOX/VnDp1yoZnApXP/e+nEp43ntl8k21IeTbnh/8skQhuqDhhxVKE6f0T0QEnXhw/lUMMaw9PWpywb+67MRHh+ovBw9+GAaPca7Kde7/88s2p5hd//dh6gNzp40TBQYHmelJlGiWa6zwhTf5w2PnZcSa/leZRPv3fHCkh/UbmAEZZJq2INI5zl67asHEJ619f3mFfSdlZfqrRLm+oOBv0MSzvLm+xaR4yYJc8Yd4T+l5fPzw9Euki8uwQsishzsLu5sQoq1Ti1xyhfZI88XEF0egdojxk+5FUuFMVwlyWZZ6xFJnEYEHkFmlI9V79iEyFMYQoWW6kkg0Zp/p7SbTwl+tZz0Q+LU9M5XDF3z4TcaPtRhIi0/zfGkkp6Lxpnx3ucfLljx07Zo4ePRr8/vry8MjAVPJZ+bBBg2JtGLuILsIYlYljhei4f3vxfdvOiYfd9aizjZumwjbM4077zDBo9erVwe8ripI5qnDfA/gKdzZC0RMfcqtcGFAxT2N5TXSOylTCIIXpVggpFgWL5bBCaUe7b8bldwqicNNZuEV9yBHyfy9XmVQSHfgymJDjFFneGD/XJoM7GQSiiO89G/XYUSHUHyCFCQXTRkrdZSDFIJeCXxyD/1thsr9zaMR+X/CrbqcSqRgsHTRKCwoMBWJ4jyJK2B5zocvn7lQ5qYTBm/ueQcGPn456GlFu3IJOmcqrG4rtK57bR6euTvg8F/EVrWUVPcNGre7MQw1doWJvvkGx8H83E5EQc8nvlbQDUWh5dY+f/HpCikFmPECmxAaI7vnzz2WY4AHkHuD6i8HD3+alNSft/SL3Gtu5CjXRDD99IXofyXfCFPfbFdqTfLL/RKHNz5Rwf7cNlvmvWY62z3izrhqKXB5p7Y8zMFKR/3BhmZ1G6Mz5i3adtCuEgnMNUZgJZV5Xkn3tg4/LrgaKOfMHk4cvyviqoha7fCQiayrOmdLOi9EK9G09NsXITTtaf+CkmX2g2nwYu8/Yt6swunN+i3HFrTkis19Invj//NVjdpvvP/picKwjqXBjOPPPxe2KGIApTHm0sMSsbYrO2iBKLbUKZBnDFh5QV+kdv6/RvBh5ZkXJkvPCvjEkEs3BOkQ86zOL+0xBezRVwRWKSPrHl6lIKoa0G9J28JlrSM1G4ebaufdLOinpjXqbkwne6D1V7eaNreVx+dUyJR3Hx3qpQO4ag3c0D1jDEW0dEMG3f//+wNFwvLLeLI9VJpcK5VSWX1LaFfTvW9uikRyrqvvMmtoLNjddCtyRKy9Qr+RkcZl1IPjOA1+oOeNfC1/C2mFuO8lZVxQlO1Thvge4HYWbisI+hHHL/MICuWDHC6OKiC8MpmXqEQYpFFZj8CpFj1gOK5SWTuGWnD4BxdX/7XTycdmwQmaNAdtrzOOz1psH3plt1z29cLd5cc2JuO+QAyyd2dq6i1aC9xlUTw8TvEwjBZ0z4fZ3m74bmQ1cWmKVeaWDDgYcIR22+3kmkm3oP4Jn0xa8iQx+pOBcNjKl/GowMDlUVmdzVP1tchEpXCODSynSg/fNHcjJgPNOKNxQ2ncrYRDtypHIc4w3mXDXp7/cbY/tP99fEHh+eY83mCmcRKGlHdhQdyHuPjlU2WRqzl22yycbOkxDV6+ZchuDdVeS3Wu+xBUUyvA7YbKnYziHM53ke67bZes227YPJVKMC9IGM//1Pzz8Z7v8vcirWzBzzd5hT5uAl2xZZLBPegBGP9ewR670xqYrdvA/7WRnRIG/YIsuUZF+fOS8isJPHrIUf3ong4JrIyEohGLAk/+MsvjYtDUJ20qYrVz/sPtgpBRujLmFZ/qC59qeo5iSJh52WW+34bgir0z5tKW0zYYgH2rssffR6bMDZnt1l6noj5+qsPvSNWskaeo8byoa2+y6zgtXTFldkz0GQte3b99uw8+FWWWJ7WKqZwPFeHnFcF8NjCM2bNhgZlVFi33J9cfIneq/ufuVVAxrOB07NShaymeuITVThVtqA2QrmaT2PDt3s82v5vhIXZMp6fi+W4FcjH94hj/bcMBGInANMFSRToGHm/cgqRacSwxaGP7XrVsX9P8o1kQxMD7DQQFsS/SUFKSjUCj3GTM3ZAIGgH1N/QnnIBO5Q4F+inJfogr3KIXCXjJgOxYZ8M6OKImifEh4Lh03A3apcBnmZSas0x8AIkcauuKUXUimcNOZiMLtd8RhIh334YgCHRaqLetaz/XbsG1Zv/dsvMItgzap2i3/yS3slk+RAlryuwwmUI5saKozYEMwbPihc76kq1ZMh0z0AR3ovQR98JwsQ6ZFyNG1FVtjRbuCcx1TSD8J+U46GbOpzIYKM/iRgnPZCDmjwACI8FmZ950BT2tra/C/qUjsf1cGmhz7W3ua4rw0UrhGFB4p0vPIp8tteDvrUZRkwLmp9UbCc+tK57XclIK6WHpJpnLiXGaGMJ6HrIwpEWX7eHOv2V7fa3+HtJZ9bQNWWGZmATyiGyo67VSATPdHfvLsyAB/WskFu44CjkEec2RZ3iebsSGV4IGlToPfXiGklqDUnLt8PS5VZzTAMXP82XrqGy8npixwX/nbZSK/fOOzwCuKYUaKP/3zn95I2DYfIqHWIyUUW0sHhhT/mfRl5vKNZt7eokBJ45l3IyzwsPMZ6+PCe9+aZiZNic4S0tPTYyPQ1jWm73t92ddxw0awbdmyJc6IO7cse4XLrcNCO4jRftmyZea9vXW2Or5biC/Vf/P3K+L3qa5kqnA3D+QWTZCJgYW2x/+eK2EGnP2Rc0afjuKMUgz79u0LogxF4SadgmiFw4cPmwMHDgS/STFK0ilE2SYNT5wlhKgTTu6mYiSDsQWGfLa3KSFXos4Ff4ySSoikUxQld1ThHoUwFW2qwiISnos1mAF7UOEyxMucSgqKquKs3t192RWYSiUMXvEk++uzERm0SdVuUUT4z/62vhA+KAWPUH7wdEp4uShBgeU9puRJESzZhxTQoqon7xlMEJr45Jwt5qW1pxJ+MxNJBqFh/jzEoxU3/z1MOvoumyNF5aat54LZvOeAOVFUat59913zybr9QZVVGXjhceM6PzB+tr2+rneDa/74p0vN2C83WYVs0roC+0rNAYSaA1MrwgdoqWRhaY+ZW9RtawMg08ouW5keUehmVFyxxaWYz91V4KhpcKh2OHwPapsSlRoZaFpv44cLU4a7hw0uM1GURDDA5eI8zSVqIF+ytqzDXsvDXdECX25OMPUmeN1W3WUuXbkWeIUInSTnF0+RhDfyyjoGlsBpOVBSaz3phc1dQaEvEcKUWU8RsP2ldaasvddGdADTMG49M2QHmUy7RHgur/4A1BVmYchHJWWihPwUEl8oqOaf10xkTsVwXr3IgtrYdF2SHhAL1UahDcLWndBf1/jp3s/ush/Z4X/XneIwiPQoHS5gxzr3eOT74jFFpNhTKvmsPDozQjppzXBe4lwispKdo7C2wI+amleR6JVOJ4vKeux3UfLwlApHCsvM5iNF9lng2ajtGbDvpTge61nedLjQRqbwnjB2vLUojhgBBKbW4reS/Z+w/za1MmrYzERwGmQ6V7SvcMt9wT3yQVF0Wk3XCCpS3ncrIXLLFxRU+guMy1GjXtTgR3E/hD5DjpnlOVVXTEFliw0fR0mmj+e8Ubtg586d9nilSKxEApIfLco1ijjreX8x0jbRNmKEpH0kHYO2UdpNVwq6aBdumIKOa/baUkeH9o4ih/5/EiGVTVGU/KIK9yiEsB2/QwiTsI5MJJOBe+ulaDEcgQGjv83dlHSddqbyyMfLrKcTy7vrYXDnJOc9rzZ8Pva9VL858XhP3HsGpG/EqinbacqcubPd7XwIIaMDzjQcLJ/0DX5jFtRRNC9x0BMMJCKSbQE9Crl0X/vaevj9z5BU5zmVTKu4ZhaXnbODGzyeHB8DoJnll4PBEMLnVEFmHdutPlJuqzj7+0sn05xBIvudVZkYDj1JXnP8T9lKLkre87FpvmTwSS7iGztrgsJIKDc2H7E4Oi0Y261pCZ+rlUrY5B7Orxyuk0A47IenGdySK3w5mA/Yzy/ORorO9AWpKCdqWszMsotmanF/3PVwvd1cb+4DhMHw0obBYEobvDxE95BLTmgmniWXXMNSKXjoG5/C5FZ6Z5olmzoKrmDodJ9ZKTqZjTw+a4NtDyW3l9BfrqttP53Q30yMn35kh6QcyHdlikNJUeAzijBKegIRVtJOczwJxZ7emmYefPkdazD4svJidJ7v6ssJxgSKvI0kePz8/zqS4nvZF0fuYSKs3Hx1ooPcaf3kM3l2l1T02hBkonTwcgtu8S6eh4KCAtPX12e9oIQqY/jdcfiEVdZEKSvv6DP7SmoTFLeZVYnHnk7y5S31FW7uLc4H98kv34jed6mMoJnIwa74+4j2A8X50KFDdjzFe4mMYuo3zi/KNkKkwsWLF82mTZusIo7xgkgqFGvGAYT+A8UJ8W6jbLPdmuL0BqXbkfUt+S3sqCiKKtyjktKycjMhFiZOxykegMk55JKi8IlXQqy9YuGlejjeIvKKhFWNiYMzmR4HjwSDcf/ze0nypQjRof/ri+/ZZaYpc+fOdrcj9DxQXiOKIMoAiqCv2IpQ4C0XpSoXmO/U/18jJdtrz9lCLaRGiGd5evmAFZZnpAnXSyYFNe02J23btm32PzBw4X4mfJIBJUoa7y9dumTD8fDysK1McxdM/RR7JlzvG/c68nKO0QzJhOn6ZACLNF+8YXa3RT8jxJ7X946fN69tqTCvb6uyx8NxcEwcH7MUkDfL+sFbX9vBMZ4n/mMmyDRfogCh+EjOK78t+YgyHzOKT7qQzsPtw1WMSXlhn7J/mQ+Y/YdF36CMvbWvKVDK+a+uJ5T1h2rbg6mntpUNV5PORvBMiSdKFHL/efv4SJv5rCiaEmA9p+T7xhQZFBjO/fsneu3+Pii8YCYcjbbT2QgRFJmw58gJM/FET1xUjjulD+9RwMYVRKekE2Wr9kL8tWqO1VgQcT3O7E/a9GSGED+3V8TdZlHtVVuJHmUXpZciXQvK+62i6+8vU8nEaIxg0OM5R2HxZ73IJ77C7c4ewrl0r5PIpxWZF8Isi4wDaM8kVxeFmwgrNxKIUG6Z1k8MEqJU8uxubL0RVMnGeyrnB483zxNhySjZW7dutZ+hKMLeIycTznMmglEVLyzeWDywYUXWMHxgeMoHvsKdD6F+QxhE13Cu9+7da6Nxent7rYKN0s16zjOGdabO27Fjh722GPza2tqsl3vVqlXWA8429F280o+xr71tV4Lq8fQDE45GZ0twjS1Wchzf8JwqipJfVOEehaxYuSqomErHiWeWzvS5pQfMKxuKzMRjPea/PlpkP8d7QKf71Lxt5neTl9rP/jR/uxm7u8EWjPnthHmBV1emfGAgzSsKN9DxyhQsVDX3G2OZHseGrz/1esLnk0ujr4RsuYPDZGKt9LHBNN41OhDJS59UPDxwZwDMMe6tbDO7yltMhacQcjx/3Vpuf5P31rggBoaYty4XWdk07M1bV38pYTCELGpIPp1Lrp1eMjmXQX7ZSOAr3JJDL0qPHezHptQK20YUk7CBZi7CvqXyqygH/jZL66+Z5RU9ZuHpM3Y+XpY3NA7YAk9fFrabFeXnzLGqxqCqKwOg3bt3Bwo3zw8pGeL1cL1v4ln7979+Ev290qjHVv6f/EfOjZwD3hNiaT2LEaVOPOyi0H1ZN2inogEGuXgxCLd/4PGn7Xf/8fcv2FemWqP4E55Fnv1//P1f7P55dnlW2Ib1n3z2mR2szZo1K6EQYjIyiVBwlSoUn3QKN5Vz/X0kE1+RIgxf5rAWLyf/k+KMGAdYv6+i2SxevNgOUJcVFAYGRHn2JXf+nYPDRsFhpSeqjKIwUw/CPx5X8IhRBV+iX+x0ZZFjkNxkzr2kmHzvkefN0wt3JewjE8mEdz6YZH7n5f1KXyDvyf//pz+8HFSU5t6d9tXKuP34Crd4nPkf7I97i/W+ISQbuXAt6uWjL8Gzh6dOIhK+LOmOy7nneSA6gfcYPXjPK3Nt5+ItnVF22ZSdT13vwJeRCKH1FW4xNLmRU743legDH5RE//hEqJC9r+as2VHWYtsT/7+nk2VV/dbgSETHrl27gog22h7ysFH+SMUQjyrwvqCwPGFfmcjessYgzYN2jhk3/L4zlRAlcjvwm9mnzETa9ZJoe04b4Y5hME5JFXUxpOxovZpyLmqJnOF8o0zjxeaVvofcbQxDXAc+R7HmuUEZp1ga3m+qmOMN53t4uPl8U/W5oHq8OyuDa2yRqA+MqfLfGGu5xkO3L5X+ClGFW1Hyjyrco5Bb33ybsdL2zqGIkprG8+3vS96Lwo0yIkU8whTudCIeH5RxCTn0t3EFK/3/+fO4oNInQl76z8dMjhugzK+9bsX/vggDxx88/qr9Td7jTUakeIu/vQhVp91QQ3eeYPIhqdQLDEJkKiOfU1koGCLuHJlMXSPeS/FOiaHAVwzulsItOfR05pxTBudPztkUug2Ddwb7rofF///ZCvuWyq/sUwxG2crc8ovWs7K6uNV8ebjKemA+q0h+XyWTl9acCBRyG1Yb+4+cGwmF5f2p5m6zoPS8nW/aD2sNkxWNg0HurAgeSP/3Ef9ZdqMfMvVwZ6Jw+4KxwD9uVzAk5LJfRP6T+99YlhxfllG4xYv5m8efCQyI8uxL7vz3H3spqJzO9WAQigItCjPKkCjnUozRff7848hWKNiH4TCo1C/Pt2eAygSZXzvb4znWEJ+e4ivcycQ3hKxrjk8jIH0AIxYVzJnZgfdULF9T0mavC8obyjbKAt5UUbjx+KFscH/isVu5cqWNNkFQKPCq0s6ixKBkHC8uM6V1zdYLemHwa1NU3WBOlteYvmtRz2hl0xlzvLTK1LSete+zncs6U+F+pk1Mhq9wZyJE8mD4E2npCH/OR0qWRK4VoeKcVxTsjRs32mNHuZNwZ0LNuW4oeyjdeFobz0UjaKQ/4v4VxY39upFBrpG14eKwYY4ia/7xpBPamTsF//utjadt30V7IhE9roGLMQZOC8YVj3y2IvJ8l5o/f7bILNtxwNSdv5KQC+1K/6UBc/DgQWvg5TzzjBBhdeLECfs8LF++3H6Ocr5ixQobbUhuN88D4zHJ4abOjkzjFdZWphLGWj959q3AeEiNH/pz2k7pr5Cv6gcTjj+ZUCxUUZTsUYV7lLKofmQGERQvk5BlN3SZAbJr5aezpdrlgc7sFUlXXM9YtuIP+FC2M8k/9H/Pf88+UGi+qr1qZp3qNMedXD4quLp57IJfkdqHCrV4/Sjctbm6OyFsLkx2Ng0XZHO9lygDTGsjhgJRDGTbu6Vw+woQr36FeP9cJxMZmPnhlq6V3ZdM7qUJx84FA0PZp79NPiTs3Igcacu+uBGSqlBimPAM51JjD6+TrzCHyfTK9M+eL6uahz0lhKgysMS7Rlgk7Qt1AvzvZCKicMOygyXB+mwHoIgo51KMkWdPnj9/22yFqCKMiQxuOSYG85J37G6XCeTw+vvPRJZX9dlwXtqlg2evW8XY3yYTOXC6zF43v5AjyoB4S1GiUSCQCxcuWMUCJQFlglfyhwlflhxV7gdSOgi35X5g/4TRsh/yitkPfRGgwPMdQnUJfSaCg/e+YWmk+sowSZX33XDpa1vQy09LsH1tDWky123dB1dQbNw+YXtzbu0VHs+CsnpbFFAUocrOC7bgGbKu4IRp6LtmquvqbW4xBg36s6VLl9rridGDXGOMIXi0ebYkDxkFceuBqKFV+iPuX54PiYKQqDfWs4315kcU1tcnTgrOz6KjtbZdxpvKK2HQ0j5LET7abAzPE4+fs+tnVVyOK+Sab0jvkHOaS1uSSgjnBwwbm05WmR0NfWZrbY8teMbc88tONkSLQtadN0uO19n1zNjAc7ulqtP0D1yzM5ZQuXzpycaE/d8t4Z5XFCV7VOG+h9jcdiPwzoiygvWZMEoaQjo2t5osn80pu2AHSISMYzlloJMMPu/sv2wVSQYDdAqrilqCwcHe1stmaWmn+aQ8uw6JAlVLa7IfWOBhcL1mr22tyqkzlDA1rMd0fi6cGz88DI8AYbrpIG8W67SE46eCweKJxs6EYxPhuiX7b3dK4Wa6KP+3R0oeeGeOHZhJuKV4FVwrey7ywvIjaT3rnNdgoBeLLOA9c3XjjWT9e8d7zeySXrOl6YpZXtpldrbfsB4+f1+ZSHn/sOGC55V6DNbIgAHBfS2JD5OXiJORhPll/aJdqcSdZ3VVROl2UwZ4lfNI+CweLjFySK6zq3ALhLSinKF4nzxdaNY3XbN5vnOLe4LIEvJ9l9Vfs7m/rGdZCmDNLew0RwtLA4V7xYGihHOejfjGEp69sOfvi7rwQnEiW9sGzcLaxGf2rb1NCet8yQSCF7bFqqWnkk+zNNQgyxuj1Y33naUK+o0E2dl2zaw/cNJsOVpsdpwsN6caz1qlris2FR3tGR5Critea5QC2kIJK1+zZo31lnLt9+zZY713XD/SAmzYbGmdmVV2yYaREypNyLkUvXNTMWydi8jy9LLL9nn071dkYeQ6Ma2eFALEC8l/TFVZndkoUAKlZgLbjoulIrjb7qgNj3BKR1OGUQW+SKFBlv3pEmX9mMixVvQN2f4ao5acc0KZAW81xgsKc6Fkc96ZaoprhYeb64VBhGuDp5vrhOGDUGbJO+66kuid5vnwjeL+5/xv4fUZi2xKBIo57TNh0NI+SxE+2my8sDJX/M+fe8veS3eKdS25GaMykTlF5+z5v3nzVmTMlPh5OtlQ3GKNVUSMlLR0RdrIPttOilAYcHlDYuTRnJrc+q1MZVqlKtyKkguqcN9DoHCLd4b8xv8YO81an//uoWj+57+8MCGiUFTYwhpPL9hl3txdb2ZWXrVWVMJpD3UO2uX9Z64ESvSpiHLt1uQ6HRkQM/8vDTehrgx+GfhKY84UOTT2DISH1503pQ2tprjpbELjPJJCx/zU/B3mF3/9xDw+c33cq7vdysrhub1lzlwGJ1jyXRhk+EV28MjgRUkHXhcGmCjdqaDgDUo9g6G2K7kNwiTnN98wHRJebj+P0JdTPbfMwa4hK8cj90/ThUE7/Yh4XJhOxs+j85WZMJlSEQ25RKaUXjbTK66aaeVX7PLS8h7721NLh6thZypUPJY0B4kswFtDKgMh66yXvOhshOOdXXbBzKu6bD1XyNLIM7PGGcS9vqPGPL/8iK2zQH5dXHXlWGifbFuXoso1ERXZwpRS/jGnE555AYVbUgbwbJHrK+eRFJBXN5YEni08ug9PXhKqcANGLQb+PIcoa6RrkOuJIiCFmnhOUMYoKCQhmJJ3z8CT72Pc2rl7j1lzuNQca+03a45GPu+6al/XHqs020ub7X2yt7rDFNR1mc2F9fbz2dWJ/zWdrGlOzAs+ceai2VPebMrKK2ze5anO9Pe1L9QPGEnG76yyyos1fMS8iaKkWSUpZNqt1WWdpvlMe06KAJ5dQJlYv369DVeWa4TXGi8p61GcuNbkc/OKAsi2tJsbyuMjZW5XpBAgCpzUQUhVWf3VDSVWCfzR028G25ILz7K77dKD6fuCMDhH/jFmIg9/9FWglPrTJcp6xgDPvfmuef7554Pfw2vNM4XyTdVrIrd4flCwuR48W+QLHzlyxF4bFG76Qz6Xuhb0h3yXZ3DPwSPm07Lk0UdhQptf3nXZlEfGAqcqas3aes/InqIPkCKxRPn4hi1X9p4duishzaub4xVzW8DseE+QjuIbTxFSiji3u3bHp7eJETNIYYl8d2IsUsvdbk9Dr23ziPTwxym3AwYZjC5EpOxri7YPchxxxp6CqBGV92wjOeBTy68GbTbt+p2MSFCUexlVuO8hULhFcfFDe29HxGsBfVdys45uL20yTZdvv8o1HREee7+ohytiaed1vC3kFd+Rr2kejBskF/cMmkUHyszJc0PmdERBRLFp7uq1uYCuUkOO4OHCMrvsevp8CGlk4OiHWvqQoyheOWCfJ7sHMw5BR0r6Uiv0ow1C4FCSPi/LLaw6mXxR1Gn3O68m8bN08j4Vvb17RN7760ezME1UNiSbhi2VuOGCKNxyfoKc5JDz5W4ztWzArG+4HAyQF9cPmnm1UfkiIuubrpolpV1mZVWvzf+lwB0F75aWddvQ56VF7aa6qc3mkaKQo8BJHiQKBOtQGBg0okhQyZewWIRwZJC5bXnlGUW2H44oeSdrTGlPtG2QYlRbSlvM5ByUTioVS/typPtmYIASIcrBz30UGYmCXS7Pzt1sjSKS1y7RHmLcCZt2q6Dzpunqz954hWw8VRsoAFwPvNmicCN4TNeuXWsLc3FNuE54XAln5jPazp0NfXF1LMQgIEqIG0ERpsxkI9yfIv5n/nbu9iynCilPBQo3ShmzCYhyJcoMBRExAlIwFMWG/+fmR/vHEyb0tximMGYgnGe5JrTBGKzKaxvM6voBayBH+cNwznzyGMsR1lO/ZGHFBfs5USU8j6vXrLXKeW1js+m/fivB+Hf+yg1T195jPklTOyZfUnObhdVywVe4MTT+7JUPbSpKshojnE/6LIxz7noxYv7tg0/Z9xgzf/jkXxOKFu6uP2+vI8qxvZ6esG8MJP56RFJ4/PXIggULzKRJk8ybb75p3pq5KDhut8gfx/jDJ16163jPNpID/tu3p5uXX37ZnpePP/74jkYkKMq9jCrc9xAo3G6DnInIoEaKA/mdOnLWCWXFI+x+xmBBvCJ2WiLJlS2Jr5i68kStWXs4OpCQbaX4l/ymDDRY99beRvu5DVN19kVY4HsneoNBon+sd0q2ngmf+oMBZrpq0DK3NmGULnScdJJ+CPu9DveMpCG4srv5YjA9zL62gWD9G+tO2IFoMo+cTHsl9ywhomubrtmB++aSFjs4JBef8GNCkhlIzj7dZaMvZp48aweSuRbwQsQDEXguIoqkte7HBsy+SDiru03Yc3a74hrGMkEUbnl+5dg43vdOnLfPnzyDcryuwu0PMu+UbCxusp44FArCYFEmUCpQ2niuUMaJRCFFBMV6w/ZdZlZRj61RwbRfdo70igEbnszylKI+G7osdSxYNy+icPRfvmKVX//3R0LIr78duNa+op5MCPH0fz+dbG+6bEqq6+wsALTV7v3B/TCuIDbVWCy02iqhsWd03qb9VsnmupAHTPQORZ+4ZnixiVogT3vZsmX2lfdfffWV9bJKvvCiI9VBtIl4cFFcgiJ4sQgK+SyqFAyHNLv9WvS46ENQADnOATOz4krCdItu0cpMpag3N4MnCjfKCiHtP3vlo7hioo9NW22LceFpJ/KF9BpJtZlRHp07XuaV95e5r+dH/lfnQHwkCWHHnGeeE54bno2DNdF0mWylayB67+LpxmsuBd6kiBeK3NmevoTvZSIY3SQybmlDtH1xDS/cixOPdQeGF7+PYF2qQnbJILVmapbPydSK69bAAGFtIc8EqQj+ehH6KK7Djp3xMxn4hpS39zbZSAw/XL+g5WJCvYKRwHUUbEoSaeIfoysaUq4ouaEK9z0E3pRkRVps7ltIgTE3hBZrrFgsXVlUP5z/s6wxvmOxHeDxHvPS6pN2gMA+ZHDk70cGElhq2VaKf7G9+znrCA/nc8JUw/Z1t4VwUh+m9sCzlgoGKQwsCekTCIPFs5Mqf/5u0H71m8gAKPE+8u+p21Few0QGosk8chLeLUXkCBFdWNJtz61UdaWoHZ5OmW6FwT5eGUIlMWwsLWyzSjh5dOS6TT/ebhVxlPLPC7utp2fasTNWYWedWyBMPBD8NoNhLPs//csE88skBiAJZ3VzFOWeF6E4jxgctrXHP2PMo8q82yyL4uMqQCK5KtyPz9oQ573geH/45Bj7/MkzKN6V2VXXTOvlm1aRKzx/0z4HvmxuGzIbW4dswTraho9KrwTzUb93Mvo/rIcyVltCpgFkeVxB1JCBd4//iHLnDq4xABxpu2QVawo74Q1FsSNfGC92QUGB2bx5s11HWCOK39qC7NMBEM6nKNxUXSY3luWxu+vtoJ9l66U8fcEeK8eWqSGFgo+5UuUVL8yH7Ou4YRYsXmpTKmiruf6iEFIQ6wdPvBoUe/PTIJ4fO8EqAkQd8LxJjRCuFwofFcq5RvPnz7frCFtmHTnC5HNzHdeVRvOlfUk10CckWaZDcvs1aUekX+L/LFq+yj+tVunyjRWpBEO0m26VDW5IuURjpfxvMem/MfyMs+xGahGdcfrsgDnU2GOjM3aWt1rZVdEWLJ+srA8U5J3F9XafYhAUA6bUdxFjuN/WnK5utN+njSV1yofIERRuiTpwQ6P5jxJuLc+L/OZHRZfN9vI2+9zSXp+uiE5f5RpeZOpRMbz4fQTrfIWbyDGcEX4usyu5Ftajj4QdZ7L//o5I+0ufVVFZlfBZJrK+uCWI3pH0GqS87ZzZ1pp+PnecBtJmn+yJtum+5DIrDTUTFEXJHlW47yParySvAJzOGpupZLIP31KbTj4sGq5gzfuxuxoStkklbsEcN3TP5h1FxO34ZSAtlvPo7w8X1ZFtVzXEFzZikIAXQcDyjULjdnCEySLuulXVfWZZ+Tm7fKgrt/DEfJHL1GaZCvPB88o5lUJ/KFusk+ucTtwBqs3vjnkuKbCEJxOPz2eFvdZ7yWfM7Tu3oNIq3gzsCWllkE8YHeGseEtZh6cGRYBBDMo7OWjzi6NVcv3fTXY8YZLq86UNw4MUP5cfb973H3vRLovi4+ZsiuSqcGci2Tyz61tu2ArartIjebMMlnnlP/30+XfsskwDyPL//NVjgVKE8oYxIBhcx6blWXKg1OYH2zm3ly2zXlGKO+EtFe8dCjjXEqNLYUv0mRahPSAnFGOhRCcESr0TTXO4vN6cLo8OhlEyZUCP1/Hv/+tZez2Z55ZaGRwrxybbTDjSZfePwUAMJO4x3I7CXdybm8JNZWzfYBYmeBlbBqKh7XLPilLo7zNMyJfH8IEyQY2K5ZW9gTeZ55PnUYqhyasUQBNZVhE1zGQr/jH670UaO3IrdjZSkP5BTQf/3KeS5Y2D5pbziK/NoaAXRcCE+ovR+0gMgmLA5NU1hrvGOGTT3kPWcEIbSooAz50I68aOHWue/NPTQSiyhEa7hhnCreV54Tf5LYw4ZX23zKxZs+wzjQHEP34knXHCV7gxTPjbZCIYC4mekmfXjZrAIMj4YOOh07a9sca+44U2P/1s/0BCmL0IIfhVze3mVHmN7XcwCBPevak5OkWk1L7BCEw4P68YfQk/xyAsn/H+7JVbNmQcYz3GLYyMKNwrqvsT/stICZ58/z/5kirdTlGU5KjCPYpovPx1gpXSFxrEWdXXrcyOyOKG4RAtPNV+A5qRUBk1MhAVxVXCt6TaqyirCd9z5KPINoQB++vTyaTIYJWQOzec8MnPt5hXIgPyVzaWmJfXF5q3I4PBd3fXmLEbT5uF1QN2sMZcsOSCzizuDQYUKCvi8WA/v5+y0nb0dPx8xm9YhSDSmTO4J2yd/ybfkQE/g4QJq/YH14WOE+/0ja+HOx2mFvP/SyYyOIp6K1fhxgvJgINBBkoEIp4PCTmVbWWZCr94MqXStzViMHCPfP5Pj8UKEEXOqxT6Q9liHYMa/7yMlEw/fc5s2LDBDhRRxvCIM1hC4SbXjMETgxeEOVEJh0V5WHgof8eELI4MoIiOYMB0tDZ5PmoqxSdbhRsDj7+PkRAGhicrotWdEfd4kx17qs9lnbyuPl5jvaI8d4Qocx0RvKSEk6N0I4sWLbLpHesPnorbH+3B9x553ir1eESJUPjxM2PtZ240DQp3UWVNwvEg6WpkPDhxvt0/bRf3uB/RMKvqWkLBtTBpHYjPR8UIVFA3bCxwc3slJUeeS9eQOHZ3g7k2dDOhgBEFF/3fFEH5mZplhXOmmTxY0WiNIRhByNWeXpm4XTpZU3HOLNhfYj7fU2TmF5SZRUdrzOJjtXZmjIL2q0E0CH2e/910MqXiuum9/k2CohAmtOmjFWoo+P8tnSytu2K9x7SBy/Ycj/vMf86Syflr6UO2KVzmfy/st3zhnhMGvPS1TCWZwo1n/aU1J+2yGNjoz9wpyMQIz2dv7qq3hkJ5dun/3or0U/Rp7x7pNC9G9kUBTH8MJiL/hdx52iHaK155jyFK8qyJEiCNbMmSJdYYTBE0jBekyBAJgnDN6LOYbo/IAvopP/0Mgz/7XFzWY9Ou3tgRjRBwIwwkHYtlRCIZ/HOYTBhHKoqSH1ThHkUQquM3gCMhn5ZFrasin1dFp66ZePScDaP899c+iYZsxRRXlrFSi9eKDunZr4YHqijBWIefW3bQVkN/at528+fF++0A9JFPlprfTpwXbLuzusscK6k0x89etZ5JjAT+8WUyEFh5qNSGl9LhENJGvhr51OQCyjaplBXx4IX9Vti6FY03zIXBr82xwhJbhIbQwlS5kiisvFpPecxg4SqpIqNV4SaM+neTl1ivBd4+8gnFyyohp7IthZd4ZRs8mT+OVfp1q1VLODESdn4/K49XSAiV3FHWYhbsOGrDJQmfnHEiuo/3T/ZFBhc1VsHn3DKAYCAxriB6TUURsZEK++vNF198YT2gCxcutAMcBjoMYAg/5v2irfvMptN15mhLn1l+oNgs3V9oFu+NFtXaU9Vuj6Pk3PXg2ErOXjJr1q6z+0EBrO69bgfDftiiyILa6/b/8dyJTCsbCLyAYc9AJkJYuu8VEyF80YdUPV/B8GVuIQNR8l5jhaWcaYmkcKEMUuV+XlZ/1Xrw/OMbKdlWfsZs3LXfrNy03ew7dtrMW7LSLn+xbLWZu3iFWbttt123/3ih2bzngNl0KlFp9u+5sHahpPeWqegiUiK1MTFUYvvLJjIgTEjXGHLaBCIvnhrzdmAskNxetpWUHPtcOsZB2mu88mPfHmdeeOEF20YSxUF+O/ed/5vpZGN5u92HX3QJgxEeOxHmzyYSwVe4/YgWUib839hafyFhisZkUKHfv2/DxJ2OL1MhT5fZGe4k5IX79S7ChOfappuc6LXFQTleCQv3i8pJnzP7dKf1hNI3YsD3/28msrUgWj8BQyX3EHn6PtT9yzYnGnGnDYP9nYmKbCohakdmHhFE4WbM8r9is06I153+TKrV8znv/eJmuQpGNZ4LngExdGGYx2hGRJwoyxR2JL2Cmi7c8xiBMSgyt7xE7HDNSIXCsMgyKWm8YiRGAXdhFhmuP20DxyH/lbbgqch/ZVnSPySSYXJpdGzCZzbk/2RvcM98VByt1cBn804NR/EpijKyqMJ9h2BQtbsjsQNxZVqk8xePoVskxO1gyY2SDpZGkg4YBUTyssQj4obtTiu9bEOjJG9nW1v2ir1bcGaSs95dDpOyc9es5RYIUxv6JreB+qbCejvIQ9mmI8IrSajVjtNVNqyYQZ/ItIqIslNy2b7y3p+iKlvBS5TuuAmbxViBgkqeO7m/ftVRZLQq3OkkE8VClJpMtsV4ITlpDNwFwoTxADzzzDPmxw9FB08o1I98utz810df2XMrUQu/fCMaySCKiJ3qa+E288c//tE8++yz5sMPP7QDljlz5lhFmcHNgqUrE44lE1laO5DwvIpQlXt5RY9VFPk/uYTLEuYrisP2M9l79VDic2HM3DXm3158PwgHdXN5iQB5Zd1p6+lBMLSx/s3NJZH/2GNml6OsRos5IbMrB8ycqqu2wB3nhTDKORWXrdKHTI/IF+X9tioy4ZTk0cucsuTaU2Ro9okzZlH1yFa4z0UKOocNGChyvoEjTGZUJe4nE/GnfJOQ8jAjgUjYZ6V9N+10aK4hK5e273B3YuoLOdtMI8RUaAjRIRiveF59hduPaPn+o9F0CVfWlnfZ8GSeSYohInjNRamnTeA3MXZmSi4KNzInhSFLhPs5FSjtvgEgTMgJ9n8/E/l9pP3jmktYuDstH88sFehRuGRaPs5dYWm52VDTazY2XbGzAKytu2jbKaLDVlSet/JVUUcwQwDvt9SeN+WRNox+tqv7nNlT1mSN3csKisy641XWIFncHTWWlvbetLN+uJJqasORrs4v5BpS7opbuI3IPhl/iTfc/ZzPiACbWTF8bxL6jaLtK8eEzjP3PMo3U4jy3FDzgHufdURakfbEWIaUJyAaizB0YL94wqlTgtccULj9408nHG9QgXzWRhvxw31Eu/+LMZODzx58+R05dEVRRhhVuO8Qft5mMqEj/XmkAZTiZKxzO9ifvzop8GowMP6g8IJVQCQvi1cJrfb3fTekbeBra8G1U/NEFG6oiHTWX51oMrvarpmVZWft8r7IAHfuwWqzuqLLCu9XlHaYddU95ui5iGKza4+1EOPlZqBHhySFlDaGeLhGUra33zCHuuOVILyt/nYikucepniOJoU711zR9IJH97KZGpHp5QNWpkWE9yKflicqDJmIW0PAVzp4P7PovPnyyy/tIGfmzJnWkzBv3jw7iMHjvf3AsYR9jpTgLYMtIbMJUJSLsMaJx8/ZwY//uVvVmrlm/c/530SjiBHu9e3x93yuCrdffTdVlEimsrPuXBBeiUiFY5Z5ZWDKAJKBJEqWGF4YjBK5srAm+9+fV3HJhiUvOV5n1pS02cr4IlPLEyNN0gmetGQw8EWhEeGYqeZ8sKknuLaS1y3eXon4kFQN8Syxrr37vOnuHs45xgs4koUKURrcAlms4/jknpT1kjqyrb7PtrF44gh9JcyV/yjzOXPtuF545PCA+gp3qqgCkW0NF+29gCe2q++iOXP+oqlu6TCnK+vMwVMl5sDJYrPz4DGz+/AJG8VAxMO2/YfNhp37zI49+4IcY5lyjGPaXx+fy4+SxIwDLL8Re17C8u0zEXm2k0Fql/8dX2T2g+i1H46E4jOWuVeYPcC+j30ufYh9z7GHnFO3n1lSO2AVN64PShz9JF5TpqiU80Vqhq2evWOHDWdG4eMa41XFQEmfSn5+4ZnsU8S4b4vPR1MBMhUcEdSEyJVco22Y8k2cEH+eNDco3Pb3Dz0TFGkTb7hb2I3PJJXE32cyoQbJ0aJyO37hueJ5x6iE84B7l1c85RibCEGnv+I9kPZEO8l1xdiVi8Lti3sfufePhpQrSv5QhTvP4K3DStl0YTCuMqiE8MRN21UYyzuKNICZFCdzG013kJPNoHluyXmzobbXrCjpMBurus3Gyk6zt/WyncZpT2t0QMhAjOljWCaUnOMXDzqDtnGxKZRkALGw5JzZUd1lNha3WEs487aeaO0z27bvsLlfuXhdvjjdEcwfSvVpvGR4xWz16drE0DbOH9EALDPQSVaoi+OXiskyJ6q/TZi8vDY+bzRTGU05gxwLFZH93E5XKvpu2Vzgg51DVk6fD6926kr71cyMS/mQz46dsbm9KNuff/65mTt3rhXmHiWvccWmHXHbS34fA2G3iN6k0mgF7eGwu+FwvInHzgXPgCgrKMCfRQZVeHIoKuYf1x/nbrUD6gffmx+E5LvyRfVV097ebj18mxsSPbwM9qiULka4X4+fFfd5rgr3gTR53qRK2P9fEqs07Cgsbii/m098vCv9sVDVGo+pFBWSHEgGpAuqo/sPK2rIs8qrKLD8Hq9LK3utAkHkC4LCKMszSuPPp62aHosQ4pjtFIZHOuO2wSNPW0M7I+2OzF1MkSNke915e/zklaOg/GnMW3Ygzvel8J14e7//2Et2vcyDjWfpx09H88qnzfrczJgxwz9FKSGP1T3eVEItix899bo1xMosFSgLpI5QaV7CTwlj93PRU8mUyDnad+iImVmZWV/jyrrys1aZX7s3Gi6fjXwSEYxaW9sGrfd2Xf0ls7qm38wvvxC3HUrS//rN43b5//2XB+yr/d/T1wXV8d2wWl7lnnMNJaxH4eZ+TQYF6/zj9EVmPyD6ieMQrzSfWaN65F752SvR9xIpJVXZH3x7mvmvcdMSPO8iFKajcOTuhl7rncYAhGELRRoDkRgmUPYQUbhR5jBO8vwRiYbXFSMIn28rzq54qYg740OmcrsFRTMN0xdhGsshJ5UgzMiZSsKM6enkVEOHHQ9y3oF2j9BzDE+S7y1ebsLQMYy4HnOUbb6zs7jORgj5qUy+kILkH0M6SWVoVBTl9lCFO88w0Mdi/NLY8UE+ja0KGgvbdCv9vher7Hy3ZGbpBWscoNGnkz5dVGzXc4x/84uH7TIKg+tBJ5T3b3/7lB0wIGFh1CJbjhSb9v7MFFpfPrFzrCauTyac4588+7ZdJr8xmcf/6YW77cD7heWHbQQBr/42H5WEexYykSUNg4ElH4v6/QC5r/4AxpU9WQ5ekLipa2LKlb/NqvIuO/VNQV30dWtxo62YPO9km1lYecl8ERlwzy/qNF8WtpvPjzSY+SdazJyjjWbh6TPmi5OtNpxy7sn4uWklvw9FSbwZ3CsvRAbGpHFIPQPxZrD8ry+9b/NqJb+WQbOvAGcr0yuuWCPXwbPX7T3jf55OclW4U0HdAlIlfvrixKCooVsgzA3ld/OJX5z4aaBAhwkDR7yj7jq82ygCKAhfVEWV6ISihrF6ArSdf/fQ03YbKYK2ouaCDd/EA8u++H0Gt/8/e+/5Hcd1pf3+N/fDvd/e9U54Z+wZe+y5M3NnPB7LY1u2Zcmyku1RtiRTlKhAMYg55xzEnHPOyCCARg4EiUSAJBJJgFn0uf3b1btw+nR1JECCUu21nlXdVdXVFU/tZ0cKDS2uiT9XHNOvp633j4Vtvh7w3KeDe84reu6nrBWRDG5IeSbiEm71YvOZZ0ifI12uhlj3vx8VR/JKzPZj50xp56DZV3ZBaiOsOlxgNp+N+PURtuZVSUjypjMVEo68+WyFOXrqrOSI13Rnf6/nAvs6QLh5bjU8W40fmuPLOrahBIIM4eb+SiYQbu1v7xrpmD/2SKNP6t19C9pHgDFQ51Fx3O6fjECOiTCAWGPw0Zx7QpfxWvMssA7eU7zdrAfZYx3NG4bYMSU1AKLOM8hv+K+DFc2yD6SycUzaI1uPC2O1LIt9VwPW5MIho7xtqKS9nq6n64KJJf1CuO0CYY9bsiXciveiOgNTO3rBNtzwzKmxf9X2/XININjkfGMUJKdb+5tzXcgBP9rodTqhuwnvLTsaYEfTTbOm7LIYmCgau+fSbXOkPTGvPUgw6Op4y3XH2O6S9HQgDS2UUELJTULC/Zjk0s14Bcl9ubrfFfSPtAc8lPHFtR4WRJX0va13heSc7krtqcoEM6KkltAlvDa8rG/fHXoJuSFIQd51XeZuV5Hf0G7Oldd461ENO0p0eBlNLPU8ULyoeGnpi0s9ZyyzCbeuI4pl9GVNpXP3v1wkO78jjYbrX7u3wlMthMS7x5gJROGPFd76sjxxud26BkKlBikb648W+H18yX3DY3OuMLdIAxf2fcu+pqtNMNqwpDaYcBNR4uZSpoKdZwnhtv8j2TPkzp9dNRjnfaMNFB448rzxwikWR/olhBgFkPBJxhxChZVwJ9u++x1suzAo3iINX9f+3YTIuh7uIGjtDO4D9aIz387dVMWZdYQwnG21zrQxXbfS97V3sb7pTk69nl3CjXGC4pd85hn65z94z5F7nJng0zNeMS4+c5yQLs6JeoSZpwXRtuw7bHp6enzvKX25IXsUf6NIId9ZRtEoCB1VzSEZkA3p1b39oBddEj2nPkmJjRN6Dezq7NrGCSOoXg9/ecB9kQqp1neXpQsph3Azhv3L617PaNuozvyXFu3x8q2nJTdIpwJ9vVUI/VavKOHHhCYTlqzVsUm10nBkngOWYYCCZDF+YlSHcHPdeD4o3kXFeX7D+5+K2ZBf7jE7jFp7ZNv92jFQqDGSKQb3VxZsT+gYou31ZL3Y+P6b6Rui52Od+VH0vt3bctes2XssIVrKxqOEnaeTrtsPE0LdFbT6JM99/ul68+X+UjP5UMSvZ6GRExq9oNEiarihiOh3n/OKz77w6h/NSy+95IfuY1zEsKGEGyNk7/X0ukwQSA/LRq5du2Y2N2RfUHFNQ9iDO5RQcpWQcD8m4YXhDl6ZIFUrIMmzKimRFydFW9zf2rAVRw1rZ76GZILp5QNiJUdRJeeroKg4YTuZQK28fLbb6zT13TW7j3meJMIcsXjzUv7rZ7ywP15UWiFbPNQxzxnLbMKt67D8Z58vNn9YeTRhH3JFMqu9u14yoLTX9D8Q8pKJ1flJC0oMnnfXS50MJzuHjDC0IJlQ4CniYtXHECPKMP3Ovb7Weh5/t3CXKCF4k/68rybhvCmE7MbgLttVUOX3YEaZJ5R39foNEiKM0k5+dKoK5sxn37Jpk5IV2O/YeQgyPNGLm3NISz97vk0o+K7t+GxgaHPD/W0EjRPcf7nkAuu2XMI9Eth2pky8buSZYkSBlJGH6q6XDl+VX5awWRRXxkUVyMSGuvRKrFbbR0F+Z2uxTxQ0AonxSKsBE+bL8n9/45MEUpAMQdfnUcQl3DbEuJUkrYhWTCoUJMNDyrN0NNIsxwix+s6v/uhHMXCczOfZUY8wZEkLor3w8msSEaVeUooTQrAJ5SeFg+sKAScUlhoKKPrUVSBUlv8fO3WuEBXOqZIUpvy/XgONpIDEkV/Lsmcnr/SjlnQ5+/mLL5ZGn5+IvCOeGTfP/OKtjxOMSsc7sjdOz61OT7jd3wSdfxtESLgexCDQW5tnmfBvng/IM15syDaEGs8lQo0Tzj/EG+Ha8j7nXY5nVVrORa/L4OCgjKOI1lUh6gTSjecVTz7Xs7o38TwlG5sV3HcUxEx2/+k2tMp/NiAVjeKlj0NIeYEIc745XwjkmHB7W5fTY0x2rDYKG9ok+kZFrwH/QwqAXN+qmjiHAu+rCcVeLj2fNdVBC+WqAWxn2UXZt2xkp5ULLpXLYyl4avCy/0PXCwl3KKHkLiHhfkwCIc66BcbFAVPX0JgQSuYKlumy8gozL0U/VPUeZIMZkYEo0QWDHiJeOyc3vJsBmRzIsYcaosS+SqpJq8KGVVzXq7ly0+w4fDLut7yokuWr2y+xaQEvtHQvOaIAyLlcWt5t1tQPmlXRlwXFqZbX3ZFqySUdNxKO5Y9rTpifT1hmfjNjg3xXq7277VSgQN7TIntzqIitwCtIuKWGVkNW8OaglH//pfdlHVWaXeTiQd5S2mwOFVeZ7ScLzdbj+WbDodNm1b4TUsGcsM2/jxKFVBXMmU/eJOtsLaoX5RSPj+Qr7tsXh+1HTklIOiF9S/KbE+DeNx8ebpReyBJyHj0P5Fu79+fOuh6JHllRF39cNmHgu7bjs7G7JftiNlTXd7eTCSjahcIJOTpQ1yWhjUGgqjGVj6lGviOqvH2KQUMMVDHCV+blRwMURQwi4j3WkNvolCrIeOoI/UbxhLzlF5eajYfPSGcFsHzHQbP56DmzYuchs2TrPvGErd13XO6BwyXVZkV0eeOFZvHMQfqIgNAWgpCQZAIZxzsIMSFdwT0PyeBe10xxeXD4SDfXlsr2rsc8FVbWDpiqmlq/SB3vDc4BggfV3V8XNrnQz2UNl+Sa4bGDXEPweH6Yx7VgHp+5FjxvAA8fRI+IBEKl7W2ngmvEyuQ3hAq7Qgh/4dVEY2IqUPwzlWBMc/87HTJJMWJf51amP04bGAfq27pkrOE54P7G861h5oiSPaaQbDzaLKc4HmQe0n20KJJ1n3bus1TtMx8V2VY6J+okVQvHIOyJjmcYiNye9iq5jqsHzxXHFUfUa4CxA7It6XyRqjiHAu/S//3j38jvyenXVActlMvyf3n9U3PqUr8YXnjWuH6ZiE24efeozqYGL/s/dL2QcIcSSu4SEu5RINTRcq3wis7+QZNfXm3O1zZJX2id78rlgQdSiGZr9RWp8J1J1dSRQCoL+Onqi2b3wSNC3N1lI4H9dVclAgClm9B8d3mmcBU9AHl3X9Rg68W7Esb7tMicQyV+7rR6qr1wTi9nD+DJxmMthpUzHQnnwgXrkS7gzk+FqRUDZkdFu9lblX77yZCugrn9fVN+jRADyBkeI/ViZCq59NI+FlP+uXfcZemQDeHWQo1Xbj3wPCAxgsu11HsZA8Xn5GOWecXQ7IKOp2tbpXgbXkhtRZNOeqJKqCqDGKjU+ILBDbDsey++K95jLRaFIkePczxvKLgQAxR9wo4JOcYbtGrVKinmRGgyBE6iGlavlpBl5nMNIY/Mh8RBICF9WkDNzhOHgCTLE8UY6p7z4cbFNKTNFgy0GDHc8SUVKNZnjz14vJRcA65nsuPPtIuGi+LKWhljIdaajgRp4/8gcFwzrimeQq4NBbog5wjX53hZXcI2hxNBhHskhNPuvrtT4UbAO9wVjFCny3M7P6ervDZV9NDm3BPGr9cFkZDy6DNL3RbSPSDKmvJBCsiimltmTnm/wE2BuNjSKsSO7TPWuIIhwb03XWAssvdXI8v4jEdX30OaUqbIlnBn0/rSBpFf7jWz0Xzja3OyrsOsP1Zk6nruJES01F65Yc7WXJRpfn2rqW2/JhE4tijhJpQcws21qW/yitMC13tu5/Tb8xnXD9dfMUerWuLatw4H3PdmSLhDCSV3CQn3KBAssO5Alw57Wu7FDfAr6jMjAPaLzR1MM8GkWCV1PFlUcJWQp8JuM720V17Ss873mpmlPfLS5rO+xKnCfORMvrxkbj94KC8t2r0UVdaZPUdPmWN5xWbVpu2mMFJr1tRlv1+Lam9Je5GZJd2yHwvJIy3vkWrCvOCpIO3+5lEwr9qz5ivI3RzusNHHIe/PXyckCUu2eqoJ+/7HF972yRKebLV0U1jOPReZgB65mQi5dO5vRwIb86qFlEHs9h07bVbvOWrW7T8hnlQ8p1uO5Zm9eWWmsLHdXLoRX5kdD8eK+uxJ88YLwSHlmSAbwq2FGpet3yTXTAku11KrHkOGv/Pc634xNC3oyHovjZ8rETZ/+GKOTCF+W5o9QOpImbDPR/21AenP6yuAAcYWltnpJYq8pi7JLcUTBxGDNKsiT2scwswh3hBqFFbCXiHhkDxCoVFSyYWMNF4yq0vaJCphS12f7Df90ekzzDxyMKlmrd558jJPdAydU3r5ul7NZDjY5o3Xn5/r8kmB230Cj/6Hh73WgcxjnWwIN54591xlgrz6Np9guyGmdBhwiQ9YVz8oFdjJqSf6AoMQoD3bV+eqTUlzp3+tK9qi562iwUTae0xBdZNEJXCvEYLM/3GtuE5cP82hJ8QcbzZhs6zPdcOrh7D+sbMFPpHBwMy74NDpfNPYfsVUN7eZvLIq09zZbYquPjA7o+89KpS70WBUK7cjL3ZfvGUOROdzr7rXLx2yuU7DKTwDpENgeMIYQfRFdauXmsO9RStKzaeneJncW9H377gTnhHNThsrvXhFIhg4v4SYY/TA6GQT7lRpCamAsYD0sB2VHeZ464DZWt5qDl3oSziPNogosIsD0hrU3iYRPprrTEqDppVpSpkiW8K9NkqItfWdXayNsUjb4qlBUg3OOnWPOxkIdac1mQpGLY0kIH9ep3rPqyjhJpJIjWN37+dm+KJK+8m27PWmbEFqUyihhJKbhIR7FMjyHJT3ZJAiYpbih5I95mCDv5xwpZ99sVQ+f7C/Rqaai8sLHZA/pCGhLKeomX5+f3dEpuTxUcFVi6n88rW3xLMkCtSxY75nA08bCjECwUH5UkWQFw4vGaYobXixUMhWVsa3dwHjjmveLS+VxBcLLz1y0N35Gkr/0dEm80FMGeG7ndurhXiYz8uXfCas7JzD8eeuePlmGRgnynsyI5WjSXZd8u69dMYXe/m00j6zrvFuINY3JSr0W6NEzVZIXCGXk/uEe+FsZYN4X8cXeJVuVQHif7WSudzfsdw1UY6i+7bk/BWp3EoIuFYlJ/SbKYQLoIxT4XVLTY/09cXbRg741ID7Jh32ldYJIbC9Hp05Ggsg7+45c1HXnz0JqGlNDJMO8pCku/YjiSNlDeIVJa+XSAMUVYgGpAzvNcQaDx1jA1PGFZZByhkzGDukNde5qoRtZ4KjkSZzprrZNPbcSvBSKVwl/0rsOr84f4dPCtzuE3j0yQnnM2kVrJMJkdMK7kQs6RjOPT7mQI3c9zqexbWTlCJmXt7lnotE9nSZM51eMU0bs1KkHCWD7SGGCELiCIvls3a0wJMNWSQaghQNnmPNf4VoUEwNspdXUSvnc/2Bk2bXmRJT03Vdvp+qbJI0kZabQ4accxeump2lTeZYWZ2pu3rTlLVclc82+XehLRcJqYXc85/bGrOvB0A01EhLffR5ptChbbSdVnRVPMqT8y7L5ykFUVJd6OXVEmH0cfSdrPn0//TyBzKfMGNNn6GeyesbzpkXZm02f56z0sxeu9Us237AjJ+/wrz+yWTxtOJ15Vxxvk93Jhr61SCvPdn1HrQB4c6l9ZcdQu8S7kzhPovpZPq6nWL8kmcz1ulAjY+QfJahw9ipUTp1/zsV2q10EZ4J0ibInYdM834juuD6rbvyPKmRiHcSU21vx/uJ7wsi/WKUnVM5aBZUDcS9BzCMkSJnzyPHvzdWi8XeJ/S6iUVetADjA+9M0nrsdfCIu+NEKnQMY1pMKKF82yQk3E9ItMIoA/KSaq+QkxILSLMd3ss8LNufn+v0X4AMoKps2QPoJ9EXpV1wBoINUZlUMrSehpVqHq3m4vKSAd/9zZt+SCjLeaG7ecyukj6/6LLZsP+4hOaiKK9du1Y8V1qNkxcQ3irmaXsVlGUUM6bk9uG94vvy6EvF3jagWI47LwhiLDjhHR/n5hcTlpvJpTekFdCzk4b6ntq5vVqIh/m8fKmo+tqKI+a7z78p7WI4Vqqzsvy5qetkynXhv+z/fhoJN55T9xw+Kmg3YouGGK6tG5C+xuTV2yAKYX0DHuC7ouxSC4BcepQkvO0/eHWMbFcrmWs4Mve4et4/mTHfrF+/XgozLVq0SLBgwQKzZMkSM3v2bJmPx3TlypWyHuGvYhw6V5iw/5lgZc0Ns/p8hyhNEHumiwvj7wfuD8BzKuHcWn3ZKkID8DSNhFBoKZee9/RmRqlH+R6ffy1heSbAu6hK2om2QbOtok08YrQ9O335jnw/WHPZVNbUSrVqvHBcD8YPiuLh6dY8Y7x9fNexArINAWfKfIx4+W03/O4G6sliP1CoPzp2wYw93OCNpzkYV7KBbcRwU1EyIdyMgxz/krWb/DGce5zxmTFYC4vZ7SRZT/Mu1QDqjtcKPR/6bvHz6WPnS42Nunx/6z3Te/uBOVsaMW3d1019a6epaLhomjqumvL6ZrP9wFFTUt1guq7fkorzpeWeF5VrpdWXuWalkephD3d1oSkbtuANd9cD3NsUicJb7C6jzkeuwjPnhh8H4VFqZ9hww4wfFWqQ5x6yDUg2INzZ5naDM11DhBvSn21q2bzq2+ZBlnwv15By9YrrGM48ph8f9UK+x5309C95TqLfF9V49RQIz4ck81k6MUSnRNzxmf13/ycT2IUOEQxcGLtccQk3eh1TriPjA2PDv0b1OnsdrkEooYTyeCQk3E9A8GLMnTtXLKAzZsww//HHsX6BCgZBLNVqZdVCSky/9+KffCWMARQPyg+iRBDl2Fae8FKzDtWb+R6fm3tDQiHdQT0dXOUxCLNP1IpHA0KNJwpFWRVkjhnvFQo0nm7EJtwbNm6SEHOUtsVl8YQbi/sbX52NHodXkGlCUa+hLYxWm7Y91CgM3/vdn+Sz9utVMh2EdMpKwnGnWT8IVJEercK+uZ4WG+6xZILZlYNxLaDcAmPDCb1+6w54LYnwWkOoCauGZNOOCJINAWc+BA1CwzxId955L2LDhh2aCVF2DSuZwi5+gwJrkyJ7PZtwU7BsaZatpfa1JhINFdq4ucq+jd8vPyx51T96f5p5ff0Z8w+/fUe8sYD9/6LAexZV2XQJGgSO3sNcBx17GI/whOCp1vBwLfy4tDJ9iy4XK87VmwMVF6X3On3X95Q2muUHzpmSy1FCWN4s/Z7XnO+I7kuheXXpfvMyLZjGzZPf4mnmOJ6fuUmMNxAtd/uPAzOjBIWw9Uyl8tJQdILe4wljkbVMwVjJdfjo6AX57htquW4VQ+eD+/C5aevlXlTvH+ursZHlyUh7KhCWrqHjCsZ7yLm77nBjad2dhFDzZGMYhT3/9Y3P44p6KnIl3Iyl7rZSwY3ksY0eX8SKC4pXMlZrwf39SMG+z9z7C5TVNJjxJ2NG+5h+4YW2t8SNnZ0w53QAAIAASURBVP7+51+R7xDuTAt6DZeUXMvumsgxRd9X72wplvv/mY/nCpjPc/M3P/2dfP75F0tlXGdMwUDsbsMFfbqJ0rOdJEG9uzn3OsZqqkrz5WvmwvX4dJDF56+arxrjq9xTJNb933QICXcooTw+CQn3ExC8GHh1PvvsM1FIJp/1ch6DXm423OVUp/zXt8aLcqyKPMrTGxvOyXJCqN+IKpjv7iyTIlZ/ihLTP+0qE+utvx2szDFL89ToiwYEhWxPxvsuSrWnWKs33sa6ymtS0IgCLRwfHkVtR4J3G28+lYS1FYlNuGfmJ+Z3psOryw/JlKrOQaTaPV9PCmcty/7TJryQUdrV4v/n/bW+MsWxaQiiKg7usSfDxJgXTRWyXEmtoHzArNu5X4ptbdiwQfKyIdibN2/285kh2CyHkHMPQraJwth7NL5qPlDvIV5FFPJ/f3dywjrqKVWSaYf44jWzewnbOYFM3Vzm2RWeVwRPSC4VfvlNrqIGpHTPiiqbjDEoonboND2f39tZbn47Z4t5O0re39yUZw6WNZmGti6f2OMZPXe+Uoinu+2RgO1p1nnv7aowtO3Ta8G1oQ6FftaUBVWK9dpOKu4z7+0ok+tLJXqbYNj/OZwdi67mmJ5Au0XeAWrUUUMt38fHDCPub5IhiOCnw6zITXOh746EiYO8uhapiVBxZajXuY4d+vwzXw0Fet4p2sg6PFcasWA/Q2pUHgnkSrjzHQ9jOhCx8+tp6+V5sqPSMHr88Pdj5ZoBwscJHceQeaiyJaElYH5Ln5m/eZ9ZHbkq58k3wFsEnhacduQHy8HEWAqau2+pMH3OPPPPr3gh7dpvm/3EoGi30dP9p3sEx4dh8IsZcxNSAWxQyG04hbzxgiwq0hOZo8cZdP/bz0+yZ0nbVPrvt7wr5sV5281/f7LAj0hhvaDe3UQWYvCyU1X+5613zariR3g/pkC6dnehhBLK8ElIuJ+gqNdnw4XsLZMgqJ3W3OpbZk5k+K3hGs7rtqqwQT6wVg+mYA65luRgQqjxctBmg2kQ4SYv2N3ek8D7eyqjylyDhKFDnNIpdnaYcFCIP3jaCTcKFAYblIBnoiTU9tJqCCJeAN/oEVVEOBdY8PkOKR8XU0CUbL667IB4fzXMTb0IijWRa1JAqbSmUar0E7bK9GThebN132EprMRyQlo379glqQt4rgEpDBTW0n7d5JVSdAvSLSkLURJOvjDRFl9t351wvVwEKV6/jSpQTD0D19m4EF/bm41yhWHsv6xIlSCvmg3b68F95XqN3IiVSXnJW1+lk2zCfG1PaxChzRb6rDCOaQ9YDDocv57zRzLEOHhh9hbzjy++69+nXBsiYPSzPcZprqcWEfy//v6HkpaCp9wmGPb2h5Nw82oovpZZwa9dScKmFf61CliWCdw+8dyDWnCKeZlGTGmvc8gj33UcYT7FGNWQo0UbWef7L78fl3vLPH3m+Ow+G3pPaUQG87UeSaZe4mwJtxY7O9d51++ZrM+odgNgnhgXouQXAmZHSgWNL+5zxTMyr/Km+9eSlqZG7f/+vRcBB1FzoxYYfzi3aihjOef5u7/8vZm8eI1EjtgknuiRozXt5nBVqznf5UVpgYOldZL+Mb3cO5f2WJAMQXpKKpCP/KSkO8eWXza0TaUaHb7z69ej12KGLMuEsLvYeeCI2VJ1VQzT6CPqAdee3LbRkPkYXLj/Ftbc9gt+NvfflRoIFDu0DRypaquEEkoowysh4R4FQl6SHeZ5pD07S7mCStzFTR1ScMddZnsXdMB219F5KCtYxN3lsk6OijYFzcobLgrhxttNaBlTctltwk2hjzEH6vx9YYqSwgtEvepB+54NVtcNmuVFLWZqYaKiaOd2Q4zSFU95ftamKFmcJ5Wgbeu1DSo7u16JTNrCjAbJJM/OVRgJZ+VcQE74Din//kvv+R5j9/dB+KryqtwbpF2g0NLSiMgQvNcolxirqBWwY8cOKeDEVJfj5SalgftKjT0sh4ATdk7FZELNqSfQd3PATC1LNJLkCn0upkeGQr5n5HfIdFoZBd4gyqr4Dz1DSmq+KOiWYlyQC1XYXK+RnW7C/fb2+pPuZctY8Mq5Ybg2dly6Z6YFHOdwYEJsjOE4/vkPH8tnDDpaQ4Jz+Tc/fVEMN4xZbiEnFHlqVjAuqJFC00xWVvebaXvyzNryTukTzrFQpXxOmUeIUiFobMtEUR5Owp2NUFDP3ZdMQMVv93rvuXRbCgtS5VuLeeqYqISXlCeeaXL9IcmE8bvbToVkBCwT8ubCfTaUUL68eK/5/u/ek+dE65GokdAOww1CWXd2Yc+MK4xVY6Yv8g3R+oxqNwDm8f/s579F5407kUiy04FUE1uohk2kDmMhY9nO+tT3NufWPb8Lqm9JEVOM5G4LQIre8Z7WStsI/0mthd0Xbye0DHMxP8ec5ctPuNtHz92HQlAPl1RLBwbXC+/iRJNnLAwC41a2LTJdrFq/0cw/Wi6RAmqk5rnTNowUr2U9NUphcPnbn78i98vUqVPlmOgSwjWhe4x7nZLhdOfT6ygIJZTRKCHhHoXCQGcPuIQoaf6kba23e1TOqPD6OBLOfTaSmFOk3gUGazwMQSHYKFVMUVbI+3OXPyp2nCqScF5IEXl+tI8hr9sm3BgGtD0R31FQsNCjKPASYV4uuYXTokSHXOIZUQIJAZpx5qKZHUlO3F3FRDE1YF663wQB5TZXIS83mzA5kKww172HXgGbZMilGi1wz4X7PR2W1wyaBeXBRp9U2FzRIbnaQrQPHTbzizulPR255LSrA+SXoyxSCVh6ztbeMjPP95lZZf1mZkmPqb02aFqu9kmhqEtXeoWYuP+TDotqE3uzvvj5HCGW6hm1n0MlNW9s9NJBssGjhJRnIlR/dnO/CREn4mDD9t3mct+A2dPoRXdIq8AYIVYPjJJkOxoE8qwRIW5oto2ffrrA/HWUdDNu+YWcYkYtiBbED+OORlgwdrDs9x+ME+MKFYMZF7u7u+VY8rtSe4NzxfTKW6Y/Re/ekTSw4aWiP66rMNvwCzdF732+b2q+a2JFvX3RnHuNvNpUGV/R2AVjNfUz1Jsr0RalQwUCXc/440AmBuGRuhIYr4L+N2ieDXesVlBgcFPpRZny3a0QjSGSPtuQYu7zXPKVia5D+D2GS4Re2+56qYBRNuj9cqig3E/RwGjGlPvCb6EXMzwyThAFoAb11hu5vxvTCWHtroElCLTK29DkdY9I1e6T/tmnq7x6CdmCFlvu/66s6vcLiFKR/GBUT3gYfR7prGEbqjIxTtkGmlyKo9IaMJRQQhk+CQn3KBSXcBOi9OOoksnLCyJMCB85sLYXGiKIIoVCNbsitccumYdBYQ/kiyr6JL+aEGu+215m8rq/yL/mLStnnhZUGsq/s7dLj2M8lRBtKm3ykqdlDORoaklq67wN16P6NCKor3LLza8TXsBBWFaXnUIEuD/uB+gNKCDuuumwJqooEJp2MtIYRZMJyvlPhwUV2RfPygRf1fYL0eKe2nskvodrpqB3q/arxcNOKB6eP4wkW+v7paczLciYt7o69+NI9xxmCjxJj0PwbhEdAClTAstnwvlXnSj3WwUqIVYPDJENzHMradsVtt1jygZBiueesguyf4S/Ms6w34w9KqQTkF4AYWF5W1ubv4zOQ3iN3agUEOm+J6G2s3PIRT+fped0OIQ0Ho6TopVcP1fwymMQKKu7YKoutPoGAopX7r+Q+j2ioeBcRwkH/9DrGqApFa5nXItY8pmiU++NGWsmTpwo1wYPK+3dgoT7ixQlV+jt7O5TJhgpoUuF+1/pQOXqIMFwDqFW44cKIc/kGdNrnFZSjEmMR7SW4jPz9DN96InqwDhbW1sbV7AMrzXt51S0jRsyqzJ7I2uQN3T+6g3y/Gu0E1PuC22hpxEHjBP/8PxbspzvE2fOczc1LIKByd3vTED/eqTheuL7eUnZNY8o198xy6L6F1gefT+DxdUDZkPt9YQxBGw5WeTsnSdEGeCMQLhm9+97/32oPfv3NHqCyuJTNX4UEFM7v18L9LFMoiBixrM5+UNjYiihhPLoEhLuxygM+K7nQ9F75y/SyxHsaw1SJBKVyseBrsH75tNJU0Wx4iWp7SVQqvAqpcq/0z60im0nCoTAQIbI49Ye3XyeWpCbR52wRsBnqpcLnHB4CvLQas3tRfkmoeolicXf0gHvJb17CxvbpXcsL1bma7Ga8flXpdIp8wgRZp/4zDxCYClUMz2q1KBsTS28YhbU3Jb+1Qtrs1d0/BdoLH9RDR4Syubkv94LiHndcSl7yzch+dpLHWm68XWCd8bF/oZuaQW1q7rT7Ku5bA7WeR4N9hMvmR4LOWpSdOZUW2A+vOb7sixo+dqqHrmfbMLNeVBlw1c0rEJNGHAmUcQtRtwWR5Uowmpp96XKKwoufVL3td71FdvjFQ3mWPXw5RgHAQXOVdZc2D1gR0JQAgmZxQhBzqgr169fN5vK2hKIr/vdBVEn9L/GcINRg2fpeHm9F6YZPbd833a8wCyp8CIUMChq5Xv9TvQCUyIVMDZK9EJZr6m93OsrrpBuDAOQbLudDsdFhA3L8e5CQmhLlokQKeMeTzo8ai0HCkC5UROpUHW5z5RWRKQlYzLZcTF7492aiqvSKkwjHQ7XX/GNoKmuubusY/BrqV7OdnYdPiERJVdu3E54NwKWHT1xMs5oQIEtyKcbFk84PKkEGMXcZXYv6JEQIhncfU8F7R1uC+9IjBBB4rZ+GhGUe95nIWDWmKn56Cxj7NYq2qyzseSSTw5VeH75XbqoAyF5MfB9pELK6xoah3rX+84B79ikQngs0kajCHW9w3WX5fd4m919Twc3DUCF95MrtP/iniiqrJMpz0Kk8ZJ8vnTza7O95po5cGnAHLt8T3C6a6j1Ith8/pK0XNTvdLxQ+XTNHinQhp5Gyo6mXtgF+tDdKH6pxrNn3vp0aOdCCSWUR5aQcA+DnOuKb9mQDLn0rgRKFmwouWK5VCGNkjr1PtMyi1Y9MyK3zeqaG9L7mPCkRZU3zIKoogpQ5CGK8yv6zaKqm2ZF7U2T335TFHgKpdB2Z29RtRwfRUzcfXKRSYjTlmN5UsBKC6dhxSfvlnzbOYuXibJNRdvtJwtlunDTbjNrzRazPS9i9pbUm3XHCqPHkdg3NSNE983uRQlx+/WUteaPa44LGR8iq0OefD3XfNewfq4FuY1UuCYvmByp5z7xXl5sn3zuhP/OEuzbpzHCiRKguau6TxqKy7rsO22dNH+Rl+aP3psiOeVuITKbcJP7d+fOHbO+0mtLw3Ly5ynoI2TWypm1q94yf1bFgNngtCQJwqYoypo7xXPCtVbZvn27mbFhr198iirz/L8WQ9LqrUR0uOeGdagabhcAsjE/76Lp7OyU+gD7YhXItT0Xv6WA2UfHmn1DkeRURu8HKji720qHzc13ze68iuh2htrSYWzRa8O9wj3DeXwzFiqOMYRIkGMXehOIcxCuDVPVXq49YZ/u9lOhsXtQiCrKP0SnrMfLAwwKU55TlXh+0oF2dNyHkHk8zXh0IPTqlWV+Q0OD39cZsfs7I4wl6gXUcGhSVthWU1OT6enpkWUFHQNe7++mXukLbiuqGIF21XRFn+vbZkEVOY53ovt2x3zVlHhPK163KprbueV2GD2GNe+ae8ahRyXc/K97DtOBd44bXm4jlz7ta6v7/H3i2T5T2ZT1dnIxWKyI9IqBNpUBwZaDzTcSWielwpbo80x1+CcpOyovyzvb3TfFRzsKxVCI0VjrFXAPMqbxOc64aBlh3XOZEtH1GZeJTNDCj8zXfPQ/RJfRRpBuBD8bv8Q8M26eeXfmSvPnzyaa/rsPfWNCy8DDjGqA2OC+GKn0i6XLlvuFLTWfXo+N6v6ajqK5/7remGkLZGzZUukZiWk/yHp2T3s9z2qAYDnTxdU3AyNLXMLNeOuei3TQ6Aht/YgR7ExJRYJRB2xt9gxrQYYxV2/TdcKQ8lBCGV4JCfcwSC7KQzagiBIvB20fIiGaUbJh5zlTMVZznHmJ0It6TsUN8/zzz/v7SVsuFCSUVcBLBIUUEFaJosr05s2borhCjmmjVN/SkbBPuWBuyVUzv+iyWVjSZeYVdkiO1NyCdpk3c8cJCRsk3JyWYhBaepXPP1iUsB0Ng4IIap4g83kZak6hrkfVWJs4KzhnnFdeqhQB4pzZ7Y7cPuiE9f/1M78VEksrjRfeGWs+nL3MHLrQZ+YlIRsQZyqd898YQD476+Xc25V1/XWjhF5ar8X2DUOAhtsSTcC+6T4lK86mL85kIfc24ebaI8/88X2/MBxeX902+cX8rxZhUeWE+dx/QTUAHidsj4iNWfmtpqbrutmbV2a2nvU85zbcllxBUKLMtdN7SRVZJVjMW1t30yzYsFOUUL1PCJXVa6OttDiPWthGz+8bf3rfvxaPQ0q7s1foSEOwlf35Ndl7Q/E8q/caryvTQ8VVMj1fVSthxIBwVwg2Qt9uvM+QaYxCkG6bcBMezTqQc8axVZU9cV5uDAFM+Y5BYGFN4n49KuyK5nZuuYbRY/j6u2d/L+syHzwq4V7dkP35zwakKKmBDWifYMByHUe3NHlh2Wok4bpx/fiMcI26urr8tAOEcZ1ICN41hPbvzSGVBVI/v/Kmn4eeChhzUtXbSAbysIdbmm98LcZHlzy7IHc3nS6hhkKMxkoQuQf/6ie/lc+2cdGr1/Kp3KtaVV4905BxyCHvIX6nHl8+pzpvQWNuJiANySWBQbgX4PEfLtGQ8kyPQdcjpJzuK0tPRORc/2qKV0NGe9rrs681JPRdwHvy2Y9nm7ETvkyIPsGpYH8/1J69MQ2Q15+tUSNTkGMeSiihDJ+EhHsYxLbuq5KiFuY4i6czoNnECyVeFRsbXlXjATOxqCeOSGXy0uDFSYuwWVHizRRFFO8srSJQWiHfAPJFPhetTSDcKEdMCa8EtFRas/+UKb96RyyxeMA3lVw0cw+WmE1lrWbh0TKzuazNzD5QZBYfj5hZAdW/02Fq0VXxShLiSf9k+ijPnj3bLCvwrPg2NAwKIqh5gsznZYiSq7lgrEdPS16EyQqt2ecxnZc+1bIgiCEkqtwwhcz+7c9elvl2ZV1d94XoMby+/lTCNhTZXvsgZBJSrttOll+s820FLij88GmGTZTpMa3z1NihldbX1N4wB8qa5PjdbSjca6XfW7uvC1Hh+cMjj1Lnhr+mAuGN2fSszTXfldD+oAJn2psdg5ZNyBjv1CgBPt9bJv+Pl4fjpE0ghj+qKkO0l5ddFYIEMWZ80s86pT+5EmfmzY9cN6UXu4S08fv7D3Kr0I1HkLGafaYV4LiTl3xPtG2g0xQGJaEcqzyLseuY7Pq6n8GjEG7O2ao67xzbXks1OLJPzKdoHVEvvGvUcMS6drFNfocxkuX67HLN/mftSfP//nGc+f2qo1I4UyNN/umVP8tvnpu2XsbS/1l9RK6FGjUgwXy3rx/zWLbtolergnxkDfGnVd+GSJef2qOGLPXSBvXlFgNbdKqtBjPBG1bHCzkHsXvXjhCyC7ux7bMdwSHAjyI7c0jboUYLUz0HfuREwNgfNE+hxkGtKs/4xXuTCCjIIeMcy/muRtRUhDtXJAutfpzC6y8XcoqxEmHMTfV8ByGTdRRB71S9T3W81ftY7+XaHDsUFEXfB25Ek4snHe0RSijfNAkJ9zCITbhVSYFM4Q20LZ4aYqhQ4sWLDiWeUFl3YJxU0idF0lCi3GW5YlFUadXcVIqqUHSFnDdAOybyUzeXt/uFzbSQB72NKXKGoAASDrp69WpZD094Xl6emT9/vllwssb/LzvsCqAA8BJByRof608KINy0eWJbKGQzZ84U0r26dMgjqQYKlN2gF5nOC1r22YlLCaSFPN0FpYTeD0jopWJedXwYpnrMpjp59IRgTyjwCo7oCxJF0f1vlo2L/n+QQeVRwb3nekqCQHG0IDl5OTcihpGDa6thd9zD3Oc/ccK84/rQWoTGJeaLo+d8VfV1SX/Qff6q6Y5ZUN5rZhZ2Sngb7dUu9N2RdINTjakrKCfDporLZtOZCnOivtPsLKoz+8ubpc/sstr49fQecqMF7HtrRuVtyb93/+NxIZt8VAi3/SySKz/mYK1sJ06hl2tzU5ZDML/zqz+ad6LLfvjaWPNfY4YKnGlvdtogaeqCenh+MWGZjFeTSvujZPWKPENUhB9/qiXOCw0xc48pE6ysGzRb6vpk7NrX5nlKJZIl9nxyjZRocDwQSTkueQ49RfWtLQXmZ58vEhL5Vz95wYtMIE0h5qlSAx33NJXlISlAW5blMh5TVCtXIQXnF+9P8vMrlRypwfGv/ut5v2jd//NPP5LaEalaYxEGzHtKn10lYt9/yet7/e720sBxNBcgdhrAlClTzMLjEfHSspz7x/bSBtUFIbeU/eQ62SREu2lMjL4ntf8w15mx9m2r4wXXUe9dO0LILuxGYa/3vpxrn/ZhkRl7C3wipe8AnjeinvjMfH3u+M5zRbg2n8V7Gj0HGjnxh1VHE85vNnCvqfsdzIy+A12PLCBShenykiFjCOtr206dZxut2D7LltRkVhthpKX+evp6IzYoOHebKopROZxD4bJsYL9T0R3Vc84yHW/1PtZ7WQm3249er4VeF3s+64f9t0MJ5fFLSLiHQWzCbb/AknkJk8FV7p802rquigfu6NGj4gUnvBPCDfHGI06uJYR827Zt4pVet26drDvj4Hl/Gxp2hUKjhgUUCJSsf3r5A389CDf9TAknX7hwoZkxY4bkds876ZECoAaKNzem7o0dBK3kTFijFNSKbhsPGS9TyIj7oj1y8brZHmkX7K7pkmIks5zQcTwxGrqniuuzE1cm/PejYvuluwn7p7ALo4y0BIU7BilsNuw+tBpay3lSRUKxs7xFwlBt4d7jnrJz4GgrR/ua06Xxni7bA+B6xez1TlR7IcxsB68boFgWIZ/uvj8qMBi485JBW2Yp0UUxV88fx+MX9ImtB851BRtRgoR73H4WIWGknbBNNxSaGgAsh4ANPbsTEroOgODrHzQvPTBeMbVbTbnXL1O8vzsiv2XfMQDoc6qKqpJzG/axZDIWs37xNa94WDoM3H90BZeQ8lT75V4L97uNT62WkrquENVYz2CMvO5vfETXZT80kkHvTa0BQR2Dz6K/n1zuXTuqZVNwkCmGTgoQYoRx/9/9HzfiiAKXWr+B71zT773o3cPffe4NuV/VAMj7JZmnNui/FHlZPFOZytjl230ihcGG/+F5+8GrY+Qz83nuMGrJcX002w8X1/1Ntc9L6zzjuQJDlJ7rXNIQ5lYGk2MKC7a3t5vPV++OI4PatlONA4DPaijh+F6duc7d3KgTDJiuodrGOgqbOn2sd7UkvpupFcF0+tmLYpjjedDxPIgMM1XjC+BcZqo7KuFW3YgwdtVFuD6ahmbPZ/2QcIcSyuOXkHAPg8zIsRhaJsBTwaBsF65y1wFxVmbLkmmDQlzqAcC7rIO+/XvdBvOOnzknhITKvpAfQr4h3uR4b926VfKaIOEQGEjsihUrJPx8ydmhPuBBikLQvGnF18SLQ+72rFmzJJwc8h0UUp4JULYIHwPTI7fN0ooes+J0lVlX0BBXyXPnpZG1Ws+r6BNlU7GUAna1g+KxVZArdaozvuKogpxCqhOPBsm16F/Q9XaRd3ko5JBCYRui52ruyVo/EgNsqolew+JWace1oS7eO/rOtmLfA4CiYVdctddbXndbvOjUDVhbN+B71RdX3ZSe4zMjg9Lyadr562ZuFX1qPWULb7a9nYmFXsgn5FCfT2Cv4xJujYhwyTPP4/OzNpn/760JcUTXztdXoqjrcXwbznl5zZkIhDvVdciEbLopMemgx8tnuz83UQ/jC676Y5Gur55yiuj94LUPRYF8Ztxcr7uAejUdT46Odd7Y6FVPZj29Lny2/2O4gcL7uCSXvOdssLvlnm8gKKluMJ39g/KZaWlNo5myYb955qO5AjzmpPVoCzB+rzUgKODpbnu44JJw/exOwdQAA2E64NEcbtGQ8qD9dj/nAlpG2aK1EBDSiA5XXkoIF15dnX10CSkR6ANUhneXKYKMAzLvTEuCx1xBHnJAttNjF1p5uceTDryXbKGWQXW1V2z2DxPmihGYqAzGNp4Pu1ibXZPl1WUHE7adDtSOoX2hOz8ThIQ7lFAev4SEexiEUEE3XDkIe6IK084Wb9o6MFTNE/Tc+Ys51pEY3vv87M1S+douXOWuA15auEdebORi/XjMLJm663ywr0aqi76+/ox4HrFE2/nO/J7Ca0pS+gdvSyggxdQIF+czHm0qxTKFaOPtxqtN2Dm530uWLDELTlYn/Hc6TI8SbqpXL168WEIO8Ziz7bmHyxLWHU6oAm8bK8jZZBleHs3x01x8VfBTeoAsHGgZub6vj1vq+4PD8YgA2Freao613PQs+zkouvQMVU8C9Qbc5bkiGXnMFJdvejmoFGGy5z87aaUUzfrOr/9HniUNObbXWVIeX1FfIyKUoNh9qd3/VbjKq41sQspboootx2B7Z1wQSur+Rzpo27LKnvtmT2mjKbk8YPa0eASD49WxRPpzxzyTnK9fT1svYw8FC91tAk3N4dzYvb3tNByNLOE/tB2hjmeQdvXmBJ1fvd/W1Q+a5ZFe+Sy9c2PnYkndbWm9w/18sv2WtNw53joQd99jxLg3StMc6SzhkixF2ZXbZndJg1wznVfd98AMxgx7tPyjhZqK9oOGjNrn0L03yYHGOOJHJ0C0YkZiu7ilzvvsjBcOTqvEdVU9fqsxUNkUJWjX+qUdWO/tr3PKvcVA4b6DU+FIlLiORIXsXTnkcC+suZ0wzmIoVu+pgjHAJU824UY0lN+WFTXBhvtUIKWHFnq7arz343DiSfSod8Um3DggiNbgXo0Ly7aijQD3jS1EX1FMENFxMB3s54hxiftfW4MlQ9+dr6XlH+3C3O2lA4ao0WLEDyWUb5OEhHsUScm17CsJPwq+LE9UmoCSlNJIlXi2ydeGXFPQbPfJfLO+vFPyn5cWXJT871Wl7Wb28WqzsbpbcsBnnbtkppf0mGlRTIkS6Wl57WZBYbuZm9dipp9qMlNP1Js5eZfMjNNNZn5hm5l6rMYs2nnMrF+/XkLJp0+fLrnhGzZsMBs2bTb78srM3PXbzYqdh8za417BKoUWGuFlyH67xYF8xMIbCe3TYj1AFXgUdVXiNewPJVFz/DQXX8OyPtlyWlqtoayDNbU3peq6HYJGmDJE52mSbK38KMJVV+NDEK/cfpig5JMnDSHLa8uNTL+3q8IvpJRrLjye1bFHGn3Pqm6H+YT0icc0FvWh3tPFX20TsuES7kzgeriHG9kQ7kyEIjmukp8OeKdo01RYWOi3a6IAnO5jqmJ/7vdcEfQfGxsGzbHaDv/+o9AjxgDI5v7yC3H9j/v6+gJJiStU4dbCX0+r3Bi8Ja2D7PZNNiC9eWVV/veLHV6BOiTd+0mNJBoirXnXGEvs4pYyb+ws83+efU2+4wF8bfZ6f4zOFCvrvSKersGH70Qe3B8lxhCeEZfcp0NTQKoQhg/SuIKE1CiuV0Nbl7nY1eNfv55b9/1e5zaW13rjn5JIJZacVzWOjD3c4Ke1sBzCjRDlBuFzt6nIxTgy3GNZLmK/+3jX/9vbXsSR3bHEjjYCLuFGX1I51ZnoQEkHPcdEFVKwNpUwHhFhyPvWjRpIhb67IdkOJZQnISHhHkVCn1t3AB4NmFYxaPaXNYnlfFt99sWCMsGSDdslJH3y5Mlm2bJl4t3mO950wsu/+uormT9j6Zq43yUQ6zSgnRgKnxv2GKT8Q+TdeYr+/uvu5XvqhbA+9zgzwRynyFwQNPctr/O2GXOg1jeSqMKn1xEFj4r87n+8MHuL+cPqY+LNVIOIjZll/aKQItqrWVtJke5w4cYD8ay+tGiPEAK7Tznzv//Se2JMQaHSPFCwufqqWXikVHqeuv+ZDhACd15aRDLzzEmV8rtPnlEMDAyIIc7Osy/LoQXZ9CgOVFwUsnS2udvkt/RJYbzijptmeiTx2UwHlF2icGxhPxE8uNSgsAXSrfdLkESi+5VtiDJ92keT3Ixeq9nl2YcScx9rEUO6XFAAa2nNLbMwckNICtgYXQbp5ZrNr0p/vdzxdn4OBfRoz4gQYaZGTtJE3NzbIDRcDyauo1XInabKf5B033mY9b0JCGPWvGtyfDU6RI0jFJH7YXSeEk4lg5A8upwECcb5T094hm8l8G71eTt1jfVIN4FwE479JCVbYzMgJUyNj0Qg0CbUNkiSKtZ5O964VVxVn2CkUPwlxoVpedjU1BS3f0QB2O+Afa13/Vz9IIyWd0QooYTiSUi4R5GQb1XTlxgCGIRIVMkovool/4E5drbATCn2qmXTO5ip7fnVMCjbc6dh08lywl2szGsQ4rK8aCicSl+gdrj1lLL0ylYQFm/ZK55tCDfVyal2Tog58yDb5HVPnTrVrNmxP+G3ucDPBQ0g2plAX4y24FHBs+Jeq1TA+zFaxCbc6vV18/oJtfvzgZpYSGh8znImWFlxzc9XQ9mTnvIfev29mUfu8icnh+4xG9xfyULEp5f2SigfYbEoNAqUmEOn801x59B1TnfN0y23cazjrllZnn2IJWTB9TwAlOfRLs03vXscUqwk2UZFdGzaXHXNHIwqhAfb7prDUUCKDlW2SKQD6xS2XTcnG7r835Re6JBwVUS9zUqAd1V2+ETJD/+OTW2Ql890S5Todt56aK72RZXR2i5f+SUk/OilG/J5V3WnpEAc6bjn11KgtsJXjbcTFFcA0XSvYTpoocaRFo7V3d8gbBkhY6kCgYhlW6iLAlHTzloFpcq8XHw/bz9JNfLZlQNC8KiB4W4zHWiHOFqEMHbuP9dIaUNbrik4Zm3z2JJDWLENHe/SjXtKuBGeTY1osYVipD94+QM/x5/fudXnIfZK4lnvH154Swg37/wnKTkZSDOA29s9lWHPFjfqJpeUn0dpRRhKKKEMr4SE+xsg5Dz/8OX3xSNHERu8d9piwg6Dsj139Fb9LEqW8fZCmLVFl0fQPVKOt1EH7hXn6sWDSPi4ztMXqLReeWuC9HD9zbT1sswuyPZBlNiyLVWiNISNZWoYmLNum/noo4/MxIkTzZw5c6R42rRp0yQnHKIN4YZ4r9y80/9/SKG0GYvuq4bB6X9q0ST1nEIUpXVQzKuqoeRY8ym2hUKnedlsg/wtWrJhwPjsTIf0RZ1edt3MqfIUH1eZBWtzCCEm3zmIvD8JsQm35PjHvL2qHDGfXP/nZ2yUZW7OMrANO/b9o6AvrzsPZFqVNRlIYWi8/miKZzLYyv8He6vMx8cv+t/5z5M5hA7OKL8pFfOfNiEUO1n151Qoar8eF45dfL48zrNTUFHjf9b8RZ1iOLkTCwFvaGgQRV+nthw5ckQ8Qyp2aPtIgPGVaA3bIGXjcRFujAbuf7tg/PvoSFNcVImOlXYvajWk6dg59rCXggHR1WNUY5z0WreK4SGQCfLBKRDpjo/uPP0+ccNBs7K41U/XwfimxQLZbrJq5G+tOSo1PybuLZb9UWMc+6k91vnOZ8YXPXaw7cLoqa1Bpwn3eqUD4xDFJTE4XOjzxlQdp+xijMzXdoC+V9nOs49dc3f7QSBiQw2Dl27cN2drLiYYDIF625MR+KD5oyGkvG0wfUrN2Ojzrk4G9ptzZxec9Y1G6FCxa3HOIb0u4aaDgWu0BESL6GfaV04k7em85ywZF30HoePI+YxdUz6jx+g1ZXq6407cf4USSihPTkLC/Q2R2VXpQ17dF92YA3VCNiFUEHDmaVsgO+QWrMpvFMI7/3R9wnYB1ZP/7tnXfCVJyZp8jipMWo3zX17/VMj/r6Z4xZTwaH4eJbc/ee5F85//+Z/m/fffF0v3l19+KfncTBcsWCAh5oSXQ8TXHyuUsNNfvv2xhAijoGkYnP7n3z37+7iCVBDF11Z4Cp1buRrYhC9ZKPm8ktx6P6eDlU76RMUNKXcrAmcC7gPa23De7ftHsaoh/X0ahMW1d6R6+MyKATMrMuhVFI9+ZiqfS3ukPY77u0ywvvKaeLz4PDZKSmgp9fbWIslHZZ6t/JOnivKvBcAg3Ovyav3Ceyj3TF2l1/6OIWJalucVUKRrJIU6Om0DqfMBG65nHy4ONpa1+tuo6Mo+TJy8UHIVyW2kQCMt5Lq7u+P2n2UlJSX+d7fIF0SRXuNDSvEN8/6eKlmm5JN52pNcCYzd31mnrEtrJ8Yzrf/g7vPjItyrz9XJPtmGzLe3FMqYhsGQff5x9P6lh7OOf/b4bPei5r6G0OrYSVjxP/zmTfN/f+/f/WPEGPcvr38ixl27oB2iZMIlFdxbbiitXRjqYNvQtRJynCTf355qSPn/zF4n1ezxljKf/WS/dX95Zn8dfd9A3Om7zvwJW47H7d+TFAg3Y4Lek9xvagC3i3qyTK/xLyYsN2UNF827775rvpgxT9bVccotxqjtAPU+ZTnv/IXbD5sJs+ZHfz834Tk/U91sLl6nuKv3fX9bsKF0uEBk39Mgf1juheFr2zbOtxacVYeG6lB6LXZcvJuUSAMictzzkQ6TivukMCSf5X6Pvne5L77/u/dE12Jc4jmdv+uEewihhBLKE5KQcI+wUEHUfZmlAkplOoEYUfnUDqcM6pGcDWwFh36n7nI8iDPPXjLTSpO3fEmmJCmB5bt4Rejd6oQGT1q8xkyaNMmMHz9epni6IdvLlq8wS3afMIv3nDIbT5ebbfnVZv2JUrP6SKGZd6JafmuTZXcfguD+d66QqrzHL3rW7ZJ+89amAlFwefGhQLEOXnMU/c9jbdjUm6Dki++9oyQfHN6fa+svG5lcg2RY23hXvF70kl19vsPsvDBgjnXcSyBPQdAUB1txVQIiHr5jF+Sz74GInf8Dh4+anjsP47bFPaqf3ePhu84jfPqdaUv8wnso+kxRtLTIHuuhEP3Xh173AAwR/x5A0NKBqrcjKUcz8JQC7u1xJ7wcTc4lvcOVsPJ97BHvPA83yKOub+00Hb03Tdf1W+ZwXZcpjt4Xioqe+2ZrXpWvyLrVoakD8OHBOrkmGvmDsY5q86q8Mk97kiuBUY+qel71mrok0MXjItxj5q6Wqu/sK8fFf2PQ5DPPgO4zpJRlvic4YL+D5gGKFrrzXGg0gj0FvAM5F+76jwoijZA1DbdTjulBxzSaQsoh3C/O3+Gl18QMHv/08geyn3ZRT+1xrUYTPNzIpRueESzoOO357vLSpnZnT4aE1p92nQPGYHe76fC47v/HKan0LPv8profHwf0/RWGlIcSyuiRkHCPoBAGmUvFzos3Uxd0uXn/Lwm/yQRzqxPnDQdmRIn49NPNHs62mClJXvzJMSiEfnZZn2BOeb9Ml5V0mEU7Elv6DAdoSTPuRGtCzvn7eyqjBKIhSiBuiKFAW9dA0Nxt4Dn5708WiDJEe6O//+UfRcG1C3sRroml+TvPvS4KsXqD1AOBAnW4qFKMLZqT9ySFCqauESgZVtYPvxJNGDDFc6h6rf1MkfwOS5mJeYuV5Gn6gKY42IqrRjPghbCjOGghpef/1Nk8U9uaWZu3VEim2AYhKCxbQ3sx2mDMcZePNOHel2GfZ7xlEAJNNQC0E2QZ5/vtrYUJv7EBYbfDL1EO1UjCcg1ZZh7nknUJXWaZepdHEkHXkc9BntdUWFr3eAgH7azc/7YRdDxPA7jfMZxAGqgFIGi969UHiH4uuOK1NculgwDGmNEidkh5smvEfAXfIXRKuDHSu+tngkjjJfk9BhE3dBocbOr1Py8oaPONxPazyvuO52Jc9JmOMybzvjzXYXp6eqwjffolFeHOBXb3DR0L1VjP+eQz0PcdUyk0Fxsz3e25CAl3KKGMHvnWEu41WRZ2IdeW8NFsBOu+u51MQOGtVBJEuFFSxxdc9QduffllCzsXWokM83nR4kEce9jKA4x5CIvLI+bs2bNm165dZunSpWbO/IVm5qLlZtr8JWbK3EWCOfuLEv4rIxQnVqzOBOQe4tEhf/yXU9aYlxfvFTzz0RxZDhmDMPxy8qq439mh6RoyyXwlyjaSKbK2ddv27ru/1/maO757hAnVcAsKn5t3Fum+Z/aebzL5rYlREpwXPz80luPmrgPhplZAUVGRtONS2V0+dE7xFlMzQENi7Z7L9nnV/3T/w11vU22f2VjTaxZFFff5NbfNnMiAmVd9y8yquCHfg8hxOpDrPy8S/X3lzYQCSGB2VeJv9N7jvsNT7i4fScJNTvS2Wi96xQ5dtZVoPNnkjrr7ZYPzPe5kiyjhrB+0nWcnrZBrh7ef68bxapgz62j9AG0txbraQkq9y08SpO+4xqcgMP4/Dskkh9sF97e7v6Cwsd2c77huDrQRaXLXHGr3epErTrQNmj21V+Tzzhz6S4Ox0ftCiEMs7/T19aelZgafMTSRH8v7p7DrrlSPz6VY1NaLdxMIpA0KzY0WyaWXMiAaSCPc1tQPmnXR7zY2NJFzHdz+7frte6a+vl7+/8Tl9PePRuhonr0+q7xH8cD/42/f8dNs1KA5dmdpQmrB0y6Ho8+DW6wxCItqh/RLWlFKgdbYOKg61cTS/uh53SzdNzAS61iohmHOMcZNDJostwvNvbe92Pxu7OSEOgku1CgTSiihPHn51hJu94WSCQhrzUaCCLeGIUs18djga4evgpMX+0zNxXYfbd3XTXvPDR8NVxO9PCiphBWiuNovxGxhE07Ng2Y+L1o8iC/M2eLnwamH8Njps+bcuXOSPwlRwjuZl5cnJJzK5uRdLz9amvBfKO/jTlwaIl4ZWGy1yJqf0xazuLvrvbxojxzHiwuGiqyBZMTXRabrDSfI5XqahSrT3AP3799PyAcH2qdXFbJc71EFfeTdeY8DSjpRmJIZt7QyLT2Mg5TOXCrijiThXrhwofn1u15/WY3E0JZBzOMzyh4Gq8mlN8znZy+LF5pCPlMKuuKMCX9YulcK67E+v9fwbd3OuztKE54v1zBif9d1CfOm5gTPvl1nAXLPd4iadmlwPXGKBTXxhg++z6q8bWZGSfT0ioGkBRFt0J5nNElXlDweCNjPVKjsTTwGejzTYzmVMKbzfBOFQnE09cBxTT4+6rV/UmMshkTy4UmnYZ5EKkTfdRAHehz/8x8+lnUw5KrxDEMTy/m+dM9Jk5+fH3f9MsVI1zsYTqGGR7ruFue706fUBCHoOiNca/o4Ixou7nfuKIs32mPMd58jF7b3XfFNDCnPVOwe3JoWwNiHnqZpHz8e442xuUTtMG6FEkooT5d86wg3vQ2p7EnFavJuGbzsysrMUwIHOVZlAgXw7OXbUqinp/+6Odd2U9rKpMKuhsR8Zw1DxpKp+Vh8dtfLFa7iGgRIK2FM+hL1vVAWcXVfnsnAeouWr5TCZlQXp2c2oKr4zJkzpa0XVdRn7zyV8Nvnpn9l/td//DJKwKbIdwr76Mse7xjKml4jhVZf1/xKvGRBRdBGGosi/WZZRU9SUOCL9fDcfFHULZ8haBoG7VZNZ95oJNz3Hpqs8y9nRI+ddmfu/CcBWlhR/Ecr6lZc9u6n93ZHpFifRmmoAUyrz/KMfBQlEEGh3c9OWil5v6owBRkOINz0QYXAuS19QC6hiXgbR1KCQsqTjQPMZ6yhXZYr+VeGtpPs97kAxR+DDc8++dg6H2VWiz8ylpJrDYIMj+0p2vBRjC0SibizvzVCGyK38rsrFLTEOMMUwk3U0Dtbi+XcUzST663GWKKltLCcFs3k+jDu63Pz7nbPEOveJ3wvvuaRRb5rWK0SQR0z7faXgPWY/zQR7lRCtE9/f794pLUgI0YKPW7eIRyvbWACGkl0uv222dx026wov5rghV1XPyjThTXe+G4TQ3tcgyR+mkMLSFqXfVvFJtw20LvceQoiqdz3RDKM9LsglFBCGX751hFuPK6lpaXmf//4N5J3y0Bnt8xinlog1SMnIY0/f9Ucv3TdPPfccya/KbiKdSawFQtXyXhcgLT+8LUPoy/YBQnLcsHWnbvMli1bzNatW83mzZvNihUrzNy5c6XKOKSb9l5zd59J+B3Au6HnW0Om1JuGsoYnzf0NsM9dkJEBJUJfToQK810Vi2yxOqo44BWiv+ySujtmWZRk7G1N9BrZIBSZ3z4/c6P5watj5DMETT05QVXTRyPhDorSyAR4bDZFj8dWEhZUDUiYtas8gD85rYnYht1ySCtHM0+V7cWlXWZLWYvZV3/NDxXdUdkh002lF82ZC9f841AvM22t+C3PAHnIEqURVSzVAKbVZ1n+mxkbxOOWy3MK4c7WUAEI03XDfBXaGmukhPPm7k862L15VUi9mVqR3TnjHrCPdVnESyWhJZ97/t3vLvB4J2szV9SYvFAUcvnyZdPa2urOfurl1oO/iCfTHadsbK3vN1ui1xPvGePXkto7CSRtbd2A/xljS6prIUTYed9BDDGO6DxNpwmCemf5TFExHSt5XjXyyu9yESOJWjvjm0K49+zZI0agjz751C/IiCFDDc/oMRwvBiYlyVq/gu+vfD5bzpUaNh4Vn5z0rt3cqtuJYeoORkFJkicmjIHuOy4dnraUslBCCSU7+dYRbs0LdRUF97s9jynQkPKR6vc7XJhWftNML7vhoRwkhlw/ChYXtJilJyrM/EPFZu62w2bevHni9aAnKlOwevVqs27dOrNhwwZz7Ngxc7zJ8/Jmg6BrEoQZZdfNrPO9AtpDzS7sNF9t2my2b98uCsv+/fvF0EKf3rg2K1HlzyZ1WuWaPpdK6ug/y3WnV6b7v5nAPQb3O1CDwdNCuCEzEiERC4XzoiPiw+LcOgQUz8mvaU4IlVS8s/GceP3J53xlyT7ZBp7kn37itbzRytHk1JPPxrx5e06b/QcPxSl5Wh35ZOF5c+HytYT511IUGAq6NjLfivzIFHlXHpjPj9SbMQfrpTjfl2WD0veekFp6N0uRoZhXSsaX2DncHumIO29Po9TV1UmV43RSUVHhzvJlUyR7oyaRFSiuC6sHJXc+l9zfTc134gw4yZBtPY8nLZBX91ifBDDENN98kGBMstESXX62stHfd/v3QcbVIHxTCLfK4H1v3GKssNMpdMxK1qljQ22fl4Lh184YMmCSEiLr5zC+fZvDxUMJJZRQcpFvHeFWmZVB32oXpbHcPZdwQ+Lej7VNkUqSqkA7eU/n6ltNYaRWUFrT6H+ubGrx87XnVHoh7rotrcjMd6ZjDzck7Nejwm6ZhPeBsFr9T0iAFlLjvyEMy3YfN9u2bRMCC5k9cOCA2blzp1m/fr3Zt2+f5AG2tbVJnhhhihRSW7h0uVl+vMzM2V/gEfUDhWbK9pNm6o5TZsbus97n3V7f42xR3H7dXLlyRXLS8GTyn+wDeeQFBQUSlsd8PAV2mxW8m0Q3aOicVrn+jz996XtQvvvcG2ZXZbvZsmuvmVjkhYBrGLJeY20FBlm01wm6B1KBtkyjTYIIN+ePPGy8Knz/LEkUwnAiiAwvr79tZpUnFmcbCWwra4kj9me6svcGTyrtF0/6q8sO+vefFgbDc0d6xNtfzncvwaiSrtsPpfq2652x4YbQr2m8k9Br/v6Dr822yOUELyvY23LHbG+6aXa23DMb6q6bLY0D8vlQ233Tc2foGlRdaDWd/YP+d/s/eNbxwLrXYLgAmX9ahBSqUw2xuhex/HaMijo22f26qS+i4xZTu2qy5srHj283zdzKm0KUT1U2JZBnFyVV9XHFEBGMmYSn2wa4Y7Ud/udsq5BjeEnX6eNpE6Jb3OPMBIvPXZCxhror4gGP1WTAgKmRV7+YsEyKjI45UCffPz56QTqOuNENNhj/QgkllFBCyVy+tYS75+7DBGUgFdoGHpoHMT3BJdyQuP/1o1/JZwqNqQLt5g/yn+lkXvVtqQiKMsOLEkKoIce8MN/alBeXt+ZbrqMKkPZ7Zl3mQZxRiKT9lb8fg2ZzpMtsj3Sar8o9S/lryw6Zf/7jx/L5h7//UMJq7WJpWkiNkDYIw6YTxVKRHJJNgTQIbktLixBsZGBgwBw/flw83uDw4cMSXk5eN6Hm5HhPmrtYem9/uXSdmbJsvXyW6dYTZtqhMjPlQKmZdazSTD9cLt+nHzxvFhwuMQuPlJolx8sldJhqucuOlJhlK1ebJUuWiEcdkg35VqGQ14ULF2QfgZ4HJXDpPCasl9d11xw95RkD/GJxsbBGFBjOiVybzQVx63DdPp42z9+Xp1GCCLciWdjuaMe06DMAYaLnOJgRiX6Pgs/TosvnVHshtYBqzoTYrqm/ZVZU9vkK56KaRyNzrgFB70PCfkezQIzcY8kEkCpbSupTP3fJ0GIRKaImCAEPkiDCjUGMKAMJa44V+3IjM3Q9DGcQUM2bVSOogq4VT4vs3bvXbDhe6Bt5AJWQ7UJ22q/7P96d7Icma30RDdPWXHkd3zAW/ei9KebZj2fJ/wQVB3SFcH3GZFvoie1eg3QISmX4pktFz4OESItUIDLrVOe9uLFGPwfNUzxN93YooYQSytMi31rC/SjiEu6gl1YQkUtGuGk14a5rb9Pdluatofhor2Fp1xHr98w6f9pVlrC94cLRSLO5dOmSVKpVoTWNhHGW9phpRVfN9OJr0k97Rkm3VDFmyjyWTS3yQtmyxfRj1WbGgWKz9HSt2bzviHjUCRWnvQmVcyHWeN5XrlwpBJzlEHD2dX+Ll4/objMT7K7qMKVVnvXfhXvdbZCfSL9YN3ya+8dx8ojgobO9qOlAe7iRltsP/pJxWywIjO3VJ2xxfL7X7kcjJhRusaNkUSFryzvN58e96Avaq3xRGOvPHNse5AjPjBqd1DP3JWkUzn8ON6hWTnQLx813OxqF/dD2Rnx2CVsyUGxnNAuEm4iYicV9PnHVY3Y7CDBPUjai69mE++rVq+ZUWY3vPQ3K07e3690Xnme2oq3bdHV1yXZ45glfDxKqwy+piX82MYhBIIkkeObjuUIkg9qMqeEMAqp5sxg+7XWeNlISiY47qcYqkG55EHg3USMDcQk3rbdcw3X9tQG5hvY8amS4202HTRe+fYQ7F8m7kn0kDhECoYQSSiihDK+EhDsHgeysariTEEqZCl813TEPgvm22dCUvcJhI6iFzkiC0Gd33uPGtHNtEr5+8uRJs3v3bskVh1w3NjaKIeDhw4deb+EoAV/91caE32eC6RWDZlbFgFkS6TNLo3CXPwqCQh7X53AfaPupkRR6ebqKsw3dFwob2dVtCVv81ze8sHPmf2l5E7XoD8YiDasOqip95OJ188KXXlVwyA+eOfWwsRxyREQG27cjDyDn//nBNCHFeOX+vL82jtBrmgTz7H7z5Ozrf9v5/ngAWU+rzPOcUVTx11PW+n1TtVctn6nMrO2N2CcI24zI7QTji4tBDaMZpQLhpuDff8XON6RVI3DUEPi3P3/FD12lfzbr2YR706ZN5oNPxgv5/fd3J8eFuWqePoRYo2y4P3742ljZzleHz5ops+b4RidSc1xDlBqjFkQeLd0gyBuoeBoJt3sMw4W5Vbfk3j1R3+nfx4xL7nqZwk5h4t2mxjSeQV0nJNyZSX/0WcCg76ZtpAKe9FBCCSWUUIZXQsI9CmTynqKoYuF5wFAuJA9cvXhRZU+V/C/yr3meuwAlJQjaL1iJhk04gtpSgc2RTnMy0mjy61tNc39ixWRyOLVvZyqo0qRkRUPf3fWAFm/JBrPO95mpAeGg6TChuE/wpVRRTlSk02FO5aBZHun1ARl318kExyovikcI73tvb6+E4+MpctdLB5SpJy3uPimCiIoLN3rDBaGRpFno90y2aUM7DTzzyfy4NA9Nk2Ded3/zRlzOvv7WzvcnkoT1tMr8h4dS11LAe8vU3l/6PT/tEhRSHnQN3eu0vim+HREV//W3qYjto2B+JL6l4HDiaSPcGCG2XUzMxXVBK6cFsZSKpXVedwYbGI/dczHcsFOY/u3N8RK5hbGFZ1DXCQl3KKGEEkooT5OEhHsY5EqUhLr5U+mA11DljVlrpYcpigQEQNtjUY1ZvWMs01ZSv56+3ry//rjZ05Ca7Gm/YPUcCuGIeZOC2lKBslhhuCC5e/euqa6uNqsKvBBfBV5Gu4c3UKVJyYqGvrv7CGj9I9uheNuRJiHphKwyD89GkHFgWmnqY88F5GuOO3HJLyxkGygUB6JKJy121JPWYnl447dVJdtKZmTQKsfkmoIzZ85I2yz+Tz05/JZ+5ITXAsKztU+0zjvUekdCayHsfX191tV6fDI7hwKEMytuJhTXssG5IEXhwo2vc2qvFYQgYujOCyJ99ryg5ZkiqGf10yb1Aek0oxUH6jpNY8+tBKOhi/PRMY+IJbDBMgykAik030aBtLvnOT08o7FfpM3uFBFLt9BxctzJoc+pEBLuUEIJJZRQniYJCfcwCC9/VyFIB7voCyHlqsi7BCAZlhW1SY6cOz8VbG+SO18/24SbPOPia/fNoQt9Zmt5q1l1tkaKls0pjK9KTXVv9cK7sP8vVc9VQFjwH9ecEIPD3/z0dzIPz0aQcWBOZaJSNqmk33hhyzGPWRIP+FBV+fhzgTf0O7/6o19YKCjEeXfLvYxymtnW//nFq36PcRdKuLUvPMXkfvnJHL+HKutoP3JCdZn+fXTf/D7RsXkvfzTZfPbZZ0LY8/Pz/Wv3OOXGvb8kkJhUiLRcNW1t8f2Q6/vj+5bOrbg+9LnKqwqtRc7AzMpBsyBKyPe13ZMK1mBN5JpMqWpd0HxVKlpPjSSe++FG4dUHvgGm9+5f5Fhq+x+Y850DUh2az+DijcRzAR5HLv5wCb1166LH54bC2yjv9sKJPzxYb8bnXZVCjprTznzJ7S+g9V7887msLrHvs0SSVPb748vkshuyLf0OWVPiBqi2rUar0iu3E/KKQ8ldysrKzMY6r4Ccf97LKMrpRWdRRPHzc51+LQWuAet8ntdp/vGFd/yx1I4cUYOyRpj8/IulSQ2zNkZ7rYNQQgkllFBCsSUk3MMgEGbNFSWUVD2xqpAEeWi/qh/wK2evimTfo3p3i0fYyfl08xfB+hwK0UBOIAAIedD51U0J6zwuBBkGgBoHppX2JizLFFpVfmJRT9z8ZP9pY3UW1ypVFW8l3HaLHELKU+1D0PYIKXfb7DxJ6b2bPtpjf0N33HfOxYnL2ed8znV6wSq5oigXQMiVhwQWtPabs83dPik81tRtDjXfMKcu3/Oxp77bbL5wy+xtvWPWVXSa/W1343Cy856/zzurLpsTbYNSCZjCcip8d/czHRbWPP2h5rbcjbUwwhD3w9c+lFxtzWmX+VPWmO+9+K55Z2uxFDDTnPyg6Bqu6e59B8QQxm8haEBD+8mbJ79b5/NfarT68Z8mmnfXHEmInlBsbb5rRs+TM/pl4cKFZk3FFSHIwG6tyLXAQPi9F//k1VKIXQNd5ycfzUm474PGOt4/dpeJUEIJJZRQQvkmSEi4h0Eg3JorisKHhZ6+l6psBHlotzQPebhR2F2vVzrQl9MWCDKtuZTEV9bWS0VY93fJIG3PHhrT3d1tKioqxGO6/dg5MSR8dLQ5zqv0RUHmpDM7oIB5SthkjBW+13xovmJe6VDe9ycnW30vlx0GzvwJhfGkWhGk7GWCuZGh3rVUZP70VFtsmbePeNnj99ebEhatij59jHuslAIVzWvNBqOtH+rxy+nz+11AOF3CrWGncj1jIf7qIVXQvss2MmkBrfrWTtN6rd+fz6Ny584d09TU5O/n1gvZh6mviz7ntifX7hWs2NacfbTLrKpvJuG2oTntgGfP/q5IRrhv3U+M5EkV5u9+TwXbWBJKerFDyoPOs85zp5lgTpX3PIcSSiihhBLKN01Cwj0M4lYZVy9skLKhy2zCnYuQs0tPUyXYtbW1Cf1NMxW2RWstQgap9E2PbSoJnyyrFUMCXirbq/TTTxZIReoXZm2W74SBf1HYbX4+fol5bflhnwCjVDPlmLVFEutDniDyH+wZKurGlP/QEGy7t7kaLpZs2ml6bz8wR07nmRXHSv1zyr6wDsV17DBwwq5dkjZc0J602qNWqnOPnSXGFb67ud/pQLGiew+zawsGRpFzWySooB4RHuPzrvgGEXc5fa5dwq1hp9Qx4NrjCVUPabbY3OwV/8ura/ENTOTruuuNBCgcSJgzx02IrbbJstf5phFu7mP3PGSCoJByCqxtiE6nRbI3kAC7VZka4+x7MCTc2QnVxzNJqbFx4vK3M989lFBCCSWUUFRCwj0M4hLuTDA3qmS7ymUQNPSYNlft7e0+wa6pqTHXr1939iQ76e/vF2/2+fPnTWFhodm6davZuXOneAIHBweFcNv7HGRACFquBBhvP1MqzWqLJJZDoPD0/9tbX8j3ZHnOrpdk4YrVZvPmzbLvZ87lm5UHzpplsV67ntfMK77mghxSWSf2He/0J7HQf+0TDTGHDPFZC/nIb2JKuuQqkgMfU9bV82oT+nTnJxWetqrHySSIcEuo6e/+JAaJoPzMIML9uEHhPgxFXFNNBXHXyQW/mrxaiDaGIEJstU2Wvc43jXAjxdceJFS4TgbGQve8pQMGS9vwVHDFq55OdwQMgj/7fJF811ZljD1apV7zhUFIuEMJJZRQQgkllJGWkHAPg5R2P0ggykFAsXYVx3TY2nhTCDbVwYOqUFf2PkjIkd1wwau4G4R1jXfMxpoes66iS7D6fIdZea7B7Nl/UPJeb9++bcrLy8XjfXkw94rELll2P7uAcE4rHzBTY6AHNmDetOh06vnrZtH5q2bWkYg5evSoHHtJSYmZeza+YnomwHP6y8mrRPGmEBnzMAjQ/5fPKOXkhkKqta/0v7z+mRgO6D+MhwfPK/My8bri4Z1Y1Juy+vk3mXADrj0IKgoI4SY03p2fDmxPizapIYTP/7PulJlQ1BN4npOBAnTkFEOG6SPNtbWXU8EeQ41u0/5PvkPWAfMEHG90Sv9v979cfBMJdzayxoo2iEsliBm6iBBwIwN2XoqPEKJ3sC4LuseS3Xsh4Q4llFBCCSWUUEZaQsL9GAXCq4o5XjQ/xNpS2Jlne121OFqQUKDKVSBzxeHW2+ZAxUVzpLrNVPbc96oNR5XYpVXXzZySa2ZeYYdZUnbNNx7weW5Bu1ldc0O+Ly3vNvOLLpuVkR4zv7xPqkxPK7pqZpf1mZmlPfJ9auEVwZzyfjPrfK+ZXh5c2Twdlq1aI5W9kaJIrVmy97Ts86YzFfKf9rpvbjwnBOzVpfvNK1Gijfed+XjfmQYVIguCvR55unjVSqvrE0K8gZvHDGknrBUSB5TE2+t80wl3rsC4cbbTux/Bstrb5sV5O6RGwjPj5vlFm9RrKZ/fnhDXDo88fs3x16KGLhH/sjz+f937gtSKX09Z62+T/9HIDL5r1XiW/8d7X5r3dpbLZ/p/u8fkYk3j098u7FHEJtx2KgHnlVQCnlU3MsAl3Bge3fOaCe45tTBCCSWUUEIJJZRQhltCwv0YBcKtijkhjv/8By/EmlBbe77tdU1FuOnl7SqQI4Xyy15+OD2fjxw5YrbvO2QuXekVgplfXm32HD1lCipqzOnicsHyr7aYrfsOm5Ubt5lrA3fNVxs3mQULFphFixYJWSZ0fdWRwri8bgwOtneS+Z4n0fNkQlqZv2LPMbNs+wFT2Ngu+bhnay6aJVv3mZabD8z8CoqWxe97kGfrUbC8stfcu5c8LzHvSrC3FhLnEjnFN4Vwcz1ok+dGd4B1jdkXFAO0oVL5ykrfSBUxYQPvqLQgij5nWtTQNXikQ6b/5SKoOF4o8WIT7kzhEu57D/8iLQzdaJ9UsO+rUEIJJZRQQgkllJGSkHA/RrELNdkhjm7YtU3KsiXchL5+eKhepupFV/L6KKiNKqcUZdu3b59Zf6YyYXk6TM9rN4sXLzbbtm0zx48fN3v27DGfLVjt53XjyXrm47nmB6/82fdO4uEntHtSSW6e8Ezx6ZnLXrh3+YD5ssIj9zL/dId8dyukz6m6ZeZFbojXfn7lzYR2QwfasvfyUqH3my799xKrV7+1ucB8ctJrp6ch2e46NjHa05IbadeQdj4HGWDaBz1iHNRTHINOdd99s7DmjlSbj0NNYrspBc87RDCU1ELBQPd6pEOqcTGUUEIJJZRQQgllNElIuB+j5OLJ2dua3JMaRLg19PX5mZuEzOIlx3PurkdxISooQ8jf21Uu87QQWFDf8HPN14Qknzhxwhxvz570TC3tMwuWLDNFlXXm4Kk8s+vwCbOjsiNnz2E6LK69ZWbntQpWVPaZ5ZFe39O6pvamhMgvjnhEnr7AHx9r9quh/+8f/0bma8XxbHGi8760WXOJWyqQHvBNlyDCbfdqpuJ7UFE1m3C3trWZtu7rCWH8CogzOf/uNlJhRuUt+S1CPrm7PB2Kro2u1mxPm7Tc/DrB+5wOnbe++c9LKKGEEkoooYTyzZCQcD9GaRnIXrEkdNL1nCnoX+wq/6633F2ueGH2ZvPbOVuFZP7ds7+XeXiVk/UNX3+82Jw7d05aiB1vuyNEnNZetMaiCjPeaCXsdo7sp2c6YqR90EzNkgilAqHndp9md/np9kE55wcPHjQrVqwwDQ0NpqioyNy6NRS6fbi4WtbV8+ROwevrT5sJBd1+hXI9PpZB0pmOO+FVt9b2T1sq2s3du6EHzpUgwu0iyPu8on6oXRRtotxQdUAOrwq9mzMVChLaMrMycZ/SYbT1Qg8llFBCCSWUUEIJZfRISLhHueTiccPDh9dOIdW+mRe5FSUU8dtLRcqBEqDDlZfMxIkTzdSpU82ENbuFjONNf3PDOWl39OMx06WI1evrz5gX5203v5i4XH73k4/mSri4u91MsaKyN2EeoDDWj96f6hsJ3OXTSrrNtEji77IFIc/SwuzN8fKf/JcWy/r+S+/J9K9+8oLMx0vLsjcnzDZ1dXXScq2xpd0cbk9shZQKtMj6JgYiUxF66jBckyCsbxoqPJaMcPfeTQwXL2hoM839Xp9uwDPibtuOBgmqOh4S7lBCCSWUUEIJJZRQkklIuEe5QLhthR8FH48yOa98Zt7Yww2+9/Xzc13maIcXhn7hwgXpsT0wMOBv7/5DY5bUZkfiZ0UGzZXbD8VLTI/uTWXefz8q8JBPKun3EDu2T062xq2zoyL++5NAkNcVBHnEwanOIQJW1Z19+D3QEOdvmvQFkF4X045WS4E8jVwgWoL7W/O8waRSWkZ5URRfFFwzC2tu+VEhBxp7EiJFjj1Cn287GiSo6nhIuEMJJZRQQgkllFBCSSYh4R7lAuG2FX4UfDzKP3h1jHxmHvnaeFbxsr67vdRsqe01eWVVpr3nRkKOK+jovWnOlkZMXctls3HXfnOxrSPuP7u7u6US+cmTJ01Hx9Cy5uZmE4lEzKbipgTSkQuenbRSPNQ/+3yxf2wUTrPX4b9W1mdnIADjjrfEfZeevrH+yXyHwEHcvsiPbyM2HDjecd8/1+e7E9sVYWgYd+KSV6gtRibddQi//rbKO3PWSl63VhJnyn1CBIFW839u+lcJ52yk4RpWFCHhDiWUUEIJJZRQQgklmYSEe5SLHVJuK/xU1nbnATzcLiFIBypk/yXG7y5dumSOHj1qTp06ZXp7e/39aGlpkVDdgoIC09R0weRVN5vKjl5zrKzOlLVcNdNLumVbb27Mk+refKYdk3op396Un/C/NtzjUGwvbzG1tbXm8uXL5urVq+ZMeU3ccu25/Lc/f8UnaEH9j385aZXfP1nXgbzxW757XlOvV7Odg/7+nkrzWSwP/cvosXxR4B1n4eVbZn95szla0y49wPdcytwoAFn8/u/eEwMJraq0h7SNbzPh3nYxfVSAe7+MOVDrt41z6wh4reU8A4saN5hSzd9eLtc+yX2YCtV9Q/njoYQSSiihhBJKKKGEYktIuJ+QXLr5dULurmJ3yz2zpfmuICindCTw4KER7zWe7TNnzsQVF2trazM1NTWmsLDQVFdXC/ltbW01JSUl0o96y5YtZs75HtkOJFZJLVPNr6YQm4aNZ4MDkUuSC42Ul5ebuo5rCetkgnRE6sX5O7xezVFSTrQARJj5VDB/bflBv3cz0QXMv/O1R4g5T+zX7irPAJItku3Xt5lw77iUnnC7eHXZQZlqpAdGDDXA0FrumY/nSfSEGjdYT6v3s/y/Ppwl6//L65/JNWb5f7z3pTlWWm3mz5/v7mIooYQSSiihhBJKKKFkJCHhfkJCZWWXNOSKMQfqzKbqblPV+8DsavbCp5nPFI8znj/13tpVtvHwqUfwbF6BWbt2rdm6dat58GDIY0dIOR5mPNuaD46nu7Gx0ZS0Xzerz3eYhWcbzcxIInFMlvtM32Wmq+tvm4359WZPXrk5fKHP7Gy5ZxYVtJi1VT2ChfkXZftryzvN7ou3zIaqa2Zbc+ae5GwRVOFdp+6xKOFWOd3uVU6fUNTje0vHHKgxU8oSz0sm+KbmcGcilwcfJuRgu8iFlGeC93dXxH3HMBZKKKGEEkoooYQSSii5Ski4n5AsLmrzyS6KPZ9tcsw8L+fYKxpmh8i6oB3V+DPt0ipscsEVCYFm/vi8K7JsYnG/eW7qevHgUTFcvXwvLdztewR37Npjxo0bZ1555RV/H7u6unyyjXeblmC01urv75cCaouqE3OPs8HBllvm9OnTsu1seydni6V1t832i3fM/Lwoia+4KoRtZcMdMz2HCILl9XfMQ4cP50dJoIa3q3f1p5/MNz8eM1Nytvnd2CNN5uMocX9ne4n58wGv2rUb3QDsomuhBAth3O51GW5Q5b77TtjvOZRQQgkllFBCCSWU3CUk3E9I3l20RcJctWUWxJdw7M+jJJl8ZOYR1kzLKT4T0gx5Ew91DuT0y/LEeTYqq2vj9o98acg2ZBjCff/+fVNaWmru3LkjoeQPHz40M0u6pU/1xKJeMQhA9KkkrR70sYcbzUdHL8j38XlXBcsquiXv+3TVBdPbf116e+M5/9OO0oRK7OSj89uJJX0yj17fsjzNsYwkZkdumj21V3xPa8HV++bWg78I4XbXVbjecZ03tWIobD+U7KT37kOzuuFOQm/6VNh44Y5USXeLCCaDG8UQSiihhBJKKKGEEkoo2UpIuJ+QbIgq/y4Jc0E4sx3S/P6eKvFGf3LaC8kGeE8hspBR9YJrESh3e8kwKzLgF01Denp6hGwXFxcLuR4cHDT19fWmr6/PlJWVSd42ecsQbvpUsw0MBvSq/s8/T/f7VP/3pwvNy0v2yXfyYjX/eUvksoSlX7t2zeTn50te+AuzNyVUYqcdGr/962d+K+eBbbP8zY35fgEsjhUjBJ58pnFh3dHvEHSMANpGjZDhMVFiz2fWmVDs9fm2q4W/vaXIfJ7XJaT//2fvzd+juq587z/o/e0+3fd2+nbSfXPTne7czk1nbN8kthN3EjuJp8TzhG0Mng0ewMYYPIFtJjObeZ5BoAnNQhKTQAgJgQBJjPutzy6t0q51TlWdKiQhwfo+z3qq6tSpU3V27bPP+q5RSD7vSVg+28OIAyqRE86vx7VU+SLoKW0wGAwGg8FgMBjGL4xw3yQkIdxa4rzUeL4hgEJ0pRK3kF6RFUcuea9dz8A1t+NAtduwc5/bVlbpGo+edJeC+GhINWQYrzPFyiDfJ06c8NXLqVROmDlEed68ee7dip7I70ki76QI/qyqbvdp7Tn3YXmn+6yu13t79X6vHEiH2wtZRiDeD83fkyLNde4PM79JEfUF7tGlld6b/qdPN7nfvrfY7//UmkbvIX8Mg8SuU27C1uMpIt7tfvT0VPdvD73kowQYo7/50Z3+uNJ6iucUSvvOXQ950s+4IhTYkqJq//XB8nTY+GBhtbLOdAj4+ctRL+nG9kuR8yokhDIbDAaDwWAwGAyG8Q8j3DcJ9T1XfeG0OJlSPfyFwdYeu+QGBgbczp07vZCLDbkOce7cOV+pHMJNVXIKpuHdZhvF0vBEX79+3a1atcpt2LDBTa9OE+LxLHFVwsPIAr2dVmfiqZd9ZtRejPyHIjPqsg0rpAw8ubJmqCXVxjb3clm24cIIt8FgMBgMBoPBcGvACPcYxJXrLuIpDYV8VE0GC8nKQ+cyRJu87L6+vqzvhFATLk4xNMLHm5ubfZ42+wN53F1V7z5fudGt21/r1h8bcK8PFn1D8LQTdk24N6HYL+3u9CHfVFHXvwdhv0eXVmRCucM+ySJvVpxz0/a2e4/4xwd7PLnVxykkhJFLb3AKl/nQcMLQ96Vzw0db7p291v3ve5/yz7/1iz+4n784I+t9I9wGg8FgMBgMBsOtASPc4xDHg7ZJ209ecourj7uVDZ2R1kkiqxs73ZY9+32YOMQ5bPsF6CVNQTTCxiHceLgB+5OvXV1d7fc51km+c9TzW6qQ//3tOx/IhL+HfZJF3tt3wnvTCWPHCLC8Kl21nVztp9c1eYIuudx4izVhR8gjp6cyz38xaaYPDadYnRSsu1HBW41RQVquyW+goNyk3af98zDnO5Q4T7oRboPBYDAYDAaD4daAEe5xjK7ubjerotN9UHsxUpFZ5L2qc276wfNuWnWve7fyrJtV3+9O9g21OpKq44SPQ7Z5Duiz3dpxxi1u7HEL6s/4dlUzy9Je4tGU9/afcrWtx9zGXWVuT1WdW1SZzueGnN/38XpPmn/yzNs+b52ibbTm0scQgRBP2HI0luQmlanVVLtOh4t/VJ8OFyeHnDxvCtphMBCjAQYFMSaEOd+F5O2D2dEHBoPBYDAYDAaDYXzCCPc4BfnU9c0tEbKWRMq70h5ucrqpRE4LsPr6eh9qTo52R0eHa21tdVuOFx+6HidPrKx1L+06Fdk+1uTVivO+QjlVziHmE3d1+O2+N3oZ7cguuDcOnI0Q7qQiRP9A52Vf1TyXdAQGEYPBYDAYDAaDwTB+YYR7nOHs2bOeJBPiPXD1uidweFjJUSZsWdqDsV16Wj+2vCpFemsy2yHc9NWGYPf09PgQco55tu+SK++46FZVtnri93F5hw+Vfmn36Uyo9JCkc7f/+vV+31pLtktl8VDu+2S99wDznOrhhH/j/X144V4vLy7d615esc970d+rGR6SH8or+8+5p1Y3+Ermk/akyHTq+59eUuZe2XXCnx/VzJ/d2OZ+/cYcX6H82Q0t7sfPvOP+9cGJ/vNUKNfHvBHhfzMYDAaDwWAwGAy3PoxwjyPQG5uwb4EQblpj/fHTDe6nE6Z5Yssj2//x7of9Y9gPm9f7Oy+5r/YfdktbLrjPK064uVUd/vmHRXpsEYj+vbPTodS0KNPvx4nPda644IuZIau37vY55LQcm9uYzneW3teexA/mRvNZyLr0w0Z8/+2wN3ZqXzzSNxI2nk/4vXynfBeF3sJib/wOHt9Iic6lRyoHowsMBoPBYDAYDAbDrQ8j3OMAvb293gPNYwgh3AjkT5PDXDL3YFdk23AIRcv0tiTy4boyX/jt4clT3U8enewNA9L7mueSG82+d02d575379O+Hzbyl0VlPjeaVl3sw776+MMp/B5INUYNvuvbdz6YVexNWoa9aYXPDAaDwWAwGAyG2x5GuMc49jYcdrOru33O8KdNA+6dg30ZobiWJoTDJZlc5s1H3MSdJ/02PMni2dX755NPG4v3nOcT7b0m95rfNbXyvDvV2+92HKj27dO6+tMGiQe/2um93uRkcz5sw1PNNsLheY2xQAwGG45fckfOX/XS3N3nPi8vvlicEW6DwWAwGAwGg8FghHuUcemaK6mP9miL5DLjvf3u7x732/Aox3mRIcCvVl7whPyZ9Yeycrr1cXOJhJGX0nbsL1/v9+HsGCA2VzW5A20drvLoadfSe9W//5t3FnoDAjnZnA/bCLGnMNrf/OhO/5oK5//64Iv+XA6cvuL6rlx3C1vTxdFm1EW/s5C8nhIpribScPaqng4Gg8FgMBgMBoPhFoYR7lFGz6WhMPAbFby0E7Yey+Q0h3nM4X68fnJVnX/Ovo8urYgcS4v2IueSyfvOuN/P/Mb9dtpiX5QMYksRN17fM32J3+fFHR0ZQi29qMXr7Lelft9/TvrI/fCx192D83a6u6bOT72/I/JdyITNRyPbkFLD2ePOE8J9eJCsD6dQFM5gMBgMBoPBYDDcPjDCPUpoa2vzFcG7+69mim1RURzC+XJZjydkPIpXGILsK49X5PYS46X9zbuL3D/f90zOPGaOCQH+fy9/7MnlXVPmpcjtrMixRkKkSvq9s9f63Gf/O5+a4reJ15ltP39xhn8/aZ/qkRbafX3SEA2D5/e+uPNk6n855v8/bdgQoer54ysO+urwFHnjNduNcBsMBoPBYDAYDLcXjHCPEjZt2uQf337/Q0+ICW2mMJgQTgiZEE+e/+Gj1b4w1/1fbI0QOi0+pDvGUzvWJO43htv0+7P3tGV6U09bvMFtaepwHxw4lWlTRosvvOfpVmTRYxeS6UW2ICPM/jt3PeQLtX33909EQutF/rr4gLtn+lL3q9c+d//y5wm+dRrbjXAbDAaDwWAwGAy3F4xwjzJ0SLkmmTdD8EQ/s67Z96QO+1U/vabRk1uE/fDqPrWmwXt28c6zDa8vxcgkNFxaeHkp4tzerup102r7MsLrKZXn3VvVF92Ug33uuXWN7rX9Z1Lft9s9t7HV/ejpqZ7YStXyibtORY5ZSD5IfQ+RBL6NWOr3iufaRxnE/Pakhg2OF742D7fBYDAYDAaDwXB7wgj3KOP85dJyuJcfGXDrj19ynzX1u08a4+XD+rTH9vltx92kfWfcK4PVu8Pc6Yfm7cpZ1AwySV64/m4Rwtfx8n7//he8d55tvP6n3/7Vfe++p73HF8FL/++PvuqeWFruvjg04D6uv+hmVJ/1v3FmTa+bVXfBP2fbxzGh20kFYkvo9nOEd0sFde/tvpjaXu3PhRxzXk/emxqPwRD3l8sI4z/r3qpKkeFBcizGhSe/qXN/+GiVNzzo77tRWW2E22AwGAwGg8FguK1ghPsmgHZTEiqdRJrOXnXXruujRMFxIXa/fPXTFOF9LdPLOsydvmfaEnfv7HRfayp7a1KYREJSDknHMxzn+f24oc9tar8U2V5IIM8cU55LLjgkmvBsMRSQn/7b9752D365w+d/Q/L/8e6H/XvkqkP8H19eHTn+jcgHdX1uR8dl763+8lB/llDVfHvqPd7XsjMlZwYS/IkGg8FgMBgMBoPhloER7lsIQriRsGp3HBkO95nTNOAWtAy4uQ29bk79Of8cmZ8ikR/savHkkn2m1fS5d2suennn4AX3dtX5zOuplb3urYqzWa/5/IojxRNuQrDJk+Y5hgIMBjwnLxpCjbHgL4v2uX/67SPu//vuD73hQJ/jn+ds8X3EOUcpUsd2wtCf+KbWk3hIPUXNpLI73n9fxG6Q4OsIAIT2XgaDwWAwGAwGg8GQBEa4byGcvXQ9RXaLKwRWSNYc6skcHxKu388nkNw3dhwdDPVOe62FxNL+64mVNZ7cyvthWzPJe0aETGtSLRLXEuwHD09yT66ud9/6xR/cHZNnZ/pv3/32fF8hHRIPqaeomVR2x/vPd3z7P3/vPitvd09Mn+uNDaFg1DAYDAaDwWAwGAyGJDDCfQuAcPOVRy557+sXTX1uZsVp/1zLG1VRslpINrYP5R1/2VxcvjU5308s2OEJLZ5qCK6Esf/Ln57zbc0gvv591dZMKnsXK7VnrnjDg8jM8nTBNy25yDvyReo8r1y54tauXRuMssFgMBgMBoPBYDAUByPc4wRk/x46F5/7vefUlQhpTCITd3a4Z9e3ZPpJS4XxcB8h3M3NzW7G3mOZUGzpH+4lyLHGq81rCeV+vzb7O8UbLZW847zXGAbe3tfhplb1uqnVF9w7NX0ZebP8nHv3YJ+b3dDv5rcM+PzoDYd73TeNp1151xV3VaVJz2/KTaxziYSN0ze9vr4++4AGg8FgMBgMBoPBkBBGuMcJwvzsJEL17glbjvpQbangrfeh2Nj/+Ok9vuo4r3mUPuAiQrhXr17tJi/ZlQnFlv7hSJhjzTF5TSg3nuoHZ6+KfO9wyqVr6fGpqqrKjNWJi9f8eCGVKRL+RXWH++boQKwQOk5hNyluNq+lOC8+YtXHDQaDwWAwGAwGQxyMcI8T4N3WRC+fCPn9/v3P+zzl/1BEWiRsBRbXEgzCfe7SdbfgUL97pzreI6238ZgvZDtOZlSm23chmUJmylggxc+kxRlyadClXV1d7a5fv+49/vrYheStqgupz6bHeenh4vLUkU8b+4N/ymAwGAwGg8FgMBjSMMI9TiCE++EFe331bUgo4dnpHtvpkPA4IfxbWmyVIniIyYvW24dbplUOkei7ps5zP3hoks/7RsTrLsXPyPeWfYVwnzt3zrW2trqyztJ+a9+ly/44QriF9FPI7dkNrelxVpXMxRBghNtgMBgMBoPBYDDEwQj3OIEQ7l++9lmKALb44mP/9uBE9737nnZ3vDw7QiCTyLLD6RzoUObuaXJb2/uztm07cTnrc7Tcmrj71JAXOib3G3l+6/FM5fH06zTx5zUycVdH5r2pezsin88lofe85dyVTPj45qomt+3klUzrr0l7Tvu8ciqeS/Vzfm+GQA96ynn/QGU6JF0IN6T/P55KF3Kjnzlh8mEl87/7xe8zBeCMcBsMBoPBYDAYDIY4GOEeJxDCLWRTio9lwrcrosQU+bqNXOWhtlYz6opvGzZTfYaWW796Y6776YRp3tuM51nnfst+Unmc19/9/RP+kX1/nfr8vz44MfPe5A2Nkc+XIu8eHGr9Ra75XVPmeQLOd0KYCbEXAo33nM9QEb31yFF36tSpnCHlcSHy8h8Y4TYYDAaDwWAwGAxxMMI9TtA9cM29c7A4sjy9ts/1q7LdS9qyCeVD83eniONh99SaBvfk6jq/7ZkNLVn7zKjP/b1xRDTXe1KZPE7e3XXMLWzNbmM2XVU4TyLkY+ttL+4c8p5nvOzBb8PDfSU1TPv373erjl6KfL6Q0EbMYDAYDAaDwWAwGDSMcN9m0IT7l69+6v7+jnvdA19ud/90zyN+29/++DdZ+3yYh3APl3xedSrzG2lB1tnZ6Va3pkO+aT1GTnUYBs42CUcnbJz2ZjyXdmRxIe65BMMEZokLFy64ytoGV3Mm2notn/ReVr3IDAaDwWAwGAwGg8EZ4b7toAk3oj3RWj6o63Nf1p5xX7f0u8Wpz4t83Xze97+WXO/1befcqqYut+1k+nXryS7XfPyUO3vpekGprqnN/EZakOFt/tf/vNt/P63HqLQehoGzTcLYqchOezOeSzsyCVXX0tl3LfOdxy9c8z299T75ZFpNn7uAO9xgMBgMBoPBYDAYCsAI922GOMJ9I9LZdzVz7NraWnf16tDr+vp6d+XKlcxrsPZY8SHbIrkMA2EbMnkkTJwWYhN3nvQeb7bx+mj7SXftWrp59876w5FjJZH2i4PNvw0Gg8FgMBgMBoMhD4xw32ao77malSf9RVOfm119xn3S2B8hlknko7o+N6X6onsrJW9WXvDPP6jt88XZPqi96B9DebMqeozhFClkRqG0305b7L77u8fd9+9/wW/79p0Pupcmv+xee+01PxZfrN4S+TyknPB0QtKlFZjexwi3wWAwGAwGg8FgSAIj3Lc46lIEW5PeUIQUT6sd6j0NyaSlluRMs33ClqORNmCST12K3D93q5u8tzvdT3zTEb+NHteT9qW3hTnYb8R8vpCEhdIeW1aZeT4QFJGjlZj+3O9mrHD/655HfU67tALT+xjhNhgMBoPBYDAYDElghPsWRzEh3PSe/smz7/k2X7TU8jnTT091d075yk3ed8b3naat1r2z0znS5FNP2t0VOc6DX+30PbiFkMcVMKM6Oo8c829/nM7Vpse1HFt6XA+n4H0Pi7bHEe4wbD1XCLsRboPBYDAYDAaDwZAERrhvcUC4IcDPbU57kSHBae90OlSaCt94lifv74kQyzA3GiFcW9pqZbZtiuZB/+bdRe7fH301U+Asrkd3eMw4Yiuh4cgL2457As9z72EfPAd+CyHgCN54vPJ435/d0OrKu654Qh0KhdJCnEgRZ/29SaSz3wi3wWAwGAwGg8FgKAwj3Lc4INy/eWeh+7uf/96TRUgwZPgf737Yv75ryjzvWf7znK2e1L60u9O9UZUOM3+/trgK3iMlT61p9LnYPOf3I3jB8cJD7iX8m9fka//fJ970ZDoJDp27GmnzlU9ae4eKwhkMBoPBYDAYDAZDPhjhvsUhIeVxXuQ4wbNMGzDQPXA98v5wyFvVfREim0u2nEgWEi/nJ/naSQm3wWAwGAwGg8FgMIwUjHDf4thwPBlhDeWj+jThBvs6r2T6bMcJhJj+3J9Vnfa9uZempKLrcoQ4h0J4d1Kc7Cst7BtjgcFgMBgMBoPBYDDcTBjhvsVx/vL1COEtJMV6h48fP+66u7v15mHDzurGSD52PjltOdYGg8FgMBgMBoNhDMAItyERKDimibnIpoYTkW0IZL8YHLtwLeJBR1Y3d0e2iRRrHDAYDAaDwWAwGAyG0YIRbkMizG8ZiIRtF5Klhwf0YfLiq0PFf8fXrcV9h8FgMBgMBoPBYDCMFoxwGxJhbnN/hOwWkkVFkuEvgu+g1dez61v8c2lZRrsv2n+9XDbUwmxhS3HfYTAYDAaDwWAwGAyjBSPchkQQwn3/3K1u0u7T7oVt7YP9vM/57fTynrSv229DbpRw0+7rf/z0Hv/8v//kt/6Rdl+0//r5izOMcBsMBoPBYDAYDIYxDyPchkQQwv3Q/N3uV69/7v70+Sb346ffdv/x9FS/nV7e985e5/tj8/6NEm5Et/oKtxnhNhgMBoPBYDAYDGMdRrgNiRCGlNOrOxcBDt+/UcKdRIxwGwwGg8FgMBgMhrEKI9yGRNhy4rKbUddXlOw+dVkfJi8qu674wmnFSM2ZK/owBoPBYDAYDAaDwTAmYITbYDAYDAaDwWAwGAyGEYARboPBYDAYDAaDwWAwGEYARrgNBoPBYDAYDAaDwWAYARjhNhgMBoPBYDAYDAaDYQRghNtgMBgMBoPBYDAYDIYRgBFug8FgMBgMBoPBYDAYRgBGuA0Gg8FgMBgMBoPBYBgBGOE2GAwGg8FgMBgMBoNhBGCE22AwGAwGg8FgMBgMhhGAEW6DwWAwGAwGg8FgMBhGAEa4DQaDwWAwGAwGg8FgGAEY4R5lXLvuXH3PVXew+0piOXTuqj6MIQbnL1+PjF0hOd1/TR/mtoLNx9FH+4VrkTHNJzVnrrj+q9f1YcY1Lly57s5eSi5XYk6/e6D4651j3eq4lLqoa89Ezz2fHD1/66yDtqaNPFrOFTe+/B/8L+MZp/qKW7cR1jmDwWAARrhHGW29V91rlReLlr2noot5LrldlYdvjl6KjFsh+byp311J6Zp1RSpo/I+3AlCc9JgkkXODxOVSiggWO3ZdA7eGct+cGrvXY8Ymn7xf2+feOdgX2V5Idp+6rL9+3ALlW59fIfmgrk8fxs1vGYjsV0iWtA3ow4xZNJ296t6qip5DPvnq0IA7cPpKZHsheTP1PddvEW5wo2va7YaB1BqOUU+v07mkrPNyZOySyHjXS2Y19EfOqZCsP35JH8ZgMNymMMI9ykBJ14vySMjt4MnRWH64eAX849RNFG+Q3l5IIFooKuMdjWdLm4/dg6R528nila8PY8jTeMT+EogN8mZ1dFsh2X7y1iHce04VP2cQfbV90Vy8ArywdfwQbv5z/fsLCQR9X4mE6BZYzjxudE0D3D+5N8xIrVVJBeMtBsjxBox5eixGQhrOjm/CzX+sz6mQrDlmhNtgMKRhhHuUEUe4H1te5Z5YWeNeLT/vnt3Q6l7efzayT7HSdRuGSgvh/vOcLW7i7lN+HF85cM5ve3jBXjdpb5d7btMR90p5r5uw+YjfjlJV3V0acboVwsVQTh/8aqd7futxf06T9nX7R8ZN5qUfx9SYvbCt3c/Rx1dUZ5TTDceLjyqYVnPrEe6H5u9Ozamjqfl1OPOaMWW8Hl6wxz/KviHhZuwnbD3m32fMEbn+Ze4itxrhZg49t6ktNUZD5855+u0b02vgU2sa3PNbjmXGQl9tUzbU+H24ll+tuOCPg8h/wHa+Qz7PsSDcV6+OD8V/ztbU9fdNrXt6bWNKmvyYIJxjeM+QucX5PbG03C0pa8xcs7LOsT9jK2MsY85Y+eepfS9fvTXuGXGEm/NEmG+MzeT9PZF9QsKNN1a/n0Q6x+F9txTDzmupOcP9VOaZ3Bdk7eJ+++LOk5k5xrbxSLgPHDjgenp63OXLl90HNRf8+cj1Eq5b98/d6ibu7PDbERmX1Uf63bVr19yVK1f0oQ0Gw20GI9zDgPKuKz6cOYnMiwmD/Nnz77vffbjS/eAvk93/feJN98/3PRPZJxRRSiftOZ1Z4PU+uzsuR0LBckmoaIxnCOH+wcOT3K/emOvH8T+emuK3/fK1z9yzG1rc3/74bnffx+vcT55912+PI9yPLq3MkKXwpgrhDPe7VQj3b95Z6L77u8f9Of3Nj+70j4ybzEvGkTH70+eb/By9a8o813zitFck1h6+mEUW+SzKBkYPb+DY2Jal+PPeu5W9/rtRQs6cOaN+0fhBSLh/+eqn7jt3P+T+5c8TMq8fWVLufvz026m597kfN9k3JNyM/c9f/NC/z5gjcv3L3EVuNcJ9z/Sl7t8enOj+sqgsfe5PT/XnyfafTZjux+CBL7enxvThzFjoq+3x2cvcr1Jj+4+/+Yt7dEmFH2tE/oPfvLsoM6/5/LfuuNcT7m3btqkjjU288snXfn5wvSGMCfcHxkWuTTlnzpGx+m8/+E83bdHqzDUr6xz7/8OvH/DPOZbMN8aKz7Pvq6+9rn/CuEQc4b5zylfujpc/9vONsfnRk0PXlkh4H1y2rcw9hyEnMGiE5FGMuYi/Dw8adE5eGH/X6bzdDX6N5jzC85Lz1oZXznNCahweWXwgM8/kviBrF/fb79z1UGaOsW08Eu7ly5e7qqoq98ILL7ifPJq+ZjhXzvlXr3+eWbcwsMpYfP/+F9Lr1xfb3IsrDrjXvt7spizf4XakdLJCMt7D7g0GQ24Y4R4GTC0hJzOf4K3R20IRpRTlgcUd0fsUI+MprzEfdEh5OI7yXI9tHOG+++0F7o+fbnA/nTAto5iyHcIZ7nerEO5cY5Zv2+K1m9z8+fPdA5PeyRAmUT5QNjB6PLm63n3rF39wd0yenVH8vUHpvx7x3z1t2jS3a9cu9YvGD0YqpDxuvL9OEUVtKMslN0Ox7bl03a09FjUwxslnTf3+HDHG6HPWj6Hoq21uU/Hr7ngOKY8bEy0SUp5kXy3jMBo6FnpNE5H5lmtsQsI9c95S93c//7379RtzM8Yy7gN3TZ3niagYcxHuw6x9GHSWb9gS/JLxgeemf+YN1GKMkPOS89aGV87zLwvL/P56LMPr99WK6BgXkinVYzOX/vr165GQcuZTnI7x2LLKyLgklbhaFQaD4daAEe5hwNQYBRpL+IQtR71VmDA2/f7bBy9GcsA+qI1ue68mqlSGizmLO6L3KUYWjSMlNB/KUwRIj1++sUU2tl+KEG4kLmpAy61AuFEyZ9XnzlWMG7dPG/vd5ZRu2tHRkQkpTytYUbIUp3jcKiHlkFt9boWEtWJx20BkTHON9fTa6PWfRE72jW7UiiaHwy1vH4zOGb5Tj1fcGIaCd328oJRc93dT19aR81fdzProuecaG5R8CkJpw00+Gc3Q6dbe4ooy7u+8XPSa9tngmibA0xi3dono9+T1aI7LcCG8dvV5xZ0jQg0TPYZ6XKfVRI+RROjiMJKgaKf2LBeSY6nfRD62Pudc545MPTh0TpJihD5ItJekDkpouuzHem8wGG5NGOEeBsQRbkLYJu87463CWIL1+xSb0mhpaXEXLlzI2kbrmzjlQS/w71T0+G1Um+X4ngAFeXpse3RpRfq91HZyjibv7faL/vym8z48GLlVcfDgQb0pg44UOfkowRiHQsGm8d7mJAkIp8sHFNw3iqykDCmgmnIh2TsOyNGJi9c8wYmTnfWHI9tyFTMktP7YsWN6szuaUvT0+CWR4yOstGqwnoVGRhRJXk/cedL/nofm7XIv7e70z9Nhur1+rdLj09B53u1vPZkiPOlqyCINPVci+4bCOGH/qqys1D9t3OLStdzdEypO9butzaci21nLcqG6ulpv8iAyQc+fQvJJiqCOBnovX498dxLJFZrLPa62tlZvjuBwid1EuF+PNzBWFLLU97h890EibjTq6uqycpW3VTf69cB7gmPynuNC1dm+o6oxOOrwY+WR4uc7Bpl8iNMvqFAun5cUI/RBor0kdZCIAUkJQYxwGwy3LoxwDwPiCLdILotxHOHu7u527e3tenMstPJUUVHh3n//fTfhqw3u3x991ec0+hyjIIfq23emc/gIFcPiynMW/Xuen+LKysrc66/fvBw+yCueFj1O+QSih/cjCeJuiPlACJke49sRpY6B/tztWFxNj0E+1NfX+8I8GppwS/E/ybGU/FFdX+BmEO7QyIgiybrz3d8/4X8PSuX//sOT/rmkaRA+GgfGDYOLng+FZFXbRdfYOLLKeqmgz7X2mhWSkxfz/4fFzC/Ws5qaGr3ZgzB/PZaFBAPlaODMQGmEm7DyXKiqPhjp864F4kzKyL5TacGYceDkRbezrTti5BDJ9503A1RN1+NSSKq6o8W9ChldBXo+frb4G/fglzt8rQZSjDJ5z4MpWnGh6myf9dXXWccZThw6dMgta+3LRLAlKXzGPrPrLuYtfBanX4SEW6RQ9JcRboPh1oUR7mHA1OriiCISR7ipnouVOAn0zU0QtsoJcyRzCYv+WAgpp8WW/m1JhDDyJNhQ3RpRaPPJhkNdrv3UaX2Y2w4nT550p06d0pvzIs5bC+H+6+IDmarLMjdRalBo5D2ek4Lx3Ka224pw59pXE24p/ocCS40Bnz+aUmB1fYGbQbjlu3MplTr1JR/hxoMa7ptE5lSdGrMVyEtpYUbqQT7kmjNxyHcda8ItFb3l2pRCWuE+o0W4d1fUZNaMCZuPZH6T/M644mUYn+rPXM45Fz6rSkdaFCOQJ0hVrmOORbxTQm2ZzSeiegkRAXHGQA09H4k80ceP00k08RzJkPK5c+e6n/358UzdGwyBYgCIK3wmRoJfPPayrzmSC0kJdyEhDF3rIvnkVJ6IFoPBMLZghHsYsLfzcqQwUCiLGs+5BS0DWVLVFR8iuaW62T/mqxyej5jTU1OHg8WFhIVyICFpHUlowo21edLudNXUjNI3GKYa7ofip0ORI5Iab3LO9M2tkHxzdCByg8snjH3/rVJ5KIW+K9e9l+TdyrOROZNL2L+8pj6imEK47357fqbqMsXUGGOpuizv4f2EROIZvdmEm3DWYo1pkEgKiIETJ06406eTGW20sirQhFuUU2njlktuJuFOKnGEe+/evW7//v3u4/qLvnVTSPbE2yRrQJgyw/NPy9tdZ2enPmQWaJeo19x80n7xWqRYWymYkyLc8jvjiCzt4aiKzXPOm/fjwnZDNDQ0uEuXkvX5hRDg5Y6DJtxS0VuuTSmkFe4zWoR77sIlmTXj23c+mPlN/AYKmH3v3qcjxcswPj028dWc1eg/rDoTmYuFBONHvnSF86m1gvVf3xPyyeHzI0veIdxyHxUjRVh9PK51Vxzh7uvrKxg5EhdBQXqDHsckMtItTSmuqo1/IrK+hoXPMBJQXDUf4gh3W+/ViC7yRVOfF70dKfZegxAebzAYxgeMcI8CVhzMrxzfqMw7lFsxI9Rck5+xCE24sTZjfQ6VPm95fuDFyPmPJansuvnGi3yADGrFL5esKiHUFMFopKFDyrVXQwvv32zCjadF/64kAlEDKKFxipgAo5oQu81VTRGyhzSeveI+rE8XIJpeM2RE04aOUPAOXxzlgn6EP89viSqRoXxefz7rdVyrM9YrDBU/e2SSb90Ukj2q3fv2Q4OVosOUGbZP/GK1e/PNN/UhM8AY9nqR9QaQ5hz5wMUAws3vJkIhjshCKqmKzXPOm3MrRLgvXkz9tub0tYbRV8+DUOKMZhSMBJpwI3EV5EMZLcJdKKRc/zZ5nS+8++O6oSJVSNijXIwdumjmF3U9eVsYbj1RvMFppMOHIdzcR5lLYaV1eR7XuiuOcINCYeVET1BEUwMPrKxluxqOuKauaN2GUEaj6JzuZpJEINxUT9epByL7DjZEtsXZ3jGs5qqV8/auY34eyvx7adcp/92S6y4GRgx1RHFQH2OFEW6DYdzACHcRqOhK3m8boRgNC++Ok1GFZjiF4kNx6Orqcm1tbXrzmIQm3Fq0YiWCZ+iF7ScyN6MwtFDvKyI3MPabsPmIF/m83heF5em1zZle0uF+eAie2XAo433nfXqyjzZOp5SU1THzL04+LiFUl3MWr4g/1/2DHsfUOEhOsXjr8JTEEW6Ue33cQjLSCmkhhIRb5snDC/b41xQglDFhuyjsSF3PlYzStaeqLqKIIeSIvpWn9kMuWVdz1J07d07/1HEBvP3kUBYCCukHVT3+fHNd94gOT0WRjlP6BaUW4Ko9c+PXNISbY+UjsuFr9ns/Nf/19atlblWHf6RzgP7dhYT2bIC83ZCIFzLoIOuOjY6iT+VwDEj6+7WEvxljAGtiLujcZnKJ/+cv/+SfY+yAkGLcCff5pDI+HF+wub14wk3xyJGEhJTr60SE+abnYC7CTVh5vhxmvNu5iCRAFxHj0M0GhQi1MVDLnIYLWa+/PFQ8SedzGvmiJJ5fstdHcmAgwbkg9S8k1x0HxPfvf959776nfRQH7xvhNhjGD4xwF4FiqzEjhJnt7Bi6GYe5qrwWAhdnVQ8FYkkYaVyLsTcqCX+OKmOflbdHtiF4GwkXHkvg59BDVp9bIcEzBOmTXKwwtFDvKyI3MPajYigS9tsOheqid7+zINNLOsz5wkPwm3cXZbzv0ms6iTCXWhIWfCuEpOG8WZZyCsMMGg7Y/tjSdIhdZi4eGCoq8+SqevdvD0/yr/HO/dM9j/jnjIPkFIu3Dk/JvkPRwn8owLRVkTm4qPGsW3lkIDI3Q6kZBqITBwhvEiU+bMn1wo4T7q9f70+d7+f+NQUIxVOEUea3730dGe+RkNV1J/TpjCtQHO7s2bN6cwSflpBnS+sw/R+GIkUZqZhOh4bQeIbR5LlNbZnXVEyW9Xg4CfdIyRsV57OMQBjAdOi93Ht4j+2fNkQLQfX09Pj/aLzhwIEDbmAgSnDioAl3Evn8YJc+TBY++GZnJnQbEivV+XWeOdt4Dw/lO9UXRjT6jDmvz6OQ7OqIJ9yFwspzpcQA8r/5f8YTMAyG6UDcj/RYFRIdBUIdhXwGwdkNUaOcFvQ/MZLwaITbYBg/MMJdBOLygMXLKeE/WriBhYQ7zFXlNY9YLaWKp/68CJ/59q8fiG0xVooQzqnDufIJOWojDcIH9feG0nr2kttS0xo5lzjRlvuRkPDGp99LIsOVO//FzroMkZ6YmoeiUE8Qj/xg7vtPnnvP/W5G2lLOXBOjBAaI//bDX/rnkGaq3JMbyWv2hURjdde/H4kbA/6nfCDvlNDhmwVChPV53AwJe7OGBhD5z8LoDfkvqZysQfi49qDnk9G4ljXwKunzLyQf1vVHfrsO3cQjpz9XSJjTjGtoPMNw9t3fPZ55TcVkWY+Hg3ATHaW9aFrI7ZzbeNFNPdDtDQIyJ6RnL7+FeSBzQYqbeSNs2ZksI9A///GZTJiwNyamrnW592AcY/uf356bVQgK8k23ivEEZjLRM/kMzFqK7YaBrDqSn8x/tK7M3uw1SwAAgABJREFUr5HSIYS5xOd0njnb8EziofzRI5Nz5pkPB4jo0PfQOCGd5dCZft9rOi4MWpAvrDwf4WZOacMCoePFGtgxqI1mqgy1JMQgpQn3n+ds8W0OPQFOXYuTy3oiEXKacOfzbgMh3MWIEW6DYfzACHcRiCPc4uX890dejbyHaMIdJ3Fe61KFGwHHE++M3BgIn76R75lZP7Lhb0nR2na4pDxMcrDi8hjjwifZj5ulPkYSeaXivFeQeU7BGjxKYfVcIVNPrq5zmxo7XGtrqz7FovH4Wx96j72vpvrSzIxC/dtpizPkGuWb7Y8OerKRkCQXMhrks7praTqb7jedS7bvr0opYNnhhxTK0TnkhYSCYqUgjnA/vuJgmuCUp9vBsC1fxEkhkSJYcoysUPzBbWFvVqriikIu/xnryos7O/z/KlEYmnBDnuPWpUJSbCVg2u8VGwI/ZzBkGbAO6vcLCeelITnxKP8XLlxw24+nDRShtxoSyrUnXmwpUkbvb/0dSWQ4CHdS4Al86NXpmXZJEGXp2ctvYU6Q/81c4JpGMML++yDRFtHXa9y1/u6uI1nfvW/fvggxGutgPdH/VxJZVdPuTl9Ip3yJ7K9tiqxVyMbKJt+XWxPVUJYdHkit7/G1WvTamhn/EQ4pTwpqTUCKz58/r9/KQq6wcuZMrt7mFHeNi2ih97cepyQyGjneAs4V0g004cZB8r/+69H0tffoq+7v77gvElUXEm7C7fMZJQBruxjfdL2LXJKr37zBYBh7MMJdBOIUW30z1YKiSQEX8qz1eyMh3Aj+64PlmbYXvP7+/Wml7Ea84++NEeUAfFNxyG053hchYMjW9n63tqUnaxv/wYUr8QWs9LajR4/6sEqA9Ti8uem8LmTK9jY3veykD6vGa/ab9xZ5BZkx+9GTb3mPUti6CUUZMkXO4IJtlW7JkiVZ318KpGCPKNm55iTbX9rdFdleSKZU97kV9afcpqMXMmO6qqkr83xWQ/EeI3LOQzDWep9CIjmoxSKOcFOV+R/vfjjTDoZtOuKkujvaWaCh87zb03TMh7+H+0oRLLkOmROSJ6qPy/+Sq2ouEpInTbhRQPX+SaRYRY3UGH2MJCIQwh22hnt6bVNWqLN4bdmP5/kI97x589yMGTPcAy+87glo6K2GhBI9wHOuNylS9oOHJ7uXdsZHIuUS1u3Rrvj+ZUWauDEv4iJI4oSK73pbIfmyeej6gTCNx9oAcYR7QhABgHGL53qf8hPn3eHDh7OOpe8FfltrPIkuJKSjaEOuFr0G3mzgge3u7tabMyCsvKmpSW/O2Y2B8OlcNWQ04Q5rpYQh+Pq/G03CDTivlpaWCOHWEl6rIiHhJkS9kEFDwLVYqNuCwWAYfzDCPYgTF6+5gymFOp/EEe5ConOiuGH19vZmbQtDtfqvXHXra45EvntTwwn/uLqqLWt7WWe8IpxPgdeCN4g8XZ5LfhlKS7jPjRJuQtXoS6nD+/IJRefi2mxhkccbkwu5wpVjFSq1LVfYHBbq8vJyvdnj0rWo0odAwPW2UAgpj7P+F4ukOdyhvFEV35okzrDA8bH2h63ownErpccwvd+lgBYekiUtF31kwJOr6jIeZnJSeWTbhMHQPVHCUG5oHcX/kqu/cC7EEW6EayZsB6MlVyEmcl4Pd6Z/cyiFiHSxAvnD0xwijnBLmotEU8R56osh3Hv27HGb2oZCJoXMSCg828IQy9CbL/17hXCHreGQMNRZ0hfYD6Kcj3CzBqDQL67MXqfySRjhk6R4281CKf17IXj6noFsrG93aw9G7yeQvSWH0+vswoYet6D+TGT9DYX9c83/4QDzWP/GfIKBizokcYRbInuYSxi8JMw+lPqeqxGPo74XgK2VDZHPJhGMceMRrPHkGudC3P0xruVcf39/zvsw0IQ7rJUikR0I/2O432gTbsD6vqYt/p6QT7gvCgqFkwuYkxSYMxgMtx6McA+CirB6wSwkM+qiPaAhK3gOeE6/7bgbhCZu+iYWd+OXbVpJIKRU/65iBeuyeGUlv4yep+E+N0q4aQ+ivzeJaIIhwBuTqxf5pvrjbkZMqPi06t5ICLmEmaPkAv1fCBj/XEV5sAkUG26LDFdRMOYYLby0khwnKNc8lnXm/m7mZ1xoaTg2jD1hiEQDzK7szHiVOC+ImRRoE2+FkGQJ/51ddszNnTvXh9STx/iXqZ/4OfgPv/qzr8LKcQjT4/EPH632XmHxYkqe5F0vvOPef/9999JLLwW/sjCYU/q/SCLUGMiFnWXlJRVVxDsung9y2/WcJqQxX/XfOMItaS6EokM4xMseSjGE+7XXXnN3P/RExoMs4cxSLNBvC0Isw8J6f/zjH/0xcoWU5zJuIJpw616/jMuyquSEWyRXV4exAoy/XKPkJK843B+5hpccOp+1fV5tl9vTfkEfxmPr1q2xXkvWcz0uhWT10cuRcOtcQv5wMfiovvjfQ2XwOMIdSi6DVxLCTdu1hWs2+zoLkk/P2kWKkERihN5YSR2i4B6EO24NHQ/AGHXkSHa6gSAurFyPI9i7d2+EhIfQhDsU8RbHrQ1x+lQp4J6t52w+2VZW5br74lOlqpraXOf5gUh9CSrsA4wPDQ0N3nCt9cVQPqrsihi7SWUwGAy3BoxwD4J8Kr24F5JN7dGKnnh08Ajlu9nQHiMM3zt27FiWUqRv/LItV19fvA8szrOrz/gFu1D+D/nY+lxE4m5yyI0S7o4U4Ub5weuLkiL5zBA18ZzhaafSK8+lH2Uuwg0IV4ur+rn6aPEtPCDd/CdxIXBEJOSr0Aqk4BsFaJq7+yKhx1rIoc0zRUYMzDVN6jQgfnGGh1CxgigvWLDA73fHoxMzFdwZS4iZVIKX6uVCktkHueOvz/vjzJ8/3z+SAyn/Ra45qIVK46UAZYu8XO01yyVEldT35DZQAK77XfsrIsqYyPL1WyLbMJaFY4oyKx5hgOJbyNsRR7hl/AhFF6+93qcYwg3iQsqT/E8Cojn0e4VkSuX5LOWenG3COwW+kvDZ827PqaH0EVIfdJoJsvnYRTf/QJtPRRmOvtpxwKio504+ES9tLmBQ4F4SzgkAkQs9Zrwfd00TArx+/fqsbRINQoXsMHyX8SZK4el1TZnIBTGi+f+5Ivr/FJJ9ndH7Yy6UYvBed/yS742styeRJISb979avsYbAKXIJMYmjErSC17WN0S6Y1BwjzV+JAuiaWw5kZ/MxUm+NYDUqrjw8biw8rhxLBQ+TYE2/Z8kEf7v4cDituJ1hDmV8Z5/9AP0Bj1/BBgJWcemlaBj0lHGYDDcGjDCPYiQcOPxfW5jOv+L1+lQ1t5MRUrZTwj3NWUtPdXb77aVVUYUbKSy64rbmLo5Lqw4klEGt5+85L6uOpZ5vbj6eOY5yiRh1SzmKEtxBBPgfWUfFNJCSjq9ovXCXkjC8KhSAOGGgE3YctQrKZLP/H/++krGc8a4/3TCNP9c+lEePDPU0zhOysorPUEMQfspjpHVozvI5RNiL8WU2IbX672qcxGveOgFD4WKony/AOWYMHedLjAWQRh7XOXYEMwj7Rlj/km4IXl7Ms/yhZTnImWElAOZzyHhTiqlEu5iwfyimFWh0PV8vWa/+eYbvckjVFbDEEzmURyJ0qA2QbH1ISg6eLKvOE8RueP6OIWEvGIBayS50NrwhJS1nHDlh0+5rQcPZW0/3nXOK/4Cxj/8D3SYJnMzzmDGXI0zIA03PqwrXqGGKOUD1yikW1+reMxCUqNJD8BLiacxBDUjWKvueGF6Vvguv0Xqf7BN2iCKoWzSvu7Iby8kcQbpXAgJN8ZWIft4kuX+y3thJWgIN8BzqKMAEKIAiBJY2nLBLWsdap1JNBP3VNY4jDgCTZiYX0QbyPfFrWV6m7xm/o4mwhaGSUWiunKBtTmuGFp4LWHsCdvIHT9+3Bt1cwGnAYSdKKojPf2RtSCfFPJuU6xTG7VyycwSrtUv6rPXoxBcf3r+CGSd0oSbef7cxlY/v0W3DPVLxAi3wXDrwAj3IELCTT7R399xbyYUE6Xjh4++5i3YYT6YKBTzDhVPFoqR7R1X3FuV0cIv+YQWGvna/+DNhSDq8LCRAoRbfluopOhquqHke08ERU3ncwvhlirPeFR//uKMTGsriD3PpZiSPmZS2dB+yd+8K071u6X7GvyjvrEjVOAea0BRQhkPFU6NuBZBotgTSo5yBZaU4C1A8Q1B2yjaIumQunyCMWo0QZEllM18Id4ok9pQAXbu3OmJn4aMJ0pqaChbub8xcr5xwpjNrOxyH9f2+noO2iAVJ/m8qrlAeCReQT23c8mBkxd9/qv2zuYCSilkWeePhkQSgkSYL4BshsaNXDmjPr9eFccaKZRCepIo1KzRkG4978LUpDjCDQGI2w6mVqXvJ3Ghu/q1COvmhM1H/XPWZuk1Le3tQsMmj6US7numL3UPfrkjk4ct91/eE+MsIoQ7H5gnjIG+RwC8teEcCgkTc4Y1Do9qse2rMIB1D+ReI0YCeu5JSg//hUSLEfIe7lOIcIMzZ85ErqswrJx1i30A95Jc8425iwGRYxXyfpeCUL8oRagTgnEegw4FHeN0D4zEzBFZg0LkItzcC4Ska8LNPP/ZhOl+notuqXPWVx5J6xhJhfvopZi6NwaD4ebDCPcgdEg5SkcYihm3AItCUYpnA8F6T6EoCe0bal+TVlhkv9VHSjs+nmxtJUb2Nh9322paItu78+So3ihKzeEuJHjrdD63EG4t4X8Y93+KiIdFQitFsQy9K8XIzWypxrhTLVV76EPv/fSD57O20c6JezZe1tB7AcS7AcERZZV9yWM70XPBEzoiPCoaWvzzHQeqXXdfNEoBj2cIiCqhd/lSMcYCiCQhrzquKq8g7N8qQBnduHFj1jY853gqQajUMg5fNkXnUSHB8DeWgFcWRZQ5VOh/lUKIjF24b6jAh/nbbA8JqM4Z5bulxsBo4cmFu9L5vql1ImstH1w3WO9lbRFi+ub6mkj4e5zQfWHTvsqsc8RAIcYdvNm6ACNjEmdswKjx9iDhLkYwRH/v3qf88397cKL77n89ltlOezupGSCdGEol3HGEP269TkK4AecLSYyLGMk1v8LoCQgMa9ah9k6/zp3pv+pbGx7v7o2sa8hAQHgazl6N/Jf5hNSNUgximnBLSg//BdFiEgof7pOEcAPWLq5NmXsQTgkrl/HjPR1NATC4QUS5b3DPGCkQPaPnRzFCnRAeifZgvL71iz9E9pGorLjzZBxYy7WBMYwG0IQ7bp5reedgdFshoWuJwWAYezDCPQjaEmkykk/er7ng230BTbgfmrfLh+CJssWjVF4O5c4pX7n//fsnvHJCGJ94XFFcwtZBy5qzP5uxxg5WIH5mfbMv1KKPX6yMZF9QCBZFbnTYXyifNkZDkx8j7EoV5Arfh3ADcool3LSUKr+hiIdFikJRSI7tus9mUkEZulnQ7aqSihQ9QkkNLfq8RqnQBaxCxRVlFTLEf1KovQnGEoiRJgtjHZyb1FXQELKnocPK8Xxw3qECy3hx7Pkt2VEDYesswg+fWtMQCT8ca4RbwPkRkp+rEJOAucDcyTWvQg9SSIjYHkZqcJyv97e4bScGIoQmTj5v6veK7Qcx63wuievNfd/0Re7bv34g0zs7rl2ZrC2sK0KG9LWXS1a2paN5wjnHuIK4Xshr166NEAC8uowdRRNZc79uOhdbmE3Lm9WFjb5SM0BeF0O48eTpMS4kW5vzp3iEwDhIRIA2lMn8Cg2IzCWdp0z0iayFEC49rnHgbyqlkKJu/ZcEmnAnkeUpvaLQ+izAOEiUhRgShUjK+DGnQkLNc/bh2kwyVjeKlVt2u8l7u70DQ9ZFiciQAnfSWYHnPD67viUyJkKC48iwEG7mh/Zm4+mHcOvoppBwl1KnoJR2f0kNKQaDYXRhhLtEcENmMUXR0YT7nmlL3L2z0woVyhYEWnr7aolb4LU1f0FNdu9YscbiTUBxo4cwhVr0sYuVm129N66SMVb6f/zNXzLh4GFIoZfUb5bwWqp8EmI7t3nAzarv9zKtssd9TSjYYMjVwp0HM8+lxZr+Xv2f6Ectj684mMnB0gYBZLgINxELOqS4kCyt68x46iUPk+JIk/Z2+XkmxZG0Rw7CTaggyj1eRwHKhrRUCpUOUbxQSPFosp8QJ/KMP26IetnJmc+VN0+OPJ8bDmDsCQtrJRG8Z+SG6u2hUIBrQflht77tnH999PyQx5WxE++1QBNuGT/x1rKWyFhrwi2ts6hxgKfK95VW7Y5uJuEmfWVnzBhljWnrWT9ePPKavuYahI2HtRDa29szJEnGC0OFKLY6ZxRSv6+2OXINDrcQRaMhpCfXOhH33iuDkU2ItC3LRD5R/TqoPUEnAghzaMwhTYExAqFxgut21apVmdeyLYwEwPtdqBgkwJA5sy56LoVkpFM+CE0mMgQirHPc48C+u3fvztpXxozrVVJkdPQEURJsYx7q8Op8YN0Jx4N2fay7oSGe/5z1N9xvbxHF5gQYi/T4F5KNxwe8959zE2Ft155oCBz3ErqvSMpPrkdkXmrt2l3XGkmBGEms3XXAnxOGLlkXibz4zt0PZVoNUujue/emO2CwH2mD+nrMJ+E1zzoTpr9giMD4FUaUsI+E2wOK1BGpMmd3o1vb0hNZH7WwnupuAswV1gapiM8cKiVVwGAwjD6McN8AsNxi2Z1WFSVZoUBsilnYtXxVFd/POa76cC4J8+9YpCeXDfXVFYFw6wJwSUSHB5cKTXxFGDtthChG3jk4RHhXr16deS4KfM+l0irdimDwoNgQRoGIQaBI2ZwnHOyzpmgEQCF5Y2uLVzIwzPzNj+702yiO9OTqeh82J8WRtEcOwr1r1y7/vXhBQkVCrPYyfmGPbhRSCQ8WlBru15IisBRk02Q8nzBGuiVRWPhoJAWFNATkMfQgQXbCojsouIyVjCceOPEGacKdRL5oHvBKofZO5pPhCj/c11l8JAVtv2ICBLziKmGbKO1iuJH5Jt5t7WliPCGfFFfCCIZyKuRGIoAgsHotfLUye22WnuI8D6t4hxJHuIuJksLzOXFnh/8ejLH//MdnMiG/EvnEdcj1KQQCwg0479AIJl7ukHBjkKAlWAiuTSFTjKkQ9ThASjGc8RlI/aVrxd8XRgukeQhhzNW6EXCtsabJeAGuRwg1YyFGnDB6AsMPY5DUOBFCE27a9T27oSVjiJcwb92CsxTCTfsoTdjyCffauIrfGEw5TxlPri+iyPT8LyQcPwn4DXHG2HxCRIrOU056j9F6WPnJdBpUPmk92eV2lh90V5RRh3kRzjfGK4wy0UUd2XfdunWxqQ25oCMX6DHPvdrnfKfu42KADfcxwm0wjE0Y4S6AJAT0o9ri8+EoaiY3EKmCTS4tvaLDbbNSN6PV1aWTTZEw/44iNPQ41uQQwo3SqD9bSAgHHA5UlFA9PfTKiifo0aUVWfvQXkiwefPmTNEWUdaxQu861JHxfG9p6nAryw9FCpIgsyrSinic3IhRQIQCZLkAmRSyEHrTIRfpx3RxnIm7TmXe/6yxP6eHXr8O5XBHdqV7lAchg5pwo4wSxgsRwKuL0hEWxhFliN/Jbwp72PrfkfqtUlGebRT7YXtVd/HzAWkZbCWHQoQSfez8lSwP/sML9vj98Dg9s+FQ2kswmALCb/P1E9TY6Mr2fnyDOgvIjIrTkZxhSLRU0eeRMF8BChqkHKVee0wWlEC4WSv0tiQSlzPKNlI8tLKbS96pGTpeVg/21BhRhOjptU1Zc1ak+mBNxDvJa8giOcpAiCTzTXqVhzmjbAsLAEK4f/3mF544e3Lz9FT3nbsf9t+H4SlcCzGScb2EvwlFVtbGb9/5QGSdROIIdzEI+07HGRTjrk0h3IA5I0XTWL9IQ8BDK6SRazAk4HguMf5gwMBDHralDMGxuNYZa+3pvJngP9U1R7S0nbvsa5NsrGhw7T3xxSCZK5s2bcqkN0iVbcaH6AHmnKS3QD4xbBQyTuSCJtxx/2mclEK4RxLPbzky1CJO3Wv1tY5hC6/96vr4FloaLXn6cecTapOEIBqKqCi9LuUT1stDx076+xmSrwsF84TrLSx8KZ1JBGKgABihQ/LNXCLihOs0KbgWpwXrqhbqRehtiBFug2Fswgh3AZTiaVp+OL7dBYrAzvrDrvLwqSyvMFZ2lCHacGzfvt1vCz03PN9e1Zh1rFV7qnzP532H2iPfg3zTlv/mHnfzh3CXUnGdMSoEyJO2ssfJxvZLvvo3zyniFho22s+cd3PK27O++3cfLEt7ZQd7pLINJTncJyTcKE8S6itjzKOEWaLs4wXX7b3YjlK//8SFotswiaC0iOKSaXejSFshwg1Z+PdHX8vKDcXDjsdaWqn94qWZmffxBujfkUQONjRnCA9AgZBwSrajsIch0YD3mcdhr2QghJvf+S9/ei4T4vd3v/i9f+Q3Ey4NAfYtiVL7sV0Id9je7eWyHh9Cx3MUO94jx5/9hKgL4f7qq688OZvx+bwsD/4vX0unJ+BxopI92/7hl3/y7/PbIGXkSIfjoSvb85mwzgIytzmdBxoqWlopk7ByiQpgzFD0Q3IEIA+z9rS5r2pOR7zScQIZ23wi21hGBMzEXR3pcRs0FMhjuN/FGMJNn/hwn2Ik7MHOGDEvkXDOivQPXPIET7dTI2cWbxDjFBJu6VUuOaOE+eKxDMNXdW/yuLVORBPdQttFhpNwJ5WQcAOIYRgdwRol0QAYFoU4MkaMb678Y9Y+3mdM44qs3WxwP9NjUUjwyu4pr4rk1AKMYmvWrPHXHWB+ScFGWeOYW1y3+YwTceA/IMWBY1ZVpw2hxcpYI9y/fW9RZs3Doxrea/W1TmobHtcZK7dniCwGDXnOvZc5hjBONR1DaxHrlRhdwzZZL2xrj9So0YR7OIDBU35nLgMLRi3miBgJucZEn2A9l+uRbWKwwvi8YsWKSAcGDeYfuqD8Bp6TDqfnRz4hcob7psFgGHswwl0ApXiN5lR2RBRIgFKIwoPiqK2pEua2cuVK/6gJd6iQczPYsGFDVmhcCBbqddWtRRdsgZxpwq0t2JI7FO5TiHB3DZSmvLcNEqcQhFzr/ZB8SvXb1RcziiRWYwm1lDGWmyRAydLkB8WM/w3lnxuttnTngg4Bh9yJ4gKxiyNthQg3++QjA/q9RS39vlWI9tTnkn3He93mgy1+rooCImBeMW+lQFNIuDFQoGSEoa7Ae5TK6yO/M9dvDv9HIdxCxlHyaO8mLVR45L2/+3mauAtRF8ItqGyLT8nIN2fiRI+tFgg3kKq+QnjCKvqSV8s1jLcD40VcIaylS5cWXUhORwQwvwhB5FEMBXGt8DThxtsH4RZPlkQiSOE2Ie3yPuP4akU0yifJ+IrhkXPlvMPrijlGOzV+j4SPh+3D2K6LW4HGE12R7xluuVEvEvnNut6ClrmNF92sqm5fm+LT2nNuZ+PxSJEr1jPGhfGB2MjaJfOMMFYpFqZDXCECotyPRKum4QLFSfX4J5EzA9f9uh+3Xvt75Lp1/rl4JhlD7tusWTt27PBFwiQ6JRdYCzkWx5CQ4jBvF2OY/l8LCSkwYwk6pDzuutbb8oWUc62LVBw7k/kMxH3ClqOevIdtsv70+aZIjZqRINwhuF5C4hsCg1W4VrEOYSDEuLNt2za/Ta41znHJkiU513LmFyH8fA/zJ5w7BoPh1sJtS7jRMXVoeJzMrM8mTZLfJxXC48IkCbFmgcU6HvbWBSjWbEcJCK3vWE7xcEMGUapCwg3ZCwsD4SWj+Eucp4KFW0IL+Z6wem8SaMKtLdjcCHW17kKEW3uckgpFRjTIOdX7FRKqr4fFbiSPmzFmDIUM8Z/pwlZ4Q7i5MrYo+TzX454LmnAnkXyEuxRv9aLmdB9aEeZYIWCZZ36irKKIh14xadvEPGP8JMeW/cMcZAAx8t6CC6WFhm+oTVZ5Xyt7mnC3j1IO9+cpghS2A0ORkrklJJF5SAQAY8dzjBShJ3Lx4sWRatOFAKGHeG5q6oj8piSiCffcuXPd3rrWSMFHKdzGa6lXQHrKo0sqUkrxxshxkwheQAwP4jHa0dLplhw6n/Hcz63qcMvb+vy2RY1nfVXthQ09blnrRf8cT/Pp/iHjEHKy87Sb39jryarI7OozOXu8c52SR7q/83LEAJVLKBI3muCegBLP/YG1PwxNZd6Id00UfSHcXLvMvdAwwWvmHkQhNPSMVazdX+deGkyTCXPqw6rTbEPEIIxH9PTFoWuRdW9/eYXb1zFUuX5x9XFf8HBVU1dGtp+85FbUn3JLa07455Vd2d5C5inh6GuqWt17lWd90Uc6luhw5TgZrnoJowWMqKxTpUR00d4sCeJCyvV6HicjTbhDQIJlbeHa4Z6HQZL5suFwr59LKxs6/eOiyqN+3qxu7vavvypr8cU1ed7Vn/7NEh3G8bhux1LqhsFgGDnctoSbG6BexJMI+X3fvz8ddopggWVbuE+Y0wxpQbnRlnKIGxb0MFwNwoJigJUUpZuFHcKzZcuWjCLPdrzb2mIv4YLitSgmV0jAd3zZFD8u4U1Q3xCTEm7Ccsk78iHVG9syHkPJpRUvOmHXbI8j3HgtwhB0bnoLK454BWlZ7cnMdpQmlCm21fdc9SRHxhrCzdgylhJqKdtDIwhjLP9DnKU7F1D+UXznNhZWHLTosNEQxRbGQU4qbwnzS6zpSL4wN4xFEGyUfWndhbcfgi1RFxh3UEAhAXIsxpP9IQIo9czruu5LEdIiUtZ+3q1PkWuqxovsPdzlOi+WRtQZpxCXU0OwtC1KtPIJxg2KkOntn9VlEzmEbby3v6Pfjw3jy3xrOXfFLW254Ikh5BHCuPLIgJtX2+W3IWwTcvlx2VHXei53OCDeSsZb/jv5D5iXKG1U/dZjkUTicrglpDyu4COvc3n7P6qJjk9IevHUCvHdMOglRrHnOmPcpufJWcwlS+rT8zQ0LBFBoHPDbwVAkJlbu3bv8URPj0U+gTjtbDgSqTNws4ChRxu44+TF6Z+6Hz7+hvvtu4u8sUfSEsKq02xDxCCMR3TBslVZqQZETOkxSSIH24auOQgS6yD3eL1fIaFrxlgH90jOU3QIxo8IKbmfQB7XHDrjn0MqhVgitOHjfot3O6lB6nAJ6QIIUXM3A0KWP20o7tpDFjae8+OKTjiaFdwNBsPYwG1LuPVieCOii1foImIsrtzEdJsgSBk520L4IHiQFsLK8WijGPEIMQcokHjAQm8tECWcfbWXUYMbVZjrXddxzm09eMjng1Nw5sum6PkVEgqt5YMQbvKPH1lS7o0U//bgRPevD77olXfJpRUvOlWz2T+OcMeBcWFMUNohepw/ZJHXEu6FoireH4g1hgnxwAI8QFKVG6DUonBAGlHm81W/BXyHeJjEi9x/9Xokt76QQA5HE5BpTVS016v60FG37VCnW3vwiKs41e82NZxwuw6fcWuqD/vnG+vbPWEW8sz2muZW/5/oXHjGkXEPv5PX2iAlwMOkjQj55MDpK04VsB1RcG3zfwv5RZh3nFMpBheMV4w//wvKvRyT4+Mxz0eWUHLXFlmlfPvJ+LWio6+0qADy9XOB65Tfj8Ip56RFFwmSgoCT9/fERhMhK1t6s3rF30xQIV8TxnzCGlEK+JwehyRCYUoNiO+cpuIKTs1p7i/5twOKXOlQ5STyaoV+Hb3GZFvjsVOZ1Bfm24qdFe65TW2ZGgaSEhEWcYzzlLeejuZwc48PDchyLAzG5BxL60VeiyF5pAl3sWslaQ3cb6TtmXhw9fofQtrKsV6jz5DGEK7dHIsUmVzruQZTqJiUJ6ThbDK9YKTA2vzernQtlnAeUViTXuDyf4f/Pe8vbunLioAyGAy3F247wg2xgkyxAE4uS+cPsShKfiI9Dtn2zPrm9D57i88HXNHc429EenGFfEDewrBePGJUTRVCh+d7/fr1fh9ufuL5AYQTkncWWkdRJpoOtbjt+6tc8/FTEYVOy9SD8R7sfLL95JXIcUIp1BasUEi5KEhaedrecMz/X0lv3uQXQ7hRCngupIUxl+JLUhSN9xHGlm3kzMq4MuYQT8ZWIgVKCWW/0cJKxaIppYgUG/6H4hwCw0FIHjHmkJusP1dIIHOMq+7zipI2lvNFhwNy3u/vOuwVfMYjVMp5TUX55za2pnOgU0KaCo9z6nv9msDn9fox2iAyRCu7+YT98+jqiaDb4EhBwB89mQ5v10XXkBvNpx4ucP76txWSqdUXSzIQxRFuUfiZR9KxQO8TR7jpH6/3G06hIwcGnBDdJdb1SCpTUuPKGHHvkHzh9z6b5/7pnkd84S/2keJfeMoZK/Gea0/5jM+/ykStSGjxosZzGQMyx/v+/c/7SDcMxuQcS+tFXnNcak+MJOHG2KbHIIlsbWz3EUr5SLaA8xbDFusT91deY9QOwX0Uw3++6KnxDAqg/Z8/PBqZRxhgeC2Og+/f/0LmOWvX3U+97KZNm6YPZzAYbhPcdoR71qxZntD6ysS/vj+zQEp+IkWF2IaixyL6n5Nmuge+2uF+MfFD99TMBd4LOe3LJRHPpAgeHggoBBriFlf5FU80xFpydyCFhInjmZWQX4oFhXk+kJR58+ZlcsKlkBfvf1J1OnIjHU7JVwAlCejhCmnTXpJ8QksienRynmGVUx1Kr4HiAGGh6A3jBqnmf4B0cywIH4QbIk0oLsfbvHmzJ5Z8lv8FBQQrvVSxBcVWC0U0mR1p7Owo3ihAYb18IH9tdn30c4VkYVM6TJgIgdsVj89c7BV8xkNX971n+lL3swnT/WuUMZQ11qSH3p2rD3NbQRPuUHKFsa85MnSd3kyUny4tpF/3FBZAErn+uH9Aalj/xABbWRstRCgKP3NNOhbofZaVt/j1jxxvHjHgriur9RWiH19Z64mnFMUTIxEeW+kUMHHnySHPnuqwkE9qzwwRfYja6b4rvhMAElbOF88w22jVxzbaPMr762rb3d7qerenqs6V1TS6fQcb/PP9tU3+UZ4fqEp7bBk3qYp98GT279UG3lyvMRhr6JByqmqHr+OOM5KEG8M33yERIeGYTgi6Y/Bf8p44FvAuJwHjF957ubeKQVAcAhp8RqrmjzSImFhcZNoQ/2EhZ4GAWjjoCJJO9XH90FzJNW+4puQ5axd1JYhS0nV9DAbD7YHbjnAL4hbIfMI+a5pOZ3n/IM6Q5lJ65u7quOQXb8gkYCGmR69UwSasnO8in5u8Yjyw0ncV7ys5s5BCcoogp/r4SSXsf4zSEKfU3ijhTgqIOQWMNPkOhV7l9ChHKFgzs+6i67kUvWuirBKuT1QABBoijbecMGdy4iHgKAoQQsYdYwcGjLgWRVjxP1VGDTxIKDFhyJget9Em3Av2NHiPaqgwh/+p9JLmOdt8yOTmw1lVY1GqREEV0YSbyvWPLa30z6kqK98TKp3LDucPwc+FK9eSFTMUwSgzloBHjTHk2p6r8vzCdSZ8/uz6Q34cef7h3mR1Am5FcC3qkPIk8k1rdmFA1tKbEWIO4Q7JTbguELbMf5wJWw7eq65NGxQh0xJqz3MhOVyXurBSnIdbS9xarj3cGIZr2nt8Ycz7PlnvDUBSyd73MH9qivfYkvLz4s4O9/f/74+ZmiX3zl6TOTdZD2XdkTBtfgPnDOHG8wnZpjDlG+9O99+B0B5QjAPiGcYI/jc/utNvo82jGKpeeGtayV7CuAJdSWRPbbP/X8LItNVHi8/hpjDfSEEIt0SEMKYY8NgWdsfgv2RsxbGQhHAz/6T4o4A5KmBscgGiyn11pK/HUivZ03pUgHGLKIZwLRHBQB9WEC+lIOqCpvN+LCV6To7Nc3EO5Ko7QZmNYp0WdNghksRgMIwN3LaEm8rVekEsJFpZYfFEuZtWla6UWox8WdXhPajckCB/KFYQQvqDsvAuXLjQkz88ERBGvNuAxXnOnDneKwtJZIF+bd3BrNZdHF/IleQ8hr2MxbpNGD1eNjwjFJ8hjO5bv/hD5LeOFuGm2rD+7iSyvirt/SEEX9+wyupb3NJtZW5341G3tqzG7W0+7vuhL99xwOesf715j2vpGXDr9tf694+fSVd1hzhxE+Q/4H+hvVb4nXgoH/xyh1deCB0ThTAUIdwomzp/Lp/sPXXZXUpqeg8wedZ8H9oYKszhfypeVJ6zDWX6+3+ekCHWKJQh+Rb5uCH7WqFy/X/74S/98x8/83bmexDZBw+3KBXMX46TBKUYj5JWxIWk5POgxgnrBIX6NPDuMF5CkkRxwoAmXv15JRjiPqs9641tGNqkwwDKVrF5jknrH9xsSO0DBA/SjvY+93n9ee+Borjal6lriKJ0XzT1+def1JzNKmA371C/29+SHfUCOcWzGSrMHFuvDYBQXD12hSRXnjqEW8hNOsz4hcz1dueUr9zkfWcyYct3TJ6dWTNyebjzAcNUsekjSOhpFhQTUh4a1e5860v/SItDWQ85X2l7yHvU6vj2rx/w3/v++++7GTNm+O/UIeXaOIBBKs4QTtpMqSC/fnbdeU9GpLK4PGLIDbfJ8y9S8w9DMOB6l/mEZ31D69nI2p1P6JYwUhDCnUTCcS1EuFnnSNPSCAk3JLVQNxT2T1p0tBRowo3xh0d0HW38CmVfbbP/bRhIWSMKnQdgfVnb2JlZh2S9oo1fKKxdYWeEqtMDXpdgreP7Os5e8M4a3pN1jsKSutgk2z9vLO6+JUKai8FgGBu4bQk3ipYOB88n+XpjzqyPLoah9zMu3GzVkQFP1iF0a9qGbvChAvBB7cXMzZ/n8v6vJ77vpi9a4x5//HH3wAMPuF8//25W6y6OD7nyYayDOY/Sy1h68rJNwuhR/CBqbItTcm424cZbIp6TuN/XPEguwmrHKEX1J3oi+yaRA7WNnjhRAIb/iGN91RAfjsgjoWP6GAiEeyCBJypOUOyLBSHlWnFF4sZMthUKKUcJ0R7uXMcMJfRwE4WBsoViEyeQI0gqRo5iCTEi1a4LgVYy+rNJpLK9xxtfxIAQeiTyVZtt6LniPitv95XJyWmnKrlULV/c3JtpdcV7C+rP+EchFIwHaSaQ70XbKyK/KYkQZjkWQcROSLIB6RxcuyiijClzhvfxLKHwo/gz7njLpMUVOaJE/eA15TFsnajBd4ZF6HiOx2pze/FpGB/UxYew65DyuHUh7rophXAThbNq6253oK3D35+qjnW5iiOdblfDkYwcOtPvDYpyD9uT2tbS2qYPlalIfyMSd16haKJPZfy3qqP75ZPXU5LvPpwPGLeJcpKuIZJ/zDxgbhAJhVGQ+cbazzzUXt0QzFc8lTKf2F/3UObyK7YOQqnnVwzhDqUQ4ZZrTyMk3GFrzXzAqcDY51szS4Um3L+dttg/ouug84TGr1BCD3chQMb5/ZyrGO+YK5wX25g/pKyxDkkhTSJIKHqri67y+X2Hi68PhBBhhoPFGxIGi/yha4qexD7ieDHCbTCMHdy2hHs4EUe4WfDD3tX6/bkVJ7xnGwXgU+VBTCJzD3b50LzZs2e79yvSuW6FlJ58EqccInhRSvEqUC1ahzgVkhVH4j2CFLX5wUOTMj1/9fs7m9Nh0HjLQgt15fHSCLeEEGK5l1BOKrHr/QoJFaepAKy3M9ZUwRXLOzdLvU9VCYR7X2fxOaTvHMwmDygGkjPPGKCMUpRKDD6h4Yfnocj/yPMdxwp7CgQow5AnlJXnV1W7Z9e3+HGRSsEv7jjpcxMJyfXVX1Pb8FxIeO6y+k59yFhowu0Ll21KGyh8+6vywT6/gxVmZb+qE2djlc58YO4sWbIkU78BYxBKGbUZpKtAWKyPMZAUEQ2UYv2/JRGU8LGCsJetJsaS8iE1E3hkbQQQacYKoMAyVsuXL88UecJIAyng+JCoveVVKeJSuJ92ZeeA29p8ys2pi1Y9LyTTauIJN+uk3reQEEFRTDAL84noJmpUSPFBrllJNxKDkIwZ4036kQAjImMd5uPy/azX2iMbJ5tPFL8OInH3EAwNOkUkn8S1rysE5osYyBgnDDYyzxgH5hFjKl5c6QCCIRxCzfYkBJF9mNehQWf38ahHtZC8lbrfFjMfBHxmSZE5zNyf4tKxBGJ0jkNIuEGuPG6N7gsDbltZpTvV2x/5f+MkaSV8Tbi15NJvas5ciThXtBztveIOlFd4Q19YXA4jC2sOaxDjgVEZ0s1c4D3uZ6z7fIb1TI/lwg273MTd6f7y3MckDUNe8xzHydNrKeA7pNsRYYaDBQMCdUEQdE2iSsSoII4XI9wGw9iBEe4CYL3XNwEtkAy9kPuFMw8BXt5ywXspuKHPrh26MUu1dMgGxWLwjlOoRheoWdh0PuNhKyWHfF1Cr2CpWH64+N80s774cGKk6eyVTP4xHgoJ2drRkI4sINrguU1pQiU3Mp7j8adAz3ObBsPPNqZD7avb2r0Sxg1TSML+qoO+dVoSIWx936GUslZd6/anRP9ebooUryFvUarY6n1KIdyEmRbrUaEgUBjWyzmHVeF5jhLKeKBQ4o1m3qLEo2RAlCVPXryVkFMpzKQt+4Xw5w+Xuf/x03syhioiNLgmJGQ1Xf01HTYv4bmzNmW3ycsFTbg55j/88k/++f+651EfCixGMlFYkBbV1zsfIEEYwiBEoXIGmQaMiShkvM94h4QIRV1X/YVwY3AQQwO/CcOA5M1KuCRCtfPXytPhuBvaL0UIU5wQkj8S7ehCkh0XTsr7KKJhYT2ppSBECINPSLgB81Fa/AlQhhlL2qLpa6mQvFp5ITOGrxxIG3TYLgW82C4GGeTd6vM5SRhRBfr+kE8kXLkQuLbwlJFqoA0WjJf8HiHcISHauHGjNwCFgExCOJOmeoQgBF2vI/kEsl0KibxRcM7MFdYg5hHnK+PEuiXrFfNTPLSsY+wLuDdzPZeSg8wauO1I8qJyoSTkmCMKxocUrTgwFno+JSHcpeTQEwWR5BopxdhVjGjiyvojEQ08x3gq6xSQ8RDDIWCOyZwDj734ivvVG3Mz3RckDUNqJ/CcSvh3v7PA3TNtSeQ3IZJ6kUvX1L/bYDDcPBjhLgAKT+hFbDhkU3s6TNsXPQs83BLmDdn4+zvu84/f/d3jPiQq/PyCxl6vkEK6z/aejyhyhSRXFxByP7UlvJDs64yGnGvCLSH2PEe59URhULEVmZnDcFFINlY1+xtcWM2c59vr04WoyKuUdjBYg9nGTY3+389uaHF/++O7/bbv3PWQfzxxfviMEXEebhEJ/467WZZCuJMCZTBscRMqASEg1ryPMsFcw5iBwkqoM9Z6UepRSHmPkOBQgSfagJBougIk9RBTNEuPB7UHwteSoiH7lerh1t+Ta1sSws24QIgg29pLzTihpOINgTABSJN4PCjaF1au5TmKGuQTQLgphoRCJukgGAZCI4RUO39kaTQCJIm0xpzjyYvXis4Tfr2qz31U1e0+quxyn9aei6wVoXxedy4rhFbGUMI18dpCfmR+ynzj/ThjDuP5WXn2XEkiRE4whkTQ/PDR1zLKrhTwYmzFIIOx7C+frXevv/561neXAlJhtPFDy9qWHrew4ohb3dztllUfcxcuZf9PGG6k1730OBfFXggBRjNqgzD/NLjGIaW6KNt4BvfE0KMIicYYEyIkQhDxkECKl1vmI4+QKo5bDMo6r2RVDX9lf/p+J/dBCQGWiBoxpt1swk0EgDZohQjXLgHzTQwVuYDxRV97SYT0v0IgdWtT+yWflpNPlpUQqYaE92Pmi6zxXHuS4hISbnnOnAmNjcxF0tSAGAni0sCGS+IiSwwGw82BEe4CKDbPDKHdBKFIDZ3nXfnhU25HXZvbUt3sZf2BOl+wa+XqNV5p3Lx5c5aHO5fokKjFLX3+pseCjpIlXl2E5yin4WsIEVZrTQY0dLuTJIJRQkMTbgmx5zkFg37y7LsZ8isyuz51oz/R6/Yd73XVXYXDQhHISC7vSZxFPSRU8lyTLELKse4nJYn5kI9w55M4wk34m1bI8wkh5uK55H+XuQAxztcLG8UJ746QZ+YOigLgs+KtFQLEMUVJ5XNCFAXM06827XPLak9GfqOWaSXkcCetMUDxM/3ZJEIhN00WQ6GQlxBMUg9CkMsnYeWMkyhiEByphg/BhnSHHnHpVsA1KyHleu7qeUu18xe2t0d+vw/HD9oCSZ5fKHFGhZH2GiE7Tg79d8wria5AqYcgSk43gBSJp5HtccWcVqTWHYkGkBBNSRMgPPP5rccznuq4QkpJlN9cIeXFolhjBrI3MG5CckJlXgxerF1cg9IBAzAPMZSFrQ4FEnERjvV4BHMDMhRGAHBOePNDQL7D9Q+DYfgZCT8HjKOsd0Se6OiTfIBwS9VwDGXSIvCf/5i+D5Iq9R9PTfXGHu6JYkwbScJ9su9aZM3V8k3jabf95FB0DLpMCInOCcG80WHmGtyvuTaf25TdSYPr8MUdaUOZRJ1JuhDXcBLCnRT6fvzkqrpMlxb5vrh1gfsx58yaE6atMd8EIeFGL5M+5Kzj4XVFRA/3Swxu+vpOIntOJdONqJtA1JvBYBgbuG0JN/lgOlcnTl7YMmSFDnNs6B8ahhyyWMvjqqZufxMnrHTXrl3eWiy5XSiNmuxQCVUvqoVkactFf+PjmCjyhfpTc5NgoUf512RcnuN9+2RPuqqnl5RCzzlLmHvGQz14Y5Jx+ajuYqQCsCbciCYI+vVwtk3hZrdm535fFEz/jnyCgYVQcPEUhf+bJpLkl0GC9Y0ulOqUfJIibO/WkK950RcF07nrWtifAnIhCFXVvzWJbGlo9/8xSrj+jzQwMDBXIdgCSKEooyihKBzyvihYKLDS0xzFgrmv8V4JXQHWHbscicyIk2LQ1ps85L6UvH1EimAxnqFCRuh4SJBCBQ2lPk5hZR7urm7wRi09T+Ikrujcr9/8wq9VRHjQFiiuon5IuPHYMN8bzlz217eQdIlICdeDcO3zRoDydB78Y8uqsj4D2Z2w+WhmDX1ydZ0/9uqGtNeQcQrDdsOcZAEeW/F2M5chkLpQFQZDHw3wp+cyIZqSJkB45iNLyr2XmmgAqRT+ZnV0HPMJYes3Cs5XFH3pjYxRhN8rRZHYRjTHk6vSPbef33LM7TyRXiMZq3BsAK9R9MUTq99nfrHG5yLVXN/SlWEsg6iI8B7ddu6yT+XZXtvqDvcO5eTyuv5Ub1Z1cMm3DcF9OvReS4E+AWMt85H98nl/Q0C49XWGFDLqjCThXtoWvS8XkjlN2fdlPX4CPd80WFNZi3QnDa5N6aQhUWeSLsQ1PJKE+w8frfaP4ffxe3QP+8qudKpLGAmCEUvWIwxZ+rqR8eC60mPGnNq1t8xfz9rgkU+otWAwGMYnblvCTRsGfWOJk9AKLQocCpu/WQyGHPriFanF2ufePD3VfV113JOUOG+CBovx6m273fraY2kl/0CzW7qvwW2oO+6W72/yz1dXtbmN9e1u1+Ezbs7GMl/wp67liLeSihcSb5CQbxb3MES1oedqJLQqTmbsPOTe2Hnch6XS8oUCZZyzhLmLh1puTHKz/NljL2dCZQWrjhZPVj5XN/ZiwXhz/kQOkFfMeOyrqHJn+q+6XRU1rqym0W3avd+3dNlf2+QWr97gtu+vclVNbe5AXbN/3X85TTz4/1Cs8BpBtDGS4DESAo6nY+OxZHMolA/rCs8JDUhva/tgcZXB8EPy+jke7d4mDOb581o8mZPLerwiTyTEtvZkN/Ul1cfd6YtDN3SIdGjIYTxE8QSiRKCEECYn76FMaKWU4mz8NiI10kQsnd8o6QUi5CXLeW4+kcxzPVJAudH/nxRaEyI5cVdHZB8h3JAqiZLg+kSxD40eoYLKOhBHIAHjCSGX0OF80GHzSSUk3LNmzfJpAPQ85vqGpMsax77heiD5h1LQkP3w5P33n96T9RnI7nfufiizhrIPx56xYpufR2EqAh5J6XkcjhFEketRwHNCfkPERehowx4Skp64CJ2RxooVK3xfa8aQ8aVvMlE//B4pisR7pBRR04Dt37rjXvfBsk3e0xZn1GKsMKyJQTeOAFG0LwynjgPRMMzdXKkmNxNdOTpZFBJJXeCeqQ2PW7ZsieSy6/WL61LmHtcj468NsBqHU6R/SpERcp81juxcXNyWjgAhjUJ6pLPWijEdD/OL1IwZXN8wkOn7siaPArZrz3cI9Bt/zBiDg442C6/ZkSTc+vtF9G9cUtYY+b/D6wgjtHakoIsIpIBaCF+pPOG6bjAYxj9uW8KNN1UvusMhLNzbgzDJXGCxxVuI4hXmKFLZmNd4w1Amyb2DyLAvCziK6KJFizKeMhZ63g/D5rjpcQzJ0f20IapwliL6piQSp7CW0t8WZaoUMAaMF4W6UDLxbnMzFPKC8sg2MUhAfPD2Q8xRwKQaK8LYht4ObrIoWihgYdghStc3LcUXxSklHJXz2ranLGPgQL77+yf88SA+P3/xQ5/nz2uUdsgP+f/izQwLgBUSDC8A776QHoASzjiFylb4nHHFGytjzhiG4ZcQ7t/NWOHueuurTK4s3yfpBbz3l4X73F1T5mV+81gk3ORN01tYiOQvXpoZ2QfCDfEJ51EYTi7Qrxlf5mYu8J/oYkUaw0G4BYVCyn0ETIzyXIwsqzkZyS0OvYnhHAThnGMN3b59e1bUwP7Uf/Z6kVEtMudHG3x3rjU1fC/chwJ3rEU651py3Zkj4sGOI0asW6yVYbh5LrBmbq9uikR95ZNS21olBcfX45REIL8YobkuNSgqp43jrHdca3xODJJrDp1xm49d9M8JuV5QfthtONybZbSkNSOpK2MVEG6p/cA69r37nvZrrRjT8TBTy0TWNwxkSQk391Qdvh+COhH6fykkGCyGs6AjtlDa+unvySdvVJx3R3qzPcvoHKFxVK/lAL0hNO7kMnTxWb3OGQyGWw9GuAPBuvvMhkMZD5t+P6kQSpYL0m+W4kqEcQsgJxSYQmESosyNDeUIazqeRjydLNooWygJoXKOcoqiyj7aykxImP6NeBOf29TmQxZ5rt8vRoYzFFwD8kJbKu2Np5/xnMqTbtbew+7TA8fd/Lpuv315W59bVt+VyeuWnCssyYwtY4f3Do8iebOQbELB2I+bI2OHkSMuPxSFTdIDsGbT/zkuvJYxeX7bcf8oIbaSkvDGnuJvrPym3svZlvl8inqu9x+at8tN2ted+Z0SChzuQxg18zKsHA0wWoS5jSBUvEThkFxugMIqigSEO/xNmqjF/d6xSLiTkMye3gtZ1zaII9xxiispKFIxOQ78L2FBNQ06J9EDXeeZ5xOU8LiWSxAofW7DLaubhiJxACRPoir0eAE9ZqylUtU8H1gfmcPauzncYOz1OQ6nrGoYyg0NIfnX4fhAwMNIp/KudA0IcnQXVR51204MRKJcQqGwp/7+JNLRVzxDYtx06H6c6JSJ++dudZP3dg+lOw16a/X9G+IcR3gYs3Xr1sXOC9ayWSV0zlgzDCkHIwWu9fC3aqMOj3otDgk31xlz7HBvfNTc4ubeyDYR0q+KreJPMbSbBYwwYQcAAWMQRnqBuLWKqAmpfQJ0AbUQ3CsLGVMNBsP4hhHuQLDuUtFa2jXp97861B+x6Gtpv3DN5dL9WFC5ubOIh62X8AxC8iDXLO6inHNjY8Fmf/HO8jleE6pKGC8e8fCGABFEUUABk3DWOMItlbsJWfw/f30l8v6shr6IApZL4iocDxfwvOnflkQ6+9LhWnh0IDB4LCRMEI8xwMvDOHHzhMCEN1HGGwNIHLFhvDFszKtsjw2v5fv/56/+7B/Jm5UcUrwFzywdyuktBppwlyK0Frl3djo/jd8paRDhPnOqTkXCmlEU8O6HZBqEyj3EGmFOhrm4zFkMHhBu/XsKyc0m3BVdUcJdSF5Pye592Yo9JJn5or1reEnCAjwAssk6kK+4oRRUGw2vCEWW9BqXS7aduOTWJWxFtipFtFc2dLpzKgdfX4May6uOZinxK48MuIUNPe7Lg50RBR8htYXWd4BrGdIVktDhRildLaZWD/Wwzycz6y66HTXxSrmMVXhNsv6L8aZ7oDTPcCly9ELxhLvY0GsRagPwSEg+j3TzkPU23G9X49FIZW3AdUZIeRxY8z6oyTZIhvn1YfpLuA9zbqxCE+4kEhJuIZFxNVoKCbVJxgtYlzG6xxnyuKZ0RETcWgXCsHKgC6iFYD3PdRyDwTD+YYQ7ELHs5vJgcZMpBXgayHFGNJnhpo63GnIohTdY7IVw85z3pdcjpAdFav6B+N9YisSdLzfmkQZEfV6Mxy2UT9T/RM4ylYZ5Th4arVTilJ5NZVXem41yTfQARFDIjRBujBd4uVEiMIYQ2ipWZgzrdSfPurmrNrumrosRcoEsCZQX5g5FjeT1A1/uyHpPnpfi4QZ47Oe1JPMCieSqsB/3f4ssPpRNAIHkc+rQX+1tZM6iTOj8RwxEW1JETP+3ueTD6rO+yNqC1oEIgcoltLNLAhy55NHr884nVJNefSwZkVx38HBsLh/GHW28QdmXCuaQezkGbaAgo/rYodCKr6XtSOQ/GOsg1aTlxGlX0dAS8Wa1dXS7hiMn/HPqLlBrQfLhBW9VRiusF5JtKsWHmg2I/v440QaBQoBwpysxH057C4OoF6nQLHUYfKG5lJB3XgiS75kLcYQ73N5wLF1rQH5P+LsoqDdx96mMZ3jCYB0IeT8kmf63D25nLX5mfcvQ8QbX4Bsl3ByXgnJyTB6TRmL5GhEx0TIbK9OtmDRY13QdgBDvVfZkHSfMryf9hToFmtyPZcJNPRe93haS8qBQl+Qqa8Itc0T+szAvXGS8EO75TRfcu5VnI/dTkfdrLmS9xhB2oDnec40BW8/FfMK9ZtmB5tiIC4PBML5x2xLukCwlFa24FQKeLcgGBby0dwvgzYKE42WVUCMphMZrUZ4IPyeMEAsox+G4S1uLIw3FymgQboiS/t5CgmeeHGCe//iZt32107g85fbeAU/+JIxQPGdsI5pAQB53+L54w1Ey9HcXEryb3KjfqzrnPqiN91qVarQpBbNjjEqFZE7zQFZe/Z6jZ93uIz3um/+/vfNwk6M60/0/dXfv7t61vc57/fiuMfZyucZgwAFjshFJIAkUCAIkwiCSiRJIgJCERBSKKOdJmjyjyUkzGk0OCuf2e2a+0umvYremZ7pn3t/zfE93V1dXV1VXd5/3fOlU/ZVc+7HgHFGZzcf17IpLTBBFiQXNxobMv5sogpgECD792iSGcMgwMBnSkhIZpa295nBNi29iBm0BUUXZXSZCDuewbzy7fUJ4bdh1FmRrU+corIXeTFAdkxMeZC+UjaRVbX5OCW4pABWWIgFzf7ezCfne2ZZcQEFwI0f2e7+/yxaRs4U0p6JeUKH5Bzff59VhkN7pSQR3VBoB/g8kDF9/J0Vwr9/8ud0HKWRnb6faMqL45w3PrrMiUmoquPvtiky736n1sRy/xRDrqDqNZfIbfLWCG9tFQTm3kjwisb53492+zyaJrUpdMz3DwecOE2HaC+lSVJIuGsWCRL3Y1oYrET5zDbm+tOCWa0QmINy8cLFCENydPb2+zzOJHW4Prs3yUsnk5FQm9lXTqB03upFihJDCZ94K7mxBb0PtXdOG/OL3T7WbotIB82LJoK08qmeN368cNG+VnjPvVQzYHr5YtrZywFQ0d1jR57YmgRcW3ljxHGLwFdSyCB4AGGaWF35T43t+Vclk3rPkO0cZcrSuBuRq6aJo2tx2aI/tbDCPfF3tzZDDQzSZF51dLj3CSDF5gfOGWXmpQosIA7eiOsQ31kHRIfE2Qhwe7PSf3yQGpNDaqco6K3q18IkyDErQbmw6gCdUb1/b6jL/McSZDJzk+kSfaLwX+mzvaR0xe9tGbYEh1yO7s2nQbCpttffRRzQoNw+DDEQhfFw34uXEi6dN2kkhjFOucdeT8vqxNjuZEtc7XQtuycGX6w6etKAc0CjBHdb+J8qkeB4EESYwIBxdj94Vr+iV48VjPLc0JUaiBvxRhiq9s8XhNv/+JDHXy/18SfpxSwEoiEeYbucDcwU3wmP183GWyeRjpiHliDaJE9yIenLD4JG2hGgX+S/5R0mvd39t1VDa/4w8h1Zm+r31NaQfa5PnJcJIDN8Z9/HVCm6xqEgcWJIJcEyellfX2bxq/R8HQ87xupJO33LUDcHk1BuVmU9sv1SW/hmE2XS0l5tpwgR3kOnrKd8FN1KnSk5XpO2zO6ZasOXU5HE5v89iYe261py+sk5Q5Aa2iyg9d1uSYqI96WGGQn2EkPyHgjtD8APn/jhOt6FvMwbhCCmS/DsIEYhBCdnFIOLD8h7fa+EZQLsyCXfTz0P8AeSySXXuXIUuBbXnibMn9rV5M+TId8Zx3JI6Jr1eEitrbPcqprp5ocildXsj4zxI/0xZDwL801OTAg8mYez4k9VCEM+LGIS5ZFOVFZZN0aFsQH7aeyfSB89JDINQYOsEpHYVnn29TpwV9/gHKPgsMBly48NPen1axSMn7aREYIm3TXI2n/niuFm5cqUpKirSm01DC27JwZcoCXjSsD1s110vSnDv78i8uNTzJZPXighu9I7+4R8X2H1w22nJ8UqOKgTlD//4gLnrg++8bSGMFgM5mXzwRLsT/is2W4Ib36nNx+u874p8f2TfvYm2nZMh1/I9w7qu4A4SZnZ7U8WegkSaFtyY3MByDKDdyRXpFS77IvuZieAOqpcRZ9tbw4UXvNdutX+wpz3z6211FjUUYKtKM3sdajVkGoYPsqnxcDCB0MDkdFy1/TBD1wxMEMqEeJS9VpH55/7s1G9AIZGJ4NY2W4K7tv9KpfkwQ9X5rRWdZm9H+rjFHVOh8weWub/PYmGC262Ijv8ZFOaVMQ7+c7Bd/Nfpc5WJIXKJEJL/UHBniG4pgcGbDGz1zGda1XMn3BGVVR/+stJ7bGc5p3LhRHCjN6N4XPEnh2XInZLBV1RukJ5ZFhPBLSDHGduF9Q+P+vIXoyxuULUli5B9bUHHgRBT7Y1AZfL3TrbZAkp4/HXTiCkumQylRI68m3uMc+mGXcLzLUVzsJ60aPu2/pz3nvijRIgoPGhaCOJ5EYMwFy24USUcn7UM8jFzrgURbCYENyZaPvnkE/OP7yrsdejuS1rO5tR1K/mosOf3N3m9t8cvXfa8sCJUcCveAJnVFwEl2wsboIBPIkLK5ZqQW8nZRLREErTgDjJsD9t1l0UJ7tWfbLffZ/vaqXPkeqgX7ZysMwBbdqjb3j53ajLPWwS33gd3X9zHj31bZ0Oo0StXliGUE8skjBOTBTKo0wPD2RDcuNaQJ3uie8LctHqDPX4p3Cf7LvuLVkUo7CdFCLHPruCG90efozjTghuTGw9/VWn+/YY7vLZIWA+9wn9y2yNeKDOWYVCcieDG9aVTCuJM56kLmKRwJwelzdyu1rHJ7+bxyWvMjQCxueNT30OvvgUmClPXy8b6UZt6ocUilr1x6qxv+cf1Y7ZY40yAlAwdARVl+D4GVdZ3QXEv/KZrwY3v9iLbpWPyXMlvm/4tljaV+C/Wkx4aeBn1def+JuK+fr6QBXdr6vPS/8Nxhvzx2QB50frcZ2r6d1hb2P+ZHi9qk+3iWsTv4NLU99T9H5VrEmNGRDbZsaaaWH2/ejg2sosQMvtQcGeI/gHF4A35bxBjeuZTqp7LcqkIDU8KhBsqWOMx7v/b9beZXz2y2pzsGjVVVVV2cCUDLPzZSy6yhJV/0xIuSsJsXYgowYD4hSwGspgcCMMV3OJRwqBDPFD4o5Aqr3q7UaYnDVBoDiHgbjVR97Hr3cYg4dOSFrO5rC1tdvuDI7XefRSswu2Ger/HIu5PF+aiBTeqhGMb4p1FTqIWRLBcC278OUMAvf7662bFh19ZgWH3ZSqn083ZxP4hZx75qLiOYb+6e7F57733bD0BCG7xwoqXGOuIN0Bm9UVAyfcgLOcN5DKHG+H6mfZphiH/OAhcf89//I3npcCxaQ/1bxe/4uXr4ruP52989n37ekxatA/4r7VsLWiywLXpFtwQmHoyTtu+4yWmd+RCSpRcCb0P8kTr45B1XEGKPttBIcCuIZ1H7n+VMhFOQIeUB32n9b5lIrinE/yOuRWNpSPFktc+tNcbukxg/9wIEExo4H8HEwZS3wLf63vX7bYRIG46jUuQJ72QwXmS334tuPHbhlx6nDP5bXM7TIi5143u0KAJEty3FG3yJm+QF6+fLzTB7UbdFRJyvmUiGaLWTkJNTSjjOZl8WX7YHzmYxFD0MoikKSY3rlpvVhw9Z37054e8/1F7TU79J+N/Q0d1yTrXP/RkbGQXIWT2oeCeIqln4uVy/48lLGjgFrQsyrD+ruoO03FuwJxuaDFt5wbtgLWlp9/sOHDU3j9ZWWe6UgP03tHUQLa2yxxuOpcaUFyw+/Zdeb0pb+9L29/ynjGz7Xi1Ke4aNh3Dl3yDYdi5sXivX5Ad6QoP6XMFt3iUIOrgwcJx4k8FYe9uziXyWnWolza3GnVQ6w4IGGn/giJzElYOkPeoj2E6TU8GaMEtFndd5FJwI78cYltmxFFR15sEUfulH4shpByTQji3ENxh6+ltuULm02P+fvECQgC1iIqzTLwnmHjRHrMow4A9rNgYRFFUSLl7bsQ7jfuP7zpjX4/c3Oa2dvNpgz9MFYac3LfL+nzL366K9pwEGUL/w7yp2XAm5PqeTtNF04AuDKaBRxK/A0HAa6vfI85yUXUan6HOxdTmFsRDZX2pq7G5JD1nWpueMMA1iPMYB1KMotrRFRJId0EUDtCCW85J1DmDuYI7qEuDS5DgDtuuWKEJbvxWSXG+QkLOt0wkQ9RCyMqEMp7D5IsU58NjTLjrsUeQbSlvNwfbRwNrkgBcQ8XdY+absibf/0qQveP8ruPaca9Tue9W4sc6DCknpDCg4J4CA179hzgbtrEk85xa/HGL5wqz+tL+Cj/get0kBo/k0oNX2sjgvoQvuQVykgruKHMHJO9mkOOFQbUbbgkQHg4hKLjebYBBbtp7T81q4z5uEe6rwwrX145EejcQ9gnRFTRQbR4MDxWOMneglxT832da4Af5sLvbwgurvVI2aE0vh9cQAy94xSC49XaT2JGOUd/nV2jgWsM1h0KKmeaxSz4jPHEosBcFrj9dawFfdxSr0wO2KGscTD4pkQQctz6uJIYJDz3p59qR0krvftBANk5wA1SeDgqzHE99tfQkapShANg0BwXYyRt9TpLYke7J39u9WeRwI0c6CTpaqBDB/5/ricUEnj4fSUy6MQhR/wOHujL/TPD7W0hgEmtsbHaiPa4Gfd4hVsX0c2L4PJOQtG92VCV8l6TjJtcwriGE5D8U3FNoMZbE0JZHe9pcQwg3PFEoTIWiHJgR/aq213xRfTZtlnRjcbO9RfXmr0vDZ8SjrHfsyiAJgyYIQWxPr5fEEJL44z8/ZO8j7P26ZW94RT5kBhgWJbjRJ1gLtTjbEVE8CBEI+BPEedrROOCdM9fc3sXfnuk3h2rTZ+MRduweJ8Ivr33sZXsfoYUIf9ZhhR/Vj9mWbJJP74KCYcgdxr4HVhRNXR/oJ/1SGSrXTtqa1DKcNy2GxOCNyQZMuOjPMYmV9PpFiRA1wMT5kEkGhNy6xx3VwxTfGZyDAx0TtuXYwcZzvnOgbbrDoJOAEHK979p0S66g0GMU6UPYeRRxgzZ8l+PWmQ0+3XvcFhOU/Hz3FhN0CIPE8zZP1slLjKr/gGN1J82CSCK4IbaTDnJnGi24pVI+7t/3yZG0c+muJ4IbbeTwG4f/FKn8H2XoGHCk6Zzai0kwoYFq2fKfhXoYm+sGff9lrqGCd8A8yIyBgot6n1z7tKY/7TFqe2ydqu8RZEEpCihMpw8REQDiNdegK4f8PyW1bH/rZ4sk37t8RP/nJbHZEtyINtT/f3F2NosJekLIzEPBPYUW3Au2FPsGi49/15a2DsRYFFIsSLxTGExqEYM2VSjuAuBZ+Lb0SosIFMpYfuisvb/8aO+VfXGK5Ih1DFzZF3jN8L6HnNZWkr8kr8cy3C7Z0+JV5BXDzK9u/RJkUYJ7utkXEbYbZi9NtV4S0IpNrxNn8hnDCwmvuku2ofhh+cBXQ/HpyvTrNfXZ4np1P2+3GBpCm/Hc3trOtJZDAgaWGGCGgcruYd4OeELCBqa6BkISg0dvpsnGi4hK0JokA7Ik6+Cc6utvtnn2H+vM/ZtPevn5UlBQ8gtRhAzPI2fd7akcJbiRRxzXfxa1A4LORe/YpTTv9MGqJtNwftzntc6l9zoJWnBLpXzc/68HnrWTnHIu3fVEcAuIMokKcxaioigQpq6v4ySG9KTZApOYen/ibHfEb0iYkESkkXu9nOmfMIeqm33XkRgKv83mRESuCTtP+Q5aqOrJ0ihD3jWicOLAeC3pOUFKAlqPEkLmLxTcU2jB/YcXPja3v7vDDn6kgu7f3t+Vtk6U4MaPMUQvcmYF5Bu7RXCAK8AxeDrSeKVohxRYwv1//93f7AAM++MWyRHbd7Lc2eqkuN944op4l/wlt6AT8pj+9frbzO1TVXozNYSUzhSvfr7fLD/S43nPpAr2E/s7vFZCV8Tm5ATCigNX8rcB+p7rY4gz9zNGezY33DJIcC+21W/P2NB73Nch6rBcCO6PN23xrldbKCn1GeN6dYsBucXQfv3oC3a9T/cXBw4asEyHMbsgRzIs9DTKS5nNYHlnW3jkQ65Yf7DKTmq5FWHxeWJ/cAtzPZG4BpftbdabSSSmk6wDpHBiviAh5To/PyhU030+SnAn8QQhjL+52X+us2kthR7qM40W3ElNC+6k1w0IW/fL/SfSohRg+O2SzwvpRbayfuozlSJTsPZZEtz4DX7+xDnvu4d9nPzNnZyAdvdx+eGz3qTyzubgCUAQ9PuHz+j5LAqJRkUMFTpB52k+EFYYsrHrnKlp6fQtH7vgX/fc6EVzoqLWt1wMqS6EkLkNBfcUWnDDtOdXmyvG9I/yd8eKTffgmPe4vL7Z/kDLY1RLhhh3PQ8QMVV92eVFnm5st0XCXL5r8Q98XQsaGMMQsqj/ELTheGeSWx983BZeu1Lh+y67rwjHlFZCEJAIDf/BH+61z93w5Jtp2/iytNH8o6TXV4AKtq562FecCv1XEbIlwGsrVeJBkOBGVfof/elBG3ofVoU8F4IbYddB12tQ0R73cw8aIEJIu8cZRNzgK0w4PbzpqB3Ai3jFABmDem8yZcozLyIXt982+z3HueaxovfM92+622u15VYalt6sricS1+APUuu7YOJBRwnge6+/S8dP19gBmV6OXPkPatMLqOnr1jUUBOuewfBCePX0tRVnyFsNyssWXGGItk9IQdDbmE5L0st5usE8Ffqw632JM916KExEBxG27stvf+BFKfz+2XVe2tC/XvcX+55IL/rp7Y/aSt5SZAo2W4IbE9SIXMJEovSmx/dS2s25+4jjkEnlFzft0pvywP+uBpEP+vwnsdmYwJlOosL1dag+DAUFc1nkc7ap7Mv8N+65ksx/s97LoH4NIaQwoeCeYldb5iGkEuqKYkT6uThDb0iEAbsecAyK2oYyL7SFomm728fTcphhyCnV68YZPJD5BkInN5VN9h3WkwTo8ayPQWzFwc60XKddVe3mq5IzvhwoCGegB6X19fW+YmjYF0kBCBLcSSwXghvFy3Ad6PeKMwwoNHLcbo66Np2/LIZiYJiw0edSuOW59821i14yv7z/afv+GCBjUP/YjnpvsAzPPO5L+5MXNu3Um8k5bki5vubCTIeUNzQ0mMHByX7bAN/tbD6jTAx1G2YS5K7qiYIog4hGuKYOx4XV942ZwzUt3uOSnuSTj2kpMxKVMJV6I57QoJzy/e3hUUq5BNeC/h3SVpo6/u9S1+GetnHbS7y+P/18IWRen0P8F33t5GSLbaod8C2DYdIY50Zf4/I4qEoybLYEN4DgDppI1PvoPkZxyCAwKRZU0T5IcOP6Wby7eTICwOl37q5T6II7mwmuqNorhQ7aEOrjzYUh1YoQMreh4J4GUC1Y/4Amsc2nGn2CELcnuifM1pIWczQ1eIYHsi8l7NDHFp4wGbjWBrQ6SWIo1KIHwa5BuM0UaJuVTdjedNvamsnZ5beKz/oEZJCwfLmk3yuSpreVxFA1NxfAu6kH4FGGnMOgj1vSHJATq/c9iWFCAekRQS1kUDhOhx+HDe6l/clshJSHtfmJMoQ0u+d33+mG9McZ1CHAgP7hLyvSvP3LDnbZ5yAk0cN+MVIWnFQKRA4c7Bjzpa3kExAk+ljjDCkiEMqP7WjwUjS0eEa0AdIl4PmUqARJvcF9vCYop/yOxU/pXcwbgtpZxVmm1fKztY5Z9GpCcOv9iTNEf+iIEBgKaYZFjuht4Pr5yW2PWM+5tJHCteauM9cEtzuRhd8bLNNpUiiiN1cJEtwPbiuzv7sy2YJzo9cJskU7G+xrkOqgn6PgJmTuQ8E9DYQJbpkRlz+qbA39boHrNYSXSK+XxFAoKF/Itoo6qn9rESzi+LniZH9+rr1dNZp1XiWq3+rqs1GGsNDZKNTkAgGrz50+j7hFNfGn4B1Mid6nTl0pxobjRlFBXNu4v+J4nzfowLUuHvygsHJ41fT7xVkuIgLiQNgzcpS111GbHqBGmSsS7/34sHfOUI9A7t+9/oCN2rjx+Q/toF68/RjYo38s1oGQvPWVLebuD/d73QMgILH9B5952Xz00Uf6cPKGTCYdxHBuIJIRvi8pGkHi+elTk7n09jUhnlkxWW82QsqTUp5h2zUU2VxxZLK4pi2GOfVdvWPtHpuyIbUu8B21ExWY7JqasHjneKvP+x1mu1K/H0ETdTMFRJDepzh7syq9Q0WubK4Jbqn7ge8YUqSwDGH67jrzTXBf/+TbNm0NEVh4LHV24uy3T7xqf6/dTi9iFNyEzH0ouKeBMMGNQeEvFzzj5X5ma9I+JEpwYxAFc3NfMZCScEqx0tb8qZQJwX3PhoNm4dfVdt8k/BP7j/uS2ytevsd2ThaBC6nVZfOKPzvjH1hhRhqvhYdMnw9YlOC2r/223jerL4b2Z4XG6xXJRaIYzp1bcA9FBb9/0z32/g//+IAnYB7cVm7eSp1PeIiQF6+9RmJId4hI5S0YijLwtrki8XfPvG+FMpajHoHcR7VqXPe/fOAZ73VBglEve+zbOlt5Ht8pXcshnxDB7XrO5DuJ4350R503sZPccxQcXhxnCO+fjcmcONCfvq+vz5T2jHsFwORcIJxZ2ojJb7w8f3fqt/SZk0NWHH0/JQhEGP3i3uW2/gXysqUWAWpdIC8b1yJs4ZKlejfmFO9W+/8X5P9Sujno51eX+a+ZKEOaGKK2ChktuMV0VJL73HwT3DBEX8H08myNgpuQuQ8Fdwz1qT9QLRa0oY2E/gEVkz8qGSQhnAjhoOJZwJ+X+xwGzRA3eI2sU3VuUtRFCW4p5CTeMLdFj7ventJaX17ybAFxgMEeioxh3yT8E/uP+5LbK14+EXhBghsVteFR3droDwWEN/A/brnfnhN9PmBRgvv3z31g/vnamwOLn8G+rT2rdyXvgeDGRMej22u963Ppwa404fPEgQ4vB1Yfs5iE1GFCQj+XxCR3vpBxBTcGYPgOiwgSIRR1DqfbZrJVXzaI4HY9Z17Id+r7jt8xmdiRSYhMLZ+ieLJh69at9rds0XOTHSnccwHvmLQRw3mTLgQioP+0Zmuglz/osWtz4bsYRZDgvqVokz2H+H8Juta2NM5Ofv9sEia4o2wu53CHOVOiLJuCiOtqWTSNkLkOBXcMqBSsfxyzMRkkYcB006oNdlApgyT3uZ/89RErDPGaH//lYTugenDp03ZfUE1V8jO14BbTgyr9GAMP9KPWkwbaEDaYa4JCysNCQd37QYK7oqLC9oUOEtzu6/X5gEUJ7rDXiG0tbTZDQ0N6d/IaCG5cf397b5dXjfi6ZW+kCR9MbkgOrD5m1xACLT3bJbTcDWVduL3Gi1oQj5JMJHUPTdg+9IWMK7hxTuEtk7ZsIpTizmGkpQZvnzX6Q2SDbHtq4Dsww90DMkWHlEMcRn03Yc+lTIfyh1ld/0WT32cgOXEh5Thf2Xr3taHQ4VwmSHDDwq452HwU3Kd6gsP1gyqUi81mPv9MoDvQxBnSkfA7rJdH2VyI9iKEREPBHUOQ4EaYMTzREA8I8YO5z796esT3gwo7M5j5bCkGVBDA+GPbUj9ktjWO2vtbU4NwFI9ZVTZi85ZfKPUX9xJ7McPQOLFc5+khn1m/Z5yhrZDGbWOFHLpMK0F/0zJuRTxCAvVzcfZSWXBhNdcg6PNpQOuGlAdNauBWD0QxYNX56LCVazeb392/xK7zq4dXTXonnVDWP7661Qp5CWWVyAust/KFl83Bgwf17hUUmYSUi20+M+YrYBdmc83zGCcigwwpCvMRVALH750+H1G2JvXdDqpSHmXSbWMu815NsOCOss/moeAOI64NJCGEkGgouGMIEtxSsAh9QOGV1kUwIGiCGL942bxUEpwLPB0W1oMXecbuem4OICYL4HkMylHOteBG2ym0pdJeqigLakeDti5JvMxxgwYInBMdw2ZHRavvfcWCvPJJLJ9yRaNSIMIM3tMwqlTYnRbr+rHYXBCTqHCvjyvOCr2wEiGFBlqq6YmGKEN/6aD/mvlK3H8nIYSQaCi4YwgS3HEWJriBtFyK4oMvd9uCQjYUd0oIS/sfqXQsobnSDxTrtA8Geyq04HZzADFZgOqjQTnKuRbcSTl59oLPa+xakIc5qJBL0kFDWA9p0BvQe1sqS+MzQX5+UGG2fBLcGEjqiYQ464/w0GfTvggWtc1CAd8RHckSZQhPJISQQmFgYMCcOXNGLyaEEJIBFNwxINxYC4U4e7MyWHC3tbWZrq4uvdjHgsefsgWFpJcstomQXOSDSqVjKZgj/UCxzmff7tGbsmjBLRbmeRTLF8G9rSnzzwBh3JpcCW4UenriQKf9TJCfH1SYLZ8E93QzcQnX2AVfuHmUob88IYSQ/KalpcVWzSeEEJI9FNwx9Ixe8omFMNvTPm7bHaHgmPYQwnZVtfuWdQYUHNlVOln1OUoQBxXM6RgKFjEIYdWvT2L5KLil/Zlb5d1tJSbrvVk56vMuHi2r8i2D6cNEiDoKsAURJLjFooo/zWXBTQghZG5y+vRpr1grIYSQ7KDgnkZQfEYLrThD+LNmV1l2bZaOVTXoTVlQMXN7hoV0UNAsX3AFt7Q/g1dfqry7rcT0OUli71SNpk2CII97f0OPb3IEdjTLHO7afgpuQgghhUXSyDBCCCHhUHBPIzvbMg99frncL7hPlZbbHGQtgl37oG7UvFN9xdbWjpovqnt8XnexQymhOFqgvSfiQsqDPMq5tHW1Y77zG2WYvLhQmKeeEELIPIaCmxBCrh4K7mlEC+4HtpbY4me2N/HJAfPg1H13HbSV0iHOx8qrfctgqOoNxi+F94yOsuKe/PFaZ0I2heuWH+4xyw512/O+/PDZyYJzGw56xeakCF1QdfY4Q1snQgghZK5DwU0IIVcPBfc0ogX3b5esscXPUNwMIc/XPzlZ+EwLuKSGdk5g7GJwHjEqZD/ydZW91cIedrJABTcqO+vQ7jCTNk23Fm0y1y56yZ53VGJH3+dbizZbbzjuYzk+ixWHe702aThn0lN9yXet3jl0c8Sf2N9BwU0IIWReQMFNCCFXDwX3NKIFt5gubpatrS6bDD8PE9zoD37DM+/bStkQ+fr5QhXcmSDh50FF5cJM2qThnElP9f91wx3mN4uL7H03R/zvnx6n4CaEEDLnuXz5sikvL9eLCSGEZAgF9zRS0XfR1w8atmTbCbN8e4V5tXzIPl5TNmAe2XLFqwpRBw+q62m1y070p/V4fr5k0FYMraqtT1tHhKObyxwkNueD4Ebuuz7upOaes7s+3O/dd88rPdyEEELmA/39/aaxsVEvJoQQkiEU3DPAli1bzNatW80bb7xhHxcVFZkV73xqvaoSYv7zOx/3PK3iWUUPbjy+9+Mj1st613vf2m19uuWztHW0cAyz+SC4UReuZeiSaRq8mMi2NI6ZVwMmSaIMPacJIYSQ2WL4gr/OS5RlUzS1ubnZnD9/Xi8mhBCSIRTcs4RuIfbAZ8U+gewavKwSUg4QOr2+biyxbagfM92j7KVJCCGEFDIdw5d8Y4Q4e7Zk2NZDyQT24CaEkOmBgnuWONqdeT/n1yv8LcQIIYQQMn+o67/oGx8ksUwn3VkwjRBCpgcK7llEh3zF2filzGanCSGEEDK30IIbLS8f3V471epywC7DfXTWoOAmhJDZh4KbEEIIIaRA0IIbrS7/9t4u88sFT5uf3LbQW4bOGjMluHe0Zpbm9hHT3Agh8wgKbkIIIYSQAkEL7qSWqcBNKrgvXza+90piR7om9KYIIWROQsFNCCGEEFIgtM9A0bRMenCHCW60NV2ytzVlLWktTMUouAkh8wUKbkIIIYSQAmIog7Zg+0+UmuaObr2JSNCDu6mpSS8OJExwo63p935/l7lv4zHz8zuX2G4rFNyEkPkIBTchhBBCyBymsbHRlJSUJG7zBbEN0Z2EMMHtGrzcehkFNyFkvkDBTQghhBAyxxkbGzPHjx83XV1d+ikfCCdHWHkSsNbKAJEdZ0e7L+hNEULInISCmxBCCCFknnDmzBlTWloa6e1OWjDt/Pnz5tSpU+Zo64DZ3zmR2A6kLJOcckIIKWQouAkhhBBC5hHi7e7uDs7tjhPcra2tVmg3NDTopwghhCgouAkhhBBC5hkoqLa7usMcbDxnynovpNmemk7fMlhlU4c5efJkqFAnhBDih4KbEEIIIWSesfnMmC+vOs4+qh/TmyGEEBIDBTchhBBCyDzjk/rMBfeHtaN6M4QQQmKg4CaEEEIImWdAcC/e3WTt6ZOD1p460W9vIa7vXLfXLD901t5/cFupXU7BTQghmUPBTQghhBCSp+zvmDBfNI8ntq9ShvzsMNDuCznYG2qGzc0vbTR3fbjP/HrhC+Y3i4vMNQtXm1/ct8KK7Hs+OmSX4f5NqzaYG1a+T8FNCCFZQMFNCCGEEJKHjF8yvrDuJHby7AVPWFdWVtqq42gFBjt9+rTp6OgwH9eN+l739Kkh3zKxRTvPmA9qRvQuEkIIiYGCmxBCCCEkDxm/dNknfO/ZcNAsO9hlnjo5MCmSEQo+dV9sR023J6wnJib0Zi2HuibMaxUjnr16ejjtVt+H7WwaMiUlJaa4uNhumxBCSDwU3IQQQggheUiQ4Eb4N8K+f37n4/Yx7v/17e1p65w4e0FvKpJjx47Z3txAenDDQ45e3WF0dnZa4Q0BfvbsWf00IYSQKSi4CSGEEELykCDBLfbAZ8W+ZdkIbojmwcFB77EIbgBR3dzc7D0Oo7W11W7n5Olqs7rUvz9R9nxq/d6xS3qThBAyZ6DgJoQQQgjJQ64mhzsJCDvv7e1NW+YKbnDq1Clz4UKy7XUMX/LtSxJrHLioN0UIIXMGCm5CCCGEkDzlQGdmVcq/bhk3/RFVyoXa2trAPGwtuJEDDu91EiC471i7xyw91OW1GVu0q9GKanmM+9JyTNqNUXATQuYyFNyEEEIIIfMIhIk3NTXpxRYtuAHW7erq0ot9QHD/4t7l5oZn19k2Ytc8ssr87I7FVmQj1xyPcV9ajkm7MQpuQshchoKbEEIIIWSegLxseLfDCBLcAAXUUEgtCjekHG3EdOh4kGE9Cm5CyFyGgpsQQgghZB5w7tw5m7cdRXl5uV5kGRkZCX1OODcWXuQtytqHWTSNEDJ3oeAmhBBCCJnjDA0N2QJoUUBU19XV6cUe1dXVpr+/Xy9Oo3v0kmkavJjYOkcotgkhcxsKbkIIIYSQOQx6bB89elQv9tHT02Pa29v14jTQs5sQQkhyKLgJIYQQQuYoFy9eNIcPH47NvwYojhbnwT5//rypqanRiwkhhIRAwU0IIYQQUoDU9180Zb0XIm1nZZsp7h6z90+fu2AmIiK4KyoqEvXcRmG10dFRvZgQQkgAFNyEEEIIIQXGyIXsCpRV9IVXBA+rUK6BtxxVywkhhMRDwU0IIYQQUmAMTmQnuOHpDiOp4AZoL9bS0qIXE0IIUVBwE0IIIYQUGBDc92w4aFYc6TWLdjWaJ4+fN0+fHLT21MkBe3vnur32edx/cFupvc1WcLcNXTLPl/oFfJS9WjFiLsSnjhNCyJyGgpsQQgghpMCA4P71whfM4/vazc/uWGz+66HnzF0f7jO/WVxk/vr2dvOL+1aYez46ZIUvlt20aoO5YeX7WQtuvE4L6iSG/SSEkPkMBTchhBBCSIGRTUj5op1nrkpw373+gFmyt9V6yrG9JXtbvGXiYX/k6yrPyw7POwU3IWS+Q8FNCCGEEFJgXErp2A9qR81rFSOJ7R+Vo6au/6I52Dlh9gfYF9VnfctgnSOXrOC++aWN5pcLnrYecwju+zYes8tcDzsMnnd42bGcgpsQMt+h4CaEEEIImSdsaxr3eb7jbG3NKEPKCSEkSyi4CSGEEELmCVsax3yiOM7erR41Vecv+pbH2bMlw2bsIgU3IWR+Q8FNCCGEEDJPgOBevLvJms21PtFvHv+uzcu7DqpsDsGNEPbWoUumafBiYusevaTfnhBC5h0U3IQQQggh8wQIbuRdS671NQtXm7+9v8tWNUfedVBlcwhuQggh2UHBTQghhBAyT9Ah5U+fGvKFgruGyuYU3IQQkj0U3IQQQggh84TS3gu+6uVxhkrlhBBCsoOCmxBCCCGEEEIIyQEU3IQQQgghhBBCSA6g4CaEEEIIIYQQQnIABTchhBBCCCGEEJIDKLgJIYQQQgghhJAcQMFNCCGEEEIIIYTkAApuQgghhBBCCCEkB1BwE0IIIYQQQgghOYCCmxBCCCGEEEIIyQEU3IQQQgghhBBCSA6g4CaEEEIIIYQQQnIABfcMc/GyMcfPXjD7OycS28meC3ozc5LR1Mk53OU//iir6ruoN1PQdI9e8h1jnHWMXNKbKTjwOerjirJDqetk5MJlvZm8At9bvd9Rht8F/D4QQgghhJC5AwX3DNM4eNE8UzycsUGIFSr1/RdNWe+FWPu8ccx33EnstYqRxFZ+Lr8nLz5tyPwcbKgb05spKC6lRObKEv9xxdmJs/n7WeL7qvc3ieH3QfNm5ahvvTg7nefXOSGEEELIfIGCe4ZpGJgU3A9uKzWLdzeZJ4+ft4+fPjlo/r7phHnoi9P2/lMnB+xzuI/nOwvUi9k+nJ3wwHE/9EWFd/z3bDhoVhw9Z5460W9Nr5/Uvm0d17uYV6zcdtisONLrff64RrDfT+zvsNfMol1n7GM8h3UW7Wo0/zjZqTdTUMCri2Oyn3Hq2HFMSw922ePD8ns/PmIe3VFnr4XlR3u9a+Jod/6KSnxf9bV3x9o9Ztmhbntc8vnqdfD7oHk2i8mIA50TejOEEEIIIWQWoODOAAiD8+OXMzKNCO5bX9li7v5wv/mX6/5sH9+w8n3zhxc+Mje/+In59cIXzF/f3m7+66HnzF0f7rPPF6rgbsrSo3/9k++YaxcXmV/ct2LyfBVtNtekzss1C1dbgxB9+KuqtMkJCPF7Pjpkluxttcsh3HD79KmhyfVSz29vHtW7mDMQIr+zbdx80ZzcHlz/nXl8X7v9/H96+6Pm2sdessePyRhcMz/604P28U//+qhd52d3LDYrvzyh37qgEMGN6x7HjmO6btkb5voVb9nlv3vmPXPzSxvt8//+u79534lCE9y/uHe5+eEfF9jjguEz1OskEdy49mFy7T+2o8G3HQpuQgghhJD8gII7Az6uzzzcd4fyqIrghgh011u0c9JzGWaFKLgPHz5sqrsHPU+965XFMT24rczz2K443mefE2Ec5sW24jllEGAQXjI5AfECIf67p981928+aYU6hNsvFzxtFmw+ZSc0rnlklfnzo0/p3cwZlX3ZTTaIudcEhKh7zbj315zq8YXnR1ldv1/UzSYiuMNMf1fECk1waws6riSCW6793ywuMj+/83E7Mae3Q8FNCCGEEJIfUHBnwDvVmedSftaYnl8rgjtTK0TB/cwzz5iDp+utGIbgdb2yOKbfP/eB+cHN99n7P/rzQ/Y5CGjxYutzEGUixPVyMRGvMxlSXqEE9wOfFZvlh896kw/Y36UHOnz7OhPWk0c1AeIEd5gVuuAOsiSC2zVcU3oZjIKbEEIIISQ/oODOAC24kXOKnEwbtjyVV6rDO7XgHpy4bD3l6+vSbV31sG+Z2CcNY2YclaXyiOrzF337GWRyzp48dt48EyGIXYMQfadq1NsGzs2HtVcei60q9b82zna3z5wQ0YLbhkx/12a97/92/V+t511CxF1bW+M/j2HXh74mk1q+VTb/vGncd2xRxw3rGL5yDEMX/OkcUYZw/1yC7yu+t3qfxT6oGfFd0/hdwO+D5uXyEd/nF2f5XFCOEEIIIWQ+QcGdAVrcQEDdUrTZ3kqusQ7v1II7jLKyMr0or8mmmnZSK0oJDFd4VFRUmEuX/AIRlaDdUOkdFa2+8GnXUKE810LLRQvupBaU+3/69OnAc7CnpNorrIZCYzLxg2WPfF3l5fhC6MvE0FMnBqzgvnjR703NFkzAvFHprwofZchvjyPJ9yKbyv/PlQybsRm8FjQTExP2M03CQOq7gFoIYqc7zpuTjV1py1xrG7pkLs/eoRFCCCGEEAcK7gzQgjuJJRXcpaWlelHeUldXZ17eVZ6Wby0Vl6OKlr1bNegTjRAdFy5Ee+OSiK7BwUErzPOJ6RTcYedg9T/eN/987c32dSg0JhM/yPNFsTHJ8f3b+7vsxBBy2n/wh3ut4P7uu+/05rLmm5Zx33HE2asp0R1H2HG7TOd5nklOnTqlFyXi5MmTehEhhBBCCMlTKLgz4KMsiqa9WTXqq0QdZOuL2834lMcNnre3U6/THsEoQ6/ec2MzIyC++uor8/eX11lxh0JkMKm4HFW07A9LVpuVK1embWtkZMRUV1enLdMkEV3Hjx/Xi2YdeCYRCaDDiV1bWzWU9hjXQpB3MuwcnImpCRCW4zvdIeUQ3PCqP/Ztvd2+5KiLV10K5Ul7tyV7W8xzB1v1ZnyEHbfLV8crzUOfl3tF+ZYe7LTvhXZiSPlwW+/Bu4914PGvbm7Xm5pRzp8/bxoaGvTiSPr7+019fb1eTAghhBBC8hQK7gy4cDm6LdjRsirTO3LB1PZHi6Awg3gCCJXWzyWxmaw+rUPKowqWwVC0bG1tcEuu4uJivSiNONHV2Nhouru79eKCAN7Ky0EKWxF2DnDd/aMyfXLm1dPDvgkZ196qGjUjuJinEQhueNX/529utZ+35KjDqw6TQnlo74b2WPdtPGYWfRY/SRJ23C7LXnrD/On1z72ifP9591L7XvDw//gvD3uTQZj8+cltC+068Pg/s/pFvakZJ1MvN73bhBBCCCGFBQX3NDI2NmZDpMubOr1c2uVHe71Cag9sLbGeOOtpm+odfSWvtt8UN5+12wkS3Au2FJvFu5s9b53cujaTgnvTmcy9/R+ECO6qqiozOhr8HIgSXQhHz1S05BPw8CfJ5Y06By7YFsLrZxoJKY+beHFtukPK9XvLY71cbLZDykFLS4vp6enRiwMZGBgwtbW1ejEhhBBCCMljKLinmZKSEvP+xs+sVw+D+v/xqxu9Qmq/XbLGeuKkdzSWSy9phGV/umO/3UaQ4P7DCx+bH9zyd89b970b7/KtM5OCG4WZ9ndOxNq2yi7vPopbBYECUlH511GiC97xzWcyz62fjrZJh7omfKkBUYaWZMMBnuXy8vLICQcQdQ4EePkzDVGeLtBvXp/jOEORtTiSHDcKheltx9nzs1w0zSXphFHS9QghhBBCSP4wrwV3Se8FnyiKsu0t47FesfHxcXOgrNYb2Id514IsLqQcXvGo7c2k4E5Kb29vooJwYWHlEKJhXr2zZ8+aM2fO2Hx3fS7ibGvCYnZhQDjrbSYxVEvXoJBcXKhwnPCEp//EiRN68YzRn/peYAJCT7ho21rRafZ1jNv7zUPxeeRxxy1IW7CSmjOmvv2sL91D20xWq4+jsrIydsIFUQtxtQ4IIYQQQkj+Ma8F9/NZ9HFO4hndX1rte10Sa5wS3H3j2Ym5o90TvhZBQRbkZc0lfX191vMfBQpBIWRW09nZGZqffezYMXsLwW2LcR3pNQu/qbHh+RK2f+e6vXY5HksY/oPbSq9acEPgYVt3rN1jC3OhCNeSPS122aPf1nkpBXjPJ4/12fvYr9IAwQ3gmcbkRBhxwhNiO67aez6AtIsjR44kylsHccftgur5ra3xhdjyDbRni5uUgnc76TkjhBBCCCH5w7wU3BB/Q0NDthevrWx8fLK1FUQRKhsvP9JjFu9pNksPdNhltsryzjN23e/aRkMFoDA2PmE+Lm33echhm2oHzOdNk9WoxdaVdNpw43HH4VefEt/SP/pIS785cKbX11catq0p81DeNafjQ3mnG1RkjgqJhZc3SFzBq4eoAQ28gpKrDMGNsPzH97Wbm1ZtsOH5EraPNmU4ZlRJ/5fr/mzvY53pEtwoAPaf9yy1Rbj+9frb7LL/+dtbzbWLXrb3kTaA90VkwjULV4cKbhBVaT3o3Ajw8nd1denFFniedVG1OPtH6nzmclIGnydEt24RF0TUcbtgwgb50IUKfpPCBPXw8LCtc5CE3rFkqR6uYRKOEEIIIYTkhnkpuDds2GBee+01K7ghiP7j1vutSINAQmXjx3bUm18/+qL5t/93uxVKk+2vVluh9sTHu81LG7f7hK+2r0rOmNYBv1BERW209hHg8YsKFYUoEU9uEPs6JnyCOs7g2Z8NcNxRodNBYeVBggsCxC00liSkHBMm7uPpEtxJDC2wcItrKUpwI0Qe10cQQecBYOIIOeBhIG9e708Sax+OF8NXA/L2Dx8+bL27UYQdtwuiA3IttpHmob/jcYZrJCn4HGtqavRiC74XYWJcgwk8/VnGGb4/hBBCCCEkN8xLwY3BK0KVIbj14NPNkRahlK29WtKn39qGDbe1tXmPIRQQch0GvMJBHl5BBDdCp5cfOutVPrf53lNhzeiBjErp8ng6BPeFlB5DTrv24EcZKlmfGxgK9eTiXOiw6iDBhde7AgTVz/W5jzPsy9WQbQ53lOAGYW3Cgs4DOHr0qF6UBgS3ro4Pw77gWgkLuc+14AZJRHfYcQsQ283NzXrxtJNkUkcbvh+ZEBQBgir2UQUFNZ9PRbzgOy/fd0Tv6M8an7E8j4gGQgghhBCSG+al4BaCBPd0WlHxeevBdoF4dj3aUYIC3s6Ojg69OA0R3Aid/s3iIq/y+fUr3vIqpd+0eoP5rwef9R5Ph+BGlXJ9vEmsefCS9eaFiW6d663PD0Q5Jktc4Ek83XHe7C2r8+Wrh5kbvp8tEFTr68YS27rTfaZvNFxcgrA2Yfo8gCQtwCC4pTo+IjV+fufj1vBZoOJ9WMj9TAhugLxziO6w/POg4xYQSt/U1KQX5wRUVNfXcpx92ZyZ4MZ13d7enrYM3u0kofeCCG585xGtg/tIZXA/a/xO4DPGZ47HFNyEEEIIIbljXgvuve0TPlEUZg9vOmoe3VFnPUXwfMM7tOJYn/UWomCW5H7Dk7zsYJcdyC77ssQnIIErIsKKJUFIRYUKC7MVUt7qCG7xponHTLzt4mXH+ZJoAckXRVg4QuW1N1eHlbvnCp7QoJB0FMuKynFFHvN71ZnlMcNrPpFc5yQCky84vrCq60JQmzAtPJO2ANMh5Q98VmwN991oDh1yP1OCG0SJbn3cAiajwsLvcwEENwTr4t3N3vmSiAF8/x/cVuZFD9jlJ/ozFtzA9XLjesnEuw1EcLufKT7noO4G8jwFNyGEEEJI7pjXgjsTHnplnbn5pY3WU3TfxmPmlwueNv92/V9tYS4UzJLcb3iYv3fj3XYg+6MbbrcD5ijxFCS4IUJRVCoJxT0XfAPpOHszQf/jOFzBDW/aL+5Z7nnQIUzgPcO5gVcV5wuG59wCTfDmIiTaFd0o/uV6+dxzhckLN7weAhzVuZH7HAXapelzkMSQt5sLkMuO/Q6rqB3UJsw9D5m0ACtv7fUdVxI7m6NjDwOfJUQ3wsxdggQ3vNozKbYBBPfvnn7X/OS2R+z5+d93L7UF8+T7f/2Tb5sbnl1nH+PaR02Iz+qHfN99l3Njl21qg5t2sbH6vHf/05p+X4FFnZKA7wMmnPA7Avu0ZjJdIBOj4CaEEEIIyR0U3AnBwBeDU9dTFHZf7M3KUSueory2QYICA2d4gOPAOhBedS0dvj7DUZZBLadQXMEdZNpjKqYrIkOQ6DZRcr4gLFGNHJw7d84KCwGP4SHXAi0ICG5MAizZ2zpZlf5Ev+eVF+87vPJLD3RaD6VEMORKcAtIF8Dnh2PRIFxa8tlxDblh5nEtwDCRgesK57H77FlTc/5KxfskNlv93HGcEN3upIr+fkBs49zMNJmElMu1v+3MiC2EhmMQQYwJOEwq4Vi/yyI65YWyEfudwLYwAYXIDqRoCFWpz1pH58QZ+qcTQgghhJDcQMGdEAgRN+R4TfmQefFUn73Vy+X+jtZJ4YBBNkSQt60pEQGhpb2cKKgWV3EZIhODbQy8dUj2TNE2HC24w6xxwC8UpTez5KpCTOC43AJzbqV2hGRHVXbXQEDCO3n/5pM2QgHex5/dsdh6IsX7DkGO5+ChxGM8l2vBLSA0HB5t9xoBkueOSQkJQ8e6YS3A4PWFyMa5iSpEdjUgPF/nw0cZJmYuJbhEEcKO71hpz4TZXt7sif+9tV3e/ZOdI2ZXVbv3eHAifsNIudDpAlH2esqwbQ3y9fW6caa90QCfC3K1MYHyRc05s3h3kzVJyZAe8viuBIWpry4dSTTJRAghhBBC8gMK7qsEAggiRwbByL1GmLRb6Eh7uUVwwzvlevMgrLQ33AUiFOIdYjvKw3m1nD53wderVxu8c2trR8071aPm3ZpR22ZLVyXXtrNt3FRU1dhj1MWucB6kYjV6dkM84txKuySEYeOYIUJ7enrSXhsGhDy2s6/qSrX5qLxl/dxMCW6Az/bQ6TpztHXAE5SHmvrsYwjNg43n7LIdFa1p3uj2viE7QYFzGlXtfrp4qTy5p1fs+Nn4azUTD7IYrqc4sqkufrUt45KCGhJIU0GRQ6RjoJgZCpwhDQP7ERSmDsFNCCGEEEIKBwruaQBCEIJHQp5FPLpiGuJawsRFcOv8bZ3P7FJb32B2naoyNT2TYdlJLJuiXwg3XxkgQuLsZAJR5QLvPs5ZSWWN+bRhMrT1w5SAX1s1ZO/j1r2P2/crB+06W1KCSIfFY8ID7aEkdBeGcz4wMGDODGSXw907lsUJvApQ2E3vQ5whTziTKtZXy7NZVPY/0BnvkV1zOnPBvX0qgkQDDz8mH3BeXjzYYj3DWB9e4ke+rrL30RZr0c7JVnniPcZy3H7WMGJfi4mdXE5sQXDrYwpKTYHJ5BAFNyGEEEJIYTGvBTd6SaNNlRaqUYYc6DAkr1gG+xDQkl8JIS0ViFGFGo9dwQ3PNby4GoRUI2d3S91kmGkmtrEhc08dRDpCWSWPWYQIlkmPbwz+3TBX3CbxYgaRbUGzipauNHGN8PowD+/F1Ed24my81961koBwYLCrzS+S4gxhzUl4Kwtv7LamYNE53eDaRYj/ylOTn79bofuOtXtshX6bH59ahtsFW07Z/cN6X1Z125B5RGZo27Nnj7WiUn9Iddx2N1f1+raLqIjXX3/d7N271zz66KPmZzffbT3DeA28yPAm4/6tr2wxv138ivUmw2Sdn9+5xPx12YtmzZo1dmLslVde0adi2ggS3HFGwU0IIYQw47vHAAAYcklEQVQQUljMa8ENz5se0MbZqxXxA17k22Lwj/BoCBUJgYbnDSHnKPqEWxHcaPFUX1/vbsKKdwhtqdgNL7DelzhbW5N59WEIboSy/vHVrV4YK7aFZT+9/VErWFCh+ba3tlsBIyGw39Z020kDadckhgriCBF3zSVIcEe1FRNrOOufnJgJ4GHX+xtnH9cnm/iA4F68u8ks2jXVzkkJUH1e4KWdKcG9fv16+/le++gLvgrduP/wV5VeDjxuv3fjXXafcW0sePplU1RUpDdp2bZtm52kun7Ri76Q6rjt3vXkS6HbFcJCysM8ybjO3JDysIiT6aBj+JK9NhC98UHNiFlXPewVMpOoDvcx1sFkECGEEEIIKRzmteDenYWH6cWyeMENEOIMsQ1xDe8rPNUYvMMjBxGK8GeEPGM9t8UTws6xjttjGeHp6yv6PE/f0oNdVojBuyhVt7Fv6AW+7FC3FQ1Y/l7FoLeNpEBwy7HqHOcgE+EiHm549F1xDa+zFuGYeBCPpJtfLRbVVkxsJvOrXURwi/cVAjnII/vojnpvXz+sHrLHikJZUbdvVgzbnN7/uPV++zotQPV5uWnVhhkT3EJUSLlcC1rMZhJSrl8btd2wkHKX92qCBXeUoZf1TIJaAzqdRFdnl4iYmW6HRgghhBBCro55Lbjf/PaYbRUl3kLc3r3+gHl8X7sXMgtBhbzPZSmRi8H4wq3hRc00oxcvm621/WZz3aD5uPKc11t3W+Oo7bf7WcOwr9fuptNd5pLyqj3zzDPmtX01nqfvumVvWCEG76JU3ca+oRf4j//ysBWn6Ad+3f3L0raTBFdwZ2LTHVIeJ/ZnW3CL9/UnqfMf5JH9p1/f7O1rJh5ufZxaZOrzsrFmIC20HtEVuto5gGdUt4OKso9S+4zK4ZqgfYwy1ANAEb44IJ6lurdb6f/V08Nplb/lMaqJV/XFV2LHMeh0gSg7mDL0x54pUOdBt8UDWnALqHAe1xaOEEIIIYTkD/NacC96dZ1tFYXQaHgL4T28+cVPrKcY3sXrV7xlrn3sJRtG/b0b77YC4vu/u90OhmGono1eym4fXJfq88FiMs66hyasRxwCSnr4bqgeDOz7HbRMrOhgeiXwpMDDpwVYlG1IWeeIX5wloSHLgmZHymusZzjs3OeKJCHl+nNIKrj3tE+2sAoSnK7wdO/rFlYQ27guXREOr+jqssyLkiHHeKZB5Icb3SFRIALEZlCtg0IEx4XolaCid2GCG0BsIwoGvz2EEEIIISS/mdeCW4eUa+9hkLkh5QgFRXg4BAIGyAgLFjEO21fTbl+D3NsVR3q9kHApACW5uJKrK+9xoqrB1/rq29Zx377EGap55ysQGygeV1x22hzqmvQu7mwaNNsbzpvv2sfMN/V95qvaXrv8y5oee7utssvsbRs1R7snRSaEByrDS3g6vH+55pP6zHPpN59J9jlIYT3J2wfSJs4tsAfRierrSYFAheB+YGuJeejz8rRrD/unc8MlZ36mBTdaxbliG2jBDXCOCl1049qVNnhBIO0Cvy9R4HzhutDecUIIIYQQkj/Ma8EN7+DKiJzUIPuwLnkhMvFwI/cWtxIS/vM7H/fuw6vuVkmG9YaEtPaPX7ZV0pNa8FZmFxSDg2CC2HaFFPK9pYo7ct4hNqSae0tLi/XmQZygDze2EQQEt4hvCHEddqvPT5wFnb/BictpfbDjrPzcBTOke5gFAAGJPF5XZGGZCFDUAnBFdqaiG4L7t0vWmD+9/rm99hC9EZYbLjnzMym4IR5xjJogwQ0wEaEL8BUKuI4htvX16YIIF1SFj2N0dNReN2EV+gkhhBBCyOwyrwV3rtEh5RJq/MBnxd79IK/60dO1XjgwhEhSYfV1S+ah4KiUnCmXLmcedr7pzJg5XlYZWPQJYkE8uUDuo3K7hIxDaIsnDyJMe0I1eJ1blOzzM5mHVM9U8SwcCyqAa7DvcswQ4vB6umQiut2Qch3yDgu6DmdKcEsxvSBwzG4/execn7DJl3wF4eMQ20GTCC6YbMF3PwlI59hR0WqOtPT7JnyCrKLvoq3VQAghhBBCcg8Fdw4p7si8dzbMLdoEQQXPn5uTKwahJqG1eIXeThI73BU98A+ib/yybztJLKjIFQQThJOAUHp4tEFXV5c1gOrtEM4CvNkQ5knCaeFR3FCbueDGREEuwX5BNMsxatxJCOCGlQtJRfcLWeRwf5ewf/jVECW2QZTgBjgnSTzB+QCuVRRIizoeAcI8aBImCKS56M8uzo5k8b0nhBBCCCGZQ8E9zUAAQ0BCLDV3dJtvWiarj7tVylGVHJXLcR/VyrFcKpbvahsPDGUOAr28UWQKoqMkZXpQjYrri/e2eBXXJWfXtWwE94mK2iv556eGvBz0B7eVmcV7mm2OMKq7P7ajwb4Hnsey0z3jaR5JCCVdHMoVmfBSu55shJrjmAUUCIOACarKrUHhMuQqLz3QafOT4dGV84L2atJSDfu74niffS6XghvnAf2nwzyd+Fy19zZIcAMU0IoT3fBsSiX8JIbrNtfVujGRFOfFjRPcAKkHuuZBvgGxrVMG4tDfjTCeyzAtBsZ+3oQQQgghMwMF9zSAQTS8rxCLEIja6wqh2NraakURBAREo+TkIrxUimQhhBriIRuCPNyouP7fT7xuq7Ajbxy3ep1sBPfr76w1Nzy7zvxywdNmweZTNv8XOei3vrLF3P3hfpsjjOruaE2G90BeMJat+3KPOXjwoN0GBJI+Vnh8XZGB86jXQWi5C9bBeUfxuigguJGrjP1AfvL/vnupbeOFvGW0V5OWatjfXz28yh5TrgQ3qojDotDebYBzo68tIYnozifwPYkT2wDnKYlIxfevu7tbL84bMLmSZGLIJVvBLcXxpAAeJrv0956CmxBCCCFkZqDgzhKEfKLnMYQRBHWYpxKFwMT7hvBf4IZK43ksl9ZAEOPwhLme3CQECe60Qfhnxb5lsGwENzyf7jZ0/m9QjjCWSUg5hJEbHi5gMgKh4y5adOC1EoLcOHjRPJuFdy/I9D7jmKZbcOMagfDSnmsNPLpB4cQoHBclKiG6C6F6N8Q2PPhJSCq4Ac5ZWHh+rsD3J9PCiztaoz32gr72w9CCW4rjSQE8TDLpfaDgJoQQQgiZGeat4G4duuQrJhRlp89dMOMXJytmQ2RjMBzVAxoCGsJZ1oEXG5WHgXi3AYQHnnPzmAEEKTzemZCN+JQWW5mACt56O0kMReQgiILEJAjz6mowSYEKz6Wpz0W/x3RaknZeKFgF8ZLEtlZ02pZn9QP+XHYXnJ+gMGpcU9rjr8l30Y1rOqnYBpkIboDJr5kU3SgGqK+bOHu/Jlmng6BrPwgtuLXpySQYBTchhBBCyMwwbwX3qlL/wDTOttecTZQrCrGkKxG7odAQVG7/XQhIeP30tvEYrwsSX0Gg+rAWeVF2MGVJWlYFcSD1Wp33G2XITW9u77SCKAi0eAoqnhUkOnBeIc4huJErjs/G9pY+0W9NQmjD+ku3p0SybgEWZElODY5NXydx9nZVtOAKmngQwvK4XWZDdCN64fWKEfNajK0pH/Luf9Ucf10jigStr6LARNgrpzMrHLY69f3vGrn6Ut2u4EYUyZK9rfYak7oFts7BVI0DWW+6BTdaFerji7LnUwK95nz0pA8hhBBCCJke5q3g1oPQJHYoQfg1PNcIG5YQcQAvnSuA9EBaPJp4nQbbgSAX73ihgnBotPMKI0xk6nMlYILiUPN5c0vRJvvZIGwWeeQwCaEN6y+d7SRDEGgdhmJxEPVSLA7v/cT+jtTyUvtYxBfWWbSr0RQd69Sb8UAhuSgPcBLBDWY6p/vb1swnHiCS40giuHWKQ1JDxMXV4gpuN4wbt6hhcNeH+2ztBFyXst50C25CCCGEEJK/UHCn7J4NB82KI73myWN9kzYljnSxoTjBjfxaHRqO0GctJvVAGh5bhApL7+ggUHQN23GFfKGAkHndQ9oFhcD0eRP0uXLZeqLW+2zcsFn3vs4vh0234L7+ybdtEbmf3j5ZLA7v8fdNJ7wicr9ZXGQnASD8f3bHYrPs88lc/iD0taLB5ExYvQB4bFeXZubpXZMSveNXeUlhQmhTeYfnyRUP7x1r95jlR3rSvk8Ltpyy74vni8qG7PcjiiSCu6a1y24b1ealEj/ee+H2Gu+9MfHhVqaHVZ4LPo+ZkMuQcvwWFOL3nRBCCCGEXIGCO2XwQD2+r9389xOvWRNxpIsNfdUyZpoGLwba6Y7z5kBlo70/OHFF0MEjqQVSkIgUoQUvcFg4MHJZkxTdyifgmY+ryF1XVxdaJC7oXAnF7QM+MRNnyHcdvzS9glu27Yp7XE9hkwBhHu6oiQehr68v1ANe2XfRd7xJDH3Vr4b169ebt3aXWK8uPLnw8CKyAFXgH/6qMu379L0b77LviXWvX/SiKSoq0ptLA9dGXHXvj7Z8breNavPYrt1+6r3/+OpWu/z6FW/ZiRC3Mj3shXfW601lzDbn809qCAHXDEz4UxoqzrSa9r4h33LYdF7DhBBCCCEkd1BwB5iIo6BiQ0ns1YpJgQCPdVDOcpCIhJBCMTWAYmtRwOsXVngsn4BXHvsaR5RXF57/sFZYYF9pjantHfFNgITZ1YpLjSu4k9pbITncKCiWJAw8LKwcglvC2L0Q9p1nvPxh5LQjkkNC3LEM60/HOdEh5e7kQ9j3KUlIeRLBjZByvW393kF2oObq0zQQLaELLMYZBLNLSRbF/4rKo88JIYQQQgjJD+at4P6kfsxX0CnIXizLLEQXtrpscjAsbcA0WnCfOHvBtqB6s7jH3q6rHjYf1o7a+0H2Qe2Y2dYwZL4pa/IN5sOsZ3T6QlOTVHg/0TFsdlW12/sQghdDNB0EJkRVGMjVjqsGH3aeZ4L6/ou+zyfOjp8NDqOOmnhwiRLcbi90eHH/9bq/ePnDyGnHLbzP/3Ldn+39m1ZtmBbBvattwvc9iDMUWYsjieBGRInedhJriKkWP1MgVUXvWxIjhBBCCCH5z7wV3EnZ235lMAwP4dIDnTZHVSpgY/nyo732VjyJENydnZ22hVgQWnB/UJtZleFsTLzuVwuEc1wboiBDRWotymE7K9tMac9E2rKWoSuTA27P8jAQtl7oReUgKqPy3F2iBLf2Jgd5eHVe+3QI7mw8ve3DVz5nTAjp52H76s+aU12jvuUwNxcf7dl0NEOUYdIoInBiRgkS3A9sLTEPfV5uoxEe3VHvex5GCCGEEELyHwruGFzBDQ8hPIfIUcV95H5j+f/41Y32FvmhuIXgdtuAabTgXrHlkFnktLdaerDLK/6ECtiPfVtvHtvR4D2PUOGlBzp8A/Aog6d+OkCBLb3tXJiIKXi34eWOA17uqNDzfADFsvRxRhkmNoLaN8HrG+T1r+vPLod7OovIZUum5waWpK1YIRAkuH+7ZI2teo7fmH/69c2+52GEEEIIIST/oeCOwRXcsCCPoSxDD17cPl8yZHOyw0Bessv9r280//LfkyG+EPTXLXvDE/O/f+4D88/X3mxbDMnzCBX+0Z8f8t4fraZEiEs1aLfvL2y6BTfeUyo+u+8X1vtan7M4E68rRLQ+X0GgkrWeyMg3VmYRGbD5zJivp/nWMyNmc92gbzkMVbMr+i74PLphBs9wPoC8dn3scYaCZXOBIMGdxAghhBBCSP5DwR1DcU/mBY3WFIdXEUfosM5ZRkh5VAhwULVrd9lNqzeYn9y20Ku+DFEu3nax6RbceM9rHlntvd81C1fb5WG9r/GcFOoSsS4toh74rNhW9XZD83tHr3h2w4Q0cqFdsbmx+rxPgLr2Tcu4r2DVTCKCG1ELmISQ0G43PQHnyJ2kyCZ8/0Dn1be7mmlcwb14KtpDirutOHrO3peoD7G5IrhLezP/jUlScI4QQgghhMw+FNwJQMitbssTZkfLqszoWLgQ6OnpsX2pXVBISw+oMzUtysXbLjbdglu/t/v+OkdYTAp1oRc1RLm0iELo7OI9zbbAFx7/3+VvmqUvvOqd02Pl1b7zDFsZ8B5xdjiml3ouEcGNvt1oWSXHK5MUuI9zJJMUyON9+PNyX/SCCE+ZwNBRBV9UdNjrrJBwBfctRZvsLaI8ENnx/T/ca+76cJ93jsTmiuAGKPymr+8ou9re6YQQQgghZGag4J5GhoeHY9t1oYfy+fPn05aheNT+zgnPtjecN19Un01b5hrChjMNT/6ofiztPbMF/uF3qzMP/9UWJsoztSf2tXvbkhB3CFhMOOCxF/p+YrJn94G2EVvZfDbQn1ncJAXyeP/y+mSPaUQM/PzOxyejF6Z6Tf/09sk+8Tqq4P3dp0KjAvKVJCHl+hzNJcFNCCGEEELmJhTc08jJkydjC3dVVVWZiYl4L+upU6f0ooKka+SSWV2aeWu1pPanNVvNf979hBWvEJsQnb97+l1z/+aT9jG86b9c8LT5PwuesesveOpFs3LlSr2bM8ILWbSYe7b4ijBH6H2YSHfv7++Iv77yDfTx1i354gzt9AghhBBCCMlnKLinie7ubtPU1KQX+0jqeUSeN3pUzxcOHztuK7XDQ/34d22etxoCEh7cxbubPW+1DWG3Xut+X15vmIkgnc2Q8p6xzFpXNQ9eMs9nGMkAK0TBTQghhBBCyFyEgnuaQFsqATmWmXozkWONPE4BnvLi4mLv8Vxn82dbzQ//uMD89xOvmb+9v8vzVuPcwGP9/T/c43mrF2w+ZUOor3lklRdendRmU3BnA6rkI8c/qSF1oCNPKo8TQgghhBAy36HgTkD3aHaexkytbShdKMEbfvGivw/zXGT84uXACu1hJh7rNytHfaIzzDY2jJmeUYpRQgghhBBCyMxAwZ2Auv6LPsGXxNDaSVobSVsj6Vd99/oDthWWVKDG7a629OJoe1pHbAE1XTRNDG2xLkWnjBcMKb2dcVQArPr8/JiQIIQQQgghhBQeFNwJCBLcyCd+bEeD14pJhLRr/3nX4zb0Ga2N0NboN4uLbBg0nrv5xU/MvR8f8SpQ/2bJK77XJzHtFS9kxi762x9FmRuCTwghhBBCCCH5BgV3AoIE942r1psf//khK5ZtPvHC1b51ECKtWxlpu1KBuiRNuKMiNTzgsgy2/PDZyftOYbGG82yNRAghhBBCCCH5CAV3AoIEtyuWIaozyT8OsluKNplfL3zB84D/6fXPzeI9zd4y2H0bj9lb9GNGYTE8t2zVy3p3CSGEEEIIIYTkARTcCWgZuuQTyEms8twFX6unMCvtueB7fZjB+y33m+dQSDkhhBBCCCGEzCUouBPSMZxZD+WzGVbDbs1S1FNwE0IIIYQQQkh+QsGdJ4xevGw+qfe3sooyrD9ygYXDCCGEEEIIISQfoeAmhBBCCCGEEEJyAAU3IYQQQgghhBCSAyi4CSGEEEIIIYSQHEDBTQghhBBCCCGE5AAKbkIIIYQQQgghJAdQcBNCCCGEEEIIITmAgpsQQgghhBBCCMkBFNyEEEIIIYQQQkgOoOAmhBBCCCGEEEJyAAU3IYQQQgghhBCSAyi4CSGEEEIIIYSQHEDBTQghhBBCCCGE5AAKbkIIIYQQQgghJAdQcBNCCCGEEEIIITmAgpsQQgghhBBCCMkBFNyEEEIIIYQQQkgOoOAmhBBCCCGEEEJyAAU3IYQQQgghhBCSAyi4CSGEEEIIIYSQHEDBTQghhBBCCCGE5AAKbkIIIYQQQgghJAdQcBNCCCGEEEIIITmAgpsQQgghhBBCCMkBFNyEEEIIIYQQQkgOoOAmhBBCCCGEEEJyAAU3IYQQQgghhBCSAyi4CSGEEEIIIYSQHEDBTQghhBBCCCGE5AAKbkIIIYQQQgghJAdQcBNCCCGEEEIIITmAgpsQQgghhBBCCMkBFNyEEEIIIYQQQkgOoOAmhBBCCCGEEEJyAAU3IYQQQgghhBCSAyi4CSGEEEIIIYSQHEDBTQghhBBCCCGE5AAKbkIIIYQQQgghJAdQcBNCCCGEEEIIITmAgpsQQgghhBBCCMkBFNyEEEIIIYQQQkgOoOAmhBBCCCGEEEJyAAU3IYQQQgghhBCSAyi4CSGEEEIIIYSQHEDBTQghhBBCCCGE5AAKbkIIIYQQQgghJAdQcBNCCCGEEEIIITmAgpsQQgghhBBCCMkBFNyEEEIIIYQQQkgOoOAmhBBCCCGEEEJyAAU3IYQQQgghhBCSAyi4CSGEEEIIIYSQHEDBTQghhBBCCCGE5AAKbkIIIYQQQgghJAdQcBNCCCGEEEIIITmAgpsQQgghhBBCCMkBFNyEEEIIIYQQQkgOoOAmhBBCCCGEEEJyAAU3IYQQQgghhBCSAyi4CSGEEEIIIYSQHEDBTQghhBBCCCGE5ID/D40oEDOIXKUSAAAAAElFTkSuQmCC)"
      ],
      "metadata": {
        "id": "7t0A3zTumxIg"
      }
    },
    {
      "cell_type": "markdown",
      "metadata": {
        "id": "tEHVwYACDMEl"
      },
      "source": [
        "**Question 2:** Use the [Friends TV Show Transcript](https://www.kaggle.com/ryanstonebraker/friends-transcript)\n",
        "to create and evaluate a classifier that given a line of text can predict\n",
        " who is the \"friend\" that said it (20pt). Using sentiment analysis identify who are the most and less friendly friends (20pt). Construct a classifier that can be given several text lines (quotes) from a specific episode that will predict the episode's season number (20pt)."
      ]
    },
    {
      "cell_type": "code",
      "metadata": {
        "id": "IIh11ESmDMEm",
        "colab": {
          "base_uri": "https://localhost:8080/"
        },
        "outputId": "0b5de7d8-85e0-4918-b29c-a384190a6430"
      },
      "source": [
        "!kaggle datasets list -s friends"
      ],
      "execution_count": 21,
      "outputs": [
        {
          "output_type": "stream",
          "name": "stdout",
          "text": [
            "Warning: Looks like you're using an outdated API Version, please consider updating (server 1.5.12 / client 1.5.4)\n",
            "ref                                                     title                                               size  lastUpdated          downloadCount  \n",
            "------------------------------------------------------  -------------------------------------------------  -----  -------------------  -------------  \n",
            "hwassner/TwitterFriends                                 Twitter Friends                                    175MB  2016-09-02 13:28:00           2742  \n",
            "rezaghari/friends-series-dataset                        Friends Series Dataset                              40KB  2021-03-28 10:49:57           1495  \n",
            "blessondensil294/friends-tv-series-screenplay-script    FRIENDS TV Series - Screenplay Script                2MB  2020-09-14 13:18:19            537  \n",
            "divyansh22/friends-tv-show-script                       Friends TV Show Script                               2MB  2020-07-13 06:13:57            261  \n",
            "ruchi798/friends-tv-show-all-seasons-and-episodes-data  Friends TV show: All seasons and episodes data      27KB  2021-05-27 10:42:28            572  \n",
            "mpwolke/cusersmarildownloadsfriendshipscsv              Friendship Diversity                                 4KB  2020-08-06 18:32:14             97  \n",
            "ryanstonebraker/friends-transcript                      Friends TV Show Transcript                           2MB  2020-04-28 00:35:59           1114  \n",
            "akash14/friendship-datasettoddlerteenadults-image-csv   Friendship Dataset(Toddler,Teen,Adults Image) csv   51MB  2020-09-16 11:20:19             76  \n",
            "bing101/friendshipgoals                                 Friendship Goals                                    89MB  2020-07-30 02:32:52            257  \n",
            "delayedkarma/fantasy-premier-league-20182019            Fantasy Premier League (FPL) 2018-2019             143KB  2018-11-23 22:50:17           2415  \n",
            "apoorvgupta25/friends-episodes                          Friends Episodes                                    23KB  2021-06-25 16:16:50             48  \n",
            "zahidmahar/mydataabout-friends                          My-Data-about friends                                3MB  2021-01-18 06:49:16             13  \n",
            "doaaalsenani/usa-cers-dataset                           US Cars Dataset                                     66KB  2020-04-22 14:38:05          15903  \n",
            "shilpibhattacharyya/friends-sitcom-dataset              Friends sitcom dataset                               4MB  2019-11-01 15:11:19            237  \n",
            "sogun3/uspollution                                      U.S. Pollution Data                                 26MB  2016-11-04 17:32:56          19878  \n",
            "jwiens/my-little-pony-friendship-is-magic-episode-data  My Little Pony: Friendship is Magic Episode Data   210MB  2019-10-13 15:54:26             47  \n",
            "oddasparagus11/friends-complete-transcript-seasonwise   F.R.I.E.N.D.S Complete Transcript - Season-wise      1MB  2021-11-09 04:28:36             50  \n",
            "mrisdal/minneapolis-incidents-crime                     Minneapolis Incidents & Crime                       16MB  2019-11-18 01:12:23           1378  \n",
            "kingburrito666/the-demographic-rforeveralone-dataset    The Demographic /r/ForeverAlone Dataset             14KB  2017-04-28 23:08:58           2539  \n",
            "kwentar/blur-dataset                                    Blur dataset                                         1GB  2019-07-29 11:35:28           2966  \n"
          ]
        }
      ]
    },
    {
      "cell_type": "code",
      "source": [
        "!mkdir ./datasets\n",
        "!mkdir ./datasets/friends_dataset\n",
        "\n",
        "!kaggle datasets download ryanstonebraker/friends-transcript -p ./datasets/friends_dataset\n",
        "!unzip ./datasets/friends_dataset/*.zip  -d ./datasets/friends_dataset/"
      ],
      "metadata": {
        "colab": {
          "base_uri": "https://localhost:8080/"
        },
        "id": "gNgg_WrbzWnL",
        "outputId": "32d35303-fdee-4ca4-bdae-585db24ab969"
      },
      "execution_count": 22,
      "outputs": [
        {
          "output_type": "stream",
          "name": "stdout",
          "text": [
            "mkdir: cannot create directory ‘./datasets’: File exists\n",
            "Downloading friends-transcript.zip to ./datasets/friends_dataset\n",
            "  0% 0.00/1.72M [00:00<?, ?B/s]\n",
            "100% 1.72M/1.72M [00:00<00:00, 28.4MB/s]\n",
            "Archive:  ./datasets/friends_dataset/friends-transcript.zip\n",
            "  inflating: ./datasets/friends_dataset/friends_quotes.csv  \n"
          ]
        }
      ]
    },
    {
      "cell_type": "code",
      "source": [
        "import turicreate as tc\n",
        "\n",
        "sf = tc.SFrame.read_csv(\"./datasets/friends_dataset/friends_quotes.csv\")\n",
        "sf"
      ],
      "metadata": {
        "colab": {
          "base_uri": "https://localhost:8080/",
          "height": 619
        },
        "id": "NrL78qVYzaVi",
        "outputId": "e09b08b7-7faf-40b7-8c8a-96aa1372060a"
      },
      "execution_count": 23,
      "outputs": [
        {
          "output_type": "display_data",
          "data": {
            "text/html": [
              "<pre>Read 100 lines. Lines per second: 326.766</pre>"
            ],
            "text/plain": [
              "Read 100 lines. Lines per second: 326.766"
            ]
          },
          "metadata": {}
        },
        {
          "output_type": "display_data",
          "data": {
            "text/html": [
              "<pre>Finished parsing file /content/datasets/friends_dataset/friends_quotes.csv</pre>"
            ],
            "text/plain": [
              "Finished parsing file /content/datasets/friends_dataset/friends_quotes.csv"
            ]
          },
          "metadata": {}
        },
        {
          "output_type": "display_data",
          "data": {
            "text/html": [
              "<pre>Parsing completed. Parsed 100 lines in 0.308506 secs.</pre>"
            ],
            "text/plain": [
              "Parsing completed. Parsed 100 lines in 0.308506 secs."
            ]
          },
          "metadata": {}
        },
        {
          "output_type": "stream",
          "name": "stdout",
          "text": [
            "------------------------------------------------------\n",
            "Inferred types from first 100 line(s) of file as \n",
            "column_type_hints=[str,float,str,str,float,float]\n",
            "If parsing fails due to incorrect types, you can correct\n",
            "the inferred type list above and pass it to read_csv in\n",
            "the column_type_hints argument\n",
            "------------------------------------------------------\n"
          ]
        },
        {
          "output_type": "display_data",
          "data": {
            "text/html": [
              "<pre>Finished parsing file /content/datasets/friends_dataset/friends_quotes.csv</pre>"
            ],
            "text/plain": [
              "Finished parsing file /content/datasets/friends_dataset/friends_quotes.csv"
            ]
          },
          "metadata": {}
        },
        {
          "output_type": "display_data",
          "data": {
            "text/html": [
              "<pre>Parsing completed. Parsed 60291 lines in 0.175527 secs.</pre>"
            ],
            "text/plain": [
              "Parsing completed. Parsed 60291 lines in 0.175527 secs."
            ]
          },
          "metadata": {}
        },
        {
          "output_type": "execute_result",
          "data": {
            "text/html": [
              "<div style=\"max-height:1000px;max-width:1500px;overflow:auto;\"><table frame=\"box\" rules=\"cols\">\n",
              "    <tr>\n",
              "        <th style=\"padding-left: 1em; padding-right: 1em; text-align: center\">author</th>\n",
              "        <th style=\"padding-left: 1em; padding-right: 1em; text-align: center\">episode_number</th>\n",
              "        <th style=\"padding-left: 1em; padding-right: 1em; text-align: center\">episode_title</th>\n",
              "        <th style=\"padding-left: 1em; padding-right: 1em; text-align: center\">quote</th>\n",
              "        <th style=\"padding-left: 1em; padding-right: 1em; text-align: center\">quote_order</th>\n",
              "        <th style=\"padding-left: 1em; padding-right: 1em; text-align: center\">season</th>\n",
              "    </tr>\n",
              "    <tr>\n",
              "        <td style=\"padding-left: 1em; padding-right: 1em; text-align: center; vertical-align: top\">Monica</td>\n",
              "        <td style=\"padding-left: 1em; padding-right: 1em; text-align: center; vertical-align: top\">1.0</td>\n",
              "        <td style=\"padding-left: 1em; padding-right: 1em; text-align: center; vertical-align: top\">Monica Gets A Roommate</td>\n",
              "        <td style=\"padding-left: 1em; padding-right: 1em; text-align: center; vertical-align: top\">There&#x27;s nothing to tell!<br>He&#x27;s just some guy I  ...</td>\n",
              "        <td style=\"padding-left: 1em; padding-right: 1em; text-align: center; vertical-align: top\">0.0</td>\n",
              "        <td style=\"padding-left: 1em; padding-right: 1em; text-align: center; vertical-align: top\">1.0</td>\n",
              "    </tr>\n",
              "    <tr>\n",
              "        <td style=\"padding-left: 1em; padding-right: 1em; text-align: center; vertical-align: top\">Joey</td>\n",
              "        <td style=\"padding-left: 1em; padding-right: 1em; text-align: center; vertical-align: top\">1.0</td>\n",
              "        <td style=\"padding-left: 1em; padding-right: 1em; text-align: center; vertical-align: top\">Monica Gets A Roommate</td>\n",
              "        <td style=\"padding-left: 1em; padding-right: 1em; text-align: center; vertical-align: top\">C&#x27;mon, you&#x27;re going out<br>with the guy! There&#x27;s ...</td>\n",
              "        <td style=\"padding-left: 1em; padding-right: 1em; text-align: center; vertical-align: top\">1.0</td>\n",
              "        <td style=\"padding-left: 1em; padding-right: 1em; text-align: center; vertical-align: top\">1.0</td>\n",
              "    </tr>\n",
              "    <tr>\n",
              "        <td style=\"padding-left: 1em; padding-right: 1em; text-align: center; vertical-align: top\">Chandler</td>\n",
              "        <td style=\"padding-left: 1em; padding-right: 1em; text-align: center; vertical-align: top\">1.0</td>\n",
              "        <td style=\"padding-left: 1em; padding-right: 1em; text-align: center; vertical-align: top\">Monica Gets A Roommate</td>\n",
              "        <td style=\"padding-left: 1em; padding-right: 1em; text-align: center; vertical-align: top\">All right Joey, be nice.<br>So does he have a hum ...</td>\n",
              "        <td style=\"padding-left: 1em; padding-right: 1em; text-align: center; vertical-align: top\">2.0</td>\n",
              "        <td style=\"padding-left: 1em; padding-right: 1em; text-align: center; vertical-align: top\">1.0</td>\n",
              "    </tr>\n",
              "    <tr>\n",
              "        <td style=\"padding-left: 1em; padding-right: 1em; text-align: center; vertical-align: top\">Phoebe</td>\n",
              "        <td style=\"padding-left: 1em; padding-right: 1em; text-align: center; vertical-align: top\">1.0</td>\n",
              "        <td style=\"padding-left: 1em; padding-right: 1em; text-align: center; vertical-align: top\">Monica Gets A Roommate</td>\n",
              "        <td style=\"padding-left: 1em; padding-right: 1em; text-align: center; vertical-align: top\">Wait, does he eat chalk?</td>\n",
              "        <td style=\"padding-left: 1em; padding-right: 1em; text-align: center; vertical-align: top\">3.0</td>\n",
              "        <td style=\"padding-left: 1em; padding-right: 1em; text-align: center; vertical-align: top\">1.0</td>\n",
              "    </tr>\n",
              "    <tr>\n",
              "        <td style=\"padding-left: 1em; padding-right: 1em; text-align: center; vertical-align: top\">Phoebe</td>\n",
              "        <td style=\"padding-left: 1em; padding-right: 1em; text-align: center; vertical-align: top\">1.0</td>\n",
              "        <td style=\"padding-left: 1em; padding-right: 1em; text-align: center; vertical-align: top\">Monica Gets A Roommate</td>\n",
              "        <td style=\"padding-left: 1em; padding-right: 1em; text-align: center; vertical-align: top\">Just, &#x27;cause, I don&#x27;t<br>want her to go through ...</td>\n",
              "        <td style=\"padding-left: 1em; padding-right: 1em; text-align: center; vertical-align: top\">4.0</td>\n",
              "        <td style=\"padding-left: 1em; padding-right: 1em; text-align: center; vertical-align: top\">1.0</td>\n",
              "    </tr>\n",
              "    <tr>\n",
              "        <td style=\"padding-left: 1em; padding-right: 1em; text-align: center; vertical-align: top\">Monica</td>\n",
              "        <td style=\"padding-left: 1em; padding-right: 1em; text-align: center; vertical-align: top\">1.0</td>\n",
              "        <td style=\"padding-left: 1em; padding-right: 1em; text-align: center; vertical-align: top\">Monica Gets A Roommate</td>\n",
              "        <td style=\"padding-left: 1em; padding-right: 1em; text-align: center; vertical-align: top\">Okay, everybody relax.<br>This is not even a date. ...</td>\n",
              "        <td style=\"padding-left: 1em; padding-right: 1em; text-align: center; vertical-align: top\">5.0</td>\n",
              "        <td style=\"padding-left: 1em; padding-right: 1em; text-align: center; vertical-align: top\">1.0</td>\n",
              "    </tr>\n",
              "    <tr>\n",
              "        <td style=\"padding-left: 1em; padding-right: 1em; text-align: center; vertical-align: top\">Chandler</td>\n",
              "        <td style=\"padding-left: 1em; padding-right: 1em; text-align: center; vertical-align: top\">1.0</td>\n",
              "        <td style=\"padding-left: 1em; padding-right: 1em; text-align: center; vertical-align: top\">Monica Gets A Roommate</td>\n",
              "        <td style=\"padding-left: 1em; padding-right: 1em; text-align: center; vertical-align: top\">Sounds like a date to me.</td>\n",
              "        <td style=\"padding-left: 1em; padding-right: 1em; text-align: center; vertical-align: top\">6.0</td>\n",
              "        <td style=\"padding-left: 1em; padding-right: 1em; text-align: center; vertical-align: top\">1.0</td>\n",
              "    </tr>\n",
              "    <tr>\n",
              "        <td style=\"padding-left: 1em; padding-right: 1em; text-align: center; vertical-align: top\">Chandler</td>\n",
              "        <td style=\"padding-left: 1em; padding-right: 1em; text-align: center; vertical-align: top\">1.0</td>\n",
              "        <td style=\"padding-left: 1em; padding-right: 1em; text-align: center; vertical-align: top\">Monica Gets A Roommate</td>\n",
              "        <td style=\"padding-left: 1em; padding-right: 1em; text-align: center; vertical-align: top\">Alright, so I&#x27;m back in<br>high school, I&#x27;m stan ...</td>\n",
              "        <td style=\"padding-left: 1em; padding-right: 1em; text-align: center; vertical-align: top\">7.0</td>\n",
              "        <td style=\"padding-left: 1em; padding-right: 1em; text-align: center; vertical-align: top\">1.0</td>\n",
              "    </tr>\n",
              "    <tr>\n",
              "        <td style=\"padding-left: 1em; padding-right: 1em; text-align: center; vertical-align: top\">All</td>\n",
              "        <td style=\"padding-left: 1em; padding-right: 1em; text-align: center; vertical-align: top\">1.0</td>\n",
              "        <td style=\"padding-left: 1em; padding-right: 1em; text-align: center; vertical-align: top\">Monica Gets A Roommate</td>\n",
              "        <td style=\"padding-left: 1em; padding-right: 1em; text-align: center; vertical-align: top\">Oh, yeah. Had that dream.</td>\n",
              "        <td style=\"padding-left: 1em; padding-right: 1em; text-align: center; vertical-align: top\">8.0</td>\n",
              "        <td style=\"padding-left: 1em; padding-right: 1em; text-align: center; vertical-align: top\">1.0</td>\n",
              "    </tr>\n",
              "    <tr>\n",
              "        <td style=\"padding-left: 1em; padding-right: 1em; text-align: center; vertical-align: top\">Chandler</td>\n",
              "        <td style=\"padding-left: 1em; padding-right: 1em; text-align: center; vertical-align: top\">1.0</td>\n",
              "        <td style=\"padding-left: 1em; padding-right: 1em; text-align: center; vertical-align: top\">Monica Gets A Roommate</td>\n",
              "        <td style=\"padding-left: 1em; padding-right: 1em; text-align: center; vertical-align: top\">Then I look down, and I<br>realize there&#x27;s a ...</td>\n",
              "        <td style=\"padding-left: 1em; padding-right: 1em; text-align: center; vertical-align: top\">9.0</td>\n",
              "        <td style=\"padding-left: 1em; padding-right: 1em; text-align: center; vertical-align: top\">1.0</td>\n",
              "    </tr>\n",
              "</table>\n",
              "[60291 rows x 6 columns]<br/>Note: Only the head of the SFrame is printed.<br/>You can use print_rows(num_rows=m, num_columns=n) to print more rows and columns.\n",
              "</div>"
            ],
            "text/plain": [
              "Columns:\n",
              "\tauthor\tstr\n",
              "\tepisode_number\tfloat\n",
              "\tepisode_title\tstr\n",
              "\tquote\tstr\n",
              "\tquote_order\tfloat\n",
              "\tseason\tfloat\n",
              "\n",
              "Rows: 60291\n",
              "\n",
              "Data:\n",
              "+----------+----------------+------------------------+\n",
              "|  author  | episode_number |     episode_title      |\n",
              "+----------+----------------+------------------------+\n",
              "|  Monica  |      1.0       | Monica Gets A Roommate |\n",
              "|   Joey   |      1.0       | Monica Gets A Roommate |\n",
              "| Chandler |      1.0       | Monica Gets A Roommate |\n",
              "|  Phoebe  |      1.0       | Monica Gets A Roommate |\n",
              "|  Phoebe  |      1.0       | Monica Gets A Roommate |\n",
              "|  Monica  |      1.0       | Monica Gets A Roommate |\n",
              "| Chandler |      1.0       | Monica Gets A Roommate |\n",
              "| Chandler |      1.0       | Monica Gets A Roommate |\n",
              "|   All    |      1.0       | Monica Gets A Roommate |\n",
              "| Chandler |      1.0       | Monica Gets A Roommate |\n",
              "+----------+----------------+------------------------+\n",
              "+-------------------------------+-------------+--------+\n",
              "|             quote             | quote_order | season |\n",
              "+-------------------------------+-------------+--------+\n",
              "| There's nothing to tell! H... |     0.0     |  1.0   |\n",
              "| C'mon, you're going out wi... |     1.0     |  1.0   |\n",
              "| All right Joey, be nice. S... |     2.0     |  1.0   |\n",
              "|    Wait, does he eat chalk?   |     3.0     |  1.0   |\n",
              "| Just, 'cause, I don't want... |     4.0     |  1.0   |\n",
              "| Okay, everybody relax. Thi... |     5.0     |  1.0   |\n",
              "|   Sounds like a date to me.   |     6.0     |  1.0   |\n",
              "| Alright, so I'm back in hi... |     7.0     |  1.0   |\n",
              "|   Oh, yeah. Had that dream.   |     8.0     |  1.0   |\n",
              "| Then I look down, and I re... |     9.0     |  1.0   |\n",
              "+-------------------------------+-------------+--------+\n",
              "[60291 rows x 6 columns]\n",
              "Note: Only the head of the SFrame is printed.\n",
              "You can use print_rows(num_rows=m, num_columns=n) to print more rows and columns."
            ]
          },
          "metadata": {},
          "execution_count": 23
        }
      ]
    },
    {
      "cell_type": "code",
      "source": [
        "# Use the Friends TV Show Transcript to create and evaluate a classifier that given a line of text \n",
        "#can predict who is the \"friend\" that said it (20pt).\n",
        "\n",
        "from tqdm import tqdm\n",
        "import spacy\n",
        "nlp = spacy.load('en_core_web_lg')\n",
        "vector_list = []\n",
        "for quote in tqdm(sf['quote']):\n",
        "    vector_list.append(nlp(quote).vector)\n",
        "sf['vector'] = vector_list\n",
        "sf"
      ],
      "metadata": {
        "colab": {
          "base_uri": "https://localhost:8080/",
          "height": 812
        },
        "id": "K_rjMGZuzj-t",
        "outputId": "6685f91e-fdd8-46d1-e430-1f0b5e3df3e8"
      },
      "execution_count": 24,
      "outputs": [
        {
          "output_type": "stream",
          "name": "stderr",
          "text": [
            "100%|██████████| 60291/60291 [09:29<00:00, 105.93it/s]\n"
          ]
        },
        {
          "output_type": "execute_result",
          "data": {
            "text/html": [
              "<div style=\"max-height:1000px;max-width:1500px;overflow:auto;\"><table frame=\"box\" rules=\"cols\">\n",
              "    <tr>\n",
              "        <th style=\"padding-left: 1em; padding-right: 1em; text-align: center\">author</th>\n",
              "        <th style=\"padding-left: 1em; padding-right: 1em; text-align: center\">episode_number</th>\n",
              "        <th style=\"padding-left: 1em; padding-right: 1em; text-align: center\">episode_title</th>\n",
              "        <th style=\"padding-left: 1em; padding-right: 1em; text-align: center\">quote</th>\n",
              "        <th style=\"padding-left: 1em; padding-right: 1em; text-align: center\">quote_order</th>\n",
              "        <th style=\"padding-left: 1em; padding-right: 1em; text-align: center\">season</th>\n",
              "    </tr>\n",
              "    <tr>\n",
              "        <td style=\"padding-left: 1em; padding-right: 1em; text-align: center; vertical-align: top\">Monica</td>\n",
              "        <td style=\"padding-left: 1em; padding-right: 1em; text-align: center; vertical-align: top\">1.0</td>\n",
              "        <td style=\"padding-left: 1em; padding-right: 1em; text-align: center; vertical-align: top\">Monica Gets A Roommate</td>\n",
              "        <td style=\"padding-left: 1em; padding-right: 1em; text-align: center; vertical-align: top\">There&#x27;s nothing to tell!<br>He&#x27;s just some guy I  ...</td>\n",
              "        <td style=\"padding-left: 1em; padding-right: 1em; text-align: center; vertical-align: top\">0.0</td>\n",
              "        <td style=\"padding-left: 1em; padding-right: 1em; text-align: center; vertical-align: top\">1.0</td>\n",
              "    </tr>\n",
              "    <tr>\n",
              "        <td style=\"padding-left: 1em; padding-right: 1em; text-align: center; vertical-align: top\">Joey</td>\n",
              "        <td style=\"padding-left: 1em; padding-right: 1em; text-align: center; vertical-align: top\">1.0</td>\n",
              "        <td style=\"padding-left: 1em; padding-right: 1em; text-align: center; vertical-align: top\">Monica Gets A Roommate</td>\n",
              "        <td style=\"padding-left: 1em; padding-right: 1em; text-align: center; vertical-align: top\">C&#x27;mon, you&#x27;re going out<br>with the guy! There&#x27;s ...</td>\n",
              "        <td style=\"padding-left: 1em; padding-right: 1em; text-align: center; vertical-align: top\">1.0</td>\n",
              "        <td style=\"padding-left: 1em; padding-right: 1em; text-align: center; vertical-align: top\">1.0</td>\n",
              "    </tr>\n",
              "    <tr>\n",
              "        <td style=\"padding-left: 1em; padding-right: 1em; text-align: center; vertical-align: top\">Chandler</td>\n",
              "        <td style=\"padding-left: 1em; padding-right: 1em; text-align: center; vertical-align: top\">1.0</td>\n",
              "        <td style=\"padding-left: 1em; padding-right: 1em; text-align: center; vertical-align: top\">Monica Gets A Roommate</td>\n",
              "        <td style=\"padding-left: 1em; padding-right: 1em; text-align: center; vertical-align: top\">All right Joey, be nice.<br>So does he have a hum ...</td>\n",
              "        <td style=\"padding-left: 1em; padding-right: 1em; text-align: center; vertical-align: top\">2.0</td>\n",
              "        <td style=\"padding-left: 1em; padding-right: 1em; text-align: center; vertical-align: top\">1.0</td>\n",
              "    </tr>\n",
              "    <tr>\n",
              "        <td style=\"padding-left: 1em; padding-right: 1em; text-align: center; vertical-align: top\">Phoebe</td>\n",
              "        <td style=\"padding-left: 1em; padding-right: 1em; text-align: center; vertical-align: top\">1.0</td>\n",
              "        <td style=\"padding-left: 1em; padding-right: 1em; text-align: center; vertical-align: top\">Monica Gets A Roommate</td>\n",
              "        <td style=\"padding-left: 1em; padding-right: 1em; text-align: center; vertical-align: top\">Wait, does he eat chalk?</td>\n",
              "        <td style=\"padding-left: 1em; padding-right: 1em; text-align: center; vertical-align: top\">3.0</td>\n",
              "        <td style=\"padding-left: 1em; padding-right: 1em; text-align: center; vertical-align: top\">1.0</td>\n",
              "    </tr>\n",
              "    <tr>\n",
              "        <td style=\"padding-left: 1em; padding-right: 1em; text-align: center; vertical-align: top\">Phoebe</td>\n",
              "        <td style=\"padding-left: 1em; padding-right: 1em; text-align: center; vertical-align: top\">1.0</td>\n",
              "        <td style=\"padding-left: 1em; padding-right: 1em; text-align: center; vertical-align: top\">Monica Gets A Roommate</td>\n",
              "        <td style=\"padding-left: 1em; padding-right: 1em; text-align: center; vertical-align: top\">Just, &#x27;cause, I don&#x27;t<br>want her to go through ...</td>\n",
              "        <td style=\"padding-left: 1em; padding-right: 1em; text-align: center; vertical-align: top\">4.0</td>\n",
              "        <td style=\"padding-left: 1em; padding-right: 1em; text-align: center; vertical-align: top\">1.0</td>\n",
              "    </tr>\n",
              "    <tr>\n",
              "        <td style=\"padding-left: 1em; padding-right: 1em; text-align: center; vertical-align: top\">Monica</td>\n",
              "        <td style=\"padding-left: 1em; padding-right: 1em; text-align: center; vertical-align: top\">1.0</td>\n",
              "        <td style=\"padding-left: 1em; padding-right: 1em; text-align: center; vertical-align: top\">Monica Gets A Roommate</td>\n",
              "        <td style=\"padding-left: 1em; padding-right: 1em; text-align: center; vertical-align: top\">Okay, everybody relax.<br>This is not even a date. ...</td>\n",
              "        <td style=\"padding-left: 1em; padding-right: 1em; text-align: center; vertical-align: top\">5.0</td>\n",
              "        <td style=\"padding-left: 1em; padding-right: 1em; text-align: center; vertical-align: top\">1.0</td>\n",
              "    </tr>\n",
              "    <tr>\n",
              "        <td style=\"padding-left: 1em; padding-right: 1em; text-align: center; vertical-align: top\">Chandler</td>\n",
              "        <td style=\"padding-left: 1em; padding-right: 1em; text-align: center; vertical-align: top\">1.0</td>\n",
              "        <td style=\"padding-left: 1em; padding-right: 1em; text-align: center; vertical-align: top\">Monica Gets A Roommate</td>\n",
              "        <td style=\"padding-left: 1em; padding-right: 1em; text-align: center; vertical-align: top\">Sounds like a date to me.</td>\n",
              "        <td style=\"padding-left: 1em; padding-right: 1em; text-align: center; vertical-align: top\">6.0</td>\n",
              "        <td style=\"padding-left: 1em; padding-right: 1em; text-align: center; vertical-align: top\">1.0</td>\n",
              "    </tr>\n",
              "    <tr>\n",
              "        <td style=\"padding-left: 1em; padding-right: 1em; text-align: center; vertical-align: top\">Chandler</td>\n",
              "        <td style=\"padding-left: 1em; padding-right: 1em; text-align: center; vertical-align: top\">1.0</td>\n",
              "        <td style=\"padding-left: 1em; padding-right: 1em; text-align: center; vertical-align: top\">Monica Gets A Roommate</td>\n",
              "        <td style=\"padding-left: 1em; padding-right: 1em; text-align: center; vertical-align: top\">Alright, so I&#x27;m back in<br>high school, I&#x27;m stan ...</td>\n",
              "        <td style=\"padding-left: 1em; padding-right: 1em; text-align: center; vertical-align: top\">7.0</td>\n",
              "        <td style=\"padding-left: 1em; padding-right: 1em; text-align: center; vertical-align: top\">1.0</td>\n",
              "    </tr>\n",
              "    <tr>\n",
              "        <td style=\"padding-left: 1em; padding-right: 1em; text-align: center; vertical-align: top\">All</td>\n",
              "        <td style=\"padding-left: 1em; padding-right: 1em; text-align: center; vertical-align: top\">1.0</td>\n",
              "        <td style=\"padding-left: 1em; padding-right: 1em; text-align: center; vertical-align: top\">Monica Gets A Roommate</td>\n",
              "        <td style=\"padding-left: 1em; padding-right: 1em; text-align: center; vertical-align: top\">Oh, yeah. Had that dream.</td>\n",
              "        <td style=\"padding-left: 1em; padding-right: 1em; text-align: center; vertical-align: top\">8.0</td>\n",
              "        <td style=\"padding-left: 1em; padding-right: 1em; text-align: center; vertical-align: top\">1.0</td>\n",
              "    </tr>\n",
              "    <tr>\n",
              "        <td style=\"padding-left: 1em; padding-right: 1em; text-align: center; vertical-align: top\">Chandler</td>\n",
              "        <td style=\"padding-left: 1em; padding-right: 1em; text-align: center; vertical-align: top\">1.0</td>\n",
              "        <td style=\"padding-left: 1em; padding-right: 1em; text-align: center; vertical-align: top\">Monica Gets A Roommate</td>\n",
              "        <td style=\"padding-left: 1em; padding-right: 1em; text-align: center; vertical-align: top\">Then I look down, and I<br>realize there&#x27;s a ...</td>\n",
              "        <td style=\"padding-left: 1em; padding-right: 1em; text-align: center; vertical-align: top\">9.0</td>\n",
              "        <td style=\"padding-left: 1em; padding-right: 1em; text-align: center; vertical-align: top\">1.0</td>\n",
              "    </tr>\n",
              "</table>\n",
              "<table frame=\"box\" rules=\"cols\">\n",
              "    <tr>\n",
              "        <th style=\"padding-left: 1em; padding-right: 1em; text-align: center\">vector</th>\n",
              "    </tr>\n",
              "    <tr>\n",
              "        <td style=\"padding-left: 1em; padding-right: 1em; text-align: center; vertical-align: top\">[-6.18888177e-02<br>2.65797228e-01 ...</td>\n",
              "    </tr>\n",
              "    <tr>\n",
              "        <td style=\"padding-left: 1em; padding-right: 1em; text-align: center; vertical-align: top\">[-1.22622110e-01<br>1.81547493e-01 ...</td>\n",
              "    </tr>\n",
              "    <tr>\n",
              "        <td style=\"padding-left: 1em; padding-right: 1em; text-align: center; vertical-align: top\">[-9.82086826e-03<br>9.88112614e-02 ...</td>\n",
              "    </tr>\n",
              "    <tr>\n",
              "        <td style=\"padding-left: 1em; padding-right: 1em; text-align: center; vertical-align: top\">[-3.71425711e-02<br>2.29819149e-01 ...</td>\n",
              "    </tr>\n",
              "    <tr>\n",
              "        <td style=\"padding-left: 1em; padding-right: 1em; text-align: center; vertical-align: top\">[ 4.21000049e-02<br>2.36502886e-01 ...</td>\n",
              "    </tr>\n",
              "    <tr>\n",
              "        <td style=\"padding-left: 1em; padding-right: 1em; text-align: center; vertical-align: top\">[-1.00040007e-02<br>1.46241844e-01 ...</td>\n",
              "    </tr>\n",
              "    <tr>\n",
              "        <td style=\"padding-left: 1em; padding-right: 1em; text-align: center; vertical-align: top\">[ 4.51041423e-02<br>1.73930570e-01 ...</td>\n",
              "    </tr>\n",
              "    <tr>\n",
              "        <td style=\"padding-left: 1em; padding-right: 1em; text-align: center; vertical-align: top\">[ 1.14625013e-02<br>2.69849598e-01 ...</td>\n",
              "    </tr>\n",
              "    <tr>\n",
              "        <td style=\"padding-left: 1em; padding-right: 1em; text-align: center; vertical-align: top\">[ 2.19136756e-03<br>2.69333631e-01 ...</td>\n",
              "    </tr>\n",
              "    <tr>\n",
              "        <td style=\"padding-left: 1em; padding-right: 1em; text-align: center; vertical-align: top\">[ 7.12726032e-03<br>2.44098589e-01 ...</td>\n",
              "    </tr>\n",
              "</table>\n",
              "[60291 rows x 7 columns]<br/>Note: Only the head of the SFrame is printed.<br/>You can use print_rows(num_rows=m, num_columns=n) to print more rows and columns.\n",
              "</div>"
            ],
            "text/plain": [
              "Columns:\n",
              "\tauthor\tstr\n",
              "\tepisode_number\tfloat\n",
              "\tepisode_title\tstr\n",
              "\tquote\tstr\n",
              "\tquote_order\tfloat\n",
              "\tseason\tfloat\n",
              "\tvector\tndarray\n",
              "\n",
              "Rows: 60291\n",
              "\n",
              "Data:\n",
              "+----------+----------------+------------------------+\n",
              "|  author  | episode_number |     episode_title      |\n",
              "+----------+----------------+------------------------+\n",
              "|  Monica  |      1.0       | Monica Gets A Roommate |\n",
              "|   Joey   |      1.0       | Monica Gets A Roommate |\n",
              "| Chandler |      1.0       | Monica Gets A Roommate |\n",
              "|  Phoebe  |      1.0       | Monica Gets A Roommate |\n",
              "|  Phoebe  |      1.0       | Monica Gets A Roommate |\n",
              "|  Monica  |      1.0       | Monica Gets A Roommate |\n",
              "| Chandler |      1.0       | Monica Gets A Roommate |\n",
              "| Chandler |      1.0       | Monica Gets A Roommate |\n",
              "|   All    |      1.0       | Monica Gets A Roommate |\n",
              "| Chandler |      1.0       | Monica Gets A Roommate |\n",
              "+----------+----------------+------------------------+\n",
              "+-------------------------------+-------------+--------+\n",
              "|             quote             | quote_order | season |\n",
              "+-------------------------------+-------------+--------+\n",
              "| There's nothing to tell! H... |     0.0     |  1.0   |\n",
              "| C'mon, you're going out wi... |     1.0     |  1.0   |\n",
              "| All right Joey, be nice. S... |     2.0     |  1.0   |\n",
              "|    Wait, does he eat chalk?   |     3.0     |  1.0   |\n",
              "| Just, 'cause, I don't want... |     4.0     |  1.0   |\n",
              "| Okay, everybody relax. Thi... |     5.0     |  1.0   |\n",
              "|   Sounds like a date to me.   |     6.0     |  1.0   |\n",
              "| Alright, so I'm back in hi... |     7.0     |  1.0   |\n",
              "|   Oh, yeah. Had that dream.   |     8.0     |  1.0   |\n",
              "| Then I look down, and I re... |     9.0     |  1.0   |\n",
              "+-------------------------------+-------------+--------+\n",
              "+-------------------------------+\n",
              "|             vector            |\n",
              "+-------------------------------+\n",
              "| [-6.18888177e-02  2.657972... |\n",
              "| [-1.22622110e-01  1.815474... |\n",
              "| [-9.82086826e-03  9.881126... |\n",
              "| [-3.71425711e-02  2.298191... |\n",
              "| [ 4.21000049e-02  2.365028... |\n",
              "| [-1.00040007e-02  1.462418... |\n",
              "| [ 4.51041423e-02  1.739305... |\n",
              "| [ 1.14625013e-02  2.698495... |\n",
              "| [ 2.19136756e-03  2.693336... |\n",
              "| [ 7.12726032e-03  2.440985... |\n",
              "+-------------------------------+\n",
              "[60291 rows x 7 columns]\n",
              "Note: Only the head of the SFrame is printed.\n",
              "You can use print_rows(num_rows=m, num_columns=n) to print more rows and columns."
            ]
          },
          "metadata": {},
          "execution_count": 24
        }
      ]
    },
    {
      "cell_type": "code",
      "source": [
        "train,test = sf.random_split(0.8)\n",
        "cls = tc.classifier.create(train[:5000], features=[\"vector\"], target=\"author\") # I took only a portion of the data so the program won't stuck"
      ],
      "metadata": {
        "colab": {
          "base_uri": "https://localhost:8080/",
          "height": 1000
        },
        "id": "qsndHXU3zuaf",
        "outputId": "9c4c587c-04e5-4e0d-c3c4-0225e68abe1d"
      },
      "execution_count": 48,
      "outputs": [
        {
          "output_type": "stream",
          "name": "stdout",
          "text": [
            "PROGRESS: Creating a validation set from 5 percent of training data. This may take a while.\n",
            "          You can set ``validation_set=None`` to disable validation tracking.\n",
            "\n",
            "PROGRESS: The following methods are available for this type of problem.\n",
            "PROGRESS: BoostedTreesClassifier, RandomForestClassifier, DecisionTreeClassifier, LogisticClassifier\n",
            "PROGRESS: The returned model will be chosen according to validation accuracy.\n"
          ]
        },
        {
          "output_type": "display_data",
          "data": {
            "text/html": [
              "<pre>Boosted trees classifier:</pre>"
            ],
            "text/plain": [
              "Boosted trees classifier:"
            ]
          },
          "metadata": {}
        },
        {
          "output_type": "display_data",
          "data": {
            "text/html": [
              "<pre>--------------------------------------------------------</pre>"
            ],
            "text/plain": [
              "--------------------------------------------------------"
            ]
          },
          "metadata": {}
        },
        {
          "output_type": "display_data",
          "data": {
            "text/html": [
              "<pre>Number of examples          : 4750</pre>"
            ],
            "text/plain": [
              "Number of examples          : 4750"
            ]
          },
          "metadata": {}
        },
        {
          "output_type": "display_data",
          "data": {
            "text/html": [
              "<pre>Number of classes           : 151</pre>"
            ],
            "text/plain": [
              "Number of classes           : 151"
            ]
          },
          "metadata": {}
        },
        {
          "output_type": "display_data",
          "data": {
            "text/html": [
              "<pre>Number of feature columns   : 1</pre>"
            ],
            "text/plain": [
              "Number of feature columns   : 1"
            ]
          },
          "metadata": {}
        },
        {
          "output_type": "display_data",
          "data": {
            "text/html": [
              "<pre>Number of unpacked features : 300</pre>"
            ],
            "text/plain": [
              "Number of unpacked features : 300"
            ]
          },
          "metadata": {}
        },
        {
          "output_type": "display_data",
          "data": {
            "text/html": [
              "<pre>+-----------+--------------+-------------------+---------------------+-------------------+---------------------+</pre>"
            ],
            "text/plain": [
              "+-----------+--------------+-------------------+---------------------+-------------------+---------------------+"
            ]
          },
          "metadata": {}
        },
        {
          "output_type": "display_data",
          "data": {
            "text/html": [
              "<pre>| Iteration | Elapsed Time | Training Accuracy | Validation Accuracy | Training Log Loss | Validation Log Loss |</pre>"
            ],
            "text/plain": [
              "| Iteration | Elapsed Time | Training Accuracy | Validation Accuracy | Training Log Loss | Validation Log Loss |"
            ]
          },
          "metadata": {}
        },
        {
          "output_type": "display_data",
          "data": {
            "text/html": [
              "<pre>+-----------+--------------+-------------------+---------------------+-------------------+---------------------+</pre>"
            ],
            "text/plain": [
              "+-----------+--------------+-------------------+---------------------+-------------------+---------------------+"
            ]
          },
          "metadata": {}
        },
        {
          "output_type": "display_data",
          "data": {
            "text/html": [
              "<pre>| 1         | 12.625680    | 0.241053          | 0.212851            | 2.664319          | 3.385149            |</pre>"
            ],
            "text/plain": [
              "| 1         | 12.625680    | 0.241053          | 0.212851            | 2.664319          | 3.385149            |"
            ]
          },
          "metadata": {}
        },
        {
          "output_type": "display_data",
          "data": {
            "text/html": [
              "<pre>| 2         | 24.102761    | 0.327158          | 0.212851            | 2.178091          | 3.231427            |</pre>"
            ],
            "text/plain": [
              "| 2         | 24.102761    | 0.327158          | 0.212851            | 2.178091          | 3.231427            |"
            ]
          },
          "metadata": {}
        },
        {
          "output_type": "display_data",
          "data": {
            "text/html": [
              "<pre>| 3         | 35.443699    | 0.448421          | 0.188755            | 1.862946          | 3.177164            |</pre>"
            ],
            "text/plain": [
              "| 3         | 35.443699    | 0.448421          | 0.188755            | 1.862946          | 3.177164            |"
            ]
          },
          "metadata": {}
        },
        {
          "output_type": "display_data",
          "data": {
            "text/html": [
              "<pre>| 4         | 46.976577    | 0.562105          | 0.164659            | 1.635625          | 3.131626            |</pre>"
            ],
            "text/plain": [
              "| 4         | 46.976577    | 0.562105          | 0.164659            | 1.635625          | 3.131626            |"
            ]
          },
          "metadata": {}
        },
        {
          "output_type": "display_data",
          "data": {
            "text/html": [
              "<pre>| 5         | 58.212445    | 0.646316          | 0.176707            | 1.452773          | 3.094759            |</pre>"
            ],
            "text/plain": [
              "| 5         | 58.212445    | 0.646316          | 0.176707            | 1.452773          | 3.094759            |"
            ]
          },
          "metadata": {}
        },
        {
          "output_type": "display_data",
          "data": {
            "text/html": [
              "<pre>| 7         | 80.531419    | 0.772632          | 0.180723            | 1.177131          | 3.047877            |</pre>"
            ],
            "text/plain": [
              "| 7         | 80.531419    | 0.772632          | 0.180723            | 1.177131          | 3.047877            |"
            ]
          },
          "metadata": {}
        },
        {
          "output_type": "display_data",
          "data": {
            "text/html": [
              "<pre>| 8         | 91.695030    | 0.812842          | 0.180723            | 1.067462          | 3.044730            |</pre>"
            ],
            "text/plain": [
              "| 8         | 91.695030    | 0.812842          | 0.180723            | 1.067462          | 3.044730            |"
            ]
          },
          "metadata": {}
        },
        {
          "output_type": "display_data",
          "data": {
            "text/html": [
              "<pre>| 9         | 102.856869   | 0.844421          | 0.188755            | 0.978430          | 3.038519            |</pre>"
            ],
            "text/plain": [
              "| 9         | 102.856869   | 0.844421          | 0.188755            | 0.978430          | 3.038519            |"
            ]
          },
          "metadata": {}
        },
        {
          "output_type": "display_data",
          "data": {
            "text/html": [
              "<pre>| 10        | 114.053290   | 0.873684          | 0.196787            | 0.890822          | 3.029525            |</pre>"
            ],
            "text/plain": [
              "| 10        | 114.053290   | 0.873684          | 0.196787            | 0.890822          | 3.029525            |"
            ]
          },
          "metadata": {}
        },
        {
          "output_type": "display_data",
          "data": {
            "text/html": [
              "<pre>+-----------+--------------+-------------------+---------------------+-------------------+---------------------+</pre>"
            ],
            "text/plain": [
              "+-----------+--------------+-------------------+---------------------+-------------------+---------------------+"
            ]
          },
          "metadata": {}
        },
        {
          "output_type": "display_data",
          "data": {
            "text/html": [
              "<pre>Random forest classifier:</pre>"
            ],
            "text/plain": [
              "Random forest classifier:"
            ]
          },
          "metadata": {}
        },
        {
          "output_type": "display_data",
          "data": {
            "text/html": [
              "<pre>--------------------------------------------------------</pre>"
            ],
            "text/plain": [
              "--------------------------------------------------------"
            ]
          },
          "metadata": {}
        },
        {
          "output_type": "display_data",
          "data": {
            "text/html": [
              "<pre>Number of examples          : 4750</pre>"
            ],
            "text/plain": [
              "Number of examples          : 4750"
            ]
          },
          "metadata": {}
        },
        {
          "output_type": "display_data",
          "data": {
            "text/html": [
              "<pre>Number of classes           : 151</pre>"
            ],
            "text/plain": [
              "Number of classes           : 151"
            ]
          },
          "metadata": {}
        },
        {
          "output_type": "display_data",
          "data": {
            "text/html": [
              "<pre>Number of feature columns   : 1</pre>"
            ],
            "text/plain": [
              "Number of feature columns   : 1"
            ]
          },
          "metadata": {}
        },
        {
          "output_type": "display_data",
          "data": {
            "text/html": [
              "<pre>Number of unpacked features : 300</pre>"
            ],
            "text/plain": [
              "Number of unpacked features : 300"
            ]
          },
          "metadata": {}
        },
        {
          "output_type": "display_data",
          "data": {
            "text/html": [
              "<pre>+-----------+--------------+-------------------+---------------------+-------------------+---------------------+</pre>"
            ],
            "text/plain": [
              "+-----------+--------------+-------------------+---------------------+-------------------+---------------------+"
            ]
          },
          "metadata": {}
        },
        {
          "output_type": "display_data",
          "data": {
            "text/html": [
              "<pre>| Iteration | Elapsed Time | Training Accuracy | Validation Accuracy | Training Log Loss | Validation Log Loss |</pre>"
            ],
            "text/plain": [
              "| Iteration | Elapsed Time | Training Accuracy | Validation Accuracy | Training Log Loss | Validation Log Loss |"
            ]
          },
          "metadata": {}
        },
        {
          "output_type": "display_data",
          "data": {
            "text/html": [
              "<pre>+-----------+--------------+-------------------+---------------------+-------------------+---------------------+</pre>"
            ],
            "text/plain": [
              "+-----------+--------------+-------------------+---------------------+-------------------+---------------------+"
            ]
          },
          "metadata": {}
        },
        {
          "output_type": "display_data",
          "data": {
            "text/html": [
              "<pre>| 1         | 9.027695     | 0.240421          | 0.200803            | 4.817222          | 6.796240            |</pre>"
            ],
            "text/plain": [
              "| 1         | 9.027695     | 0.240421          | 0.200803            | 4.817222          | 6.796240            |"
            ]
          },
          "metadata": {}
        },
        {
          "output_type": "display_data",
          "data": {
            "text/html": [
              "<pre>| 2         | 18.031265    | 0.277053          | 0.200803            | 4.083407          | 5.820568            |</pre>"
            ],
            "text/plain": [
              "| 2         | 18.031265    | 0.277053          | 0.200803            | 4.083407          | 5.820568            |"
            ]
          },
          "metadata": {}
        },
        {
          "output_type": "display_data",
          "data": {
            "text/html": [
              "<pre>| 3         | 26.958506    | 0.293684          | 0.200803            | 3.917697          | 5.698841            |</pre>"
            ],
            "text/plain": [
              "| 3         | 26.958506    | 0.293684          | 0.200803            | 3.917697          | 5.698841            |"
            ]
          },
          "metadata": {}
        },
        {
          "output_type": "display_data",
          "data": {
            "text/html": [
              "<pre>| 4         | 35.817518    | 0.308211          | 0.220884            | 3.693607          | 5.451978            |</pre>"
            ],
            "text/plain": [
              "| 4         | 35.817518    | 0.308211          | 0.220884            | 3.693607          | 5.451978            |"
            ]
          },
          "metadata": {}
        },
        {
          "output_type": "display_data",
          "data": {
            "text/html": [
              "<pre>| 5         | 44.974554    | 0.314105          | 0.220884            | 3.618824          | 5.291179            |</pre>"
            ],
            "text/plain": [
              "| 5         | 44.974554    | 0.314105          | 0.220884            | 3.618824          | 5.291179            |"
            ]
          },
          "metadata": {}
        },
        {
          "output_type": "display_data",
          "data": {
            "text/html": [
              "<pre>| 7         | 62.784309    | 0.322947          | 0.248996            | 3.485884          | 5.137588            |</pre>"
            ],
            "text/plain": [
              "| 7         | 62.784309    | 0.322947          | 0.248996            | 3.485884          | 5.137588            |"
            ]
          },
          "metadata": {}
        },
        {
          "output_type": "display_data",
          "data": {
            "text/html": [
              "<pre>| 8         | 71.894884    | 0.318737          | 0.236948            | 3.486758          | 5.165069            |</pre>"
            ],
            "text/plain": [
              "| 8         | 71.894884    | 0.318737          | 0.236948            | 3.486758          | 5.165069            |"
            ]
          },
          "metadata": {}
        },
        {
          "output_type": "display_data",
          "data": {
            "text/html": [
              "<pre>| 9         | 80.893719    | 0.319789          | 0.224900            | 3.434495          | 5.117460            |</pre>"
            ],
            "text/plain": [
              "| 9         | 80.893719    | 0.319789          | 0.224900            | 3.434495          | 5.117460            |"
            ]
          },
          "metadata": {}
        },
        {
          "output_type": "display_data",
          "data": {
            "text/html": [
              "<pre>| 10        | 89.866459    | 0.321474          | 0.244980            | 3.413318          | 5.091023            |</pre>"
            ],
            "text/plain": [
              "| 10        | 89.866459    | 0.321474          | 0.244980            | 3.413318          | 5.091023            |"
            ]
          },
          "metadata": {}
        },
        {
          "output_type": "display_data",
          "data": {
            "text/html": [
              "<pre>+-----------+--------------+-------------------+---------------------+-------------------+---------------------+</pre>"
            ],
            "text/plain": [
              "+-----------+--------------+-------------------+---------------------+-------------------+---------------------+"
            ]
          },
          "metadata": {}
        },
        {
          "output_type": "display_data",
          "data": {
            "text/html": [
              "<pre>Decision tree classifier:</pre>"
            ],
            "text/plain": [
              "Decision tree classifier:"
            ]
          },
          "metadata": {}
        },
        {
          "output_type": "display_data",
          "data": {
            "text/html": [
              "<pre>--------------------------------------------------------</pre>"
            ],
            "text/plain": [
              "--------------------------------------------------------"
            ]
          },
          "metadata": {}
        },
        {
          "output_type": "display_data",
          "data": {
            "text/html": [
              "<pre>Number of examples          : 4750</pre>"
            ],
            "text/plain": [
              "Number of examples          : 4750"
            ]
          },
          "metadata": {}
        },
        {
          "output_type": "display_data",
          "data": {
            "text/html": [
              "<pre>Number of classes           : 151</pre>"
            ],
            "text/plain": [
              "Number of classes           : 151"
            ]
          },
          "metadata": {}
        },
        {
          "output_type": "display_data",
          "data": {
            "text/html": [
              "<pre>Number of feature columns   : 1</pre>"
            ],
            "text/plain": [
              "Number of feature columns   : 1"
            ]
          },
          "metadata": {}
        },
        {
          "output_type": "display_data",
          "data": {
            "text/html": [
              "<pre>Number of unpacked features : 300</pre>"
            ],
            "text/plain": [
              "Number of unpacked features : 300"
            ]
          },
          "metadata": {}
        },
        {
          "output_type": "display_data",
          "data": {
            "text/html": [
              "<pre>+-----------+--------------+-------------------+---------------------+-------------------+---------------------+</pre>"
            ],
            "text/plain": [
              "+-----------+--------------+-------------------+---------------------+-------------------+---------------------+"
            ]
          },
          "metadata": {}
        },
        {
          "output_type": "display_data",
          "data": {
            "text/html": [
              "<pre>| Iteration | Elapsed Time | Training Accuracy | Validation Accuracy | Training Log Loss | Validation Log Loss |</pre>"
            ],
            "text/plain": [
              "| Iteration | Elapsed Time | Training Accuracy | Validation Accuracy | Training Log Loss | Validation Log Loss |"
            ]
          },
          "metadata": {}
        },
        {
          "output_type": "display_data",
          "data": {
            "text/html": [
              "<pre>+-----------+--------------+-------------------+---------------------+-------------------+---------------------+</pre>"
            ],
            "text/plain": [
              "+-----------+--------------+-------------------+---------------------+-------------------+---------------------+"
            ]
          },
          "metadata": {}
        },
        {
          "output_type": "display_data",
          "data": {
            "text/html": [
              "<pre>| 1         | 12.648405    | 0.241053          | 0.212851            | 4.269420          | 6.595407            |</pre>"
            ],
            "text/plain": [
              "| 1         | 12.648405    | 0.241053          | 0.212851            | 4.269420          | 6.595407            |"
            ]
          },
          "metadata": {}
        },
        {
          "output_type": "display_data",
          "data": {
            "text/html": [
              "<pre>+-----------+--------------+-------------------+---------------------+-------------------+---------------------+</pre>"
            ],
            "text/plain": [
              "+-----------+--------------+-------------------+---------------------+-------------------+---------------------+"
            ]
          },
          "metadata": {}
        },
        {
          "output_type": "display_data",
          "data": {
            "text/html": [
              "<pre>Logistic regression:</pre>"
            ],
            "text/plain": [
              "Logistic regression:"
            ]
          },
          "metadata": {}
        },
        {
          "output_type": "display_data",
          "data": {
            "text/html": [
              "<pre>--------------------------------------------------------</pre>"
            ],
            "text/plain": [
              "--------------------------------------------------------"
            ]
          },
          "metadata": {}
        },
        {
          "output_type": "display_data",
          "data": {
            "text/html": [
              "<pre>Number of examples          : 4750</pre>"
            ],
            "text/plain": [
              "Number of examples          : 4750"
            ]
          },
          "metadata": {}
        },
        {
          "output_type": "display_data",
          "data": {
            "text/html": [
              "<pre>Number of classes           : 151</pre>"
            ],
            "text/plain": [
              "Number of classes           : 151"
            ]
          },
          "metadata": {}
        },
        {
          "output_type": "display_data",
          "data": {
            "text/html": [
              "<pre>Number of feature columns   : 1</pre>"
            ],
            "text/plain": [
              "Number of feature columns   : 1"
            ]
          },
          "metadata": {}
        },
        {
          "output_type": "display_data",
          "data": {
            "text/html": [
              "<pre>Number of unpacked features : 300</pre>"
            ],
            "text/plain": [
              "Number of unpacked features : 300"
            ]
          },
          "metadata": {}
        },
        {
          "output_type": "display_data",
          "data": {
            "text/html": [
              "<pre>Number of coefficients      : 45150</pre>"
            ],
            "text/plain": [
              "Number of coefficients      : 45150"
            ]
          },
          "metadata": {}
        },
        {
          "output_type": "display_data",
          "data": {
            "text/html": [
              "<pre>Starting L-BFGS</pre>"
            ],
            "text/plain": [
              "Starting L-BFGS"
            ]
          },
          "metadata": {}
        },
        {
          "output_type": "display_data",
          "data": {
            "text/html": [
              "<pre>--------------------------------------------------------</pre>"
            ],
            "text/plain": [
              "--------------------------------------------------------"
            ]
          },
          "metadata": {}
        },
        {
          "output_type": "display_data",
          "data": {
            "text/html": [
              "<pre>+-----------+----------+-----------+--------------+-------------------+---------------------+</pre>"
            ],
            "text/plain": [
              "+-----------+----------+-----------+--------------+-------------------+---------------------+"
            ]
          },
          "metadata": {}
        },
        {
          "output_type": "display_data",
          "data": {
            "text/html": [
              "<pre>| Iteration | Passes   | Step size | Elapsed Time | Training Accuracy | Validation Accuracy |</pre>"
            ],
            "text/plain": [
              "| Iteration | Passes   | Step size | Elapsed Time | Training Accuracy | Validation Accuracy |"
            ]
          },
          "metadata": {}
        },
        {
          "output_type": "display_data",
          "data": {
            "text/html": [
              "<pre>+-----------+----------+-----------+--------------+-------------------+---------------------+</pre>"
            ],
            "text/plain": [
              "+-----------+----------+-----------+--------------+-------------------+---------------------+"
            ]
          },
          "metadata": {}
        },
        {
          "output_type": "display_data",
          "data": {
            "text/html": [
              "<pre>| 0         | 2        | 1.000000  | 0.825538     | 0.193263          | 0.200000            |</pre>"
            ],
            "text/plain": [
              "| 0         | 2        | 1.000000  | 0.825538     | 0.193263          | 0.200000            |"
            ]
          },
          "metadata": {}
        },
        {
          "output_type": "display_data",
          "data": {
            "text/html": [
              "<pre>| 1         | 4        | 1.000000  | 2.033297     | 0.173263          | 0.176000            |</pre>"
            ],
            "text/plain": [
              "| 1         | 4        | 1.000000  | 2.033297     | 0.173263          | 0.176000            |"
            ]
          },
          "metadata": {}
        },
        {
          "output_type": "display_data",
          "data": {
            "text/html": [
              "<pre>| 2         | 9        | 0.558773  | 4.415693     | 0.201474          | 0.212000            |</pre>"
            ],
            "text/plain": [
              "| 2         | 9        | 0.558773  | 4.415693     | 0.201474          | 0.212000            |"
            ]
          },
          "metadata": {}
        },
        {
          "output_type": "display_data",
          "data": {
            "text/html": [
              "<pre>| 3         | 16       | 7.859838  | 7.571094     | 0.231368          | 0.240000            |</pre>"
            ],
            "text/plain": [
              "| 3         | 16       | 7.859838  | 7.571094     | 0.231368          | 0.240000            |"
            ]
          },
          "metadata": {}
        },
        {
          "output_type": "display_data",
          "data": {
            "text/html": [
              "<pre>| 4         | 18       | 7.335208  | 8.770215     | 0.195158          | 0.140000            |</pre>"
            ],
            "text/plain": [
              "| 4         | 18       | 7.335208  | 8.770215     | 0.195158          | 0.140000            |"
            ]
          },
          "metadata": {}
        },
        {
          "output_type": "display_data",
          "data": {
            "text/html": [
              "<pre>| 9         | 34       | 0.947072  | 17.147870    | 0.284632          | 0.256000            |</pre>"
            ],
            "text/plain": [
              "| 9         | 34       | 0.947072  | 17.147870    | 0.284632          | 0.256000            |"
            ]
          },
          "metadata": {}
        },
        {
          "output_type": "display_data",
          "data": {
            "text/html": [
              "<pre>+-----------+----------+-----------+--------------+-------------------+---------------------+</pre>"
            ],
            "text/plain": [
              "+-----------+----------+-----------+--------------+-------------------+---------------------+"
            ]
          },
          "metadata": {}
        },
        {
          "output_type": "stream",
          "name": "stdout",
          "text": [
            "PROGRESS: Model selection based on validation accuracy:\n",
            "PROGRESS: ---------------------------------------------\n",
            "PROGRESS: BoostedTreesClassifier          : 0.196\n",
            "PROGRESS: RandomForestClassifier          : 0.244\n",
            "PROGRESS: DecisionTreeClassifier          : 0.212\n",
            "PROGRESS: LogisticClassifier              : 0.256\n",
            "PROGRESS: ---------------------------------------------\n",
            "PROGRESS: Selecting LogisticClassifier based on validation set performance.\n"
          ]
        }
      ]
    },
    {
      "cell_type": "code",
      "source": [
        "cls.evaluate(test[:1000])"
      ],
      "metadata": {
        "colab": {
          "base_uri": "https://localhost:8080/"
        },
        "id": "j316SK5A0AwP",
        "outputId": "e4e3132d-ab6c-4485-a890-d393abe5f37a"
      },
      "execution_count": 49,
      "outputs": [
        {
          "output_type": "execute_result",
          "data": {
            "text/plain": [
              "{'accuracy': 0.257, 'auc': nan, 'confusion_matrix': Columns:\n",
              " \ttarget_label\tstr\n",
              " \tpredicted_label\tstr\n",
              " \tcount\tint\n",
              " \n",
              " Rows: 180\n",
              " \n",
              " Data:\n",
              " +--------------+-----------------+-------+\n",
              " | target_label | predicted_label | count |\n",
              " +--------------+-----------------+-------+\n",
              " |    Angela    |     Chandler    |   1   |\n",
              " |  Mr. Geller  |      Monica     |   3   |\n",
              " |     All      |       Joey      |   2   |\n",
              " |  Pizza Guy   |      Phoebe     |   2   |\n",
              " |    Leslie    |      Monica     |   1   |\n",
              " |    Woman     |       Ross      |   2   |\n",
              " |  Mrs. Bing   |      Monica     |   1   |\n",
              " |     Kiki     |     Chandler    |   1   |\n",
              " |    Paula     |       Joey      |   1   |\n",
              " |    Carol     |     Chandler    |   1   |\n",
              " +--------------+-----------------+-------+\n",
              " [180 rows x 3 columns]\n",
              " Note: Only the head of the SFrame is printed.\n",
              " You can use print_rows(num_rows=m, num_columns=n) to print more rows and columns., 'f1_score': 0.1647980932560064, 'log_loss': 2.972775325753931, 'precision': 0.7221058598379466, 'recall': 0.1702056597905744, 'roc_curve': Columns:\n",
              " \tthreshold\tfloat\n",
              " \tfpr\tfloat\n",
              " \ttpr\tfloat\n",
              " \tp\tint\n",
              " \tn\tint\n",
              " \tclass\tint\n",
              " \n",
              " Rows: 151151\n",
              " \n",
              " Data:\n",
              " +-----------+----------------------+-----+---+-----+-------+\n",
              " | threshold |         fpr          | tpr | p |  n  | class |\n",
              " +-----------+----------------------+-----+---+-----+-------+\n",
              " |    0.0    |         1.0          | nan | 0 | 986 |   0   |\n",
              " |   0.001   | 0.25456389452332656  | nan | 0 | 986 |   0   |\n",
              " |   0.002   | 0.030425963488843813 | nan | 0 | 986 |   0   |\n",
              " |   0.003   | 0.010141987829614604 | nan | 0 | 986 |   0   |\n",
              " |   0.004   | 0.004056795131845842 | nan | 0 | 986 |   0   |\n",
              " |   0.005   | 0.002028397565922921 | nan | 0 | 986 |   0   |\n",
              " |   0.006   | 0.002028397565922921 | nan | 0 | 986 |   0   |\n",
              " |   0.007   |         0.0          | nan | 0 | 986 |   0   |\n",
              " |   0.008   |         0.0          | nan | 0 | 986 |   0   |\n",
              " |   0.009   |         0.0          | nan | 0 | 986 |   0   |\n",
              " +-----------+----------------------+-----+---+-----+-------+\n",
              " [151151 rows x 6 columns]\n",
              " Note: Only the head of the SFrame is printed.\n",
              " You can use print_rows(num_rows=m, num_columns=n) to print more rows and columns.}"
            ]
          },
          "metadata": {},
          "execution_count": 49
        }
      ]
    },
    {
      "cell_type": "code",
      "source": [
        "# Using sentiment analysis identify who are the most and less friendly friends (20pt)\n",
        "\n",
        "from afinn import Afinn\n",
        "afinn = Afinn()\n",
        "\n",
        "sf['score'] = sf['quote'].apply(lambda t: afinn.score(t))\n",
        "sf"
      ],
      "metadata": {
        "colab": {
          "base_uri": "https://localhost:8080/",
          "height": 794
        },
        "id": "s9QFe2b00CWT",
        "outputId": "9ce7a45c-920e-4b87-9773-11dd46268787"
      },
      "execution_count": 50,
      "outputs": [
        {
          "output_type": "execute_result",
          "data": {
            "text/html": [
              "<div style=\"max-height:1000px;max-width:1500px;overflow:auto;\"><table frame=\"box\" rules=\"cols\">\n",
              "    <tr>\n",
              "        <th style=\"padding-left: 1em; padding-right: 1em; text-align: center\">author</th>\n",
              "        <th style=\"padding-left: 1em; padding-right: 1em; text-align: center\">episode_number</th>\n",
              "        <th style=\"padding-left: 1em; padding-right: 1em; text-align: center\">episode_title</th>\n",
              "        <th style=\"padding-left: 1em; padding-right: 1em; text-align: center\">quote</th>\n",
              "        <th style=\"padding-left: 1em; padding-right: 1em; text-align: center\">quote_order</th>\n",
              "        <th style=\"padding-left: 1em; padding-right: 1em; text-align: center\">season</th>\n",
              "    </tr>\n",
              "    <tr>\n",
              "        <td style=\"padding-left: 1em; padding-right: 1em; text-align: center; vertical-align: top\">Monica</td>\n",
              "        <td style=\"padding-left: 1em; padding-right: 1em; text-align: center; vertical-align: top\">1</td>\n",
              "        <td style=\"padding-left: 1em; padding-right: 1em; text-align: center; vertical-align: top\">Monica Gets A Roommate</td>\n",
              "        <td style=\"padding-left: 1em; padding-right: 1em; text-align: center; vertical-align: top\">There&#x27;s nothing to tell!<br>He&#x27;s just some guy I  ...</td>\n",
              "        <td style=\"padding-left: 1em; padding-right: 1em; text-align: center; vertical-align: top\">0.0</td>\n",
              "        <td style=\"padding-left: 1em; padding-right: 1em; text-align: center; vertical-align: top\">1.0</td>\n",
              "    </tr>\n",
              "    <tr>\n",
              "        <td style=\"padding-left: 1em; padding-right: 1em; text-align: center; vertical-align: top\">Joey</td>\n",
              "        <td style=\"padding-left: 1em; padding-right: 1em; text-align: center; vertical-align: top\">1</td>\n",
              "        <td style=\"padding-left: 1em; padding-right: 1em; text-align: center; vertical-align: top\">Monica Gets A Roommate</td>\n",
              "        <td style=\"padding-left: 1em; padding-right: 1em; text-align: center; vertical-align: top\">C&#x27;mon, you&#x27;re going out<br>with the guy! There&#x27;s ...</td>\n",
              "        <td style=\"padding-left: 1em; padding-right: 1em; text-align: center; vertical-align: top\">1.0</td>\n",
              "        <td style=\"padding-left: 1em; padding-right: 1em; text-align: center; vertical-align: top\">1.0</td>\n",
              "    </tr>\n",
              "    <tr>\n",
              "        <td style=\"padding-left: 1em; padding-right: 1em; text-align: center; vertical-align: top\">Chandler</td>\n",
              "        <td style=\"padding-left: 1em; padding-right: 1em; text-align: center; vertical-align: top\">1</td>\n",
              "        <td style=\"padding-left: 1em; padding-right: 1em; text-align: center; vertical-align: top\">Monica Gets A Roommate</td>\n",
              "        <td style=\"padding-left: 1em; padding-right: 1em; text-align: center; vertical-align: top\">All right Joey, be nice.<br>So does he have a hum ...</td>\n",
              "        <td style=\"padding-left: 1em; padding-right: 1em; text-align: center; vertical-align: top\">2.0</td>\n",
              "        <td style=\"padding-left: 1em; padding-right: 1em; text-align: center; vertical-align: top\">1.0</td>\n",
              "    </tr>\n",
              "    <tr>\n",
              "        <td style=\"padding-left: 1em; padding-right: 1em; text-align: center; vertical-align: top\">Phoebe</td>\n",
              "        <td style=\"padding-left: 1em; padding-right: 1em; text-align: center; vertical-align: top\">1</td>\n",
              "        <td style=\"padding-left: 1em; padding-right: 1em; text-align: center; vertical-align: top\">Monica Gets A Roommate</td>\n",
              "        <td style=\"padding-left: 1em; padding-right: 1em; text-align: center; vertical-align: top\">Wait, does he eat chalk?</td>\n",
              "        <td style=\"padding-left: 1em; padding-right: 1em; text-align: center; vertical-align: top\">3.0</td>\n",
              "        <td style=\"padding-left: 1em; padding-right: 1em; text-align: center; vertical-align: top\">1.0</td>\n",
              "    </tr>\n",
              "    <tr>\n",
              "        <td style=\"padding-left: 1em; padding-right: 1em; text-align: center; vertical-align: top\">Phoebe</td>\n",
              "        <td style=\"padding-left: 1em; padding-right: 1em; text-align: center; vertical-align: top\">1</td>\n",
              "        <td style=\"padding-left: 1em; padding-right: 1em; text-align: center; vertical-align: top\">Monica Gets A Roommate</td>\n",
              "        <td style=\"padding-left: 1em; padding-right: 1em; text-align: center; vertical-align: top\">Just, &#x27;cause, I don&#x27;t<br>want her to go through ...</td>\n",
              "        <td style=\"padding-left: 1em; padding-right: 1em; text-align: center; vertical-align: top\">4.0</td>\n",
              "        <td style=\"padding-left: 1em; padding-right: 1em; text-align: center; vertical-align: top\">1.0</td>\n",
              "    </tr>\n",
              "    <tr>\n",
              "        <td style=\"padding-left: 1em; padding-right: 1em; text-align: center; vertical-align: top\">Monica</td>\n",
              "        <td style=\"padding-left: 1em; padding-right: 1em; text-align: center; vertical-align: top\">1</td>\n",
              "        <td style=\"padding-left: 1em; padding-right: 1em; text-align: center; vertical-align: top\">Monica Gets A Roommate</td>\n",
              "        <td style=\"padding-left: 1em; padding-right: 1em; text-align: center; vertical-align: top\">Okay, everybody relax.<br>This is not even a date. ...</td>\n",
              "        <td style=\"padding-left: 1em; padding-right: 1em; text-align: center; vertical-align: top\">5.0</td>\n",
              "        <td style=\"padding-left: 1em; padding-right: 1em; text-align: center; vertical-align: top\">1.0</td>\n",
              "    </tr>\n",
              "    <tr>\n",
              "        <td style=\"padding-left: 1em; padding-right: 1em; text-align: center; vertical-align: top\">Chandler</td>\n",
              "        <td style=\"padding-left: 1em; padding-right: 1em; text-align: center; vertical-align: top\">1</td>\n",
              "        <td style=\"padding-left: 1em; padding-right: 1em; text-align: center; vertical-align: top\">Monica Gets A Roommate</td>\n",
              "        <td style=\"padding-left: 1em; padding-right: 1em; text-align: center; vertical-align: top\">Sounds like a date to me.</td>\n",
              "        <td style=\"padding-left: 1em; padding-right: 1em; text-align: center; vertical-align: top\">6.0</td>\n",
              "        <td style=\"padding-left: 1em; padding-right: 1em; text-align: center; vertical-align: top\">1.0</td>\n",
              "    </tr>\n",
              "    <tr>\n",
              "        <td style=\"padding-left: 1em; padding-right: 1em; text-align: center; vertical-align: top\">Chandler</td>\n",
              "        <td style=\"padding-left: 1em; padding-right: 1em; text-align: center; vertical-align: top\">1</td>\n",
              "        <td style=\"padding-left: 1em; padding-right: 1em; text-align: center; vertical-align: top\">Monica Gets A Roommate</td>\n",
              "        <td style=\"padding-left: 1em; padding-right: 1em; text-align: center; vertical-align: top\">Alright, so I&#x27;m back in<br>high school, I&#x27;m stan ...</td>\n",
              "        <td style=\"padding-left: 1em; padding-right: 1em; text-align: center; vertical-align: top\">7.0</td>\n",
              "        <td style=\"padding-left: 1em; padding-right: 1em; text-align: center; vertical-align: top\">1.0</td>\n",
              "    </tr>\n",
              "    <tr>\n",
              "        <td style=\"padding-left: 1em; padding-right: 1em; text-align: center; vertical-align: top\">All</td>\n",
              "        <td style=\"padding-left: 1em; padding-right: 1em; text-align: center; vertical-align: top\">1</td>\n",
              "        <td style=\"padding-left: 1em; padding-right: 1em; text-align: center; vertical-align: top\">Monica Gets A Roommate</td>\n",
              "        <td style=\"padding-left: 1em; padding-right: 1em; text-align: center; vertical-align: top\">Oh, yeah. Had that dream.</td>\n",
              "        <td style=\"padding-left: 1em; padding-right: 1em; text-align: center; vertical-align: top\">8.0</td>\n",
              "        <td style=\"padding-left: 1em; padding-right: 1em; text-align: center; vertical-align: top\">1.0</td>\n",
              "    </tr>\n",
              "    <tr>\n",
              "        <td style=\"padding-left: 1em; padding-right: 1em; text-align: center; vertical-align: top\">Chandler</td>\n",
              "        <td style=\"padding-left: 1em; padding-right: 1em; text-align: center; vertical-align: top\">1</td>\n",
              "        <td style=\"padding-left: 1em; padding-right: 1em; text-align: center; vertical-align: top\">Monica Gets A Roommate</td>\n",
              "        <td style=\"padding-left: 1em; padding-right: 1em; text-align: center; vertical-align: top\">Then I look down, and I<br>realize there&#x27;s a ...</td>\n",
              "        <td style=\"padding-left: 1em; padding-right: 1em; text-align: center; vertical-align: top\">9.0</td>\n",
              "        <td style=\"padding-left: 1em; padding-right: 1em; text-align: center; vertical-align: top\">1.0</td>\n",
              "    </tr>\n",
              "</table>\n",
              "<table frame=\"box\" rules=\"cols\">\n",
              "    <tr>\n",
              "        <th style=\"padding-left: 1em; padding-right: 1em; text-align: center\">vector</th>\n",
              "        <th style=\"padding-left: 1em; padding-right: 1em; text-align: center\">score</th>\n",
              "        <th style=\"padding-left: 1em; padding-right: 1em; text-align: center\">int_episode</th>\n",
              "    </tr>\n",
              "    <tr>\n",
              "        <td style=\"padding-left: 1em; padding-right: 1em; text-align: center; vertical-align: top\">[-6.18888177e-02<br>2.65797228e-01 ...</td>\n",
              "        <td style=\"padding-left: 1em; padding-right: 1em; text-align: center; vertical-align: top\">0.0</td>\n",
              "        <td style=\"padding-left: 1em; padding-right: 1em; text-align: center; vertical-align: top\">1</td>\n",
              "    </tr>\n",
              "    <tr>\n",
              "        <td style=\"padding-left: 1em; padding-right: 1em; text-align: center; vertical-align: top\">[-1.22622110e-01<br>1.81547493e-01 ...</td>\n",
              "        <td style=\"padding-left: 1em; padding-right: 1em; text-align: center; vertical-align: top\">-2.0</td>\n",
              "        <td style=\"padding-left: 1em; padding-right: 1em; text-align: center; vertical-align: top\">1</td>\n",
              "    </tr>\n",
              "    <tr>\n",
              "        <td style=\"padding-left: 1em; padding-right: 1em; text-align: center; vertical-align: top\">[-9.82086826e-03<br>9.88112614e-02 ...</td>\n",
              "        <td style=\"padding-left: 1em; padding-right: 1em; text-align: center; vertical-align: top\">3.0</td>\n",
              "        <td style=\"padding-left: 1em; padding-right: 1em; text-align: center; vertical-align: top\">1</td>\n",
              "    </tr>\n",
              "    <tr>\n",
              "        <td style=\"padding-left: 1em; padding-right: 1em; text-align: center; vertical-align: top\">[-3.71425711e-02<br>2.29819149e-01 ...</td>\n",
              "        <td style=\"padding-left: 1em; padding-right: 1em; text-align: center; vertical-align: top\">0.0</td>\n",
              "        <td style=\"padding-left: 1em; padding-right: 1em; text-align: center; vertical-align: top\">1</td>\n",
              "    </tr>\n",
              "    <tr>\n",
              "        <td style=\"padding-left: 1em; padding-right: 1em; text-align: center; vertical-align: top\">[ 4.21000049e-02<br>2.36502886e-01 ...</td>\n",
              "        <td style=\"padding-left: 1em; padding-right: 1em; text-align: center; vertical-align: top\">1.0</td>\n",
              "        <td style=\"padding-left: 1em; padding-right: 1em; text-align: center; vertical-align: top\">1</td>\n",
              "    </tr>\n",
              "    <tr>\n",
              "        <td style=\"padding-left: 1em; padding-right: 1em; text-align: center; vertical-align: top\">[-1.00040007e-02<br>1.46241844e-01 ...</td>\n",
              "        <td style=\"padding-left: 1em; padding-right: 1em; text-align: center; vertical-align: top\">0.0</td>\n",
              "        <td style=\"padding-left: 1em; padding-right: 1em; text-align: center; vertical-align: top\">1</td>\n",
              "    </tr>\n",
              "    <tr>\n",
              "        <td style=\"padding-left: 1em; padding-right: 1em; text-align: center; vertical-align: top\">[ 4.51041423e-02<br>1.73930570e-01 ...</td>\n",
              "        <td style=\"padding-left: 1em; padding-right: 1em; text-align: center; vertical-align: top\">2.0</td>\n",
              "        <td style=\"padding-left: 1em; padding-right: 1em; text-align: center; vertical-align: top\">1</td>\n",
              "    </tr>\n",
              "    <tr>\n",
              "        <td style=\"padding-left: 1em; padding-right: 1em; text-align: center; vertical-align: top\">[ 1.14625013e-02<br>2.69849598e-01 ...</td>\n",
              "        <td style=\"padding-left: 1em; padding-right: 1em; text-align: center; vertical-align: top\">0.0</td>\n",
              "        <td style=\"padding-left: 1em; padding-right: 1em; text-align: center; vertical-align: top\">1</td>\n",
              "    </tr>\n",
              "    <tr>\n",
              "        <td style=\"padding-left: 1em; padding-right: 1em; text-align: center; vertical-align: top\">[ 2.19136756e-03<br>2.69333631e-01 ...</td>\n",
              "        <td style=\"padding-left: 1em; padding-right: 1em; text-align: center; vertical-align: top\">2.0</td>\n",
              "        <td style=\"padding-left: 1em; padding-right: 1em; text-align: center; vertical-align: top\">1</td>\n",
              "    </tr>\n",
              "    <tr>\n",
              "        <td style=\"padding-left: 1em; padding-right: 1em; text-align: center; vertical-align: top\">[ 7.12726032e-03<br>2.44098589e-01 ...</td>\n",
              "        <td style=\"padding-left: 1em; padding-right: 1em; text-align: center; vertical-align: top\">0.0</td>\n",
              "        <td style=\"padding-left: 1em; padding-right: 1em; text-align: center; vertical-align: top\">1</td>\n",
              "    </tr>\n",
              "</table>\n",
              "[60291 rows x 9 columns]<br/>Note: Only the head of the SFrame is printed.<br/>You can use print_rows(num_rows=m, num_columns=n) to print more rows and columns.\n",
              "</div>"
            ],
            "text/plain": [
              "Columns:\n",
              "\tauthor\tstr\n",
              "\tepisode_number\tint\n",
              "\tepisode_title\tstr\n",
              "\tquote\tstr\n",
              "\tquote_order\tfloat\n",
              "\tseason\tfloat\n",
              "\tvector\tndarray\n",
              "\tscore\tfloat\n",
              "\tint_episode\tint\n",
              "\n",
              "Rows: 60291\n",
              "\n",
              "Data:\n",
              "+----------+----------------+------------------------+\n",
              "|  author  | episode_number |     episode_title      |\n",
              "+----------+----------------+------------------------+\n",
              "|  Monica  |       1        | Monica Gets A Roommate |\n",
              "|   Joey   |       1        | Monica Gets A Roommate |\n",
              "| Chandler |       1        | Monica Gets A Roommate |\n",
              "|  Phoebe  |       1        | Monica Gets A Roommate |\n",
              "|  Phoebe  |       1        | Monica Gets A Roommate |\n",
              "|  Monica  |       1        | Monica Gets A Roommate |\n",
              "| Chandler |       1        | Monica Gets A Roommate |\n",
              "| Chandler |       1        | Monica Gets A Roommate |\n",
              "|   All    |       1        | Monica Gets A Roommate |\n",
              "| Chandler |       1        | Monica Gets A Roommate |\n",
              "+----------+----------------+------------------------+\n",
              "+-------------------------------+-------------+--------+\n",
              "|             quote             | quote_order | season |\n",
              "+-------------------------------+-------------+--------+\n",
              "| There's nothing to tell! H... |     0.0     |  1.0   |\n",
              "| C'mon, you're going out wi... |     1.0     |  1.0   |\n",
              "| All right Joey, be nice. S... |     2.0     |  1.0   |\n",
              "|    Wait, does he eat chalk?   |     3.0     |  1.0   |\n",
              "| Just, 'cause, I don't want... |     4.0     |  1.0   |\n",
              "| Okay, everybody relax. Thi... |     5.0     |  1.0   |\n",
              "|   Sounds like a date to me.   |     6.0     |  1.0   |\n",
              "| Alright, so I'm back in hi... |     7.0     |  1.0   |\n",
              "|   Oh, yeah. Had that dream.   |     8.0     |  1.0   |\n",
              "| Then I look down, and I re... |     9.0     |  1.0   |\n",
              "+-------------------------------+-------------+--------+\n",
              "+-------------------------------+-------+-------------+\n",
              "|             vector            | score | int_episode |\n",
              "+-------------------------------+-------+-------------+\n",
              "| [-6.18888177e-02  2.657972... |  0.0  |      1      |\n",
              "| [-1.22622110e-01  1.815474... |  -2.0 |      1      |\n",
              "| [-9.82086826e-03  9.881126... |  3.0  |      1      |\n",
              "| [-3.71425711e-02  2.298191... |  0.0  |      1      |\n",
              "| [ 4.21000049e-02  2.365028... |  1.0  |      1      |\n",
              "| [-1.00040007e-02  1.462418... |  0.0  |      1      |\n",
              "| [ 4.51041423e-02  1.739305... |  2.0  |      1      |\n",
              "| [ 1.14625013e-02  2.698495... |  0.0  |      1      |\n",
              "| [ 2.19136756e-03  2.693336... |  2.0  |      1      |\n",
              "| [ 7.12726032e-03  2.440985... |  0.0  |      1      |\n",
              "+-------------------------------+-------+-------------+\n",
              "[60291 rows x 9 columns]\n",
              "Note: Only the head of the SFrame is printed.\n",
              "You can use print_rows(num_rows=m, num_columns=n) to print more rows and columns."
            ]
          },
          "metadata": {},
          "execution_count": 50
        }
      ]
    },
    {
      "cell_type": "code",
      "source": [
        "friendly_dict = {}\n",
        "\n",
        "for friend in sf:\n",
        "  f_name = friend[\"author\"]\n",
        "  score = friendly_dict.setdefault(f_name, 0)\n",
        "  friendly_dict.update({f_name: score + friend[\"score\"]})\n",
        "\n",
        "\n",
        "print(friendly_dict)\n"
      ],
      "metadata": {
        "colab": {
          "base_uri": "https://localhost:8080/"
        },
        "id": "BBaoFsAM0b5w",
        "outputId": "7fcbe39e-dad3-4df0-8951-291162ec2f09"
      },
      "execution_count": 51,
      "outputs": [
        {
          "output_type": "stream",
          "name": "stdout",
          "text": [
            "{'Monica': 3469.0, 'Joey': 3927.0, 'Chandler': 3261.0, 'Phoebe': 3593.0, 'All': 153.0, 'Ross': 3950.0, 'Rachel': 4640.0, 'Waitress': 0.0, 'Phoebe, Ross, Chandler, and Joey': 0.0, 'Paul': 71.0, 'Priest on TV': 1.0, 'Frannie': -3.0, 'Ross and Rachel': 3.0, 'Customer': -6.0, 'Marsha': 1.0, 'Carol': 104.0, 'Chandler and Joey': 6.0, 'Mrs. Geller': 75.0, 'Mr. Geller': 56.0, 'Susan': 53.0, 'Barry': 36.0, 'Robbie': 0.0, 'Bernice': -4.0, 'Dr. Oberman': 1.0, 'Paula': -4.0, 'Alan': 7.0, 'The Guys': 4.0, 'Lizzie': 0.0, 'Guys': -3.0, 'Leslie': 19.0, 'Kiki': 0.0, 'Joanne': 0.0, 'Receptionist': 7.0, 'Pizza Guy': 0.0, 'Monica and Phoebe': 3.0, 'Both': 2.0, 'Kid': -2.0, 'Angela': 8.0, 'Janice': 130.0, 'Woman': 78.0, 'Bob': -5.0, \"All you want is a dingle,\\r\\n What you envy's a schwang,\\r\\n A thing through which you can tinkle,\\r\\n Or play with, or simply let hang..\": 0.0, 'Aurora': 4.0, 'Director': 22.0, 'Jill': 57.0, 'Monica, Joey, and Phoebe': 4.0, 'Mr. Heckles': 0.0, 'Paolo': 2.0, 'Shelley': 18.0, 'Aunt Lillian': -6.0, 'Nurse': -3.0, 'Andrea': -1.0, 'Lowell': 10.0, 'Terry': -3.0, 'Guy': 27.0, 'Girl': 1.0, 'Bladder Control Problem\\r\\n Stop Wife Beating\\r\\n Hemorrhoids?\\r\\n Winner of 3 Tony Awards...': 3.0, \"He's finally happy with that and walks away.\": 3.0, \"I made a man with eyes of coal\\r\\n And a smile so bewitchin',\\r\\n How was I supposed to know\\r\\n That my mom was dead in the kitchen?\\r\\n (shakes bell) La lalala la la la la lalala la la..\": -1.0, \"...My mother's ashes\\r\\n Even her eyelashes\\r\\n Are resting in a little yellow jar,\\r\\n And sometimes when it's breezy..\": 0.0, '...I feel a little sneezy\\r\\n And now I- (abruptly stops)': -1.0, 'Excuse me, excuse me! Yeah, noisy boys! (They stop talking and look up) Is\\r\\nit something that you would like to share with the entire group': 0.0, 'Max': 8.0, 'David': 171.0, 'Sandy': 17.0, 'Fun Bobby': -4.0, 'Dick Clark': -4.0, 'Jay Leno': -3.0, 'Mrs. Bing': 50.0, \"You don't have to be awake to be my man,\\r\\n As long as you have brainwaves I'll be there to hold your hand.\\r\\n Though we just met the other day, \\r\\n There's something I have got to say..\": 0.0, 'Coma Guy': 6.0, 'Joey, Chandler, and Ross': 0.0, 'Carol and Susan': 0.0, \"Phoebe's Assistant\": -4.0, 'Joey and Chandler': 5.0, 'Rachel and Phoebe': -7.0, 'Girls': 3.0, 'Roger': 11.0, 'Mr. Tribbiani': 19.0, 'Ronni': 32.0, 'Mrs. Tribbiani': 17.0, 'Lorraine': 4.0, 'Kristin': 12.0, 'Fireman No. 1': 0.0, 'Fireman No. 2': 6.0, 'Fireman No. 3': 0.0, 'Mrs. Tedlock': 0.0, 'Celia': -7.0, 'Steve': 48.0, 'Chandle': 0.0, 'Joe': 0.0, 'Ursul': 0.0, 'Chandler and Joe': 0.0, 'Ros': 0.0, 'Rache': 0.0, 'Al': 0.0, 'Phoeb': 0.0, 'Monic': 0.0, 'Woma': 0.0, 'Teache': 0.0, 'Caro': 0.0, 'Susa': 0.0, 'Hele': 0.0, 'Nin': 0.0, 'Ross and Susa': 0.0, 'Mr. Dougla': 0.0, 'Jami': 0.0, 'Fra': 0.0, 'Rachel and Chandle': 0.0, 'Mr.Heckle': 0.0, 'Soothing male voic': 3.0, 'Monica and Rache': 0.0, 'Dr. Mitchell': 9.0, 'Rachel (as Monica)': 6.0, 'Monica (as Rachel)': 2.0, 'Dr. Rosen': 8.0, 'The Whole Party': 0.0, \"Phoebe's Friends\": 2.0, 'Rachel and Monica': 5.0, 'Ross and Chandler': 0.0, 'Ursula': 30.0, 'Chandler and Ross': 3.0, 'Phoebe and Rachel': -4.0, 'Aunt Iris': 2.0, \"{Transcriber's Note\": 0.0, 'Intercom': 0.0, 'Luisa': -10.0, 'Woman No. 1': -2.0, 'Woman No. 2': 8.0, 'Joey and Ross': 1.0, 'Bobby': 2.0, 'Mindy': 4.0, 'Danielle': -3.0, 'Teacher': -1.0, 'Fake Monica': -11.0, 'Dr. Baldhara': -3.0, 'PA': 0.0, 'Actor': -3.0, 'Casting Director No. 1': 4.0, 'Casting Director No. 2': 0.0, 'Phoebe, Joey, and Ross': 0.0, 'Young Ethan': 8.0, 'Ross, Rachel, and Phoebe': 0.0, 'Joey, Chander, and Ross': -1.0, 'Gerston': 1.0, 'Santos': 0.0, 'Petrie': 3.0, 'Story by': 0.0, 'Dr. Franzblau': 18.0, 'Lydia': 10.0, \"They're tiny and chubby and so sweet to touch,\\r\\n and soon they'll grow up and resent you so much. \\r\\n Now they're yelling at you and you don't know why, \\r\\n you cry and you cry and you cry. \\r\\n And you cry and you cry and you cry..\": -4.0, 'Susan and Ross': 2.0, 'Janitor': -1.0, 'Melanie': 11.0, 'Flight Attendant': -2.0, 'Man': -5.0, 'Carl': -8.0, 'Julie': 32.0, 'Ross and Julie': 0.0, 'Paulo': 0.0, 'Frankie': 1.0, 'Annabelle': 1.0, 'Hombre Man': -2.0, 'Store Guy': -3.0, 'CHANDLER': 193.0, 'MONICA': 305.0, 'RACHEL': 404.0, 'JOEY': 434.0, 'ROSS': 420.0, 'ALL': 14.0, 'PHOEBE': 398.0, 'MR. HECKLES': 0.0, 'MR. TREEGER': 2.0, 'MR. BOYLE': -4.0, 'JANICE': 8.0, 'ALISON': -2.0, 'STRANGER': 3.0, 'JULIE': 7.0, 'DUNCAN': 20.0, 'RAHCEL': 3.0, 'OLD WOMAN': 0.0, 'JADE': 5.0, 'WAITER': -2.0, 'MACHINE': 0.0, 'STEVE': 9.0, 'WAITRESS': 0.0, 'TERRY': 6.0, 'CAROLINE': 4.0, 'BOYS': 0.0, 'DOCTOR': -1.0, 'CHANDLER AND JOEY': 0.0, 'BOTH': 0.0, 'STEPHANIE': 15.0, 'TRANSIT AUTHORITY GUY': 2.0, 'KID': -4.0, 'TOGETHER': 0.0, 'CHAN': 28.0, 'RACH': 37.0, 'PHOE': 60.0, 'MNCA': 67.0, 'MICH': -1.0, 'GUY': 2.0, 'PHOE/MNCA': 0.0, 'RTST': 36.0, 'JOEY/CHAN': 0.0, 'CHAN, JOEY, ROSS': -1.0, 'RADIO': 6.0, 'GUNTHER': -5.0, 'GANG': 0.0, 'GRANDMOTHER': -5.0, 'FBOB': 5.0, 'RUSS': -2.0, 'ESTL': 11.0, 'CreditsScene': 0.0, 'END': 0.0, 'CAROL': 7.0, 'SUSAN': 13.0, 'ROSS, CHANDLER & JOEY': 1.0, 'MRS. WALLACE': 0.0, 'MRS. GREEN': 0.0, 'MRS GREEN': 31.0, 'MR A': 2.0, 'MINISTER': 5.0, 'WOMAN': 2.0, 'COMMERCIAL VOICEOVER': 0.0, 'ROB': 13.0, 'ERICA': 30.0, 'LIPSON': -12.0, 'KIDS': 0.0, 'RACHEL AND MONICA': 1.0, 'JANITOR': 1.0, 'TV DOCTOR': 2.0, 'JOEY ON TV': -3.0, 'SECURITY GUARD': 1.0, 'TRAINER': -1.0, 'SUSIE': 13.0, 'VAN DAMME': -14.0, 'MONICA AND RACHEL': -9.0, 'DIRECTOR': -3.0, 'NOTE': 0.0, 'INTERVIEWER': 4.0, 'GAIL': 3.0, 'MAN': 2.0, 'MONICA and ROSS': 0.0, 'ROY': -4.0, 'chandler': 0.0, 'CHANDLER and JOEY': 0.0, 'RACHEL and PHOEBE': 1.0, 'DELIVERY GUY': -1.0, 'MONICA and PHOEBE': 0.0, 'RICHARD': 66.0, 'FRIEND': 2.0, 'TATTOO ARTIST': 0.0, 'PRODUCER': 2.0, 'EDDIE': 49.0, 'AMBER': 1.0, 'TILLY': 2.0, 'WRITER': 1.0, 'RACHEL and MONICA': 0.0, 'DR HORTON': 2.0, 'INTERCOM': -2.0, 'AMGER': 3.0, 'ESTELLE': -3.0, 'CASTING GUY': 4.0, 'MOVER': 2.0, 'CAROL and SUSAN': 8.0, 'BEN': 0.0, 'ERNIE': 8.0, 'EVERYONE': 0.0, 'BIG BULLY': -5.0, 'LITTLE BULLY': 13.0, 'ROSS and CHANDLER': 0.0, 'MRS BUFFAY': 1.0, 'FRANK': 18.0, 'GUNTER': -1.0, 'GUYS': -3.0, 'SCOTT': 5.0, 'RYAN': 14.0, 'JEANNIE': 9.0, 'PHOEBE and RYAN': 0.0, 'WEDDING PLANNER': 5.0, 'MINDY': -1.0, 'BARRY': 4.0, 'BEST MAN': 9.0, 'Video': -1.0, 'Written by': 0.0, 'Richard': 52.0, 'Machine': 3.0, 'Michelle': 0.0, 'Sherman Whitfield': 0.0, 'Whitfield': 5.0, 'Scene': -17.0, 'Malcom': 1.0, 'Host': 8.0, 'Mike': 185.0, 'Young Ross': 1.0, 'Young Monica': 0.0, 'Frank': 54.0, 'Phoebe and Girl': 0.0, 'Jasmine': -7.0, 'Isabella': -3.0, 'Monica and Rachel': 0.0, 'Eric': 31.0, 'Friend No. 1': 2.0, 'Friend No. 2': 1.0, 'Her Friends': 0.0, 'Gunther': 34.0, 'Matress King': -5.0, 'Dr. Green': 25.0, 'Dr Green': 0.0, 'Student': 8.0, 'Jester': 4.0, 'Ben': 5.0, 'Chandler and Phoebe': 5.0, 'Monica and Ross': 1.0, 'Rachel, Chandler, and Joey': 0.0, 'Monica and Joey': 0.0, 'Margha': 0.0, 'Sarah': 42.0, 'Leader': 8.0, 'Joey and Monica': 3.0, 'Rachel\\x92s Boss': 3.0, 'Mr. Kaplan': 4.0, 'Joey\\x92s Sisters': 3.0, 'Cookie': -1.0, 'Sister 1': 0.0, 'Joey\\x92s Grandmother': 1.0, 'Joey\\x92s Sister': -4.0, 'Mary-Angela': 0.0, 'Mary-Theresa': 0.0, 'Mark': 26.0, 'Jeannine': 0.0, 'Julio': -2.0, 'Quartet': 11.0, 'The Bass Barber': 3.0, 'Bass Singer': 1.0, 'Clerk': 4.0, 'Robert': 14.0, 'Richard\\x92s Date': 5.0, 'Singer': 8.0, 'Monica, Ross, and Joey': 0.0, 'Ginger': -13.0, 'Phoebe and Monica': 0.0, 'Phoebe and Leslie': 1.0, 'Lecturer': 3.0, 'Commercial': -2.0, 'Issac': 2.0, 'Chloe': 26.0, 'Sergei': -3.0, 'Mischa': 16.0, 'Sophie': 16.0, 'To Be Continued.....': 0.0, 'The Next Mornin': 0.0, 'The Girls': 6.0, 'Chandler, Phoebe, and Joey': -2.0, 'Alice': 24.0, 'Hypnosis Tape': 21.0, 'Pete': 74.0, 'Ross and Joey': -7.0, 'Secretary': -2.0, 'Employee': 0.0, 'The Director': -2.0, 'Kate': 60.0, 'Spokeswoman': 1.0, 'Joanna': 15.0, 'Lauren': 16.0, 'Anchorwoman': -2.0, 'Chandler, Phoebe, and Rachel': 0.0, 'Hold Voice': 10.0, 'Tommy': -31.0, 'Cailin': 4.0, 'Estelle': 2.0, 'Monica; Ross': 0.0, 'Stage Manager': 0.0, 'Vince': 3.0, 'Jason': 1.0, 'Dr. Rhodes': 1.0, 'Dr. Johnson': 0.0, \"Pete's Mom\": 0.0, 'Fireman': 0.0, 'Guru Saj': 7.0, 'Billy Crystal': -3.0, 'Robin Williams': 1.0, 'Billy': 3.0, 'Robin': -9.0, 'Doug': 35.0, 'Hoshi': -1.0, 'Bonnie': 25.0, 'Phil': 2.0, 'Stevens': -4.0, 'Announcer': 3.0, 'Referee': 1.0, 'TV Announcer': 4.0, 'Chandler, Monica, and Joey': -1.0, 'Phoebe Sr': 2.0, 'Ross and Bonnie': 0.0, 'Phoebe Sr.': 11.0, 'Rachel and Bonnie': 0.0, 'Phoebe, Ross, and Rachel': 0.0, 'Chip': 22.0, 'Tony': 8.0, 'Peter': -1.0, 'Chandler, Monica, Joey, and Rachel': 3.0, 'The Salesman': 14.0, 'Monica, Chandler, Phoebe, and Rachel': 2.0, 'Oven': 0.0, 'Joey, Rachel, and Ross': 0.0, 'Mr. Treeger': 12.0, 'Gym Employee': -2.0, 'Rick': 15.0, 'Bank Officer': 2.0, 'Ms. Lambert': 0.0, 'Mrs. Potter': 3.0, 'Mr. Simon': -1.0, 'Interviewer': 0.0, 'Kathy': 87.0, 'Josh': 2.0, 'Amanda': 33.0, 'Cheryl': 5.0, 'Everyone': 0.0, 'Casey': 3.0, 'Voice': -3.0, 'Doctor': 13.0, 'Dr. Timothy Burke': 0.0, 'Tim': 61.0, 'Mr. Posner': 10.0, 'Mrs. Lynch': 3.0, 'Allesandro': 4.0, 'Chandler, Joey, and Phoebe': 0.0, 'Drew': 2.0, 'Monica, Rachel, and Joey': 1.0, 'A Waiter': 0.0, 'The Waiter': 8.0, 'The Conductor': -2.0, 'The Woman From Poughkeepsie': 0.0, 'Kitchen Worker': 0.0, 'Woman On Train': 8.0, 'Chandler, Monica, and Rachel': 6.0, 'Smart Kid': 0.0, 'Tour Guide': 9.0, 'Older Scientist': -2.0, 'Another Tour Guide': 0.0, 'Another Scientist': -4.0, 'Dr. Zane': 2.0, 'Frank and Alice': 0.0, \"Kathy's Co-Star\": 4.0, 'Mr. Waltham': 4.0, 'Joshua': 100.0, 'Emily': 83.0, 'The A.D': 5.0, 'The Cigarette Smoking Guy': -1.0, 'Charlton Heston': -13.0, 'The Cigarette Guy': 0.0, 'Teleplay by': 2.0, 'Devon': 5.0, 'Liam': 2.0, 'Ticket Counter Attendant': -1.0, 'Mrs. Chatracus': 0.0, 'Teleplay by Shana Goldberg-Meehan & Scott Silveri \\r\\nStory by Alicia Sky Varinaitis\\r\\nTranscribed by': 0.0, 'Story by Mark J. Kunerth \\r\\nTeleplay by Richard Goodman \\r\\nTranscribed by': 0.0, 'The Doctor': -4.0, 'Mrs. Burgin': -2.0, 'Mr. Burgin': -5.0, 'The Singing Man': 5.0, 'The Saleslady': 7.0, 'Sleep Clinic Worker': 1.0, 'Marjorie': 0.0, 'Rachel, Monica, Roy, and Chip': 0.0, 'The Stripper': 14.0, 'Part I Written by': 0.0, 'The Vendor': 2.0, 'Fergie': 3.0, 'Housekeeper': 4.0, 'Minister': 13.0, 'Mrs. Waltham': 3.0, 'Gate Agent': 0.0, 'pain as Monica grabs him underwater)-Diet Coke': -2.0, 'Dave': 5.0, 'Dr. Harad': 18.0, \"Joey's Doctor\": 0.0, 'Male Nurse': 0.0, 'Dan': 1.0, 'Delivery Room Nurse': -1.0, 'Stage Director': -2.0, 'Emeril': 4.0, 'PBS Volunteer': 0.0, 'Gary Collins': 12.0, 'Hotel Clerk': 0.0, 'Danny': 37.0, 'Larry': -5.0, 'Tom': 3.0, 'Thanksgiving 197': 0.0, 'The Housekeeper': 0.0, 'Present Da': 0.0, 'Thanksgiving 186': 0.0, 'Thanksgiving 199': 0.0, 'Thanksgiving 198': 0.0, 'Big Nosed Rachel': -12.0, 'Fat Monica': 6.0, 'The Paramedic': 0.0, 'Thanksgiving 191': 0.0, 'The Teacher': 6.0, 'Cynthia': 5.0, 'Dr. Leedbetter': -2.0, 'A Female Student': 1.0, 'The Man': -6.0, 'Krista': 4.0, 'Elizabeth Hornswoggle': -1.0, 'Elizabeth': 33.0, 'Kara': 5.0, 'Frank Sr.': 9.0, 'The Casting Director': 18.0, \"Sleepy girl, sleepy girl.\\r\\nWhy won't you go to sleep?\\r\\nSleepy girl, sleepy girl.\\r\\nYou're, you're, you're keeping me uppp!\": 3.0, 'Yeah.': 1.0, 'tip the scales in my direction. Check it out, you can probably see it from the window.\\r\\n(They all head to the window.': 0.0, 'Dr. Ledbetter': 3.0, 'Katie': 40.0, 'Guest #1': 2.0, 'Guest #2': 2.0, 'Guest #3': 0.0, 'The Smoking Woman': 2.0, 'Cop': -7.0, 'Gary': 40.0, 'The Saleswoman': 1.0, \"Gary's Radio\": -5.0, 'The Old Man': -2.0, 'The Little Girl': 0.0, 'Mr. Zelner': 16.0, 'The Hot Girl': -3.0, 'Jen': 1.0, 'Kim': 10.0, 'Nancy': -1.0, 'Kyle': -1.0, 'Raymond': 0.0, 'Caitlin': -5.0, 'Grandma Tribbiani': -5.0, \"{Y'know, sometimes I think the script writers throw in a line like that to try to\\r\\ntrip me up. But it won't work. I'll always have the last laugh! <manical_laugh.wav>\\r\\nOkay, so maybe I'm a little deluded, it's probably just my spellchecker. But, I must admit\\r\\nI did get Mesozoic and Paleozoic on the first attempt. Yay me! Anyhoo\\x85\": 5.0, \"{Oh, all right! Geez, I can't have any fun!\": 4.0, 'Dr. Miller': 6.0, \"{There's another continuity error here. Before Monica says I love you, Chandler's\\r\\nholding the vests so that you couldn't see the collar, you could see all three, and they\\r\\nwere folding nicely. After she says the line and the camera cuts back to Chandler, you can\\r\\nonly see two out of the three, you can see the collar of the top one, and it looks like it\\r\\nwas folded sloppily, unlike before. Hey, you notice things while spending this much time\\r\\non this!\": 4.0, 'Stanley': 5.0, 'The Grip': 0.0, 'A Casino Boss': 0.0, 'A Tourist': 0.0, 'The Croupier': 2.0, 'The Flight Attendant': 11.0, 'Blackjack Dealer': 6.0, 'The Woman Dealer': 0.0, \"Joey's Hand Twin\": 0.0, 'A Drunken Gambler': 3.0, 'Drunken Gambler': 0.0, 'The Lurker': 4.0, 'The Security Guard': 0.0, 'The Attendant': 2.0, 'Attendant': -1.0, '{Transciber\\x92s note': 5.0, 'Croupler': 0.0, 'Hitchhiker': -2.0, '{Note': -1.0, 'Stephanie': -2.0, 'Karin': 0.0, 'Meg': 5.0, 'Russell': 0.0, 'The Potential Roommate': -1.0, 'The Professor': 0.0, 'Casting Director #1': 1.0, 'Casting Director #2': -2.0, 'Casting Director #3': -3.0, 'A Crew Member': 0.0, 'Alex': 0.0, 'A Student': 0.0, 'Guy #1': 3.0, 'Guy #2': 4.0, 'The Porsche Owner': -2.0, 'Judge': 0.0, 'Passerby': 0.0, 'Janine': 42.0, 'Chandler and Monica': -1.0, 'Ralph Lauren': -6.0, 'Hillary': 17.0, 'Janine [to Chandler]': 0.0, 'Mr. and Mrs. Geller': 1.0, 'Tall Guy': 2.0, 'Joey\\x92s Head': 0.0, 'Patron': -1.0, 'Customers': 0.0, 'To Be Continue': 0.0, 'The Fan': 11.0, 'Buffay, the Vampire Layer': 2.0, 'The Vampire': 0.0, 'Man\\x92s Voice': 0.0, 'Another Man\\x92s Voice': 0.0, 'Same Man\\x92s Voice': 0.0, '{Transcriber\\x92s Note': 10.0, \"Monica's Boyfriend\": 0.0, 'Dr. Wesley': 3.0, 'Dr. Drake Remoray': 6.0, 'Hope': 0.0, 'Dr. Roger': 7.0, 'Jack': -8.0, 'It only takes two heart attacks to finally make you see\\x85\\r\\n One of them won\\x92t do it, but the second one will set you free\\x85\\r\\n Tell all your hate and anger, it\\x92s time to say good-bye\\x85\\r\\n And that is just what I will do, soon as those bastards I work for die!\\r\\n La, la-la-la, la-la-la-la, la-la-la, la-la-la\\x85': -8.0, 'End': 0.0, \"Joey's Look-A-Like\": 0.0, 'The Instructor': 3.0, 'Burt': 6.0, 'Fireman #1': -7.0, 'Dana': 12.0, 'Fireman #2': 1.0, 'Mel': -2.0, 'Professor Feesen': 0.0, 'Sebastian': -2.0, 'Eldad': -1.0, 'Patrick': 3.0, 'The Producer': -1.0, 'Wayne': 11.0, 'C.H.E.E.S.E.': 3.0, 'The Dry Cleaner': -3.0, 'The Museum Official': 11.0, 'Female Clerk': 2.0, 'Male Jeweler': 9.0, 'Female Jeweler': 0.0, 'Mr. Thompson': 35.0, 'Zoe': 0.0, 'First Dorm Guy': -1.0, 'Second Dorm Guy': 0.0, \"Matire'd\": -1.0, 'Lisa': 5.0, 'Emil Alexander': 0.0, 'Mr. Bowmont': 6.0, '\"First time I met Chandler, I thought he was gay.\\r\\n But here I am singing on his wedding day!': 0.0, '\"Whenever I get married, guess who won\\x92t get to sing?\\r\\n Somebody named Geller! And somebody else named Bing!': 3.0, '\"We thought Phoebe would leave, but she just stayed and stayed.\\r\\n That\\x92s right, I\\x92m here all night, and Chandler will never get l\\x85': -1.0, 'Mac': 3.0, 'C.H.E.E.S.E': 0.0, 'Hilda': 6.0, 'Tag': 120.0, 'Nurse #1': -4.0, 'Nurse #2': 2.0, 'Dr. Stryker Remoray': 3.0, 'Melissa': 27.0, 'The Photographer': 9.0, 'Hums While He Pees': -7.0, 'Whitney': -2.0, 'Erin': 21.0, 'Female Student': -1.0, 'Male Student': -1.0, 'The Waitress': 0.0, 'The Librarian': 1.0, 'The Head Librarian': 0.0, 'The Woman': 8.0, \"Maitre d'\": -2.0, 'Male Guest': 3.0, 'Salesman': 1.0, 'The Wedding Guest': 0.0, 'The Second Guest': 0.0, 'Aunt Millie': 5.0, 'The Fireman': -6.0, 'Supervisor': 3.0, 'Earl': -10.0, 'The \"Hey Guy\" Guy': 0.0, 'Marge': -1.0, 'The Man In The Sportscar': 0.0, 'Dina': 25.0, 'Jessica Lockhart': 0.0, 'Cecilia': 44.0, 'The Writer': 0.0, 'Fredrick': 2.0, 'Matthew Perry': 0.0, 'Lisa Kudrow': 0.0, 'Fat Joey': 2.0, 'Kristen': 13.0, 'Megan': 9.0, 'Lewis': 10.0, 'Morse': 14.0, 'Jake': 8.0, 'The Presenter': 8.0, 'Jessica Ashley': 5.0, 'Cassie': 14.0, 'A Waiter in Drag': 0.0, 'Waiter in Drag': 1.0, 'Helena': 29.0, 'Policeman': 17.0, 'The Assistant Director': 0.0, 'Mr. Bing': 1.0, 'The Rabbi': 6.0, 'Hosted by': 0.0, 'This is a special out takes episode. The cast and Conan are sitting around the set of\\r\\nCentral Perk, talking about the stuff we\\x92ve never seen.': 0.0, 'Transcriber\\x92s Note': 0.0, 'Conan': 12.0, 'Jennifer': 5.0, 'Matthew': 5.0, 'Courtney': 5.0, 'Matt': 32.0, 'Photographer': 5.0, 'Bandleader': 15.0, 'Mona': 78.0, 'Dennis Phillips': 1.0, 'Waiter': -6.0, 'Little Girl': 0.0, 'Second Girl': 0.0, 'Fat Girl': 0.0, 'Gert': 2.0, 'Dedicated to the People of New York Cit': 2.0, 'Front Desk Clerk': 4.0, 'Woman At The Wedding': 3.0, 'Man At The Wedding': -1.0, 'Anxious Wedding Guest': 3.0, 'Ticket Agent': 1.0, 'Airline Employee': -4.0, 'Dr. Long': 20.0, 'Six Weeks Earlie': 0.0, 'Mr. Franklin': 12.0, \"Joey's Co-Star\": 0.0, 'Dr. Drake Ramoray': 0.0, 'Kash': 4.0, 'Dedicated to the Memory of Richard L. Cox, Sr': 2.0, 'Kids': 0.0, 'Witch': 2.0, 'Clown': 2.0, 'Cowgirl': -2.0, 'Ballerina': 9.0, 'Boy in the Cape': 3.0, \"Mrs. Verhoeven's Daughter\": 17.0, 'Brenda': 7.0, 'Dedicated to the Memory of Pearl Harmo': 2.0, 'Stripper': 3.0, 'Hooker': -1.0, 'Stu': 0.0, 'Will': 11.0, 'Trudie Styler': -2.0, 'Dr. Schiff': 1.0, 'Locksmith': 6.0, \"Joey's Date\": 5.0, 'Man on TV': 2.0, 'Woman on TV': -2.0, 'Don': 12.0, 'Waiter No. 2': 2.0, 'Jim': 8.0, \"Mona's Date\": 1.0, 'Parker': 55.0, 'Aunt Lisa': 10.0, 'Uncle Dan': 0.0, 'The Interviewer': 44.0, 'Mrs. Green': 25.0, 'Ray': 1.0, 'Cashier': 10.0, 'The Food Critic': 1.0, 'The Cooking Teacher': 25.0, 'The Acting Teacher': 0.0, 'Marc': -1.0, 'Evil Bitch': -22.0, 'Sick Bastard': -3.0, 'Woman Giving Birth': 0.0, 'Cliff': -5.0, 'Sid': 0.0, 'Ms. McKenna': 2.0, 'Transcribed by': 0.0, '[INTRO': 0.0, 'Chandler. Well my boss and I worked out a deal where I only\\r\\n have to be in Tulsa four days a week, so the other three I can be here with\\r\\n you': 0.0, 'Joey and Phoebe': 3.0, 'Mary Ellen': 4.0, 'Dr. Gettleman': 2.0, '(Ross and Rachel enter with Emma.': 0.0, ' (Phoebe and Mike look at him, and he goes over to the counter.': 0.0, 'Sally': -3.0, 'Boy': 0.0, \"(Joey opens the door and takes Chandler's suitcase into his own apartment.\": 0.0, 'CUT TO': 0.0, 'Hayley': 11.0, \" (Hayley laughs and goes into the kitchen thinking it's a joke, Joey doesn't\\r\\n see what's so funny about it\": 7.0, \" >>> Joey's Subconscious\\r\\n So this is going pretty good. dinner was nice, got a lot in common. (Sees a\\r\\n magazine) Victoria's secret huh we even like the same books. (Walks over\\r\\n to a painting on the wall) Oh now there's a scary painting. wait a minute\\r\\n I think I've been scared by that painting before. (Looks around) You know\\r\\n what this whole place look familiar I have definitely been in this apartment\\r\\n I know I've seen this weird plant before (it's a cactus and he touch's it)\\r\\n AWCH! It did that the last time. Oh my god, I've gone out with this girl\\r\\n before yeah we had sex on this couch and then on that chair and no. no we\\r\\n didn't do it hear which is weird because it seems like a perfectly good place\": 9.0, '(Monica makes a strange face and sits down': -1.0, \"Hayley's roommate\": 0.0, 'Ken': 6.0, 'Claudia': 1.0, 'Phoebe & Joey': 0.0, 'Maitre D': -1.0, 'Ms. Geller': -3.0, 'Ross & Rachel': 0.0, 'Monica & Chandler': 0.0, 'Waiters': 14.0, 'Dedicated to the great work of Eric Aasen, Guineapig and many, many mor': 5.0, 'Prospective nanny': 11.0, 'Sandy/Grumpus': 1.0, 'Joey/Wigglemunch': 2.0, 'Dedicated to the great work of Eric Aasen, Guineapig and many, many more': 5.0, 'Catherine': 6.0, 'Bitsy': 13.0, 'Theodore': 4.0, 'TV announcer': 0.0, \"<Joey's eyes become large and he stands up\": 0.0, \"<Chandler grabs Joey's left arm and pushes the sleeve up\": 0.0, '<Joey looks>\\r\\n Oh! Stupid long sleeves.': -2.0, 'Joey nods': 1.0, \"<Chandler nods and his eyes get big like he's saying 'what the hell'\": -1.0, 'Ross and Rachels Apartmen': 0.0, \"<Ross and Rachel are putting baby stuff together like they're going to\\r\\n be going somewhere.\": 2.0, 'Rachel to Emma': 2.0, 'Woman at door': 2.0, 'Ross and Rachel while looking at each other surprised and shocked': 0.0, 'Woman at door in a sing song voice': 0.0, \"<Ross goes into Rachel's room\": 0.0, 'Amy': 45.0, '<Amy grabs her arms': 0.0, '<Amy bending over fiddling with her purse when Emma cries and she hears\\r\\n Emma': -2.0, '<Ross comes out of the bedrooms': 0.0, 'Ross with a look of wondering how long this is going to go on on his face': 0.0, \"Ross starts talking over her 'do you remember' line\": 2.0, \"Monica and Chandler's Apartment\": 0.0, '<Joey is walking around looking worried.': -3.0, '<Chandler is startled and nearly drops the plates.> Sorry': -3.0, \"Ross and Rachel's Apartment.\": 0.0, 'Amy with straight hair': -3.0, \"<Amy's cell phone rings>\": 0.0, 'Amy storms out': -2.0, '<Ross and Rachel go in the kitchen': 0.0, \"<Rachel grabs Ross' hand for support and starts to cry a little\": 1.0, \"Monica and Chandler's apartmen\": 0.0, 'Rachel opens their door': 0.0, 'Everyone there says': 0.0, 'Joey laughs': 1.0, 'Joey looks rejected': 3.0, '<Joey turns away and Chandler reassuringly pats him on the back': 0.0, 'Ross to Monica': 0.0, 'Monica to Ross': 0.0, '<they hug and kiss on check>': 4.0, 'Monica to Emma': 0.0, 'Monica to Amy': 2.0, 'Amy with confused look on face': 4.0, 'Phoebe shakes her hand and says': 0.0, '<Monica and Amy turn away and walk into the living room towards the secret\\r\\n closet': 0.0, 'Phoebe looks down': 4.0, \"<Joey realizes what she's doing\": 0.0, 'Amy coming out of the bathroom': 0.0, \"Ross first has a look of 'huh' then changes it to sarcastic happy\": 2.0, '<Joey nods in agreement': 1.0, 'Amy turns around to Phoebe': 0.0, 'Amy turns to Ross and Rachel': 0.0, 'Later in the day': 0.0, 'Ross starts playing with a plate': 0.0, 'Ross makes some sort of sound to let us know it hurt': -2.0, '<Amy gets pissed and starts cutting food on the fancy plate very harshly,\\r\\n you can hear the silveware scraping the fancy plate>': -7.0, 'Monica about to have a heart attack': -2.0, '<Monica holds a turkey leg up in the air over the plate trying to cut meat\\r\\n off with a knife': -1.0, '<Ross and Rachel pause and ponder this>': 0.0, '<Chandler gives a look that says \"Yeah!\"': 1.0, 'Joey raises his hand': -3.0, \"<Everyone is looking around and at Joey with looks of 'what?' on their\\r\\n faces\": 0.0, 'Ross looks down': -1.0, '<Joey looks to Phoebe and she nods in agreement': 1.0, 'Phoebe while cutting a sweet potatoe in the air': 3.0, 'Amy,Rachel': -1.0, 'JO LYNN': 0.0, 'MIKE': 19.0, 'BILL': 2.0, 'KEVIN': 4.0, 'Wendy': 7.0, 'Others': 7.0, '\"Went to the store, sat on Santa\\'s lap. Asked him to bring my friends all kinds of crap. Said all you need is to write them a song. Now, you haven\\'t heard it yet, so don\\'t try to sing along. No, don\\'t sing along': -4.0, 'Monica, Moncia, have a happy Hanukkah. Saw Santa Claus, he said hello to Ross. And please tell Joey, Christmas will be snowy! And Rachel and Chandler, have err-umm-glander!!': 4.0, 'Happy holidays, everybody': 3.0, \"912 - TOW Phoebe's Rat\": 0.0, 'Molly': 4.0, 'Gavin': 0.0, 'Heather': 3.0, 'Ross, Joey and Chandler': 0.0, 'Waiter #2': 0.0, 'Rachel and Joey': 2.0, 'Intern': 0.0, 'Lennart': 13.0, 'Mugger': 1.0, 'Boss': 14.0, 'Joey & Monica': 0.0, 'Monica, Chandler, Ross': 8.0, 'Chandler (Stands up and walks to Joey)': 3.0, 'Handyman': 1.0, 'Monica, Rachel, Chandler': 0.0, 'Chandler/Joey/Rachel/Monica': 0.0, 'Aired': 0.0, 'Strange man': 0.0, 'Manny': 2.0, 'Kori': -3.0, 'Teleplay': 0.0, 'Everyone almost simultaneously except Ross': 4.0, 'Racel': 1.0, 'Rachel, Chandler and Monica': 1.0, 'Everyone but Monica': 0.0, 'Message': -3.0, 'Second message': 0.0, 'Second Message': 4.0, 'TV': 0.0, 'Everybody': 1.0, 'Actress/Olivia': 4.0, 'Joey/Drake': 11.0, 'Chase Lassiter': 0.0, '1st Customer': 3.0, '2nd Customer': 5.0, '3rd Customer': -2.0, 'Rachel/actress': 1.0, 'Chandlers': 1.0, 'Charlie': 174.0, 'Professor Spafford': -10.0, 'Jane': 1.0, 'Kyle Lowder': 0.0, 'Bitter lady': 3.0, 'Matthew Ashford': 3.0, 'Dirk': 3.0, 'Bitter woman': 2.0, 'Doctor Connelly': 15.0, 'Professor Sherman': 0.0, 'Shop assistant': 0.0, 'Zack': 6.0, 'Stranger': 0.0, 'Prof. Sherman': 2.0, 'Jeanette': 0.0, 'Part 1 written by': 1.0, 'MOnica': -3.0, 'Ross and Charlie': 0.0, 'Man with a bow tie': 6.0, 'Phoebe & Mike': 0.0, 'Alexandra Steele': 3.0, 'Mr. Oberblau': 3.0, 'Paleontologist': 0.0, 'Professore Clerk': 0.0, 'Monica, Chandler and Phoebe': 0.0, \"Joey's voice, but she sees Ross\": 0.0, \"Joey's voice/Ross\": -2.0, 'Rachel/Ross': 2.0, 'Precious': -17.0, 'THE EN': 0.0, 'Joey (to Rachel)': 0.0, 'Joey and Rachel': 1.0, 'Frank Jr.': 10.0, 'Monica (reads a form in her lap)': 0.0, 'Colleen': 8.0, 'Bill': 3.0, 'Owen': 1.0, 'Frank Jr. (looks at the triplets)': 0.0, 'Chandler (to Monica)': 0.0, 'Ross (on the verge of tears)': 2.0, 'Assistant': 0.0, 'Glenda': 0.0, 'Ross, Rachel and Chandler': 0.0, 'Jack and Judy': 0.0, 'Judy': -3.0, 'Chandler (nearly weeping)': 0.0, 'Ross (stops recording)': 3.0, 'Phoebe (sees the cake)': 0.0, 'Joey (staring at the cake)': 3.0, 'Rachel (on the phone)': 1.0, 'Emma': 0.0, 'end': 0.0, 'THE END': 0.0, 'Benjamin': 26.0, 'Dr. Li': 0.0, 'Dr. Biely': 0.0, 'Charity guy': 30.0, 'Ross (to Emma)': 0.0, 'Phoebe (to Mike)': 0.0, 'Mike (to the charity guy)': 4.0, 'Laura': 17.0, 'Monica and Chandler': -17.0, 'Agency guy': 7.0, 'Erica': 60.0, 'Phoebe (walking to Ross carrying a black leather jacket)': 0.0, 'TIME LAPS': -5.0, 'Adoption Agency guy': 0.0, 'Monica (puzzled)': 0.0, 'Missy': 2.0, 'Donny Osmond': 7.0, 'Donny': 43.0, 'Gene': 1.0, 'Roy, the male stripper': 0.0, 'Roy': -6.0, 'Henrietta': 0.0, 'Adrienne': 4.0, \"Present Chandler's voice\": 1.0, 'Pizza guy': 0.0, \"Mike's mother\": 1.0, \"Mike's father\": 1.0, \"Mike's mom\": 2.0, \"Mike's dad\": -2.0, 'Phoebe; Oh, incredible! Oh! Champagne, candle-lit dinners, moonlight walks on the beach, it was sooo ro-man-tic': 0.0, 'Rachel (leaving)': 0.0, \"Ross (he buzzes for the nurse) Let's see if we can get that Rachel back here\": 0.0, 'Tape': 3.0, 'Casting assistant': -1.0, 'Mr Zellner': 4.0, 'Mr Campbell': 2.0, 'All (except Rachel)': 0.0, 'Realtor': 1.0, 'Mackenzie': 10.0, 'Rita': -4.0, 'Mr Zelner': 16.0, 'Phoebe (doing Estelle)': 0.0, 'Phoebe-Estelle': 0.0, 'Lady': 4.0, 'r Zelner': 0.0, 'Rachel (she flips the coin)': 2.0, 'Chandler (to Joey)': 3.0, 'OPENING SEQUENC': 0.0, 'Monica (to Ross)': -1.0, 'Erica (standing up)': 0.0, 'Monica (enters the room)': 0.0, 'Phoebe (watching the food on the table)': 4.0, 'Rachel (crying)': 0.0, 'Joey (to Ross)': 1.0, 'Phoebe (to Rachel)': 0.0, 'Phoebe and Joey': 1.0, 'Jennifer Aniston (V.O.)': 0.0, 'Phoebe, Ross, Rachel': 0.0, 'Gate attendant #1': 2.0, 'Ticket agent': 0.0, 'Passenger #1': 4.0, 'Air stewardess': -8.0, 'Passenger #2': -2.0, 'Passenger #3': 0.0, 'Gate attendant #2': 2.0}\n"
          ]
        }
      ]
    },
    {
      "cell_type": "code",
      "source": [
        "import operator\n",
        "sorted_dict = sorted(friendly_dict.items(), key=operator.itemgetter(1), reverse=True)\n",
        "\n",
        "print('the friendliest friend: ', sorted_dict[0])"
      ],
      "metadata": {
        "colab": {
          "base_uri": "https://localhost:8080/"
        },
        "id": "Ge_vuXcV2GOs",
        "outputId": "8e886ca1-ac04-4880-845b-325ed8ce011a"
      },
      "execution_count": 52,
      "outputs": [
        {
          "output_type": "stream",
          "name": "stdout",
          "text": [
            "the friendliest friend:  ('Rachel', 4640.0)\n"
          ]
        }
      ]
    },
    {
      "cell_type": "code",
      "source": [
        "# Construct a classifier that can be given several text lines (quotes)\n",
        "# from a specific episode that will predict the episode's season number (20pt).\n",
        "\n",
        "sf[\"episode_number\"] = sf[\"episode_number\"].apply(lambda en: int(en))\n",
        "\n",
        "train,test = sf.random_split(0.8)\n",
        "cls = tc.classifier.create(train[:5000], features=[\"vector\"], target=\"episode_number\")"
      ],
      "metadata": {
        "colab": {
          "base_uri": "https://localhost:8080/",
          "height": 1000
        },
        "id": "HlrzY1ZG3Fby",
        "outputId": "1b18be9e-7400-400d-d14c-7bf8c106babe"
      },
      "execution_count": 53,
      "outputs": [
        {
          "output_type": "stream",
          "name": "stdout",
          "text": [
            "PROGRESS: Creating a validation set from 5 percent of training data. This may take a while.\n",
            "          You can set ``validation_set=None`` to disable validation tracking.\n",
            "\n",
            "PROGRESS: The following methods are available for this type of problem.\n",
            "PROGRESS: BoostedTreesClassifier, RandomForestClassifier, DecisionTreeClassifier, LogisticClassifier\n",
            "PROGRESS: The returned model will be chosen according to validation accuracy.\n"
          ]
        },
        {
          "output_type": "display_data",
          "data": {
            "text/html": [
              "<pre>Boosted trees classifier:</pre>"
            ],
            "text/plain": [
              "Boosted trees classifier:"
            ]
          },
          "metadata": {}
        },
        {
          "output_type": "display_data",
          "data": {
            "text/html": [
              "<pre>--------------------------------------------------------</pre>"
            ],
            "text/plain": [
              "--------------------------------------------------------"
            ]
          },
          "metadata": {}
        },
        {
          "output_type": "display_data",
          "data": {
            "text/html": [
              "<pre>Number of examples          : 4750</pre>"
            ],
            "text/plain": [
              "Number of examples          : 4750"
            ]
          },
          "metadata": {}
        },
        {
          "output_type": "display_data",
          "data": {
            "text/html": [
              "<pre>Number of classes           : 24</pre>"
            ],
            "text/plain": [
              "Number of classes           : 24"
            ]
          },
          "metadata": {}
        },
        {
          "output_type": "display_data",
          "data": {
            "text/html": [
              "<pre>Number of feature columns   : 1</pre>"
            ],
            "text/plain": [
              "Number of feature columns   : 1"
            ]
          },
          "metadata": {}
        },
        {
          "output_type": "display_data",
          "data": {
            "text/html": [
              "<pre>Number of unpacked features : 300</pre>"
            ],
            "text/plain": [
              "Number of unpacked features : 300"
            ]
          },
          "metadata": {}
        },
        {
          "output_type": "display_data",
          "data": {
            "text/html": [
              "<pre>+-----------+--------------+-------------------+---------------------+-------------------+---------------------+</pre>"
            ],
            "text/plain": [
              "+-----------+--------------+-------------------+---------------------+-------------------+---------------------+"
            ]
          },
          "metadata": {}
        },
        {
          "output_type": "display_data",
          "data": {
            "text/html": [
              "<pre>| Iteration | Elapsed Time | Training Accuracy | Validation Accuracy | Training Log Loss | Validation Log Loss |</pre>"
            ],
            "text/plain": [
              "| Iteration | Elapsed Time | Training Accuracy | Validation Accuracy | Training Log Loss | Validation Log Loss |"
            ]
          },
          "metadata": {}
        },
        {
          "output_type": "display_data",
          "data": {
            "text/html": [
              "<pre>+-----------+--------------+-------------------+---------------------+-------------------+---------------------+</pre>"
            ],
            "text/plain": [
              "+-----------+--------------+-------------------+---------------------+-------------------+---------------------+"
            ]
          },
          "metadata": {}
        },
        {
          "output_type": "display_data",
          "data": {
            "text/html": [
              "<pre>| 1         | 3.520954     | 0.437263          | 0.096000            | 2.652348          | 3.076070            |</pre>"
            ],
            "text/plain": [
              "| 1         | 3.520954     | 0.437263          | 0.096000            | 2.652348          | 3.076070            |"
            ]
          },
          "metadata": {}
        },
        {
          "output_type": "display_data",
          "data": {
            "text/html": [
              "<pre>| 2         | 7.036065     | 0.579158          | 0.132000            | 2.306829          | 3.038459            |</pre>"
            ],
            "text/plain": [
              "| 2         | 7.036065     | 0.579158          | 0.132000            | 2.306829          | 3.038459            |"
            ]
          },
          "metadata": {}
        },
        {
          "output_type": "display_data",
          "data": {
            "text/html": [
              "<pre>| 3         | 10.512148    | 0.700000          | 0.144000            | 2.011735          | 3.034563            |</pre>"
            ],
            "text/plain": [
              "| 3         | 10.512148    | 0.700000          | 0.144000            | 2.011735          | 3.034563            |"
            ]
          },
          "metadata": {}
        },
        {
          "output_type": "display_data",
          "data": {
            "text/html": [
              "<pre>| 4         | 14.026239    | 0.772421          | 0.152000            | 1.779540          | 2.999398            |</pre>"
            ],
            "text/plain": [
              "| 4         | 14.026239    | 0.772421          | 0.152000            | 1.779540          | 2.999398            |"
            ]
          },
          "metadata": {}
        },
        {
          "output_type": "display_data",
          "data": {
            "text/html": [
              "<pre>| 5         | 17.499400    | 0.838316          | 0.168000            | 1.560651          | 2.977561            |</pre>"
            ],
            "text/plain": [
              "| 5         | 17.499400    | 0.838316          | 0.168000            | 1.560651          | 2.977561            |"
            ]
          },
          "metadata": {}
        },
        {
          "output_type": "display_data",
          "data": {
            "text/html": [
              "<pre>| 7         | 24.405683    | 0.907579          | 0.164000            | 1.226544          | 2.976240            |</pre>"
            ],
            "text/plain": [
              "| 7         | 24.405683    | 0.907579          | 0.164000            | 1.226544          | 2.976240            |"
            ]
          },
          "metadata": {}
        },
        {
          "output_type": "display_data",
          "data": {
            "text/html": [
              "<pre>| 8         | 27.869303    | 0.922947          | 0.164000            | 1.083002          | 2.978710            |</pre>"
            ],
            "text/plain": [
              "| 8         | 27.869303    | 0.922947          | 0.164000            | 1.083002          | 2.978710            |"
            ]
          },
          "metadata": {}
        },
        {
          "output_type": "display_data",
          "data": {
            "text/html": [
              "<pre>| 9         | 31.310443    | 0.931158          | 0.164000            | 0.978299          | 2.981068            |</pre>"
            ],
            "text/plain": [
              "| 9         | 31.310443    | 0.931158          | 0.164000            | 0.978299          | 2.981068            |"
            ]
          },
          "metadata": {}
        },
        {
          "output_type": "display_data",
          "data": {
            "text/html": [
              "<pre>| 10        | 34.766276    | 0.937263          | 0.160000            | 0.880677          | 2.980999            |</pre>"
            ],
            "text/plain": [
              "| 10        | 34.766276    | 0.937263          | 0.160000            | 0.880677          | 2.980999            |"
            ]
          },
          "metadata": {}
        },
        {
          "output_type": "display_data",
          "data": {
            "text/html": [
              "<pre>+-----------+--------------+-------------------+---------------------+-------------------+---------------------+</pre>"
            ],
            "text/plain": [
              "+-----------+--------------+-------------------+---------------------+-------------------+---------------------+"
            ]
          },
          "metadata": {}
        },
        {
          "output_type": "display_data",
          "data": {
            "text/html": [
              "<pre>Random forest classifier:</pre>"
            ],
            "text/plain": [
              "Random forest classifier:"
            ]
          },
          "metadata": {}
        },
        {
          "output_type": "display_data",
          "data": {
            "text/html": [
              "<pre>--------------------------------------------------------</pre>"
            ],
            "text/plain": [
              "--------------------------------------------------------"
            ]
          },
          "metadata": {}
        },
        {
          "output_type": "display_data",
          "data": {
            "text/html": [
              "<pre>Number of examples          : 4750</pre>"
            ],
            "text/plain": [
              "Number of examples          : 4750"
            ]
          },
          "metadata": {}
        },
        {
          "output_type": "display_data",
          "data": {
            "text/html": [
              "<pre>Number of classes           : 24</pre>"
            ],
            "text/plain": [
              "Number of classes           : 24"
            ]
          },
          "metadata": {}
        },
        {
          "output_type": "display_data",
          "data": {
            "text/html": [
              "<pre>Number of feature columns   : 1</pre>"
            ],
            "text/plain": [
              "Number of feature columns   : 1"
            ]
          },
          "metadata": {}
        },
        {
          "output_type": "display_data",
          "data": {
            "text/html": [
              "<pre>Number of unpacked features : 300</pre>"
            ],
            "text/plain": [
              "Number of unpacked features : 300"
            ]
          },
          "metadata": {}
        },
        {
          "output_type": "display_data",
          "data": {
            "text/html": [
              "<pre>+-----------+--------------+-------------------+---------------------+-------------------+---------------------+</pre>"
            ],
            "text/plain": [
              "+-----------+--------------+-------------------+---------------------+-------------------+---------------------+"
            ]
          },
          "metadata": {}
        },
        {
          "output_type": "display_data",
          "data": {
            "text/html": [
              "<pre>| Iteration | Elapsed Time | Training Accuracy | Validation Accuracy | Training Log Loss | Validation Log Loss |</pre>"
            ],
            "text/plain": [
              "| Iteration | Elapsed Time | Training Accuracy | Validation Accuracy | Training Log Loss | Validation Log Loss |"
            ]
          },
          "metadata": {}
        },
        {
          "output_type": "display_data",
          "data": {
            "text/html": [
              "<pre>+-----------+--------------+-------------------+---------------------+-------------------+---------------------+</pre>"
            ],
            "text/plain": [
              "+-----------+--------------+-------------------+---------------------+-------------------+---------------------+"
            ]
          },
          "metadata": {}
        },
        {
          "output_type": "display_data",
          "data": {
            "text/html": [
              "<pre>| 1         | 2.631322     | 0.388421          | 0.100000            | 2.249589          | 3.506860            |</pre>"
            ],
            "text/plain": [
              "| 1         | 2.631322     | 0.388421          | 0.100000            | 2.249589          | 3.506860            |"
            ]
          },
          "metadata": {}
        },
        {
          "output_type": "display_data",
          "data": {
            "text/html": [
              "<pre>| 2         | 5.241239     | 0.501053          | 0.132000            | 1.996509          | 3.193293            |</pre>"
            ],
            "text/plain": [
              "| 2         | 5.241239     | 0.501053          | 0.132000            | 1.996509          | 3.193293            |"
            ]
          },
          "metadata": {}
        },
        {
          "output_type": "display_data",
          "data": {
            "text/html": [
              "<pre>| 3         | 7.873371     | 0.578105          | 0.132000            | 1.917639          | 3.091416            |</pre>"
            ],
            "text/plain": [
              "| 3         | 7.873371     | 0.578105          | 0.132000            | 1.917639          | 3.091416            |"
            ]
          },
          "metadata": {}
        },
        {
          "output_type": "display_data",
          "data": {
            "text/html": [
              "<pre>| 4         | 10.502302    | 0.630105          | 0.128000            | 1.892640          | 3.045412            |</pre>"
            ],
            "text/plain": [
              "| 4         | 10.502302    | 0.630105          | 0.128000            | 1.892640          | 3.045412            |"
            ]
          },
          "metadata": {}
        },
        {
          "output_type": "display_data",
          "data": {
            "text/html": [
              "<pre>| 5         | 13.098703    | 0.661895          | 0.132000            | 1.884724          | 3.039724            |</pre>"
            ],
            "text/plain": [
              "| 5         | 13.098703    | 0.661895          | 0.132000            | 1.884724          | 3.039724            |"
            ]
          },
          "metadata": {}
        },
        {
          "output_type": "display_data",
          "data": {
            "text/html": [
              "<pre>| 10        | 26.206730    | 0.753053          | 0.136000            | 1.854922          | 2.987490            |</pre>"
            ],
            "text/plain": [
              "| 10        | 26.206730    | 0.753053          | 0.136000            | 1.854922          | 2.987490            |"
            ]
          },
          "metadata": {}
        },
        {
          "output_type": "display_data",
          "data": {
            "text/html": [
              "<pre>+-----------+--------------+-------------------+---------------------+-------------------+---------------------+</pre>"
            ],
            "text/plain": [
              "+-----------+--------------+-------------------+---------------------+-------------------+---------------------+"
            ]
          },
          "metadata": {}
        },
        {
          "output_type": "display_data",
          "data": {
            "text/html": [
              "<pre>Decision tree classifier:</pre>"
            ],
            "text/plain": [
              "Decision tree classifier:"
            ]
          },
          "metadata": {}
        },
        {
          "output_type": "display_data",
          "data": {
            "text/html": [
              "<pre>--------------------------------------------------------</pre>"
            ],
            "text/plain": [
              "--------------------------------------------------------"
            ]
          },
          "metadata": {}
        },
        {
          "output_type": "display_data",
          "data": {
            "text/html": [
              "<pre>Number of examples          : 4750</pre>"
            ],
            "text/plain": [
              "Number of examples          : 4750"
            ]
          },
          "metadata": {}
        },
        {
          "output_type": "display_data",
          "data": {
            "text/html": [
              "<pre>Number of classes           : 24</pre>"
            ],
            "text/plain": [
              "Number of classes           : 24"
            ]
          },
          "metadata": {}
        },
        {
          "output_type": "display_data",
          "data": {
            "text/html": [
              "<pre>Number of feature columns   : 1</pre>"
            ],
            "text/plain": [
              "Number of feature columns   : 1"
            ]
          },
          "metadata": {}
        },
        {
          "output_type": "display_data",
          "data": {
            "text/html": [
              "<pre>Number of unpacked features : 300</pre>"
            ],
            "text/plain": [
              "Number of unpacked features : 300"
            ]
          },
          "metadata": {}
        },
        {
          "output_type": "display_data",
          "data": {
            "text/html": [
              "<pre>+-----------+--------------+-------------------+---------------------+-------------------+---------------------+</pre>"
            ],
            "text/plain": [
              "+-----------+--------------+-------------------+---------------------+-------------------+---------------------+"
            ]
          },
          "metadata": {}
        },
        {
          "output_type": "display_data",
          "data": {
            "text/html": [
              "<pre>| Iteration | Elapsed Time | Training Accuracy | Validation Accuracy | Training Log Loss | Validation Log Loss |</pre>"
            ],
            "text/plain": [
              "| Iteration | Elapsed Time | Training Accuracy | Validation Accuracy | Training Log Loss | Validation Log Loss |"
            ]
          },
          "metadata": {}
        },
        {
          "output_type": "display_data",
          "data": {
            "text/html": [
              "<pre>+-----------+--------------+-------------------+---------------------+-------------------+---------------------+</pre>"
            ],
            "text/plain": [
              "+-----------+--------------+-------------------+---------------------+-------------------+---------------------+"
            ]
          },
          "metadata": {}
        },
        {
          "output_type": "display_data",
          "data": {
            "text/html": [
              "<pre>| 1         | 3.502088     | 0.437263          | 0.096000            | 2.106259          | 3.477150            |</pre>"
            ],
            "text/plain": [
              "| 1         | 3.502088     | 0.437263          | 0.096000            | 2.106259          | 3.477150            |"
            ]
          },
          "metadata": {}
        },
        {
          "output_type": "display_data",
          "data": {
            "text/html": [
              "<pre>+-----------+--------------+-------------------+---------------------+-------------------+---------------------+</pre>"
            ],
            "text/plain": [
              "+-----------+--------------+-------------------+---------------------+-------------------+---------------------+"
            ]
          },
          "metadata": {}
        },
        {
          "output_type": "display_data",
          "data": {
            "text/html": [
              "<pre>Logistic regression:</pre>"
            ],
            "text/plain": [
              "Logistic regression:"
            ]
          },
          "metadata": {}
        },
        {
          "output_type": "display_data",
          "data": {
            "text/html": [
              "<pre>--------------------------------------------------------</pre>"
            ],
            "text/plain": [
              "--------------------------------------------------------"
            ]
          },
          "metadata": {}
        },
        {
          "output_type": "display_data",
          "data": {
            "text/html": [
              "<pre>Number of examples          : 4750</pre>"
            ],
            "text/plain": [
              "Number of examples          : 4750"
            ]
          },
          "metadata": {}
        },
        {
          "output_type": "display_data",
          "data": {
            "text/html": [
              "<pre>Number of classes           : 24</pre>"
            ],
            "text/plain": [
              "Number of classes           : 24"
            ]
          },
          "metadata": {}
        },
        {
          "output_type": "display_data",
          "data": {
            "text/html": [
              "<pre>Number of feature columns   : 1</pre>"
            ],
            "text/plain": [
              "Number of feature columns   : 1"
            ]
          },
          "metadata": {}
        },
        {
          "output_type": "display_data",
          "data": {
            "text/html": [
              "<pre>Number of unpacked features : 300</pre>"
            ],
            "text/plain": [
              "Number of unpacked features : 300"
            ]
          },
          "metadata": {}
        },
        {
          "output_type": "display_data",
          "data": {
            "text/html": [
              "<pre>Number of coefficients      : 6923</pre>"
            ],
            "text/plain": [
              "Number of coefficients      : 6923"
            ]
          },
          "metadata": {}
        },
        {
          "output_type": "display_data",
          "data": {
            "text/html": [
              "<pre>Starting L-BFGS</pre>"
            ],
            "text/plain": [
              "Starting L-BFGS"
            ]
          },
          "metadata": {}
        },
        {
          "output_type": "display_data",
          "data": {
            "text/html": [
              "<pre>--------------------------------------------------------</pre>"
            ],
            "text/plain": [
              "--------------------------------------------------------"
            ]
          },
          "metadata": {}
        },
        {
          "output_type": "display_data",
          "data": {
            "text/html": [
              "<pre>+-----------+----------+-----------+--------------+-------------------+---------------------+</pre>"
            ],
            "text/plain": [
              "+-----------+----------+-----------+--------------+-------------------+---------------------+"
            ]
          },
          "metadata": {}
        },
        {
          "output_type": "display_data",
          "data": {
            "text/html": [
              "<pre>| Iteration | Passes   | Step size | Elapsed Time | Training Accuracy | Validation Accuracy |</pre>"
            ],
            "text/plain": [
              "| Iteration | Passes   | Step size | Elapsed Time | Training Accuracy | Validation Accuracy |"
            ]
          },
          "metadata": {}
        },
        {
          "output_type": "display_data",
          "data": {
            "text/html": [
              "<pre>+-----------+----------+-----------+--------------+-------------------+---------------------+</pre>"
            ],
            "text/plain": [
              "+-----------+----------+-----------+--------------+-------------------+---------------------+"
            ]
          },
          "metadata": {}
        },
        {
          "output_type": "display_data",
          "data": {
            "text/html": [
              "<pre>| 0         | 2        | 1.000000  | 0.204966     | 0.107158          | 0.100000            |</pre>"
            ],
            "text/plain": [
              "| 0         | 2        | 1.000000  | 0.204966     | 0.107158          | 0.100000            |"
            ]
          },
          "metadata": {}
        },
        {
          "output_type": "display_data",
          "data": {
            "text/html": [
              "<pre>| 1         | 5        | 5.000000  | 0.552164     | 0.158316          | 0.136000            |</pre>"
            ],
            "text/plain": [
              "| 1         | 5        | 5.000000  | 0.552164     | 0.158316          | 0.136000            |"
            ]
          },
          "metadata": {}
        },
        {
          "output_type": "display_data",
          "data": {
            "text/html": [
              "<pre>| 2         | 6        | 5.000000  | 0.740304     | 0.111368          | 0.112000            |</pre>"
            ],
            "text/plain": [
              "| 2         | 6        | 5.000000  | 0.740304     | 0.111368          | 0.112000            |"
            ]
          },
          "metadata": {}
        },
        {
          "output_type": "display_data",
          "data": {
            "text/html": [
              "<pre>| 3         | 10       | 2.103245  | 1.141049     | 0.185474          | 0.184000            |</pre>"
            ],
            "text/plain": [
              "| 3         | 10       | 2.103245  | 1.141049     | 0.185474          | 0.184000            |"
            ]
          },
          "metadata": {}
        },
        {
          "output_type": "display_data",
          "data": {
            "text/html": [
              "<pre>| 4         | 12       | 2.088565  | 1.409064     | 0.174316          | 0.136000            |</pre>"
            ],
            "text/plain": [
              "| 4         | 12       | 2.088565  | 1.409064     | 0.174316          | 0.136000            |"
            ]
          },
          "metadata": {}
        },
        {
          "output_type": "display_data",
          "data": {
            "text/html": [
              "<pre>| 9         | 19       | 1.000000  | 2.443794     | 0.260632          | 0.164000            |</pre>"
            ],
            "text/plain": [
              "| 9         | 19       | 1.000000  | 2.443794     | 0.260632          | 0.164000            |"
            ]
          },
          "metadata": {}
        },
        {
          "output_type": "display_data",
          "data": {
            "text/html": [
              "<pre>+-----------+----------+-----------+--------------+-------------------+---------------------+</pre>"
            ],
            "text/plain": [
              "+-----------+----------+-----------+--------------+-------------------+---------------------+"
            ]
          },
          "metadata": {}
        },
        {
          "output_type": "stream",
          "name": "stdout",
          "text": [
            "PROGRESS: Model selection based on validation accuracy:\n",
            "PROGRESS: ---------------------------------------------\n",
            "PROGRESS: BoostedTreesClassifier          : 0.16\n",
            "PROGRESS: RandomForestClassifier          : 0.136\n",
            "PROGRESS: DecisionTreeClassifier          : 0.096\n",
            "PROGRESS: LogisticClassifier              : 0.164\n",
            "PROGRESS: ---------------------------------------------\n",
            "PROGRESS: Selecting LogisticClassifier based on validation set performance.\n"
          ]
        }
      ]
    },
    {
      "cell_type": "code",
      "source": [
        "cls.evaluate(test[:2000])"
      ],
      "metadata": {
        "id": "k7EAJxl56jo6",
        "outputId": "661e17d6-eada-4034-9b3d-e324fc082d59",
        "colab": {
          "base_uri": "https://localhost:8080/"
        }
      },
      "execution_count": 56,
      "outputs": [
        {
          "output_type": "execute_result",
          "data": {
            "text/plain": [
              "{'accuracy': 0.12, 'auc': 0.6152675714036004, 'confusion_matrix': Columns:\n",
              " \ttarget_label\tint\n",
              " \tpredicted_label\tint\n",
              " \tcount\tint\n",
              " \n",
              " Rows: 455\n",
              " \n",
              " Data:\n",
              " +--------------+-----------------+-------+\n",
              " | target_label | predicted_label | count |\n",
              " +--------------+-----------------+-------+\n",
              " |      24      |        12       |   7   |\n",
              " |      24      |        14       |   2   |\n",
              " |      9       |        24       |   4   |\n",
              " |      22      |        3        |   4   |\n",
              " |      6       |        5        |   6   |\n",
              " |      1       |        19       |   2   |\n",
              " |      2       |        3        |   4   |\n",
              " |      9       |        15       |   1   |\n",
              " |      1       |        8        |   1   |\n",
              " |      8       |        4        |   1   |\n",
              " +--------------+-----------------+-------+\n",
              " [455 rows x 3 columns]\n",
              " Note: Only the head of the SFrame is printed.\n",
              " You can use print_rows(num_rows=m, num_columns=n) to print more rows and columns., 'f1_score': 0.11243338351318644, 'log_loss': 3.7957353446119417, 'precision': 0.13915989015197505, 'recall': 0.11324728075374102, 'roc_curve': Columns:\n",
              " \tthreshold\tfloat\n",
              " \tfpr\tfloat\n",
              " \ttpr\tfloat\n",
              " \tp\tint\n",
              " \tn\tint\n",
              " \tclass\tint\n",
              " \n",
              " Rows: 24024\n",
              " \n",
              " Data:\n",
              " +-----------+--------------------+--------------------+-----+------+-------+\n",
              " | threshold |        fpr         |        tpr         |  p  |  n   | class |\n",
              " +-----------+--------------------+--------------------+-----+------+-------+\n",
              " |    0.0    |        1.0         |        1.0         | 101 | 1899 |   0   |\n",
              " |   0.001   | 0.9694576092680358 | 0.9900990099009901 | 101 | 1899 |   0   |\n",
              " |   0.002   | 0.9678778304370721 | 0.9900990099009901 | 101 | 1899 |   0   |\n",
              " |   0.003   | 0.9678778304370721 | 0.9900990099009901 | 101 | 1899 |   0   |\n",
              " |   0.004   | 0.9673512374934176 | 0.9900990099009901 | 101 | 1899 |   0   |\n",
              " |   0.005   | 0.966824644549763  | 0.9900990099009901 | 101 | 1899 |   0   |\n",
              " |   0.006   | 0.9647182727751448 | 0.9900990099009901 | 101 | 1899 |   0   |\n",
              " |   0.007   | 0.9620853080568721 | 0.9900990099009901 | 101 | 1899 |   0   |\n",
              " |   0.008   | 0.9610321221695629 | 0.9900990099009901 | 101 | 1899 |   0   |\n",
              " |   0.009   | 0.9599789362822538 | 0.9900990099009901 | 101 | 1899 |   0   |\n",
              " +-----------+--------------------+--------------------+-----+------+-------+\n",
              " [24024 rows x 6 columns]\n",
              " Note: Only the head of the SFrame is printed.\n",
              " You can use print_rows(num_rows=m, num_columns=n) to print more rows and columns.}"
            ]
          },
          "metadata": {},
          "execution_count": 56
        }
      ]
    },
    {
      "cell_type": "code",
      "source": [
        "def predict_episode(quote):\n",
        "  sf2 = tc.SFrame()\n",
        "  sf2['quote'] = [quote]\n",
        "  pred = cls.classify(sf2)\n",
        "  return pred['class'][0], pred['probability'][0]"
      ],
      "metadata": {
        "id": "yQ2UKMOD3vq8"
      },
      "execution_count": 54,
      "outputs": []
    },
    {
      "cell_type": "code",
      "source": [
        "episode, prob = predict_episode('Hello Joey!')\n",
        "print(f\"Quote belongs to episode: {episode} in probability of: {prob}\")\n",
        "\n",
        "episode, prob = predict_episode('Sounds like a date to me.')\n",
        "print(f\"Quote belongs to episode: {episode} in probability of: {prob}\")"
      ],
      "metadata": {
        "colab": {
          "base_uri": "https://localhost:8080/"
        },
        "id": "pVgEwO4W4bdD",
        "outputId": "a865f950-d109-4f73-d0cc-2b3862fbd4a4"
      },
      "execution_count": 55,
      "outputs": [
        {
          "output_type": "stream",
          "name": "stdout",
          "text": [
            "Quote belongs to episode: 1 in probability of: 0.12836032819132737\n",
            "Quote belongs to episode: 1 in probability of: 0.12836032819132737\n"
          ]
        }
      ]
    }
  ]
}